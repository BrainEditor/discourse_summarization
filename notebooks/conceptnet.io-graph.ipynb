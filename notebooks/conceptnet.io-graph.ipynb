{
 "metadata": {
  "name": "",
  "signature": "sha256:d395f487f205414c398517bd89b8754a58a392c79f8811262984b5f81167c8e0"
 },
 "nbformat": 3,
 "nbformat_minor": 0,
 "worksheets": [
  {
   "cells": [
    {
     "cell_type": "heading",
     "level": 1,
     "metadata": {},
     "source": [
      "# Imports "
     ]
    },
    {
     "cell_type": "code",
     "collapsed": false,
     "input": [
      "import requests"
     ],
     "language": "python",
     "metadata": {},
     "outputs": [],
     "prompt_number": 1
    },
    {
     "cell_type": "code",
     "collapsed": false,
     "input": [
      "import networkx as nx\n",
      "import matplotlib.pyplot as plt\n",
      "import pylab"
     ],
     "language": "python",
     "metadata": {},
     "outputs": [],
     "prompt_number": 2
    },
    {
     "cell_type": "code",
     "collapsed": false,
     "input": [
      "from networkx_viewer import Viewer"
     ],
     "language": "python",
     "metadata": {},
     "outputs": [],
     "prompt_number": 3
    },
    {
     "cell_type": "heading",
     "level": 1,
     "metadata": {},
     "source": [
      "# Example concept "
     ]
    },
    {
     "cell_type": "code",
     "collapsed": false,
     "input": [
      "obj = requests.get('http://api.conceptnet.io/c/en/camera').json()\n",
      "obj.keys()"
     ],
     "language": "python",
     "metadata": {},
     "outputs": [
      {
       "metadata": {},
       "output_type": "pyout",
       "prompt_number": 4,
       "text": [
        "[u'@context', u'edges', u'@id', u'view']"
       ]
      }
     ],
     "prompt_number": 4
    },
    {
     "cell_type": "code",
     "collapsed": false,
     "input": [
      "obj['@id']"
     ],
     "language": "python",
     "metadata": {},
     "outputs": [
      {
       "metadata": {},
       "output_type": "pyout",
       "prompt_number": 5,
       "text": [
        "u'/c/en/camera'"
       ]
      }
     ],
     "prompt_number": 5
    },
    {
     "cell_type": "code",
     "collapsed": false,
     "input": [
      "obj['@context']"
     ],
     "language": "python",
     "metadata": {},
     "outputs": [
      {
       "metadata": {},
       "output_type": "pyout",
       "prompt_number": 6,
       "text": [
        "[u'http://api.conceptnet.io/ld/conceptnet5.5/context.ld.json',\n",
        " u'http://api.conceptnet.io/ld/conceptnet5.5/pagination.ld.json']"
       ]
      }
     ],
     "prompt_number": 6
    },
    {
     "cell_type": "code",
     "collapsed": false,
     "input": [
      "obj['view']"
     ],
     "language": "python",
     "metadata": {},
     "outputs": [
      {
       "metadata": {},
       "output_type": "pyout",
       "prompt_number": 7,
       "text": [
        "{u'@id': u'/c/en/camera?offset=0&limit=20',\n",
        " u'firstPage': u'/c/en/camera?offset=0&limit=20',\n",
        " u'nextPage': u'/c/en/camera?offset=20&limit=20',\n",
        " u'paginatedProperty': u'edges'}"
       ]
      }
     ],
     "prompt_number": 7
    },
    {
     "cell_type": "code",
     "collapsed": false,
     "input": [
      "len(obj['edges'])"
     ],
     "language": "python",
     "metadata": {},
     "outputs": [
      {
       "metadata": {},
       "output_type": "pyout",
       "prompt_number": 8,
       "text": [
        "20"
       ]
      }
     ],
     "prompt_number": 8
    },
    {
     "cell_type": "heading",
     "level": 1,
     "metadata": {},
     "source": [
      "# Relations for aspect's hierarchy "
     ]
    },
    {
     "cell_type": "code",
     "collapsed": false,
     "input": [
      "relations_aspects = ['LocatedNear', 'HasA', 'PartOf', 'MadeOf', 'IsA', 'InheritsFrom']"
     ],
     "language": "python",
     "metadata": {},
     "outputs": [],
     "prompt_number": 9
    },
    {
     "cell_type": "heading",
     "level": 1,
     "metadata": {},
     "source": [
      "# Get relation types "
     ]
    },
    {
     "cell_type": "code",
     "collapsed": false,
     "input": [
      "for edge in obj['edges']:\n",
      "#     print edge['@id']\n",
      "    print edge['start']['label'], edge['rel']['label'], edge['end']['label']"
     ],
     "language": "python",
     "metadata": {},
     "outputs": [
      {
       "output_type": "stream",
       "stream": "stdout",
       "text": [
        "a camera UsedFor take pictures\n",
        "a lens AtLocation the camera\n",
        "picture RelatedTo camera\n",
        "flash RelatedTo camera\n",
        "Camera HasA a flash\n",
        "a camera AtLocation a suitcase\n",
        "box camera IsA camera\n",
        "A camera IsA a tool for taking pictures\n",
        "camera IsA photographic equipment\n",
        "candid camera IsA camera\n",
        "flash camera IsA camera\n",
        "motion-picture camera IsA camera\n",
        "point-and-shoot camera IsA camera\n",
        "portrait camera IsA camera\n",
        "reflex camera IsA camera\n",
        "aperture PartOf camera\n",
        "camera lens PartOf camera\n",
        "delayed action PartOf camera\n",
        "diaphragm PartOf camera\n",
        "finder PartOf camera\n"
       ]
      }
     ],
     "prompt_number": 10
    },
    {
     "cell_type": "heading",
     "level": 1,
     "metadata": {},
     "source": [
      "# Create graph based on relations  "
     ]
    },
    {
     "cell_type": "code",
     "collapsed": false,
     "input": [
      "# chosen concepts to build a graph\n",
      "concept_names = ['camera', 'screen', 'phone', 'signal', 'operator', 'computer screen']"
     ],
     "language": "python",
     "metadata": {},
     "outputs": [],
     "prompt_number": 10
    },
    {
     "cell_type": "code",
     "collapsed": false,
     "input": [
      "# %%timeit -r 1\n",
      "\n",
      "concepts = []\n",
      "for concept_name in concept_names:\n",
      "    concepts += requests.get('http://api.conceptnet.io/c/en/{}'.format(concept_name)).json()['edges']"
     ],
     "language": "python",
     "metadata": {},
     "outputs": [],
     "prompt_number": 15
    },
    {
     "cell_type": "code",
     "collapsed": false,
     "input": [
      "len(concepts)"
     ],
     "language": "python",
     "metadata": {},
     "outputs": [
      {
       "metadata": {},
       "output_type": "pyout",
       "prompt_number": 17,
       "text": [
        "100"
       ]
      }
     ],
     "prompt_number": 17
    },
    {
     "cell_type": "code",
     "collapsed": false,
     "input": [
      "aspects_graph = nx.DiGraph()"
     ],
     "language": "python",
     "metadata": {},
     "outputs": [],
     "prompt_number": 18
    },
    {
     "cell_type": "code",
     "collapsed": false,
     "input": [
      "for edge in concepts:\n",
      "    relation = edge['rel']['label']\n",
      "    if relation in relations_aspects:\n",
      "        aspects_graph.add_edge(edge['start']['label'], edge['end']['label'], relation=relation)"
     ],
     "language": "python",
     "metadata": {},
     "outputs": [],
     "prompt_number": 19
    },
    {
     "cell_type": "code",
     "collapsed": false,
     "input": [
      "# dict([((u,v,),d['relation']) for u,v,d in aspects_graph.edges(data=True)])"
     ],
     "language": "python",
     "metadata": {},
     "outputs": [],
     "prompt_number": 20
    },
    {
     "cell_type": "code",
     "collapsed": false,
     "input": [
      "edge_labels = dict([((u,v,),d['relation']) for u,v,d in aspects_graph.edges(data=True)])\n",
      "node_labels = {n:n for n in aspects_graph.nodes()}\n",
      "\n",
      "# pos = nx.spring_layout(aspects_graph)\n",
      "pos = nx.random_layout(aspects_graph)\n",
      "nx.draw_networkx_edge_labels(aspects_graph, pos, edge_labels=edge_labels, font_size=6)\n",
      "nx.draw_networkx_labels(aspects_graph, pos, labels=node_labels, font_size=6)\n",
      "nx.draw(aspects_graph, pos, node_size=150, edge_cmap=plt.cm.Reds)\n",
      "# plt.show()"
     ],
     "language": "python",
     "metadata": {},
     "outputs": [],
     "prompt_number": 27
    },
    {
     "cell_type": "code",
     "collapsed": false,
     "input": [
      "plt.savefig('concepts-graph.png', dpi=300)"
     ],
     "language": "python",
     "metadata": {},
     "outputs": [],
     "prompt_number": 28
    },
    {
     "cell_type": "code",
     "collapsed": false,
     "input": [
      "app = Viewer(aspects_graph)\n",
      "app.mainloop()"
     ],
     "language": "python",
     "metadata": {},
     "outputs": [],
     "prompt_number": 30
    },
    {
     "cell_type": "code",
     "collapsed": false,
     "input": [
      "nx.write_gexf(aspects_graph, 'concept-graph.gexf')"
     ],
     "language": "python",
     "metadata": {},
     "outputs": [],
     "prompt_number": 32
    },
    {
     "cell_type": "code",
     "collapsed": false,
     "input": [],
     "language": "python",
     "metadata": {},
     "outputs": []
    }
   ],
   "metadata": {}
  }
 ]
}