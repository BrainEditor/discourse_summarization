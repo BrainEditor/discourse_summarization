{
 "metadata": {
  "name": "",
  "signature": "sha256:a6b6a2453e0d662d5e634d3eee7e71fd6071dd3e8f63305418a505f80c1232da"
 },
 "nbformat": 3,
 "nbformat_minor": 0,
 "worksheets": [
  {
   "cells": [
    {
     "cell_type": "heading",
     "level": 1,
     "metadata": {},
     "source": [
      "Imports "
     ]
    },
    {
     "cell_type": "code",
     "collapsed": false,
     "input": [
      "%load_ext autoreload\n",
      "%autoreload 2"
     ],
     "language": "python",
     "metadata": {},
     "outputs": [],
     "prompt_number": 14
    },
    {
     "cell_type": "code",
     "collapsed": false,
     "input": [
      "from os.path import basename, join, exists\n",
      "from os import system, makedirs\n",
      "from glob import glob\n",
      "from pprint import pprint\n",
      "\n",
      "from IPython.display import Image, display\n",
      "from nltk.draw import TreeWidget\n",
      "from nltk.draw.util import CanvasFrame\n",
      "from nltk.tree import Tree\n",
      "\n",
      "import sys\n",
      "import re\n",
      "\n",
      "from wordcloud import WordCloud\n",
      "from bs4 import BeautifulSoup\n",
      "\n",
      "import requests\n",
      "import simplejson\n",
      "import numpy as np\n",
      "import pandas as pd\n",
      "import networkx as nx\n",
      "import matplotlib.pyplot as plt\n",
      "\n",
      "sys.path.append(\"../edu_dependency_parser/src\")\n",
      "\n",
      "from trees.parse_tree import ParseTree\n",
      "\n",
      "%matplotlib inline"
     ],
     "language": "python",
     "metadata": {},
     "outputs": [],
     "prompt_number": 67
    },
    {
     "cell_type": "heading",
     "level": 1,
     "metadata": {},
     "source": [
      "Utils functions "
     ]
    },
    {
     "cell_type": "code",
     "collapsed": false,
     "input": [
      "from utils import load_serialized, flatten_list"
     ],
     "language": "python",
     "metadata": {},
     "outputs": [],
     "prompt_number": 23
    },
    {
     "cell_type": "heading",
     "level": 1,
     "metadata": {},
     "source": [
      "Path to the results "
     ]
    },
    {
     "cell_type": "code",
     "collapsed": false,
     "input": [
      "data_path = '../results/ipod'\n",
      "dataset_name = basename(data_path)\n",
      "data_path_trees = join(data_path,  'edu_trees_dir')"
     ],
     "language": "python",
     "metadata": {},
     "outputs": [],
     "prompt_number": 17
    },
    {
     "cell_type": "heading",
     "level": 1,
     "metadata": {},
     "source": [
      "Get parse trees "
     ]
    },
    {
     "cell_type": "code",
     "collapsed": false,
     "input": [
      "tree_names = [ basename(x) for x in glob(join(data_path_trees, '*.tree.ser'))]"
     ],
     "language": "python",
     "metadata": {},
     "outputs": [],
     "prompt_number": 29
    },
    {
     "cell_type": "code",
     "collapsed": false,
     "input": [
      "tree_names[:10]"
     ],
     "language": "python",
     "metadata": {},
     "outputs": [
      {
       "metadata": {},
       "output_type": "pyout",
       "prompt_number": 30,
       "text": [
        "['230.tree.ser',\n",
        " '47.tree.ser',\n",
        " '8.tree.ser',\n",
        " '376.tree.ser',\n",
        " '363.tree.ser',\n",
        " '151.tree.ser',\n",
        " '90.tree.ser',\n",
        " '234.tree.ser',\n",
        " '358.tree.ser',\n",
        " '269.tree.ser']"
       ]
      }
     ],
     "prompt_number": 30
    },
    {
     "cell_type": "code",
     "collapsed": false,
     "input": [
      "join(data_path_trees, tree_names[0])"
     ],
     "language": "python",
     "metadata": {},
     "outputs": [
      {
       "metadata": {},
       "output_type": "pyout",
       "prompt_number": 34,
       "text": [
        "'../results/ipod/edu_trees_dir/230.tree.ser'"
       ]
      }
     ],
     "prompt_number": 34
    },
    {
     "cell_type": "code",
     "collapsed": false,
     "input": [
      "tree_name = tree_names[0]\n",
      "parsed_tree = load_serialized(join(data_path_trees, tree_name))"
     ],
     "language": "python",
     "metadata": {},
     "outputs": [],
     "prompt_number": 50
    },
    {
     "cell_type": "code",
     "collapsed": false,
     "input": [
      "pprint(parsed_tree.pprint())"
     ],
     "language": "python",
     "metadata": {},
     "outputs": [
      {
       "output_type": "stream",
       "stream": "stdout",
       "text": [
        "'(Joint[N][N]\\n  _!U With accessories , you can make the iPod into a digital recorder ,!_\\n  (Joint[N][N]\\n    (Elaboration[N][S]\\n      _!broadcast it remotely through stereo speakers!_\\n      _!using wireless technology ,!_)\\n    (Elaboration[N][S]\\n      _!and play it through your car speakers!_\\n      _!using either a CD adaptor or FM stereo broadcaster.q . <P>!_)))'\n"
       ]
      }
     ],
     "prompt_number": 36
    },
    {
     "cell_type": "code",
     "collapsed": false,
     "input": [
      "parsed_tree.draw()"
     ],
     "language": "python",
     "metadata": {},
     "outputs": [],
     "prompt_number": 37
    },
    {
     "cell_type": "heading",
     "level": 1,
     "metadata": {},
     "source": [
      "Get name of relations"
     ]
    },
    {
     "cell_type": "code",
     "collapsed": false,
     "input": [
      "parsed_tree.node"
     ],
     "language": "python",
     "metadata": {},
     "outputs": [
      {
       "metadata": {},
       "output_type": "pyout",
       "prompt_number": 38,
       "text": [
        "'Joint[N][N]'"
       ]
      }
     ],
     "prompt_number": 38
    },
    {
     "cell_type": "heading",
     "level": 1,
     "metadata": {},
     "source": [
      "Get EDU texts "
     ]
    },
    {
     "cell_type": "code",
     "collapsed": false,
     "input": [
      "edus = load_serialized(join(data_path, 'edu_trees_dir', '0.tree.ser'))"
     ],
     "language": "python",
     "metadata": {},
     "outputs": [],
     "prompt_number": 46
    },
    {
     "cell_type": "code",
     "collapsed": false,
     "input": [
      "edus[0]"
     ],
     "language": "python",
     "metadata": {},
     "outputs": [
      {
       "metadata": {},
       "output_type": "pyout",
       "prompt_number": 44,
       "text": [
        "ParseTree('Attribution[N][S]', ['_!UuIf you can get past this little flaw ,!_', '_!give the ipod 5 stars ,!_'])"
       ]
      }
     ],
     "prompt_number": 44
    },
    {
     "cell_type": "heading",
     "level": 1,
     "metadata": {},
     "source": [
      "Draw parse tree"
     ]
    },
    {
     "cell_type": "code",
     "collapsed": false,
     "input": [
      "def jupyter_draw_nltk_tree(tree, directory='trees', f_name='tmp'):\n",
      "    f_name = join(directory, f_name)\n",
      "    if not exists(directory):\n",
      "        makedirs(directory)\n",
      "    \n",
      "    cf = CanvasFrame()\n",
      "    tc = TreeWidget(cf.canvas(), tree)\n",
      "    tc['node_font'] = 'arial 13 bold'\n",
      "    tc['leaf_font'] = 'arial 14'\n",
      "    tc['node_color'] = '#005990'\n",
      "    tc['leaf_color'] = '#3F8F57'\n",
      "    tc['line_color'] = '#175252'\n",
      "    cf.add_widget(tc, 20, 20)\n",
      "    cf.print_to_file('{}.ps'.format(f_name))\n",
      "    cf.destroy()\n",
      "    system('convert {}.ps {}.png'.format(f_name, f_name))\n",
      "#     display(Image(filename='{}.png'.format(f_name)))\n",
      "    system('rm {}.ps'.format(f_name))"
     ],
     "language": "python",
     "metadata": {},
     "outputs": [],
     "prompt_number": 73
    },
    {
     "cell_type": "code",
     "collapsed": false,
     "input": [
      "jupyter_draw_nltk_tree(parsed_tree, 'trees', dataset_name + tree_name)"
     ],
     "language": "python",
     "metadata": {},
     "outputs": [],
     "prompt_number": 74
    },
    {
     "cell_type": "heading",
     "level": 1,
     "metadata": {},
     "source": [
      "Draw all trees in dataset"
     ]
    },
    {
     "cell_type": "code",
     "collapsed": false,
     "input": [
      "for t in tree_names:\n",
      "    parsed_tree = load_serialized(join(data_path_trees, t))\n",
      "    jupyter_draw_nltk_tree(tree=parsed_tree, f_name=dataset_name + t)"
     ],
     "language": "python",
     "metadata": {},
     "outputs": [],
     "prompt_number": 75
    },
    {
     "cell_type": "heading",
     "level": 1,
     "metadata": {},
     "source": [
      "Process trees"
     ]
    },
    {
     "cell_type": "code",
     "collapsed": false,
     "input": [
      "def __process_tree(tree):\n",
      "    relations = []\n",
      "    for index, node in enumerate(tree):\n",
      "        # go to the subtree\n",
      "        if isinstance(node, ParseTree):\n",
      "#             print(node.node)\n",
      "            relations.append(node.node)\n",
      "            __process_tree(node)\n",
      "        # recursively until leaf\n",
      "        else:\n",
      "            # leaf, parent/current subtree, index of leaf in the tree\n",
      "            __traverse_parent(node, tree, index)\n",
      "    return relations\n",
      "\n",
      "def __traverse_parent(leaf, parent, child_index):\n",
      "    # leaf = child\n",
      "    if parent is not None:\n",
      "        for id in range(child_index + 1, len(parent)):\n",
      "            pass\n",
      "#             print(leaf, parent[id])\n",
      "#             print('--')\n",
      "\n",
      "        if parent.parent is not None:\n",
      "            __traverse_parent(leaf, parent.parent, parent.parent_index)"
     ],
     "language": "python",
     "metadata": {},
     "outputs": []
    },
    {
     "cell_type": "code",
     "collapsed": false,
     "input": [
      "# without root node\n",
      "\n",
      "def traverseTree(tree):\n",
      "#     print(\"tree:\", tree)\n",
      "    for subtree in tree:\n",
      "        if type(subtree) == Tree:\n",
      "            traverseTree(subtree)\n",
      "        print subtree\n",
      "traverseTree(parsed_tree)"
     ],
     "language": "python",
     "metadata": {},
     "outputs": [
      {
       "output_type": "stream",
       "stream": "stdout",
       "text": [
        "935\n",
        "(Joint[N][N] 936 937)\n"
       ]
      }
     ],
     "prompt_number": 36
    },
    {
     "cell_type": "code",
     "collapsed": false,
     "input": [],
     "language": "python",
     "metadata": {},
     "outputs": []
    }
   ],
   "metadata": {}
  }
 ]
}