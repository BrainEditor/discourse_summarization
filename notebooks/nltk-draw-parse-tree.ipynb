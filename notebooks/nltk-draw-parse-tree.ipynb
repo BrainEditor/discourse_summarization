{
 "metadata": {
  "name": "",
  "signature": "sha256:3d24df24b4836b4a3b316674f7f3934a145d5ebbc4fa3a02e331bdf771085f18"
 },
 "nbformat": 3,
 "nbformat_minor": 0,
 "worksheets": [
  {
   "cells": [
    {
     "cell_type": "heading",
     "level": 1,
     "metadata": {},
     "source": [
      "Imports "
     ]
    },
    {
     "cell_type": "code",
     "collapsed": false,
     "input": [
      "%load_ext autoreload\n",
      "%autoreload 2"
     ],
     "language": "python",
     "metadata": {},
     "outputs": [],
     "prompt_number": 14
    },
    {
     "cell_type": "code",
     "collapsed": false,
     "input": [
      "from os.path import basename, join, exists\n",
      "from os import system, makedirs\n",
      "from glob import glob\n",
      "from pprint import pprint\n",
      "\n",
      "from IPython.display import Image, display\n",
      "from nltk.draw import TreeWidget\n",
      "from nltk.draw.util import CanvasFrame\n",
      "from nltk.tree import Tree\n",
      "\n",
      "import sys\n",
      "import re\n",
      "\n",
      "from wordcloud import WordCloud\n",
      "from bs4 import BeautifulSoup\n",
      "\n",
      "import requests\n",
      "import simplejson\n",
      "import numpy as np\n",
      "import pandas as pd\n",
      "import networkx as nx\n",
      "import matplotlib.pyplot as plt\n",
      "\n",
      "sys.path.append(\"../edu_dependency_parser/src\")\n",
      "\n",
      "from trees.parse_tree import ParseTree\n",
      "\n",
      "%matplotlib inline"
     ],
     "language": "python",
     "metadata": {},
     "outputs": [],
     "prompt_number": 67
    },
    {
     "cell_type": "heading",
     "level": 1,
     "metadata": {},
     "source": [
      "Utils functions "
     ]
    },
    {
     "cell_type": "code",
     "collapsed": false,
     "input": [
      "from utils import load_serialized, flatten_list"
     ],
     "language": "python",
     "metadata": {},
     "outputs": [],
     "prompt_number": 23
    },
    {
     "cell_type": "heading",
     "level": 1,
     "metadata": {},
     "source": [
      "Path to the results "
     ]
    },
    {
     "cell_type": "code",
     "collapsed": false,
     "input": [
      "data_path = '../results/ipod'\n",
      "# data_path = '../results/Canon_S100'\n",
      "dataset_name = basename(data_path)\n",
      "data_path_trees = join(data_path,  'edu_trees_dir')\n",
      "data_path_link_tree = join(data_path,  'link_trees_dir')"
     ],
     "language": "python",
     "metadata": {},
     "outputs": [],
     "prompt_number": 246
    },
    {
     "cell_type": "heading",
     "level": 1,
     "metadata": {},
     "source": [
      "Get parse trees "
     ]
    },
    {
     "cell_type": "code",
     "collapsed": false,
     "input": [
      "tree_names = [ basename(x) for x in glob(join(data_path_trees, '*.tree.ser'))]\n",
      "n_docs = len(tree_names)"
     ],
     "language": "python",
     "metadata": {},
     "outputs": [],
     "prompt_number": 247
    },
    {
     "cell_type": "code",
     "collapsed": false,
     "input": [
      "n_docs"
     ],
     "language": "python",
     "metadata": {},
     "outputs": [
      {
       "metadata": {},
       "output_type": "pyout",
       "prompt_number": 248,
       "text": [
        "530"
       ]
      }
     ],
     "prompt_number": 248
    },
    {
     "cell_type": "code",
     "collapsed": false,
     "input": [
      "tree_names[:10]"
     ],
     "language": "python",
     "metadata": {},
     "outputs": [
      {
       "metadata": {},
       "output_type": "pyout",
       "prompt_number": 249,
       "text": [
        "['230.tree.ser',\n",
        " '47.tree.ser',\n",
        " '8.tree.ser',\n",
        " '376.tree.ser',\n",
        " '363.tree.ser',\n",
        " '151.tree.ser',\n",
        " '90.tree.ser',\n",
        " '234.tree.ser',\n",
        " '358.tree.ser',\n",
        " '269.tree.ser']"
       ]
      }
     ],
     "prompt_number": 249
    },
    {
     "cell_type": "code",
     "collapsed": false,
     "input": [
      "tree_numbers = [x.split('.')[0] for x in tree_names]"
     ],
     "language": "python",
     "metadata": {},
     "outputs": [],
     "prompt_number": 250
    },
    {
     "cell_type": "code",
     "collapsed": false,
     "input": [
      "tree_numbers[:10]"
     ],
     "language": "python",
     "metadata": {},
     "outputs": [
      {
       "metadata": {},
       "output_type": "pyout",
       "prompt_number": 251,
       "text": [
        "['230', '47', '8', '376', '363', '151', '90', '234', '358', '269']"
       ]
      }
     ],
     "prompt_number": 251
    },
    {
     "cell_type": "code",
     "collapsed": false,
     "input": [
      "join(data_path_trees, tree_names[0])"
     ],
     "language": "python",
     "metadata": {},
     "outputs": [
      {
       "metadata": {},
       "output_type": "pyout",
       "prompt_number": 252,
       "text": [
        "'../results/ipod/edu_trees_dir/230.tree.ser'"
       ]
      }
     ],
     "prompt_number": 252
    },
    {
     "cell_type": "code",
     "collapsed": false,
     "input": [
      "tree_name = tree_names[0]\n",
      "parsed_tree = load_serialized(join(data_path_trees, tree_name))"
     ],
     "language": "python",
     "metadata": {},
     "outputs": [],
     "prompt_number": 253
    },
    {
     "cell_type": "code",
     "collapsed": false,
     "input": [
      "pprint(parsed_tree.pprint())"
     ],
     "language": "python",
     "metadata": {},
     "outputs": [
      {
       "output_type": "stream",
       "stream": "stdout",
       "text": [
        "'(Joint[N][N]\\n  _!U With accessories , you can make the iPod into a digital recorder ,!_\\n  (Joint[N][N]\\n    (Elaboration[N][S]\\n      _!broadcast it remotely through stereo speakers!_\\n      _!using wireless technology ,!_)\\n    (Elaboration[N][S]\\n      _!and play it through your car speakers!_\\n      _!using either a CD adaptor or FM stereo broadcaster.q . <P>!_)))'\n"
       ]
      }
     ],
     "prompt_number": 254
    },
    {
     "cell_type": "code",
     "collapsed": false,
     "input": [
      "# parsed_tree.draw()"
     ],
     "language": "python",
     "metadata": {},
     "outputs": [],
     "prompt_number": 257
    },
    {
     "cell_type": "heading",
     "level": 1,
     "metadata": {},
     "source": [
      "Get name of relations"
     ]
    },
    {
     "cell_type": "code",
     "collapsed": false,
     "input": [
      "parsed_tree.node"
     ],
     "language": "python",
     "metadata": {},
     "outputs": [
      {
       "metadata": {},
       "output_type": "pyout",
       "prompt_number": 258,
       "text": [
        "'Joint[N][N]'"
       ]
      }
     ],
     "prompt_number": 258
    },
    {
     "cell_type": "heading",
     "level": 1,
     "metadata": {},
     "source": [
      "Get EDU texts "
     ]
    },
    {
     "cell_type": "code",
     "collapsed": false,
     "input": [
      "edus = load_serialized(join(data_path, 'edu_trees_dir', '0.tree.ser'))"
     ],
     "language": "python",
     "metadata": {},
     "outputs": [],
     "prompt_number": 259
    },
    {
     "cell_type": "code",
     "collapsed": false,
     "input": [
      "edus[0]"
     ],
     "language": "python",
     "metadata": {},
     "outputs": [
      {
       "metadata": {},
       "output_type": "pyout",
       "prompt_number": 260,
       "text": [
        "ParseTree('Attribution[N][S]', ['_!UuIf you can get past this little flaw ,!_', '_!give the ipod 5 stars ,!_'])"
       ]
      }
     ],
     "prompt_number": 260
    },
    {
     "cell_type": "heading",
     "level": 1,
     "metadata": {},
     "source": [
      "Draw parse tree"
     ]
    },
    {
     "cell_type": "code",
     "collapsed": false,
     "input": [
      "def jupyter_draw_nltk_tree(tree, directory='trees', f_name='tmp', show_tree=False):\n",
      "    f_name = join(directory, f_name)\n",
      "    if not exists(directory):\n",
      "        makedirs(directory)\n",
      "    \n",
      "    cf = CanvasFrame()\n",
      "    tc = TreeWidget(cf.canvas(), tree)\n",
      "    tc['node_font'] = 'arial 13 bold'\n",
      "    tc['leaf_font'] = 'arial 14'\n",
      "    tc['node_color'] = '#005990'\n",
      "    tc['leaf_color'] = '#3F8F57'\n",
      "    tc['line_color'] = '#175252'\n",
      "    cf.add_widget(tc, 20, 20)\n",
      "    cf.print_to_file('{}.ps'.format(f_name))\n",
      "    cf.destroy()\n",
      "    system('convert {}.ps {}.png'.format(f_name, f_name))\n",
      "    if show_tree:\n",
      "        display(Image(filename='{}.png'.format(f_name)))\n",
      "    system('rm {}.ps'.format(f_name))"
     ],
     "language": "python",
     "metadata": {},
     "outputs": [],
     "prompt_number": 324
    },
    {
     "cell_type": "code",
     "collapsed": false,
     "input": [
      "jupyter_draw_nltk_tree(parsed_tree, 'trees', dataset_name + tree_name)"
     ],
     "language": "python",
     "metadata": {},
     "outputs": [],
     "prompt_number": 262
    },
    {
     "cell_type": "heading",
     "level": 1,
     "metadata": {},
     "source": [
      "Draw all trees in dataset"
     ]
    },
    {
     "cell_type": "code",
     "collapsed": false,
     "input": [
      "for t in tree_names:\n",
      "    parsed_tree = load_serialized(join(data_path_trees, t))\n",
      "    jupyter_draw_nltk_tree(tree=parsed_tree, f_name=dataset_name + t)"
     ],
     "language": "python",
     "metadata": {},
     "outputs": [],
     "prompt_number": 209
    },
    {
     "cell_type": "heading",
     "level": 1,
     "metadata": {},
     "source": [
      "Process trees"
     ]
    },
    {
     "cell_type": "code",
     "collapsed": false,
     "input": [
      "def __process_tree(tree):\n",
      "    relations = []\n",
      "    for index, node in enumerate(tree):\n",
      "        # go to the subtree\n",
      "        if isinstance(node, ParseTree):\n",
      "#             print(node.node)\n",
      "            relations.append(node.node)\n",
      "            __process_tree(node)\n",
      "        # recursively until leaf\n",
      "        else:\n",
      "            # leaf, parent/current subtree, index of leaf in the tree\n",
      "            __traverse_parent(node, tree, index)\n",
      "    return relations\n",
      "\n",
      "def __traverse_parent(leaf, parent, child_index):\n",
      "    # leaf = child\n",
      "    if parent is not None:\n",
      "        for id in range(child_index + 1, len(parent)):\n",
      "            pass\n",
      "#             print(leaf, parent[id])\n",
      "#             print('--')\n",
      "\n",
      "        if parent.parent is not None:\n",
      "            __traverse_parent(leaf, parent.parent, parent.parent_index)"
     ],
     "language": "python",
     "metadata": {},
     "outputs": [],
     "prompt_number": 263
    },
    {
     "cell_type": "code",
     "collapsed": false,
     "input": [
      "# without root node\n",
      "\n",
      "def traverseTree(tree):\n",
      "#     print(\"tree:\", tree)\n",
      "    for subtree in tree:\n",
      "        if type(subtree) == Tree:\n",
      "            traverseTree(subtree)\n",
      "        print subtree\n",
      "traverseTree(parsed_tree)"
     ],
     "language": "python",
     "metadata": {},
     "outputs": [
      {
       "output_type": "stream",
       "stream": "stdout",
       "text": [
        "_!U With accessories , you can make the iPod into a digital recorder ,!_\n",
        "(Joint[N][N]\n",
        "  (Elaboration[N][S]\n",
        "    _!broadcast it remotely through stereo speakers!_\n",
        "    _!using wireless technology ,!_)\n",
        "  (Elaboration[N][S]\n",
        "    _!and play it through your car speakers!_\n",
        "    _!using either a CD adaptor or FM stereo broadcaster.q . <P>!_))\n"
       ]
      }
     ],
     "prompt_number": 264
    },
    {
     "cell_type": "heading",
     "level": 1,
     "metadata": {},
     "source": [
      "Load paths['documents_info'] "
     ]
    },
    {
     "cell_type": "code",
     "collapsed": false,
     "input": [
      "docs_info = load_serialized(join(data_path, 'documents_info'))"
     ],
     "language": "python",
     "metadata": {},
     "outputs": [],
     "prompt_number": 265
    },
    {
     "cell_type": "code",
     "collapsed": false,
     "input": [
      "docs_info.values()[4]"
     ],
     "language": "python",
     "metadata": {},
     "outputs": [
      {
       "metadata": {},
       "output_type": "pyout",
       "prompt_number": 266,
       "text": [
        "{'EDUs': [7, 8, 9, 10],\n",
        " 'accepted_edus': [7, 9, 10],\n",
        " 'aspects': [u'device', u'steve jobs', u'twisted individual'],\n",
        " 'sentiment': array([-1])}"
       ]
      }
     ],
     "prompt_number": 266
    },
    {
     "cell_type": "heading",
     "level": 1,
     "metadata": {},
     "source": [
      "Load edus "
     ]
    },
    {
     "cell_type": "code",
     "collapsed": false,
     "input": [
      "edus = load_serialized(join(data_path, 'raw_edu_list'))\n",
      "n_edus = len(edus)\n",
      "edus[0]"
     ],
     "language": "python",
     "metadata": {},
     "outputs": [
      {
       "metadata": {},
       "output_type": "pyout",
       "prompt_number": 267,
       "text": [
        "{'entities': [],\n",
        " 'raw_text': u'If you can get past this little flaw ,',\n",
        " 'source_document_id': 0,\n",
        " 'tokens': [{'is_stop': True, 'lemma': u'if', 'pos': u'ADP', 'text': u'If'},\n",
        "  {'is_stop': True, 'lemma': u'you', 'pos': u'PRON', 'text': u'you'},\n",
        "  {'is_stop': True, 'lemma': u'can', 'pos': u'VERB', 'text': u'can'},\n",
        "  {'is_stop': True, 'lemma': u'get', 'pos': u'VERB', 'text': u'get'},\n",
        "  {'is_stop': False, 'lemma': u'past', 'pos': u'ADP', 'text': u'past'},\n",
        "  {'is_stop': True, 'lemma': u'this', 'pos': u'DET', 'text': u'this'},\n",
        "  {'is_stop': False, 'lemma': u'little', 'pos': u'ADJ', 'text': u'little'},\n",
        "  {'is_stop': False, 'lemma': u'flaw', 'pos': u'NOUN', 'text': u'flaw'}]}"
       ]
      }
     ],
     "prompt_number": 267
    },
    {
     "cell_type": "code",
     "collapsed": false,
     "input": [
      "n_edus"
     ],
     "language": "python",
     "metadata": {},
     "outputs": [
      {
       "metadata": {},
       "output_type": "pyout",
       "prompt_number": 268,
       "text": [
        "1591"
       ]
      }
     ],
     "prompt_number": 268
    },
    {
     "cell_type": "code",
     "collapsed": false,
     "input": [
      "edus[10]"
     ],
     "language": "python",
     "metadata": {},
     "outputs": [
      {
       "metadata": {},
       "output_type": "pyout",
       "prompt_number": 269,
       "text": [
        "{'entities': [],\n",
        " 'raw_text': u'by giving it an UNREPLACABLE 18 MONTH BATTERY.',\n",
        " 'source_document_id': 4,\n",
        " 'tokens': [{'is_stop': True, 'lemma': u'by', 'pos': u'ADP', 'text': u'by'},\n",
        "  {'is_stop': False, 'lemma': u'give', 'pos': u'VERB', 'text': u'giving'},\n",
        "  {'is_stop': True, 'lemma': u'it', 'pos': u'PRON', 'text': u'it'},\n",
        "  {'is_stop': True, 'lemma': u'an', 'pos': u'DET', 'text': u'an'},\n",
        "  {'is_stop': False,\n",
        "   'lemma': u'unreplacable',\n",
        "   'pos': u'PROPN',\n",
        "   'text': u'UNREPLACABLE'},\n",
        "  {'is_stop': False, 'lemma': u'18', 'pos': u'NUM', 'text': u'18'},\n",
        "  {'is_stop': False, 'lemma': u'month', 'pos': u'PROPN', 'text': u'MONTH'},\n",
        "  {'is_stop': False,\n",
        "   'lemma': u'battery',\n",
        "   'pos': u'PROPN',\n",
        "   'text': u'BATTERY'}]}"
       ]
      }
     ],
     "prompt_number": 269
    },
    {
     "cell_type": "code",
     "collapsed": false,
     "input": [
      "edus_df = pd.DataFrame.from_dict(edus, orient='index')\n",
      "edus_df.head()"
     ],
     "language": "python",
     "metadata": {},
     "outputs": [
      {
       "html": [
        "<div style=\"max-width:1500px;overflow:auto;\">\n",
        "<style>\n",
        "    .dataframe thead tr:only-child th {\n",
        "        text-align: right;\n",
        "    }\n",
        "\n",
        "    .dataframe thead th {\n",
        "        text-align: left;\n",
        "    }\n",
        "\n",
        "    .dataframe tbody tr th {\n",
        "        vertical-align: top;\n",
        "    }\n",
        "</style>\n",
        "<table border=\"1\" class=\"dataframe\">\n",
        "  <thead>\n",
        "    <tr style=\"text-align: right;\">\n",
        "      <th></th>\n",
        "      <th>tokens</th>\n",
        "      <th>entities</th>\n",
        "      <th>raw_text</th>\n",
        "      <th>source_document_id</th>\n",
        "    </tr>\n",
        "  </thead>\n",
        "  <tbody>\n",
        "    <tr>\n",
        "      <th>0</th>\n",
        "      <td>[{u'is_stop': True, u'text': u'If', u'pos': u'...</td>\n",
        "      <td>[]</td>\n",
        "      <td>If you can get past this little flaw ,</td>\n",
        "      <td>0</td>\n",
        "    </tr>\n",
        "    <tr>\n",
        "      <th>1</th>\n",
        "      <td>[{u'is_stop': True, u'text': u'give', u'pos': ...</td>\n",
        "      <td>[]</td>\n",
        "      <td>give the ipod 5 stars ,</td>\n",
        "      <td>0</td>\n",
        "    </tr>\n",
        "    <tr>\n",
        "      <th>2</th>\n",
        "      <td>[{u'is_stop': True, u'text': u'because', u'pos...</td>\n",
        "      <td>[]</td>\n",
        "      <td>because everything else about it is pretty muc...</td>\n",
        "      <td>0</td>\n",
        "    </tr>\n",
        "    <tr>\n",
        "      <th>3</th>\n",
        "      <td>[{u'is_stop': True, u'text': u'Don', u'pos': u...</td>\n",
        "      <td>[]</td>\n",
        "      <td>Don t get this</td>\n",
        "      <td>1</td>\n",
        "    </tr>\n",
        "    <tr>\n",
        "      <th>4</th>\n",
        "      <td>[{u'is_stop': False, u'text': u'...', u'pos': ...</td>\n",
        "      <td>[]</td>\n",
        "      <td>... keep browsing.</td>\n",
        "      <td>1</td>\n",
        "    </tr>\n",
        "  </tbody>\n",
        "</table>\n",
        "</div>"
       ],
       "metadata": {},
       "output_type": "pyout",
       "prompt_number": 270,
       "text": [
        "                                              tokens entities  \\\n",
        "0  [{u'is_stop': True, u'text': u'If', u'pos': u'...       []   \n",
        "1  [{u'is_stop': True, u'text': u'give', u'pos': ...       []   \n",
        "2  [{u'is_stop': True, u'text': u'because', u'pos...       []   \n",
        "3  [{u'is_stop': True, u'text': u'Don', u'pos': u...       []   \n",
        "4  [{u'is_stop': False, u'text': u'...', u'pos': ...       []   \n",
        "\n",
        "                                            raw_text  source_document_id  \n",
        "0             If you can get past this little flaw ,                   0  \n",
        "1                            give the ipod 5 stars ,                   0  \n",
        "2  because everything else about it is pretty muc...                   0  \n",
        "3                                     Don t get this                   1  \n",
        "4                                 ... keep browsing.                   1  "
       ]
      }
     ],
     "prompt_number": 270
    },
    {
     "cell_type": "heading",
     "level": 1,
     "metadata": {},
     "source": [
      "Load only edus with sentiment"
     ]
    },
    {
     "cell_type": "code",
     "collapsed": false,
     "input": [
      "edus_sentiment = load_serialized(join(data_path, 'sentiment_filtered_edus'))\n",
      "n_edus_sentiment = len(edus_sentiment)\n",
      "n_edus_sentiment"
     ],
     "language": "python",
     "metadata": {},
     "outputs": [
      {
       "metadata": {},
       "output_type": "pyout",
       "prompt_number": 271,
       "text": [
        "1156"
       ]
      }
     ],
     "prompt_number": 271
    },
    {
     "cell_type": "heading",
     "level": 1,
     "metadata": {},
     "source": [
      "Percent of edus with sentiment "
     ]
    },
    {
     "cell_type": "code",
     "collapsed": false,
     "input": [
      "'{:.2f}%'.format(float(n_edus_sentiment)/n_edus * 100)"
     ],
     "language": "python",
     "metadata": {},
     "outputs": [
      {
       "metadata": {},
       "output_type": "pyout",
       "prompt_number": 272,
       "text": [
        "'72.66%'"
       ]
      }
     ],
     "prompt_number": 272
    },
    {
     "cell_type": "heading",
     "level": 1,
     "metadata": {},
     "source": [
      "Load aspects "
     ]
    },
    {
     "cell_type": "code",
     "collapsed": false,
     "input": [
      "aspects_per_edu = load_serialized(join(data_path, 'aspects_per_edu'))"
     ],
     "language": "python",
     "metadata": {},
     "outputs": [],
     "prompt_number": 273
    },
    {
     "cell_type": "code",
     "collapsed": false,
     "input": [
      "aspects_per_edu.items()[:10]"
     ],
     "language": "python",
     "metadata": {},
     "outputs": [
      {
       "metadata": {},
       "output_type": "pyout",
       "prompt_number": 274,
       "text": [
        "[(2, ['']),\n",
        " (3, [u't']),\n",
        " (4, []),\n",
        " (7, [u'steve jobs', u'twisted individual']),\n",
        " (9, [u'device']),\n",
        " (10, []),\n",
        " (11, [u'great little short film']),\n",
        " (12, [u'disposable device', u'idea']),\n",
        " (13, []),\n",
        " (14, [u'battery'])]"
       ]
      }
     ],
     "prompt_number": 274
    },
    {
     "cell_type": "heading",
     "level": 1,
     "metadata": {},
     "source": [
      "Filter empty aspects and aspects shorter than 2, like 't', 'u' etc."
     ]
    },
    {
     "cell_type": "code",
     "collapsed": false,
     "input": [
      "aspects_per_edu = {k:v for k, v in aspects_per_edu.items() if v and [v for x in v if len(x) > 1]}"
     ],
     "language": "python",
     "metadata": {},
     "outputs": [],
     "prompt_number": 277
    },
    {
     "cell_type": "code",
     "collapsed": false,
     "input": [
      "aspects_per_edu.values()[:10]"
     ],
     "language": "python",
     "metadata": {},
     "outputs": [
      {
       "metadata": {},
       "output_type": "pyout",
       "prompt_number": 278,
       "text": [
        "[[u'steve jobs', u'twisted individual'],\n",
        " [u'device'],\n",
        " [u'great little short film'],\n",
        " [u'disposable device', u'idea'],\n",
        " [u'battery'],\n",
        " [u'late model', u'ipod'],\n",
        " [u'freakin easy', u'conspiracy'],\n",
        " [u'device', u'replaceable battery'],\n",
        " [u'mp3 player recently'],\n",
        " [u'opportunity']]"
       ]
      }
     ],
     "prompt_number": 278
    },
    {
     "cell_type": "code",
     "collapsed": false,
     "input": [
      "n_aspects_per_edu = len(aspects_per_edu)\n",
      "n_aspects_per_edu"
     ],
     "language": "python",
     "metadata": {},
     "outputs": [
      {
       "metadata": {},
       "output_type": "pyout",
       "prompt_number": 279,
       "text": [
        "714"
       ]
      }
     ],
     "prompt_number": 279
    },
    {
     "cell_type": "heading",
     "level": 1,
     "metadata": {},
     "source": [
      "Percent of edus with aspect extracted"
     ]
    },
    {
     "cell_type": "code",
     "collapsed": false,
     "input": [
      "'{:.2f}%'.format(float(n_aspects_per_edu)/n_edus * 100)"
     ],
     "language": "python",
     "metadata": {},
     "outputs": [
      {
       "metadata": {},
       "output_type": "pyout",
       "prompt_number": 280,
       "text": [
        "'44.88%'"
       ]
      }
     ],
     "prompt_number": 280
    },
    {
     "cell_type": "code",
     "collapsed": false,
     "input": [
      "# dataset_df = pd.merge(edus_df, pd.DataFrame.from_dict(aspects, orient='index'), left_index=True, right_index=True)"
     ],
     "language": "python",
     "metadata": {},
     "outputs": [],
     "prompt_number": 102
    },
    {
     "cell_type": "code",
     "collapsed": false,
     "input": [
      "# dataset_df.head()"
     ],
     "language": "python",
     "metadata": {},
     "outputs": [],
     "prompt_number": 112
    },
    {
     "cell_type": "heading",
     "level": 1,
     "metadata": {},
     "source": [
      "Percent of documents with at least 2 aspects!!"
     ]
    },
    {
     "cell_type": "code",
     "collapsed": false,
     "input": [
      "documents_info = load_serialized(join(data_path, 'documents_info'))"
     ],
     "language": "python",
     "metadata": {},
     "outputs": [],
     "prompt_number": 296
    },
    {
     "cell_type": "code",
     "collapsed": false,
     "input": [
      "document_info_at_least_2_aspects_accepted = {k: v for k, v in documents_info.items() if len(v['accepted_edus']) > 1}"
     ],
     "language": "python",
     "metadata": {},
     "outputs": [],
     "prompt_number": 301
    },
    {
     "cell_type": "code",
     "collapsed": false,
     "input": [
      "n_at_least_two_aspects_per_doc = len(document_info_at_least_2_aspects_accepted)"
     ],
     "language": "python",
     "metadata": {},
     "outputs": [],
     "prompt_number": 302
    },
    {
     "cell_type": "code",
     "collapsed": false,
     "input": [
      "'{:.2f}%'.format(float(n_at_least_two_aspects_per_doc)/n_docs * 100)"
     ],
     "language": "python",
     "metadata": {},
     "outputs": [
      {
       "metadata": {},
       "output_type": "pyout",
       "prompt_number": 303,
       "text": [
        "'60.19%'"
       ]
      }
     ],
     "prompt_number": 303
    },
    {
     "cell_type": "heading",
     "level": 1,
     "metadata": {},
     "source": [
      "Get link tree"
     ]
    },
    {
     "cell_type": "code",
     "collapsed": false,
     "input": [
      "link_trees = [ basename(x) for x in glob(join(data_path_link_tree, '*'))]\n",
      "link_trees[:10]"
     ],
     "language": "python",
     "metadata": {},
     "outputs": [
      {
       "metadata": {},
       "output_type": "pyout",
       "prompt_number": 116,
       "text": [
        "['145', '320', '82', '144', '256', '177', '261', '171', '442', '126']"
       ]
      }
     ],
     "prompt_number": 116
    },
    {
     "cell_type": "code",
     "collapsed": false,
     "input": [
      "link_tree = load_serialized(join(data_path_link_tree, link_trees[3]))"
     ],
     "language": "python",
     "metadata": {},
     "outputs": [],
     "prompt_number": 145
    },
    {
     "cell_type": "code",
     "collapsed": false,
     "input": [
      "link_tree"
     ],
     "language": "python",
     "metadata": {},
     "outputs": [
      {
       "metadata": {},
       "output_type": "pyout",
       "prompt_number": 146,
       "text": [
        "ParseTree('Contrast[S][N]', [411, ParseTree('Attribution[S][N]', [412, 413])])"
       ]
      }
     ],
     "prompt_number": 146
    },
    {
     "cell_type": "code",
     "collapsed": false,
     "input": [
      "link_tree.pos()"
     ],
     "language": "python",
     "metadata": {},
     "outputs": [
      {
       "metadata": {},
       "output_type": "pyout",
       "prompt_number": 147,
       "text": [
        "[(411, 'Contrast[S][N]'),\n",
        " (412, 'Attribution[S][N]'),\n",
        " (413, 'Attribution[S][N]')]"
       ]
      }
     ],
     "prompt_number": 147
    },
    {
     "cell_type": "code",
     "collapsed": false,
     "input": [
      "link_tree[1][0] = 213"
     ],
     "language": "python",
     "metadata": {},
     "outputs": [],
     "prompt_number": 159
    },
    {
     "cell_type": "code",
     "collapsed": false,
     "input": [
      "link_tree"
     ],
     "language": "python",
     "metadata": {},
     "outputs": [
      {
       "metadata": {},
       "output_type": "pyout",
       "prompt_number": 160,
       "text": [
        "ParseTree('Contrast[S][N]', [411, ParseTree('Attribution[S][N]', [213, 413])])"
       ]
      }
     ],
     "prompt_number": 160
    },
    {
     "cell_type": "code",
     "collapsed": false,
     "input": [
      "for x in link_tree:\n",
      "    x = 1111"
     ],
     "language": "python",
     "metadata": {},
     "outputs": [],
     "prompt_number": 169
    },
    {
     "cell_type": "code",
     "collapsed": false,
     "input": [
      "link_tree"
     ],
     "language": "python",
     "metadata": {},
     "outputs": [
      {
       "metadata": {},
       "output_type": "pyout",
       "prompt_number": 170,
       "text": [
        "ParseTree('Contrast[S][N]', [411, ParseTree('Attribution[S][N]', [213, 413])])"
       ]
      }
     ],
     "prompt_number": 170
    },
    {
     "cell_type": "code",
     "collapsed": false,
     "input": [
      "# link_tree[0,0]"
     ],
     "language": "python",
     "metadata": {},
     "outputs": [],
     "prompt_number": 317
    },
    {
     "cell_type": "code",
     "collapsed": false,
     "input": [
      "class EDUTreeRulesExtractor(object):\n",
      "    def __init__(self):\n",
      "        self.rules = []\n",
      "        self.accepted_edus = None\n",
      "\n",
      "    def __process_tree(self, tree, relation):\n",
      "        for index, node in enumerate(tree):\n",
      "            # go to the subtree\n",
      "            # process tree down\n",
      "            if isinstance(node, ParseTree):\n",
      "                self.__process_tree(node, relation)\n",
      "#                 print '++++', tree.node, node\n",
      "            # recursively until leaf\n",
      "            else:\n",
      "                # leaf, parent/current subtree, index of leaf in the tree\n",
      "                self.__traverse_parent(node, tree, index, tree.node)\n",
      "#                 print '****', node, tree, index, tree.node\n",
      "\n",
      "    def __traverse_parent(self, leaf, parent, child_index, relation):\n",
      "        # leaf = child\n",
      "        if parent is not None:\n",
      "            for id in range(child_index + 1, len(parent)):\n",
      "                self.__make_rules(leaf, parent[id], relation)\n",
      "\n",
      "            if parent.parent is not None:\n",
      "                self.__traverse_parent(leaf, parent.parent, parent.parent_index, relation)\n",
      "            else:\n",
      "                relation = parent.node\n",
      "#                 print 'the highest common node', relation, leaf, parent\n",
      "\n",
      "    def __make_rules(self, leaf_left, tree, relation):\n",
      "\n",
      "        # int oznacza, \u017ce rekursywnie doszli\u015bmy do li\u015bcia w drzewie pod aktualnym li\u015bcie analizowanym\n",
      "        if isinstance(tree, int):\n",
      "            if tree in self.accepted_edus and leaf_left in self.accepted_edus:\n",
      "                print('leaf leaft', leaf_left, 'leaf right', tree, 'relation', relation)\n",
      "                self.rules.append((leaf_left, tree, relation))\n",
      "        else:\n",
      "            for index, subtree in enumerate(tree):\n",
      "                self.__make_rules(leaf_left, subtree, tree.node)\n",
      "                print '--', tree.node, leaf_left, subtree\n",
      "\n",
      "    def extract(self, tree, accepted_edus):\n",
      "        self.accepted_edus = accepted_edus\n",
      "        print 'root node', tree.node\n",
      "        self.__process_tree(tree, tree.node)\n",
      "\n",
      "        return self.rules\n",
      "\n",
      "        # INFO: reguly s\u0105 determinowane przez kolejnosc odwiedzania w\u0119z\u0142\u00f3w przy preprocessingu\n",
      "        #   Je\u015bli olejemy warto\u015b\u0107 relacji, regu\u0142y mog\u0105 by\u0107 budowane od danego numeru do konca numerk\u00f3w:\n",
      "        #   k -> k+1, k -> k+2, ... k -> n\n"
     ],
     "language": "python",
     "metadata": {},
     "outputs": [],
     "prompt_number": 485
    },
    {
     "cell_type": "code",
     "collapsed": false,
     "input": [
      "for doc_number in document_info_at_least_2_aspects_accepted.keys()[11:]:\n",
      "    rules_extractor = EDUTreeRulesExtractor()\n",
      "    document_info = load_serialized(join(data_path, 'documents_info'))[doc_number]\n",
      "#     print(document_info)\n",
      "    link_tree = load_serialized(join(data_path_link_tree, str(doc_number)))\n",
      "#     print(link_tree)\n",
      "    print('====='*20)\n",
      "    extracted_rules = rules_extractor.extract(link_tree, document_info['accepted_edus'])\n",
      "    break"
     ],
     "language": "python",
     "metadata": {},
     "outputs": [
      {
       "output_type": "stream",
       "stream": "stdout",
       "text": [
        "====================================================================================================\n",
        "root node Enablement[N][S]\n",
        "('leaf leaft', 44, 'leaf right', 45, 'relation', 'Elaboration[N][S]')\n",
        "-- Elaboration[N][S] 44 45\n",
        "('leaf leaft', 44, 'leaf right', 46, 'relation', 'Elaboration[N][S]')\n",
        "-- Elaboration[N][S] 44 46\n",
        "-- same-unit[N][N] 44 (Elaboration[N][S] 45 46)\n",
        "('leaf leaft', 44, 'leaf right', 47, 'relation', 'Joint[N][N]')\n",
        "-- Joint[N][N] 44 47\n",
        "-- Joint[N][N] 44 48\n",
        "-- same-unit[N][N] 44 (Joint[N][N] 47 48)\n",
        "('leaf leaft', 45, 'leaf right', 46, 'relation', 'Elaboration[N][S]')\n",
        "('leaf leaft', 45, 'leaf right', 47, 'relation', 'Joint[N][N]')\n",
        "-- Joint[N][N] 45 47\n",
        "-- Joint[N][N] 45 48\n",
        "('leaf leaft', 46, 'leaf right', 47, 'relation', 'Joint[N][N]')\n",
        "-- Joint[N][N] 46 47\n",
        "-- Joint[N][N] 46 48\n"
       ]
      }
     ],
     "prompt_number": 486
    },
    {
     "cell_type": "code",
     "collapsed": false,
     "input": [
      "extracted_rules"
     ],
     "language": "python",
     "metadata": {},
     "outputs": [
      {
       "metadata": {},
       "output_type": "pyout",
       "prompt_number": 487,
       "text": [
        "[(44, 45, 'Elaboration[N][S]'),\n",
        " (44, 46, 'Elaboration[N][S]'),\n",
        " (44, 47, 'Joint[N][N]'),\n",
        " (45, 46, 'Elaboration[N][S]'),\n",
        " (45, 47, 'Joint[N][N]'),\n",
        " (46, 47, 'Joint[N][N]')]"
       ]
      }
     ],
     "prompt_number": 487
    },
    {
     "cell_type": "code",
     "collapsed": false,
     "input": [
      "jupyter_draw_nltk_tree(link_tree, show_tree=True)"
     ],
     "language": "python",
     "metadata": {},
     "outputs": [
      {
       "metadata": {},
       "output_type": "display_data",
       "png": "[encoded data removed]",
       "text": [
        "<IPython.core.display.Image at 0xfbc210>"
       ]
      }
     ],
     "prompt_number": 480
    },
    {
     "cell_type": "code",
     "collapsed": false,
     "input": [],
     "language": "python",
     "metadata": {},
     "outputs": []
    }
   ],
   "metadata": {}
  }
 ]
}