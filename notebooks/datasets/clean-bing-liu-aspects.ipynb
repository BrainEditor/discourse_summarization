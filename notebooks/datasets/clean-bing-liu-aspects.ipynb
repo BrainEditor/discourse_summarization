{
 "cells": [
  {
   "cell_type": "code",
   "execution_count": 1,
   "metadata": {},
   "outputs": [],
   "source": [
    "from pathlib import Path\n",
    "import sys\n",
    "sys.path.append(\"../..\") # go to parent dir"
   ]
  },
  {
   "cell_type": "code",
   "execution_count": 2,
   "metadata": {},
   "outputs": [],
   "source": [
    "from aspects.analysis.statistics_bing_liu import (load_all_datasets)"
   ]
  },
  {
   "cell_type": "code",
   "execution_count": 62,
   "metadata": {},
   "outputs": [],
   "source": [
    "import matplotlib.pyplot as plt\n",
    "import pandas as pd\n",
    "\n",
    "from typing import List, Iterable\n",
    "\n",
    "import spacy\n",
    "\n",
    "from tqdm import tnrange, tqdm_notebook\n",
    "import jellyfish\n",
    "%matplotlib inline"
   ]
  },
  {
   "cell_type": "code",
   "execution_count": 46,
   "metadata": {},
   "outputs": [],
   "source": [
    "nlp = spacy.load('en')"
   ]
  },
  {
   "cell_type": "code",
   "execution_count": 5,
   "metadata": {},
   "outputs": [],
   "source": [
    "datasets = load_all_datasets()"
   ]
  },
  {
   "cell_type": "code",
   "execution_count": 13,
   "metadata": {},
   "outputs": [
    {
     "data": {
      "text/plain": [
       "1"
      ]
     },
     "execution_count": 13,
     "metadata": {},
     "output_type": "execute_result"
    }
   ],
   "source": [
    "# jellyfish.jaro_distance('touchscreen', 'touch screen')\n",
    "jellyfish.levenshtein_distance('touchscreen', 'touch screen')"
   ]
  },
  {
   "cell_type": "code",
   "execution_count": 53,
   "metadata": {},
   "outputs": [],
   "source": [
    "def clean_aspect_text(aspect_text):\n",
    "    aspect_text = ' '.join([token.lemma_ for token in nlp(aspect_text)])\n",
    "    return aspect_text"
   ]
  },
  {
   "cell_type": "code",
   "execution_count": 69,
   "metadata": {},
   "outputs": [],
   "source": [
    "def get_most_similar_text_pairs(texts: Iterable[str], threshold: int = 0.75):\n",
    "    similar_pairs = {}\n",
    "    for text_1 in tqdm(set(texts)):\n",
    "        for text_2 in set(texts):\n",
    "            jaro = jellyfish.jaro_winkler(text_1, text_2)\n",
    "            \n",
    "            # lemma with spacy\n",
    "            text_1 = clean_aspect_text(text_1)\n",
    "            text_2 = clean_aspect_text(text_2)\n",
    "            \n",
    "            texts_pair = f'{text_1} ## {text_2}'\n",
    "            texts_pair_inverse = f'{text_2} ## {text_1}'\n",
    "            if text_1 != text_2 and jellyfish.jaro_winkler(text_1, text_2) > threshold and texts_pair_inverse not in similar_pairs:\n",
    "                similar_pairs[texts_pair] = jaro\n",
    "    return similar_pairs"
   ]
  },
  {
   "cell_type": "code",
   "execution_count": 70,
   "metadata": {},
   "outputs": [
    {
     "name": "stderr",
     "output_type": "stream",
     "text": [
      "100%|██████████| 3/3 [00:00<00:00,  9.88it/s]\n"
     ]
    },
    {
     "data": {
      "text/plain": [
       "{'tarin ## train': 0.94}"
      ]
     },
     "execution_count": 70,
     "metadata": {},
     "output_type": "execute_result"
    }
   ],
   "source": [
    "get_most_similar_text_pairs(['train', 'tarin', 'dev'])"
   ]
  },
  {
   "cell_type": "code",
   "execution_count": null,
   "metadata": {},
   "outputs": [
    {
     "name": "stderr",
     "output_type": "stream",
     "text": [
      "  2%|▏         | 5/212 [00:23<16:13,  4.70s/it]"
     ]
    }
   ],
   "source": [
    "similar_aspects = {\n",
    "    dataset_name: get_most_similar_text_pairs(dataset.aspect.tolist())\n",
    "    for dataset_name, dataset in datasets.items()\n",
    "}           "
   ]
  },
  {
   "cell_type": "code",
   "execution_count": null,
   "metadata": {},
   "outputs": [],
   "source": [
    "pd.DataFrame.from_dict(similar_aspects)"
   ]
  },
  {
   "cell_type": "code",
   "execution_count": null,
   "metadata": {},
   "outputs": [],
   "source": []
  }
 ],
 "metadata": {
  "kernelspec": {
   "display_name": "Python 3",
   "language": "python",
   "name": "python3"
  },
  "language_info": {
   "codemirror_mode": {
    "name": "ipython",
    "version": 3
   },
   "file_extension": ".py",
   "mimetype": "text/x-python",
   "name": "python",
   "nbconvert_exporter": "python",
   "pygments_lexer": "ipython3",
   "version": "3.6.2"
  }
 },
 "nbformat": 4,
 "nbformat_minor": 2
}
