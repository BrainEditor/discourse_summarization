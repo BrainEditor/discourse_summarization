{
 "cells": [
  {
   "cell_type": "code",
   "execution_count": 117,
   "metadata": {},
   "outputs": [],
   "source": [
    "import pandas as pd\n",
    "\n",
    "from collections import namedtuple\n",
    "from glob import glob"
   ]
  },
  {
   "cell_type": "code",
   "execution_count": 14,
   "metadata": {},
   "outputs": [],
   "source": [
    "all_reviews_path = '../../aspects/data/aspects/Reviews-9-products/'"
   ]
  },
  {
   "cell_type": "code",
   "execution_count": 15,
   "metadata": {},
   "outputs": [],
   "source": [
    "reviews_paths = glob(all_reviews_path + '*')"
   ]
  },
  {
   "cell_type": "code",
   "execution_count": 16,
   "metadata": {},
   "outputs": [
    {
     "data": {
      "text/plain": [
       "['../../aspects/data/aspects/Reviews-9-products/MicroMP3.txt',\n",
       " '../../aspects/data/aspects/Reviews-9-products/Canon S100.txt',\n",
       " '../../aspects/data/aspects/Reviews-9-products/norton.txt',\n",
       " '../../aspects/data/aspects/Reviews-9-products/Diaper Champ.txt',\n",
       " '../../aspects/data/aspects/Reviews-9-products/Hitachi router.txt',\n",
       " '../../aspects/data/aspects/Reviews-9-products/ipod.txt',\n",
       " '../../aspects/data/aspects/Reviews-9-products/Nokia 6600.txt',\n",
       " '../../aspects/data/aspects/Reviews-9-products/Linksys Router.txt',\n",
       " '../../aspects/data/aspects/Reviews-9-products/Canon PowerShot SD500.txt']"
      ]
     },
     "execution_count": 16,
     "metadata": {},
     "output_type": "execute_result"
    }
   ],
   "source": [
    "reviews_paths"
   ]
  },
  {
   "cell_type": "code",
   "execution_count": 149,
   "metadata": {},
   "outputs": [],
   "source": [
    "def get_aspects(reviews_path: str) -> pd.DataFrame:\n",
    "    print(reviews_path)\n",
    "    all_aspects = []\n",
    "    with open(reviews_path, 'r') as review_file:\n",
    "        for line in review_file:\n",
    "            aspects = [x for x in line.split('##')[0].split(',') if x]\n",
    "            for aspect in aspects:\n",
    "                aspect = aspect.strip()\n",
    "                aspect = aspect.replace('[u]', '').replace('[s]', '').replace('[p]', '')\n",
    "                aspect = aspect.replace('[cs]', '')\n",
    "                aspect = aspect.replace('{', '[').replace('}', ']')\n",
    "                if aspect:\n",
    "                    all_aspects.append(get_sentiment_from_aspect_sentiment_text(aspect))\n",
    "    return pd.DataFrame(all_aspects)"
   ]
  },
  {
   "cell_type": "code",
   "execution_count": 150,
   "metadata": {},
   "outputs": [],
   "source": [
    "def get_sentiment_from_aspect_sentiment_text(aspect_with_sentiment: str):\n",
    "    aspect_splitted = aspect_with_sentiment.split('[')\n",
    "    aspect = aspect_splitted[0]\n",
    "    try:\n",
    "        sentiment_str = aspect_splitted[1].replace(']', '')\n",
    "    except IndexError:\n",
    "        print(f'Error with: {aspect_with_sentiment}')\n",
    "        raise Exception\n",
    "    if '-' in sentiment_str:\n",
    "        sentiment = -1\n",
    "    elif '+' in sentiment_str:\n",
    "        if len(sentiment_str) > 1:\n",
    "            sentiment = int(sentiment_str)\n",
    "        else:\n",
    "            sentiment = 1\n",
    "    else:\n",
    "        sentiment = int(sentiment_str)\n",
    "    return AspectSentiment(aspect=aspect.lower(), sentiment=sentiment)"
   ]
  },
  {
   "cell_type": "code",
   "execution_count": 160,
   "metadata": {},
   "outputs": [
    {
     "name": "stdout",
     "output_type": "stream",
     "text": [
      "../../aspects/data/aspects/Reviews-9-products/MicroMP3.txt\n",
      "../../aspects/data/aspects/Reviews-9-products/Canon S100.txt\n",
      "../../aspects/data/aspects/Reviews-9-products/norton.txt\n",
      "../../aspects/data/aspects/Reviews-9-products/Diaper Champ.txt\n",
      "../../aspects/data/aspects/Reviews-9-products/Hitachi router.txt\n",
      "../../aspects/data/aspects/Reviews-9-products/ipod.txt\n",
      "../../aspects/data/aspects/Reviews-9-products/Nokia 6600.txt\n",
      "../../aspects/data/aspects/Reviews-9-products/Linksys Router.txt\n",
      "../../aspects/data/aspects/Reviews-9-products/Canon PowerShot SD500.txt\n"
     ]
    }
   ],
   "source": [
    "for reviews_path in reviews_paths:\n",
    "    df = get_aspects(reviews_path)"
   ]
  },
  {
   "cell_type": "code",
   "execution_count": null,
   "metadata": {},
   "outputs": [],
   "source": []
  }
 ],
 "metadata": {
  "kernelspec": {
   "display_name": "Python 3",
   "language": "python",
   "name": "python3"
  },
  "language_info": {
   "codemirror_mode": {
    "name": "ipython",
    "version": 3
   },
   "file_extension": ".py",
   "mimetype": "text/x-python",
   "name": "python",
   "nbconvert_exporter": "python",
   "pygments_lexer": "ipython3",
   "version": "3.6.2"
  }
 },
 "nbformat": 4,
 "nbformat_minor": 2
}
