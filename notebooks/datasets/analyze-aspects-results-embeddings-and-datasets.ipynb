{
 "cells": [
  {
   "cell_type": "markdown",
   "metadata": {},
   "source": [
    "# Imports  "
   ]
  },
  {
   "cell_type": "code",
   "execution_count": 1,
   "metadata": {
    "ExecuteTime": {
     "end_time": "2018-12-10T15:50:42.237700Z",
     "start_time": "2018-12-10T15:50:42.227754Z"
    }
   },
   "outputs": [],
   "source": [
    "%load_ext autoreload\n",
    "%autoreload 2"
   ]
  },
  {
   "cell_type": "code",
   "execution_count": 2,
   "metadata": {
    "ExecuteTime": {
     "end_time": "2018-12-10T15:50:45.106411Z",
     "start_time": "2018-12-10T15:50:42.772227Z"
    }
   },
   "outputs": [
    {
     "data": {
      "text/html": [
       "<style>.container { width:100% !important; }</style>"
      ],
      "text/plain": [
       "<IPython.core.display.HTML object>"
      ]
     },
     "metadata": {},
     "output_type": "display_data"
    },
    {
     "data": {
      "text/html": [
       "<script>requirejs.config({paths: { 'plotly': ['https://cdn.plot.ly/plotly-latest.min']},});if(!window.Plotly) {{require(['plotly'],function(plotly) {window.Plotly=plotly;});}}</script>"
      ],
      "text/plain": [
       "<IPython.core.display.HTML object>"
      ]
     },
     "metadata": {},
     "output_type": "display_data"
    }
   ],
   "source": [
    "from plotly.offline import download_plotlyjs, init_notebook_mode, plot, iplot\n",
    "from plotly.graph_objs import  Bar, Layout, Figure\n",
    "from plotly import __version__\n",
    "from tqdm import tqdm_notebook\n",
    "import numpy as np\n",
    "import pandas as pd\n",
    "from pathlib import Path\n",
    "from typing import Iterable, Set\n",
    "import sys\n",
    "from IPython.core.display import display, HTML\n",
    "\n",
    "display(HTML(\"<style>.container { width:100% !important; }</style>\"))\n",
    "\n",
    "\n",
    "% matplotlib inline\n",
    "\n",
    "sys.path.append('/home/laugustyniak/github/phd/sentiment-backend/')\n",
    "\n",
    "from aspects.analysis import statistics_dataset\n",
    "from aspects.analysis import nlp_architect\n",
    "\n",
    "init_notebook_mode(connected=True)"
   ]
  },
  {
   "cell_type": "code",
   "execution_count": 3,
   "metadata": {
    "ExecuteTime": {
     "end_time": "2018-12-10T15:50:46.209148Z",
     "start_time": "2018-12-10T15:50:45.108403Z"
    }
   },
   "outputs": [],
   "source": [
    "from rpy2.robjects.packages import importr\n",
    "from rpy2.robjects import r, pandas2ri\n",
    "pandas2ri.activate()\n",
    "scmamp = importr('scmamp')"
   ]
  },
  {
   "cell_type": "code",
   "execution_count": 4,
   "metadata": {
    "ExecuteTime": {
     "end_time": "2018-12-10T15:50:46.229705Z",
     "start_time": "2018-12-10T15:50:46.211294Z"
    }
   },
   "outputs": [],
   "source": [
    "results_path = Path('/home/laugustyniak/luk.augustyniak@gmail.com/Projects/PRELUDIUM/Artykuły/aspect-based sentiment 2018/')"
   ]
  },
  {
   "cell_type": "code",
   "execution_count": 12,
   "metadata": {
    "ExecuteTime": {
     "end_time": "2018-12-10T15:52:11.254241Z",
     "start_time": "2018-12-10T15:52:11.239954Z"
    }
   },
   "outputs": [],
   "source": [
    "# dataset_sub_name = 'restaurants'\n",
    "dataset_sub_name = 'laptops'"
   ]
  },
  {
   "cell_type": "code",
   "execution_count": 6,
   "metadata": {
    "ExecuteTime": {
     "end_time": "2018-12-10T15:50:46.280522Z",
     "start_time": "2018-12-10T15:50:46.260487Z"
    }
   },
   "outputs": [],
   "source": [
    "embedding_names = {\n",
    "    'wiki-news-300d-1M': 'fastText-2', \n",
    "    'glove.42B.300d': 'Glove 42B', \n",
    "    'crawl-300d-2M': 'fastText', \n",
    "    'sentic2vec': 'Amazon Reviews',\n",
    "    'glove.6B.100d': 'Glove 6B 100', \n",
    "    'numberbatch-en': 'numberbatch', \n",
    "    'glove.6B.50d': 'Glove 6B 50', \n",
    "    'glove.840B.300d': 'Glove 840B',\n",
    "    'glove.6B.200d': 'Glove 6B 200', \n",
    "    'glove.6B.300d': 'Glove 6B 300', \n",
    "    'GoogleNews-vectors-negative300': 'word2vec'\n",
    "}\n",
    "\n",
    "method_names = {\n",
    "    'word lstm': 'Wo-LSTM',\n",
    "    'word lstm crf': 'Wo-LSTM-CRF',\n",
    "    'char word lstm': 'WoCh-LSTM',\n",
    "    'char word lstm crf': 'WoCh-LSTM-CRF',\n",
    "    'word bilstm': 'Wo-BiLSTM',\n",
    "    'word bilstm crf': 'Wo-BiLSTM-CRF',\n",
    "    'char word bilstm': 'WoCh-BiLSTM',\n",
    "    'char word bilstm crf': 'WoCh-BiLSTM-CRF',\n",
    "}"
   ]
  },
  {
   "cell_type": "markdown",
   "metadata": {},
   "source": [
    "# Get all results in one Data Frame"
   ]
  },
  {
   "cell_type": "code",
   "execution_count": 11,
   "metadata": {
    "ExecuteTime": {
     "end_time": "2018-12-10T15:51:55.797370Z",
     "start_time": "2018-12-10T15:51:55.759722Z"
    }
   },
   "outputs": [
    {
     "data": {
      "text/html": [
       "<div>\n",
       "<style scoped>\n",
       "    .dataframe tbody tr th:only-of-type {\n",
       "        vertical-align: middle;\n",
       "    }\n",
       "\n",
       "    .dataframe tbody tr th {\n",
       "        vertical-align: top;\n",
       "    }\n",
       "\n",
       "    .dataframe thead th {\n",
       "        text-align: right;\n",
       "    }\n",
       "</style>\n",
       "<table border=\"1\" class=\"dataframe\">\n",
       "  <thead>\n",
       "    <tr style=\"text-align: right;\">\n",
       "      <th></th>\n",
       "      <th>fatText-2</th>\n",
       "      <th>Glove 42B</th>\n",
       "      <th>fastText</th>\n",
       "      <th>Amazon Reviews</th>\n",
       "      <th>Glove 6B 100</th>\n",
       "      <th>numberbatch</th>\n",
       "      <th>Glove 6B 50</th>\n",
       "      <th>Glove 840B</th>\n",
       "      <th>Glove 6B 200</th>\n",
       "      <th>Glove 6B 300</th>\n",
       "      <th>word2vec</th>\n",
       "    </tr>\n",
       "  </thead>\n",
       "  <tbody>\n",
       "    <tr>\n",
       "      <th>Wo-LSTM</th>\n",
       "      <td>NaN</td>\n",
       "      <td>NaN</td>\n",
       "      <td>NaN</td>\n",
       "      <td>NaN</td>\n",
       "      <td>NaN</td>\n",
       "      <td>NaN</td>\n",
       "      <td>NaN</td>\n",
       "      <td>NaN</td>\n",
       "      <td>NaN</td>\n",
       "      <td>NaN</td>\n",
       "      <td>NaN</td>\n",
       "    </tr>\n",
       "    <tr>\n",
       "      <th>WoCh-LSTM</th>\n",
       "      <td>NaN</td>\n",
       "      <td>NaN</td>\n",
       "      <td>NaN</td>\n",
       "      <td>NaN</td>\n",
       "      <td>NaN</td>\n",
       "      <td>NaN</td>\n",
       "      <td>NaN</td>\n",
       "      <td>NaN</td>\n",
       "      <td>NaN</td>\n",
       "      <td>NaN</td>\n",
       "      <td>NaN</td>\n",
       "    </tr>\n",
       "    <tr>\n",
       "      <th>Wo-LSTM-CRF</th>\n",
       "      <td>NaN</td>\n",
       "      <td>NaN</td>\n",
       "      <td>NaN</td>\n",
       "      <td>NaN</td>\n",
       "      <td>NaN</td>\n",
       "      <td>NaN</td>\n",
       "      <td>NaN</td>\n",
       "      <td>NaN</td>\n",
       "      <td>NaN</td>\n",
       "      <td>NaN</td>\n",
       "      <td>NaN</td>\n",
       "    </tr>\n",
       "    <tr>\n",
       "      <th>WoCh-LSTM-CRF</th>\n",
       "      <td>NaN</td>\n",
       "      <td>NaN</td>\n",
       "      <td>NaN</td>\n",
       "      <td>NaN</td>\n",
       "      <td>NaN</td>\n",
       "      <td>NaN</td>\n",
       "      <td>NaN</td>\n",
       "      <td>NaN</td>\n",
       "      <td>NaN</td>\n",
       "      <td>NaN</td>\n",
       "      <td>NaN</td>\n",
       "    </tr>\n",
       "    <tr>\n",
       "      <th>Wo-BiLSTM</th>\n",
       "      <td>NaN</td>\n",
       "      <td>NaN</td>\n",
       "      <td>NaN</td>\n",
       "      <td>NaN</td>\n",
       "      <td>NaN</td>\n",
       "      <td>NaN</td>\n",
       "      <td>NaN</td>\n",
       "      <td>NaN</td>\n",
       "      <td>NaN</td>\n",
       "      <td>NaN</td>\n",
       "      <td>NaN</td>\n",
       "    </tr>\n",
       "    <tr>\n",
       "      <th>WoCh-BiLSTM</th>\n",
       "      <td>NaN</td>\n",
       "      <td>NaN</td>\n",
       "      <td>NaN</td>\n",
       "      <td>NaN</td>\n",
       "      <td>NaN</td>\n",
       "      <td>NaN</td>\n",
       "      <td>NaN</td>\n",
       "      <td>NaN</td>\n",
       "      <td>NaN</td>\n",
       "      <td>NaN</td>\n",
       "      <td>NaN</td>\n",
       "    </tr>\n",
       "    <tr>\n",
       "      <th>Wo-BiLSTM-CRF</th>\n",
       "      <td>NaN</td>\n",
       "      <td>NaN</td>\n",
       "      <td>NaN</td>\n",
       "      <td>NaN</td>\n",
       "      <td>NaN</td>\n",
       "      <td>NaN</td>\n",
       "      <td>NaN</td>\n",
       "      <td>NaN</td>\n",
       "      <td>NaN</td>\n",
       "      <td>NaN</td>\n",
       "      <td>NaN</td>\n",
       "    </tr>\n",
       "    <tr>\n",
       "      <th>WoCh-BiLSTM-CRF</th>\n",
       "      <td>NaN</td>\n",
       "      <td>NaN</td>\n",
       "      <td>NaN</td>\n",
       "      <td>NaN</td>\n",
       "      <td>NaN</td>\n",
       "      <td>NaN</td>\n",
       "      <td>NaN</td>\n",
       "      <td>NaN</td>\n",
       "      <td>NaN</td>\n",
       "      <td>NaN</td>\n",
       "      <td>NaN</td>\n",
       "    </tr>\n",
       "  </tbody>\n",
       "</table>\n",
       "</div>"
      ],
      "text/plain": [
       "                 fatText-2  Glove 42B  fastText  Amazon Reviews  Glove 6B 100  \\\n",
       "Wo-LSTM                NaN        NaN       NaN             NaN           NaN   \n",
       "WoCh-LSTM              NaN        NaN       NaN             NaN           NaN   \n",
       "Wo-LSTM-CRF            NaN        NaN       NaN             NaN           NaN   \n",
       "WoCh-LSTM-CRF          NaN        NaN       NaN             NaN           NaN   \n",
       "Wo-BiLSTM              NaN        NaN       NaN             NaN           NaN   \n",
       "WoCh-BiLSTM            NaN        NaN       NaN             NaN           NaN   \n",
       "Wo-BiLSTM-CRF          NaN        NaN       NaN             NaN           NaN   \n",
       "WoCh-BiLSTM-CRF        NaN        NaN       NaN             NaN           NaN   \n",
       "\n",
       "                 numberbatch  Glove 6B 50  Glove 840B  Glove 6B 200  \\\n",
       "Wo-LSTM                  NaN          NaN         NaN           NaN   \n",
       "WoCh-LSTM                NaN          NaN         NaN           NaN   \n",
       "Wo-LSTM-CRF              NaN          NaN         NaN           NaN   \n",
       "WoCh-LSTM-CRF            NaN          NaN         NaN           NaN   \n",
       "Wo-BiLSTM                NaN          NaN         NaN           NaN   \n",
       "WoCh-BiLSTM              NaN          NaN         NaN           NaN   \n",
       "Wo-BiLSTM-CRF            NaN          NaN         NaN           NaN   \n",
       "WoCh-BiLSTM-CRF          NaN          NaN         NaN           NaN   \n",
       "\n",
       "                 Glove 6B 300  word2vec  \n",
       "Wo-LSTM                   NaN       NaN  \n",
       "WoCh-LSTM                 NaN       NaN  \n",
       "Wo-LSTM-CRF               NaN       NaN  \n",
       "WoCh-LSTM-CRF             NaN       NaN  \n",
       "Wo-BiLSTM                 NaN       NaN  \n",
       "WoCh-BiLSTM               NaN       NaN  \n",
       "Wo-BiLSTM-CRF             NaN       NaN  \n",
       "WoCh-BiLSTM-CRF           NaN       NaN  "
      ]
     },
     "execution_count": 11,
     "metadata": {},
     "output_type": "execute_result"
    }
   ],
   "source": [
    "nlp_architect.get_models_f1_metric(\n",
    "        Path(\n",
    "            f'../../../nlp-architect/examples/aspect_extraction/models-oxygen-1/models'\n",
    "        ), dataset_sub_name, embedding_names)"
   ]
  },
  {
   "cell_type": "code",
   "execution_count": 9,
   "metadata": {
    "ExecuteTime": {
     "end_time": "2018-12-10T15:50:52.706886Z",
     "start_time": "2018-12-10T15:50:52.615619Z"
    }
   },
   "outputs": [],
   "source": [
    "results_df = nlp_architect.merge_embeddings_and_architectures_results([\n",
    "    nlp_architect.get_models_f1_metric(\n",
    "        Path(\n",
    "            f'../../../nlp-architect/examples/aspect_extraction/models-oxygen-{str(i)}/models'\n",
    "        ), dataset_sub_name, embedding_names) for i in range(1, 6)\n",
    "])"
   ]
  },
  {
   "cell_type": "code",
   "execution_count": 10,
   "metadata": {
    "ExecuteTime": {
     "end_time": "2018-12-10T15:50:53.383625Z",
     "start_time": "2018-12-10T15:50:53.307634Z"
    }
   },
   "outputs": [
    {
     "data": {
      "text/html": [
       "<div>\n",
       "<style scoped>\n",
       "    .dataframe tbody tr th:only-of-type {\n",
       "        vertical-align: middle;\n",
       "    }\n",
       "\n",
       "    .dataframe tbody tr th {\n",
       "        vertical-align: top;\n",
       "    }\n",
       "\n",
       "    .dataframe thead th {\n",
       "        text-align: right;\n",
       "    }\n",
       "</style>\n",
       "<table border=\"1\" class=\"dataframe\">\n",
       "  <thead>\n",
       "    <tr style=\"text-align: right;\">\n",
       "      <th></th>\n",
       "      <th>fatText-2</th>\n",
       "      <th>Glove 42B</th>\n",
       "      <th>fastText</th>\n",
       "      <th>Amazon Reviews</th>\n",
       "      <th>Glove 6B 100</th>\n",
       "      <th>numberbatch</th>\n",
       "      <th>Glove 6B 50</th>\n",
       "      <th>Glove 840B</th>\n",
       "      <th>Glove 6B 200</th>\n",
       "      <th>Glove 6B 300</th>\n",
       "      <th>word2vec</th>\n",
       "    </tr>\n",
       "  </thead>\n",
       "  <tbody>\n",
       "    <tr>\n",
       "      <th>Wo-BiLSTM</th>\n",
       "      <td>[nan]</td>\n",
       "      <td>[nan]</td>\n",
       "      <td>[nan]</td>\n",
       "      <td>[nan]</td>\n",
       "      <td>[nan]</td>\n",
       "      <td>[nan]</td>\n",
       "      <td>[nan]</td>\n",
       "      <td>[nan]</td>\n",
       "      <td>[nan]</td>\n",
       "      <td>[nan]</td>\n",
       "      <td>[nan]</td>\n",
       "    </tr>\n",
       "    <tr>\n",
       "      <th>Wo-BiLSTM-CRF</th>\n",
       "      <td>[nan]</td>\n",
       "      <td>[nan]</td>\n",
       "      <td>[nan]</td>\n",
       "      <td>[nan]</td>\n",
       "      <td>[nan]</td>\n",
       "      <td>[nan]</td>\n",
       "      <td>[nan]</td>\n",
       "      <td>[nan]</td>\n",
       "      <td>[nan]</td>\n",
       "      <td>[nan]</td>\n",
       "      <td>[nan]</td>\n",
       "    </tr>\n",
       "    <tr>\n",
       "      <th>Wo-LSTM</th>\n",
       "      <td>[nan]</td>\n",
       "      <td>[nan]</td>\n",
       "      <td>[nan]</td>\n",
       "      <td>[nan]</td>\n",
       "      <td>[nan]</td>\n",
       "      <td>[nan]</td>\n",
       "      <td>[nan]</td>\n",
       "      <td>[nan]</td>\n",
       "      <td>[nan]</td>\n",
       "      <td>[nan]</td>\n",
       "      <td>[nan]</td>\n",
       "    </tr>\n",
       "    <tr>\n",
       "      <th>Wo-LSTM-CRF</th>\n",
       "      <td>[nan]</td>\n",
       "      <td>[nan]</td>\n",
       "      <td>[nan]</td>\n",
       "      <td>[nan]</td>\n",
       "      <td>[nan]</td>\n",
       "      <td>[nan]</td>\n",
       "      <td>[nan]</td>\n",
       "      <td>[nan]</td>\n",
       "      <td>[nan]</td>\n",
       "      <td>[nan]</td>\n",
       "      <td>[nan]</td>\n",
       "    </tr>\n",
       "    <tr>\n",
       "      <th>WoCh-BiLSTM</th>\n",
       "      <td>[nan]</td>\n",
       "      <td>[nan]</td>\n",
       "      <td>[nan]</td>\n",
       "      <td>[nan]</td>\n",
       "      <td>[nan]</td>\n",
       "      <td>[nan]</td>\n",
       "      <td>[nan]</td>\n",
       "      <td>[nan]</td>\n",
       "      <td>[nan]</td>\n",
       "      <td>[nan]</td>\n",
       "      <td>[nan]</td>\n",
       "    </tr>\n",
       "    <tr>\n",
       "      <th>WoCh-BiLSTM-CRF</th>\n",
       "      <td>[nan]</td>\n",
       "      <td>[nan]</td>\n",
       "      <td>[nan]</td>\n",
       "      <td>[nan]</td>\n",
       "      <td>[nan]</td>\n",
       "      <td>[nan]</td>\n",
       "      <td>[nan]</td>\n",
       "      <td>[nan]</td>\n",
       "      <td>[nan]</td>\n",
       "      <td>[nan]</td>\n",
       "      <td>[nan]</td>\n",
       "    </tr>\n",
       "    <tr>\n",
       "      <th>WoCh-LSTM</th>\n",
       "      <td>[nan]</td>\n",
       "      <td>[nan]</td>\n",
       "      <td>[nan]</td>\n",
       "      <td>[nan]</td>\n",
       "      <td>[nan]</td>\n",
       "      <td>[nan]</td>\n",
       "      <td>[nan]</td>\n",
       "      <td>[nan]</td>\n",
       "      <td>[nan]</td>\n",
       "      <td>[nan]</td>\n",
       "      <td>[nan]</td>\n",
       "    </tr>\n",
       "    <tr>\n",
       "      <th>WoCh-LSTM-CRF</th>\n",
       "      <td>[nan]</td>\n",
       "      <td>[nan]</td>\n",
       "      <td>[nan]</td>\n",
       "      <td>[nan]</td>\n",
       "      <td>[nan]</td>\n",
       "      <td>[nan]</td>\n",
       "      <td>[nan]</td>\n",
       "      <td>[nan]</td>\n",
       "      <td>[nan]</td>\n",
       "      <td>[nan]</td>\n",
       "      <td>[nan]</td>\n",
       "    </tr>\n",
       "  </tbody>\n",
       "</table>\n",
       "</div>"
      ],
      "text/plain": [
       "                fatText-2 Glove 42B fastText Amazon Reviews Glove 6B 100  \\\n",
       "Wo-BiLSTM           [nan]     [nan]    [nan]          [nan]        [nan]   \n",
       "Wo-BiLSTM-CRF       [nan]     [nan]    [nan]          [nan]        [nan]   \n",
       "Wo-LSTM             [nan]     [nan]    [nan]          [nan]        [nan]   \n",
       "Wo-LSTM-CRF         [nan]     [nan]    [nan]          [nan]        [nan]   \n",
       "WoCh-BiLSTM         [nan]     [nan]    [nan]          [nan]        [nan]   \n",
       "WoCh-BiLSTM-CRF     [nan]     [nan]    [nan]          [nan]        [nan]   \n",
       "WoCh-LSTM           [nan]     [nan]    [nan]          [nan]        [nan]   \n",
       "WoCh-LSTM-CRF       [nan]     [nan]    [nan]          [nan]        [nan]   \n",
       "\n",
       "                numberbatch Glove 6B 50 Glove 840B Glove 6B 200 Glove 6B 300  \\\n",
       "Wo-BiLSTM             [nan]       [nan]      [nan]        [nan]        [nan]   \n",
       "Wo-BiLSTM-CRF         [nan]       [nan]      [nan]        [nan]        [nan]   \n",
       "Wo-LSTM               [nan]       [nan]      [nan]        [nan]        [nan]   \n",
       "Wo-LSTM-CRF           [nan]       [nan]      [nan]        [nan]        [nan]   \n",
       "WoCh-BiLSTM           [nan]       [nan]      [nan]        [nan]        [nan]   \n",
       "WoCh-BiLSTM-CRF       [nan]       [nan]      [nan]        [nan]        [nan]   \n",
       "WoCh-LSTM             [nan]       [nan]      [nan]        [nan]        [nan]   \n",
       "WoCh-LSTM-CRF         [nan]       [nan]      [nan]        [nan]        [nan]   \n",
       "\n",
       "                word2vec  \n",
       "Wo-BiLSTM          [nan]  \n",
       "Wo-BiLSTM-CRF      [nan]  \n",
       "Wo-LSTM            [nan]  \n",
       "Wo-LSTM-CRF        [nan]  \n",
       "WoCh-BiLSTM        [nan]  \n",
       "WoCh-BiLSTM-CRF    [nan]  \n",
       "WoCh-LSTM          [nan]  \n",
       "WoCh-LSTM-CRF      [nan]  "
      ]
     },
     "execution_count": 10,
     "metadata": {},
     "output_type": "execute_result"
    }
   ],
   "source": [
    "results_df"
   ]
  },
  {
   "cell_type": "code",
   "execution_count": 136,
   "metadata": {
    "ExecuteTime": {
     "end_time": "2018-12-10T15:49:54.664876Z",
     "start_time": "2018-12-10T15:49:54.647532Z"
    }
   },
   "outputs": [],
   "source": [
    "results_df = results_df.transpose().rename(index=str, columns=method_names).transpose()"
   ]
  },
  {
   "cell_type": "code",
   "execution_count": 137,
   "metadata": {
    "ExecuteTime": {
     "end_time": "2018-12-10T15:49:54.822977Z",
     "start_time": "2018-12-10T15:49:54.781449Z"
    }
   },
   "outputs": [
    {
     "data": {
      "text/html": [
       "<div>\n",
       "<style scoped>\n",
       "    .dataframe tbody tr th:only-of-type {\n",
       "        vertical-align: middle;\n",
       "    }\n",
       "\n",
       "    .dataframe tbody tr th {\n",
       "        vertical-align: top;\n",
       "    }\n",
       "\n",
       "    .dataframe thead th {\n",
       "        text-align: right;\n",
       "    }\n",
       "</style>\n",
       "<table border=\"1\" class=\"dataframe\">\n",
       "  <thead>\n",
       "    <tr style=\"text-align: right;\">\n",
       "      <th></th>\n",
       "      <th>fatText-2</th>\n",
       "      <th>Glove 42B</th>\n",
       "      <th>fastText</th>\n",
       "      <th>Amazon Reviews</th>\n",
       "      <th>Glove 6B 100</th>\n",
       "      <th>numberbatch</th>\n",
       "      <th>Glove 6B 50</th>\n",
       "      <th>Glove 840B</th>\n",
       "      <th>Glove 6B 200</th>\n",
       "      <th>Glove 6B 300</th>\n",
       "      <th>word2vec</th>\n",
       "    </tr>\n",
       "  </thead>\n",
       "  <tbody>\n",
       "    <tr>\n",
       "      <th>Wo-BiLSTM</th>\n",
       "      <td>[nan]</td>\n",
       "      <td>[nan]</td>\n",
       "      <td>[nan]</td>\n",
       "      <td>[nan]</td>\n",
       "      <td>[nan]</td>\n",
       "      <td>[nan]</td>\n",
       "      <td>[nan]</td>\n",
       "      <td>[nan]</td>\n",
       "      <td>[nan]</td>\n",
       "      <td>[nan]</td>\n",
       "      <td>[nan]</td>\n",
       "    </tr>\n",
       "    <tr>\n",
       "      <th>Wo-BiLSTM-CRF</th>\n",
       "      <td>[nan]</td>\n",
       "      <td>[nan]</td>\n",
       "      <td>[nan]</td>\n",
       "      <td>[nan]</td>\n",
       "      <td>[nan]</td>\n",
       "      <td>[nan]</td>\n",
       "      <td>[nan]</td>\n",
       "      <td>[nan]</td>\n",
       "      <td>[nan]</td>\n",
       "      <td>[nan]</td>\n",
       "      <td>[nan]</td>\n",
       "    </tr>\n",
       "    <tr>\n",
       "      <th>Wo-LSTM</th>\n",
       "      <td>[nan]</td>\n",
       "      <td>[nan]</td>\n",
       "      <td>[nan]</td>\n",
       "      <td>[nan]</td>\n",
       "      <td>[nan]</td>\n",
       "      <td>[nan]</td>\n",
       "      <td>[nan]</td>\n",
       "      <td>[nan]</td>\n",
       "      <td>[nan]</td>\n",
       "      <td>[nan]</td>\n",
       "      <td>[nan]</td>\n",
       "    </tr>\n",
       "    <tr>\n",
       "      <th>Wo-LSTM-CRF</th>\n",
       "      <td>[nan]</td>\n",
       "      <td>[nan]</td>\n",
       "      <td>[nan]</td>\n",
       "      <td>[nan]</td>\n",
       "      <td>[nan]</td>\n",
       "      <td>[nan]</td>\n",
       "      <td>[nan]</td>\n",
       "      <td>[nan]</td>\n",
       "      <td>[nan]</td>\n",
       "      <td>[nan]</td>\n",
       "      <td>[nan]</td>\n",
       "    </tr>\n",
       "    <tr>\n",
       "      <th>WoCh-BiLSTM</th>\n",
       "      <td>[nan]</td>\n",
       "      <td>[nan]</td>\n",
       "      <td>[nan]</td>\n",
       "      <td>[nan]</td>\n",
       "      <td>[nan]</td>\n",
       "      <td>[nan]</td>\n",
       "      <td>[nan]</td>\n",
       "      <td>[nan]</td>\n",
       "      <td>[nan]</td>\n",
       "      <td>[nan]</td>\n",
       "      <td>[nan]</td>\n",
       "    </tr>\n",
       "    <tr>\n",
       "      <th>WoCh-BiLSTM-CRF</th>\n",
       "      <td>[nan]</td>\n",
       "      <td>[nan]</td>\n",
       "      <td>[nan]</td>\n",
       "      <td>[nan]</td>\n",
       "      <td>[nan]</td>\n",
       "      <td>[nan]</td>\n",
       "      <td>[nan]</td>\n",
       "      <td>[nan]</td>\n",
       "      <td>[nan]</td>\n",
       "      <td>[nan]</td>\n",
       "      <td>[nan]</td>\n",
       "    </tr>\n",
       "    <tr>\n",
       "      <th>WoCh-LSTM</th>\n",
       "      <td>[nan]</td>\n",
       "      <td>[nan]</td>\n",
       "      <td>[nan]</td>\n",
       "      <td>[nan]</td>\n",
       "      <td>[nan]</td>\n",
       "      <td>[nan]</td>\n",
       "      <td>[nan]</td>\n",
       "      <td>[nan]</td>\n",
       "      <td>[nan]</td>\n",
       "      <td>[nan]</td>\n",
       "      <td>[nan]</td>\n",
       "    </tr>\n",
       "    <tr>\n",
       "      <th>WoCh-LSTM-CRF</th>\n",
       "      <td>[nan]</td>\n",
       "      <td>[nan]</td>\n",
       "      <td>[nan]</td>\n",
       "      <td>[nan]</td>\n",
       "      <td>[nan]</td>\n",
       "      <td>[nan]</td>\n",
       "      <td>[nan]</td>\n",
       "      <td>[nan]</td>\n",
       "      <td>[nan]</td>\n",
       "      <td>[nan]</td>\n",
       "      <td>[nan]</td>\n",
       "    </tr>\n",
       "  </tbody>\n",
       "</table>\n",
       "</div>"
      ],
      "text/plain": [
       "                fatText-2 Glove 42B fastText Amazon Reviews Glove 6B 100  \\\n",
       "Wo-BiLSTM           [nan]     [nan]    [nan]          [nan]        [nan]   \n",
       "Wo-BiLSTM-CRF       [nan]     [nan]    [nan]          [nan]        [nan]   \n",
       "Wo-LSTM             [nan]     [nan]    [nan]          [nan]        [nan]   \n",
       "Wo-LSTM-CRF         [nan]     [nan]    [nan]          [nan]        [nan]   \n",
       "WoCh-BiLSTM         [nan]     [nan]    [nan]          [nan]        [nan]   \n",
       "WoCh-BiLSTM-CRF     [nan]     [nan]    [nan]          [nan]        [nan]   \n",
       "WoCh-LSTM           [nan]     [nan]    [nan]          [nan]        [nan]   \n",
       "WoCh-LSTM-CRF       [nan]     [nan]    [nan]          [nan]        [nan]   \n",
       "\n",
       "                numberbatch Glove 6B 50 Glove 840B Glove 6B 200 Glove 6B 300  \\\n",
       "Wo-BiLSTM             [nan]       [nan]      [nan]        [nan]        [nan]   \n",
       "Wo-BiLSTM-CRF         [nan]       [nan]      [nan]        [nan]        [nan]   \n",
       "Wo-LSTM               [nan]       [nan]      [nan]        [nan]        [nan]   \n",
       "Wo-LSTM-CRF           [nan]       [nan]      [nan]        [nan]        [nan]   \n",
       "WoCh-BiLSTM           [nan]       [nan]      [nan]        [nan]        [nan]   \n",
       "WoCh-BiLSTM-CRF       [nan]       [nan]      [nan]        [nan]        [nan]   \n",
       "WoCh-LSTM             [nan]       [nan]      [nan]        [nan]        [nan]   \n",
       "WoCh-LSTM-CRF         [nan]       [nan]      [nan]        [nan]        [nan]   \n",
       "\n",
       "                word2vec  \n",
       "Wo-BiLSTM          [nan]  \n",
       "Wo-BiLSTM-CRF      [nan]  \n",
       "Wo-LSTM            [nan]  \n",
       "Wo-LSTM-CRF        [nan]  \n",
       "WoCh-BiLSTM        [nan]  \n",
       "WoCh-BiLSTM-CRF    [nan]  \n",
       "WoCh-LSTM          [nan]  \n",
       "WoCh-LSTM-CRF      [nan]  "
      ]
     },
     "execution_count": 137,
     "metadata": {},
     "output_type": "execute_result"
    }
   ],
   "source": [
    "results_df"
   ]
  },
  {
   "cell_type": "markdown",
   "metadata": {},
   "source": [
    "# Calculate result's mean and std "
   ]
  },
  {
   "cell_type": "code",
   "execution_count": 138,
   "metadata": {
    "ExecuteTime": {
     "end_time": "2018-12-10T15:50:16.424739Z",
     "start_time": "2018-12-10T15:50:16.382225Z"
    }
   },
   "outputs": [
    {
     "data": {
      "text/html": [
       "<div>\n",
       "<style scoped>\n",
       "    .dataframe tbody tr th:only-of-type {\n",
       "        vertical-align: middle;\n",
       "    }\n",
       "\n",
       "    .dataframe tbody tr th {\n",
       "        vertical-align: top;\n",
       "    }\n",
       "\n",
       "    .dataframe thead th {\n",
       "        text-align: right;\n",
       "    }\n",
       "</style>\n",
       "<table border=\"1\" class=\"dataframe\">\n",
       "  <thead>\n",
       "    <tr style=\"text-align: right;\">\n",
       "      <th></th>\n",
       "      <th>fatText-2</th>\n",
       "      <th>Glove 42B</th>\n",
       "      <th>fastText</th>\n",
       "      <th>Amazon Reviews</th>\n",
       "      <th>Glove 6B 100</th>\n",
       "      <th>numberbatch</th>\n",
       "      <th>Glove 6B 50</th>\n",
       "      <th>Glove 840B</th>\n",
       "      <th>Glove 6B 200</th>\n",
       "      <th>Glove 6B 300</th>\n",
       "      <th>word2vec</th>\n",
       "    </tr>\n",
       "  </thead>\n",
       "  <tbody>\n",
       "    <tr>\n",
       "      <th>Wo-BiLSTM</th>\n",
       "      <td>NaN</td>\n",
       "      <td>NaN</td>\n",
       "      <td>NaN</td>\n",
       "      <td>NaN</td>\n",
       "      <td>NaN</td>\n",
       "      <td>NaN</td>\n",
       "      <td>NaN</td>\n",
       "      <td>NaN</td>\n",
       "      <td>NaN</td>\n",
       "      <td>NaN</td>\n",
       "      <td>NaN</td>\n",
       "    </tr>\n",
       "    <tr>\n",
       "      <th>Wo-BiLSTM-CRF</th>\n",
       "      <td>NaN</td>\n",
       "      <td>NaN</td>\n",
       "      <td>NaN</td>\n",
       "      <td>NaN</td>\n",
       "      <td>NaN</td>\n",
       "      <td>NaN</td>\n",
       "      <td>NaN</td>\n",
       "      <td>NaN</td>\n",
       "      <td>NaN</td>\n",
       "      <td>NaN</td>\n",
       "      <td>NaN</td>\n",
       "    </tr>\n",
       "    <tr>\n",
       "      <th>Wo-LSTM</th>\n",
       "      <td>NaN</td>\n",
       "      <td>NaN</td>\n",
       "      <td>NaN</td>\n",
       "      <td>NaN</td>\n",
       "      <td>NaN</td>\n",
       "      <td>NaN</td>\n",
       "      <td>NaN</td>\n",
       "      <td>NaN</td>\n",
       "      <td>NaN</td>\n",
       "      <td>NaN</td>\n",
       "      <td>NaN</td>\n",
       "    </tr>\n",
       "    <tr>\n",
       "      <th>Wo-LSTM-CRF</th>\n",
       "      <td>NaN</td>\n",
       "      <td>NaN</td>\n",
       "      <td>NaN</td>\n",
       "      <td>NaN</td>\n",
       "      <td>NaN</td>\n",
       "      <td>NaN</td>\n",
       "      <td>NaN</td>\n",
       "      <td>NaN</td>\n",
       "      <td>NaN</td>\n",
       "      <td>NaN</td>\n",
       "      <td>NaN</td>\n",
       "    </tr>\n",
       "    <tr>\n",
       "      <th>WoCh-BiLSTM</th>\n",
       "      <td>NaN</td>\n",
       "      <td>NaN</td>\n",
       "      <td>NaN</td>\n",
       "      <td>NaN</td>\n",
       "      <td>NaN</td>\n",
       "      <td>NaN</td>\n",
       "      <td>NaN</td>\n",
       "      <td>NaN</td>\n",
       "      <td>NaN</td>\n",
       "      <td>NaN</td>\n",
       "      <td>NaN</td>\n",
       "    </tr>\n",
       "    <tr>\n",
       "      <th>WoCh-BiLSTM-CRF</th>\n",
       "      <td>NaN</td>\n",
       "      <td>NaN</td>\n",
       "      <td>NaN</td>\n",
       "      <td>NaN</td>\n",
       "      <td>NaN</td>\n",
       "      <td>NaN</td>\n",
       "      <td>NaN</td>\n",
       "      <td>NaN</td>\n",
       "      <td>NaN</td>\n",
       "      <td>NaN</td>\n",
       "      <td>NaN</td>\n",
       "    </tr>\n",
       "    <tr>\n",
       "      <th>WoCh-LSTM</th>\n",
       "      <td>NaN</td>\n",
       "      <td>NaN</td>\n",
       "      <td>NaN</td>\n",
       "      <td>NaN</td>\n",
       "      <td>NaN</td>\n",
       "      <td>NaN</td>\n",
       "      <td>NaN</td>\n",
       "      <td>NaN</td>\n",
       "      <td>NaN</td>\n",
       "      <td>NaN</td>\n",
       "      <td>NaN</td>\n",
       "    </tr>\n",
       "    <tr>\n",
       "      <th>WoCh-LSTM-CRF</th>\n",
       "      <td>NaN</td>\n",
       "      <td>NaN</td>\n",
       "      <td>NaN</td>\n",
       "      <td>NaN</td>\n",
       "      <td>NaN</td>\n",
       "      <td>NaN</td>\n",
       "      <td>NaN</td>\n",
       "      <td>NaN</td>\n",
       "      <td>NaN</td>\n",
       "      <td>NaN</td>\n",
       "      <td>NaN</td>\n",
       "    </tr>\n",
       "  </tbody>\n",
       "</table>\n",
       "</div>"
      ],
      "text/plain": [
       "                 fatText-2  Glove 42B  fastText  Amazon Reviews  Glove 6B 100  \\\n",
       "Wo-BiLSTM              NaN        NaN       NaN             NaN           NaN   \n",
       "Wo-BiLSTM-CRF          NaN        NaN       NaN             NaN           NaN   \n",
       "Wo-LSTM                NaN        NaN       NaN             NaN           NaN   \n",
       "Wo-LSTM-CRF            NaN        NaN       NaN             NaN           NaN   \n",
       "WoCh-BiLSTM            NaN        NaN       NaN             NaN           NaN   \n",
       "WoCh-BiLSTM-CRF        NaN        NaN       NaN             NaN           NaN   \n",
       "WoCh-LSTM              NaN        NaN       NaN             NaN           NaN   \n",
       "WoCh-LSTM-CRF          NaN        NaN       NaN             NaN           NaN   \n",
       "\n",
       "                 numberbatch  Glove 6B 50  Glove 840B  Glove 6B 200  \\\n",
       "Wo-BiLSTM                NaN          NaN         NaN           NaN   \n",
       "Wo-BiLSTM-CRF            NaN          NaN         NaN           NaN   \n",
       "Wo-LSTM                  NaN          NaN         NaN           NaN   \n",
       "Wo-LSTM-CRF              NaN          NaN         NaN           NaN   \n",
       "WoCh-BiLSTM              NaN          NaN         NaN           NaN   \n",
       "WoCh-BiLSTM-CRF          NaN          NaN         NaN           NaN   \n",
       "WoCh-LSTM                NaN          NaN         NaN           NaN   \n",
       "WoCh-LSTM-CRF            NaN          NaN         NaN           NaN   \n",
       "\n",
       "                 Glove 6B 300  word2vec  \n",
       "Wo-BiLSTM                 NaN       NaN  \n",
       "Wo-BiLSTM-CRF             NaN       NaN  \n",
       "Wo-LSTM                   NaN       NaN  \n",
       "Wo-LSTM-CRF               NaN       NaN  \n",
       "WoCh-BiLSTM               NaN       NaN  \n",
       "WoCh-BiLSTM-CRF           NaN       NaN  \n",
       "WoCh-LSTM                 NaN       NaN  \n",
       "WoCh-LSTM-CRF             NaN       NaN  "
      ]
     },
     "execution_count": 138,
     "metadata": {},
     "output_type": "execute_result"
    }
   ],
   "source": [
    "pd.DataFrame({\n",
    "        embedding: {\n",
    "            architecture: round(np.mean(metrics), 2) + 1\n",
    "            for architecture, metrics in architecture_metric.items()\n",
    "        }\n",
    "        for embedding, architecture_metric in results_df.to_dict().items()\n",
    "    })"
   ]
  },
  {
   "cell_type": "code",
   "execution_count": 107,
   "metadata": {
    "ExecuteTime": {
     "end_time": "2018-12-10T15:46:47.448101Z",
     "start_time": "2018-12-10T15:46:47.428708Z"
    }
   },
   "outputs": [],
   "source": [
    "def count_mean_and_std_dev_for_each_cell(results_df: pd.DataFrame):\n",
    "    return pd.DataFrame({\n",
    "        embedding: {\n",
    "            architecture: round(np.mean(metrics), 2) + 1\n",
    "            for architecture, metrics in architecture_metric.items()\n",
    "        }\n",
    "        for embedding, architecture_metric in results_df.to_dict().items()\n",
    "    })"
   ]
  },
  {
   "cell_type": "code",
   "execution_count": 108,
   "metadata": {
    "ExecuteTime": {
     "end_time": "2018-12-10T15:46:47.697947Z",
     "start_time": "2018-12-10T15:46:47.654826Z"
    }
   },
   "outputs": [
    {
     "data": {
      "text/html": [
       "<div>\n",
       "<style scoped>\n",
       "    .dataframe tbody tr th:only-of-type {\n",
       "        vertical-align: middle;\n",
       "    }\n",
       "\n",
       "    .dataframe tbody tr th {\n",
       "        vertical-align: top;\n",
       "    }\n",
       "\n",
       "    .dataframe thead th {\n",
       "        text-align: right;\n",
       "    }\n",
       "</style>\n",
       "<table border=\"1\" class=\"dataframe\">\n",
       "  <thead>\n",
       "    <tr style=\"text-align: right;\">\n",
       "      <th></th>\n",
       "      <th>fatText-2</th>\n",
       "      <th>Glove 42B</th>\n",
       "      <th>fastText</th>\n",
       "      <th>Amazon Reviews</th>\n",
       "      <th>Glove 6B 100</th>\n",
       "      <th>numberbatch</th>\n",
       "      <th>Glove 6B 50</th>\n",
       "      <th>Glove 840B</th>\n",
       "      <th>Glove 6B 200</th>\n",
       "      <th>Glove 6B 300</th>\n",
       "      <th>word2vec</th>\n",
       "    </tr>\n",
       "  </thead>\n",
       "  <tbody>\n",
       "    <tr>\n",
       "      <th>Wo-LSTM</th>\n",
       "      <td>77.67</td>\n",
       "      <td>81.28</td>\n",
       "      <td>80.80</td>\n",
       "      <td>48.78</td>\n",
       "      <td>75.04</td>\n",
       "      <td>76.26</td>\n",
       "      <td>70.24</td>\n",
       "      <td>80.91</td>\n",
       "      <td>78.69</td>\n",
       "      <td>79.22</td>\n",
       "      <td>77.73</td>\n",
       "    </tr>\n",
       "    <tr>\n",
       "      <th>WoCh-LSTM</th>\n",
       "      <td>78.74</td>\n",
       "      <td>80.91</td>\n",
       "      <td>79.91</td>\n",
       "      <td>65.81</td>\n",
       "      <td>78.04</td>\n",
       "      <td>76.11</td>\n",
       "      <td>73.35</td>\n",
       "      <td>81.26</td>\n",
       "      <td>78.30</td>\n",
       "      <td>78.70</td>\n",
       "      <td>78.15</td>\n",
       "    </tr>\n",
       "    <tr>\n",
       "      <th>Wo-LSTM-CRF</th>\n",
       "      <td>84.43</td>\n",
       "      <td>85.64</td>\n",
       "      <td>85.46</td>\n",
       "      <td>52.09</td>\n",
       "      <td>82.52</td>\n",
       "      <td>82.19</td>\n",
       "      <td>76.16</td>\n",
       "      <td>85.02</td>\n",
       "      <td>83.26</td>\n",
       "      <td>82.70</td>\n",
       "      <td>82.49</td>\n",
       "    </tr>\n",
       "    <tr>\n",
       "      <th>WoCh-LSTM-CRF</th>\n",
       "      <td>84.96</td>\n",
       "      <td>85.37</td>\n",
       "      <td>85.25</td>\n",
       "      <td>72.84</td>\n",
       "      <td>82.79</td>\n",
       "      <td>82.92</td>\n",
       "      <td>79.38</td>\n",
       "      <td>84.91</td>\n",
       "      <td>83.30</td>\n",
       "      <td>82.56</td>\n",
       "      <td>84.12</td>\n",
       "    </tr>\n",
       "    <tr>\n",
       "      <th>Wo-BiLSTM</th>\n",
       "      <td>80.85</td>\n",
       "      <td>83.08</td>\n",
       "      <td>83.17</td>\n",
       "      <td>50.49</td>\n",
       "      <td>81.30</td>\n",
       "      <td>78.57</td>\n",
       "      <td>75.97</td>\n",
       "      <td>83.56</td>\n",
       "      <td>82.09</td>\n",
       "      <td>81.31</td>\n",
       "      <td>80.16</td>\n",
       "    </tr>\n",
       "    <tr>\n",
       "      <th>WoCh-BiLSTM</th>\n",
       "      <td>81.75</td>\n",
       "      <td>83.64</td>\n",
       "      <td>83.27</td>\n",
       "      <td>69.53</td>\n",
       "      <td>79.47</td>\n",
       "      <td>80.89</td>\n",
       "      <td>77.64</td>\n",
       "      <td>83.55</td>\n",
       "      <td>80.87</td>\n",
       "      <td>81.50</td>\n",
       "      <td>81.39</td>\n",
       "    </tr>\n",
       "    <tr>\n",
       "      <th>Wo-BiLSTM-CRF</th>\n",
       "      <td>84.62</td>\n",
       "      <td>84.97</td>\n",
       "      <td>85.28</td>\n",
       "      <td>50.63</td>\n",
       "      <td>84.01</td>\n",
       "      <td>82.31</td>\n",
       "      <td>79.03</td>\n",
       "      <td>84.96</td>\n",
       "      <td>83.81</td>\n",
       "      <td>82.99</td>\n",
       "      <td>82.94</td>\n",
       "    </tr>\n",
       "    <tr>\n",
       "      <th>WoCh-BiLSTM-CRF</th>\n",
       "      <td>84.54</td>\n",
       "      <td>86.05</td>\n",
       "      <td>85.69</td>\n",
       "      <td>73.50</td>\n",
       "      <td>84.16</td>\n",
       "      <td>82.85</td>\n",
       "      <td>80.79</td>\n",
       "      <td>85.20</td>\n",
       "      <td>83.74</td>\n",
       "      <td>83.26</td>\n",
       "      <td>83.61</td>\n",
       "    </tr>\n",
       "  </tbody>\n",
       "</table>\n",
       "</div>"
      ],
      "text/plain": [
       "                 fatText-2  Glove 42B  fastText  Amazon Reviews  Glove 6B 100  \\\n",
       "Wo-LSTM              77.67      81.28     80.80           48.78         75.04   \n",
       "WoCh-LSTM            78.74      80.91     79.91           65.81         78.04   \n",
       "Wo-LSTM-CRF          84.43      85.64     85.46           52.09         82.52   \n",
       "WoCh-LSTM-CRF        84.96      85.37     85.25           72.84         82.79   \n",
       "Wo-BiLSTM            80.85      83.08     83.17           50.49         81.30   \n",
       "WoCh-BiLSTM          81.75      83.64     83.27           69.53         79.47   \n",
       "Wo-BiLSTM-CRF        84.62      84.97     85.28           50.63         84.01   \n",
       "WoCh-BiLSTM-CRF      84.54      86.05     85.69           73.50         84.16   \n",
       "\n",
       "                 numberbatch  Glove 6B 50  Glove 840B  Glove 6B 200  \\\n",
       "Wo-LSTM                76.26        70.24       80.91         78.69   \n",
       "WoCh-LSTM              76.11        73.35       81.26         78.30   \n",
       "Wo-LSTM-CRF            82.19        76.16       85.02         83.26   \n",
       "WoCh-LSTM-CRF          82.92        79.38       84.91         83.30   \n",
       "Wo-BiLSTM              78.57        75.97       83.56         82.09   \n",
       "WoCh-BiLSTM            80.89        77.64       83.55         80.87   \n",
       "Wo-BiLSTM-CRF          82.31        79.03       84.96         83.81   \n",
       "WoCh-BiLSTM-CRF        82.85        80.79       85.20         83.74   \n",
       "\n",
       "                 Glove 6B 300  word2vec  \n",
       "Wo-LSTM                 79.22     77.73  \n",
       "WoCh-LSTM               78.70     78.15  \n",
       "Wo-LSTM-CRF             82.70     82.49  \n",
       "WoCh-LSTM-CRF           82.56     84.12  \n",
       "Wo-BiLSTM               81.31     80.16  \n",
       "WoCh-BiLSTM             81.50     81.39  \n",
       "Wo-BiLSTM-CRF           82.99     82.94  \n",
       "WoCh-BiLSTM-CRF         83.26     83.61  "
      ]
     },
     "execution_count": 108,
     "metadata": {},
     "output_type": "execute_result"
    }
   ],
   "source": [
    "results_df_avg = count_mean_and_std_dev_for_each_cell(results_df).reindex(nlp_architect.REINDEX_RESULTS_ORDER)\n",
    "results_df_avg.to_excel((results_path / f'{dataset_sub_name}-aspects-5-runs.xlsx').as_posix())\n",
    "results_df_avg"
   ]
  },
  {
   "cell_type": "code",
   "execution_count": 109,
   "metadata": {
    "ExecuteTime": {
     "end_time": "2018-12-10T15:46:50.791271Z",
     "start_time": "2018-12-10T15:46:50.772448Z"
    }
   },
   "outputs": [],
   "source": [
    "max_values_per_columns = results_df_avg.transpose().max(axis=1).to_dict()"
   ]
  },
  {
   "cell_type": "code",
   "execution_count": 110,
   "metadata": {
    "ExecuteTime": {
     "end_time": "2018-12-10T15:46:51.284116Z",
     "start_time": "2018-12-10T15:46:51.266444Z"
    }
   },
   "outputs": [
    {
     "data": {
      "text/plain": [
       "{'fatText-2': 84.96,\n",
       " 'Glove 42B': 86.05,\n",
       " 'fastText': 85.69,\n",
       " 'Amazon Reviews': 73.5,\n",
       " 'Glove 6B 100': 84.16,\n",
       " 'numberbatch': 82.92,\n",
       " 'Glove 6B 50': 80.79,\n",
       " 'Glove 840B': 85.2,\n",
       " 'Glove 6B 200': 83.81,\n",
       " 'Glove 6B 300': 83.26,\n",
       " 'word2vec': 84.12}"
      ]
     },
     "execution_count": 110,
     "metadata": {},
     "output_type": "execute_result"
    }
   ],
   "source": [
    "max_values_per_columns"
   ]
  },
  {
   "cell_type": "markdown",
   "metadata": {},
   "source": [
    "# Results with +/- std  "
   ]
  },
  {
   "cell_type": "code",
   "execution_count": 111,
   "metadata": {
    "ExecuteTime": {
     "end_time": "2018-12-10T15:46:52.552013Z",
     "start_time": "2018-12-10T15:46:52.532994Z"
    }
   },
   "outputs": [],
   "source": [
    "def count_mean_and_std_dev_for_each_cell_tex_ready(results_df: pd.DataFrame):\n",
    "    return pd.DataFrame({\n",
    "        embedding: {\n",
    "            architecture: str(round(np.mean(metrics), 2) + 1) + ' +/- ' + str(\n",
    "                round(np.std(metrics), 2))\n",
    "            for architecture, metrics in architecture_metric.items()\n",
    "        }\n",
    "        for embedding, architecture_metric in results_df.to_dict().items()\n",
    "    })"
   ]
  },
  {
   "cell_type": "code",
   "execution_count": 112,
   "metadata": {
    "ExecuteTime": {
     "end_time": "2018-12-10T15:46:53.095884Z",
     "start_time": "2018-12-10T15:46:53.036282Z"
    }
   },
   "outputs": [
    {
     "data": {
      "text/html": [
       "<div>\n",
       "<style scoped>\n",
       "    .dataframe tbody tr th:only-of-type {\n",
       "        vertical-align: middle;\n",
       "    }\n",
       "\n",
       "    .dataframe tbody tr th {\n",
       "        vertical-align: top;\n",
       "    }\n",
       "\n",
       "    .dataframe thead th {\n",
       "        text-align: right;\n",
       "    }\n",
       "</style>\n",
       "<table border=\"1\" class=\"dataframe\">\n",
       "  <thead>\n",
       "    <tr style=\"text-align: right;\">\n",
       "      <th></th>\n",
       "      <th>fatText-2</th>\n",
       "      <th>Glove 42B</th>\n",
       "      <th>fastText</th>\n",
       "      <th>Amazon Reviews</th>\n",
       "      <th>Glove 6B 100</th>\n",
       "      <th>numberbatch</th>\n",
       "      <th>Glove 6B 50</th>\n",
       "      <th>Glove 840B</th>\n",
       "      <th>Glove 6B 200</th>\n",
       "      <th>Glove 6B 300</th>\n",
       "      <th>word2vec</th>\n",
       "    </tr>\n",
       "  </thead>\n",
       "  <tbody>\n",
       "    <tr>\n",
       "      <th>Wo-LSTM</th>\n",
       "      <td>77.67 +/- 1.29</td>\n",
       "      <td>81.28 +/- 0.6</td>\n",
       "      <td>80.8 +/- 1.49</td>\n",
       "      <td>48.78 +/- 1.02</td>\n",
       "      <td>75.04 +/- 1.81</td>\n",
       "      <td>76.26 +/- 0.75</td>\n",
       "      <td>70.24 +/- 2.9</td>\n",
       "      <td>80.91 +/- 1.1</td>\n",
       "      <td>78.69 +/- 1.3</td>\n",
       "      <td>79.22 +/- 0.58</td>\n",
       "      <td>77.73 +/- 0.74</td>\n",
       "    </tr>\n",
       "    <tr>\n",
       "      <th>WoCh-LSTM</th>\n",
       "      <td>78.74 +/- 0.53</td>\n",
       "      <td>80.91 +/- 1.33</td>\n",
       "      <td>79.91 +/- 1.85</td>\n",
       "      <td>65.81 +/- 2.3</td>\n",
       "      <td>78.04 +/- 0.69</td>\n",
       "      <td>76.11 +/- 1.9</td>\n",
       "      <td>73.35 +/- 1.63</td>\n",
       "      <td>81.26 +/- 0.42</td>\n",
       "      <td>78.3 +/- 0.81</td>\n",
       "      <td>78.7 +/- 0.54</td>\n",
       "      <td>78.15 +/- 0.54</td>\n",
       "    </tr>\n",
       "    <tr>\n",
       "      <th>Wo-LSTM-CRF</th>\n",
       "      <td>84.43 +/- 0.55</td>\n",
       "      <td>85.64 +/- 0.28</td>\n",
       "      <td>85.46 +/- 0.21</td>\n",
       "      <td>52.09 +/- 0.98</td>\n",
       "      <td>82.52 +/- 0.46</td>\n",
       "      <td>82.19 +/- 0.84</td>\n",
       "      <td>76.16 +/- 0.77</td>\n",
       "      <td>85.02 +/- 0.23</td>\n",
       "      <td>83.26 +/- 0.33</td>\n",
       "      <td>82.7 +/- 0.78</td>\n",
       "      <td>82.49 +/- 0.32</td>\n",
       "    </tr>\n",
       "    <tr>\n",
       "      <th>WoCh-LSTM-CRF</th>\n",
       "      <td>84.96 +/- 0.58</td>\n",
       "      <td>85.37 +/- 0.57</td>\n",
       "      <td>85.25 +/- 0.46</td>\n",
       "      <td>72.84 +/- 0.62</td>\n",
       "      <td>82.79 +/- 0.51</td>\n",
       "      <td>82.92 +/- 0.33</td>\n",
       "      <td>79.38 +/- 0.4</td>\n",
       "      <td>84.91 +/- 0.38</td>\n",
       "      <td>83.3 +/- 0.2</td>\n",
       "      <td>82.56 +/- 0.66</td>\n",
       "      <td>84.12 +/- 0.3</td>\n",
       "    </tr>\n",
       "    <tr>\n",
       "      <th>Wo-BiLSTM</th>\n",
       "      <td>80.85 +/- 1.98</td>\n",
       "      <td>83.08 +/- 0.37</td>\n",
       "      <td>83.17 +/- 0.54</td>\n",
       "      <td>50.49 +/- 0.87</td>\n",
       "      <td>81.3 +/- 0.28</td>\n",
       "      <td>78.57 +/- 1.04</td>\n",
       "      <td>75.97 +/- 0.7</td>\n",
       "      <td>83.56 +/- 0.22</td>\n",
       "      <td>82.09 +/- 0.7</td>\n",
       "      <td>81.31 +/- 0.61</td>\n",
       "      <td>80.16 +/- 0.74</td>\n",
       "    </tr>\n",
       "    <tr>\n",
       "      <th>WoCh-BiLSTM</th>\n",
       "      <td>81.75 +/- 0.92</td>\n",
       "      <td>83.64 +/- 1.04</td>\n",
       "      <td>83.27 +/- 0.61</td>\n",
       "      <td>69.53 +/- 1.52</td>\n",
       "      <td>79.47 +/- 2.27</td>\n",
       "      <td>80.89 +/- 0.26</td>\n",
       "      <td>77.64 +/- 1.33</td>\n",
       "      <td>83.55 +/- 0.3</td>\n",
       "      <td>80.87 +/- 0.85</td>\n",
       "      <td>81.5 +/- 0.68</td>\n",
       "      <td>81.39 +/- 1.08</td>\n",
       "    </tr>\n",
       "    <tr>\n",
       "      <th>Wo-BiLSTM-CRF</th>\n",
       "      <td>84.62 +/- 1.04</td>\n",
       "      <td>84.97 +/- 1.22</td>\n",
       "      <td>85.28 +/- 0.46</td>\n",
       "      <td>50.63 +/- 0.5</td>\n",
       "      <td>84.01 +/- 0.49</td>\n",
       "      <td>82.31 +/- 0.47</td>\n",
       "      <td>79.03 +/- 0.64</td>\n",
       "      <td>84.96 +/- 0.54</td>\n",
       "      <td>83.81 +/- 0.19</td>\n",
       "      <td>82.99 +/- 0.53</td>\n",
       "      <td>82.94 +/- 0.51</td>\n",
       "    </tr>\n",
       "    <tr>\n",
       "      <th>WoCh-BiLSTM-CRF</th>\n",
       "      <td>84.54 +/- 0.35</td>\n",
       "      <td>86.05 +/- 0.37</td>\n",
       "      <td>85.69 +/- 0.64</td>\n",
       "      <td>73.5 +/- 0.91</td>\n",
       "      <td>84.16 +/- 0.34</td>\n",
       "      <td>82.85 +/- 0.41</td>\n",
       "      <td>80.79 +/- 0.42</td>\n",
       "      <td>85.2 +/- 0.28</td>\n",
       "      <td>83.74 +/- 0.56</td>\n",
       "      <td>83.26 +/- 0.53</td>\n",
       "      <td>83.61 +/- 1.35</td>\n",
       "    </tr>\n",
       "  </tbody>\n",
       "</table>\n",
       "</div>"
      ],
      "text/plain": [
       "                      fatText-2       Glove 42B        fastText  \\\n",
       "Wo-LSTM          77.67 +/- 1.29   81.28 +/- 0.6   80.8 +/- 1.49   \n",
       "WoCh-LSTM        78.74 +/- 0.53  80.91 +/- 1.33  79.91 +/- 1.85   \n",
       "Wo-LSTM-CRF      84.43 +/- 0.55  85.64 +/- 0.28  85.46 +/- 0.21   \n",
       "WoCh-LSTM-CRF    84.96 +/- 0.58  85.37 +/- 0.57  85.25 +/- 0.46   \n",
       "Wo-BiLSTM        80.85 +/- 1.98  83.08 +/- 0.37  83.17 +/- 0.54   \n",
       "WoCh-BiLSTM      81.75 +/- 0.92  83.64 +/- 1.04  83.27 +/- 0.61   \n",
       "Wo-BiLSTM-CRF    84.62 +/- 1.04  84.97 +/- 1.22  85.28 +/- 0.46   \n",
       "WoCh-BiLSTM-CRF  84.54 +/- 0.35  86.05 +/- 0.37  85.69 +/- 0.64   \n",
       "\n",
       "                 Amazon Reviews    Glove 6B 100     numberbatch  \\\n",
       "Wo-LSTM          48.78 +/- 1.02  75.04 +/- 1.81  76.26 +/- 0.75   \n",
       "WoCh-LSTM         65.81 +/- 2.3  78.04 +/- 0.69   76.11 +/- 1.9   \n",
       "Wo-LSTM-CRF      52.09 +/- 0.98  82.52 +/- 0.46  82.19 +/- 0.84   \n",
       "WoCh-LSTM-CRF    72.84 +/- 0.62  82.79 +/- 0.51  82.92 +/- 0.33   \n",
       "Wo-BiLSTM        50.49 +/- 0.87   81.3 +/- 0.28  78.57 +/- 1.04   \n",
       "WoCh-BiLSTM      69.53 +/- 1.52  79.47 +/- 2.27  80.89 +/- 0.26   \n",
       "Wo-BiLSTM-CRF     50.63 +/- 0.5  84.01 +/- 0.49  82.31 +/- 0.47   \n",
       "WoCh-BiLSTM-CRF   73.5 +/- 0.91  84.16 +/- 0.34  82.85 +/- 0.41   \n",
       "\n",
       "                    Glove 6B 50      Glove 840B    Glove 6B 200  \\\n",
       "Wo-LSTM           70.24 +/- 2.9   80.91 +/- 1.1   78.69 +/- 1.3   \n",
       "WoCh-LSTM        73.35 +/- 1.63  81.26 +/- 0.42   78.3 +/- 0.81   \n",
       "Wo-LSTM-CRF      76.16 +/- 0.77  85.02 +/- 0.23  83.26 +/- 0.33   \n",
       "WoCh-LSTM-CRF     79.38 +/- 0.4  84.91 +/- 0.38    83.3 +/- 0.2   \n",
       "Wo-BiLSTM         75.97 +/- 0.7  83.56 +/- 0.22   82.09 +/- 0.7   \n",
       "WoCh-BiLSTM      77.64 +/- 1.33   83.55 +/- 0.3  80.87 +/- 0.85   \n",
       "Wo-BiLSTM-CRF    79.03 +/- 0.64  84.96 +/- 0.54  83.81 +/- 0.19   \n",
       "WoCh-BiLSTM-CRF  80.79 +/- 0.42   85.2 +/- 0.28  83.74 +/- 0.56   \n",
       "\n",
       "                   Glove 6B 300        word2vec  \n",
       "Wo-LSTM          79.22 +/- 0.58  77.73 +/- 0.74  \n",
       "WoCh-LSTM         78.7 +/- 0.54  78.15 +/- 0.54  \n",
       "Wo-LSTM-CRF       82.7 +/- 0.78  82.49 +/- 0.32  \n",
       "WoCh-LSTM-CRF    82.56 +/- 0.66   84.12 +/- 0.3  \n",
       "Wo-BiLSTM        81.31 +/- 0.61  80.16 +/- 0.74  \n",
       "WoCh-BiLSTM       81.5 +/- 0.68  81.39 +/- 1.08  \n",
       "Wo-BiLSTM-CRF    82.99 +/- 0.53  82.94 +/- 0.51  \n",
       "WoCh-BiLSTM-CRF  83.26 +/- 0.53  83.61 +/- 1.35  "
      ]
     },
     "execution_count": 112,
     "metadata": {},
     "output_type": "execute_result"
    }
   ],
   "source": [
    "df_results_with_std = count_mean_and_std_dev_for_each_cell_tex_ready(results_df).reindex(nlp_architect.REINDEX_RESULTS_ORDER)\n",
    "df_results_with_std.to_excel((results_path / f'{dataset_sub_name}-aspects-with-std.xlsx').as_posix())\n",
    "df_results_with_std"
   ]
  },
  {
   "cell_type": "markdown",
   "metadata": {},
   "source": [
    "#  Plot graphs with error bars"
   ]
  },
  {
   "cell_type": "code",
   "execution_count": 113,
   "metadata": {
    "ExecuteTime": {
     "end_time": "2018-12-10T15:46:54.583499Z",
     "start_time": "2018-12-10T15:46:54.556310Z"
    }
   },
   "outputs": [
    {
     "data": {
      "text/html": [
       "<div>\n",
       "<style scoped>\n",
       "    .dataframe tbody tr th:only-of-type {\n",
       "        vertical-align: middle;\n",
       "    }\n",
       "\n",
       "    .dataframe tbody tr th {\n",
       "        vertical-align: top;\n",
       "    }\n",
       "\n",
       "    .dataframe thead th {\n",
       "        text-align: right;\n",
       "    }\n",
       "</style>\n",
       "<table border=\"1\" class=\"dataframe\">\n",
       "  <thead>\n",
       "    <tr style=\"text-align: right;\">\n",
       "      <th></th>\n",
       "      <th>fatText-2</th>\n",
       "      <th>Glove 42B</th>\n",
       "      <th>fastText</th>\n",
       "      <th>Amazon Reviews</th>\n",
       "      <th>Glove 6B 100</th>\n",
       "      <th>numberbatch</th>\n",
       "      <th>Glove 6B 50</th>\n",
       "      <th>Glove 840B</th>\n",
       "      <th>Glove 6B 200</th>\n",
       "      <th>Glove 6B 300</th>\n",
       "      <th>word2vec</th>\n",
       "    </tr>\n",
       "  </thead>\n",
       "  <tbody>\n",
       "    <tr>\n",
       "      <th>Wo-LSTM</th>\n",
       "      <td>77.67</td>\n",
       "      <td>81.28</td>\n",
       "      <td>80.80</td>\n",
       "      <td>48.78</td>\n",
       "      <td>75.04</td>\n",
       "      <td>76.26</td>\n",
       "      <td>70.24</td>\n",
       "      <td>80.91</td>\n",
       "      <td>78.69</td>\n",
       "      <td>79.22</td>\n",
       "      <td>77.73</td>\n",
       "    </tr>\n",
       "    <tr>\n",
       "      <th>WoCh-LSTM</th>\n",
       "      <td>78.74</td>\n",
       "      <td>80.91</td>\n",
       "      <td>79.91</td>\n",
       "      <td>65.81</td>\n",
       "      <td>78.04</td>\n",
       "      <td>76.11</td>\n",
       "      <td>73.35</td>\n",
       "      <td>81.26</td>\n",
       "      <td>78.30</td>\n",
       "      <td>78.70</td>\n",
       "      <td>78.15</td>\n",
       "    </tr>\n",
       "    <tr>\n",
       "      <th>Wo-LSTM-CRF</th>\n",
       "      <td>84.43</td>\n",
       "      <td>85.64</td>\n",
       "      <td>85.46</td>\n",
       "      <td>52.09</td>\n",
       "      <td>82.52</td>\n",
       "      <td>82.19</td>\n",
       "      <td>76.16</td>\n",
       "      <td>85.02</td>\n",
       "      <td>83.26</td>\n",
       "      <td>82.70</td>\n",
       "      <td>82.49</td>\n",
       "    </tr>\n",
       "    <tr>\n",
       "      <th>WoCh-LSTM-CRF</th>\n",
       "      <td>84.96</td>\n",
       "      <td>85.37</td>\n",
       "      <td>85.25</td>\n",
       "      <td>72.84</td>\n",
       "      <td>82.79</td>\n",
       "      <td>82.92</td>\n",
       "      <td>79.38</td>\n",
       "      <td>84.91</td>\n",
       "      <td>83.30</td>\n",
       "      <td>82.56</td>\n",
       "      <td>84.12</td>\n",
       "    </tr>\n",
       "    <tr>\n",
       "      <th>Wo-BiLSTM</th>\n",
       "      <td>80.85</td>\n",
       "      <td>83.08</td>\n",
       "      <td>83.17</td>\n",
       "      <td>50.49</td>\n",
       "      <td>81.30</td>\n",
       "      <td>78.57</td>\n",
       "      <td>75.97</td>\n",
       "      <td>83.56</td>\n",
       "      <td>82.09</td>\n",
       "      <td>81.31</td>\n",
       "      <td>80.16</td>\n",
       "    </tr>\n",
       "    <tr>\n",
       "      <th>WoCh-BiLSTM</th>\n",
       "      <td>81.75</td>\n",
       "      <td>83.64</td>\n",
       "      <td>83.27</td>\n",
       "      <td>69.53</td>\n",
       "      <td>79.47</td>\n",
       "      <td>80.89</td>\n",
       "      <td>77.64</td>\n",
       "      <td>83.55</td>\n",
       "      <td>80.87</td>\n",
       "      <td>81.50</td>\n",
       "      <td>81.39</td>\n",
       "    </tr>\n",
       "    <tr>\n",
       "      <th>Wo-BiLSTM-CRF</th>\n",
       "      <td>84.62</td>\n",
       "      <td>84.97</td>\n",
       "      <td>85.28</td>\n",
       "      <td>50.63</td>\n",
       "      <td>84.01</td>\n",
       "      <td>82.31</td>\n",
       "      <td>79.03</td>\n",
       "      <td>84.96</td>\n",
       "      <td>83.81</td>\n",
       "      <td>82.99</td>\n",
       "      <td>82.94</td>\n",
       "    </tr>\n",
       "    <tr>\n",
       "      <th>WoCh-BiLSTM-CRF</th>\n",
       "      <td>84.54</td>\n",
       "      <td>86.05</td>\n",
       "      <td>85.69</td>\n",
       "      <td>73.50</td>\n",
       "      <td>84.16</td>\n",
       "      <td>82.85</td>\n",
       "      <td>80.79</td>\n",
       "      <td>85.20</td>\n",
       "      <td>83.74</td>\n",
       "      <td>83.26</td>\n",
       "      <td>83.61</td>\n",
       "    </tr>\n",
       "  </tbody>\n",
       "</table>\n",
       "</div>"
      ],
      "text/plain": [
       "                 fatText-2  Glove 42B  fastText  Amazon Reviews  Glove 6B 100  \\\n",
       "Wo-LSTM              77.67      81.28     80.80           48.78         75.04   \n",
       "WoCh-LSTM            78.74      80.91     79.91           65.81         78.04   \n",
       "Wo-LSTM-CRF          84.43      85.64     85.46           52.09         82.52   \n",
       "WoCh-LSTM-CRF        84.96      85.37     85.25           72.84         82.79   \n",
       "Wo-BiLSTM            80.85      83.08     83.17           50.49         81.30   \n",
       "WoCh-BiLSTM          81.75      83.64     83.27           69.53         79.47   \n",
       "Wo-BiLSTM-CRF        84.62      84.97     85.28           50.63         84.01   \n",
       "WoCh-BiLSTM-CRF      84.54      86.05     85.69           73.50         84.16   \n",
       "\n",
       "                 numberbatch  Glove 6B 50  Glove 840B  Glove 6B 200  \\\n",
       "Wo-LSTM                76.26        70.24       80.91         78.69   \n",
       "WoCh-LSTM              76.11        73.35       81.26         78.30   \n",
       "Wo-LSTM-CRF            82.19        76.16       85.02         83.26   \n",
       "WoCh-LSTM-CRF          82.92        79.38       84.91         83.30   \n",
       "Wo-BiLSTM              78.57        75.97       83.56         82.09   \n",
       "WoCh-BiLSTM            80.89        77.64       83.55         80.87   \n",
       "Wo-BiLSTM-CRF          82.31        79.03       84.96         83.81   \n",
       "WoCh-BiLSTM-CRF        82.85        80.79       85.20         83.74   \n",
       "\n",
       "                 Glove 6B 300  word2vec  \n",
       "Wo-LSTM                 79.22     77.73  \n",
       "WoCh-LSTM               78.70     78.15  \n",
       "Wo-LSTM-CRF             82.70     82.49  \n",
       "WoCh-LSTM-CRF           82.56     84.12  \n",
       "Wo-BiLSTM               81.31     80.16  \n",
       "WoCh-BiLSTM             81.50     81.39  \n",
       "Wo-BiLSTM-CRF           82.99     82.94  \n",
       "WoCh-BiLSTM-CRF         83.26     83.61  "
      ]
     },
     "execution_count": 113,
     "metadata": {},
     "output_type": "execute_result"
    }
   ],
   "source": [
    "results_df_avg"
   ]
  },
  {
   "cell_type": "code",
   "execution_count": 114,
   "metadata": {
    "ExecuteTime": {
     "end_time": "2018-12-10T15:46:56.314901Z",
     "start_time": "2018-12-10T15:46:56.295762Z"
    }
   },
   "outputs": [],
   "source": [
    "def draw_bar_graph_count_mean_and_std_dev(results_df: pd.DataFrame):\n",
    "    traces = []\n",
    "\n",
    "    for embedding, architecture_metric in results_df.to_dict().items():\n",
    "        ys = []\n",
    "        xs = []\n",
    "        error_y = []\n",
    "\n",
    "        for architecture, metrics in architecture_metric.items():\n",
    "            ys.append(round(np.mean(metrics), 2) + 1)\n",
    "            xs.append(architecture)\n",
    "            error_y.append(round(np.std(metrics), 2))\n",
    "\n",
    "        traces.append(\n",
    "            Bar(x=xs,\n",
    "                y=ys,\n",
    "                name=embedding,\n",
    "                error_y=dict(type='data', array=error_y, visible=True)))\n",
    "\n",
    "    layout = Layout(barmode='group')\n",
    "\n",
    "    fig = Figure(data=traces, layout=layout)\n",
    "    iplot(fig)"
   ]
  },
  {
   "cell_type": "code",
   "execution_count": 115,
   "metadata": {
    "ExecuteTime": {
     "end_time": "2018-12-10T15:46:56.854903Z",
     "start_time": "2018-12-10T15:46:56.732855Z"
    }
   },
   "outputs": [
    {
     "data": {
      "text/html": [
       "<div id=\"2af2a3a2-6606-4aad-ba1a-f618e71ca424\" style=\"height: 525px; width: 100%;\" class=\"plotly-graph-div\"></div><script type=\"text/javascript\">require([\"plotly\"], function(Plotly) { window.PLOTLYENV=window.PLOTLYENV || {};window.PLOTLYENV.BASE_URL=\"https://plot.ly\";Plotly.newPlot(\"2af2a3a2-6606-4aad-ba1a-f618e71ca424\", [{\"type\": \"bar\", \"x\": [\"fatText-2\", \"Glove 42B\", \"fastText\", \"Amazon Reviews\", \"Glove 6B 100\", \"numberbatch\", \"Glove 6B 50\", \"Glove 840B\", \"Glove 6B 200\", \"Glove 6B 300\", \"word2vec\"], \"y\": [81.75, 83.64, 83.27, 69.53, 79.47, 80.89, 77.64, 83.55, 80.87, 81.5, 81.39], \"name\": \"WoCh-BiLSTM\", \"error_y\": {\"type\": \"data\", \"array\": [0.92, 1.04, 0.61, 1.52, 2.27, 0.26, 1.33, 0.3, 0.85, 0.68, 1.08], \"visible\": true}}, {\"type\": \"bar\", \"x\": [\"fatText-2\", \"Glove 42B\", \"fastText\", \"Amazon Reviews\", \"Glove 6B 100\", \"numberbatch\", \"Glove 6B 50\", \"Glove 840B\", \"Glove 6B 200\", \"Glove 6B 300\", \"word2vec\"], \"y\": [84.54, 86.05, 85.69, 73.5, 84.16, 82.85, 80.79, 85.2, 83.74, 83.26, 83.61], \"name\": \"WoCh-BiLSTM-CRF\", \"error_y\": {\"type\": \"data\", \"array\": [0.35, 0.37, 0.64, 0.91, 0.34, 0.41, 0.42, 0.28, 0.56, 0.53, 1.35], \"visible\": true}}, {\"type\": \"bar\", \"x\": [\"fatText-2\", \"Glove 42B\", \"fastText\", \"Amazon Reviews\", \"Glove 6B 100\", \"numberbatch\", \"Glove 6B 50\", \"Glove 840B\", \"Glove 6B 200\", \"Glove 6B 300\", \"word2vec\"], \"y\": [78.74, 80.91, 79.91, 65.81, 78.04, 76.11, 73.35, 81.26, 78.3, 78.7, 78.15], \"name\": \"WoCh-LSTM\", \"error_y\": {\"type\": \"data\", \"array\": [0.53, 1.33, 1.85, 2.3, 0.69, 1.9, 1.63, 0.42, 0.81, 0.54, 0.54], \"visible\": true}}, {\"type\": \"bar\", \"x\": [\"fatText-2\", \"Glove 42B\", \"fastText\", \"Amazon Reviews\", \"Glove 6B 100\", \"numberbatch\", \"Glove 6B 50\", \"Glove 840B\", \"Glove 6B 200\", \"Glove 6B 300\", \"word2vec\"], \"y\": [84.96, 85.37, 85.25, 72.84, 82.79, 82.92, 79.38, 84.91, 83.3, 82.56, 84.12], \"name\": \"WoCh-LSTM-CRF\", \"error_y\": {\"type\": \"data\", \"array\": [0.58, 0.57, 0.46, 0.62, 0.51, 0.33, 0.4, 0.38, 0.2, 0.66, 0.3], \"visible\": true}}, {\"type\": \"bar\", \"x\": [\"fatText-2\", \"Glove 42B\", \"fastText\", \"Amazon Reviews\", \"Glove 6B 100\", \"numberbatch\", \"Glove 6B 50\", \"Glove 840B\", \"Glove 6B 200\", \"Glove 6B 300\", \"word2vec\"], \"y\": [80.85, 83.08, 83.17, 50.49, 81.3, 78.57, 75.97, 83.56, 82.09, 81.31, 80.16], \"name\": \"Wo-BiLSTM\", \"error_y\": {\"type\": \"data\", \"array\": [1.98, 0.37, 0.54, 0.87, 0.28, 1.04, 0.7, 0.22, 0.7, 0.61, 0.74], \"visible\": true}}, {\"type\": \"bar\", \"x\": [\"fatText-2\", \"Glove 42B\", \"fastText\", \"Amazon Reviews\", \"Glove 6B 100\", \"numberbatch\", \"Glove 6B 50\", \"Glove 840B\", \"Glove 6B 200\", \"Glove 6B 300\", \"word2vec\"], \"y\": [84.62, 84.97, 85.28, 50.63, 84.01, 82.31, 79.03, 84.96, 83.81, 82.99, 82.94], \"name\": \"Wo-BiLSTM-CRF\", \"error_y\": {\"type\": \"data\", \"array\": [1.04, 1.22, 0.46, 0.5, 0.49, 0.47, 0.64, 0.54, 0.19, 0.53, 0.51], \"visible\": true}}, {\"type\": \"bar\", \"x\": [\"fatText-2\", \"Glove 42B\", \"fastText\", \"Amazon Reviews\", \"Glove 6B 100\", \"numberbatch\", \"Glove 6B 50\", \"Glove 840B\", \"Glove 6B 200\", \"Glove 6B 300\", \"word2vec\"], \"y\": [77.67, 81.28, 80.8, 48.78, 75.04, 76.26, 70.24, 80.91, 78.69, 79.22, 77.73], \"name\": \"Wo-LSTM\", \"error_y\": {\"type\": \"data\", \"array\": [1.29, 0.6, 1.49, 1.02, 1.81, 0.75, 2.9, 1.1, 1.3, 0.58, 0.74], \"visible\": true}}, {\"type\": \"bar\", \"x\": [\"fatText-2\", \"Glove 42B\", \"fastText\", \"Amazon Reviews\", \"Glove 6B 100\", \"numberbatch\", \"Glove 6B 50\", \"Glove 840B\", \"Glove 6B 200\", \"Glove 6B 300\", \"word2vec\"], \"y\": [84.43, 85.64, 85.46, 52.09, 82.52, 82.19, 76.16, 85.02, 83.26, 82.7, 82.49], \"name\": \"Wo-LSTM-CRF\", \"error_y\": {\"type\": \"data\", \"array\": [0.55, 0.28, 0.21, 0.98, 0.46, 0.84, 0.77, 0.23, 0.33, 0.78, 0.32], \"visible\": true}}], {\"barmode\": \"group\"}, {\"showLink\": true, \"linkText\": \"Export to plot.ly\"})});</script>"
      ],
      "text/plain": [
       "<IPython.core.display.HTML object>"
      ]
     },
     "metadata": {},
     "output_type": "display_data"
    }
   ],
   "source": [
    "draw_bar_graph_count_mean_and_std_dev(results_df.transpose())"
   ]
  },
  {
   "cell_type": "code",
   "execution_count": 116,
   "metadata": {
    "ExecuteTime": {
     "end_time": "2018-12-10T15:46:57.487421Z",
     "start_time": "2018-12-10T15:46:57.353578Z"
    }
   },
   "outputs": [
    {
     "data": {
      "text/html": [
       "<div id=\"b45dc10b-091d-4b1f-ace4-c6667f391098\" style=\"height: 525px; width: 100%;\" class=\"plotly-graph-div\"></div><script type=\"text/javascript\">require([\"plotly\"], function(Plotly) { window.PLOTLYENV=window.PLOTLYENV || {};window.PLOTLYENV.BASE_URL=\"https://plot.ly\";Plotly.newPlot(\"b45dc10b-091d-4b1f-ace4-c6667f391098\", [{\"type\": \"bar\", \"x\": [\"WoCh-BiLSTM\", \"WoCh-BiLSTM-CRF\", \"WoCh-LSTM\", \"WoCh-LSTM-CRF\", \"Wo-BiLSTM\", \"Wo-BiLSTM-CRF\", \"Wo-LSTM\", \"Wo-LSTM-CRF\"], \"y\": [81.75, 84.54, 78.74, 84.96, 80.85, 84.62, 77.67, 84.43], \"name\": \"fatText-2\", \"error_y\": {\"type\": \"data\", \"array\": [0.92, 0.35, 0.53, 0.58, 1.98, 1.04, 1.29, 0.55], \"visible\": true}}, {\"type\": \"bar\", \"x\": [\"WoCh-BiLSTM\", \"WoCh-BiLSTM-CRF\", \"WoCh-LSTM\", \"WoCh-LSTM-CRF\", \"Wo-BiLSTM\", \"Wo-BiLSTM-CRF\", \"Wo-LSTM\", \"Wo-LSTM-CRF\"], \"y\": [83.64, 86.05, 80.91, 85.37, 83.08, 84.97, 81.28, 85.64], \"name\": \"Glove 42B\", \"error_y\": {\"type\": \"data\", \"array\": [1.04, 0.37, 1.33, 0.57, 0.37, 1.22, 0.6, 0.28], \"visible\": true}}, {\"type\": \"bar\", \"x\": [\"WoCh-BiLSTM\", \"WoCh-BiLSTM-CRF\", \"WoCh-LSTM\", \"WoCh-LSTM-CRF\", \"Wo-BiLSTM\", \"Wo-BiLSTM-CRF\", \"Wo-LSTM\", \"Wo-LSTM-CRF\"], \"y\": [83.27, 85.69, 79.91, 85.25, 83.17, 85.28, 80.8, 85.46], \"name\": \"fastText\", \"error_y\": {\"type\": \"data\", \"array\": [0.61, 0.64, 1.85, 0.46, 0.54, 0.46, 1.49, 0.21], \"visible\": true}}, {\"type\": \"bar\", \"x\": [\"WoCh-BiLSTM\", \"WoCh-BiLSTM-CRF\", \"WoCh-LSTM\", \"WoCh-LSTM-CRF\", \"Wo-BiLSTM\", \"Wo-BiLSTM-CRF\", \"Wo-LSTM\", \"Wo-LSTM-CRF\"], \"y\": [69.53, 73.5, 65.81, 72.84, 50.49, 50.63, 48.78, 52.09], \"name\": \"Amazon Reviews\", \"error_y\": {\"type\": \"data\", \"array\": [1.52, 0.91, 2.3, 0.62, 0.87, 0.5, 1.02, 0.98], \"visible\": true}}, {\"type\": \"bar\", \"x\": [\"WoCh-BiLSTM\", \"WoCh-BiLSTM-CRF\", \"WoCh-LSTM\", \"WoCh-LSTM-CRF\", \"Wo-BiLSTM\", \"Wo-BiLSTM-CRF\", \"Wo-LSTM\", \"Wo-LSTM-CRF\"], \"y\": [79.47, 84.16, 78.04, 82.79, 81.3, 84.01, 75.04, 82.52], \"name\": \"Glove 6B 100\", \"error_y\": {\"type\": \"data\", \"array\": [2.27, 0.34, 0.69, 0.51, 0.28, 0.49, 1.81, 0.46], \"visible\": true}}, {\"type\": \"bar\", \"x\": [\"WoCh-BiLSTM\", \"WoCh-BiLSTM-CRF\", \"WoCh-LSTM\", \"WoCh-LSTM-CRF\", \"Wo-BiLSTM\", \"Wo-BiLSTM-CRF\", \"Wo-LSTM\", \"Wo-LSTM-CRF\"], \"y\": [80.89, 82.85, 76.11, 82.92, 78.57, 82.31, 76.26, 82.19], \"name\": \"numberbatch\", \"error_y\": {\"type\": \"data\", \"array\": [0.26, 0.41, 1.9, 0.33, 1.04, 0.47, 0.75, 0.84], \"visible\": true}}, {\"type\": \"bar\", \"x\": [\"WoCh-BiLSTM\", \"WoCh-BiLSTM-CRF\", \"WoCh-LSTM\", \"WoCh-LSTM-CRF\", \"Wo-BiLSTM\", \"Wo-BiLSTM-CRF\", \"Wo-LSTM\", \"Wo-LSTM-CRF\"], \"y\": [77.64, 80.79, 73.35, 79.38, 75.97, 79.03, 70.24, 76.16], \"name\": \"Glove 6B 50\", \"error_y\": {\"type\": \"data\", \"array\": [1.33, 0.42, 1.63, 0.4, 0.7, 0.64, 2.9, 0.77], \"visible\": true}}, {\"type\": \"bar\", \"x\": [\"WoCh-BiLSTM\", \"WoCh-BiLSTM-CRF\", \"WoCh-LSTM\", \"WoCh-LSTM-CRF\", \"Wo-BiLSTM\", \"Wo-BiLSTM-CRF\", \"Wo-LSTM\", \"Wo-LSTM-CRF\"], \"y\": [83.55, 85.2, 81.26, 84.91, 83.56, 84.96, 80.91, 85.02], \"name\": \"Glove 840B\", \"error_y\": {\"type\": \"data\", \"array\": [0.3, 0.28, 0.42, 0.38, 0.22, 0.54, 1.1, 0.23], \"visible\": true}}, {\"type\": \"bar\", \"x\": [\"WoCh-BiLSTM\", \"WoCh-BiLSTM-CRF\", \"WoCh-LSTM\", \"WoCh-LSTM-CRF\", \"Wo-BiLSTM\", \"Wo-BiLSTM-CRF\", \"Wo-LSTM\", \"Wo-LSTM-CRF\"], \"y\": [80.87, 83.74, 78.3, 83.3, 82.09, 83.81, 78.69, 83.26], \"name\": \"Glove 6B 200\", \"error_y\": {\"type\": \"data\", \"array\": [0.85, 0.56, 0.81, 0.2, 0.7, 0.19, 1.3, 0.33], \"visible\": true}}, {\"type\": \"bar\", \"x\": [\"WoCh-BiLSTM\", \"WoCh-BiLSTM-CRF\", \"WoCh-LSTM\", \"WoCh-LSTM-CRF\", \"Wo-BiLSTM\", \"Wo-BiLSTM-CRF\", \"Wo-LSTM\", \"Wo-LSTM-CRF\"], \"y\": [81.5, 83.26, 78.7, 82.56, 81.31, 82.99, 79.22, 82.7], \"name\": \"Glove 6B 300\", \"error_y\": {\"type\": \"data\", \"array\": [0.68, 0.53, 0.54, 0.66, 0.61, 0.53, 0.58, 0.78], \"visible\": true}}, {\"type\": \"bar\", \"x\": [\"WoCh-BiLSTM\", \"WoCh-BiLSTM-CRF\", \"WoCh-LSTM\", \"WoCh-LSTM-CRF\", \"Wo-BiLSTM\", \"Wo-BiLSTM-CRF\", \"Wo-LSTM\", \"Wo-LSTM-CRF\"], \"y\": [81.39, 83.61, 78.15, 84.12, 80.16, 82.94, 77.73, 82.49], \"name\": \"word2vec\", \"error_y\": {\"type\": \"data\", \"array\": [1.08, 1.35, 0.54, 0.3, 0.74, 0.51, 0.74, 0.32], \"visible\": true}}], {\"barmode\": \"group\"}, {\"showLink\": true, \"linkText\": \"Export to plot.ly\"})});</script>"
      ],
      "text/plain": [
       "<IPython.core.display.HTML object>"
      ]
     },
     "metadata": {},
     "output_type": "display_data"
    }
   ],
   "source": [
    "draw_bar_graph_count_mean_and_std_dev(results_df)"
   ]
  },
  {
   "cell_type": "code",
   "execution_count": 117,
   "metadata": {
    "ExecuteTime": {
     "end_time": "2018-12-10T15:46:58.155126Z",
     "start_time": "2018-12-10T15:46:58.137622Z"
    }
   },
   "outputs": [],
   "source": [
    "# lstms_pairs = [\n",
    "#     ('')\n",
    "# ]"
   ]
  },
  {
   "cell_type": "code",
   "execution_count": 118,
   "metadata": {
    "ExecuteTime": {
     "end_time": "2018-12-10T15:46:58.974119Z",
     "start_time": "2018-12-10T15:46:58.946596Z"
    }
   },
   "outputs": [
    {
     "data": {
      "text/html": [
       "<div>\n",
       "<style scoped>\n",
       "    .dataframe tbody tr th:only-of-type {\n",
       "        vertical-align: middle;\n",
       "    }\n",
       "\n",
       "    .dataframe tbody tr th {\n",
       "        vertical-align: top;\n",
       "    }\n",
       "\n",
       "    .dataframe thead th {\n",
       "        text-align: right;\n",
       "    }\n",
       "</style>\n",
       "<table border=\"1\" class=\"dataframe\">\n",
       "  <thead>\n",
       "    <tr style=\"text-align: right;\">\n",
       "      <th></th>\n",
       "      <th>Wo-LSTM</th>\n",
       "      <th>WoCh-LSTM</th>\n",
       "      <th>Wo-LSTM-CRF</th>\n",
       "      <th>WoCh-LSTM-CRF</th>\n",
       "      <th>Wo-BiLSTM</th>\n",
       "      <th>WoCh-BiLSTM</th>\n",
       "      <th>Wo-BiLSTM-CRF</th>\n",
       "      <th>WoCh-BiLSTM-CRF</th>\n",
       "    </tr>\n",
       "  </thead>\n",
       "  <tbody>\n",
       "    <tr>\n",
       "      <th>fatText-2</th>\n",
       "      <td>77.67</td>\n",
       "      <td>78.74</td>\n",
       "      <td>84.43</td>\n",
       "      <td>84.96</td>\n",
       "      <td>80.85</td>\n",
       "      <td>81.75</td>\n",
       "      <td>84.62</td>\n",
       "      <td>84.54</td>\n",
       "    </tr>\n",
       "    <tr>\n",
       "      <th>Glove 42B</th>\n",
       "      <td>81.28</td>\n",
       "      <td>80.91</td>\n",
       "      <td>85.64</td>\n",
       "      <td>85.37</td>\n",
       "      <td>83.08</td>\n",
       "      <td>83.64</td>\n",
       "      <td>84.97</td>\n",
       "      <td>86.05</td>\n",
       "    </tr>\n",
       "    <tr>\n",
       "      <th>fastText</th>\n",
       "      <td>80.80</td>\n",
       "      <td>79.91</td>\n",
       "      <td>85.46</td>\n",
       "      <td>85.25</td>\n",
       "      <td>83.17</td>\n",
       "      <td>83.27</td>\n",
       "      <td>85.28</td>\n",
       "      <td>85.69</td>\n",
       "    </tr>\n",
       "    <tr>\n",
       "      <th>Amazon Reviews</th>\n",
       "      <td>48.78</td>\n",
       "      <td>65.81</td>\n",
       "      <td>52.09</td>\n",
       "      <td>72.84</td>\n",
       "      <td>50.49</td>\n",
       "      <td>69.53</td>\n",
       "      <td>50.63</td>\n",
       "      <td>73.50</td>\n",
       "    </tr>\n",
       "    <tr>\n",
       "      <th>Glove 6B 100</th>\n",
       "      <td>75.04</td>\n",
       "      <td>78.04</td>\n",
       "      <td>82.52</td>\n",
       "      <td>82.79</td>\n",
       "      <td>81.30</td>\n",
       "      <td>79.47</td>\n",
       "      <td>84.01</td>\n",
       "      <td>84.16</td>\n",
       "    </tr>\n",
       "    <tr>\n",
       "      <th>numberbatch</th>\n",
       "      <td>76.26</td>\n",
       "      <td>76.11</td>\n",
       "      <td>82.19</td>\n",
       "      <td>82.92</td>\n",
       "      <td>78.57</td>\n",
       "      <td>80.89</td>\n",
       "      <td>82.31</td>\n",
       "      <td>82.85</td>\n",
       "    </tr>\n",
       "    <tr>\n",
       "      <th>Glove 6B 50</th>\n",
       "      <td>70.24</td>\n",
       "      <td>73.35</td>\n",
       "      <td>76.16</td>\n",
       "      <td>79.38</td>\n",
       "      <td>75.97</td>\n",
       "      <td>77.64</td>\n",
       "      <td>79.03</td>\n",
       "      <td>80.79</td>\n",
       "    </tr>\n",
       "    <tr>\n",
       "      <th>Glove 840B</th>\n",
       "      <td>80.91</td>\n",
       "      <td>81.26</td>\n",
       "      <td>85.02</td>\n",
       "      <td>84.91</td>\n",
       "      <td>83.56</td>\n",
       "      <td>83.55</td>\n",
       "      <td>84.96</td>\n",
       "      <td>85.20</td>\n",
       "    </tr>\n",
       "    <tr>\n",
       "      <th>Glove 6B 200</th>\n",
       "      <td>78.69</td>\n",
       "      <td>78.30</td>\n",
       "      <td>83.26</td>\n",
       "      <td>83.30</td>\n",
       "      <td>82.09</td>\n",
       "      <td>80.87</td>\n",
       "      <td>83.81</td>\n",
       "      <td>83.74</td>\n",
       "    </tr>\n",
       "    <tr>\n",
       "      <th>Glove 6B 300</th>\n",
       "      <td>79.22</td>\n",
       "      <td>78.70</td>\n",
       "      <td>82.70</td>\n",
       "      <td>82.56</td>\n",
       "      <td>81.31</td>\n",
       "      <td>81.50</td>\n",
       "      <td>82.99</td>\n",
       "      <td>83.26</td>\n",
       "    </tr>\n",
       "    <tr>\n",
       "      <th>word2vec</th>\n",
       "      <td>77.73</td>\n",
       "      <td>78.15</td>\n",
       "      <td>82.49</td>\n",
       "      <td>84.12</td>\n",
       "      <td>80.16</td>\n",
       "      <td>81.39</td>\n",
       "      <td>82.94</td>\n",
       "      <td>83.61</td>\n",
       "    </tr>\n",
       "  </tbody>\n",
       "</table>\n",
       "</div>"
      ],
      "text/plain": [
       "                Wo-LSTM  WoCh-LSTM  Wo-LSTM-CRF  WoCh-LSTM-CRF  Wo-BiLSTM  \\\n",
       "fatText-2         77.67      78.74        84.43          84.96      80.85   \n",
       "Glove 42B         81.28      80.91        85.64          85.37      83.08   \n",
       "fastText          80.80      79.91        85.46          85.25      83.17   \n",
       "Amazon Reviews    48.78      65.81        52.09          72.84      50.49   \n",
       "Glove 6B 100      75.04      78.04        82.52          82.79      81.30   \n",
       "numberbatch       76.26      76.11        82.19          82.92      78.57   \n",
       "Glove 6B 50       70.24      73.35        76.16          79.38      75.97   \n",
       "Glove 840B        80.91      81.26        85.02          84.91      83.56   \n",
       "Glove 6B 200      78.69      78.30        83.26          83.30      82.09   \n",
       "Glove 6B 300      79.22      78.70        82.70          82.56      81.31   \n",
       "word2vec          77.73      78.15        82.49          84.12      80.16   \n",
       "\n",
       "                WoCh-BiLSTM  Wo-BiLSTM-CRF  WoCh-BiLSTM-CRF  \n",
       "fatText-2             81.75          84.62            84.54  \n",
       "Glove 42B             83.64          84.97            86.05  \n",
       "fastText              83.27          85.28            85.69  \n",
       "Amazon Reviews        69.53          50.63            73.50  \n",
       "Glove 6B 100          79.47          84.01            84.16  \n",
       "numberbatch           80.89          82.31            82.85  \n",
       "Glove 6B 50           77.64          79.03            80.79  \n",
       "Glove 840B            83.55          84.96            85.20  \n",
       "Glove 6B 200          80.87          83.81            83.74  \n",
       "Glove 6B 300          81.50          82.99            83.26  \n",
       "word2vec              81.39          82.94            83.61  "
      ]
     },
     "execution_count": 118,
     "metadata": {},
     "output_type": "execute_result"
    }
   ],
   "source": [
    "results_df_avg.transpose()"
   ]
  },
  {
   "cell_type": "code",
   "execution_count": 119,
   "metadata": {
    "ExecuteTime": {
     "end_time": "2018-12-10T15:46:59.637083Z",
     "start_time": "2018-12-10T15:46:59.619595Z"
    }
   },
   "outputs": [],
   "source": [
    "import seaborn as sns; sns.set(color_codes=True)"
   ]
  },
  {
   "cell_type": "code",
   "execution_count": 120,
   "metadata": {
    "ExecuteTime": {
     "end_time": "2018-12-10T15:47:00.968680Z",
     "start_time": "2018-12-10T15:47:00.680045Z"
    },
    "scrolled": true
   },
   "outputs": [
    {
     "data": {
      "image/png": "[encoded data removed]",
      "text/plain": [
       "<Figure size 576x396 with 1 Axes>"
      ]
     },
     "metadata": {},
     "output_type": "display_data"
    }
   ],
   "source": [
    "for nn in results_df_avg.index:\n",
    "    sns.kdeplot(results_df_avg.transpose()[nn], shade=True)"
   ]
  },
  {
   "cell_type": "markdown",
   "metadata": {},
   "source": [
    "# Statistical tests"
   ]
  },
  {
   "cell_type": "code",
   "execution_count": 121,
   "metadata": {
    "ExecuteTime": {
     "end_time": "2018-12-10T15:47:02.293021Z",
     "start_time": "2018-12-10T15:47:02.265216Z"
    }
   },
   "outputs": [
    {
     "data": {
      "text/html": [
       "<div>\n",
       "<style scoped>\n",
       "    .dataframe tbody tr th:only-of-type {\n",
       "        vertical-align: middle;\n",
       "    }\n",
       "\n",
       "    .dataframe tbody tr th {\n",
       "        vertical-align: top;\n",
       "    }\n",
       "\n",
       "    .dataframe thead th {\n",
       "        text-align: right;\n",
       "    }\n",
       "</style>\n",
       "<table border=\"1\" class=\"dataframe\">\n",
       "  <thead>\n",
       "    <tr style=\"text-align: right;\">\n",
       "      <th></th>\n",
       "      <th>fatText-2</th>\n",
       "      <th>Glove 42B</th>\n",
       "      <th>fastText</th>\n",
       "      <th>Amazon Reviews</th>\n",
       "      <th>Glove 6B 100</th>\n",
       "      <th>numberbatch</th>\n",
       "      <th>Glove 6B 50</th>\n",
       "      <th>Glove 840B</th>\n",
       "      <th>Glove 6B 200</th>\n",
       "      <th>Glove 6B 300</th>\n",
       "      <th>word2vec</th>\n",
       "    </tr>\n",
       "  </thead>\n",
       "  <tbody>\n",
       "    <tr>\n",
       "      <th>Wo-LSTM</th>\n",
       "      <td>77.67</td>\n",
       "      <td>81.28</td>\n",
       "      <td>80.80</td>\n",
       "      <td>48.78</td>\n",
       "      <td>75.04</td>\n",
       "      <td>76.26</td>\n",
       "      <td>70.24</td>\n",
       "      <td>80.91</td>\n",
       "      <td>78.69</td>\n",
       "      <td>79.22</td>\n",
       "      <td>77.73</td>\n",
       "    </tr>\n",
       "    <tr>\n",
       "      <th>WoCh-LSTM</th>\n",
       "      <td>78.74</td>\n",
       "      <td>80.91</td>\n",
       "      <td>79.91</td>\n",
       "      <td>65.81</td>\n",
       "      <td>78.04</td>\n",
       "      <td>76.11</td>\n",
       "      <td>73.35</td>\n",
       "      <td>81.26</td>\n",
       "      <td>78.30</td>\n",
       "      <td>78.70</td>\n",
       "      <td>78.15</td>\n",
       "    </tr>\n",
       "    <tr>\n",
       "      <th>Wo-LSTM-CRF</th>\n",
       "      <td>84.43</td>\n",
       "      <td>85.64</td>\n",
       "      <td>85.46</td>\n",
       "      <td>52.09</td>\n",
       "      <td>82.52</td>\n",
       "      <td>82.19</td>\n",
       "      <td>76.16</td>\n",
       "      <td>85.02</td>\n",
       "      <td>83.26</td>\n",
       "      <td>82.70</td>\n",
       "      <td>82.49</td>\n",
       "    </tr>\n",
       "    <tr>\n",
       "      <th>WoCh-LSTM-CRF</th>\n",
       "      <td>84.96</td>\n",
       "      <td>85.37</td>\n",
       "      <td>85.25</td>\n",
       "      <td>72.84</td>\n",
       "      <td>82.79</td>\n",
       "      <td>82.92</td>\n",
       "      <td>79.38</td>\n",
       "      <td>84.91</td>\n",
       "      <td>83.30</td>\n",
       "      <td>82.56</td>\n",
       "      <td>84.12</td>\n",
       "    </tr>\n",
       "    <tr>\n",
       "      <th>Wo-BiLSTM</th>\n",
       "      <td>80.85</td>\n",
       "      <td>83.08</td>\n",
       "      <td>83.17</td>\n",
       "      <td>50.49</td>\n",
       "      <td>81.30</td>\n",
       "      <td>78.57</td>\n",
       "      <td>75.97</td>\n",
       "      <td>83.56</td>\n",
       "      <td>82.09</td>\n",
       "      <td>81.31</td>\n",
       "      <td>80.16</td>\n",
       "    </tr>\n",
       "    <tr>\n",
       "      <th>WoCh-BiLSTM</th>\n",
       "      <td>81.75</td>\n",
       "      <td>83.64</td>\n",
       "      <td>83.27</td>\n",
       "      <td>69.53</td>\n",
       "      <td>79.47</td>\n",
       "      <td>80.89</td>\n",
       "      <td>77.64</td>\n",
       "      <td>83.55</td>\n",
       "      <td>80.87</td>\n",
       "      <td>81.50</td>\n",
       "      <td>81.39</td>\n",
       "    </tr>\n",
       "    <tr>\n",
       "      <th>Wo-BiLSTM-CRF</th>\n",
       "      <td>84.62</td>\n",
       "      <td>84.97</td>\n",
       "      <td>85.28</td>\n",
       "      <td>50.63</td>\n",
       "      <td>84.01</td>\n",
       "      <td>82.31</td>\n",
       "      <td>79.03</td>\n",
       "      <td>84.96</td>\n",
       "      <td>83.81</td>\n",
       "      <td>82.99</td>\n",
       "      <td>82.94</td>\n",
       "    </tr>\n",
       "    <tr>\n",
       "      <th>WoCh-BiLSTM-CRF</th>\n",
       "      <td>84.54</td>\n",
       "      <td>86.05</td>\n",
       "      <td>85.69</td>\n",
       "      <td>73.50</td>\n",
       "      <td>84.16</td>\n",
       "      <td>82.85</td>\n",
       "      <td>80.79</td>\n",
       "      <td>85.20</td>\n",
       "      <td>83.74</td>\n",
       "      <td>83.26</td>\n",
       "      <td>83.61</td>\n",
       "    </tr>\n",
       "  </tbody>\n",
       "</table>\n",
       "</div>"
      ],
      "text/plain": [
       "                 fatText-2  Glove 42B  fastText  Amazon Reviews  Glove 6B 100  \\\n",
       "Wo-LSTM              77.67      81.28     80.80           48.78         75.04   \n",
       "WoCh-LSTM            78.74      80.91     79.91           65.81         78.04   \n",
       "Wo-LSTM-CRF          84.43      85.64     85.46           52.09         82.52   \n",
       "WoCh-LSTM-CRF        84.96      85.37     85.25           72.84         82.79   \n",
       "Wo-BiLSTM            80.85      83.08     83.17           50.49         81.30   \n",
       "WoCh-BiLSTM          81.75      83.64     83.27           69.53         79.47   \n",
       "Wo-BiLSTM-CRF        84.62      84.97     85.28           50.63         84.01   \n",
       "WoCh-BiLSTM-CRF      84.54      86.05     85.69           73.50         84.16   \n",
       "\n",
       "                 numberbatch  Glove 6B 50  Glove 840B  Glove 6B 200  \\\n",
       "Wo-LSTM                76.26        70.24       80.91         78.69   \n",
       "WoCh-LSTM              76.11        73.35       81.26         78.30   \n",
       "Wo-LSTM-CRF            82.19        76.16       85.02         83.26   \n",
       "WoCh-LSTM-CRF          82.92        79.38       84.91         83.30   \n",
       "Wo-BiLSTM              78.57        75.97       83.56         82.09   \n",
       "WoCh-BiLSTM            80.89        77.64       83.55         80.87   \n",
       "Wo-BiLSTM-CRF          82.31        79.03       84.96         83.81   \n",
       "WoCh-BiLSTM-CRF        82.85        80.79       85.20         83.74   \n",
       "\n",
       "                 Glove 6B 300  word2vec  \n",
       "Wo-LSTM                 79.22     77.73  \n",
       "WoCh-LSTM               78.70     78.15  \n",
       "Wo-LSTM-CRF             82.70     82.49  \n",
       "WoCh-LSTM-CRF           82.56     84.12  \n",
       "Wo-BiLSTM               81.31     80.16  \n",
       "WoCh-BiLSTM             81.50     81.39  \n",
       "Wo-BiLSTM-CRF           82.99     82.94  \n",
       "WoCh-BiLSTM-CRF         83.26     83.61  "
      ]
     },
     "execution_count": 121,
     "metadata": {},
     "output_type": "execute_result"
    }
   ],
   "source": [
    "results_df_avg"
   ]
  },
  {
   "cell_type": "code",
   "execution_count": 122,
   "metadata": {
    "ExecuteTime": {
     "end_time": "2018-12-10T15:47:03.528805Z",
     "start_time": "2018-12-10T15:47:03.511621Z"
    }
   },
   "outputs": [],
   "source": [
    "results_df_avg = results_df_avg[['fastText', 'Amazon Reviews', 'numberbatch', 'Glove 840B', 'word2vec']]"
   ]
  },
  {
   "cell_type": "code",
   "execution_count": 128,
   "metadata": {
    "ExecuteTime": {
     "end_time": "2018-12-10T15:49:18.235034Z",
     "start_time": "2018-12-10T15:49:18.217920Z"
    }
   },
   "outputs": [],
   "source": [
    "# r_df = pandas2ri.py2ri(results_df_avg.transpose())\n",
    "r_df = pandas2ri.py2ri(results_df_avg)"
   ]
  },
  {
   "cell_type": "code",
   "execution_count": 129,
   "metadata": {
    "ExecuteTime": {
     "end_time": "2018-12-10T15:49:18.653870Z",
     "start_time": "2018-12-10T15:49:18.594678Z"
    }
   },
   "outputs": [
    {
     "ename": "TypeError",
     "evalue": "'rpy2.rinterface.RNULLType' object is not iterable",
     "output_type": "error",
     "traceback": [
      "\u001b[0;31m---------------------------------------------------------------------------\u001b[0m",
      "\u001b[0;31mTypeError\u001b[0m                                 Traceback (most recent call last)",
      "\u001b[0;32m~/anaconda3/envs/python36/lib/python3.6/site-packages/IPython/core/formatters.py\u001b[0m in \u001b[0;36m__call__\u001b[0;34m(self, obj)\u001b[0m\n\u001b[1;32m    343\u001b[0m             \u001b[0mmethod\u001b[0m \u001b[0;34m=\u001b[0m \u001b[0mget_real_method\u001b[0m\u001b[0;34m(\u001b[0m\u001b[0mobj\u001b[0m\u001b[0;34m,\u001b[0m \u001b[0mself\u001b[0m\u001b[0;34m.\u001b[0m\u001b[0mprint_method\u001b[0m\u001b[0;34m)\u001b[0m\u001b[0;34m\u001b[0m\u001b[0m\n\u001b[1;32m    344\u001b[0m             \u001b[0;32mif\u001b[0m \u001b[0mmethod\u001b[0m \u001b[0;32mis\u001b[0m \u001b[0;32mnot\u001b[0m \u001b[0;32mNone\u001b[0m\u001b[0;34m:\u001b[0m\u001b[0;34m\u001b[0m\u001b[0m\n\u001b[0;32m--> 345\u001b[0;31m                 \u001b[0;32mreturn\u001b[0m \u001b[0mmethod\u001b[0m\u001b[0;34m(\u001b[0m\u001b[0;34m)\u001b[0m\u001b[0;34m\u001b[0m\u001b[0m\n\u001b[0m\u001b[1;32m    346\u001b[0m             \u001b[0;32mreturn\u001b[0m \u001b[0;32mNone\u001b[0m\u001b[0;34m\u001b[0m\u001b[0m\n\u001b[1;32m    347\u001b[0m         \u001b[0;32melse\u001b[0m\u001b[0;34m:\u001b[0m\u001b[0;34m\u001b[0m\u001b[0m\n",
      "\u001b[0;32m~/anaconda3/envs/python36/lib/python3.6/site-packages/rpy2/robjects/vectors.py\u001b[0m in \u001b[0;36m_repr_html_\u001b[0;34m(self, max_items)\u001b[0m\n\u001b[1;32m    688\u001b[0m         \u001b[0mnames\u001b[0m \u001b[0;34m=\u001b[0m \u001b[0mlist\u001b[0m\u001b[0;34m(\u001b[0m\u001b[0;34m)\u001b[0m\u001b[0;34m\u001b[0m\u001b[0m\n\u001b[1;32m    689\u001b[0m         \u001b[0;32mif\u001b[0m \u001b[0mlen\u001b[0m\u001b[0;34m(\u001b[0m\u001b[0mself\u001b[0m\u001b[0;34m)\u001b[0m \u001b[0;34m<=\u001b[0m \u001b[0mmax_items\u001b[0m\u001b[0;34m:\u001b[0m\u001b[0;34m\u001b[0m\u001b[0m\n\u001b[0;32m--> 690\u001b[0;31m             \u001b[0mnames\u001b[0m\u001b[0;34m.\u001b[0m\u001b[0mextend\u001b[0m\u001b[0;34m(\u001b[0m\u001b[0mself\u001b[0m\u001b[0;34m.\u001b[0m\u001b[0mnames\u001b[0m\u001b[0;34m)\u001b[0m\u001b[0;34m\u001b[0m\u001b[0m\n\u001b[0m\u001b[1;32m    691\u001b[0m         \u001b[0;32melse\u001b[0m\u001b[0;34m:\u001b[0m\u001b[0;34m\u001b[0m\u001b[0m\n\u001b[1;32m    692\u001b[0m             \u001b[0mhalf_items\u001b[0m \u001b[0;34m=\u001b[0m \u001b[0mmax_items\u001b[0m \u001b[0;34m//\u001b[0m \u001b[0;36m2\u001b[0m\u001b[0;34m\u001b[0m\u001b[0m\n",
      "\u001b[0;31mTypeError\u001b[0m: 'rpy2.rinterface.RNULLType' object is not iterable"
     ]
    },
    {
     "data": {
      "text/plain": [
       "R object with classes: ('list',) mapped to:\n",
       "<ListVector - Python:0x7ff5097aef08 / R:0x563d138d96d8>\n",
       "[RNULLType, RNULLType]\n",
       "  <no name>: <class 'rpy2.rinterface.RNULLType'>\n",
       "  rpy2.rinterface.NULL\n",
       "  <no name>: <class 'rpy2.rinterface.RNULLType'>\n",
       "  rpy2.rinterface.NULL"
      ]
     },
     "execution_count": 129,
     "metadata": {},
     "output_type": "execute_result"
    }
   ],
   "source": [
    "scmamp.plotCD(r_df, alpha=0.05, cex=0.55)"
   ]
  },
  {
   "cell_type": "code",
   "execution_count": 132,
   "metadata": {},
   "outputs": [],
   "source": [
    "p_values = scmamp.friedmanAlignedRanksPost(r_df, use_rank = True)"
   ]
  },
  {
   "cell_type": "code",
   "execution_count": 133,
   "metadata": {},
   "outputs": [],
   "source": [
    "p_values_bergmann_hommel_correction = scmamp.adjustBergmannHommel(p_values)"
   ]
  },
  {
   "cell_type": "code",
   "execution_count": 134,
   "metadata": {},
   "outputs": [],
   "source": [
    "from itertools import product"
   ]
  },
  {
   "cell_type": "code",
   "execution_count": 135,
   "metadata": {},
   "outputs": [],
   "source": [
    "nn_architectures = list(results_df_avg.transpose().columns)\n",
    "nn_architectures_product = list(product(nn_architectures, nn_architectures))"
   ]
  },
  {
   "cell_type": "code",
   "execution_count": 136,
   "metadata": {},
   "outputs": [],
   "source": [
    "nn_architectures_p_values = tuple(p_values_bergmann_hommel_correction)"
   ]
  },
  {
   "cell_type": "code",
   "execution_count": 137,
   "metadata": {},
   "outputs": [],
   "source": [
    "p_values_with_architectures = list(zip(nn_architectures_product, nn_architectures_p_values))"
   ]
  },
  {
   "cell_type": "code",
   "execution_count": 138,
   "metadata": {},
   "outputs": [],
   "source": [
    "p_values_df = {name : {} for name in nn_architectures}\n",
    "for nns, pv in p_values_with_architectures:\n",
    "    p_values_df[nns[0]].update({nns[1] : pv})\n"
   ]
  },
  {
   "cell_type": "code",
   "execution_count": 139,
   "metadata": {},
   "outputs": [
    {
     "data": {
      "text/html": [
       "<div>\n",
       "<style scoped>\n",
       "    .dataframe tbody tr th:only-of-type {\n",
       "        vertical-align: middle;\n",
       "    }\n",
       "\n",
       "    .dataframe tbody tr th {\n",
       "        vertical-align: top;\n",
       "    }\n",
       "\n",
       "    .dataframe thead th {\n",
       "        text-align: right;\n",
       "    }\n",
       "</style>\n",
       "<table border=\"1\" class=\"dataframe\">\n",
       "  <thead>\n",
       "    <tr style=\"text-align: right;\">\n",
       "      <th></th>\n",
       "      <th>word lstm</th>\n",
       "      <th>char word lstm</th>\n",
       "      <th>word lstm crf</th>\n",
       "      <th>char word lstm crf</th>\n",
       "      <th>word bilstm</th>\n",
       "      <th>char word bilstm</th>\n",
       "      <th>word bilstm crf</th>\n",
       "      <th>char word bilstm crf</th>\n",
       "    </tr>\n",
       "  </thead>\n",
       "  <tbody>\n",
       "    <tr>\n",
       "      <th>word lstm</th>\n",
       "      <td>NaN</td>\n",
       "      <td>1.000000</td>\n",
       "      <td>0.115203</td>\n",
       "      <td>0.004187</td>\n",
       "      <td>1.000000</td>\n",
       "      <td>0.366436</td>\n",
       "      <td>0.119260</td>\n",
       "      <td>0.000571</td>\n",
       "    </tr>\n",
       "    <tr>\n",
       "      <th>char word lstm</th>\n",
       "      <td>1.000000</td>\n",
       "      <td>NaN</td>\n",
       "      <td>0.467324</td>\n",
       "      <td>0.032723</td>\n",
       "      <td>1.000000</td>\n",
       "      <td>1.000000</td>\n",
       "      <td>0.467324</td>\n",
       "      <td>0.006553</td>\n",
       "    </tr>\n",
       "    <tr>\n",
       "      <th>word lstm crf</th>\n",
       "      <td>0.115203</td>\n",
       "      <td>0.467324</td>\n",
       "      <td>NaN</td>\n",
       "      <td>1.000000</td>\n",
       "      <td>0.571669</td>\n",
       "      <td>1.000000</td>\n",
       "      <td>1.000000</td>\n",
       "      <td>0.881192</td>\n",
       "    </tr>\n",
       "    <tr>\n",
       "      <th>char word lstm crf</th>\n",
       "      <td>0.004187</td>\n",
       "      <td>0.032723</td>\n",
       "      <td>1.000000</td>\n",
       "      <td>NaN</td>\n",
       "      <td>0.050420</td>\n",
       "      <td>1.000000</td>\n",
       "      <td>1.000000</td>\n",
       "      <td>1.000000</td>\n",
       "    </tr>\n",
       "    <tr>\n",
       "      <th>word bilstm</th>\n",
       "      <td>1.000000</td>\n",
       "      <td>1.000000</td>\n",
       "      <td>0.571669</td>\n",
       "      <td>0.050420</td>\n",
       "      <td>NaN</td>\n",
       "      <td>1.000000</td>\n",
       "      <td>0.597241</td>\n",
       "      <td>0.011781</td>\n",
       "    </tr>\n",
       "    <tr>\n",
       "      <th>char word bilstm</th>\n",
       "      <td>0.366436</td>\n",
       "      <td>1.000000</td>\n",
       "      <td>1.000000</td>\n",
       "      <td>1.000000</td>\n",
       "      <td>1.000000</td>\n",
       "      <td>NaN</td>\n",
       "      <td>1.000000</td>\n",
       "      <td>0.467324</td>\n",
       "    </tr>\n",
       "    <tr>\n",
       "      <th>word bilstm crf</th>\n",
       "      <td>0.119260</td>\n",
       "      <td>0.467324</td>\n",
       "      <td>1.000000</td>\n",
       "      <td>1.000000</td>\n",
       "      <td>0.597241</td>\n",
       "      <td>1.000000</td>\n",
       "      <td>NaN</td>\n",
       "      <td>0.881192</td>\n",
       "    </tr>\n",
       "    <tr>\n",
       "      <th>char word bilstm crf</th>\n",
       "      <td>0.000571</td>\n",
       "      <td>0.006553</td>\n",
       "      <td>0.881192</td>\n",
       "      <td>1.000000</td>\n",
       "      <td>0.011781</td>\n",
       "      <td>0.467324</td>\n",
       "      <td>0.881192</td>\n",
       "      <td>NaN</td>\n",
       "    </tr>\n",
       "  </tbody>\n",
       "</table>\n",
       "</div>"
      ],
      "text/plain": [
       "                      word lstm  char word lstm  word lstm crf  \\\n",
       "word lstm                   NaN        1.000000       0.115203   \n",
       "char word lstm         1.000000             NaN       0.467324   \n",
       "word lstm crf          0.115203        0.467324            NaN   \n",
       "char word lstm crf     0.004187        0.032723       1.000000   \n",
       "word bilstm            1.000000        1.000000       0.571669   \n",
       "char word bilstm       0.366436        1.000000       1.000000   \n",
       "word bilstm crf        0.119260        0.467324       1.000000   \n",
       "char word bilstm crf   0.000571        0.006553       0.881192   \n",
       "\n",
       "                      char word lstm crf  word bilstm  char word bilstm  \\\n",
       "word lstm                       0.004187     1.000000          0.366436   \n",
       "char word lstm                  0.032723     1.000000          1.000000   \n",
       "word lstm crf                   1.000000     0.571669          1.000000   \n",
       "char word lstm crf                   NaN     0.050420          1.000000   \n",
       "word bilstm                     0.050420          NaN          1.000000   \n",
       "char word bilstm                1.000000     1.000000               NaN   \n",
       "word bilstm crf                 1.000000     0.597241          1.000000   \n",
       "char word bilstm crf            1.000000     0.011781          0.467324   \n",
       "\n",
       "                      word bilstm crf  char word bilstm crf  \n",
       "word lstm                    0.119260              0.000571  \n",
       "char word lstm               0.467324              0.006553  \n",
       "word lstm crf                1.000000              0.881192  \n",
       "char word lstm crf           1.000000              1.000000  \n",
       "word bilstm                  0.597241              0.011781  \n",
       "char word bilstm             1.000000              0.467324  \n",
       "word bilstm crf                   NaN              0.881192  \n",
       "char word bilstm crf         0.881192                   NaN  "
      ]
     },
     "execution_count": 139,
     "metadata": {},
     "output_type": "execute_result"
    }
   ],
   "source": [
    "pd.DataFrame.from_dict(p_values_df).reindex(reindex_results_order)"
   ]
  },
  {
   "cell_type": "code",
   "execution_count": 30,
   "metadata": {
    "ExecuteTime": {
     "end_time": "2018-12-02T15:26:10.172630Z",
     "start_time": "2018-12-02T15:26:10.115229Z"
    }
   },
   "outputs": [],
   "source": [
    "# pd.DataFrame(p_values_with_architectures)"
   ]
  },
  {
   "cell_type": "code",
   "execution_count": 240,
   "metadata": {
    "ExecuteTime": {
     "end_time": "2018-11-25T12:24:36.868276Z",
     "start_time": "2018-11-25T12:24:36.827469Z"
    },
    "scrolled": true
   },
   "outputs": [],
   "source": [
    "# friedman_test = scmamp.multipleComparisonTest(r_df, control = 'NoEmbedding', test='iman')\n",
    "# friedman_p_value = friedman_test.rx2('p.value')[0]\n",
    "# ranks, _, posthoc_pvals = scmamp.postHocTest(data=r_df, test=\"friedman\", control = 'NoEmbedding', correct=\"holland\", use_rank = True)"
   ]
  },
  {
   "cell_type": "markdown",
   "metadata": {},
   "source": [
    "# Check coverage of words in embeddings for aspect datasets"
   ]
  },
  {
   "cell_type": "code",
   "execution_count": 75,
   "metadata": {
    "ExecuteTime": {
     "end_time": "2018-12-03T08:32:18.471273Z",
     "start_time": "2018-12-03T08:32:18.299111Z"
    }
   },
   "outputs": [
    {
     "name": "stderr",
     "output_type": "stream",
     "text": [
      "Corpus iterator: 49475it [00:00, 857212.69it/s]\n",
      "Corpus iterator: 53781it [00:00, 1063862.06it/s]\n",
      "Corpus iterator: 12470it [00:00, 873477.69it/s]\n",
      "Corpus iterator: 13257it [00:00, 613005.48it/s]\n"
     ]
    }
   ],
   "source": [
    "corpus_words = statistics_dataset.get_unique_words_from_corpus()"
   ]
  },
  {
   "cell_type": "code",
   "execution_count": 76,
   "metadata": {
    "ExecuteTime": {
     "end_time": "2018-12-03T08:32:19.235414Z",
     "start_time": "2018-12-03T08:32:19.217831Z"
    }
   },
   "outputs": [],
   "source": [
    "def load_word_embeddings(file_path):\n",
    "    with open(file_path, encoding='utf-8') as fp:\n",
    "        words = []\n",
    "        try:\n",
    "            for line in tqdm_notebook(fp, desc=file_path + ': embedding loading'):\n",
    "                line_fields = line.split()\n",
    "                if len(line_fields) < 5:\n",
    "                    continue\n",
    "                else:\n",
    "                    if line[0] == ' ':\n",
    "                        pass\n",
    "                    else:\n",
    "                        word = line_fields[0]\n",
    "                        try:\n",
    "                            pass\n",
    "                        except:\n",
    "                            continue\n",
    "                        words.append(word)\n",
    "        except UnicodeDecodeError:\n",
    "            pass\n",
    "    return set(words)"
   ]
  },
  {
   "cell_type": "code",
   "execution_count": 77,
   "metadata": {
    "ExecuteTime": {
     "end_time": "2018-12-03T08:32:22.840338Z",
     "start_time": "2018-12-03T08:32:22.820785Z"
    }
   },
   "outputs": [],
   "source": [
    "EMBEDDINGS_PATH = Path('/home/laugustyniak/data/embeddings/')\n",
    "\n",
    "EMBEDDINGS = [\n",
    "    'GoogleNews-vectors-negative300.txt',\n",
    "    'glove.6B.50d.txt',\n",
    "    'glove.6B.100d.txt',\n",
    "    'glove.6B.200d.txt',\n",
    "    'glove.6B.300d.txt',\n",
    "    'glove.twitter.27B.200d.txt',\n",
    "    'glove.42B.300d.txt',\n",
    "    'glove.840B.300d.txt',\n",
    "    'numberbatch-en.txt',\n",
    "    'crawl-300d-2M.vec',\n",
    "#     'wiki-news-300d-1M-subword.vec',\n",
    "    'wiki-news-300d-1M.vec',\n",
    "#     'bow2.words',\n",
    "#     'bow2.contexts',\n",
    "#     'bow5.words',\n",
    "#     'bow5.contexts',\n",
    "#     'deps.words',\n",
    "#     'deps.contexts',\n",
    "#     'sota-google.txt',\n",
    "#     'sota-retrofit-600.txt',\n",
    "#     'sota-sswe-50.txt',\n",
    "#     'sota-wiki-600.txt',\n",
    "    'sentic2vec.txt',\n",
    "#     'lexvec.commoncrawl.ngramsubwords.300d.W.pos.vectors',\n",
    "#     'lexvec.enwiki+newscrawl.300d.W.pos.vectors',    \n",
    "]"
   ]
  },
  {
   "cell_type": "code",
   "execution_count": 78,
   "metadata": {
    "ExecuteTime": {
     "end_time": "2018-12-03T08:36:01.498117Z",
     "start_time": "2018-12-03T08:32:23.942318Z"
    },
    "scrolled": true
   },
   "outputs": [
    {
     "data": {
      "application/vnd.jupyter.widget-view+json": {
       "model_id": "d96de59e0d1943349ae3bcca659901ee",
       "version_major": 2,
       "version_minor": 0
      },
      "text/plain": [
       "HBox(children=(IntProgress(value=0, max=12), HTML(value='')))"
      ]
     },
     "metadata": {},
     "output_type": "display_data"
    },
    {
     "data": {
      "application/vnd.jupyter.widget-view+json": {
       "model_id": "deb3a8bf6650497e93d084e854ad3f66",
       "version_major": 2,
       "version_minor": 0
      },
      "text/plain": [
       "HBox(children=(IntProgress(value=1, bar_style='info', description='/home/laugustyniak/data/embeddings/GoogleNe…"
      ]
     },
     "metadata": {},
     "output_type": "display_data"
    },
    {
     "data": {
      "application/vnd.jupyter.widget-view+json": {
       "model_id": "fe505fbc2c79498290ead4520f4b756c",
       "version_major": 2,
       "version_minor": 0
      },
      "text/plain": [
       "HBox(children=(IntProgress(value=1, bar_style='info', description='/home/laugustyniak/data/embeddings/glove.6B…"
      ]
     },
     "metadata": {},
     "output_type": "display_data"
    },
    {
     "data": {
      "application/vnd.jupyter.widget-view+json": {
       "model_id": "75d705198ef64ed3b80ca955b2b4c308",
       "version_major": 2,
       "version_minor": 0
      },
      "text/plain": [
       "HBox(children=(IntProgress(value=1, bar_style='info', description='/home/laugustyniak/data/embeddings/glove.6B…"
      ]
     },
     "metadata": {},
     "output_type": "display_data"
    },
    {
     "data": {
      "application/vnd.jupyter.widget-view+json": {
       "model_id": "f115972599a54fb69dc77340d68ef52a",
       "version_major": 2,
       "version_minor": 0
      },
      "text/plain": [
       "HBox(children=(IntProgress(value=1, bar_style='info', description='/home/laugustyniak/data/embeddings/glove.6B…"
      ]
     },
     "metadata": {},
     "output_type": "display_data"
    },
    {
     "data": {
      "application/vnd.jupyter.widget-view+json": {
       "model_id": "85f110f559974e769a86428dd91148da",
       "version_major": 2,
       "version_minor": 0
      },
      "text/plain": [
       "HBox(children=(IntProgress(value=1, bar_style='info', description='/home/laugustyniak/data/embeddings/glove.6B…"
      ]
     },
     "metadata": {},
     "output_type": "display_data"
    },
    {
     "data": {
      "application/vnd.jupyter.widget-view+json": {
       "model_id": "8060a144c7ae4e0e916a0e740c7f5bc1",
       "version_major": 2,
       "version_minor": 0
      },
      "text/plain": [
       "HBox(children=(IntProgress(value=1, bar_style='info', description='/home/laugustyniak/data/embeddings/glove.tw…"
      ]
     },
     "metadata": {},
     "output_type": "display_data"
    },
    {
     "data": {
      "application/vnd.jupyter.widget-view+json": {
       "model_id": "093cd0bc5be74301b25a06d475975a34",
       "version_major": 2,
       "version_minor": 0
      },
      "text/plain": [
       "HBox(children=(IntProgress(value=1, bar_style='info', description='/home/laugustyniak/data/embeddings/glove.42…"
      ]
     },
     "metadata": {},
     "output_type": "display_data"
    },
    {
     "data": {
      "application/vnd.jupyter.widget-view+json": {
       "model_id": "7597e98e776e40eab679a1952e375d02",
       "version_major": 2,
       "version_minor": 0
      },
      "text/plain": [
       "HBox(children=(IntProgress(value=1, bar_style='info', description='/home/laugustyniak/data/embeddings/glove.84…"
      ]
     },
     "metadata": {},
     "output_type": "display_data"
    },
    {
     "data": {
      "application/vnd.jupyter.widget-view+json": {
       "model_id": "c359b91856854e6f9a0b4218866accd2",
       "version_major": 2,
       "version_minor": 0
      },
      "text/plain": [
       "HBox(children=(IntProgress(value=1, bar_style='info', description='/home/laugustyniak/data/embeddings/numberba…"
      ]
     },
     "metadata": {},
     "output_type": "display_data"
    },
    {
     "data": {
      "application/vnd.jupyter.widget-view+json": {
       "model_id": "b68dea9b237d4e1c8818fcd71ee46092",
       "version_major": 2,
       "version_minor": 0
      },
      "text/plain": [
       "HBox(children=(IntProgress(value=1, bar_style='info', description='/home/laugustyniak/data/embeddings/crawl-30…"
      ]
     },
     "metadata": {},
     "output_type": "display_data"
    },
    {
     "data": {
      "application/vnd.jupyter.widget-view+json": {
       "model_id": "1c12bce5bf534fd3acf4f55f558e2abe",
       "version_major": 2,
       "version_minor": 0
      },
      "text/plain": [
       "HBox(children=(IntProgress(value=1, bar_style='info', description='/home/laugustyniak/data/embeddings/wiki-new…"
      ]
     },
     "metadata": {},
     "output_type": "display_data"
    },
    {
     "data": {
      "application/vnd.jupyter.widget-view+json": {
       "model_id": "0f4b157ce683471ab14340fa80dded11",
       "version_major": 2,
       "version_minor": 0
      },
      "text/plain": [
       "HBox(children=(IntProgress(value=1, bar_style='info', description='/home/laugustyniak/data/embeddings/sentic2v…"
      ]
     },
     "metadata": {},
     "output_type": "display_data"
    },
    {
     "name": "stdout",
     "output_type": "stream",
     "text": [
      "\n"
     ]
    }
   ],
   "source": [
    "def get_word_embeddings_vocabularies(word_embedding_names):\n",
    "    return {\n",
    "        word_embedding_name: load_word_embeddings((EMBEDDINGS_PATH / word_embedding_name).as_posix())\n",
    "        for word_embedding_name \n",
    "        in tqdm_notebook(word_embedding_names)\n",
    "    }\n",
    "   \n",
    "word_embedding_vocabulalaries = get_word_embeddings_vocabularies(EMBEDDINGS)"
   ]
  },
  {
   "cell_type": "code",
   "execution_count": 79,
   "metadata": {
    "ExecuteTime": {
     "end_time": "2018-12-03T08:36:01.522706Z",
     "start_time": "2018-12-03T08:36:01.499863Z"
    }
   },
   "outputs": [],
   "source": [
    "def get_datasets_coverage_with_word_embedding(corpus_words, word_embedding_vocabulalaries):\n",
    "    word_embedding_coverage = {}\n",
    "    for word_embedding_name, vocabulary in word_embedding_vocabulalaries.items():\n",
    "        word_embedding_coverage[word_embedding_name] = {\n",
    "            corpus_name: len(words.difference(vocabulary))/len(words)\n",
    "            for corpus_name, words\n",
    "            in corpus_words.items()\n",
    "        }\n",
    "    return word_embedding_coverage"
   ]
  },
  {
   "cell_type": "code",
   "execution_count": 80,
   "metadata": {
    "ExecuteTime": {
     "end_time": "2018-12-03T08:36:01.550367Z",
     "start_time": "2018-12-03T08:36:01.525302Z"
    }
   },
   "outputs": [
    {
     "data": {
      "text/plain": [
       "{'Restaurants_poria-train': 4619,\n",
       " 'Laptops_poria-train': 4238,\n",
       " 'Laptops_poria-test': 1922,\n",
       " 'Restaurants_poria-test': 2270}"
      ]
     },
     "execution_count": 80,
     "metadata": {},
     "output_type": "execute_result"
    }
   ],
   "source": [
    "{k: len(v) for k, v in  corpus_words.items()}"
   ]
  },
  {
   "cell_type": "code",
   "execution_count": 81,
   "metadata": {
    "ExecuteTime": {
     "end_time": "2018-12-03T08:36:01.581244Z",
     "start_time": "2018-12-03T08:36:01.552389Z"
    }
   },
   "outputs": [
    {
     "data": {
      "text/plain": [
       "{'GoogleNews-vectors-negative300.txt': 2999993,\n",
       " 'glove.6B.50d.txt': 400000,\n",
       " 'glove.6B.100d.txt': 400000,\n",
       " 'glove.6B.200d.txt': 400000,\n",
       " 'glove.6B.300d.txt': 400000,\n",
       " 'glove.twitter.27B.200d.txt': 1193515,\n",
       " 'glove.42B.300d.txt': 1917494,\n",
       " 'glove.840B.300d.txt': 2195884,\n",
       " 'numberbatch-en.txt': 417194,\n",
       " 'crawl-300d-2M.vec': 1999995,\n",
       " 'wiki-news-300d-1M.vec': 999994,\n",
       " 'sentic2vec.txt': 42007}"
      ]
     },
     "execution_count": 81,
     "metadata": {},
     "output_type": "execute_result"
    }
   ],
   "source": [
    "{word_embedding_name: len(vocabulary) for word_embedding_name, vocabulary in word_embedding_vocabulalaries.items()}"
   ]
  },
  {
   "cell_type": "code",
   "execution_count": 82,
   "metadata": {
    "ExecuteTime": {
     "end_time": "2018-12-03T08:36:01.629682Z",
     "start_time": "2018-12-03T08:36:01.584878Z"
    }
   },
   "outputs": [],
   "source": [
    "datasets_coverage_with_word_embedding = get_datasets_coverage_with_word_embedding(corpus_words, word_embedding_vocabulalaries)"
   ]
  },
  {
   "cell_type": "code",
   "execution_count": 83,
   "metadata": {
    "ExecuteTime": {
     "end_time": "2018-12-03T08:36:01.665186Z",
     "start_time": "2018-12-03T08:36:01.631478Z"
    }
   },
   "outputs": [],
   "source": [
    "lack_of_words_percentage = pd.DataFrame(datasets_coverage_with_word_embedding).round(4)*100"
   ]
  },
  {
   "cell_type": "code",
   "execution_count": 89,
   "metadata": {
    "ExecuteTime": {
     "end_time": "2018-12-03T08:49:33.603824Z",
     "start_time": "2018-12-03T08:49:33.562378Z"
    }
   },
   "outputs": [
    {
     "data": {
      "text/html": [
       "<div>\n",
       "<style scoped>\n",
       "    .dataframe tbody tr th:only-of-type {\n",
       "        vertical-align: middle;\n",
       "    }\n",
       "\n",
       "    .dataframe tbody tr th {\n",
       "        vertical-align: top;\n",
       "    }\n",
       "\n",
       "    .dataframe thead th {\n",
       "        text-align: right;\n",
       "    }\n",
       "</style>\n",
       "<table border=\"1\" class=\"dataframe\">\n",
       "  <thead>\n",
       "    <tr style=\"text-align: right;\">\n",
       "      <th></th>\n",
       "      <th>GoogleNews-vectors-negative300.txt</th>\n",
       "      <th>glove.6B.50d.txt</th>\n",
       "      <th>glove.6B.100d.txt</th>\n",
       "      <th>glove.6B.200d.txt</th>\n",
       "      <th>glove.6B.300d.txt</th>\n",
       "      <th>glove.twitter.27B.200d.txt</th>\n",
       "      <th>glove.42B.300d.txt</th>\n",
       "      <th>glove.840B.300d.txt</th>\n",
       "      <th>numberbatch-en.txt</th>\n",
       "      <th>crawl-300d-2M.vec</th>\n",
       "      <th>wiki-news-300d-1M.vec</th>\n",
       "      <th>sentic2vec.txt</th>\n",
       "    </tr>\n",
       "  </thead>\n",
       "  <tbody>\n",
       "    <tr>\n",
       "      <th>Laptops_poria-test</th>\n",
       "      <td>8.38</td>\n",
       "      <td>4.27</td>\n",
       "      <td>4.27</td>\n",
       "      <td>4.27</td>\n",
       "      <td>4.27</td>\n",
       "      <td>8.17</td>\n",
       "      <td>1.77</td>\n",
       "      <td>2.24</td>\n",
       "      <td>9.83</td>\n",
       "      <td>2.39</td>\n",
       "      <td>4.68</td>\n",
       "      <td>17.17</td>\n",
       "    </tr>\n",
       "    <tr>\n",
       "      <th>Laptops_poria-train</th>\n",
       "      <td>11.14</td>\n",
       "      <td>9.18</td>\n",
       "      <td>9.18</td>\n",
       "      <td>9.18</td>\n",
       "      <td>9.18</td>\n",
       "      <td>11.70</td>\n",
       "      <td>3.40</td>\n",
       "      <td>4.20</td>\n",
       "      <td>14.06</td>\n",
       "      <td>4.32</td>\n",
       "      <td>6.91</td>\n",
       "      <td>18.55</td>\n",
       "    </tr>\n",
       "    <tr>\n",
       "      <th>Restaurants_poria-test</th>\n",
       "      <td>9.25</td>\n",
       "      <td>7.40</td>\n",
       "      <td>7.40</td>\n",
       "      <td>7.40</td>\n",
       "      <td>7.40</td>\n",
       "      <td>8.63</td>\n",
       "      <td>3.66</td>\n",
       "      <td>4.36</td>\n",
       "      <td>9.12</td>\n",
       "      <td>4.27</td>\n",
       "      <td>6.70</td>\n",
       "      <td>32.20</td>\n",
       "    </tr>\n",
       "    <tr>\n",
       "      <th>Restaurants_poria-train</th>\n",
       "      <td>12.73</td>\n",
       "      <td>10.78</td>\n",
       "      <td>10.78</td>\n",
       "      <td>10.78</td>\n",
       "      <td>10.78</td>\n",
       "      <td>11.99</td>\n",
       "      <td>5.00</td>\n",
       "      <td>6.11</td>\n",
       "      <td>13.70</td>\n",
       "      <td>5.98</td>\n",
       "      <td>9.33</td>\n",
       "      <td>34.38</td>\n",
       "    </tr>\n",
       "  </tbody>\n",
       "</table>\n",
       "</div>"
      ],
      "text/plain": [
       "                         GoogleNews-vectors-negative300.txt  glove.6B.50d.txt  \\\n",
       "Laptops_poria-test                                     8.38              4.27   \n",
       "Laptops_poria-train                                   11.14              9.18   \n",
       "Restaurants_poria-test                                 9.25              7.40   \n",
       "Restaurants_poria-train                               12.73             10.78   \n",
       "\n",
       "                         glove.6B.100d.txt  glove.6B.200d.txt  \\\n",
       "Laptops_poria-test                    4.27               4.27   \n",
       "Laptops_poria-train                   9.18               9.18   \n",
       "Restaurants_poria-test                7.40               7.40   \n",
       "Restaurants_poria-train              10.78              10.78   \n",
       "\n",
       "                         glove.6B.300d.txt  glove.twitter.27B.200d.txt  \\\n",
       "Laptops_poria-test                    4.27                        8.17   \n",
       "Laptops_poria-train                   9.18                       11.70   \n",
       "Restaurants_poria-test                7.40                        8.63   \n",
       "Restaurants_poria-train              10.78                       11.99   \n",
       "\n",
       "                         glove.42B.300d.txt  glove.840B.300d.txt  \\\n",
       "Laptops_poria-test                     1.77                 2.24   \n",
       "Laptops_poria-train                    3.40                 4.20   \n",
       "Restaurants_poria-test                 3.66                 4.36   \n",
       "Restaurants_poria-train                5.00                 6.11   \n",
       "\n",
       "                         numberbatch-en.txt  crawl-300d-2M.vec  \\\n",
       "Laptops_poria-test                     9.83               2.39   \n",
       "Laptops_poria-train                   14.06               4.32   \n",
       "Restaurants_poria-test                 9.12               4.27   \n",
       "Restaurants_poria-train               13.70               5.98   \n",
       "\n",
       "                         wiki-news-300d-1M.vec  sentic2vec.txt  \n",
       "Laptops_poria-test                        4.68           17.17  \n",
       "Laptops_poria-train                       6.91           18.55  \n",
       "Restaurants_poria-test                    6.70           32.20  \n",
       "Restaurants_poria-train                   9.33           34.38  "
      ]
     },
     "execution_count": 89,
     "metadata": {},
     "output_type": "execute_result"
    }
   ],
   "source": [
    "lack_of_words_percentage.to_excel((results_path / 'word-embeddings-coverage.xlsx').as_posix())\n",
    "lack_of_words_percentage"
   ]
  },
  {
   "cell_type": "code",
   "execution_count": null,
   "metadata": {
    "ExecuteTime": {
     "end_time": "2018-12-03T08:36:01.710355Z",
     "start_time": "2018-12-03T08:32:35.656Z"
    }
   },
   "outputs": [],
   "source": [
    "print(pd.DataFrame.from_dict(aspects, orient='index', columns=['Multi aspect ']).to_latex())"
   ]
  },
  {
   "cell_type": "markdown",
   "metadata": {},
   "source": [
    "# Words/aspects appeared in test data but not in training "
   ]
  },
  {
   "cell_type": "code",
   "execution_count": null,
   "metadata": {
    "ExecuteTime": {
     "end_time": "2018-12-03T08:36:01.711259Z",
     "start_time": "2018-12-03T08:33:16.107Z"
    }
   },
   "outputs": [],
   "source": [
    "from collections import namedtuple"
   ]
  },
  {
   "cell_type": "markdown",
   "metadata": {},
   "source": [
    "## Words statistics "
   ]
  },
  {
   "cell_type": "code",
   "execution_count": null,
   "metadata": {
    "ExecuteTime": {
     "end_time": "2018-12-03T08:36:01.712008Z",
     "start_time": "2018-12-03T08:33:16.897Z"
    }
   },
   "outputs": [],
   "source": [
    "WordsStats = namedtuple('WordsStats', 'coverage, all_unique_words')"
   ]
  },
  {
   "cell_type": "code",
   "execution_count": null,
   "metadata": {
    "ExecuteTime": {
     "end_time": "2018-12-03T08:36:01.712881Z",
     "start_time": "2018-12-03T08:33:17.211Z"
    }
   },
   "outputs": [],
   "source": [
    "def words_coverage_stats(train_words: Set, test_words: Set):\n",
    "    all_words = train_words.union(test_words)\n",
    "    intersection_words = train_words - test_words\n",
    "    return WordsStats(\n",
    "        len(intersection_words)/len(all_words),\n",
    "        len(all_words)\n",
    "    )"
   ]
  },
  {
   "cell_type": "code",
   "execution_count": null,
   "metadata": {
    "ExecuteTime": {
     "end_time": "2018-12-03T08:36:01.713634Z",
     "start_time": "2018-12-03T08:33:17.592Z"
    }
   },
   "outputs": [],
   "source": [
    "words_coverage_stats(corpus_words[statistics_dataset.dataset_restaurants_train], corpus_words[statistics_dataset.dataset_restaurants_test])"
   ]
  },
  {
   "cell_type": "code",
   "execution_count": null,
   "metadata": {
    "ExecuteTime": {
     "end_time": "2018-12-03T08:36:01.714429Z",
     "start_time": "2018-12-03T08:33:18.073Z"
    }
   },
   "outputs": [],
   "source": [
    "words_coverage_stats(corpus_words[statistics_dataset.dataset_laptops_train], corpus_words[statistics_dataset.dataset_laptops_test])"
   ]
  },
  {
   "cell_type": "markdown",
   "metadata": {},
   "source": [
    "## Aspect statistics  "
   ]
  },
  {
   "cell_type": "code",
   "execution_count": 50,
   "metadata": {
    "ExecuteTime": {
     "end_time": "2018-12-02T15:54:12.445492Z",
     "start_time": "2018-12-02T15:54:12.406526Z"
    }
   },
   "outputs": [],
   "source": [
    "aspects = statistics_dataset.get_uni_and_multigram_aspects_stats()"
   ]
  },
  {
   "cell_type": "code",
   "execution_count": 51,
   "metadata": {
    "ExecuteTime": {
     "end_time": "2018-12-02T15:54:15.848258Z",
     "start_time": "2018-12-02T15:54:15.806940Z"
    }
   },
   "outputs": [
    {
     "data": {
      "text/plain": [
       "{}"
      ]
     },
     "execution_count": 51,
     "metadata": {},
     "output_type": "execute_result"
    }
   ],
   "source": [
    "aspects"
   ]
  }
 ],
 "metadata": {
  "kernelspec": {
   "display_name": "Python 3",
   "language": "python",
   "name": "python3"
  },
  "language_info": {
   "codemirror_mode": {
    "name": "ipython",
    "version": 3
   },
   "file_extension": ".py",
   "mimetype": "text/x-python",
   "name": "python",
   "nbconvert_exporter": "python",
   "pygments_lexer": "ipython3",
   "version": "3.6.6"
  },
  "toc": {
   "base_numbering": 1,
   "nav_menu": {},
   "number_sections": true,
   "sideBar": true,
   "skip_h1_title": false,
   "title_cell": "Table of Contents",
   "title_sidebar": "Contents",
   "toc_cell": false,
   "toc_position": {
    "height": "calc(100% - 180px)",
    "left": "10px",
    "top": "150px",
    "width": "165px"
   },
   "toc_section_display": true,
   "toc_window_display": true
  }
 },
 "nbformat": 4,
 "nbformat_minor": 2
}
