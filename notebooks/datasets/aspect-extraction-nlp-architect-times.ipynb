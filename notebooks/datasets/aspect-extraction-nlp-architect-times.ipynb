{
 "cells": [
  {
   "cell_type": "code",
   "execution_count": 1,
   "metadata": {
    "ExecuteTime": {
     "end_time": "2019-02-04T14:10:55.253750Z",
     "start_time": "2019-02-04T14:10:55.220313Z"
    }
   },
   "outputs": [],
   "source": [
    "%load_ext autoreload\n",
    "%autoreload 2"
   ]
  },
  {
   "cell_type": "code",
   "execution_count": 2,
   "metadata": {
    "ExecuteTime": {
     "end_time": "2019-02-04T14:11:11.157877Z",
     "start_time": "2019-02-04T14:10:55.721573Z"
    }
   },
   "outputs": [
    {
     "data": {
      "text/html": [
       "<style>.container { width:100% !important; }</style>"
      ],
      "text/plain": [
       "<IPython.core.display.HTML object>"
      ]
     },
     "metadata": {},
     "output_type": "display_data"
    },
    {
     "data": {
      "text/html": [
       "<script>requirejs.config({paths: { 'plotly': ['https://cdn.plot.ly/plotly-latest.min']},});if(!window.Plotly) {{require(['plotly'],function(plotly) {window.Plotly=plotly;});}}</script>"
      ],
      "text/plain": [
       "<IPython.core.display.HTML object>"
      ]
     },
     "metadata": {},
     "output_type": "display_data"
    }
   ],
   "source": [
    "import pickle\n",
    "\n",
    "from plotly.offline import download_plotlyjs, init_notebook_mode, plot, iplot\n",
    "from plotly.graph_objs import  Bar, Layout, Figure\n",
    "from plotly import __version__\n",
    "from tqdm import tqdm_notebook\n",
    "import numpy as np\n",
    "import pandas as pd\n",
    "from pathlib import Path\n",
    "from typing import Iterable, Set\n",
    "import sys\n",
    "from IPython.core.display import display, HTML\n",
    "\n",
    "display(HTML(\"<style>.container { width:100% !important; }</style>\"))\n",
    "\n",
    "\n",
    "% matplotlib inline\n",
    "\n",
    "sys.path.append('/home/laugustyniak/github/phd/sentiment-backend/')\n",
    "\n",
    "from aspects.analysis import statistics_dataset\n",
    "from aspects.analysis import nlp_architect\n",
    "from aspects.preprocessing import transform_formats\n",
    "from aspects.utilities import settings \n",
    "\n",
    "init_notebook_mode(connected=True)"
   ]
  },
  {
   "cell_type": "code",
   "execution_count": 3,
   "metadata": {
    "ExecuteTime": {
     "end_time": "2019-02-04T14:11:11.197696Z",
     "start_time": "2019-02-04T14:11:11.161088Z"
    }
   },
   "outputs": [],
   "source": [
    "models_path = '/home/laugustyniak/github/phd/nlp-architect/examples/aspect_extraction/models-oxygen-9/models/crawl-300d-2M/model-info-char-word-bilstm-crf-25epochs-Laptops_poria-train.conll.info'"
   ]
  },
  {
   "cell_type": "code",
   "execution_count": 4,
   "metadata": {
    "ExecuteTime": {
     "end_time": "2019-02-04T14:11:11.263435Z",
     "start_time": "2019-02-04T14:11:11.200316Z"
    }
   },
   "outputs": [],
   "source": [
    "with open(models_path, 'rb') as f:\n",
    "    model_info = pickle.load(f)"
   ]
  },
  {
   "cell_type": "code",
   "execution_count": 5,
   "metadata": {
    "ExecuteTime": {
     "end_time": "2019-02-04T14:11:11.308314Z",
     "start_time": "2019-02-04T14:11:11.267058Z"
    }
   },
   "outputs": [
    {
     "data": {
      "text/plain": [
       "5471"
      ]
     },
     "execution_count": 5,
     "metadata": {},
     "output_type": "execute_result"
    }
   ],
   "source": [
    "model_info['vocab_size']"
   ]
  },
  {
   "cell_type": "code",
   "execution_count": 6,
   "metadata": {
    "ExecuteTime": {
     "end_time": "2019-02-04T14:11:11.356921Z",
     "start_time": "2019-02-04T14:11:11.313954Z"
    }
   },
   "outputs": [
    {
     "data": {
      "text/plain": [
       "300"
      ]
     },
     "execution_count": 6,
     "metadata": {},
     "output_type": "execute_result"
    }
   ],
   "source": [
    "model_info['word_embedding_dims']"
   ]
  },
  {
   "cell_type": "code",
   "execution_count": 7,
   "metadata": {
    "ExecuteTime": {
     "end_time": "2019-02-04T14:11:11.399270Z",
     "start_time": "2019-02-04T14:11:11.360801Z"
    }
   },
   "outputs": [
    {
     "data": {
      "text/plain": [
       "25"
      ]
     },
     "execution_count": 7,
     "metadata": {},
     "output_type": "execute_result"
    }
   ],
   "source": [
    "model_info['char_embedding_dims']"
   ]
  },
  {
   "cell_type": "code",
   "execution_count": 8,
   "metadata": {
    "ExecuteTime": {
     "end_time": "2019-02-04T14:11:11.449025Z",
     "start_time": "2019-02-04T14:11:11.404073Z"
    }
   },
   "outputs": [
    {
     "data": {
      "text/plain": [
       "325"
      ]
     },
     "execution_count": 8,
     "metadata": {},
     "output_type": "execute_result"
    }
   ],
   "source": [
    "model_info['tagger_lstm_dims']"
   ]
  },
  {
   "cell_type": "code",
   "execution_count": 9,
   "metadata": {
    "ExecuteTime": {
     "end_time": "2019-02-04T14:11:11.504638Z",
     "start_time": "2019-02-04T14:11:11.454646Z"
    }
   },
   "outputs": [
    {
     "data": {
      "text/plain": [
       "0.5"
      ]
     },
     "execution_count": 9,
     "metadata": {},
     "output_type": "execute_result"
    }
   ],
   "source": [
    "model_info['dropout']"
   ]
  },
  {
   "cell_type": "code",
   "execution_count": 10,
   "metadata": {
    "ExecuteTime": {
     "end_time": "2019-02-04T14:11:11.549752Z",
     "start_time": "2019-02-04T14:11:11.509068Z"
    }
   },
   "outputs": [
    {
     "data": {
      "text/plain": [
       "'/home/lukasz/data/embeddings/crawl-300d-2M.vec'"
      ]
     },
     "execution_count": 10,
     "metadata": {},
     "output_type": "execute_result"
    }
   ],
   "source": [
    "model_info['external_embedding_model']"
   ]
  },
  {
   "cell_type": "code",
   "execution_count": 11,
   "metadata": {
    "ExecuteTime": {
     "end_time": "2019-02-04T14:11:11.578466Z",
     "start_time": "2019-02-04T14:11:11.551960Z"
    }
   },
   "outputs": [
    {
     "data": {
      "text/plain": [
       "'semeval/2014/poria/Laptops_poria-train.conll'"
      ]
     },
     "execution_count": 11,
     "metadata": {},
     "output_type": "execute_result"
    }
   ],
   "source": [
    "model_info['train_file']"
   ]
  },
  {
   "cell_type": "code",
   "execution_count": 12,
   "metadata": {
    "ExecuteTime": {
     "end_time": "2019-02-04T14:11:11.607280Z",
     "start_time": "2019-02-04T14:11:11.580850Z"
    }
   },
   "outputs": [
    {
     "data": {
      "text/plain": [
       "(800, 30, 4)"
      ]
     },
     "execution_count": 12,
     "metadata": {},
     "output_type": "execute_result"
    }
   ],
   "source": [
    "model_info['y_test'].shape"
   ]
  },
  {
   "cell_type": "code",
   "execution_count": 13,
   "metadata": {
    "ExecuteTime": {
     "end_time": "2019-02-04T14:11:11.636688Z",
     "start_time": "2019-02-04T14:11:11.609920Z"
    }
   },
   "outputs": [
    {
     "data": {
      "text/plain": [
       "{'B-A': 1, 'I-A': 2, 'O': 3}"
      ]
     },
     "execution_count": 13,
     "metadata": {},
     "output_type": "execute_result"
    }
   ],
   "source": [
    "model_info['y_labels']"
   ]
  },
  {
   "cell_type": "code",
   "execution_count": 14,
   "metadata": {
    "ExecuteTime": {
     "end_time": "2019-02-04T14:11:11.870493Z",
     "start_time": "2019-02-04T14:11:11.639330Z"
    }
   },
   "outputs": [
    {
     "ename": "NameError",
     "evalue": "name 'i' is not defined",
     "output_type": "error",
     "traceback": [
      "\u001b[0;31m---------------------------------------------------------------------------\u001b[0m",
      "\u001b[0;31mNameError\u001b[0m                                 Traceback (most recent call last)",
      "\u001b[0;32m<ipython-input-14-2d5b937cd037>\u001b[0m in \u001b[0;36m<module>\u001b[0;34m()\u001b[0m\n\u001b[0;32m----> 1\u001b[0;31m \u001b[0mnp\u001b[0m\u001b[0;34m.\u001b[0m\u001b[0mequal\u001b[0m\u001b[0;34m(\u001b[0m\u001b[0mmodel_info\u001b[0m\u001b[0;34m[\u001b[0m\u001b[0;34m'predictions'\u001b[0m\u001b[0;34m]\u001b[0m\u001b[0;34m[\u001b[0m\u001b[0mi\u001b[0m\u001b[0;34m]\u001b[0m\u001b[0;34m[\u001b[0m\u001b[0;34m:\u001b[0m\u001b[0;34m,\u001b[0m\u001b[0;36m1\u001b[0m\u001b[0;34m]\u001b[0m\u001b[0;34m,\u001b[0m \u001b[0mmodel_info\u001b[0m\u001b[0;34m[\u001b[0m\u001b[0;34m'y_test'\u001b[0m\u001b[0;34m]\u001b[0m\u001b[0;34m[\u001b[0m\u001b[0mi\u001b[0m\u001b[0;34m]\u001b[0m\u001b[0;34m[\u001b[0m\u001b[0;34m:\u001b[0m\u001b[0;34m,\u001b[0m\u001b[0;36m1\u001b[0m\u001b[0;34m]\u001b[0m\u001b[0;34m)\u001b[0m\u001b[0;34m\u001b[0m\u001b[0m\n\u001b[0m",
      "\u001b[0;31mNameError\u001b[0m: name 'i' is not defined"
     ]
    }
   ],
   "source": [
    "np.equal(model_info['predictions'][i][:,1], model_info['y_test'][i][:,1])"
   ]
  },
  {
   "cell_type": "code",
   "execution_count": null,
   "metadata": {
    "ExecuteTime": {
     "end_time": "2019-02-04T14:11:11.871683Z",
     "start_time": "2019-02-04T14:11:03.416Z"
    }
   },
   "outputs": [],
   "source": [
    "def get_indices_of_wrong_tags(model_info):\n",
    "    for i in range(model_info['predictions'].shape[0]):\n",
    "        indices = np.where(np.all(np.equal(model_info['predictions'][i], model_info['y_test'][i]), axis=1)==False)\n",
    "        # substract padded positions\n",
    "        padding = sum(model_info['y_test'][i][:,0])\n",
    "        yield [idx - padding for idx in indices]"
   ]
  },
  {
   "cell_type": "code",
   "execution_count": null,
   "metadata": {
    "ExecuteTime": {
     "end_time": "2019-02-04T14:11:11.873087Z",
     "start_time": "2019-02-04T14:11:03.654Z"
    }
   },
   "outputs": [],
   "source": [
    "def get_indices_of_correct_tags(model_info):\n",
    "    for i in range(model_info['predictions'].shape[0]):\n",
    "        indices = np.where(np.all(np.equal(model_info['predictions'][i][], model_info['y_test'][i]), axis=1)==False)\n",
    "        # substract padded positions\n",
    "        padding = sum(model_info['y_test'][i][:,0])\n",
    "        yield [idx - padding for idx in indices]"
   ]
  },
  {
   "cell_type": "code",
   "execution_count": null,
   "metadata": {
    "ExecuteTime": {
     "end_time": "2019-02-04T14:11:11.874699Z",
     "start_time": "2019-02-04T14:11:04.330Z"
    }
   },
   "outputs": [],
   "source": [
    "list(get_indices_of_wrong_tags(model_info))"
   ]
  },
  {
   "cell_type": "markdown",
   "metadata": {},
   "source": [
    "# SemEval text stats "
   ]
  },
  {
   "cell_type": "code",
   "execution_count": null,
   "metadata": {
    "ExecuteTime": {
     "end_time": "2019-02-04T14:11:11.876361Z",
     "start_time": "2019-02-04T14:11:08.771Z"
    }
   },
   "outputs": [],
   "source": [
    "pd.DataFrame([len(text.strip().split()) for text, _, _ in transform_formats.parse_semeval_xml(settings.SEMEVAL_LAPTOPS_TRAIN_XML)]).hist()"
   ]
  },
  {
   "cell_type": "code",
   "execution_count": null,
   "metadata": {
    "ExecuteTime": {
     "end_time": "2019-02-04T14:11:11.877831Z",
     "start_time": "2019-02-04T14:11:09.115Z"
    }
   },
   "outputs": [],
   "source": [
    "pd.DataFrame([len(text.strip().split()) for text, _, _ in transform_formats.parse_semeval_xml(settings.SEMEVAL_LAPTOPS_TEST_XML)]).hist()"
   ]
  },
  {
   "cell_type": "code",
   "execution_count": null,
   "metadata": {
    "ExecuteTime": {
     "end_time": "2019-02-04T14:11:11.879064Z",
     "start_time": "2019-02-04T14:11:09.387Z"
    }
   },
   "outputs": [],
   "source": [
    "pd.DataFrame([len(text.strip().split()) for text, _, _ in transform_formats.parse_semeval_xml(settings.SEMEVAL_RESTAURANTS_TEST_XML)]).hist()"
   ]
  },
  {
   "cell_type": "code",
   "execution_count": null,
   "metadata": {
    "ExecuteTime": {
     "end_time": "2019-02-04T14:11:11.880545Z",
     "start_time": "2019-02-04T14:11:09.571Z"
    }
   },
   "outputs": [],
   "source": [
    "pd.DataFrame([len(text.strip().split()) for text, _, _ in transform_formats.parse_semeval_xml(settings.SEMEVAL_RESTAURANTS_TRAIN_XML)]).hist()"
   ]
  },
  {
   "cell_type": "code",
   "execution_count": null,
   "metadata": {
    "ExecuteTime": {
     "end_time": "2019-02-04T14:11:11.882288Z",
     "start_time": "2019-02-04T14:11:10.913Z"
    }
   },
   "outputs": [],
   "source": [
    "np.mean([len(text.strip().split()) for text, _, _ in transform_formats.parse_semeval_xml(settings.SEMEVAL_LAPTOPS_TRAIN_XML)])"
   ]
  },
  {
   "cell_type": "markdown",
   "metadata": {},
   "source": [
    "# "
   ]
  }
 ],
 "metadata": {
  "kernelspec": {
   "display_name": "Python 3",
   "language": "python",
   "name": "python3"
  },
  "language_info": {
   "codemirror_mode": {
    "name": "ipython",
    "version": 3
   },
   "file_extension": ".py",
   "mimetype": "text/x-python",
   "name": "python",
   "nbconvert_exporter": "python",
   "pygments_lexer": "ipython3",
   "version": "3.6.6"
  },
  "toc": {
   "base_numbering": 1,
   "nav_menu": {},
   "number_sections": true,
   "sideBar": true,
   "skip_h1_title": false,
   "title_cell": "Table of Contents",
   "title_sidebar": "Contents",
   "toc_cell": false,
   "toc_position": {},
   "toc_section_display": true,
   "toc_window_display": false
  }
 },
 "nbformat": 4,
 "nbformat_minor": 2
}
