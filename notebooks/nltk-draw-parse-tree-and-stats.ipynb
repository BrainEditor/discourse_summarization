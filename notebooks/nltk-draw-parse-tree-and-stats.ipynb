{
 "metadata": {
  "name": "",
  "signature": "sha256:fdb038634f5320ae7ecb343c2921f5560c9dc320c8775f4e11ba3ddeb1eed396"
 },
 "nbformat": 3,
 "nbformat_minor": 0,
 "worksheets": [
  {
   "cells": [
    {
     "cell_type": "heading",
     "level": 1,
     "metadata": {},
     "source": [
      "Imports "
     ]
    },
    {
     "cell_type": "code",
     "collapsed": false,
     "input": [
      "%load_ext autoreload\n",
      "%autoreload 2"
     ],
     "language": "python",
     "metadata": {},
     "outputs": [],
     "prompt_number": 1
    },
    {
     "cell_type": "code",
     "collapsed": false,
     "input": [
      "from os.path import basename, join, exists\n",
      "from os import system, makedirs\n",
      "from glob import glob\n",
      "from pprint import pprint\n",
      "\n",
      "from IPython.display import Image, display\n",
      "from nltk.draw import TreeWidget\n",
      "from nltk.draw.util import CanvasFrame\n",
      "from nltk.tree import Tree\n",
      "\n",
      "import sys\n",
      "import re\n",
      "\n",
      "from wordcloud import WordCloud\n",
      "from bs4 import BeautifulSoup\n",
      "\n",
      "import requests\n",
      "import simplejson\n",
      "import numpy as np\n",
      "import pandas as pd\n",
      "import networkx as nx\n",
      "import matplotlib.pyplot as plt\n",
      "\n",
      "sys.path.append(\"../edu_dependency_parser/src\")\n",
      "\n",
      "from trees.parse_tree import ParseTree\n",
      "\n",
      "%matplotlib inline"
     ],
     "language": "python",
     "metadata": {},
     "outputs": [],
     "prompt_number": 2
    },
    {
     "cell_type": "heading",
     "level": 1,
     "metadata": {},
     "source": [
      "Utils functions "
     ]
    },
    {
     "cell_type": "code",
     "collapsed": false,
     "input": [
      "sys.path.append(\"../aspects\")"
     ],
     "language": "python",
     "metadata": {},
     "outputs": [],
     "prompt_number": 4
    },
    {
     "cell_type": "code",
     "collapsed": false,
     "input": [
      "from utilities.transformations import flatten_list, load_serialized"
     ],
     "language": "python",
     "metadata": {},
     "outputs": [],
     "prompt_number": 6
    },
    {
     "cell_type": "heading",
     "level": 1,
     "metadata": {},
     "source": [
      "Path to the results "
     ]
    },
    {
     "cell_type": "code",
     "collapsed": false,
     "input": [
      "data_path = '../results/ipod'\n",
      "# data_path = '../results/Canon_S100'\n",
      "dataset_name = basename(data_path)\n",
      "data_path_trees = join(data_path,  'edu_trees_dir')\n",
      "data_path_link_tree = join(data_path,  'link_trees_dir')"
     ],
     "language": "python",
     "metadata": {},
     "outputs": [],
     "prompt_number": 7
    },
    {
     "cell_type": "heading",
     "level": 1,
     "metadata": {},
     "source": [
      "Get parse trees "
     ]
    },
    {
     "cell_type": "code",
     "collapsed": false,
     "input": [
      "tree_names = [ basename(x) for x in glob(join(data_path_trees, '*.tree.ser'))]\n",
      "n_docs = len(tree_names)"
     ],
     "language": "python",
     "metadata": {},
     "outputs": [],
     "prompt_number": 8
    },
    {
     "cell_type": "code",
     "collapsed": false,
     "input": [
      "n_docs"
     ],
     "language": "python",
     "metadata": {},
     "outputs": [
      {
       "metadata": {},
       "output_type": "pyout",
       "prompt_number": 9,
       "text": [
        "530"
       ]
      }
     ],
     "prompt_number": 9
    },
    {
     "cell_type": "code",
     "collapsed": false,
     "input": [
      "tree_names[:10]"
     ],
     "language": "python",
     "metadata": {},
     "outputs": [
      {
       "metadata": {},
       "output_type": "pyout",
       "prompt_number": 10,
       "text": [
        "['230.tree.ser',\n",
        " '47.tree.ser',\n",
        " '8.tree.ser',\n",
        " '376.tree.ser',\n",
        " '363.tree.ser',\n",
        " '151.tree.ser',\n",
        " '90.tree.ser',\n",
        " '234.tree.ser',\n",
        " '358.tree.ser',\n",
        " '269.tree.ser']"
       ]
      }
     ],
     "prompt_number": 10
    },
    {
     "cell_type": "code",
     "collapsed": false,
     "input": [
      "tree_numbers = [x.split('.')[0] for x in tree_names]"
     ],
     "language": "python",
     "metadata": {},
     "outputs": [],
     "prompt_number": 11
    },
    {
     "cell_type": "code",
     "collapsed": false,
     "input": [
      "tree_numbers[:10]"
     ],
     "language": "python",
     "metadata": {},
     "outputs": [
      {
       "metadata": {},
       "output_type": "pyout",
       "prompt_number": 12,
       "text": [
        "['230', '47', '8', '376', '363', '151', '90', '234', '358', '269']"
       ]
      }
     ],
     "prompt_number": 12
    },
    {
     "cell_type": "code",
     "collapsed": false,
     "input": [
      "join(data_path_trees, tree_names[0])"
     ],
     "language": "python",
     "metadata": {},
     "outputs": [
      {
       "metadata": {},
       "output_type": "pyout",
       "prompt_number": 13,
       "text": [
        "'../results/ipod/edu_trees_dir/230.tree.ser'"
       ]
      }
     ],
     "prompt_number": 13
    },
    {
     "cell_type": "code",
     "collapsed": false,
     "input": [
      "tree_name = tree_names[0]\n",
      "parsed_tree = load_serialized(join(data_path_trees, tree_name))"
     ],
     "language": "python",
     "metadata": {},
     "outputs": [],
     "prompt_number": 14
    },
    {
     "cell_type": "code",
     "collapsed": false,
     "input": [
      "pprint(parsed_tree.pprint())"
     ],
     "language": "python",
     "metadata": {},
     "outputs": [
      {
       "output_type": "stream",
       "stream": "stdout",
       "text": [
        "'(Joint[N][N]\\n  _!U With accessories , you can make the iPod into a digital recorder ,!_\\n  (Joint[N][N]\\n    (Elaboration[N][S]\\n      _!broadcast it remotely through stereo speakers!_\\n      _!using wireless technology ,!_)\\n    (Elaboration[N][S]\\n      _!and play it through your car speakers!_\\n      _!using either a CD adaptor or FM stereo broadcaster.q . <P>!_)))'\n"
       ]
      }
     ],
     "prompt_number": 15
    },
    {
     "cell_type": "code",
     "collapsed": false,
     "input": [
      "# parsed_tree.draw()"
     ],
     "language": "python",
     "metadata": {},
     "outputs": [],
     "prompt_number": 16
    },
    {
     "cell_type": "heading",
     "level": 1,
     "metadata": {},
     "source": [
      "Get name of relations"
     ]
    },
    {
     "cell_type": "code",
     "collapsed": false,
     "input": [
      "parsed_tree.node"
     ],
     "language": "python",
     "metadata": {},
     "outputs": [
      {
       "metadata": {},
       "output_type": "pyout",
       "prompt_number": 17,
       "text": [
        "'Joint[N][N]'"
       ]
      }
     ],
     "prompt_number": 17
    },
    {
     "cell_type": "heading",
     "level": 1,
     "metadata": {},
     "source": [
      "Get EDU texts "
     ]
    },
    {
     "cell_type": "code",
     "collapsed": false,
     "input": [
      "edus = load_serialized(join(data_path, 'edu_trees_dir', '0.tree.ser'))"
     ],
     "language": "python",
     "metadata": {},
     "outputs": [],
     "prompt_number": 18
    },
    {
     "cell_type": "code",
     "collapsed": false,
     "input": [
      "edus[0]"
     ],
     "language": "python",
     "metadata": {},
     "outputs": [
      {
       "metadata": {},
       "output_type": "pyout",
       "prompt_number": 19,
       "text": [
        "ParseTree('Attribution[N][S]', ['_!UuIf you can get past this little flaw ,!_', '_!give the ipod 5 stars ,!_'])"
       ]
      }
     ],
     "prompt_number": 19
    },
    {
     "cell_type": "heading",
     "level": 1,
     "metadata": {},
     "source": [
      "Draw parse tree"
     ]
    },
    {
     "cell_type": "code",
     "collapsed": false,
     "input": [
      "def jupyter_draw_nltk_tree(tree, directory='trees', f_name='tmp', show_tree=False):\n",
      "    f_name = join(directory, f_name)\n",
      "    if not exists(directory):\n",
      "        makedirs(directory)\n",
      "    \n",
      "    cf = CanvasFrame()\n",
      "    tc = TreeWidget(cf.canvas(), tree)\n",
      "    tc['node_font'] = 'arial 13 bold'\n",
      "    tc['leaf_font'] = 'arial 14'\n",
      "    tc['node_color'] = '#005990'\n",
      "    tc['leaf_color'] = '#3F8F57'\n",
      "    tc['line_color'] = '#175252'\n",
      "    cf.add_widget(tc, 20, 20)\n",
      "    cf.print_to_file('{}.ps'.format(f_name))\n",
      "    cf.destroy()\n",
      "    system('convert {}.ps {}.png'.format(f_name, f_name))\n",
      "    if show_tree:\n",
      "        display(Image(filename='{}.png'.format(f_name)))\n",
      "    system('rm {}.ps'.format(f_name))"
     ],
     "language": "python",
     "metadata": {},
     "outputs": [],
     "prompt_number": 20
    },
    {
     "cell_type": "code",
     "collapsed": false,
     "input": [
      "jupyter_draw_nltk_tree(parsed_tree, 'trees', dataset_name + tree_name)"
     ],
     "language": "python",
     "metadata": {},
     "outputs": [],
     "prompt_number": 21
    },
    {
     "cell_type": "heading",
     "level": 1,
     "metadata": {},
     "source": [
      "Draw all trees in dataset"
     ]
    },
    {
     "cell_type": "code",
     "collapsed": false,
     "input": [
      "# for t in tree_names:\n",
      "#     parsed_tree = load_serialized(join(data_path_trees, t))\n",
      "#     jupyter_draw_nltk_tree(tree=parsed_tree, f_name=dataset_name + t)"
     ],
     "language": "python",
     "metadata": {},
     "outputs": [],
     "prompt_number": 22
    },
    {
     "cell_type": "heading",
     "level": 1,
     "metadata": {},
     "source": [
      "Process trees"
     ]
    },
    {
     "cell_type": "code",
     "collapsed": false,
     "input": [
      "def __process_tree(tree):\n",
      "    relations = []\n",
      "    for index, node in enumerate(tree):\n",
      "        # go to the subtree\n",
      "        if isinstance(node, ParseTree):\n",
      "#             print(node.node)\n",
      "            relations.append(node.node)\n",
      "            __process_tree(node)\n",
      "        # recursively until leaf\n",
      "        else:\n",
      "            # leaf, parent/current subtree, index of leaf in the tree\n",
      "            __traverse_parent(node, tree, index)\n",
      "    return relations\n",
      "\n",
      "def __traverse_parent(leaf, parent, child_index):\n",
      "    # leaf = child\n",
      "    if parent is not None:\n",
      "        for id in range(child_index + 1, len(parent)):\n",
      "            pass\n",
      "#             print(leaf, parent[id])\n",
      "#             print('--')\n",
      "\n",
      "        if parent.parent is not None:\n",
      "            __traverse_parent(leaf, parent.parent, parent.parent_index)"
     ],
     "language": "python",
     "metadata": {},
     "outputs": [],
     "prompt_number": 23
    },
    {
     "cell_type": "code",
     "collapsed": false,
     "input": [
      "# without root node\n",
      "\n",
      "def traverseTree(tree):\n",
      "#     print(\"tree:\", tree)\n",
      "    for subtree in tree:\n",
      "        if type(subtree) == Tree:\n",
      "            traverseTree(subtree)\n",
      "        print subtree\n",
      "traverseTree(parsed_tree)"
     ],
     "language": "python",
     "metadata": {},
     "outputs": [
      {
       "output_type": "stream",
       "stream": "stdout",
       "text": [
        "_!U With accessories , you can make the iPod into a digital recorder ,!_\n",
        "(Joint[N][N]\n",
        "  (Elaboration[N][S]\n",
        "    _!broadcast it remotely through stereo speakers!_\n",
        "    _!using wireless technology ,!_)\n",
        "  (Elaboration[N][S]\n",
        "    _!and play it through your car speakers!_\n",
        "    _!using either a CD adaptor or FM stereo broadcaster.q . <P>!_))\n"
       ]
      }
     ],
     "prompt_number": 24
    },
    {
     "cell_type": "heading",
     "level": 1,
     "metadata": {},
     "source": [
      "Load paths['documents_info'] "
     ]
    },
    {
     "cell_type": "code",
     "collapsed": false,
     "input": [
      "docs_info = load_serialized(join(data_path, 'documents_info'))"
     ],
     "language": "python",
     "metadata": {},
     "outputs": [],
     "prompt_number": 25
    },
    {
     "cell_type": "code",
     "collapsed": false,
     "input": [
      "docs_info.values()[4]"
     ],
     "language": "python",
     "metadata": {},
     "outputs": [
      {
       "metadata": {},
       "output_type": "pyout",
       "prompt_number": 26,
       "text": [
        "{'EDUs': [7, 8, 9, 10],\n",
        " 'accepted_edus': [7, 9, 10],\n",
        " 'aspect_concepts': {'conceptnet_io': {}, 'sentic': {}},\n",
        " 'aspect_keywords': {'rake': [(u'unreplacable 18 month battery', 9.0),\n",
        "   (u'giving', 1.0)]},\n",
        " 'aspects': [u'device', u'individual', u'steve jobs'],\n",
        " 'sentiment': [1, 0, -1, -1]}"
       ]
      }
     ],
     "prompt_number": 26
    },
    {
     "cell_type": "heading",
     "level": 1,
     "metadata": {},
     "source": [
      "Load edus "
     ]
    },
    {
     "cell_type": "code",
     "collapsed": false,
     "input": [
      "edus = load_serialized(join(data_path, 'raw_edu_list'))\n",
      "n_edus = len(edus)\n",
      "edus[0]"
     ],
     "language": "python",
     "metadata": {},
     "outputs": [
      {
       "metadata": {},
       "output_type": "pyout",
       "prompt_number": 27,
       "text": [
        "{'entities': [],\n",
        " 'raw_text': u'If you can get past this little flaw ,',\n",
        " 'source_document_id': 0,\n",
        " 'tokens': [{'is_stop': True, 'lemma': u'if', 'pos': u'ADP', 'text': u'If'},\n",
        "  {'is_stop': True, 'lemma': u'-PRON-', 'pos': u'PRON', 'text': u'you'},\n",
        "  {'is_stop': True, 'lemma': u'can', 'pos': u'VERB', 'text': u'can'},\n",
        "  {'is_stop': True, 'lemma': u'get', 'pos': u'VERB', 'text': u'get'},\n",
        "  {'is_stop': False, 'lemma': u'past', 'pos': u'ADP', 'text': u'past'},\n",
        "  {'is_stop': True, 'lemma': u'this', 'pos': u'DET', 'text': u'this'},\n",
        "  {'is_stop': False, 'lemma': u'little', 'pos': u'ADJ', 'text': u'little'},\n",
        "  {'is_stop': False, 'lemma': u'flaw', 'pos': u'NOUN', 'text': u'flaw'}]}"
       ]
      }
     ],
     "prompt_number": 27
    },
    {
     "cell_type": "code",
     "collapsed": false,
     "input": [
      "n_edus"
     ],
     "language": "python",
     "metadata": {},
     "outputs": [
      {
       "metadata": {},
       "output_type": "pyout",
       "prompt_number": 28,
       "text": [
        "1591"
       ]
      }
     ],
     "prompt_number": 28
    },
    {
     "cell_type": "code",
     "collapsed": false,
     "input": [
      "edus[10]"
     ],
     "language": "python",
     "metadata": {},
     "outputs": [
      {
       "metadata": {},
       "output_type": "pyout",
       "prompt_number": 29,
       "text": [
        "{'entities': [],\n",
        " 'raw_text': u'by giving it an UNREPLACABLE 18 MONTH BATTERY.',\n",
        " 'source_document_id': 4,\n",
        " 'tokens': [{'is_stop': True, 'lemma': u'by', 'pos': u'ADP', 'text': u'by'},\n",
        "  {'is_stop': False, 'lemma': u'give', 'pos': u'VERB', 'text': u'giving'},\n",
        "  {'is_stop': True, 'lemma': u'-PRON-', 'pos': u'PRON', 'text': u'it'},\n",
        "  {'is_stop': True, 'lemma': u'an', 'pos': u'DET', 'text': u'an'},\n",
        "  {'is_stop': False,\n",
        "   'lemma': u'unreplacable',\n",
        "   'pos': u'PROPN',\n",
        "   'text': u'UNREPLACABLE'},\n",
        "  {'is_stop': False, 'lemma': u'18', 'pos': u'NUM', 'text': u'18'},\n",
        "  {'is_stop': False, 'lemma': u'month', 'pos': u'PROPN', 'text': u'MONTH'},\n",
        "  {'is_stop': False,\n",
        "   'lemma': u'battery',\n",
        "   'pos': u'PROPN',\n",
        "   'text': u'BATTERY'}]}"
       ]
      }
     ],
     "prompt_number": 29
    },
    {
     "cell_type": "code",
     "collapsed": false,
     "input": [
      "edus_df = pd.DataFrame.from_dict(edus, orient='index')\n",
      "edus_df.head()"
     ],
     "language": "python",
     "metadata": {},
     "outputs": [
      {
       "html": [
        "<div style=\"max-width:1500px;overflow:auto;\">\n",
        "<table border=\"1\" class=\"dataframe\">\n",
        "  <thead>\n",
        "    <tr style=\"text-align: right;\">\n",
        "      <th></th>\n",
        "      <th>tokens</th>\n",
        "      <th>entities</th>\n",
        "      <th>raw_text</th>\n",
        "      <th>source_document_id</th>\n",
        "    </tr>\n",
        "  </thead>\n",
        "  <tbody>\n",
        "    <tr>\n",
        "      <th>0</th>\n",
        "      <td>[{u'is_stop': True, u'text': u'If', u'pos': u'...</td>\n",
        "      <td>[]</td>\n",
        "      <td>If you can get past this little flaw ,</td>\n",
        "      <td>0</td>\n",
        "    </tr>\n",
        "    <tr>\n",
        "      <th>1</th>\n",
        "      <td>[{u'is_stop': True, u'text': u'give', u'pos': ...</td>\n",
        "      <td>[]</td>\n",
        "      <td>give the ipod 5 stars ,</td>\n",
        "      <td>0</td>\n",
        "    </tr>\n",
        "    <tr>\n",
        "      <th>2</th>\n",
        "      <td>[{u'is_stop': True, u'text': u'because', u'pos...</td>\n",
        "      <td>[]</td>\n",
        "      <td>because everything else about it is pretty muc...</td>\n",
        "      <td>0</td>\n",
        "    </tr>\n",
        "    <tr>\n",
        "      <th>3</th>\n",
        "      <td>[{u'is_stop': False, u'text': u'Don', u'pos': ...</td>\n",
        "      <td>[don]</td>\n",
        "      <td>Don t get this</td>\n",
        "      <td>1</td>\n",
        "    </tr>\n",
        "    <tr>\n",
        "      <th>4</th>\n",
        "      <td>[{u'is_stop': False, u'text': u'...', u'pos': ...</td>\n",
        "      <td>[]</td>\n",
        "      <td>... keep browsing.</td>\n",
        "      <td>1</td>\n",
        "    </tr>\n",
        "  </tbody>\n",
        "</table>\n",
        "</div>"
       ],
       "metadata": {},
       "output_type": "pyout",
       "prompt_number": 30,
       "text": [
        "                                              tokens entities  \\\n",
        "0  [{u'is_stop': True, u'text': u'If', u'pos': u'...       []   \n",
        "1  [{u'is_stop': True, u'text': u'give', u'pos': ...       []   \n",
        "2  [{u'is_stop': True, u'text': u'because', u'pos...       []   \n",
        "3  [{u'is_stop': False, u'text': u'Don', u'pos': ...    [don]   \n",
        "4  [{u'is_stop': False, u'text': u'...', u'pos': ...       []   \n",
        "\n",
        "                                            raw_text  source_document_id  \n",
        "0             If you can get past this little flaw ,                   0  \n",
        "1                            give the ipod 5 stars ,                   0  \n",
        "2  because everything else about it is pretty muc...                   0  \n",
        "3                                     Don t get this                   1  \n",
        "4                                 ... keep browsing.                   1  "
       ]
      }
     ],
     "prompt_number": 30
    },
    {
     "cell_type": "heading",
     "level": 1,
     "metadata": {},
     "source": [
      "Load only edus with sentiment"
     ]
    },
    {
     "cell_type": "code",
     "collapsed": false,
     "input": [
      "edus_sentiment = load_serialized(join(data_path, 'sentiment_filtered_edus'))\n",
      "n_edus_sentiment = len(edus_sentiment)\n",
      "n_edus_sentiment"
     ],
     "language": "python",
     "metadata": {},
     "outputs": [
      {
       "metadata": {},
       "output_type": "pyout",
       "prompt_number": 31,
       "text": [
        "1156"
       ]
      }
     ],
     "prompt_number": 31
    },
    {
     "cell_type": "heading",
     "level": 1,
     "metadata": {},
     "source": [
      "Percent of edus with sentiment "
     ]
    },
    {
     "cell_type": "code",
     "collapsed": false,
     "input": [
      "'{:.2f}%'.format(float(n_edus_sentiment)/n_edus * 100)"
     ],
     "language": "python",
     "metadata": {},
     "outputs": [
      {
       "metadata": {},
       "output_type": "pyout",
       "prompt_number": 32,
       "text": [
        "'72.66%'"
       ]
      }
     ],
     "prompt_number": 32
    },
    {
     "cell_type": "heading",
     "level": 1,
     "metadata": {},
     "source": [
      "Load aspects "
     ]
    },
    {
     "cell_type": "code",
     "collapsed": false,
     "input": [
      "aspects_per_edu = load_serialized(join(data_path, 'aspects_per_edu'))"
     ],
     "language": "python",
     "metadata": {},
     "outputs": [],
     "prompt_number": 33
    },
    {
     "cell_type": "code",
     "collapsed": false,
     "input": [
      "aspects_per_edu.items()[:10]"
     ],
     "language": "python",
     "metadata": {},
     "outputs": [
      {
       "metadata": {},
       "output_type": "pyout",
       "prompt_number": 34,
       "text": [
        "[(2, []),\n",
        " (3, []),\n",
        " (4, []),\n",
        " (7, [u'steve jobs', u'individual']),\n",
        " (9, [u'device']),\n",
        " (10, []),\n",
        " (11, [u'film']),\n",
        " (12, [u'device', u'idea']),\n",
        " (13, []),\n",
        " (14, [u'battery'])]"
       ]
      }
     ],
     "prompt_number": 34
    },
    {
     "cell_type": "heading",
     "level": 1,
     "metadata": {},
     "source": [
      "Filter empty aspects and aspects shorter than 2, like 't', 'u' etc."
     ]
    },
    {
     "cell_type": "code",
     "collapsed": false,
     "input": [
      "aspects_per_edu = {k:v for k, v in aspects_per_edu.items() if v and [v for x in v if len(x) > 1]}"
     ],
     "language": "python",
     "metadata": {},
     "outputs": [],
     "prompt_number": 35
    },
    {
     "cell_type": "code",
     "collapsed": false,
     "input": [
      "aspects_per_edu.values()[:10]"
     ],
     "language": "python",
     "metadata": {},
     "outputs": [
      {
       "metadata": {},
       "output_type": "pyout",
       "prompt_number": 36,
       "text": [
        "[[u'steve jobs', u'individual'],\n",
        " [u'device'],\n",
        " [u'film'],\n",
        " [u'device', u'idea'],\n",
        " [u'battery'],\n",
        " [u'model', u'ipod'],\n",
        " [u'freakin easy', u'conspiracy'],\n",
        " [u'device', u'battery'],\n",
        " [u'mp3 player'],\n",
        " [u'opportunity']]"
       ]
      }
     ],
     "prompt_number": 36
    },
    {
     "cell_type": "code",
     "collapsed": false,
     "input": [
      "n_aspects_per_edu = len(aspects_per_edu)\n",
      "n_aspects_per_edu"
     ],
     "language": "python",
     "metadata": {},
     "outputs": [
      {
       "metadata": {},
       "output_type": "pyout",
       "prompt_number": 37,
       "text": [
        "708"
       ]
      }
     ],
     "prompt_number": 37
    },
    {
     "cell_type": "heading",
     "level": 1,
     "metadata": {},
     "source": [
      "Percent of edus with aspect extracted"
     ]
    },
    {
     "cell_type": "code",
     "collapsed": false,
     "input": [
      "'{:.2f}%'.format(float(n_aspects_per_edu)/n_edus * 100)"
     ],
     "language": "python",
     "metadata": {},
     "outputs": [
      {
       "metadata": {},
       "output_type": "pyout",
       "prompt_number": 38,
       "text": [
        "'44.50%'"
       ]
      }
     ],
     "prompt_number": 38
    },
    {
     "cell_type": "code",
     "collapsed": false,
     "input": [
      "# dataset_df = pd.merge(edus_df, pd.DataFrame.from_dict(aspects, orient='index'), left_index=True, right_index=True)"
     ],
     "language": "python",
     "metadata": {},
     "outputs": [],
     "prompt_number": 36
    },
    {
     "cell_type": "code",
     "collapsed": false,
     "input": [
      "# dataset_df.head()"
     ],
     "language": "python",
     "metadata": {},
     "outputs": [],
     "prompt_number": 37
    },
    {
     "cell_type": "heading",
     "level": 1,
     "metadata": {},
     "source": [
      "Percent of documents with at least 2 aspects!!"
     ]
    },
    {
     "cell_type": "code",
     "collapsed": false,
     "input": [
      "documents_info = load_serialized(join(data_path, 'documents_info'))"
     ],
     "language": "python",
     "metadata": {},
     "outputs": [],
     "prompt_number": 142
    },
    {
     "cell_type": "code",
     "collapsed": false,
     "input": [
      "document_info_at_least_2_aspects_accepted = {k: v for k, v in documents_info.items() if len(v['accepted_edus']) > 1}"
     ],
     "language": "python",
     "metadata": {},
     "outputs": [],
     "prompt_number": 40
    },
    {
     "cell_type": "code",
     "collapsed": false,
     "input": [
      "n_at_least_two_aspects_per_doc = len(document_info_at_least_2_aspects_accepted)"
     ],
     "language": "python",
     "metadata": {},
     "outputs": [],
     "prompt_number": 41
    },
    {
     "cell_type": "code",
     "collapsed": false,
     "input": [
      "'{:.2f}%'.format(float(n_at_least_two_aspects_per_doc)/n_docs * 100)"
     ],
     "language": "python",
     "metadata": {},
     "outputs": [
      {
       "metadata": {},
       "output_type": "pyout",
       "prompt_number": 42,
       "text": [
        "'60.19%'"
       ]
      }
     ],
     "prompt_number": 42
    },
    {
     "cell_type": "code",
     "collapsed": false,
     "input": [
      "documents_info.items()[:2]"
     ],
     "language": "python",
     "metadata": {},
     "outputs": [
      {
       "metadata": {},
       "output_type": "pyout",
       "prompt_number": 143,
       "text": [
        "[(0,\n",
        "  {'EDUs': [0, 1, 2],\n",
        "   'accepted_edus': [2],\n",
        "   'aspect_concepts': {},\n",
        "   'aspect_keywords': {},\n",
        "   'aspects': {},\n",
        "   'sentiment': {0: 0, 1: 0, 2: 1}}),\n",
        " (1,\n",
        "  {'EDUs': [3, 4],\n",
        "   'accepted_edus': [3, 4],\n",
        "   'aspect_concepts': {},\n",
        "   'aspect_keywords': {},\n",
        "   'aspects': {},\n",
        "   'sentiment': {3: -1, 4: 1}})]"
       ]
      }
     ],
     "prompt_number": 143
    },
    {
     "cell_type": "code",
     "collapsed": false,
     "input": [
      "edus = load_serialized(join(data_path, 'sentiment_filtered_edus'))"
     ],
     "language": "python",
     "metadata": {},
     "outputs": [],
     "prompt_number": 133
    },
    {
     "cell_type": "code",
     "collapsed": false,
     "input": [
      "documents_info[edus.values()[0]['source_document_id']]"
     ],
     "language": "python",
     "metadata": {},
     "outputs": [
      {
       "metadata": {},
       "output_type": "pyout",
       "prompt_number": 141,
       "text": [
        "{'EDUs': [0, 1, 2],\n",
        " 'accepted_edus': [2],\n",
        " 'aspect_concepts': {'conceptnet_io': {}, 'sentic': {}},\n",
        " 'aspect_keywords': {'rake': [(u'perfect', 1.0), (u'pretty', 1.0)]},\n",
        " 'aspects': [],\n",
        " 'sentiment': [0, 0, 1]}"
       ]
      }
     ],
     "prompt_number": 141
    },
    {
     "cell_type": "heading",
     "level": 1,
     "metadata": {},
     "source": [
      "How many EDUs with two and more aspects"
     ]
    },
    {
     "cell_type": "code",
     "collapsed": false,
     "input": [
      "n_more_aspects_than_edu = sum([0 if len(x['accepted_edus']) > len(x['aspects']) else 1 \n",
      "                               for x in document_info_at_least_2_aspects_accepted.itervalues()])\n",
      "n_more_aspects_than_edu"
     ],
     "language": "python",
     "metadata": {},
     "outputs": [
      {
       "metadata": {},
       "output_type": "pyout",
       "prompt_number": 125,
       "text": [
        "166"
       ]
      }
     ],
     "prompt_number": 125
    },
    {
     "cell_type": "code",
     "collapsed": false,
     "input": [
      "n_all_doc = len(document_info_at_least_2_aspects_accepted)\n",
      "n_all_doc"
     ],
     "language": "python",
     "metadata": {},
     "outputs": [
      {
       "metadata": {},
       "output_type": "pyout",
       "prompt_number": 123,
       "text": [
        "319"
       ]
      }
     ],
     "prompt_number": 123
    },
    {
     "cell_type": "code",
     "collapsed": false,
     "input": [
      "print('{:.2f}% of documents got more aspects than EDUs'.format(float(n_more_aspects_than_edu)/n_all_doc*100))"
     ],
     "language": "python",
     "metadata": {},
     "outputs": [
      {
       "output_type": "stream",
       "stream": "stdout",
       "text": [
        "52.04% of documents got more aspects than EDUs\n"
       ]
      }
     ],
     "prompt_number": 127
    },
    {
     "cell_type": "heading",
     "level": 1,
     "metadata": {},
     "source": [
      "Get link tree"
     ]
    },
    {
     "cell_type": "code",
     "collapsed": false,
     "input": [
      "link_trees = [ basename(x) for x in glob(join(data_path_link_tree, '*'))]\n",
      "link_trees[:10]"
     ],
     "language": "python",
     "metadata": {},
     "outputs": [
      {
       "metadata": {},
       "output_type": "pyout",
       "prompt_number": 43,
       "text": [
        "['145', '320', '82', '144', '256', '177', '261', '171', '442', '126']"
       ]
      }
     ],
     "prompt_number": 43
    },
    {
     "cell_type": "code",
     "collapsed": false,
     "input": [
      "link_tree = load_serialized(join(data_path_link_tree, link_trees[5]))"
     ],
     "language": "python",
     "metadata": {},
     "outputs": [],
     "prompt_number": 77
    },
    {
     "cell_type": "code",
     "collapsed": false,
     "input": [
      "link_tree"
     ],
     "language": "python",
     "metadata": {},
     "outputs": [
      {
       "metadata": {},
       "output_type": "pyout",
       "prompt_number": 78,
       "text": [
        "ParseTree('same-unit[N][N]', [ParseTree('Elaboration[N][S]', [513, 514]), ParseTree('Elaboration[N][S]', [515, ParseTree('Joint[N][N]', [516, ParseTree('Elaboration[N][S]', [517, 518])])])])"
       ]
      }
     ],
     "prompt_number": 78
    },
    {
     "cell_type": "code",
     "collapsed": false,
     "input": [
      "link_tree.pos()"
     ],
     "language": "python",
     "metadata": {},
     "outputs": [
      {
       "metadata": {},
       "output_type": "pyout",
       "prompt_number": 79,
       "text": [
        "[(513, 'Elaboration[N][S]'),\n",
        " (514, 'Elaboration[N][S]'),\n",
        " (515, 'Elaboration[N][S]'),\n",
        " (516, 'Joint[N][N]'),\n",
        " (517, 'Elaboration[N][S]'),\n",
        " (518, 'Elaboration[N][S]')]"
       ]
      }
     ],
     "prompt_number": 79
    },
    {
     "cell_type": "code",
     "collapsed": false,
     "input": [
      "# link_tree[1][0] = 213"
     ],
     "language": "python",
     "metadata": {},
     "outputs": [],
     "prompt_number": 80
    },
    {
     "cell_type": "code",
     "collapsed": false,
     "input": [
      "link_tree"
     ],
     "language": "python",
     "metadata": {},
     "outputs": [
      {
       "metadata": {},
       "output_type": "pyout",
       "prompt_number": 81,
       "text": [
        "ParseTree('same-unit[N][N]', [ParseTree('Elaboration[N][S]', [513, 514]), ParseTree('Elaboration[N][S]', [515, ParseTree('Joint[N][N]', [516, ParseTree('Elaboration[N][S]', [517, 518])])])])"
       ]
      }
     ],
     "prompt_number": 81
    },
    {
     "cell_type": "code",
     "collapsed": false,
     "input": [
      "# for x in link_tree:\n",
      "#     x = 1111"
     ],
     "language": "python",
     "metadata": {},
     "outputs": [],
     "prompt_number": 82
    },
    {
     "cell_type": "code",
     "collapsed": false,
     "input": [
      "link_tree"
     ],
     "language": "python",
     "metadata": {},
     "outputs": [
      {
       "metadata": {},
       "output_type": "pyout",
       "prompt_number": 83,
       "text": [
        "ParseTree('same-unit[N][N]', [ParseTree('Elaboration[N][S]', [513, 514]), ParseTree('Elaboration[N][S]', [515, ParseTree('Joint[N][N]', [516, ParseTree('Elaboration[N][S]', [517, 518])])])])"
       ]
      }
     ],
     "prompt_number": 83
    },
    {
     "cell_type": "code",
     "collapsed": false,
     "input": [
      "# link_tree[0,0]"
     ],
     "language": "python",
     "metadata": {},
     "outputs": [],
     "prompt_number": 84
    },
    {
     "cell_type": "code",
     "collapsed": false,
     "input": [
      "class EDUTreeRulesExtractor(object):\n",
      "    def __init__(self):\n",
      "        self.rules = []\n",
      "        self.accepted_edus = None\n",
      "        self.left_child_parent = None\n",
      "        self.right_child_parent = None\n",
      "        self.visited = []\n",
      "\n",
      "    def _process_tree(self, tree):\n",
      "        for child_index, child in enumerate(tree):\n",
      "            # go to the subtree left child_index = 0, or right child_index = 1\n",
      "            if not child_index:\n",
      "                self.left_child_parent = tree\n",
      "            else:\n",
      "                self.right_child_parent = tree\n",
      "            # check if child is leaf or subtree\n",
      "            if isinstance(child, ParseTree):\n",
      "                # go into subtree\n",
      "                self._process_tree(child)\n",
      "            # recursively until leaf\n",
      "            else:\n",
      "                # relation = tree.node\n",
      "                # leaf, parent/current subtree, child_index of leaf in the tree, relation type of tree/parent\n",
      "                self._traverse_parent(child, tree, child_index)\n",
      "\n",
      "    def _traverse_parent(self, leaf, parent, child_index):\n",
      "        \"\"\" we reached leaf and want to parse sibling of leaf \"\"\"\n",
      "        # leaf = child\n",
      "        if parent is not None:\n",
      "            # get sibling of leaf or in false you got the same leaf\n",
      "            for index in range(child_index + 1, len(parent)):\n",
      "                # if parent[1] not in self.visited:\n",
      "                self.right_child_parent = parent\n",
      "                self.__make_rules(leaf, parent[index])\n",
      "                self.visited.append(parent[index])\n",
      "\n",
      "            # go up in the tree\n",
      "            if parent.parent is not None:\n",
      "                self.relation = parent.node\n",
      "                self._traverse_parent(leaf, parent.parent, parent.parent_index)\n",
      "\n",
      "    def __make_rules(self, leaf_left, tree):\n",
      "\n",
      "        # int oznacza, \u017ce rekursywnie doszli\u015bmy do li\u015bcia w drzewie pod aktualnym li\u015bcie analizowanym\n",
      "        if isinstance(tree, int):\n",
      "#             if tree in self.accepted_edus and leaf_left in self.accepted_edus:\n",
      "            # find common nearest parent\n",
      "            # take relation from biger parse tree\n",
      "            if self.left_child_parent.height() > self.right_child_parent.height():\n",
      "                relation = self.left_child_parent.node\n",
      "            else:\n",
      "                relation = self.right_child_parent.node\n",
      "            self.rules.append((leaf_left, tree, relation))\n",
      "        # do deeper into tree\n",
      "        else:\n",
      "            for index, child in enumerate(tree):\n",
      "                self.__make_rules(leaf_left, child)\n",
      "\n",
      "    def extract(self, tree, accepted_edus):\n",
      "        self.accepted_edus = accepted_edus\n",
      "        self._process_tree(tree)\n",
      "\n",
      "        return self.rules\n",
      "\n",
      "        # INFO: reguly s\u0105 determinowane przez kolejnosc odwiedzania w\u0119z\u0142\u00f3w przy preprocessingu\n",
      "        #   Je\u015bli olejemy warto\u015b\u0107 relacji, regu\u0142y mog\u0105 by\u0107 budowane od danego numeru do konca numerk\u00f3w:\n",
      "        #   k -> k+1, k -> k+2, ... k -> n"
     ],
     "language": "python",
     "metadata": {},
     "outputs": [],
     "prompt_number": 94
    },
    {
     "cell_type": "code",
     "collapsed": false,
     "input": [
      "# for doc_number in document_info_at_least_2_aspects_accepted.keys()[104:]:\n",
      "#     rules_extractor = EDUTreeRulesExtractor()\n",
      "#     document_info = load_serialized(join(data_path, 'documents_info'))[doc_number]\n",
      "# #     print(document_info)\n",
      "#     link_tree = load_serialized(join(data_path_link_tree, str(doc_number)))\n",
      "# #     print(link_tree)\n",
      "#     print('====='*20)\n",
      "#     extracted_rules = rules_extractor.extract(link_tree, document_info['accepted_edus'])\n",
      "#     break"
     ],
     "language": "python",
     "metadata": {},
     "outputs": [],
     "prompt_number": 95
    },
    {
     "cell_type": "code",
     "collapsed": false,
     "input": [
      "link_tree"
     ],
     "language": "python",
     "metadata": {},
     "outputs": [
      {
       "metadata": {},
       "output_type": "pyout",
       "prompt_number": 96,
       "text": [
        "ParseTree('same-unit[N][N]', [ParseTree('Elaboration[N][S]', [513, 514]), ParseTree('Elaboration[N][S]', [515, ParseTree('Joint[N][N]', [516, ParseTree('Elaboration[N][S]', [517, 518])])])])"
       ]
      }
     ],
     "prompt_number": 96
    },
    {
     "cell_type": "code",
     "collapsed": false,
     "input": [
      "rules_extractor = EDUTreeRulesExtractor()\n",
      "extracted_rules = rules_extractor.extract(link_tree, document_info['accepted_edus'])"
     ],
     "language": "python",
     "metadata": {},
     "outputs": [],
     "prompt_number": 99
    },
    {
     "cell_type": "code",
     "collapsed": false,
     "input": [
      "extracted_rules"
     ],
     "language": "python",
     "metadata": {},
     "outputs": [
      {
       "metadata": {},
       "output_type": "pyout",
       "prompt_number": 100,
       "text": [
        "[(513, 514, 'Elaboration[N][S]'),\n",
        " (513, 515, 'same-unit[N][N]'),\n",
        " (513, 516, 'same-unit[N][N]'),\n",
        " (513, 517, 'same-unit[N][N]'),\n",
        " (513, 518, 'same-unit[N][N]'),\n",
        " (514, 515, 'same-unit[N][N]'),\n",
        " (514, 516, 'same-unit[N][N]'),\n",
        " (514, 517, 'same-unit[N][N]'),\n",
        " (514, 518, 'same-unit[N][N]'),\n",
        " (515, 516, 'Elaboration[N][S]'),\n",
        " (515, 517, 'Elaboration[N][S]'),\n",
        " (515, 518, 'Elaboration[N][S]'),\n",
        " (516, 517, 'Joint[N][N]'),\n",
        " (516, 518, 'Joint[N][N]'),\n",
        " (517, 518, 'Elaboration[N][S]')]"
       ]
      }
     ],
     "prompt_number": 100
    },
    {
     "cell_type": "code",
     "collapsed": false,
     "input": [
      "jupyter_draw_nltk_tree(link_tree, show_tree=True)"
     ],
     "language": "python",
     "metadata": {},
     "outputs": [
      {
       "metadata": {},
       "output_type": "display_data",
       "png": "[encoded data removed]",
       "text": [
        "<IPython.core.display.Image at 0x7f1f1b588dd0>"
       ]
      }
     ],
     "prompt_number": 101
    },
    {
     "cell_type": "code",
     "collapsed": false,
     "input": [
      "print(parsed_tree[1][0].parent)"
     ],
     "language": "python",
     "metadata": {},
     "outputs": [
      {
       "output_type": "stream",
       "stream": "stdout",
       "text": [
        "(Joint[N][N]\n",
        "  (Elaboration[N][S]\n",
        "    _!broadcast it remotely through stereo speakers!_\n",
        "    _!using wireless technology ,!_)\n",
        "  (Elaboration[N][S]\n",
        "    _!and play it through your car speakers!_\n",
        "    _!using either a CD adaptor or FM stereo broadcaster.q . <P>!_))\n"
       ]
      }
     ],
     "prompt_number": 56
    },
    {
     "cell_type": "code",
     "collapsed": false,
     "input": [
      "parsed_tree.height()"
     ],
     "language": "python",
     "metadata": {},
     "outputs": [
      {
       "metadata": {},
       "output_type": "pyout",
       "prompt_number": 57,
       "text": [
        "4"
       ]
      }
     ],
     "prompt_number": 57
    },
    {
     "cell_type": "code",
     "collapsed": false,
     "input": [],
     "language": "python",
     "metadata": {},
     "outputs": []
    }
   ],
   "metadata": {}
  }
 ]
}