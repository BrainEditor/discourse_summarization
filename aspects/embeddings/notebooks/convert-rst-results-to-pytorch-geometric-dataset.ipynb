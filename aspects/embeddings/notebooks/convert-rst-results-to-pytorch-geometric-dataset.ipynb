{
 "cells": [
  {
   "cell_type": "code",
   "execution_count": 2,
   "metadata": {
    "ExecuteTime": {
     "end_time": "2020-03-21T12:09:23.868422Z",
     "start_time": "2020-03-21T12:09:21.689112Z"
    }
   },
   "outputs": [],
   "source": [
    "from aspects.utilities import settings\n",
    "from aspects.pipelines.aspect_analysis import AspectAnalysis\n",
    "from tqdm import tqdm  # for notebooks\n",
    "from pathlib import Path\n",
    "import pandas as pd\n",
    "\n",
    "%load_ext autoreload\n",
    "%autoreload 2\n",
    "\n",
    "tqdm.pandas()"
   ]
  },
  {
   "cell_type": "code",
   "execution_count": 9,
   "metadata": {
    "ExecuteTime": {
     "end_time": "2020-03-21T12:12:37.215313Z",
     "start_time": "2020-03-21T12:12:37.178468Z"
    }
   },
   "outputs": [],
   "source": [
    "from aspects.data_io.serializer import Serializer\n",
    "serializer = Serializer()"
   ]
  },
  {
   "cell_type": "code",
   "execution_count": 4,
   "metadata": {
    "ExecuteTime": {
     "end_time": "2020-03-21T12:09:38.770734Z",
     "start_time": "2020-03-21T12:09:38.727014Z"
    }
   },
   "outputs": [],
   "source": [
    "DATASET_PATH = settings.AMAZON_REVIEWS_CELL_PHONES_AND_ACCESSORIES_DATASET_JSON"
   ]
  },
  {
   "cell_type": "code",
   "execution_count": 5,
   "metadata": {
    "ExecuteTime": {
     "end_time": "2020-03-21T12:09:58.310523Z",
     "start_time": "2020-03-21T12:09:58.272944Z"
    }
   },
   "outputs": [],
   "source": [
    "aspect_analysis_gerani = AspectAnalysis(\n",
    "    input_path=DATASET_PATH.as_posix(),\n",
    "    output_path=settings.DEFAULT_OUTPUT_PATH / DATASET_PATH.stem,\n",
    "    experiment_name='gerani',\n",
    "    max_docs=50000\n",
    ")"
   ]
  },
  {
   "cell_type": "code",
   "execution_count": 6,
   "metadata": {
    "ExecuteTime": {
     "end_time": "2020-03-21T12:10:23.885677Z",
     "start_time": "2020-03-21T12:10:05.793548Z"
    }
   },
   "outputs": [],
   "source": [
    "discourse_tree_df = pd.read_pickle(aspect_analysis_gerani.paths.discourse_trees_df)"
   ]
  },
  {
   "cell_type": "code",
   "execution_count": 10,
   "metadata": {
    "ExecuteTime": {
     "end_time": "2020-03-21T12:13:15.385527Z",
     "start_time": "2020-03-21T12:13:15.270356Z"
    }
   },
   "outputs": [],
   "source": [
    "aspect_to_aspect_graph = serializer.load(aspect_analysis_gerani.paths.aspect_to_aspect_graph)"
   ]
  },
  {
   "cell_type": "code",
   "execution_count": 12,
   "metadata": {
    "ExecuteTime": {
     "end_time": "2020-03-21T12:13:32.535198Z",
     "start_time": "2020-03-21T12:13:32.489087Z"
    }
   },
   "outputs": [
    {
     "data": {
      "text/plain": [
       "7210"
      ]
     },
     "execution_count": 12,
     "metadata": {},
     "output_type": "execute_result"
    }
   ],
   "source": [
    "len(aspect_to_aspect_graph)"
   ]
  }
 ],
 "metadata": {
  "kernelspec": {
   "display_name": "Python 3",
   "language": "python",
   "name": "python3"
  },
  "toc": {
   "base_numbering": 1,
   "nav_menu": {},
   "number_sections": true,
   "sideBar": true,
   "skip_h1_title": false,
   "title_cell": "Table of Contents",
   "title_sidebar": "Contents",
   "toc_cell": false,
   "toc_position": {},
   "toc_section_display": true,
   "toc_window_display": false
  }
 },
 "nbformat": 4,
 "nbformat_minor": 2
}
