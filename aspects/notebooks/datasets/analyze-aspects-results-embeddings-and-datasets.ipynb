{
 "cells": [
  {
   "cell_type": "markdown",
   "metadata": {},
   "source": [
    "# Imports  "
   ]
  },
  {
   "cell_type": "code",
   "execution_count": 1,
   "metadata": {
    "ExecuteTime": {
     "end_time": "2019-02-24T23:01:44.606482Z",
     "start_time": "2019-02-24T23:01:44.592073Z"
    }
   },
   "outputs": [],
   "source": [
    "%load_ext autoreload\n",
    "%autoreload 2"
   ]
  },
  {
   "cell_type": "code",
   "execution_count": 2,
   "metadata": {
    "ExecuteTime": {
     "end_time": "2019-02-24T23:01:46.797935Z",
     "start_time": "2019-02-24T23:01:45.181523Z"
    }
   },
   "outputs": [
    {
     "data": {
      "text/html": [
       "<style>.container { width:100% !important; }</style>"
      ],
      "text/plain": [
       "<IPython.core.display.HTML object>"
      ]
     },
     "metadata": {},
     "output_type": "display_data"
    },
    {
     "data": {
      "text/html": [
       "<script type=\"text/javascript\">window.PlotlyConfig = {MathJaxConfig: 'local'};</script><script type=\"text/javascript\">if (window.MathJax) {MathJax.Hub.Config({SVG: {font: \"STIX-Web\"}});}</script><script>requirejs.config({paths: { 'plotly': ['https://cdn.plot.ly/plotly-latest.min']},});if(!window._Plotly) {require(['plotly'],function(plotly) {window._Plotly=plotly;});}</script>"
      ],
      "text/vnd.plotly.v1+html": [
       "<script type=\"text/javascript\">window.PlotlyConfig = {MathJaxConfig: 'local'};</script><script type=\"text/javascript\">if (window.MathJax) {MathJax.Hub.Config({SVG: {font: \"STIX-Web\"}});}</script><script>requirejs.config({paths: { 'plotly': ['https://cdn.plot.ly/plotly-latest.min']},});if(!window._Plotly) {require(['plotly'],function(plotly) {window._Plotly=plotly;});}</script>"
      ]
     },
     "metadata": {},
     "output_type": "display_data"
    }
   ],
   "source": [
    "from plotly.offline import download_plotlyjs, init_notebook_mode, plot, iplot\n",
    "from plotly.graph_objs import  Bar, Layout, Figure\n",
    "from plotly import __version__\n",
    "from tqdm import tqdm_notebook\n",
    "import numpy as np\n",
    "import pandas as pd\n",
    "from pathlib import Path\n",
    "from typing import Iterable, Set\n",
    "import sys\n",
    "from IPython.core.display import display, HTML\n",
    "\n",
    "import Orange\n",
    "import matplotlib.pyplot as plt\n",
    "\n",
    "display(HTML(\"<style>.container { width:100% !important; }</style>\"))\n",
    "\n",
    "\n",
    "%matplotlib inline\n",
    "\n",
    "sys.path.append('/home/laugustyniak/github/phd/sentiment-backend/')\n",
    "\n",
    "from aspects.analysis import statistics_dataset\n",
    "from aspects.analysis import nlp_architect\n",
    "\n",
    "init_notebook_mode(connected=True)"
   ]
  },
  {
   "cell_type": "code",
   "execution_count": 7,
   "metadata": {
    "ExecuteTime": {
     "end_time": "2019-02-14T01:19:37.718953Z",
     "start_time": "2019-02-14T01:19:37.657415Z"
    }
   },
   "outputs": [
    {
     "ename": "ModuleNotFoundError",
     "evalue": "No module named 'rpy2'",
     "output_type": "error",
     "traceback": [
      "\u001b[0;31m---------------------------------------------------------------------------\u001b[0m",
      "\u001b[0;31mModuleNotFoundError\u001b[0m                       Traceback (most recent call last)",
      "\u001b[0;32m<ipython-input-7-8b80275bc0e8>\u001b[0m in \u001b[0;36m<module>\u001b[0;34m\u001b[0m\n\u001b[0;32m----> 1\u001b[0;31m \u001b[0;32mfrom\u001b[0m \u001b[0mrpy2\u001b[0m\u001b[0;34m.\u001b[0m\u001b[0mrobjects\u001b[0m\u001b[0;34m.\u001b[0m\u001b[0mpackages\u001b[0m \u001b[0;32mimport\u001b[0m \u001b[0mimportr\u001b[0m\u001b[0;34m\u001b[0m\u001b[0;34m\u001b[0m\u001b[0m\n\u001b[0m\u001b[1;32m      2\u001b[0m \u001b[0;32mfrom\u001b[0m \u001b[0mrpy2\u001b[0m\u001b[0;34m.\u001b[0m\u001b[0mrobjects\u001b[0m \u001b[0;32mimport\u001b[0m \u001b[0mr\u001b[0m\u001b[0;34m,\u001b[0m \u001b[0mpandas2ri\u001b[0m\u001b[0;34m\u001b[0m\u001b[0;34m\u001b[0m\u001b[0m\n\u001b[1;32m      3\u001b[0m \u001b[0mpandas2ri\u001b[0m\u001b[0;34m.\u001b[0m\u001b[0mactivate\u001b[0m\u001b[0;34m(\u001b[0m\u001b[0;34m)\u001b[0m\u001b[0;34m\u001b[0m\u001b[0;34m\u001b[0m\u001b[0m\n\u001b[1;32m      4\u001b[0m \u001b[0mscmamp\u001b[0m \u001b[0;34m=\u001b[0m \u001b[0mimportr\u001b[0m\u001b[0;34m(\u001b[0m\u001b[0;34m'scmamp'\u001b[0m\u001b[0;34m)\u001b[0m\u001b[0;34m\u001b[0m\u001b[0;34m\u001b[0m\u001b[0m\n",
      "\u001b[0;31mModuleNotFoundError\u001b[0m: No module named 'rpy2'"
     ]
    }
   ],
   "source": [
    "from rpy2.robjects.packages import importr\n",
    "from rpy2.robjects import r, pandas2ri\n",
    "pandas2ri.activate()\n",
    "scmamp = importr('scmamp')"
   ]
  },
  {
   "cell_type": "code",
   "execution_count": 3,
   "metadata": {
    "ExecuteTime": {
     "end_time": "2019-02-24T23:01:48.190275Z",
     "start_time": "2019-02-24T23:01:48.167267Z"
    }
   },
   "outputs": [],
   "source": [
    "results_path = Path('/home/laugustyniak/luk.augustyniak@gmail.com/Projects/PRELUDIUM/Artykuły/aspect-based sentiment 2018/journal')"
   ]
  },
  {
   "cell_type": "code",
   "execution_count": 4,
   "metadata": {
    "ExecuteTime": {
     "end_time": "2019-02-24T23:01:50.376784Z",
     "start_time": "2019-02-24T23:01:50.355932Z"
    }
   },
   "outputs": [],
   "source": [
    "# dataset_sub_name = 'restaurants'\n",
    "dataset_sub_name = 'laptops'"
   ]
  },
  {
   "cell_type": "code",
   "execution_count": 5,
   "metadata": {
    "ExecuteTime": {
     "end_time": "2019-02-24T23:01:51.521055Z",
     "start_time": "2019-02-24T23:01:51.500153Z"
    }
   },
   "outputs": [],
   "source": [
    "# EMBEDDINGS_SUBSET = ['fastText-crawl', 'Amazon Reviews', 'numberbatch', 'Glove 840B', 'word2vec']"
   ]
  },
  {
   "cell_type": "code",
   "execution_count": 6,
   "metadata": {
    "ExecuteTime": {
     "end_time": "2019-02-24T23:01:51.830349Z",
     "start_time": "2019-02-24T23:01:51.806245Z"
    }
   },
   "outputs": [],
   "source": [
    "embedding_names = {\n",
    "    'wiki-news-300d-1M': 'fastText-wiki', \n",
    "    'glove.42B.300d': 'Glove 42B', \n",
    "    'crawl-300d-2M': 'fastText-crawl', \n",
    "    'sentic2vec': 'Amazon Reviews',\n",
    "    'glove.6B.100d': 'Glove.6B.100', \n",
    "    'numberbatch-en': 'numberbatch', \n",
    "    'glove.6B.50d': 'Glove.6B.50', \n",
    "    'glove.840B.300d': 'Glove.840B',\n",
    "    'glove.6B.200d': 'Glove.6B.200', \n",
    "    'glove.6B.300d': 'Glove.6B.300', \n",
    "    'GoogleNews-vectors-negative300': 'word2vec'\n",
    "}\n",
    "\n",
    "method_names = {\n",
    "    'word lstm': 'Wo-LSTM',\n",
    "    'word lstm crf': 'Wo-LSTM-CRF',\n",
    "    'char word lstm': 'WoCh-LSTM',\n",
    "    'char word lstm crf': 'WoCh-LSTM-CRF',\n",
    "    'word bilstm': 'Wo-BiLSTM',\n",
    "    'word bilstm crf': 'Wo-BiLSTM-CRF',\n",
    "    'char word bilstm': 'WoCh-BiLSTM',\n",
    "    'char word bilstm crf': 'WoCh-BiLSTM-CRF',\n",
    "}"
   ]
  },
  {
   "cell_type": "code",
   "execution_count": 7,
   "metadata": {
    "ExecuteTime": {
     "end_time": "2019-02-24T23:01:52.427799Z",
     "start_time": "2019-02-24T23:01:52.144678Z"
    }
   },
   "outputs": [
    {
     "data": {
      "text/html": [
       "<div>\n",
       "<style scoped>\n",
       "    .dataframe tbody tr th:only-of-type {\n",
       "        vertical-align: middle;\n",
       "    }\n",
       "\n",
       "    .dataframe tbody tr th {\n",
       "        vertical-align: top;\n",
       "    }\n",
       "\n",
       "    .dataframe thead th {\n",
       "        text-align: right;\n",
       "    }\n",
       "</style>\n",
       "<table border=\"1\" class=\"dataframe\">\n",
       "  <thead>\n",
       "    <tr style=\"text-align: right;\">\n",
       "      <th></th>\n",
       "      <th>Glove 42B</th>\n",
       "      <th>fastText-crawl</th>\n",
       "    </tr>\n",
       "  </thead>\n",
       "  <tbody>\n",
       "    <tr>\n",
       "      <th>Wo-LSTM</th>\n",
       "      <td>69.83</td>\n",
       "      <td>68.32</td>\n",
       "    </tr>\n",
       "    <tr>\n",
       "      <th>WoCh-LSTM</th>\n",
       "      <td>68.20</td>\n",
       "      <td>66.78</td>\n",
       "    </tr>\n",
       "    <tr>\n",
       "      <th>Wo-LSTM-CRF</th>\n",
       "      <td>NaN</td>\n",
       "      <td>NaN</td>\n",
       "    </tr>\n",
       "    <tr>\n",
       "      <th>WoCh-LSTM-CRF</th>\n",
       "      <td>NaN</td>\n",
       "      <td>76.35</td>\n",
       "    </tr>\n",
       "    <tr>\n",
       "      <th>Wo-BiLSTM</th>\n",
       "      <td>73.10</td>\n",
       "      <td>73.38</td>\n",
       "    </tr>\n",
       "    <tr>\n",
       "      <th>WoCh-BiLSTM</th>\n",
       "      <td>70.73</td>\n",
       "      <td>72.15</td>\n",
       "    </tr>\n",
       "    <tr>\n",
       "      <th>Wo-BiLSTM-CRF</th>\n",
       "      <td>79.47</td>\n",
       "      <td>77.62</td>\n",
       "    </tr>\n",
       "    <tr>\n",
       "      <th>WoCh-BiLSTM-CRF</th>\n",
       "      <td>80.16</td>\n",
       "      <td>77.63</td>\n",
       "    </tr>\n",
       "  </tbody>\n",
       "</table>\n",
       "</div>"
      ],
      "text/plain": [
       "                 Glove 42B  fastText-crawl\n",
       "Wo-LSTM              69.83           68.32\n",
       "WoCh-LSTM            68.20           66.78\n",
       "Wo-LSTM-CRF            NaN             NaN\n",
       "WoCh-LSTM-CRF          NaN           76.35\n",
       "Wo-BiLSTM            73.10           73.38\n",
       "WoCh-BiLSTM          70.73           72.15\n",
       "Wo-BiLSTM-CRF        79.47           77.62\n",
       "WoCh-BiLSTM-CRF      80.16           77.63"
      ]
     },
     "execution_count": 7,
     "metadata": {},
     "output_type": "execute_result"
    }
   ],
   "source": [
    "nlp_architect.get_models_metric(\n",
    "        Path(\n",
    "            f'../../../nlp-architect/examples/aspect_extraction/models-oxygen-14-all/models/'\n",
    "        ), dataset_sub_name, embedding_names, 'f1')"
   ]
  },
  {
   "cell_type": "markdown",
   "metadata": {},
   "source": [
    "# Get all results in one Data Frame"
   ]
  },
  {
   "cell_type": "code",
   "execution_count": 8,
   "metadata": {
    "ExecuteTime": {
     "end_time": "2019-02-24T23:02:04.615285Z",
     "start_time": "2019-02-24T23:02:04.531057Z"
    }
   },
   "outputs": [
    {
     "data": {
      "text/html": [
       "<div>\n",
       "<style scoped>\n",
       "    .dataframe tbody tr th:only-of-type {\n",
       "        vertical-align: middle;\n",
       "    }\n",
       "\n",
       "    .dataframe tbody tr th {\n",
       "        vertical-align: top;\n",
       "    }\n",
       "\n",
       "    .dataframe thead th {\n",
       "        text-align: right;\n",
       "    }\n",
       "</style>\n",
       "<table border=\"1\" class=\"dataframe\">\n",
       "  <thead>\n",
       "    <tr style=\"text-align: right;\">\n",
       "      <th></th>\n",
       "      <th>fastText-wiki</th>\n",
       "      <th>Glove 42B</th>\n",
       "      <th>fastText-crawl</th>\n",
       "      <th>Amazon Reviews</th>\n",
       "      <th>Glove.6B.100</th>\n",
       "      <th>numberbatch</th>\n",
       "      <th>Glove.6B.50</th>\n",
       "      <th>Glove.840B</th>\n",
       "      <th>Glove.6B.200</th>\n",
       "      <th>Glove.6B.300</th>\n",
       "      <th>word2vec</th>\n",
       "    </tr>\n",
       "  </thead>\n",
       "  <tbody>\n",
       "    <tr>\n",
       "      <th>Wo-LSTM</th>\n",
       "      <td>64.70</td>\n",
       "      <td>70.68</td>\n",
       "      <td>70.68</td>\n",
       "      <td>55.74</td>\n",
       "      <td>62.29</td>\n",
       "      <td>55.87</td>\n",
       "      <td>29.27</td>\n",
       "      <td>68.99</td>\n",
       "      <td>65.14</td>\n",
       "      <td>66.77</td>\n",
       "      <td>59.42</td>\n",
       "    </tr>\n",
       "    <tr>\n",
       "      <th>WoCh-LSTM</th>\n",
       "      <td>55.35</td>\n",
       "      <td>68.24</td>\n",
       "      <td>70.41</td>\n",
       "      <td>60.38</td>\n",
       "      <td>63.50</td>\n",
       "      <td>61.63</td>\n",
       "      <td>53.80</td>\n",
       "      <td>69.77</td>\n",
       "      <td>67.04</td>\n",
       "      <td>65.93</td>\n",
       "      <td>66.20</td>\n",
       "    </tr>\n",
       "    <tr>\n",
       "      <th>Wo-LSTM-CRF</th>\n",
       "      <td>75.72</td>\n",
       "      <td>75.67</td>\n",
       "      <td>79.54</td>\n",
       "      <td>64.16</td>\n",
       "      <td>74.98</td>\n",
       "      <td>68.44</td>\n",
       "      <td>59.23</td>\n",
       "      <td>75.33</td>\n",
       "      <td>75.69</td>\n",
       "      <td>70.46</td>\n",
       "      <td>73.21</td>\n",
       "    </tr>\n",
       "    <tr>\n",
       "      <th>WoCh-LSTM-CRF</th>\n",
       "      <td>74.05</td>\n",
       "      <td>78.61</td>\n",
       "      <td>77.85</td>\n",
       "      <td>68.22</td>\n",
       "      <td>70.26</td>\n",
       "      <td>73.40</td>\n",
       "      <td>65.34</td>\n",
       "      <td>76.41</td>\n",
       "      <td>72.51</td>\n",
       "      <td>74.75</td>\n",
       "      <td>73.08</td>\n",
       "    </tr>\n",
       "    <tr>\n",
       "      <th>Wo-BiLSTM</th>\n",
       "      <td>69.21</td>\n",
       "      <td>74.63</td>\n",
       "      <td>73.27</td>\n",
       "      <td>61.05</td>\n",
       "      <td>67.42</td>\n",
       "      <td>62.55</td>\n",
       "      <td>53.41</td>\n",
       "      <td>74.43</td>\n",
       "      <td>72.70</td>\n",
       "      <td>72.97</td>\n",
       "      <td>68.38</td>\n",
       "    </tr>\n",
       "    <tr>\n",
       "      <th>WoCh-BiLSTM</th>\n",
       "      <td>65.58</td>\n",
       "      <td>74.22</td>\n",
       "      <td>75.50</td>\n",
       "      <td>65.59</td>\n",
       "      <td>67.24</td>\n",
       "      <td>64.54</td>\n",
       "      <td>62.06</td>\n",
       "      <td>75.23</td>\n",
       "      <td>71.14</td>\n",
       "      <td>69.12</td>\n",
       "      <td>71.19</td>\n",
       "    </tr>\n",
       "    <tr>\n",
       "      <th>Wo-BiLSTM-CRF</th>\n",
       "      <td>71.88</td>\n",
       "      <td>80.63</td>\n",
       "      <td>77.54</td>\n",
       "      <td>63.08</td>\n",
       "      <td>77.30</td>\n",
       "      <td>72.57</td>\n",
       "      <td>65.44</td>\n",
       "      <td>77.82</td>\n",
       "      <td>74.79</td>\n",
       "      <td>75.16</td>\n",
       "      <td>74.09</td>\n",
       "    </tr>\n",
       "    <tr>\n",
       "      <th>WoCh-BiLSTM-CRF</th>\n",
       "      <td>77.26</td>\n",
       "      <td>77.70</td>\n",
       "      <td>77.46</td>\n",
       "      <td>66.95</td>\n",
       "      <td>75.92</td>\n",
       "      <td>73.12</td>\n",
       "      <td>70.13</td>\n",
       "      <td>79.38</td>\n",
       "      <td>79.05</td>\n",
       "      <td>76.17</td>\n",
       "      <td>75.93</td>\n",
       "    </tr>\n",
       "  </tbody>\n",
       "</table>\n",
       "</div>"
      ],
      "text/plain": [
       "                 fastText-wiki  Glove 42B  fastText-crawl  Amazon Reviews  \\\n",
       "Wo-LSTM                  64.70      70.68           70.68           55.74   \n",
       "WoCh-LSTM                55.35      68.24           70.41           60.38   \n",
       "Wo-LSTM-CRF              75.72      75.67           79.54           64.16   \n",
       "WoCh-LSTM-CRF            74.05      78.61           77.85           68.22   \n",
       "Wo-BiLSTM                69.21      74.63           73.27           61.05   \n",
       "WoCh-BiLSTM              65.58      74.22           75.50           65.59   \n",
       "Wo-BiLSTM-CRF            71.88      80.63           77.54           63.08   \n",
       "WoCh-BiLSTM-CRF          77.26      77.70           77.46           66.95   \n",
       "\n",
       "                 Glove 6B 100  numberbatch  Glove 6B 50  Glove 840B  \\\n",
       "Wo-LSTM                 62.29        55.87        29.27       68.99   \n",
       "WoCh-LSTM               63.50        61.63        53.80       69.77   \n",
       "Wo-LSTM-CRF             74.98        68.44        59.23       75.33   \n",
       "WoCh-LSTM-CRF           70.26        73.40        65.34       76.41   \n",
       "Wo-BiLSTM               67.42        62.55        53.41       74.43   \n",
       "WoCh-BiLSTM             67.24        64.54        62.06       75.23   \n",
       "Wo-BiLSTM-CRF           77.30        72.57        65.44       77.82   \n",
       "WoCh-BiLSTM-CRF         75.92        73.12        70.13       79.38   \n",
       "\n",
       "                 Glove 6B 200  Glove 6B 300  word2vec  \n",
       "Wo-LSTM                 65.14         66.77     59.42  \n",
       "WoCh-LSTM               67.04         65.93     66.20  \n",
       "Wo-LSTM-CRF             75.69         70.46     73.21  \n",
       "WoCh-LSTM-CRF           72.51         74.75     73.08  \n",
       "Wo-BiLSTM               72.70         72.97     68.38  \n",
       "WoCh-BiLSTM             71.14         69.12     71.19  \n",
       "Wo-BiLSTM-CRF           74.79         75.16     74.09  \n",
       "WoCh-BiLSTM-CRF         79.05         76.17     75.93  "
      ]
     },
     "execution_count": 8,
     "metadata": {},
     "output_type": "execute_result"
    }
   ],
   "source": [
    "nlp_architect.get_models_metric(\n",
    "        Path(\n",
    "            f'../../../nlp-architect/examples/aspect_extraction/models-oxygen-1/models'\n",
    "        ), dataset_sub_name, embedding_names)"
   ]
  },
  {
   "cell_type": "code",
   "execution_count": 9,
   "metadata": {
    "ExecuteTime": {
     "end_time": "2019-02-24T23:02:06.594533Z",
     "start_time": "2019-02-24T23:02:06.430095Z"
    }
   },
   "outputs": [],
   "source": [
    "results_df = nlp_architect.merge_embeddings_and_architectures_results([\n",
    "    nlp_architect.get_models_metric(\n",
    "        Path(\n",
    "            f'../../../nlp-architect/examples/aspect_extraction/models-oxygen-{str(i)}/models'\n",
    "        ), dataset_sub_name, embedding_names) for i in range(1, 6)\n",
    "])"
   ]
  },
  {
   "cell_type": "code",
   "execution_count": 10,
   "metadata": {
    "ExecuteTime": {
     "end_time": "2019-02-24T23:02:07.217608Z",
     "start_time": "2019-02-24T23:02:07.168376Z"
    }
   },
   "outputs": [
    {
     "data": {
      "text/html": [
       "<div>\n",
       "<style scoped>\n",
       "    .dataframe tbody tr th:only-of-type {\n",
       "        vertical-align: middle;\n",
       "    }\n",
       "\n",
       "    .dataframe tbody tr th {\n",
       "        vertical-align: top;\n",
       "    }\n",
       "\n",
       "    .dataframe thead th {\n",
       "        text-align: right;\n",
       "    }\n",
       "</style>\n",
       "<table border=\"1\" class=\"dataframe\">\n",
       "  <thead>\n",
       "    <tr style=\"text-align: right;\">\n",
       "      <th></th>\n",
       "      <th>fastText-wiki</th>\n",
       "      <th>Glove 42B</th>\n",
       "      <th>fastText-crawl</th>\n",
       "      <th>Amazon Reviews</th>\n",
       "      <th>Glove.6B.100</th>\n",
       "      <th>numberbatch</th>\n",
       "      <th>Glove.6B.50</th>\n",
       "      <th>Glove.840B</th>\n",
       "      <th>Glove.6B.200</th>\n",
       "      <th>Glove.6B.300</th>\n",
       "      <th>word2vec</th>\n",
       "    </tr>\n",
       "  </thead>\n",
       "  <tbody>\n",
       "    <tr>\n",
       "      <th>Wo-BiLSTM</th>\n",
       "      <td>[69.21, 59.0, 61.47, 65.1, 57.9]</td>\n",
       "      <td>[74.63, 74.92, 75.3, 72.3, 71.76]</td>\n",
       "      <td>[73.27, 73.68, 71.49, 73.03, 70.13]</td>\n",
       "      <td>[61.05, 61.33, 59.88, 60.67, 58.17]</td>\n",
       "      <td>[67.42, 68.03, 61.21, 67.2, 60.86]</td>\n",
       "      <td>[62.55, 66.44, 59.8, 55.89, 45.41]</td>\n",
       "      <td>[53.41, 51.5, 53.28, 54.2, 51.15]</td>\n",
       "      <td>[74.43, 73.59, 73.72, 72.19, 72.3]</td>\n",
       "      <td>[72.7, 71.19, 65.26, 66.32, 68.08]</td>\n",
       "      <td>[72.97, 71.8, 72.05, 69.2, 69.99]</td>\n",
       "      <td>[68.38, 69.21, 68.18, 63.39, 65.64]</td>\n",
       "    </tr>\n",
       "    <tr>\n",
       "      <th>Wo-BiLSTM-CRF</th>\n",
       "      <td>[71.88, 76.65, 77.86, 76.17, 77.69]</td>\n",
       "      <td>[80.63, 79.87, 81.1, 79.64, 79.18]</td>\n",
       "      <td>[77.54, 76.71, 79.26, 80.16, 78.02]</td>\n",
       "      <td>[63.08, 65.13, 63.95, 64.16, 63.15]</td>\n",
       "      <td>[77.3, 77.83, 77.48, 69.06, 75.55]</td>\n",
       "      <td>[72.57, 71.04, 72.22, 73.55, 70.79]</td>\n",
       "      <td>[65.44, 56.43, 65.44, 65.36, 64.27]</td>\n",
       "      <td>[77.82, 78.77, 78.91, 79.97, 79.48]</td>\n",
       "      <td>[74.79, 79.54, 76.0, 77.49, 78.3]</td>\n",
       "      <td>[75.16, 77.67, 76.68, 76.29, 75.59]</td>\n",
       "      <td>[74.09, 74.94, 73.41, 74.94, 72.29]</td>\n",
       "    </tr>\n",
       "    <tr>\n",
       "      <th>Wo-LSTM</th>\n",
       "      <td>[64.7, 63.22, 51.99, 59.69, 57.01]</td>\n",
       "      <td>[70.68, 66.94, 70.94, 68.23, 65.43]</td>\n",
       "      <td>[70.68, 70.09, 67.0, 59.3, 66.67]</td>\n",
       "      <td>[55.74, 51.79, 55.75, 52.27, 55.35]</td>\n",
       "      <td>[62.29, 56.48, 60.75, 53.38, 52.12]</td>\n",
       "      <td>[55.87, 60.52, 52.95, 57.87, 57.17]</td>\n",
       "      <td>[29.27, 47.12, 43.18, 42.54, 41.73]</td>\n",
       "      <td>[68.99, 70.91, 70.81, 64.0, 62.19]</td>\n",
       "      <td>[65.14, 59.82, 60.63, 64.79, 63.07]</td>\n",
       "      <td>[66.77, 66.89, 66.5, 61.69, 62.26]</td>\n",
       "      <td>[59.42, 61.98, 64.03, 56.79, 60.71]</td>\n",
       "    </tr>\n",
       "    <tr>\n",
       "      <th>Wo-LSTM-CRF</th>\n",
       "      <td>[75.72, 74.15, 71.62, 74.5, 72.33]</td>\n",
       "      <td>[75.67, 76.01, 76.02, 76.91, 77.34]</td>\n",
       "      <td>[79.54, 76.32, 75.95, 78.42, 74.54]</td>\n",
       "      <td>[64.16, 65.3, 64.55, 63.35, 63.4]</td>\n",
       "      <td>[74.98, 70.05, 74.49, 70.45, 71.33]</td>\n",
       "      <td>[68.44, 63.4, 68.86, 70.46, 69.78]</td>\n",
       "      <td>[59.23, 58.11, 56.57, 55.86, 57.62]</td>\n",
       "      <td>[75.33, 74.74, 77.33, 78.25, 77.96]</td>\n",
       "      <td>[75.69, 76.66, 76.68, 76.52, 74.17]</td>\n",
       "      <td>[70.46, 76.25, 73.54, 74.82, 72.48]</td>\n",
       "      <td>[73.21, 71.82, 70.23, 71.15, 72.98]</td>\n",
       "    </tr>\n",
       "    <tr>\n",
       "      <th>WoCh-BiLSTM</th>\n",
       "      <td>[65.58, 59.82, 67.06, 65.67, 55.19]</td>\n",
       "      <td>[74.22, 71.78, 74.45, 71.63, 73.48]</td>\n",
       "      <td>[75.5, 73.7, 72.52, 67.26, 73.21]</td>\n",
       "      <td>[65.59, 66.28, 64.99, 62.99, 65.45]</td>\n",
       "      <td>[67.24, 68.86, 67.07, 66.11, 67.01]</td>\n",
       "      <td>[64.54, 68.63, 62.47, 66.12, 66.67]</td>\n",
       "      <td>[62.06, 59.05, 59.2, 51.53, 64.1]</td>\n",
       "      <td>[75.23, 73.72, 73.98, 68.82, 70.14]</td>\n",
       "      <td>[71.14, 64.34, 69.78, 67.33, 67.3]</td>\n",
       "      <td>[69.12, 71.19, 71.29, 69.86, 70.15]</td>\n",
       "      <td>[71.19, 71.54, 69.04, 68.47, 63.6]</td>\n",
       "    </tr>\n",
       "    <tr>\n",
       "      <th>WoCh-BiLSTM-CRF</th>\n",
       "      <td>[77.26, 71.24, 77.71, 76.32, 77.67]</td>\n",
       "      <td>[77.7, 78.92, 77.81, 78.52, 78.08]</td>\n",
       "      <td>[77.46, 78.47, 78.19, 78.17, 81.36]</td>\n",
       "      <td>[66.95, 69.2, 69.52, 69.37, 68.21]</td>\n",
       "      <td>[75.92, 75.38, 76.95, 70.58, 75.57]</td>\n",
       "      <td>[73.12, 76.17, 76.25, 72.57, 72.33]</td>\n",
       "      <td>[70.13, 68.83, 72.44, 71.45, 72.38]</td>\n",
       "      <td>[79.38, 78.85, 79.45, 79.38, 78.6]</td>\n",
       "      <td>[79.05, 75.39, 75.55, 75.89, 77.96]</td>\n",
       "      <td>[76.17, 76.32, 76.19, 76.82, 76.52]</td>\n",
       "      <td>[75.93, 74.44, 76.3, 77.02, 73.21]</td>\n",
       "    </tr>\n",
       "    <tr>\n",
       "      <th>WoCh-LSTM</th>\n",
       "      <td>[55.35, 62.18, 56.48, 56.79, 59.02]</td>\n",
       "      <td>[68.24, 65.05, 68.97, 65.79, 69.31]</td>\n",
       "      <td>[70.41, 69.85, 68.15, 62.34, 57.8]</td>\n",
       "      <td>[60.38, 58.9, 57.41, 58.06, 60.28]</td>\n",
       "      <td>[63.5, 57.61, 61.26, 59.86, 60.95]</td>\n",
       "      <td>[61.63, 61.83, 58.41, 55.18, 51.78]</td>\n",
       "      <td>[53.8, 31.91, 54.97, 45.53, 51.3]</td>\n",
       "      <td>[69.77, 68.46, 69.29, 68.28, 69.66]</td>\n",
       "      <td>[67.04, 63.22, 61.93, 61.0, 63.75]</td>\n",
       "      <td>[65.93, 65.67, 65.5, 61.32, 64.52]</td>\n",
       "      <td>[66.2, 64.59, 63.45, 58.22, 63.03]</td>\n",
       "    </tr>\n",
       "    <tr>\n",
       "      <th>WoCh-LSTM-CRF</th>\n",
       "      <td>[74.05, 75.95, 73.9, 75.51, 75.23]</td>\n",
       "      <td>[78.61, 76.02, 77.54, 75.99, 78.63]</td>\n",
       "      <td>[77.85, 75.87, 75.86, 77.45, 75.63]</td>\n",
       "      <td>[68.22, 70.52, 66.95, 69.46, 70.04]</td>\n",
       "      <td>[70.26, 70.36, 74.41, 72.09, 72.74]</td>\n",
       "      <td>[73.4, 72.48, 73.66, 73.1, 73.09]</td>\n",
       "      <td>[65.34, 60.47, 61.89, 66.55, 66.37]</td>\n",
       "      <td>[76.41, 76.21, 77.12, 77.3, 76.24]</td>\n",
       "      <td>[72.51, 75.06, 73.98, 73.37, 75.06]</td>\n",
       "      <td>[74.75, 73.22, 74.5, 74.39, 73.9]</td>\n",
       "      <td>[73.08, 74.23, 75.55, 76.81, 72.55]</td>\n",
       "    </tr>\n",
       "  </tbody>\n",
       "</table>\n",
       "</div>"
      ],
      "text/plain": [
       "                                       fastText-wiki  \\\n",
       "Wo-BiLSTM           [69.21, 59.0, 61.47, 65.1, 57.9]   \n",
       "Wo-BiLSTM-CRF    [71.88, 76.65, 77.86, 76.17, 77.69]   \n",
       "Wo-LSTM           [64.7, 63.22, 51.99, 59.69, 57.01]   \n",
       "Wo-LSTM-CRF       [75.72, 74.15, 71.62, 74.5, 72.33]   \n",
       "WoCh-BiLSTM      [65.58, 59.82, 67.06, 65.67, 55.19]   \n",
       "WoCh-BiLSTM-CRF  [77.26, 71.24, 77.71, 76.32, 77.67]   \n",
       "WoCh-LSTM        [55.35, 62.18, 56.48, 56.79, 59.02]   \n",
       "WoCh-LSTM-CRF     [74.05, 75.95, 73.9, 75.51, 75.23]   \n",
       "\n",
       "                                           Glove 42B  \\\n",
       "Wo-BiLSTM          [74.63, 74.92, 75.3, 72.3, 71.76]   \n",
       "Wo-BiLSTM-CRF     [80.63, 79.87, 81.1, 79.64, 79.18]   \n",
       "Wo-LSTM          [70.68, 66.94, 70.94, 68.23, 65.43]   \n",
       "Wo-LSTM-CRF      [75.67, 76.01, 76.02, 76.91, 77.34]   \n",
       "WoCh-BiLSTM      [74.22, 71.78, 74.45, 71.63, 73.48]   \n",
       "WoCh-BiLSTM-CRF   [77.7, 78.92, 77.81, 78.52, 78.08]   \n",
       "WoCh-LSTM        [68.24, 65.05, 68.97, 65.79, 69.31]   \n",
       "WoCh-LSTM-CRF    [78.61, 76.02, 77.54, 75.99, 78.63]   \n",
       "\n",
       "                                      fastText-crawl  \\\n",
       "Wo-BiLSTM        [73.27, 73.68, 71.49, 73.03, 70.13]   \n",
       "Wo-BiLSTM-CRF    [77.54, 76.71, 79.26, 80.16, 78.02]   \n",
       "Wo-LSTM            [70.68, 70.09, 67.0, 59.3, 66.67]   \n",
       "Wo-LSTM-CRF      [79.54, 76.32, 75.95, 78.42, 74.54]   \n",
       "WoCh-BiLSTM        [75.5, 73.7, 72.52, 67.26, 73.21]   \n",
       "WoCh-BiLSTM-CRF  [77.46, 78.47, 78.19, 78.17, 81.36]   \n",
       "WoCh-LSTM         [70.41, 69.85, 68.15, 62.34, 57.8]   \n",
       "WoCh-LSTM-CRF    [77.85, 75.87, 75.86, 77.45, 75.63]   \n",
       "\n",
       "                                      Amazon Reviews  \\\n",
       "Wo-BiLSTM        [61.05, 61.33, 59.88, 60.67, 58.17]   \n",
       "Wo-BiLSTM-CRF    [63.08, 65.13, 63.95, 64.16, 63.15]   \n",
       "Wo-LSTM          [55.74, 51.79, 55.75, 52.27, 55.35]   \n",
       "Wo-LSTM-CRF        [64.16, 65.3, 64.55, 63.35, 63.4]   \n",
       "WoCh-BiLSTM      [65.59, 66.28, 64.99, 62.99, 65.45]   \n",
       "WoCh-BiLSTM-CRF   [66.95, 69.2, 69.52, 69.37, 68.21]   \n",
       "WoCh-LSTM         [60.38, 58.9, 57.41, 58.06, 60.28]   \n",
       "WoCh-LSTM-CRF    [68.22, 70.52, 66.95, 69.46, 70.04]   \n",
       "\n",
       "                                        Glove 6B 100  \\\n",
       "Wo-BiLSTM         [67.42, 68.03, 61.21, 67.2, 60.86]   \n",
       "Wo-BiLSTM-CRF     [77.3, 77.83, 77.48, 69.06, 75.55]   \n",
       "Wo-LSTM          [62.29, 56.48, 60.75, 53.38, 52.12]   \n",
       "Wo-LSTM-CRF      [74.98, 70.05, 74.49, 70.45, 71.33]   \n",
       "WoCh-BiLSTM      [67.24, 68.86, 67.07, 66.11, 67.01]   \n",
       "WoCh-BiLSTM-CRF  [75.92, 75.38, 76.95, 70.58, 75.57]   \n",
       "WoCh-LSTM         [63.5, 57.61, 61.26, 59.86, 60.95]   \n",
       "WoCh-LSTM-CRF    [70.26, 70.36, 74.41, 72.09, 72.74]   \n",
       "\n",
       "                                         numberbatch  \\\n",
       "Wo-BiLSTM         [62.55, 66.44, 59.8, 55.89, 45.41]   \n",
       "Wo-BiLSTM-CRF    [72.57, 71.04, 72.22, 73.55, 70.79]   \n",
       "Wo-LSTM          [55.87, 60.52, 52.95, 57.87, 57.17]   \n",
       "Wo-LSTM-CRF       [68.44, 63.4, 68.86, 70.46, 69.78]   \n",
       "WoCh-BiLSTM      [64.54, 68.63, 62.47, 66.12, 66.67]   \n",
       "WoCh-BiLSTM-CRF  [73.12, 76.17, 76.25, 72.57, 72.33]   \n",
       "WoCh-LSTM        [61.63, 61.83, 58.41, 55.18, 51.78]   \n",
       "WoCh-LSTM-CRF      [73.4, 72.48, 73.66, 73.1, 73.09]   \n",
       "\n",
       "                                         Glove 6B 50  \\\n",
       "Wo-BiLSTM          [53.41, 51.5, 53.28, 54.2, 51.15]   \n",
       "Wo-BiLSTM-CRF    [65.44, 56.43, 65.44, 65.36, 64.27]   \n",
       "Wo-LSTM          [29.27, 47.12, 43.18, 42.54, 41.73]   \n",
       "Wo-LSTM-CRF      [59.23, 58.11, 56.57, 55.86, 57.62]   \n",
       "WoCh-BiLSTM        [62.06, 59.05, 59.2, 51.53, 64.1]   \n",
       "WoCh-BiLSTM-CRF  [70.13, 68.83, 72.44, 71.45, 72.38]   \n",
       "WoCh-LSTM          [53.8, 31.91, 54.97, 45.53, 51.3]   \n",
       "WoCh-LSTM-CRF    [65.34, 60.47, 61.89, 66.55, 66.37]   \n",
       "\n",
       "                                          Glove 840B  \\\n",
       "Wo-BiLSTM         [74.43, 73.59, 73.72, 72.19, 72.3]   \n",
       "Wo-BiLSTM-CRF    [77.82, 78.77, 78.91, 79.97, 79.48]   \n",
       "Wo-LSTM           [68.99, 70.91, 70.81, 64.0, 62.19]   \n",
       "Wo-LSTM-CRF      [75.33, 74.74, 77.33, 78.25, 77.96]   \n",
       "WoCh-BiLSTM      [75.23, 73.72, 73.98, 68.82, 70.14]   \n",
       "WoCh-BiLSTM-CRF   [79.38, 78.85, 79.45, 79.38, 78.6]   \n",
       "WoCh-LSTM        [69.77, 68.46, 69.29, 68.28, 69.66]   \n",
       "WoCh-LSTM-CRF     [76.41, 76.21, 77.12, 77.3, 76.24]   \n",
       "\n",
       "                                        Glove 6B 200  \\\n",
       "Wo-BiLSTM         [72.7, 71.19, 65.26, 66.32, 68.08]   \n",
       "Wo-BiLSTM-CRF      [74.79, 79.54, 76.0, 77.49, 78.3]   \n",
       "Wo-LSTM          [65.14, 59.82, 60.63, 64.79, 63.07]   \n",
       "Wo-LSTM-CRF      [75.69, 76.66, 76.68, 76.52, 74.17]   \n",
       "WoCh-BiLSTM       [71.14, 64.34, 69.78, 67.33, 67.3]   \n",
       "WoCh-BiLSTM-CRF  [79.05, 75.39, 75.55, 75.89, 77.96]   \n",
       "WoCh-LSTM         [67.04, 63.22, 61.93, 61.0, 63.75]   \n",
       "WoCh-LSTM-CRF    [72.51, 75.06, 73.98, 73.37, 75.06]   \n",
       "\n",
       "                                        Glove 6B 300  \\\n",
       "Wo-BiLSTM          [72.97, 71.8, 72.05, 69.2, 69.99]   \n",
       "Wo-BiLSTM-CRF    [75.16, 77.67, 76.68, 76.29, 75.59]   \n",
       "Wo-LSTM           [66.77, 66.89, 66.5, 61.69, 62.26]   \n",
       "Wo-LSTM-CRF      [70.46, 76.25, 73.54, 74.82, 72.48]   \n",
       "WoCh-BiLSTM      [69.12, 71.19, 71.29, 69.86, 70.15]   \n",
       "WoCh-BiLSTM-CRF  [76.17, 76.32, 76.19, 76.82, 76.52]   \n",
       "WoCh-LSTM         [65.93, 65.67, 65.5, 61.32, 64.52]   \n",
       "WoCh-LSTM-CRF      [74.75, 73.22, 74.5, 74.39, 73.9]   \n",
       "\n",
       "                                            word2vec  \n",
       "Wo-BiLSTM        [68.38, 69.21, 68.18, 63.39, 65.64]  \n",
       "Wo-BiLSTM-CRF    [74.09, 74.94, 73.41, 74.94, 72.29]  \n",
       "Wo-LSTM          [59.42, 61.98, 64.03, 56.79, 60.71]  \n",
       "Wo-LSTM-CRF      [73.21, 71.82, 70.23, 71.15, 72.98]  \n",
       "WoCh-BiLSTM       [71.19, 71.54, 69.04, 68.47, 63.6]  \n",
       "WoCh-BiLSTM-CRF   [75.93, 74.44, 76.3, 77.02, 73.21]  \n",
       "WoCh-LSTM         [66.2, 64.59, 63.45, 58.22, 63.03]  \n",
       "WoCh-LSTM-CRF    [73.08, 74.23, 75.55, 76.81, 72.55]  "
      ]
     },
     "execution_count": 10,
     "metadata": {},
     "output_type": "execute_result"
    }
   ],
   "source": [
    "results_df"
   ]
  },
  {
   "cell_type": "code",
   "execution_count": 11,
   "metadata": {
    "ExecuteTime": {
     "end_time": "2019-02-24T23:02:40.539920Z",
     "start_time": "2019-02-24T23:02:40.374426Z"
    }
   },
   "outputs": [],
   "source": [
    "results_df_precision = nlp_architect.merge_embeddings_and_architectures_results([\n",
    "    nlp_architect.get_models_metric(\n",
    "        Path(\n",
    "            f'../../../nlp-architect/examples/aspect_extraction/models-oxygen-{str(i)}/models'\n",
    "        ), dataset_sub_name, embedding_names, 'precision') for i in range(1, 6)\n",
    "])\n",
    "\n",
    "results_df_recall = nlp_architect.merge_embeddings_and_architectures_results([\n",
    "    nlp_architect.get_models_metric(\n",
    "        Path(\n",
    "            f'../../../nlp-architect/examples/aspect_extraction/models-oxygen-{str(i)}/models'\n",
    "        ), dataset_sub_name, embedding_names, 'recall') for i in range(1, 6)\n",
    "])"
   ]
  },
  {
   "cell_type": "code",
   "execution_count": 12,
   "metadata": {
    "ExecuteTime": {
     "end_time": "2019-02-24T23:02:43.894359Z",
     "start_time": "2019-02-24T23:02:43.872075Z"
    }
   },
   "outputs": [],
   "source": [
    "def count_mean_and_std_dev_for_each_cell(results_df: pd.DataFrame):\n",
    "    return pd.DataFrame({\n",
    "        embedding: {\n",
    "            architecture: round(np.mean(metrics), 2) + 1\n",
    "            for architecture, metrics in architecture_metric.items()\n",
    "        }\n",
    "        for embedding, architecture_metric in results_df.to_dict().items()\n",
    "    })"
   ]
  },
  {
   "cell_type": "code",
   "execution_count": 13,
   "metadata": {
    "ExecuteTime": {
     "end_time": "2019-02-24T23:02:44.680337Z",
     "start_time": "2019-02-24T23:02:44.641077Z"
    }
   },
   "outputs": [
    {
     "data": {
      "text/html": [
       "<div>\n",
       "<style scoped>\n",
       "    .dataframe tbody tr th:only-of-type {\n",
       "        vertical-align: middle;\n",
       "    }\n",
       "\n",
       "    .dataframe tbody tr th {\n",
       "        vertical-align: top;\n",
       "    }\n",
       "\n",
       "    .dataframe thead th {\n",
       "        text-align: right;\n",
       "    }\n",
       "</style>\n",
       "<table border=\"1\" class=\"dataframe\">\n",
       "  <thead>\n",
       "    <tr style=\"text-align: right;\">\n",
       "      <th></th>\n",
       "      <th>fastText-wiki</th>\n",
       "      <th>Glove 42B</th>\n",
       "      <th>fastText-crawl</th>\n",
       "      <th>Amazon Reviews</th>\n",
       "      <th>Glove.6B.100</th>\n",
       "      <th>numberbatch</th>\n",
       "      <th>Glove.6B.50</th>\n",
       "      <th>Glove.840B</th>\n",
       "      <th>Glove.6B.200</th>\n",
       "      <th>Glove.6B.300</th>\n",
       "      <th>word2vec</th>\n",
       "    </tr>\n",
       "  </thead>\n",
       "  <tbody>\n",
       "    <tr>\n",
       "      <th>Wo-LSTM</th>\n",
       "      <td>69.43</td>\n",
       "      <td>72.44</td>\n",
       "      <td>73.57</td>\n",
       "      <td>60.61</td>\n",
       "      <td>67.75</td>\n",
       "      <td>65.81</td>\n",
       "      <td>60.71</td>\n",
       "      <td>72.40</td>\n",
       "      <td>70.45</td>\n",
       "      <td>70.37</td>\n",
       "      <td>68.35</td>\n",
       "    </tr>\n",
       "    <tr>\n",
       "      <th>WoCh-LSTM</th>\n",
       "      <td>67.60</td>\n",
       "      <td>72.29</td>\n",
       "      <td>72.59</td>\n",
       "      <td>65.10</td>\n",
       "      <td>68.13</td>\n",
       "      <td>67.25</td>\n",
       "      <td>63.37</td>\n",
       "      <td>72.34</td>\n",
       "      <td>69.24</td>\n",
       "      <td>71.26</td>\n",
       "      <td>68.80</td>\n",
       "    </tr>\n",
       "    <tr>\n",
       "      <th>Wo-LSTM-CRF</th>\n",
       "      <td>83.93</td>\n",
       "      <td>83.45</td>\n",
       "      <td>84.54</td>\n",
       "      <td>72.56</td>\n",
       "      <td>82.04</td>\n",
       "      <td>81.95</td>\n",
       "      <td>80.64</td>\n",
       "      <td>83.86</td>\n",
       "      <td>83.29</td>\n",
       "      <td>80.97</td>\n",
       "      <td>81.87</td>\n",
       "    </tr>\n",
       "    <tr>\n",
       "      <th>WoCh-LSTM-CRF</th>\n",
       "      <td>82.48</td>\n",
       "      <td>83.07</td>\n",
       "      <td>83.18</td>\n",
       "      <td>75.14</td>\n",
       "      <td>81.90</td>\n",
       "      <td>81.34</td>\n",
       "      <td>79.63</td>\n",
       "      <td>83.03</td>\n",
       "      <td>81.47</td>\n",
       "      <td>81.14</td>\n",
       "      <td>82.14</td>\n",
       "    </tr>\n",
       "    <tr>\n",
       "      <th>Wo-BiLSTM</th>\n",
       "      <td>74.21</td>\n",
       "      <td>78.48</td>\n",
       "      <td>78.91</td>\n",
       "      <td>68.10</td>\n",
       "      <td>76.36</td>\n",
       "      <td>71.98</td>\n",
       "      <td>69.54</td>\n",
       "      <td>78.01</td>\n",
       "      <td>76.84</td>\n",
       "      <td>78.06</td>\n",
       "      <td>74.97</td>\n",
       "    </tr>\n",
       "    <tr>\n",
       "      <th>WoCh-BiLSTM</th>\n",
       "      <td>74.40</td>\n",
       "      <td>78.75</td>\n",
       "      <td>78.39</td>\n",
       "      <td>70.40</td>\n",
       "      <td>76.09</td>\n",
       "      <td>73.83</td>\n",
       "      <td>69.40</td>\n",
       "      <td>78.68</td>\n",
       "      <td>75.10</td>\n",
       "      <td>77.21</td>\n",
       "      <td>74.76</td>\n",
       "    </tr>\n",
       "    <tr>\n",
       "      <th>Wo-BiLSTM-CRF</th>\n",
       "      <td>86.33</td>\n",
       "      <td>84.66</td>\n",
       "      <td>85.55</td>\n",
       "      <td>71.79</td>\n",
       "      <td>84.90</td>\n",
       "      <td>83.06</td>\n",
       "      <td>83.09</td>\n",
       "      <td>85.43</td>\n",
       "      <td>84.81</td>\n",
       "      <td>83.33</td>\n",
       "      <td>81.66</td>\n",
       "    </tr>\n",
       "    <tr>\n",
       "      <th>WoCh-BiLSTM-CRF</th>\n",
       "      <td>84.02</td>\n",
       "      <td>84.57</td>\n",
       "      <td>85.11</td>\n",
       "      <td>77.51</td>\n",
       "      <td>84.35</td>\n",
       "      <td>82.95</td>\n",
       "      <td>81.04</td>\n",
       "      <td>84.66</td>\n",
       "      <td>83.38</td>\n",
       "      <td>83.65</td>\n",
       "      <td>81.59</td>\n",
       "    </tr>\n",
       "  </tbody>\n",
       "</table>\n",
       "</div>"
      ],
      "text/plain": [
       "                 fastText-wiki  Glove 42B  fastText-crawl  Amazon Reviews  \\\n",
       "Wo-LSTM                  69.43      72.44           73.57           60.61   \n",
       "WoCh-LSTM                67.60      72.29           72.59           65.10   \n",
       "Wo-LSTM-CRF              83.93      83.45           84.54           72.56   \n",
       "WoCh-LSTM-CRF            82.48      83.07           83.18           75.14   \n",
       "Wo-BiLSTM                74.21      78.48           78.91           68.10   \n",
       "WoCh-BiLSTM              74.40      78.75           78.39           70.40   \n",
       "Wo-BiLSTM-CRF            86.33      84.66           85.55           71.79   \n",
       "WoCh-BiLSTM-CRF          84.02      84.57           85.11           77.51   \n",
       "\n",
       "                 Glove 6B 100  numberbatch  Glove 6B 50  Glove 840B  \\\n",
       "Wo-LSTM                 67.75        65.81        60.71       72.40   \n",
       "WoCh-LSTM               68.13        67.25        63.37       72.34   \n",
       "Wo-LSTM-CRF             82.04        81.95        80.64       83.86   \n",
       "WoCh-LSTM-CRF           81.90        81.34        79.63       83.03   \n",
       "Wo-BiLSTM               76.36        71.98        69.54       78.01   \n",
       "WoCh-BiLSTM             76.09        73.83        69.40       78.68   \n",
       "Wo-BiLSTM-CRF           84.90        83.06        83.09       85.43   \n",
       "WoCh-BiLSTM-CRF         84.35        82.95        81.04       84.66   \n",
       "\n",
       "                 Glove 6B 200  Glove 6B 300  word2vec  \n",
       "Wo-LSTM                 70.45         70.37     68.35  \n",
       "WoCh-LSTM               69.24         71.26     68.80  \n",
       "Wo-LSTM-CRF             83.29         80.97     81.87  \n",
       "WoCh-LSTM-CRF           81.47         81.14     82.14  \n",
       "Wo-BiLSTM               76.84         78.06     74.97  \n",
       "WoCh-BiLSTM             75.10         77.21     74.76  \n",
       "Wo-BiLSTM-CRF           84.81         83.33     81.66  \n",
       "WoCh-BiLSTM-CRF         83.38         83.65     81.59  "
      ]
     },
     "execution_count": 13,
     "metadata": {},
     "output_type": "execute_result"
    }
   ],
   "source": [
    "count_mean_and_std_dev_for_each_cell(results_df_precision).reindex(nlp_architect.REINDEX_RESULTS_ORDER)"
   ]
  },
  {
   "cell_type": "code",
   "execution_count": 14,
   "metadata": {
    "ExecuteTime": {
     "end_time": "2019-02-24T23:02:47.932482Z",
     "start_time": "2019-02-24T23:02:47.887913Z"
    }
   },
   "outputs": [
    {
     "data": {
      "text/html": [
       "<div>\n",
       "<style scoped>\n",
       "    .dataframe tbody tr th:only-of-type {\n",
       "        vertical-align: middle;\n",
       "    }\n",
       "\n",
       "    .dataframe tbody tr th {\n",
       "        vertical-align: top;\n",
       "    }\n",
       "\n",
       "    .dataframe thead th {\n",
       "        text-align: right;\n",
       "    }\n",
       "</style>\n",
       "<table border=\"1\" class=\"dataframe\">\n",
       "  <thead>\n",
       "    <tr style=\"text-align: right;\">\n",
       "      <th></th>\n",
       "      <th>fastText-wiki</th>\n",
       "      <th>Glove 42B</th>\n",
       "      <th>fastText-crawl</th>\n",
       "      <th>Amazon Reviews</th>\n",
       "      <th>Glove 6B 100</th>\n",
       "      <th>numberbatch</th>\n",
       "      <th>Glove 6B 50</th>\n",
       "      <th>Glove 840B</th>\n",
       "      <th>Glove 6B 200</th>\n",
       "      <th>Glove 6B 300</th>\n",
       "      <th>word2vec</th>\n",
       "    </tr>\n",
       "  </thead>\n",
       "  <tbody>\n",
       "    <tr>\n",
       "      <th>Wo-LSTM</th>\n",
       "      <td>53.61</td>\n",
       "      <td>66.78</td>\n",
       "      <td>62.99</td>\n",
       "      <td>50.69</td>\n",
       "      <td>50.97</td>\n",
       "      <td>51.75</td>\n",
       "      <td>32.15</td>\n",
       "      <td>64.91</td>\n",
       "      <td>58.24</td>\n",
       "      <td>61.90</td>\n",
       "      <td>56.18</td>\n",
       "    </tr>\n",
       "    <tr>\n",
       "      <th>WoCh-LSTM</th>\n",
       "      <td>52.43</td>\n",
       "      <td>65.07</td>\n",
       "      <td>61.96</td>\n",
       "      <td>55.69</td>\n",
       "      <td>56.31</td>\n",
       "      <td>52.40</td>\n",
       "      <td>40.13</td>\n",
       "      <td>67.99</td>\n",
       "      <td>60.25</td>\n",
       "      <td>60.78</td>\n",
       "      <td>60.16</td>\n",
       "    </tr>\n",
       "    <tr>\n",
       "      <th>Wo-LSTM-CRF</th>\n",
       "      <td>67.30</td>\n",
       "      <td>72.21</td>\n",
       "      <td>72.37</td>\n",
       "      <td>59.14</td>\n",
       "      <td>66.28</td>\n",
       "      <td>60.07</td>\n",
       "      <td>45.97</td>\n",
       "      <td>72.49</td>\n",
       "      <td>71.53</td>\n",
       "      <td>69.17</td>\n",
       "      <td>65.69</td>\n",
       "    </tr>\n",
       "    <tr>\n",
       "      <th>WoCh-LSTM-CRF</th>\n",
       "      <td>70.50</td>\n",
       "      <td>74.23</td>\n",
       "      <td>72.68</td>\n",
       "      <td>65.69</td>\n",
       "      <td>65.88</td>\n",
       "      <td>68.17</td>\n",
       "      <td>55.25</td>\n",
       "      <td>72.96</td>\n",
       "      <td>69.51</td>\n",
       "      <td>70.00</td>\n",
       "      <td>69.88</td>\n",
       "    </tr>\n",
       "    <tr>\n",
       "      <th>Wo-BiLSTM</th>\n",
       "      <td>55.94</td>\n",
       "      <td>71.50</td>\n",
       "      <td>68.48</td>\n",
       "      <td>55.66</td>\n",
       "      <td>58.14</td>\n",
       "      <td>50.57</td>\n",
       "      <td>43.83</td>\n",
       "      <td>70.88</td>\n",
       "      <td>63.85</td>\n",
       "      <td>67.21</td>\n",
       "      <td>62.21</td>\n",
       "    </tr>\n",
       "    <tr>\n",
       "      <th>WoCh-BiLSTM</th>\n",
       "      <td>55.94</td>\n",
       "      <td>70.04</td>\n",
       "      <td>69.26</td>\n",
       "      <td>62.30</td>\n",
       "      <td>61.93</td>\n",
       "      <td>60.94</td>\n",
       "      <td>53.36</td>\n",
       "      <td>68.79</td>\n",
       "      <td>63.89</td>\n",
       "      <td>66.34</td>\n",
       "      <td>65.47</td>\n",
       "    </tr>\n",
       "    <tr>\n",
       "      <th>Wo-BiLSTM-CRF</th>\n",
       "      <td>69.73</td>\n",
       "      <td>77.83</td>\n",
       "      <td>74.04</td>\n",
       "      <td>59.26</td>\n",
       "      <td>69.76</td>\n",
       "      <td>65.26</td>\n",
       "      <td>52.89</td>\n",
       "      <td>75.22</td>\n",
       "      <td>72.65</td>\n",
       "      <td>72.09</td>\n",
       "      <td>69.26</td>\n",
       "    </tr>\n",
       "    <tr>\n",
       "      <th>WoCh-BiLSTM-CRF</th>\n",
       "      <td>71.31</td>\n",
       "      <td>74.51</td>\n",
       "      <td>75.04</td>\n",
       "      <td>63.27</td>\n",
       "      <td>69.17</td>\n",
       "      <td>68.64</td>\n",
       "      <td>65.01</td>\n",
       "      <td>76.09</td>\n",
       "      <td>72.90</td>\n",
       "      <td>72.06</td>\n",
       "      <td>71.96</td>\n",
       "    </tr>\n",
       "  </tbody>\n",
       "</table>\n",
       "</div>"
      ],
      "text/plain": [
       "                 fastText-wiki  Glove 42B  fastText-crawl  Amazon Reviews  \\\n",
       "Wo-LSTM                  53.61      66.78           62.99           50.69   \n",
       "WoCh-LSTM                52.43      65.07           61.96           55.69   \n",
       "Wo-LSTM-CRF              67.30      72.21           72.37           59.14   \n",
       "WoCh-LSTM-CRF            70.50      74.23           72.68           65.69   \n",
       "Wo-BiLSTM                55.94      71.50           68.48           55.66   \n",
       "WoCh-BiLSTM              55.94      70.04           69.26           62.30   \n",
       "Wo-BiLSTM-CRF            69.73      77.83           74.04           59.26   \n",
       "WoCh-BiLSTM-CRF          71.31      74.51           75.04           63.27   \n",
       "\n",
       "                 Glove 6B 100  numberbatch  Glove 6B 50  Glove 840B  \\\n",
       "Wo-LSTM                 50.97        51.75        32.15       64.91   \n",
       "WoCh-LSTM               56.31        52.40        40.13       67.99   \n",
       "Wo-LSTM-CRF             66.28        60.07        45.97       72.49   \n",
       "WoCh-LSTM-CRF           65.88        68.17        55.25       72.96   \n",
       "Wo-BiLSTM               58.14        50.57        43.83       70.88   \n",
       "WoCh-BiLSTM             61.93        60.94        53.36       68.79   \n",
       "Wo-BiLSTM-CRF           69.76        65.26        52.89       75.22   \n",
       "WoCh-BiLSTM-CRF         69.17        68.64        65.01       76.09   \n",
       "\n",
       "                 Glove 6B 200  Glove 6B 300  word2vec  \n",
       "Wo-LSTM                 58.24         61.90     56.18  \n",
       "WoCh-LSTM               60.25         60.78     60.16  \n",
       "Wo-LSTM-CRF             71.53         69.17     65.69  \n",
       "WoCh-LSTM-CRF           69.51         70.00     69.88  \n",
       "Wo-BiLSTM               63.85         67.21     62.21  \n",
       "WoCh-BiLSTM             63.89         66.34     65.47  \n",
       "Wo-BiLSTM-CRF           72.65         72.09     69.26  \n",
       "WoCh-BiLSTM-CRF         72.90         72.06     71.96  "
      ]
     },
     "execution_count": 14,
     "metadata": {},
     "output_type": "execute_result"
    }
   ],
   "source": [
    "count_mean_and_std_dev_for_each_cell(results_df_recall).reindex(nlp_architect.REINDEX_RESULTS_ORDER)"
   ]
  },
  {
   "cell_type": "markdown",
   "metadata": {},
   "source": [
    "# Calculate result's mean and std "
   ]
  },
  {
   "cell_type": "code",
   "execution_count": 15,
   "metadata": {
    "ExecuteTime": {
     "end_time": "2019-02-24T23:02:51.149319Z",
     "start_time": "2019-02-24T23:02:51.113173Z"
    }
   },
   "outputs": [
    {
     "data": {
      "text/html": [
       "<div>\n",
       "<style scoped>\n",
       "    .dataframe tbody tr th:only-of-type {\n",
       "        vertical-align: middle;\n",
       "    }\n",
       "\n",
       "    .dataframe tbody tr th {\n",
       "        vertical-align: top;\n",
       "    }\n",
       "\n",
       "    .dataframe thead th {\n",
       "        text-align: right;\n",
       "    }\n",
       "</style>\n",
       "<table border=\"1\" class=\"dataframe\">\n",
       "  <thead>\n",
       "    <tr style=\"text-align: right;\">\n",
       "      <th></th>\n",
       "      <th>fastText-wiki</th>\n",
       "      <th>Glove 42B</th>\n",
       "      <th>fastText-crawl</th>\n",
       "      <th>Amazon Reviews</th>\n",
       "      <th>Glove 6B 100</th>\n",
       "      <th>numberbatch</th>\n",
       "      <th>Glove 6B 50</th>\n",
       "      <th>Glove 840B</th>\n",
       "      <th>Glove 6B 200</th>\n",
       "      <th>Glove 6B 300</th>\n",
       "      <th>word2vec</th>\n",
       "    </tr>\n",
       "  </thead>\n",
       "  <tbody>\n",
       "    <tr>\n",
       "      <th>Wo-BiLSTM</th>\n",
       "      <td>63.54</td>\n",
       "      <td>74.78</td>\n",
       "      <td>73.32</td>\n",
       "      <td>61.22</td>\n",
       "      <td>65.94</td>\n",
       "      <td>59.02</td>\n",
       "      <td>53.71</td>\n",
       "      <td>74.25</td>\n",
       "      <td>69.71</td>\n",
       "      <td>72.20</td>\n",
       "      <td>67.96</td>\n",
       "    </tr>\n",
       "    <tr>\n",
       "      <th>Wo-BiLSTM-CRF</th>\n",
       "      <td>77.05</td>\n",
       "      <td>81.08</td>\n",
       "      <td>79.34</td>\n",
       "      <td>64.89</td>\n",
       "      <td>76.44</td>\n",
       "      <td>73.03</td>\n",
       "      <td>64.39</td>\n",
       "      <td>79.99</td>\n",
       "      <td>78.22</td>\n",
       "      <td>77.28</td>\n",
       "      <td>74.93</td>\n",
       "    </tr>\n",
       "    <tr>\n",
       "      <th>Wo-LSTM</th>\n",
       "      <td>60.32</td>\n",
       "      <td>69.44</td>\n",
       "      <td>67.75</td>\n",
       "      <td>55.18</td>\n",
       "      <td>58.00</td>\n",
       "      <td>57.88</td>\n",
       "      <td>41.77</td>\n",
       "      <td>68.38</td>\n",
       "      <td>63.69</td>\n",
       "      <td>65.82</td>\n",
       "      <td>61.59</td>\n",
       "    </tr>\n",
       "    <tr>\n",
       "      <th>Wo-LSTM-CRF</th>\n",
       "      <td>74.66</td>\n",
       "      <td>77.39</td>\n",
       "      <td>77.95</td>\n",
       "      <td>65.15</td>\n",
       "      <td>73.26</td>\n",
       "      <td>69.19</td>\n",
       "      <td>58.48</td>\n",
       "      <td>77.72</td>\n",
       "      <td>76.94</td>\n",
       "      <td>74.51</td>\n",
       "      <td>72.88</td>\n",
       "    </tr>\n",
       "    <tr>\n",
       "      <th>WoCh-BiLSTM</th>\n",
       "      <td>63.66</td>\n",
       "      <td>74.11</td>\n",
       "      <td>73.44</td>\n",
       "      <td>66.06</td>\n",
       "      <td>68.26</td>\n",
       "      <td>66.69</td>\n",
       "      <td>60.19</td>\n",
       "      <td>73.38</td>\n",
       "      <td>68.98</td>\n",
       "      <td>71.32</td>\n",
       "      <td>69.77</td>\n",
       "    </tr>\n",
       "    <tr>\n",
       "      <th>WoCh-BiLSTM-CRF</th>\n",
       "      <td>77.04</td>\n",
       "      <td>79.21</td>\n",
       "      <td>79.73</td>\n",
       "      <td>69.65</td>\n",
       "      <td>75.88</td>\n",
       "      <td>75.09</td>\n",
       "      <td>72.05</td>\n",
       "      <td>80.13</td>\n",
       "      <td>77.77</td>\n",
       "      <td>77.40</td>\n",
       "      <td>76.38</td>\n",
       "    </tr>\n",
       "    <tr>\n",
       "      <th>WoCh-LSTM</th>\n",
       "      <td>58.96</td>\n",
       "      <td>68.47</td>\n",
       "      <td>66.71</td>\n",
       "      <td>60.01</td>\n",
       "      <td>61.64</td>\n",
       "      <td>58.77</td>\n",
       "      <td>48.50</td>\n",
       "      <td>70.09</td>\n",
       "      <td>64.39</td>\n",
       "      <td>65.59</td>\n",
       "      <td>64.10</td>\n",
       "    </tr>\n",
       "    <tr>\n",
       "      <th>WoCh-LSTM-CRF</th>\n",
       "      <td>75.93</td>\n",
       "      <td>78.36</td>\n",
       "      <td>77.53</td>\n",
       "      <td>70.04</td>\n",
       "      <td>72.97</td>\n",
       "      <td>74.15</td>\n",
       "      <td>65.12</td>\n",
       "      <td>77.66</td>\n",
       "      <td>75.00</td>\n",
       "      <td>75.15</td>\n",
       "      <td>75.44</td>\n",
       "    </tr>\n",
       "  </tbody>\n",
       "</table>\n",
       "</div>"
      ],
      "text/plain": [
       "                 fastText-wiki  Glove 42B  fastText-crawl  Amazon Reviews  \\\n",
       "Wo-BiLSTM                63.54      74.78           73.32           61.22   \n",
       "Wo-BiLSTM-CRF            77.05      81.08           79.34           64.89   \n",
       "Wo-LSTM                  60.32      69.44           67.75           55.18   \n",
       "Wo-LSTM-CRF              74.66      77.39           77.95           65.15   \n",
       "WoCh-BiLSTM              63.66      74.11           73.44           66.06   \n",
       "WoCh-BiLSTM-CRF          77.04      79.21           79.73           69.65   \n",
       "WoCh-LSTM                58.96      68.47           66.71           60.01   \n",
       "WoCh-LSTM-CRF            75.93      78.36           77.53           70.04   \n",
       "\n",
       "                 Glove 6B 100  numberbatch  Glove 6B 50  Glove 840B  \\\n",
       "Wo-BiLSTM               65.94        59.02        53.71       74.25   \n",
       "Wo-BiLSTM-CRF           76.44        73.03        64.39       79.99   \n",
       "Wo-LSTM                 58.00        57.88        41.77       68.38   \n",
       "Wo-LSTM-CRF             73.26        69.19        58.48       77.72   \n",
       "WoCh-BiLSTM             68.26        66.69        60.19       73.38   \n",
       "WoCh-BiLSTM-CRF         75.88        75.09        72.05       80.13   \n",
       "WoCh-LSTM               61.64        58.77        48.50       70.09   \n",
       "WoCh-LSTM-CRF           72.97        74.15        65.12       77.66   \n",
       "\n",
       "                 Glove 6B 200  Glove 6B 300  word2vec  \n",
       "Wo-BiLSTM               69.71         72.20     67.96  \n",
       "Wo-BiLSTM-CRF           78.22         77.28     74.93  \n",
       "Wo-LSTM                 63.69         65.82     61.59  \n",
       "Wo-LSTM-CRF             76.94         74.51     72.88  \n",
       "WoCh-BiLSTM             68.98         71.32     69.77  \n",
       "WoCh-BiLSTM-CRF         77.77         77.40     76.38  \n",
       "WoCh-LSTM               64.39         65.59     64.10  \n",
       "WoCh-LSTM-CRF           75.00         75.15     75.44  "
      ]
     },
     "execution_count": 15,
     "metadata": {},
     "output_type": "execute_result"
    }
   ],
   "source": [
    "pd.DataFrame({\n",
    "        embedding: {\n",
    "            architecture: round(np.mean(metrics), 2) + 1\n",
    "            for architecture, metrics in architecture_metric.items()\n",
    "        }\n",
    "        for embedding, architecture_metric in results_df.to_dict().items()\n",
    "    })"
   ]
  },
  {
   "cell_type": "code",
   "execution_count": 16,
   "metadata": {
    "ExecuteTime": {
     "end_time": "2019-02-24T23:02:59.171877Z",
     "start_time": "2019-02-24T23:02:58.933454Z"
    }
   },
   "outputs": [
    {
     "data": {
      "text/html": [
       "<div>\n",
       "<style scoped>\n",
       "    .dataframe tbody tr th:only-of-type {\n",
       "        vertical-align: middle;\n",
       "    }\n",
       "\n",
       "    .dataframe tbody tr th {\n",
       "        vertical-align: top;\n",
       "    }\n",
       "\n",
       "    .dataframe thead th {\n",
       "        text-align: right;\n",
       "    }\n",
       "</style>\n",
       "<table border=\"1\" class=\"dataframe\">\n",
       "  <thead>\n",
       "    <tr style=\"text-align: right;\">\n",
       "      <th></th>\n",
       "      <th>fastText-wiki</th>\n",
       "      <th>Glove 42B</th>\n",
       "      <th>fastText-crawl</th>\n",
       "      <th>Amazon Reviews</th>\n",
       "      <th>numberbatch</th>\n",
       "      <th>Glove.6B.50</th>\n",
       "      <th>Glove.6B.100</th>\n",
       "      <th>Glove.6B.200</th>\n",
       "      <th>Glove.6B.300</th>\n",
       "    </tr>\n",
       "  </thead>\n",
       "  <tbody>\n",
       "    <tr>\n",
       "      <th>Wo-LSTM</th>\n",
       "      <td>60.32</td>\n",
       "      <td>69.44</td>\n",
       "      <td>67.75</td>\n",
       "      <td>55.18</td>\n",
       "      <td>58.00</td>\n",
       "      <td>57.88</td>\n",
       "      <td>41.77</td>\n",
       "      <td>68.38</td>\n",
       "      <td>63.69</td>\n",
       "      <td>65.82</td>\n",
       "      <td>61.59</td>\n",
       "    </tr>\n",
       "    <tr>\n",
       "      <th>WoCh-LSTM</th>\n",
       "      <td>58.96</td>\n",
       "      <td>68.47</td>\n",
       "      <td>66.71</td>\n",
       "      <td>60.01</td>\n",
       "      <td>61.64</td>\n",
       "      <td>58.77</td>\n",
       "      <td>48.50</td>\n",
       "      <td>70.09</td>\n",
       "      <td>64.39</td>\n",
       "      <td>65.59</td>\n",
       "      <td>64.10</td>\n",
       "    </tr>\n",
       "    <tr>\n",
       "      <th>Wo-LSTM-CRF</th>\n",
       "      <td>74.66</td>\n",
       "      <td>77.39</td>\n",
       "      <td>77.95</td>\n",
       "      <td>65.15</td>\n",
       "      <td>73.26</td>\n",
       "      <td>69.19</td>\n",
       "      <td>58.48</td>\n",
       "      <td>77.72</td>\n",
       "      <td>76.94</td>\n",
       "      <td>74.51</td>\n",
       "      <td>72.88</td>\n",
       "    </tr>\n",
       "    <tr>\n",
       "      <th>WoCh-LSTM-CRF</th>\n",
       "      <td>75.93</td>\n",
       "      <td>78.36</td>\n",
       "      <td>77.53</td>\n",
       "      <td>70.04</td>\n",
       "      <td>72.97</td>\n",
       "      <td>74.15</td>\n",
       "      <td>65.12</td>\n",
       "      <td>77.66</td>\n",
       "      <td>75.00</td>\n",
       "      <td>75.15</td>\n",
       "      <td>75.44</td>\n",
       "    </tr>\n",
       "    <tr>\n",
       "      <th>Wo-BiLSTM</th>\n",
       "      <td>63.54</td>\n",
       "      <td>74.78</td>\n",
       "      <td>73.32</td>\n",
       "      <td>61.22</td>\n",
       "      <td>65.94</td>\n",
       "      <td>59.02</td>\n",
       "      <td>53.71</td>\n",
       "      <td>74.25</td>\n",
       "      <td>69.71</td>\n",
       "      <td>72.20</td>\n",
       "      <td>67.96</td>\n",
       "    </tr>\n",
       "    <tr>\n",
       "      <th>WoCh-BiLSTM</th>\n",
       "      <td>63.66</td>\n",
       "      <td>74.11</td>\n",
       "      <td>73.44</td>\n",
       "      <td>66.06</td>\n",
       "      <td>68.26</td>\n",
       "      <td>66.69</td>\n",
       "      <td>60.19</td>\n",
       "      <td>73.38</td>\n",
       "      <td>68.98</td>\n",
       "      <td>71.32</td>\n",
       "      <td>69.77</td>\n",
       "    </tr>\n",
       "    <tr>\n",
       "      <th>Wo-BiLSTM-CRF</th>\n",
       "      <td>77.05</td>\n",
       "      <td>81.08</td>\n",
       "      <td>79.34</td>\n",
       "      <td>64.89</td>\n",
       "      <td>76.44</td>\n",
       "      <td>73.03</td>\n",
       "      <td>64.39</td>\n",
       "      <td>79.99</td>\n",
       "      <td>78.22</td>\n",
       "      <td>77.28</td>\n",
       "      <td>74.93</td>\n",
       "    </tr>\n",
       "    <tr>\n",
       "      <th>WoCh-BiLSTM-CRF</th>\n",
       "      <td>77.04</td>\n",
       "      <td>79.21</td>\n",
       "      <td>79.73</td>\n",
       "      <td>69.65</td>\n",
       "      <td>75.88</td>\n",
       "      <td>75.09</td>\n",
       "      <td>72.05</td>\n",
       "      <td>80.13</td>\n",
       "      <td>77.77</td>\n",
       "      <td>77.40</td>\n",
       "      <td>76.38</td>\n",
       "    </tr>\n",
       "  </tbody>\n",
       "</table>\n",
       "</div>"
      ],
      "text/plain": [
       "                 fastText-wiki  Glove 42B  fastText-crawl  Amazon Reviews  \\\n",
       "Wo-LSTM                  60.32      69.44           67.75           55.18   \n",
       "WoCh-LSTM                58.96      68.47           66.71           60.01   \n",
       "Wo-LSTM-CRF              74.66      77.39           77.95           65.15   \n",
       "WoCh-LSTM-CRF            75.93      78.36           77.53           70.04   \n",
       "Wo-BiLSTM                63.54      74.78           73.32           61.22   \n",
       "WoCh-BiLSTM              63.66      74.11           73.44           66.06   \n",
       "Wo-BiLSTM-CRF            77.05      81.08           79.34           64.89   \n",
       "WoCh-BiLSTM-CRF          77.04      79.21           79.73           69.65   \n",
       "\n",
       "                 Glove 6B 100  numberbatch  Glove 6B 50  Glove 840B  \\\n",
       "Wo-LSTM                 58.00        57.88        41.77       68.38   \n",
       "WoCh-LSTM               61.64        58.77        48.50       70.09   \n",
       "Wo-LSTM-CRF             73.26        69.19        58.48       77.72   \n",
       "WoCh-LSTM-CRF           72.97        74.15        65.12       77.66   \n",
       "Wo-BiLSTM               65.94        59.02        53.71       74.25   \n",
       "WoCh-BiLSTM             68.26        66.69        60.19       73.38   \n",
       "Wo-BiLSTM-CRF           76.44        73.03        64.39       79.99   \n",
       "WoCh-BiLSTM-CRF         75.88        75.09        72.05       80.13   \n",
       "\n",
       "                 Glove 6B 200  Glove 6B 300  word2vec  \n",
       "Wo-LSTM                 63.69         65.82     61.59  \n",
       "WoCh-LSTM               64.39         65.59     64.10  \n",
       "Wo-LSTM-CRF             76.94         74.51     72.88  \n",
       "WoCh-LSTM-CRF           75.00         75.15     75.44  \n",
       "Wo-BiLSTM               69.71         72.20     67.96  \n",
       "WoCh-BiLSTM             68.98         71.32     69.77  \n",
       "Wo-BiLSTM-CRF           78.22         77.28     74.93  \n",
       "WoCh-BiLSTM-CRF         77.77         77.40     76.38  "
      ]
     },
     "execution_count": 16,
     "metadata": {},
     "output_type": "execute_result"
    }
   ],
   "source": [
    "results_df_avg = count_mean_and_std_dev_for_each_cell(results_df).reindex(nlp_architect.REINDEX_RESULTS_ORDER)\n",
    "results_df_avg = results_df_avg.reindex(word_embedding_reindex, axis=1)\n",
    "results_df_avg.to_excel((results_path / f'{dataset_sub_name}-aspects-5-runs.xlsx').as_posix())\n",
    "results_df_avg"
   ]
  },
  {
   "cell_type": "code",
   "execution_count": 17,
   "metadata": {
    "ExecuteTime": {
     "end_time": "2019-02-24T23:02:59.197667Z",
     "start_time": "2019-02-24T23:02:59.173765Z"
    }
   },
   "outputs": [],
   "source": [
    "results_df_avg = results_df_avg.reindex(word_embedding_reindex, axis=1)"
   ]
  },
  {
   "cell_type": "code",
   "execution_count": 37,
   "metadata": {
    "ExecuteTime": {
     "end_time": "2019-01-14T06:45:16.511698Z",
     "start_time": "2019-01-14T06:45:16.485382Z"
    }
   },
   "outputs": [
    {
     "name": "stdout",
     "output_type": "stream",
     "text": [
      "\\begin{tabular}{lrrrrrrrr}\n",
      "\\toprule\n",
      "{} &  Wo-LSTM &  WoCh-LSTM &  Wo-LSTM-CRF &  WoCh-LSTM-CRF &  Wo-BiLSTM &  WoCh-BiLSTM &  Wo-BiLSTM-CRF &  WoCh-BiLSTM-CRF \\\\\n",
      "\\midrule\n",
      "Glove.840B     &    68.38 &      70.09 &        77.72 &          77.66 &      74.25 &        73.38 &          79.99 &            80.13 \\\\\n",
      "Glove.42B      &    69.44 &      68.47 &        77.39 &          78.36 &      74.78 &        74.11 &          81.08 &            79.21 \\\\\n",
      "fastText-wiki  &    60.32 &      58.96 &        74.66 &          75.93 &      63.54 &        63.66 &          77.05 &            77.04 \\\\\n",
      "fastText-crawl &    67.75 &      66.71 &        77.95 &          77.53 &      73.32 &        73.44 &          79.34 &            79.73 \\\\\n",
      "word2vec       &    61.59 &      64.10 &        72.88 &          75.44 &      67.96 &        69.77 &          74.93 &            76.38 \\\\\n",
      "Amazon Reviews &    55.18 &      60.01 &        65.15 &          70.04 &      61.22 &        66.06 &          64.89 &            69.65 \\\\\n",
      "numberbatch    &    57.88 &      58.77 &        69.19 &          74.15 &      59.02 &        66.69 &          73.03 &            75.09 \\\\\n",
      "Glove.6B.50    &    41.77 &      48.50 &        58.48 &          65.12 &      53.71 &        60.19 &          64.39 &            72.05 \\\\\n",
      "Glove.6B.100   &    58.00 &      61.64 &        73.26 &          72.97 &      65.94 &        68.26 &          76.44 &            75.88 \\\\\n",
      "Glove.6B.200   &    63.69 &      64.39 &        76.94 &          75.00 &      69.71 &        68.98 &          78.22 &            77.77 \\\\\n",
      "Glove.6B.300   &    65.82 &      65.59 &        74.51 &          75.15 &      72.20 &        71.32 &          77.28 &            77.40 \\\\\n",
      "\\bottomrule\n",
      "\\end{tabular}\n",
      "\n"
     ]
    }
   ],
   "source": [
    "print(results_df_avg.transpose().to_latex())"
   ]
  },
  {
   "cell_type": "code",
   "execution_count": 38,
   "metadata": {
    "ExecuteTime": {
     "end_time": "2019-01-14T06:45:16.719098Z",
     "start_time": "2019-01-14T06:45:16.701273Z"
    }
   },
   "outputs": [],
   "source": [
    "max_values_per_columns = results_df_avg.transpose().max(axis=1).to_dict()"
   ]
  },
  {
   "cell_type": "code",
   "execution_count": 18,
   "metadata": {
    "ExecuteTime": {
     "end_time": "2019-02-24T23:03:00.209188Z",
     "start_time": "2019-02-24T23:03:00.179434Z"
    }
   },
   "outputs": [
    {
     "data": {
      "text/plain": [
       "{'fastText-wiki': 77.05,\n",
       " 'Glove 42B': 81.08,\n",
       " 'fastText-crawl': 79.73,\n",
       " 'Amazon Reviews': 70.04,\n",
       " 'Glove 6B 100': 76.44,\n",
       " 'numberbatch': 75.09,\n",
       " 'Glove 6B 50': 72.05,\n",
       " 'Glove 840B': 80.13,\n",
       " 'Glove 6B 200': 78.22,\n",
       " 'Glove 6B 300': 77.4,\n",
       " 'word2vec': 76.38}"
      ]
     },
     "execution_count": 18,
     "metadata": {},
     "output_type": "execute_result"
    }
   ],
   "source": [
    "max_values_per_columns"
   ]
  },
  {
   "cell_type": "markdown",
   "metadata": {},
   "source": [
    "# Results with +/- std  "
   ]
  },
  {
   "cell_type": "code",
   "execution_count": 19,
   "metadata": {
    "ExecuteTime": {
     "end_time": "2019-02-24T23:03:01.705360Z",
     "start_time": "2019-02-24T23:03:01.680182Z"
    }
   },
   "outputs": [],
   "source": [
    "def count_mean_and_std_dev_for_each_cell_tex_ready(results_df: pd.DataFrame):\n",
    "    return pd.DataFrame({\n",
    "        embedding: {\n",
    "            architecture: ' scriptsize{' + str(round(np.mean(metrics), 2) + 1) + ' +/- ' + str(\n",
    "                round(np.std(metrics), 2)) + '}'\n",
    "            for architecture, metrics in architecture_metric.items()\n",
    "        }\n",
    "        for embedding, architecture_metric in results_df.to_dict().items()\n",
    "    })"
   ]
  },
  {
   "cell_type": "code",
   "execution_count": 20,
   "metadata": {
    "ExecuteTime": {
     "end_time": "2019-02-24T23:03:02.469815Z",
     "start_time": "2019-02-24T23:03:02.415989Z"
    }
   },
   "outputs": [
    {
     "data": {
      "text/html": [
       "<div>\n",
       "<style scoped>\n",
       "    .dataframe tbody tr th:only-of-type {\n",
       "        vertical-align: middle;\n",
       "    }\n",
       "\n",
       "    .dataframe tbody tr th {\n",
       "        vertical-align: top;\n",
       "    }\n",
       "\n",
       "    .dataframe thead th {\n",
       "        text-align: right;\n",
       "    }\n",
       "</style>\n",
       "<table border=\"1\" class=\"dataframe\">\n",
       "  <thead>\n",
       "    <tr style=\"text-align: right;\">\n",
       "      <th></th>\n",
       "      <th>fastText-wiki</th>\n",
       "      <th>Glove 42B</th>\n",
       "      <th>fastText-crawl</th>\n",
       "      <th>Amazon Reviews</th>\n",
       "      <th>Glove.6B.100</th>\n",
       "      <th>numberbatch</th>\n",
       "      <th>Glove.6B.50</th>\n",
       "      <th>Glove.840B</th>\n",
       "      <th>Glove.6B.200</th>\n",
       "      <th>Glove.6B.300</th>\n",
       "      <th>word2vec</th>\n",
       "    </tr>\n",
       "  </thead>\n",
       "  <tbody>\n",
       "    <tr>\n",
       "      <th>Wo-LSTM</th>\n",
       "      <td>60.32 +/- 4.55</td>\n",
       "      <td>69.44 +/- 2.13</td>\n",
       "      <td>67.75 +/- 4.05</td>\n",
       "      <td>55.18 +/- 1.77</td>\n",
       "      <td>58.0 +/- 3.98</td>\n",
       "      <td>57.88 +/- 2.48</td>\n",
       "      <td>41.77 +/- 6.04</td>\n",
       "      <td>68.38 +/- 3.61</td>\n",
       "      <td>63.69 +/- 2.15</td>\n",
       "      <td>65.82 +/- 2.33</td>\n",
       "      <td>61.59 +/- 2.43</td>\n",
       "    </tr>\n",
       "    <tr>\n",
       "      <th>WoCh-LSTM</th>\n",
       "      <td>58.96 +/- 2.42</td>\n",
       "      <td>68.47 +/- 1.73</td>\n",
       "      <td>66.71 +/- 4.88</td>\n",
       "      <td>60.01 +/- 1.18</td>\n",
       "      <td>61.64 +/- 1.92</td>\n",
       "      <td>58.77 +/- 3.86</td>\n",
       "      <td>48.5 +/- 8.45</td>\n",
       "      <td>70.09 +/- 0.61</td>\n",
       "      <td>64.39 +/- 2.07</td>\n",
       "      <td>65.59 +/- 1.7</td>\n",
       "      <td>64.1 +/- 2.67</td>\n",
       "    </tr>\n",
       "    <tr>\n",
       "      <th>Wo-LSTM-CRF</th>\n",
       "      <td>74.66 +/- 1.49</td>\n",
       "      <td>77.39 +/- 0.63</td>\n",
       "      <td>77.95 +/- 1.79</td>\n",
       "      <td>65.15 +/- 0.73</td>\n",
       "      <td>73.26 +/- 2.07</td>\n",
       "      <td>69.19 +/- 2.5</td>\n",
       "      <td>58.48 +/- 1.18</td>\n",
       "      <td>77.72 +/- 1.42</td>\n",
       "      <td>76.94 +/- 0.96</td>\n",
       "      <td>74.51 +/- 1.98</td>\n",
       "      <td>72.88 +/- 1.12</td>\n",
       "    </tr>\n",
       "    <tr>\n",
       "      <th>WoCh-LSTM-CRF</th>\n",
       "      <td>75.93 +/- 0.81</td>\n",
       "      <td>78.36 +/- 1.17</td>\n",
       "      <td>77.53 +/- 0.93</td>\n",
       "      <td>70.04 +/- 1.3</td>\n",
       "      <td>72.97 +/- 1.55</td>\n",
       "      <td>74.15 +/- 0.39</td>\n",
       "      <td>65.12 +/- 2.48</td>\n",
       "      <td>77.66 +/- 0.46</td>\n",
       "      <td>75.0 +/- 0.99</td>\n",
       "      <td>75.15 +/- 0.54</td>\n",
       "      <td>75.44 +/- 1.57</td>\n",
       "    </tr>\n",
       "    <tr>\n",
       "      <th>Wo-BiLSTM</th>\n",
       "      <td>63.54 +/- 4.15</td>\n",
       "      <td>74.78 +/- 1.46</td>\n",
       "      <td>73.32 +/- 1.32</td>\n",
       "      <td>61.22 +/- 1.14</td>\n",
       "      <td>65.94 +/- 3.21</td>\n",
       "      <td>59.02 +/- 7.19</td>\n",
       "      <td>53.71 +/- 1.18</td>\n",
       "      <td>74.25 +/- 0.87</td>\n",
       "      <td>69.71 +/- 2.83</td>\n",
       "      <td>72.2 +/- 1.39</td>\n",
       "      <td>67.96 +/- 2.15</td>\n",
       "    </tr>\n",
       "    <tr>\n",
       "      <th>WoCh-BiLSTM</th>\n",
       "      <td>63.66 +/- 4.49</td>\n",
       "      <td>74.11 +/- 1.19</td>\n",
       "      <td>73.44 +/- 2.77</td>\n",
       "      <td>66.06 +/- 1.11</td>\n",
       "      <td>68.26 +/- 0.89</td>\n",
       "      <td>66.69 +/- 2.07</td>\n",
       "      <td>60.19 +/- 4.27</td>\n",
       "      <td>73.38 +/- 2.46</td>\n",
       "      <td>68.98 +/- 2.34</td>\n",
       "      <td>71.32 +/- 0.82</td>\n",
       "      <td>69.77 +/- 2.84</td>\n",
       "    </tr>\n",
       "    <tr>\n",
       "      <th>Wo-BiLSTM-CRF</th>\n",
       "      <td>77.05 +/- 2.18</td>\n",
       "      <td>81.08 +/- 0.69</td>\n",
       "      <td>79.34 +/- 1.23</td>\n",
       "      <td>64.89 +/- 0.75</td>\n",
       "      <td>76.44 +/- 3.29</td>\n",
       "      <td>73.03 +/- 1.02</td>\n",
       "      <td>64.39 +/- 3.51</td>\n",
       "      <td>79.99 +/- 0.72</td>\n",
       "      <td>78.22 +/- 1.67</td>\n",
       "      <td>77.28 +/- 0.87</td>\n",
       "      <td>74.93 +/- 1.0</td>\n",
       "    </tr>\n",
       "    <tr>\n",
       "      <th>WoCh-BiLSTM-CRF</th>\n",
       "      <td>77.04 +/- 2.45</td>\n",
       "      <td>79.21 +/- 0.46</td>\n",
       "      <td>79.73 +/- 1.36</td>\n",
       "      <td>69.65 +/- 0.97</td>\n",
       "      <td>75.88 +/- 2.22</td>\n",
       "      <td>75.09 +/- 1.75</td>\n",
       "      <td>72.05 +/- 1.39</td>\n",
       "      <td>80.13 +/- 0.34</td>\n",
       "      <td>77.77 +/- 1.47</td>\n",
       "      <td>77.4 +/- 0.24</td>\n",
       "      <td>76.38 +/- 1.37</td>\n",
       "    </tr>\n",
       "  </tbody>\n",
       "</table>\n",
       "</div>"
      ],
      "text/plain": [
       "                  fastText-wiki       Glove 42B  fastText-crawl  \\\n",
       "Wo-LSTM          60.32 +/- 4.55  69.44 +/- 2.13  67.75 +/- 4.05   \n",
       "WoCh-LSTM        58.96 +/- 2.42  68.47 +/- 1.73  66.71 +/- 4.88   \n",
       "Wo-LSTM-CRF      74.66 +/- 1.49  77.39 +/- 0.63  77.95 +/- 1.79   \n",
       "WoCh-LSTM-CRF    75.93 +/- 0.81  78.36 +/- 1.17  77.53 +/- 0.93   \n",
       "Wo-BiLSTM        63.54 +/- 4.15  74.78 +/- 1.46  73.32 +/- 1.32   \n",
       "WoCh-BiLSTM      63.66 +/- 4.49  74.11 +/- 1.19  73.44 +/- 2.77   \n",
       "Wo-BiLSTM-CRF    77.05 +/- 2.18  81.08 +/- 0.69  79.34 +/- 1.23   \n",
       "WoCh-BiLSTM-CRF  77.04 +/- 2.45  79.21 +/- 0.46  79.73 +/- 1.36   \n",
       "\n",
       "                 Amazon Reviews    Glove 6B 100     numberbatch  \\\n",
       "Wo-LSTM          55.18 +/- 1.77   58.0 +/- 3.98  57.88 +/- 2.48   \n",
       "WoCh-LSTM        60.01 +/- 1.18  61.64 +/- 1.92  58.77 +/- 3.86   \n",
       "Wo-LSTM-CRF      65.15 +/- 0.73  73.26 +/- 2.07   69.19 +/- 2.5   \n",
       "WoCh-LSTM-CRF     70.04 +/- 1.3  72.97 +/- 1.55  74.15 +/- 0.39   \n",
       "Wo-BiLSTM        61.22 +/- 1.14  65.94 +/- 3.21  59.02 +/- 7.19   \n",
       "WoCh-BiLSTM      66.06 +/- 1.11  68.26 +/- 0.89  66.69 +/- 2.07   \n",
       "Wo-BiLSTM-CRF    64.89 +/- 0.75  76.44 +/- 3.29  73.03 +/- 1.02   \n",
       "WoCh-BiLSTM-CRF  69.65 +/- 0.97  75.88 +/- 2.22  75.09 +/- 1.75   \n",
       "\n",
       "                    Glove 6B 50      Glove 840B    Glove 6B 200  \\\n",
       "Wo-LSTM          41.77 +/- 6.04  68.38 +/- 3.61  63.69 +/- 2.15   \n",
       "WoCh-LSTM         48.5 +/- 8.45  70.09 +/- 0.61  64.39 +/- 2.07   \n",
       "Wo-LSTM-CRF      58.48 +/- 1.18  77.72 +/- 1.42  76.94 +/- 0.96   \n",
       "WoCh-LSTM-CRF    65.12 +/- 2.48  77.66 +/- 0.46   75.0 +/- 0.99   \n",
       "Wo-BiLSTM        53.71 +/- 1.18  74.25 +/- 0.87  69.71 +/- 2.83   \n",
       "WoCh-BiLSTM      60.19 +/- 4.27  73.38 +/- 2.46  68.98 +/- 2.34   \n",
       "Wo-BiLSTM-CRF    64.39 +/- 3.51  79.99 +/- 0.72  78.22 +/- 1.67   \n",
       "WoCh-BiLSTM-CRF  72.05 +/- 1.39  80.13 +/- 0.34  77.77 +/- 1.47   \n",
       "\n",
       "                   Glove 6B 300        word2vec  \n",
       "Wo-LSTM          65.82 +/- 2.33  61.59 +/- 2.43  \n",
       "WoCh-LSTM         65.59 +/- 1.7   64.1 +/- 2.67  \n",
       "Wo-LSTM-CRF      74.51 +/- 1.98  72.88 +/- 1.12  \n",
       "WoCh-LSTM-CRF    75.15 +/- 0.54  75.44 +/- 1.57  \n",
       "Wo-BiLSTM         72.2 +/- 1.39  67.96 +/- 2.15  \n",
       "WoCh-BiLSTM      71.32 +/- 0.82  69.77 +/- 2.84  \n",
       "Wo-BiLSTM-CRF    77.28 +/- 0.87   74.93 +/- 1.0  \n",
       "WoCh-BiLSTM-CRF   77.4 +/- 0.24  76.38 +/- 1.37  "
      ]
     },
     "execution_count": 20,
     "metadata": {},
     "output_type": "execute_result"
    }
   ],
   "source": [
    "df_results_with_std = count_mean_and_std_dev_for_each_cell_tex_ready(results_df).reindex(nlp_architect.REINDEX_RESULTS_ORDER)\n",
    "df_results_with_std.to_excel((results_path / f'{dataset_sub_name}-aspects-with-std.xlsx').as_posix())\n",
    "df_results_with_std"
   ]
  },
  {
   "cell_type": "code",
   "execution_count": 93,
   "metadata": {
    "ExecuteTime": {
     "end_time": "2019-02-17T22:56:30.119350Z",
     "start_time": "2019-02-17T22:56:30.081586Z"
    }
   },
   "outputs": [],
   "source": [
    "results_table_latex = df_results_with_std.transpose().reindex(nlp_architect.REINDEX_EMBEDDING_NAMES).to_latex()"
   ]
  },
  {
   "cell_type": "code",
   "execution_count": 94,
   "metadata": {
    "ExecuteTime": {
     "end_time": "2019-02-17T22:56:30.675526Z",
     "start_time": "2019-02-17T22:56:30.649406Z"
    }
   },
   "outputs": [],
   "source": [
    "import re"
   ]
  },
  {
   "cell_type": "code",
   "execution_count": 95,
   "metadata": {
    "ExecuteTime": {
     "end_time": "2019-02-17T22:56:31.300312Z",
     "start_time": "2019-02-17T22:56:31.275351Z"
    }
   },
   "outputs": [
    {
     "name": "stdout",
     "output_type": "stream",
     "text": [
      "\\begin{tabular}{lllllllll}\n",
      "\\toprule\n",
      "{} &         Wo-LSTM &       WoCh-LSTM &     Wo-LSTM-CRF &   WoCh-LSTM-CRF &       Wo-BiLSTM &     WoCh-BiLSTM &   Wo-BiLSTM-CRF & WoCh-BiLSTM-CRF \\\\\n",
      "\\midrule\n",
      "Glove 840B     &  68.38 \\scriptsize{+/- 3.61} &  70.09 \\scriptsize{+/- 0.61} &  77.72 \\scriptsize{+/- 1.42} &  77.66 \\scriptsize{+/- 0.46} &  74.25 \\scriptsize{+/- 0.87} &  73.38 \\scriptsize{+/- 2.46} &  79.99 \\scriptsize{+/- 0.72} &  80.13 \\scriptsize{+/- 0.34} \\\\\n",
      "Glove 42B      &  69.44 \\scriptsize{+/- 2.13} &  68.47 \\scriptsize{+/- 1.73} &  77.39 \\scriptsize{+/- 0.63} &  78.36 \\scriptsize{+/- 1.17} &  74.78 \\scriptsize{+/- 1.46} &  74.11 \\scriptsize{+/- 1.19} &  81.08 \\scriptsize{+/- 0.69} &  79.21 \\scriptsize{+/- 0.46} \\\\\n",
      "fastText-wiki  &  60.32 \\scriptsize{+/- 4.55} &  58.96 \\scriptsize{+/- 2.42} &  74.66 \\scriptsize{+/- 1.49} &  75.93 \\scriptsize{+/- 0.81} &  63.54 \\scriptsize{+/- 4.15} &  63.66 \\scriptsize{+/- 4.49} &  77.05 \\scriptsize{+/- 2.18} &  77.04 \\scriptsize{+/- 2.45} \\\\\n",
      "fastText-crawl &  67.75 \\scriptsize{+/- 4.05} &  66.71 \\scriptsize{+/- 4.88} &  77.95 \\scriptsize{+/- 1.79} &  77.53 \\scriptsize{+/- 0.93} &  73.32 \\scriptsize{+/- 1.32} &  73.44 \\scriptsize{+/- 2.77} &  79.34 \\scriptsize{+/- 1.23} &  79.73 \\scriptsize{+/- 1.36} \\\\\n",
      "word2vec       &  61.59 \\scriptsize{+/- 2.43} &   64.1 \\scriptsize{+/- 2.67} &  72.88 \\scriptsize{+/- 1.12} &  75.44 \\scriptsize{+/- 1.57} &  67.96 \\scriptsize{+/- 2.15} &  69.77 \\scriptsize{+/- 2.84} &   74.93 \\scriptsize{+/- 1.0} &  76.38 \\scriptsize{+/- 1.37} \\\\\n",
      "Amazon Reviews &  55.18 \\scriptsize{+/- 1.77} &  60.01 \\scriptsize{+/- 1.18} &  65.15 \\scriptsize{+/- 0.73} &   70.04 \\scriptsize{+/- 1.3} &  61.22 \\scriptsize{+/- 1.14} &  66.06 \\scriptsize{+/- 1.11} &  64.89 \\scriptsize{+/- 0.75} &  69.65 \\scriptsize{+/- 0.97} \\\\\n",
      "numberbatch    &  57.88 \\scriptsize{+/- 2.48} &  58.77 \\scriptsize{+/- 3.86} &   69.19 \\scriptsize{+/- 2.5} &  74.15 \\scriptsize{+/- 0.39} &  59.02 \\scriptsize{+/- 7.19} &  66.69 \\scriptsize{+/- 2.07} &  73.03 \\scriptsize{+/- 1.02} &  75.09 \\scriptsize{+/- 1.75} \\\\\n",
      "Glove 6B 50    &  41.77 \\scriptsize{+/- 6.04} &   48.5 \\scriptsize{+/- 8.45} &  58.48 \\scriptsize{+/- 1.18} &  65.12 \\scriptsize{+/- 2.48} &  53.71 \\scriptsize{+/- 1.18} &  60.19 \\scriptsize{+/- 4.27} &  64.39 \\scriptsize{+/- 3.51} &  72.05 \\scriptsize{+/- 1.39} \\\\\n",
      "Glove 6B 100   &   58.0 \\scriptsize{+/- 3.98} &  61.64 \\scriptsize{+/- 1.92} &  73.26 \\scriptsize{+/- 2.07} &  72.97 \\scriptsize{+/- 1.55} &  65.94 \\scriptsize{+/- 3.21} &  68.26 \\scriptsize{+/- 0.89} &  76.44 \\scriptsize{+/- 3.29} &  75.88 \\scriptsize{+/- 2.22} \\\\\n",
      "Glove 6B 200   &  63.69 \\scriptsize{+/- 2.15} &  64.39 \\scriptsize{+/- 2.07} &  76.94 \\scriptsize{+/- 0.96} &   75.0 \\scriptsize{+/- 0.99} &  69.71 \\scriptsize{+/- 2.83} &  68.98 \\scriptsize{+/- 2.34} &  78.22 \\scriptsize{+/- 1.67} &  77.77 \\scriptsize{+/- 1.47} \\\\\n",
      "Glove 6B 300   &  65.82 \\scriptsize{+/- 2.33} &   65.59 \\scriptsize{+/- 1.7} &  74.51 \\scriptsize{+/- 1.98} &  75.15 \\scriptsize{+/- 0.54} &   72.2 \\scriptsize{+/- 1.39} &  71.32 \\scriptsize{+/- 0.82} &  77.28 \\scriptsize{+/- 0.87} &   77.4 \\scriptsize{+/- 0.24} \\\\\n",
      "\\bottomrule\n",
      "\\end{tabular}\n",
      "\n"
     ]
    }
   ],
   "source": [
    "print(re.sub(r'(\\+\\/- \\d+\\.\\d+)', r'\\\\scriptsize{\\1}', results_table_latex))"
   ]
  },
  {
   "cell_type": "markdown",
   "metadata": {},
   "source": [
    "#  Plot graphs with error bars"
   ]
  },
  {
   "cell_type": "code",
   "execution_count": 25,
   "metadata": {
    "ExecuteTime": {
     "end_time": "2019-02-24T23:22:26.637604Z",
     "start_time": "2019-02-24T23:22:26.591524Z"
    }
   },
   "outputs": [],
   "source": [
    "from plotly import __version__\n",
    "from plotly.offline import download_plotlyjs, init_notebook_mode, plot, iplot\n",
    "\n",
    "x = [1, 2, 3, 4]\n",
    "x_rev = x[::-1]\n",
    "\n",
    "# Line 1\n",
    "y1 = [1, 2, 3, 4]\n",
    "y1_upper = [2, 3, 4, 5]\n",
    "y1_lower = [0, 1, 2, 3]\n",
    "y1_lower = y1_lower[::-1]\n",
    "\n",
    "# Line 2\n",
    "y2 = [5, 2.5, 5, 7.5]\n",
    "y2_upper = [5.5, 3, 5.5, 8]\n",
    "y2_lower = [4.5, 2, 4.4, 7]\n",
    "y2_lower = y2_lower[::-1]\n",
    "\n",
    "# Line 3\n",
    "y3 = [10, 8, 6, 4]\n",
    "y3_upper = [11, 9, 7, 5]\n",
    "y3_lower = [9, 7, 5, 3,]\n",
    "y3_lower = y3_lower[::-1]"
   ]
  },
  {
   "cell_type": "code",
   "execution_count": 27,
   "metadata": {
    "ExecuteTime": {
     "end_time": "2019-02-24T23:22:35.643390Z",
     "start_time": "2019-02-24T23:22:35.507040Z"
    }
   },
   "outputs": [
    {
     "data": {
      "application/vnd.plotly.v1+json": {
       "config": {
        "linkText": "Export to plot.ly",
        "plotlyServerURL": "https://plot.ly",
        "showLink": false
       },
       "data": [
        {
         "fill": "tozerox",
         "fillcolor": "rgba(0,100,80,0.2)",
         "line": {
          "color": "rgba(255,255,255,0)"
         },
         "name": "Fair",
         "showlegend": false,
         "type": "scatter",
         "uid": "fe994fe2-aa38-49f6-9a8f-70c9c1acb05b",
         "x": [
          1,
          2,
          3,
          4,
          4,
          3,
          2,
          1
         ],
         "y": [
          2,
          3,
          4,
          5,
          3,
          2,
          1,
          0
         ]
        },
        {
         "fill": "tozerox",
         "fillcolor": "rgba(0,176,246,0.2)",
         "line": {
          "color": "rgba(255,255,255,0)"
         },
         "name": "Premium",
         "showlegend": false,
         "type": "scatter",
         "uid": "14c2dad7-b868-48e7-8d78-86ef56056e58",
         "x": [
          1,
          2,
          3,
          4,
          4,
          3,
          2,
          1
         ],
         "y": [
          5.5,
          3,
          5.5,
          8,
          7,
          4.4,
          2,
          4.5
         ]
        },
        {
         "fill": "tozerox",
         "fillcolor": "rgba(231,107,243,0.2)",
         "line": {
          "color": "rgba(255,255,255,0)"
         },
         "name": "Fair",
         "showlegend": false,
         "type": "scatter",
         "uid": "bebf629a-f53e-496e-a2e3-e2f865822d25",
         "x": [
          1,
          2,
          3,
          4,
          4,
          3,
          2,
          1
         ],
         "y": [
          11,
          9,
          7,
          5,
          3,
          5,
          7,
          9
         ]
        },
        {
         "line": {
          "color": "rgb(0,100,80)"
         },
         "mode": "lines",
         "name": "Fair",
         "type": "scatter",
         "uid": "5b23318d-4e05-4f0f-9a6d-78c5eeb9b369",
         "x": [
          1,
          2,
          3,
          4
         ],
         "y": [
          1,
          2,
          3,
          4
         ]
        },
        {
         "line": {
          "color": "rgb(0,176,246)"
         },
         "mode": "lines",
         "name": "Premium",
         "type": "scatter",
         "uid": "3e4d7f38-d0b1-4d11-aeea-0435d7cff73b",
         "x": [
          1,
          2,
          3,
          4
         ],
         "y": [
          5,
          2.5,
          5,
          7.5
         ]
        },
        {
         "line": {
          "color": "rgb(231,107,243)"
         },
         "mode": "lines",
         "name": "Ideal",
         "type": "scatter",
         "uid": "7a6237ea-9d37-4c2e-a00d-162dbe0b8cde",
         "x": [
          1,
          2,
          3,
          4
         ],
         "y": [
          10,
          8,
          6,
          4
         ]
        }
       ],
       "layout": {
        "paper_bgcolor": "rgb(255,255,255)",
        "plot_bgcolor": "rgb(229,229,229)",
        "xaxis": {
         "gridcolor": "rgb(255,255,255)",
         "range": [
          1,
          4
         ],
         "showgrid": true,
         "showline": false,
         "showticklabels": true,
         "tickcolor": "rgb(127,127,127)",
         "ticks": "outside",
         "zeroline": false
        },
        "yaxis": {
         "gridcolor": "rgb(255,255,255)",
         "showgrid": true,
         "showline": false,
         "showticklabels": true,
         "tickcolor": "rgb(127,127,127)",
         "ticks": "outside",
         "zeroline": false
        }
       }
      },
      "text/html": [
       "<div id=\"685a9725-c06a-4af4-8603-25ecea8e2954\" style=\"height: 525px; width: 100%;\" class=\"plotly-graph-div\"></div><script type=\"text/javascript\">require([\"plotly\"], function(Plotly) { window.PLOTLYENV=window.PLOTLYENV || {};window.PLOTLYENV.BASE_URL=\"https://plot.ly\";Plotly.newPlot(\"685a9725-c06a-4af4-8603-25ecea8e2954\", [{\"fill\": \"tozerox\", \"fillcolor\": \"rgba(0,100,80,0.2)\", \"line\": {\"color\": \"rgba(255,255,255,0)\"}, \"name\": \"Fair\", \"showlegend\": false, \"x\": [1, 2, 3, 4, 4, 3, 2, 1], \"y\": [2, 3, 4, 5, 3, 2, 1, 0], \"type\": \"scatter\", \"uid\": \"fe994fe2-aa38-49f6-9a8f-70c9c1acb05b\"}, {\"fill\": \"tozerox\", \"fillcolor\": \"rgba(0,176,246,0.2)\", \"line\": {\"color\": \"rgba(255,255,255,0)\"}, \"name\": \"Premium\", \"showlegend\": false, \"x\": [1, 2, 3, 4, 4, 3, 2, 1], \"y\": [5.5, 3, 5.5, 8, 7, 4.4, 2, 4.5], \"type\": \"scatter\", \"uid\": \"14c2dad7-b868-48e7-8d78-86ef56056e58\"}, {\"fill\": \"tozerox\", \"fillcolor\": \"rgba(231,107,243,0.2)\", \"line\": {\"color\": \"rgba(255,255,255,0)\"}, \"name\": \"Fair\", \"showlegend\": false, \"x\": [1, 2, 3, 4, 4, 3, 2, 1], \"y\": [11, 9, 7, 5, 3, 5, 7, 9], \"type\": \"scatter\", \"uid\": \"bebf629a-f53e-496e-a2e3-e2f865822d25\"}, {\"line\": {\"color\": \"rgb(0,100,80)\"}, \"mode\": \"lines\", \"name\": \"Fair\", \"x\": [1, 2, 3, 4], \"y\": [1, 2, 3, 4], \"type\": \"scatter\", \"uid\": \"5b23318d-4e05-4f0f-9a6d-78c5eeb9b369\"}, {\"line\": {\"color\": \"rgb(0,176,246)\"}, \"mode\": \"lines\", \"name\": \"Premium\", \"x\": [1, 2, 3, 4], \"y\": [5, 2.5, 5, 7.5], \"type\": \"scatter\", \"uid\": \"3e4d7f38-d0b1-4d11-aeea-0435d7cff73b\"}, {\"line\": {\"color\": \"rgb(231,107,243)\"}, \"mode\": \"lines\", \"name\": \"Ideal\", \"x\": [1, 2, 3, 4], \"y\": [10, 8, 6, 4], \"type\": \"scatter\", \"uid\": \"7a6237ea-9d37-4c2e-a00d-162dbe0b8cde\"}], {\"paper_bgcolor\": \"rgb(255,255,255)\", \"plot_bgcolor\": \"rgb(229,229,229)\", \"xaxis\": {\"gridcolor\": \"rgb(255,255,255)\", \"range\": [1, 4], \"showgrid\": true, \"showline\": false, \"showticklabels\": true, \"tickcolor\": \"rgb(127,127,127)\", \"ticks\": \"outside\", \"zeroline\": false}, \"yaxis\": {\"gridcolor\": \"rgb(255,255,255)\", \"showgrid\": true, \"showline\": false, \"showticklabels\": true, \"tickcolor\": \"rgb(127,127,127)\", \"ticks\": \"outside\", \"zeroline\": false}}, {\"showLink\": false, \"linkText\": \"Export to plot.ly\", \"plotlyServerURL\": \"https://plot.ly\"})});</script><script type=\"text/javascript\">window.addEventListener(\"resize\", function(){window._Plotly.Plots.resize(document.getElementById(\"685a9725-c06a-4af4-8603-25ecea8e2954\"));});</script>"
      ],
      "text/vnd.plotly.v1+html": [
       "<div id=\"685a9725-c06a-4af4-8603-25ecea8e2954\" style=\"height: 525px; width: 100%;\" class=\"plotly-graph-div\"></div><script type=\"text/javascript\">require([\"plotly\"], function(Plotly) { window.PLOTLYENV=window.PLOTLYENV || {};window.PLOTLYENV.BASE_URL=\"https://plot.ly\";Plotly.newPlot(\"685a9725-c06a-4af4-8603-25ecea8e2954\", [{\"fill\": \"tozerox\", \"fillcolor\": \"rgba(0,100,80,0.2)\", \"line\": {\"color\": \"rgba(255,255,255,0)\"}, \"name\": \"Fair\", \"showlegend\": false, \"x\": [1, 2, 3, 4, 4, 3, 2, 1], \"y\": [2, 3, 4, 5, 3, 2, 1, 0], \"type\": \"scatter\", \"uid\": \"fe994fe2-aa38-49f6-9a8f-70c9c1acb05b\"}, {\"fill\": \"tozerox\", \"fillcolor\": \"rgba(0,176,246,0.2)\", \"line\": {\"color\": \"rgba(255,255,255,0)\"}, \"name\": \"Premium\", \"showlegend\": false, \"x\": [1, 2, 3, 4, 4, 3, 2, 1], \"y\": [5.5, 3, 5.5, 8, 7, 4.4, 2, 4.5], \"type\": \"scatter\", \"uid\": \"14c2dad7-b868-48e7-8d78-86ef56056e58\"}, {\"fill\": \"tozerox\", \"fillcolor\": \"rgba(231,107,243,0.2)\", \"line\": {\"color\": \"rgba(255,255,255,0)\"}, \"name\": \"Fair\", \"showlegend\": false, \"x\": [1, 2, 3, 4, 4, 3, 2, 1], \"y\": [11, 9, 7, 5, 3, 5, 7, 9], \"type\": \"scatter\", \"uid\": \"bebf629a-f53e-496e-a2e3-e2f865822d25\"}, {\"line\": {\"color\": \"rgb(0,100,80)\"}, \"mode\": \"lines\", \"name\": \"Fair\", \"x\": [1, 2, 3, 4], \"y\": [1, 2, 3, 4], \"type\": \"scatter\", \"uid\": \"5b23318d-4e05-4f0f-9a6d-78c5eeb9b369\"}, {\"line\": {\"color\": \"rgb(0,176,246)\"}, \"mode\": \"lines\", \"name\": \"Premium\", \"x\": [1, 2, 3, 4], \"y\": [5, 2.5, 5, 7.5], \"type\": \"scatter\", \"uid\": \"3e4d7f38-d0b1-4d11-aeea-0435d7cff73b\"}, {\"line\": {\"color\": \"rgb(231,107,243)\"}, \"mode\": \"lines\", \"name\": \"Ideal\", \"x\": [1, 2, 3, 4], \"y\": [10, 8, 6, 4], \"type\": \"scatter\", \"uid\": \"7a6237ea-9d37-4c2e-a00d-162dbe0b8cde\"}], {\"paper_bgcolor\": \"rgb(255,255,255)\", \"plot_bgcolor\": \"rgb(229,229,229)\", \"xaxis\": {\"gridcolor\": \"rgb(255,255,255)\", \"range\": [1, 4], \"showgrid\": true, \"showline\": false, \"showticklabels\": true, \"tickcolor\": \"rgb(127,127,127)\", \"ticks\": \"outside\", \"zeroline\": false}, \"yaxis\": {\"gridcolor\": \"rgb(255,255,255)\", \"showgrid\": true, \"showline\": false, \"showticklabels\": true, \"tickcolor\": \"rgb(127,127,127)\", \"ticks\": \"outside\", \"zeroline\": false}}, {\"showLink\": false, \"linkText\": \"Export to plot.ly\", \"plotlyServerURL\": \"https://plot.ly\"})});</script><script type=\"text/javascript\">window.addEventListener(\"resize\", function(){window._Plotly.Plots.resize(document.getElementById(\"685a9725-c06a-4af4-8603-25ecea8e2954\"));});</script>"
      ]
     },
     "metadata": {},
     "output_type": "display_data"
    }
   ],
   "source": [
    "trace1 = go.Scatter(\n",
    "    x=x+x_rev,\n",
    "    y=y1_upper+y1_lower,\n",
    "    fill='tozerox',\n",
    "    fillcolor='rgba(0,100,80,0.2)',\n",
    "    line=dict(color='rgba(255,255,255,0)'),\n",
    "    showlegend=False,\n",
    "    name='Fair',\n",
    ")\n",
    "trace2 = go.Scatter(\n",
    "    x=x+x_rev,\n",
    "    y=y2_upper+y2_lower,\n",
    "    fill='tozerox',\n",
    "    fillcolor='rgba(0,176,246,0.2)',\n",
    "    line=dict(color='rgba(255,255,255,0)'),\n",
    "    name='Premium',\n",
    "    showlegend=False,\n",
    ")\n",
    "trace3 = go.Scatter(\n",
    "    x=x+x_rev,\n",
    "    y=y3_upper+y3_lower,\n",
    "    fill='tozerox',\n",
    "    fillcolor='rgba(231,107,243,0.2)',\n",
    "    line=dict(color='rgba(255,255,255,0)'),\n",
    "    showlegend=False,\n",
    "    name='Fair',\n",
    ")\n",
    "trace4 = go.Scatter(\n",
    "    x=x,\n",
    "    y=y1,\n",
    "    line=dict(color='rgb(0,100,80)'),\n",
    "    mode='lines',\n",
    "    name='Fair',\n",
    ")\n",
    "trace5 = go.Scatter(\n",
    "    x=x,\n",
    "    y=y2,\n",
    "    line=dict(color='rgb(0,176,246)'),\n",
    "    mode='lines',\n",
    "    name='Premium',\n",
    ")\n",
    "trace6 = go.Scatter(\n",
    "    x=x,\n",
    "    y=y3,\n",
    "    line=dict(color='rgb(231,107,243)'),\n",
    "    mode='lines',\n",
    "    name='Ideal',\n",
    ")\n",
    "\n",
    "data = [trace1, trace2, trace3, trace4, trace5, trace6]\n",
    "\n",
    "layout = go.Layout(\n",
    "    paper_bgcolor='rgb(255,255,255)',\n",
    "    plot_bgcolor='rgb(229,229,229)',\n",
    "    xaxis=dict(\n",
    "        gridcolor='rgb(255,255,255)',\n",
    "        range=[1,4],\n",
    "        showgrid=True,\n",
    "        showline=False,\n",
    "        showticklabels=True,\n",
    "        tickcolor='rgb(127,127,127)',\n",
    "        ticks='outside',\n",
    "        zeroline=False\n",
    "    ),\n",
    "    yaxis=dict(\n",
    "        gridcolor='rgb(255,255,255)',\n",
    "        showgrid=True,\n",
    "        showline=False,\n",
    "        showticklabels=True,\n",
    "        tickcolor='rgb(127,127,127)',\n",
    "        ticks='outside',\n",
    "        zeroline=False\n",
    "    ),\n",
    ")\n",
    "fig = go.Figure(data=data, layout=layout)\n",
    "iplot(fig, filename= 'shaded_lines')"
   ]
  },
  {
   "cell_type": "code",
   "execution_count": 28,
   "metadata": {
    "ExecuteTime": {
     "end_time": "2019-02-24T23:22:36.106930Z",
     "start_time": "2019-02-24T23:22:36.062062Z"
    }
   },
   "outputs": [
    {
     "data": {
      "text/html": [
       "<div>\n",
       "<style scoped>\n",
       "    .dataframe tbody tr th:only-of-type {\n",
       "        vertical-align: middle;\n",
       "    }\n",
       "\n",
       "    .dataframe tbody tr th {\n",
       "        vertical-align: top;\n",
       "    }\n",
       "\n",
       "    .dataframe thead th {\n",
       "        text-align: right;\n",
       "    }\n",
       "</style>\n",
       "<table border=\"1\" class=\"dataframe\">\n",
       "  <thead>\n",
       "    <tr style=\"text-align: right;\">\n",
       "      <th></th>\n",
       "      <th>fastText-wiki</th>\n",
       "      <th>Glove 42B</th>\n",
       "      <th>fastText-crawl</th>\n",
       "      <th>Amazon Reviews</th>\n",
       "      <th>numberbatch</th>\n",
       "      <th>Glove.6B.50</th>\n",
       "      <th>Glove.6B.100</th>\n",
       "      <th>Glove.6B.200</th>\n",
       "      <th>Glove.6B.300</th>\n",
       "    </tr>\n",
       "  </thead>\n",
       "  <tbody>\n",
       "    <tr>\n",
       "      <th>Wo-LSTM</th>\n",
       "      <td>68.38</td>\n",
       "      <td>69.44</td>\n",
       "      <td>60.32</td>\n",
       "      <td>67.75</td>\n",
       "      <td>61.59</td>\n",
       "      <td>55.18</td>\n",
       "      <td>57.88</td>\n",
       "      <td>41.77</td>\n",
       "      <td>58.00</td>\n",
       "      <td>63.69</td>\n",
       "      <td>65.82</td>\n",
       "    </tr>\n",
       "    <tr>\n",
       "      <th>WoCh-LSTM</th>\n",
       "      <td>70.09</td>\n",
       "      <td>68.47</td>\n",
       "      <td>58.96</td>\n",
       "      <td>66.71</td>\n",
       "      <td>64.10</td>\n",
       "      <td>60.01</td>\n",
       "      <td>58.77</td>\n",
       "      <td>48.50</td>\n",
       "      <td>61.64</td>\n",
       "      <td>64.39</td>\n",
       "      <td>65.59</td>\n",
       "    </tr>\n",
       "    <tr>\n",
       "      <th>Wo-LSTM-CRF</th>\n",
       "      <td>77.72</td>\n",
       "      <td>77.39</td>\n",
       "      <td>74.66</td>\n",
       "      <td>77.95</td>\n",
       "      <td>72.88</td>\n",
       "      <td>65.15</td>\n",
       "      <td>69.19</td>\n",
       "      <td>58.48</td>\n",
       "      <td>73.26</td>\n",
       "      <td>76.94</td>\n",
       "      <td>74.51</td>\n",
       "    </tr>\n",
       "    <tr>\n",
       "      <th>WoCh-LSTM-CRF</th>\n",
       "      <td>77.66</td>\n",
       "      <td>78.36</td>\n",
       "      <td>75.93</td>\n",
       "      <td>77.53</td>\n",
       "      <td>75.44</td>\n",
       "      <td>70.04</td>\n",
       "      <td>74.15</td>\n",
       "      <td>65.12</td>\n",
       "      <td>72.97</td>\n",
       "      <td>75.00</td>\n",
       "      <td>75.15</td>\n",
       "    </tr>\n",
       "    <tr>\n",
       "      <th>Wo-BiLSTM</th>\n",
       "      <td>74.25</td>\n",
       "      <td>74.78</td>\n",
       "      <td>63.54</td>\n",
       "      <td>73.32</td>\n",
       "      <td>67.96</td>\n",
       "      <td>61.22</td>\n",
       "      <td>59.02</td>\n",
       "      <td>53.71</td>\n",
       "      <td>65.94</td>\n",
       "      <td>69.71</td>\n",
       "      <td>72.20</td>\n",
       "    </tr>\n",
       "    <tr>\n",
       "      <th>WoCh-BiLSTM</th>\n",
       "      <td>73.38</td>\n",
       "      <td>74.11</td>\n",
       "      <td>63.66</td>\n",
       "      <td>73.44</td>\n",
       "      <td>69.77</td>\n",
       "      <td>66.06</td>\n",
       "      <td>66.69</td>\n",
       "      <td>60.19</td>\n",
       "      <td>68.26</td>\n",
       "      <td>68.98</td>\n",
       "      <td>71.32</td>\n",
       "    </tr>\n",
       "    <tr>\n",
       "      <th>Wo-BiLSTM-CRF</th>\n",
       "      <td>79.99</td>\n",
       "      <td>81.08</td>\n",
       "      <td>77.05</td>\n",
       "      <td>79.34</td>\n",
       "      <td>74.93</td>\n",
       "      <td>64.89</td>\n",
       "      <td>73.03</td>\n",
       "      <td>64.39</td>\n",
       "      <td>76.44</td>\n",
       "      <td>78.22</td>\n",
       "      <td>77.28</td>\n",
       "    </tr>\n",
       "    <tr>\n",
       "      <th>WoCh-BiLSTM-CRF</th>\n",
       "      <td>80.13</td>\n",
       "      <td>79.21</td>\n",
       "      <td>77.04</td>\n",
       "      <td>79.73</td>\n",
       "      <td>76.38</td>\n",
       "      <td>69.65</td>\n",
       "      <td>75.09</td>\n",
       "      <td>72.05</td>\n",
       "      <td>75.88</td>\n",
       "      <td>77.77</td>\n",
       "      <td>77.40</td>\n",
       "    </tr>\n",
       "  </tbody>\n",
       "</table>\n",
       "</div>"
      ],
      "text/plain": [
       "                 fastText-wiki  Glove 42B  fastText-crawl  Amazon Reviews  \\\n",
       "Wo-LSTM                  60.32      69.44           67.75           55.18   \n",
       "WoCh-LSTM                58.96      68.47           66.71           60.01   \n",
       "Wo-LSTM-CRF              74.66      77.39           77.95           65.15   \n",
       "WoCh-LSTM-CRF            75.93      78.36           77.53           70.04   \n",
       "Wo-BiLSTM                63.54      74.78           73.32           61.22   \n",
       "WoCh-BiLSTM              63.66      74.11           73.44           66.06   \n",
       "Wo-BiLSTM-CRF            77.05      81.08           79.34           64.89   \n",
       "WoCh-BiLSTM-CRF          77.04      79.21           79.73           69.65   \n",
       "\n",
       "                 Glove 6B 100  numberbatch  Glove 6B 50  Glove 840B  \\\n",
       "Wo-LSTM                 58.00        57.88        41.77       68.38   \n",
       "WoCh-LSTM               61.64        58.77        48.50       70.09   \n",
       "Wo-LSTM-CRF             73.26        69.19        58.48       77.72   \n",
       "WoCh-LSTM-CRF           72.97        74.15        65.12       77.66   \n",
       "Wo-BiLSTM               65.94        59.02        53.71       74.25   \n",
       "WoCh-BiLSTM             68.26        66.69        60.19       73.38   \n",
       "Wo-BiLSTM-CRF           76.44        73.03        64.39       79.99   \n",
       "WoCh-BiLSTM-CRF         75.88        75.09        72.05       80.13   \n",
       "\n",
       "                 Glove 6B 200  Glove 6B 300  word2vec  \n",
       "Wo-LSTM                 63.69         65.82     61.59  \n",
       "WoCh-LSTM               64.39         65.59     64.10  \n",
       "Wo-LSTM-CRF             76.94         74.51     72.88  \n",
       "WoCh-LSTM-CRF           75.00         75.15     75.44  \n",
       "Wo-BiLSTM               69.71         72.20     67.96  \n",
       "WoCh-BiLSTM             68.98         71.32     69.77  \n",
       "Wo-BiLSTM-CRF           78.22         77.28     74.93  \n",
       "WoCh-BiLSTM-CRF         77.77         77.40     76.38  "
      ]
     },
     "execution_count": 28,
     "metadata": {},
     "output_type": "execute_result"
    }
   ],
   "source": [
    "results_df_avg"
   ]
  },
  {
   "cell_type": "code",
   "execution_count": 196,
   "metadata": {
    "ExecuteTime": {
     "end_time": "2019-02-13T17:01:26.766757Z",
     "start_time": "2019-02-13T17:01:26.744303Z"
    }
   },
   "outputs": [],
   "source": [
    "def draw_bar_graph_count_mean_and_std_dev(results_df: pd.DataFrame):\n",
    "    traces = []\n",
    "\n",
    "    for embedding, architecture_metric in results_df.to_dict().items():\n",
    "        ys = []\n",
    "        xs = []\n",
    "        error_y = []\n",
    "\n",
    "        for architecture, metrics in architecture_metric.items():\n",
    "            ys.append(round(np.mean(metrics), 2) + 1)\n",
    "            xs.append(architecture)\n",
    "            error_y.append(round(np.std(metrics), 2))\n",
    "\n",
    "        traces.append(\n",
    "            Bar(x=xs,\n",
    "                y=ys,\n",
    "                name=embedding,\n",
    "                error_y=dict(type='data', array=error_y, visible=True)))\n",
    "\n",
    "    layout = Layout(barmode='group')\n",
    "\n",
    "    fig = Figure(data=traces, layout=layout)\n",
    "    iplot(fig)"
   ]
  },
  {
   "cell_type": "code",
   "execution_count": 197,
   "metadata": {
    "ExecuteTime": {
     "end_time": "2019-02-13T17:01:30.248838Z",
     "start_time": "2019-02-13T17:01:30.114002Z"
    }
   },
   "outputs": [
    {
     "data": {
      "text/html": [
       "<div id=\"024d52c2-1dc1-4980-8231-194fb4fc85f1\" style=\"height: 525px; width: 100%;\" class=\"plotly-graph-div\"></div><script type=\"text/javascript\">require([\"plotly\"], function(Plotly) { window.PLOTLYENV=window.PLOTLYENV || {};window.PLOTLYENV.BASE_URL=\"https://plot.ly\";Plotly.newPlot(\"024d52c2-1dc1-4980-8231-194fb4fc85f1\", [{\"type\": \"bar\", \"x\": [\"fastText-wiki\", \"Glove 42B\", \"fastText-crawl\", \"Amazon Reviews\", \"Glove 6B 100\", \"numberbatch\", \"Glove 6B 50\", \"Glove 840B\", \"Glove 6B 200\", \"Glove 6B 300\", \"word2vec\"], \"y\": [80.85, 83.08, 83.17, 50.49, 81.3, 78.57, 75.97, 83.56, 82.09, 81.31, 80.16], \"name\": \"Wo-BiLSTM\", \"error_y\": {\"type\": \"data\", \"array\": [1.98, 0.37, 0.54, 0.87, 0.28, 1.04, 0.7, 0.22, 0.7, 0.61, 0.74], \"visible\": true}}, {\"type\": \"bar\", \"x\": [\"fastText-wiki\", \"Glove 42B\", \"fastText-crawl\", \"Amazon Reviews\", \"Glove 6B 100\", \"numberbatch\", \"Glove 6B 50\", \"Glove 840B\", \"Glove 6B 200\", \"Glove 6B 300\", \"word2vec\"], \"y\": [84.62, 84.97, 85.28, 50.63, 84.01, 82.31, 79.03, 84.96, 83.81, 82.99, 82.94], \"name\": \"Wo-BiLSTM-CRF\", \"error_y\": {\"type\": \"data\", \"array\": [1.04, 1.22, 0.46, 0.5, 0.49, 0.47, 0.64, 0.54, 0.19, 0.53, 0.51], \"visible\": true}}, {\"type\": \"bar\", \"x\": [\"fastText-wiki\", \"Glove 42B\", \"fastText-crawl\", \"Amazon Reviews\", \"Glove 6B 100\", \"numberbatch\", \"Glove 6B 50\", \"Glove 840B\", \"Glove 6B 200\", \"Glove 6B 300\", \"word2vec\"], \"y\": [77.67, 81.28, 80.8, 48.78, 75.04, 76.26, 70.24, 80.91, 78.69, 79.22, 77.73], \"name\": \"Wo-LSTM\", \"error_y\": {\"type\": \"data\", \"array\": [1.29, 0.6, 1.49, 1.02, 1.81, 0.75, 2.9, 1.1, 1.3, 0.58, 0.74], \"visible\": true}}, {\"type\": \"bar\", \"x\": [\"fastText-wiki\", \"Glove 42B\", \"fastText-crawl\", \"Amazon Reviews\", \"Glove 6B 100\", \"numberbatch\", \"Glove 6B 50\", \"Glove 840B\", \"Glove 6B 200\", \"Glove 6B 300\", \"word2vec\"], \"y\": [84.43, 85.64, 85.46, 52.09, 82.52, 82.19, 76.16, 85.02, 83.26, 82.7, 82.49], \"name\": \"Wo-LSTM-CRF\", \"error_y\": {\"type\": \"data\", \"array\": [0.55, 0.28, 0.21, 0.98, 0.46, 0.84, 0.77, 0.23, 0.33, 0.78, 0.32], \"visible\": true}}, {\"type\": \"bar\", \"x\": [\"fastText-wiki\", \"Glove 42B\", \"fastText-crawl\", \"Amazon Reviews\", \"Glove 6B 100\", \"numberbatch\", \"Glove 6B 50\", \"Glove 840B\", \"Glove 6B 200\", \"Glove 6B 300\", \"word2vec\"], \"y\": [81.75, 83.64, 83.27, 69.53, 79.47, 80.89, 77.64, 83.55, 80.87, 81.5, 81.39], \"name\": \"WoCh-BiLSTM\", \"error_y\": {\"type\": \"data\", \"array\": [0.92, 1.04, 0.61, 1.52, 2.27, 0.26, 1.33, 0.3, 0.85, 0.68, 1.08], \"visible\": true}}, {\"type\": \"bar\", \"x\": [\"fastText-wiki\", \"Glove 42B\", \"fastText-crawl\", \"Amazon Reviews\", \"Glove 6B 100\", \"numberbatch\", \"Glove 6B 50\", \"Glove 840B\", \"Glove 6B 200\", \"Glove 6B 300\", \"word2vec\"], \"y\": [84.54, 86.05, 85.69, 73.5, 84.16, 82.85, 80.79, 85.2, 83.74, 83.26, 83.61], \"name\": \"WoCh-BiLSTM-CRF\", \"error_y\": {\"type\": \"data\", \"array\": [0.35, 0.37, 0.64, 0.91, 0.34, 0.41, 0.42, 0.28, 0.56, 0.53, 1.35], \"visible\": true}}, {\"type\": \"bar\", \"x\": [\"fastText-wiki\", \"Glove 42B\", \"fastText-crawl\", \"Amazon Reviews\", \"Glove 6B 100\", \"numberbatch\", \"Glove 6B 50\", \"Glove 840B\", \"Glove 6B 200\", \"Glove 6B 300\", \"word2vec\"], \"y\": [78.74, 80.91, 79.91, 65.81, 78.04, 76.11, 73.35, 81.26, 78.3, 78.7, 78.15], \"name\": \"WoCh-LSTM\", \"error_y\": {\"type\": \"data\", \"array\": [0.53, 1.33, 1.85, 2.3, 0.69, 1.9, 1.63, 0.42, 0.81, 0.54, 0.54], \"visible\": true}}, {\"type\": \"bar\", \"x\": [\"fastText-wiki\", \"Glove 42B\", \"fastText-crawl\", \"Amazon Reviews\", \"Glove 6B 100\", \"numberbatch\", \"Glove 6B 50\", \"Glove 840B\", \"Glove 6B 200\", \"Glove 6B 300\", \"word2vec\"], \"y\": [84.96, 85.37, 85.25, 72.84, 82.79, 82.92, 79.38, 84.91, 83.3, 82.56, 84.12], \"name\": \"WoCh-LSTM-CRF\", \"error_y\": {\"type\": \"data\", \"array\": [0.58, 0.57, 0.46, 0.62, 0.51, 0.33, 0.4, 0.38, 0.2, 0.66, 0.3], \"visible\": true}}], {\"barmode\": \"group\"}, {\"showLink\": true, \"linkText\": \"Export to plot.ly\"})});</script>"
      ],
      "text/plain": [
       "<IPython.core.display.HTML object>"
      ]
     },
     "metadata": {},
     "output_type": "display_data"
    }
   ],
   "source": [
    "draw_bar_graph_count_mean_and_std_dev(results_df.transpose())"
   ]
  },
  {
   "cell_type": "code",
   "execution_count": 198,
   "metadata": {
    "ExecuteTime": {
     "end_time": "2019-02-13T17:01:30.758118Z",
     "start_time": "2019-02-13T17:01:30.628789Z"
    }
   },
   "outputs": [
    {
     "data": {
      "text/html": [
       "<div id=\"841b636e-1fe7-40d0-9b0c-06d0f51d12c7\" style=\"height: 525px; width: 100%;\" class=\"plotly-graph-div\"></div><script type=\"text/javascript\">require([\"plotly\"], function(Plotly) { window.PLOTLYENV=window.PLOTLYENV || {};window.PLOTLYENV.BASE_URL=\"https://plot.ly\";Plotly.newPlot(\"841b636e-1fe7-40d0-9b0c-06d0f51d12c7\", [{\"type\": \"bar\", \"x\": [\"Wo-BiLSTM\", \"Wo-BiLSTM-CRF\", \"Wo-LSTM\", \"Wo-LSTM-CRF\", \"WoCh-BiLSTM\", \"WoCh-BiLSTM-CRF\", \"WoCh-LSTM\", \"WoCh-LSTM-CRF\"], \"y\": [80.85, 84.62, 77.67, 84.43, 81.75, 84.54, 78.74, 84.96], \"name\": \"fastText-wiki\", \"error_y\": {\"type\": \"data\", \"array\": [1.98, 1.04, 1.29, 0.55, 0.92, 0.35, 0.53, 0.58], \"visible\": true}}, {\"type\": \"bar\", \"x\": [\"Wo-BiLSTM\", \"Wo-BiLSTM-CRF\", \"Wo-LSTM\", \"Wo-LSTM-CRF\", \"WoCh-BiLSTM\", \"WoCh-BiLSTM-CRF\", \"WoCh-LSTM\", \"WoCh-LSTM-CRF\"], \"y\": [83.08, 84.97, 81.28, 85.64, 83.64, 86.05, 80.91, 85.37], \"name\": \"Glove 42B\", \"error_y\": {\"type\": \"data\", \"array\": [0.37, 1.22, 0.6, 0.28, 1.04, 0.37, 1.33, 0.57], \"visible\": true}}, {\"type\": \"bar\", \"x\": [\"Wo-BiLSTM\", \"Wo-BiLSTM-CRF\", \"Wo-LSTM\", \"Wo-LSTM-CRF\", \"WoCh-BiLSTM\", \"WoCh-BiLSTM-CRF\", \"WoCh-LSTM\", \"WoCh-LSTM-CRF\"], \"y\": [83.17, 85.28, 80.8, 85.46, 83.27, 85.69, 79.91, 85.25], \"name\": \"fastText-crawl\", \"error_y\": {\"type\": \"data\", \"array\": [0.54, 0.46, 1.49, 0.21, 0.61, 0.64, 1.85, 0.46], \"visible\": true}}, {\"type\": \"bar\", \"x\": [\"Wo-BiLSTM\", \"Wo-BiLSTM-CRF\", \"Wo-LSTM\", \"Wo-LSTM-CRF\", \"WoCh-BiLSTM\", \"WoCh-BiLSTM-CRF\", \"WoCh-LSTM\", \"WoCh-LSTM-CRF\"], \"y\": [50.49, 50.63, 48.78, 52.09, 69.53, 73.5, 65.81, 72.84], \"name\": \"Amazon Reviews\", \"error_y\": {\"type\": \"data\", \"array\": [0.87, 0.5, 1.02, 0.98, 1.52, 0.91, 2.3, 0.62], \"visible\": true}}, {\"type\": \"bar\", \"x\": [\"Wo-BiLSTM\", \"Wo-BiLSTM-CRF\", \"Wo-LSTM\", \"Wo-LSTM-CRF\", \"WoCh-BiLSTM\", \"WoCh-BiLSTM-CRF\", \"WoCh-LSTM\", \"WoCh-LSTM-CRF\"], \"y\": [81.3, 84.01, 75.04, 82.52, 79.47, 84.16, 78.04, 82.79], \"name\": \"Glove 6B 100\", \"error_y\": {\"type\": \"data\", \"array\": [0.28, 0.49, 1.81, 0.46, 2.27, 0.34, 0.69, 0.51], \"visible\": true}}, {\"type\": \"bar\", \"x\": [\"Wo-BiLSTM\", \"Wo-BiLSTM-CRF\", \"Wo-LSTM\", \"Wo-LSTM-CRF\", \"WoCh-BiLSTM\", \"WoCh-BiLSTM-CRF\", \"WoCh-LSTM\", \"WoCh-LSTM-CRF\"], \"y\": [78.57, 82.31, 76.26, 82.19, 80.89, 82.85, 76.11, 82.92], \"name\": \"numberbatch\", \"error_y\": {\"type\": \"data\", \"array\": [1.04, 0.47, 0.75, 0.84, 0.26, 0.41, 1.9, 0.33], \"visible\": true}}, {\"type\": \"bar\", \"x\": [\"Wo-BiLSTM\", \"Wo-BiLSTM-CRF\", \"Wo-LSTM\", \"Wo-LSTM-CRF\", \"WoCh-BiLSTM\", \"WoCh-BiLSTM-CRF\", \"WoCh-LSTM\", \"WoCh-LSTM-CRF\"], \"y\": [75.97, 79.03, 70.24, 76.16, 77.64, 80.79, 73.35, 79.38], \"name\": \"Glove 6B 50\", \"error_y\": {\"type\": \"data\", \"array\": [0.7, 0.64, 2.9, 0.77, 1.33, 0.42, 1.63, 0.4], \"visible\": true}}, {\"type\": \"bar\", \"x\": [\"Wo-BiLSTM\", \"Wo-BiLSTM-CRF\", \"Wo-LSTM\", \"Wo-LSTM-CRF\", \"WoCh-BiLSTM\", \"WoCh-BiLSTM-CRF\", \"WoCh-LSTM\", \"WoCh-LSTM-CRF\"], \"y\": [83.56, 84.96, 80.91, 85.02, 83.55, 85.2, 81.26, 84.91], \"name\": \"Glove 840B\", \"error_y\": {\"type\": \"data\", \"array\": [0.22, 0.54, 1.1, 0.23, 0.3, 0.28, 0.42, 0.38], \"visible\": true}}, {\"type\": \"bar\", \"x\": [\"Wo-BiLSTM\", \"Wo-BiLSTM-CRF\", \"Wo-LSTM\", \"Wo-LSTM-CRF\", \"WoCh-BiLSTM\", \"WoCh-BiLSTM-CRF\", \"WoCh-LSTM\", \"WoCh-LSTM-CRF\"], \"y\": [82.09, 83.81, 78.69, 83.26, 80.87, 83.74, 78.3, 83.3], \"name\": \"Glove 6B 200\", \"error_y\": {\"type\": \"data\", \"array\": [0.7, 0.19, 1.3, 0.33, 0.85, 0.56, 0.81, 0.2], \"visible\": true}}, {\"type\": \"bar\", \"x\": [\"Wo-BiLSTM\", \"Wo-BiLSTM-CRF\", \"Wo-LSTM\", \"Wo-LSTM-CRF\", \"WoCh-BiLSTM\", \"WoCh-BiLSTM-CRF\", \"WoCh-LSTM\", \"WoCh-LSTM-CRF\"], \"y\": [81.31, 82.99, 79.22, 82.7, 81.5, 83.26, 78.7, 82.56], \"name\": \"Glove 6B 300\", \"error_y\": {\"type\": \"data\", \"array\": [0.61, 0.53, 0.58, 0.78, 0.68, 0.53, 0.54, 0.66], \"visible\": true}}, {\"type\": \"bar\", \"x\": [\"Wo-BiLSTM\", \"Wo-BiLSTM-CRF\", \"Wo-LSTM\", \"Wo-LSTM-CRF\", \"WoCh-BiLSTM\", \"WoCh-BiLSTM-CRF\", \"WoCh-LSTM\", \"WoCh-LSTM-CRF\"], \"y\": [80.16, 82.94, 77.73, 82.49, 81.39, 83.61, 78.15, 84.12], \"name\": \"word2vec\", \"error_y\": {\"type\": \"data\", \"array\": [0.74, 0.51, 0.74, 0.32, 1.08, 1.35, 0.54, 0.3], \"visible\": true}}], {\"barmode\": \"group\"}, {\"showLink\": true, \"linkText\": \"Export to plot.ly\"})});</script>"
      ],
      "text/plain": [
       "<IPython.core.display.HTML object>"
      ]
     },
     "metadata": {},
     "output_type": "display_data"
    }
   ],
   "source": [
    "draw_bar_graph_count_mean_and_std_dev(results_df)"
   ]
  },
  {
   "cell_type": "code",
   "execution_count": 199,
   "metadata": {
    "ExecuteTime": {
     "end_time": "2019-02-13T17:01:31.665018Z",
     "start_time": "2019-02-13T17:01:31.646667Z"
    }
   },
   "outputs": [],
   "source": [
    "# lstms_pairs = [\n",
    "#     ('')\n",
    "# ]"
   ]
  },
  {
   "cell_type": "code",
   "execution_count": 200,
   "metadata": {
    "ExecuteTime": {
     "end_time": "2019-02-13T17:01:34.333100Z",
     "start_time": "2019-02-13T17:01:34.295062Z"
    }
   },
   "outputs": [
    {
     "data": {
      "text/html": [
       "<div>\n",
       "<style scoped>\n",
       "    .dataframe tbody tr th:only-of-type {\n",
       "        vertical-align: middle;\n",
       "    }\n",
       "\n",
       "    .dataframe tbody tr th {\n",
       "        vertical-align: top;\n",
       "    }\n",
       "\n",
       "    .dataframe thead th {\n",
       "        text-align: right;\n",
       "    }\n",
       "</style>\n",
       "<table border=\"1\" class=\"dataframe\">\n",
       "  <thead>\n",
       "    <tr style=\"text-align: right;\">\n",
       "      <th></th>\n",
       "      <th>Wo-LSTM</th>\n",
       "      <th>WoCh-LSTM</th>\n",
       "      <th>Wo-LSTM-CRF</th>\n",
       "      <th>WoCh-LSTM-CRF</th>\n",
       "      <th>Wo-BiLSTM</th>\n",
       "      <th>WoCh-BiLSTM</th>\n",
       "      <th>Wo-BiLSTM-CRF</th>\n",
       "      <th>WoCh-BiLSTM-CRF</th>\n",
       "    </tr>\n",
       "  </thead>\n",
       "  <tbody>\n",
       "    <tr>\n",
       "      <th>fastText-wiki</th>\n",
       "      <td>77.67</td>\n",
       "      <td>78.74</td>\n",
       "      <td>84.43</td>\n",
       "      <td>84.96</td>\n",
       "      <td>80.85</td>\n",
       "      <td>81.75</td>\n",
       "      <td>84.62</td>\n",
       "      <td>84.54</td>\n",
       "    </tr>\n",
       "    <tr>\n",
       "      <th>Glove 42B</th>\n",
       "      <td>81.28</td>\n",
       "      <td>80.91</td>\n",
       "      <td>85.64</td>\n",
       "      <td>85.37</td>\n",
       "      <td>83.08</td>\n",
       "      <td>83.64</td>\n",
       "      <td>84.97</td>\n",
       "      <td>86.05</td>\n",
       "    </tr>\n",
       "    <tr>\n",
       "      <th>fastText-crawl</th>\n",
       "      <td>80.80</td>\n",
       "      <td>79.91</td>\n",
       "      <td>85.46</td>\n",
       "      <td>85.25</td>\n",
       "      <td>83.17</td>\n",
       "      <td>83.27</td>\n",
       "      <td>85.28</td>\n",
       "      <td>85.69</td>\n",
       "    </tr>\n",
       "    <tr>\n",
       "      <th>Amazon Reviews</th>\n",
       "      <td>48.78</td>\n",
       "      <td>65.81</td>\n",
       "      <td>52.09</td>\n",
       "      <td>72.84</td>\n",
       "      <td>50.49</td>\n",
       "      <td>69.53</td>\n",
       "      <td>50.63</td>\n",
       "      <td>73.50</td>\n",
       "    </tr>\n",
       "    <tr>\n",
       "      <th>Glove 6B 100</th>\n",
       "      <td>75.04</td>\n",
       "      <td>78.04</td>\n",
       "      <td>82.52</td>\n",
       "      <td>82.79</td>\n",
       "      <td>81.30</td>\n",
       "      <td>79.47</td>\n",
       "      <td>84.01</td>\n",
       "      <td>84.16</td>\n",
       "    </tr>\n",
       "    <tr>\n",
       "      <th>numberbatch</th>\n",
       "      <td>76.26</td>\n",
       "      <td>76.11</td>\n",
       "      <td>82.19</td>\n",
       "      <td>82.92</td>\n",
       "      <td>78.57</td>\n",
       "      <td>80.89</td>\n",
       "      <td>82.31</td>\n",
       "      <td>82.85</td>\n",
       "    </tr>\n",
       "    <tr>\n",
       "      <th>Glove 6B 50</th>\n",
       "      <td>70.24</td>\n",
       "      <td>73.35</td>\n",
       "      <td>76.16</td>\n",
       "      <td>79.38</td>\n",
       "      <td>75.97</td>\n",
       "      <td>77.64</td>\n",
       "      <td>79.03</td>\n",
       "      <td>80.79</td>\n",
       "    </tr>\n",
       "    <tr>\n",
       "      <th>Glove 840B</th>\n",
       "      <td>80.91</td>\n",
       "      <td>81.26</td>\n",
       "      <td>85.02</td>\n",
       "      <td>84.91</td>\n",
       "      <td>83.56</td>\n",
       "      <td>83.55</td>\n",
       "      <td>84.96</td>\n",
       "      <td>85.20</td>\n",
       "    </tr>\n",
       "    <tr>\n",
       "      <th>Glove 6B 200</th>\n",
       "      <td>78.69</td>\n",
       "      <td>78.30</td>\n",
       "      <td>83.26</td>\n",
       "      <td>83.30</td>\n",
       "      <td>82.09</td>\n",
       "      <td>80.87</td>\n",
       "      <td>83.81</td>\n",
       "      <td>83.74</td>\n",
       "    </tr>\n",
       "    <tr>\n",
       "      <th>Glove 6B 300</th>\n",
       "      <td>79.22</td>\n",
       "      <td>78.70</td>\n",
       "      <td>82.70</td>\n",
       "      <td>82.56</td>\n",
       "      <td>81.31</td>\n",
       "      <td>81.50</td>\n",
       "      <td>82.99</td>\n",
       "      <td>83.26</td>\n",
       "    </tr>\n",
       "    <tr>\n",
       "      <th>word2vec</th>\n",
       "      <td>77.73</td>\n",
       "      <td>78.15</td>\n",
       "      <td>82.49</td>\n",
       "      <td>84.12</td>\n",
       "      <td>80.16</td>\n",
       "      <td>81.39</td>\n",
       "      <td>82.94</td>\n",
       "      <td>83.61</td>\n",
       "    </tr>\n",
       "  </tbody>\n",
       "</table>\n",
       "</div>"
      ],
      "text/plain": [
       "                Wo-LSTM  WoCh-LSTM  Wo-LSTM-CRF  WoCh-LSTM-CRF  Wo-BiLSTM  \\\n",
       "fastText-wiki     77.67      78.74        84.43          84.96      80.85   \n",
       "Glove 42B         81.28      80.91        85.64          85.37      83.08   \n",
       "fastText-crawl    80.80      79.91        85.46          85.25      83.17   \n",
       "Amazon Reviews    48.78      65.81        52.09          72.84      50.49   \n",
       "Glove 6B 100      75.04      78.04        82.52          82.79      81.30   \n",
       "numberbatch       76.26      76.11        82.19          82.92      78.57   \n",
       "Glove 6B 50       70.24      73.35        76.16          79.38      75.97   \n",
       "Glove 840B        80.91      81.26        85.02          84.91      83.56   \n",
       "Glove 6B 200      78.69      78.30        83.26          83.30      82.09   \n",
       "Glove 6B 300      79.22      78.70        82.70          82.56      81.31   \n",
       "word2vec          77.73      78.15        82.49          84.12      80.16   \n",
       "\n",
       "                WoCh-BiLSTM  Wo-BiLSTM-CRF  WoCh-BiLSTM-CRF  \n",
       "fastText-wiki         81.75          84.62            84.54  \n",
       "Glove 42B             83.64          84.97            86.05  \n",
       "fastText-crawl        83.27          85.28            85.69  \n",
       "Amazon Reviews        69.53          50.63            73.50  \n",
       "Glove 6B 100          79.47          84.01            84.16  \n",
       "numberbatch           80.89          82.31            82.85  \n",
       "Glove 6B 50           77.64          79.03            80.79  \n",
       "Glove 840B            83.55          84.96            85.20  \n",
       "Glove 6B 200          80.87          83.81            83.74  \n",
       "Glove 6B 300          81.50          82.99            83.26  \n",
       "word2vec              81.39          82.94            83.61  "
      ]
     },
     "execution_count": 200,
     "metadata": {},
     "output_type": "execute_result"
    }
   ],
   "source": [
    "results_df_avg.transpose()"
   ]
  },
  {
   "cell_type": "code",
   "execution_count": 201,
   "metadata": {
    "ExecuteTime": {
     "end_time": "2019-02-13T17:01:35.140897Z",
     "start_time": "2019-02-13T17:01:35.120500Z"
    }
   },
   "outputs": [],
   "source": [
    "import seaborn as sns; sns.set(color_codes=True)"
   ]
  },
  {
   "cell_type": "code",
   "execution_count": 202,
   "metadata": {
    "ExecuteTime": {
     "end_time": "2019-02-13T17:01:36.153737Z",
     "start_time": "2019-02-13T17:01:35.858154Z"
    },
    "scrolled": true
   },
   "outputs": [
    {
     "data": {
      "image/png": "[encoded data removed]",
      "text/plain": [
       "<Figure size 576x396 with 1 Axes>"
      ]
     },
     "metadata": {},
     "output_type": "display_data"
    }
   ],
   "source": [
    "for nn in results_df_avg.index:\n",
    "    sns.kdeplot(results_df_avg.transpose()[nn], shade=True)"
   ]
  },
  {
   "cell_type": "markdown",
   "metadata": {},
   "source": [
    "# Statistical tests"
   ]
  },
  {
   "cell_type": "markdown",
   "metadata": {},
   "source": [
    "## Nemeneyi "
   ]
  },
  {
   "cell_type": "code",
   "execution_count": 203,
   "metadata": {
    "ExecuteTime": {
     "end_time": "2019-02-13T17:01:37.710392Z",
     "start_time": "2019-02-13T17:01:37.680081Z"
    }
   },
   "outputs": [
    {
     "data": {
      "text/html": [
       "<div>\n",
       "<style scoped>\n",
       "    .dataframe tbody tr th:only-of-type {\n",
       "        vertical-align: middle;\n",
       "    }\n",
       "\n",
       "    .dataframe tbody tr th {\n",
       "        vertical-align: top;\n",
       "    }\n",
       "\n",
       "    .dataframe thead th {\n",
       "        text-align: right;\n",
       "    }\n",
       "</style>\n",
       "<table border=\"1\" class=\"dataframe\">\n",
       "  <thead>\n",
       "    <tr style=\"text-align: right;\">\n",
       "      <th></th>\n",
       "      <th>fastText-wiki</th>\n",
       "      <th>Glove 42B</th>\n",
       "      <th>fastText-crawl</th>\n",
       "      <th>Amazon Reviews</th>\n",
       "      <th>Glove 6B 100</th>\n",
       "      <th>numberbatch</th>\n",
       "      <th>Glove 6B 50</th>\n",
       "      <th>Glove 840B</th>\n",
       "      <th>Glove 6B 200</th>\n",
       "      <th>Glove 6B 300</th>\n",
       "      <th>word2vec</th>\n",
       "    </tr>\n",
       "  </thead>\n",
       "  <tbody>\n",
       "    <tr>\n",
       "      <th>Wo-LSTM</th>\n",
       "      <td>77.67</td>\n",
       "      <td>81.28</td>\n",
       "      <td>80.80</td>\n",
       "      <td>48.78</td>\n",
       "      <td>75.04</td>\n",
       "      <td>76.26</td>\n",
       "      <td>70.24</td>\n",
       "      <td>80.91</td>\n",
       "      <td>78.69</td>\n",
       "      <td>79.22</td>\n",
       "      <td>77.73</td>\n",
       "    </tr>\n",
       "    <tr>\n",
       "      <th>WoCh-LSTM</th>\n",
       "      <td>78.74</td>\n",
       "      <td>80.91</td>\n",
       "      <td>79.91</td>\n",
       "      <td>65.81</td>\n",
       "      <td>78.04</td>\n",
       "      <td>76.11</td>\n",
       "      <td>73.35</td>\n",
       "      <td>81.26</td>\n",
       "      <td>78.30</td>\n",
       "      <td>78.70</td>\n",
       "      <td>78.15</td>\n",
       "    </tr>\n",
       "    <tr>\n",
       "      <th>Wo-LSTM-CRF</th>\n",
       "      <td>84.43</td>\n",
       "      <td>85.64</td>\n",
       "      <td>85.46</td>\n",
       "      <td>52.09</td>\n",
       "      <td>82.52</td>\n",
       "      <td>82.19</td>\n",
       "      <td>76.16</td>\n",
       "      <td>85.02</td>\n",
       "      <td>83.26</td>\n",
       "      <td>82.70</td>\n",
       "      <td>82.49</td>\n",
       "    </tr>\n",
       "    <tr>\n",
       "      <th>WoCh-LSTM-CRF</th>\n",
       "      <td>84.96</td>\n",
       "      <td>85.37</td>\n",
       "      <td>85.25</td>\n",
       "      <td>72.84</td>\n",
       "      <td>82.79</td>\n",
       "      <td>82.92</td>\n",
       "      <td>79.38</td>\n",
       "      <td>84.91</td>\n",
       "      <td>83.30</td>\n",
       "      <td>82.56</td>\n",
       "      <td>84.12</td>\n",
       "    </tr>\n",
       "    <tr>\n",
       "      <th>Wo-BiLSTM</th>\n",
       "      <td>80.85</td>\n",
       "      <td>83.08</td>\n",
       "      <td>83.17</td>\n",
       "      <td>50.49</td>\n",
       "      <td>81.30</td>\n",
       "      <td>78.57</td>\n",
       "      <td>75.97</td>\n",
       "      <td>83.56</td>\n",
       "      <td>82.09</td>\n",
       "      <td>81.31</td>\n",
       "      <td>80.16</td>\n",
       "    </tr>\n",
       "    <tr>\n",
       "      <th>WoCh-BiLSTM</th>\n",
       "      <td>81.75</td>\n",
       "      <td>83.64</td>\n",
       "      <td>83.27</td>\n",
       "      <td>69.53</td>\n",
       "      <td>79.47</td>\n",
       "      <td>80.89</td>\n",
       "      <td>77.64</td>\n",
       "      <td>83.55</td>\n",
       "      <td>80.87</td>\n",
       "      <td>81.50</td>\n",
       "      <td>81.39</td>\n",
       "    </tr>\n",
       "    <tr>\n",
       "      <th>Wo-BiLSTM-CRF</th>\n",
       "      <td>84.62</td>\n",
       "      <td>84.97</td>\n",
       "      <td>85.28</td>\n",
       "      <td>50.63</td>\n",
       "      <td>84.01</td>\n",
       "      <td>82.31</td>\n",
       "      <td>79.03</td>\n",
       "      <td>84.96</td>\n",
       "      <td>83.81</td>\n",
       "      <td>82.99</td>\n",
       "      <td>82.94</td>\n",
       "    </tr>\n",
       "    <tr>\n",
       "      <th>WoCh-BiLSTM-CRF</th>\n",
       "      <td>84.54</td>\n",
       "      <td>86.05</td>\n",
       "      <td>85.69</td>\n",
       "      <td>73.50</td>\n",
       "      <td>84.16</td>\n",
       "      <td>82.85</td>\n",
       "      <td>80.79</td>\n",
       "      <td>85.20</td>\n",
       "      <td>83.74</td>\n",
       "      <td>83.26</td>\n",
       "      <td>83.61</td>\n",
       "    </tr>\n",
       "  </tbody>\n",
       "</table>\n",
       "</div>"
      ],
      "text/plain": [
       "                 fastText-wiki  Glove 42B  fastText-crawl  Amazon Reviews  \\\n",
       "Wo-LSTM                  77.67      81.28           80.80           48.78   \n",
       "WoCh-LSTM                78.74      80.91           79.91           65.81   \n",
       "Wo-LSTM-CRF              84.43      85.64           85.46           52.09   \n",
       "WoCh-LSTM-CRF            84.96      85.37           85.25           72.84   \n",
       "Wo-BiLSTM                80.85      83.08           83.17           50.49   \n",
       "WoCh-BiLSTM              81.75      83.64           83.27           69.53   \n",
       "Wo-BiLSTM-CRF            84.62      84.97           85.28           50.63   \n",
       "WoCh-BiLSTM-CRF          84.54      86.05           85.69           73.50   \n",
       "\n",
       "                 Glove 6B 100  numberbatch  Glove 6B 50  Glove 840B  \\\n",
       "Wo-LSTM                 75.04        76.26        70.24       80.91   \n",
       "WoCh-LSTM               78.04        76.11        73.35       81.26   \n",
       "Wo-LSTM-CRF             82.52        82.19        76.16       85.02   \n",
       "WoCh-LSTM-CRF           82.79        82.92        79.38       84.91   \n",
       "Wo-BiLSTM               81.30        78.57        75.97       83.56   \n",
       "WoCh-BiLSTM             79.47        80.89        77.64       83.55   \n",
       "Wo-BiLSTM-CRF           84.01        82.31        79.03       84.96   \n",
       "WoCh-BiLSTM-CRF         84.16        82.85        80.79       85.20   \n",
       "\n",
       "                 Glove 6B 200  Glove 6B 300  word2vec  \n",
       "Wo-LSTM                 78.69         79.22     77.73  \n",
       "WoCh-LSTM               78.30         78.70     78.15  \n",
       "Wo-LSTM-CRF             83.26         82.70     82.49  \n",
       "WoCh-LSTM-CRF           83.30         82.56     84.12  \n",
       "Wo-BiLSTM               82.09         81.31     80.16  \n",
       "WoCh-BiLSTM             80.87         81.50     81.39  \n",
       "Wo-BiLSTM-CRF           83.81         82.99     82.94  \n",
       "WoCh-BiLSTM-CRF         83.74         83.26     83.61  "
      ]
     },
     "execution_count": 203,
     "metadata": {},
     "output_type": "execute_result"
    }
   ],
   "source": [
    "results_df_avg"
   ]
  },
  {
   "cell_type": "code",
   "execution_count": 204,
   "metadata": {
    "ExecuteTime": {
     "end_time": "2019-02-13T17:01:38.470834Z",
     "start_time": "2019-02-13T17:01:38.445390Z"
    }
   },
   "outputs": [],
   "source": [
    "def compare_no_control(df: pd.DataFrame, use_rank: bool):\n",
    "    r_df = pandas2ri.py2ri(df)\n",
    "    friedman_test = scmamp.multipleComparisonTest(r_df, test='iman')\n",
    "    friedman_p_value = friedman_test.rx2('p.value')[0]\n",
    "    ranks, _, posthoc_pvals = scmamp.postHocTest(\n",
    "        data=r_df, test=\"friedman\", correct=\"hommel\", use_rank=use_rank)\n",
    "    c_pval = pd.DataFrame(\n",
    "        np.asarray(posthoc_pvals), columns=df.columns, index=df.columns)\n",
    "    return friedman_p_value, list(ranks), c_pval"
   ]
  },
  {
   "cell_type": "code",
   "execution_count": 205,
   "metadata": {
    "ExecuteTime": {
     "end_time": "2019-02-13T17:01:40.022661Z",
     "start_time": "2019-02-13T17:01:39.999762Z"
    }
   },
   "outputs": [
    {
     "ename": "TypeError",
     "evalue": "'rpy2.rinterface.RNULLType' object is not iterable",
     "output_type": "error",
     "traceback": [
      "\u001b[0;31m---------------------------------------------------------------------------\u001b[0m",
      "\u001b[0;31mTypeError\u001b[0m                                 Traceback (most recent call last)",
      "\u001b[0;32m~/anaconda3/envs/python36/lib/python3.6/site-packages/IPython/core/formatters.py\u001b[0m in \u001b[0;36m__call__\u001b[0;34m(self, obj)\u001b[0m\n\u001b[1;32m    343\u001b[0m             \u001b[0mmethod\u001b[0m \u001b[0;34m=\u001b[0m \u001b[0mget_real_method\u001b[0m\u001b[0;34m(\u001b[0m\u001b[0mobj\u001b[0m\u001b[0;34m,\u001b[0m \u001b[0mself\u001b[0m\u001b[0;34m.\u001b[0m\u001b[0mprint_method\u001b[0m\u001b[0;34m)\u001b[0m\u001b[0;34m\u001b[0m\u001b[0m\n\u001b[1;32m    344\u001b[0m             \u001b[0;32mif\u001b[0m \u001b[0mmethod\u001b[0m \u001b[0;32mis\u001b[0m \u001b[0;32mnot\u001b[0m \u001b[0;32mNone\u001b[0m\u001b[0;34m:\u001b[0m\u001b[0;34m\u001b[0m\u001b[0m\n\u001b[0;32m--> 345\u001b[0;31m                 \u001b[0;32mreturn\u001b[0m \u001b[0mmethod\u001b[0m\u001b[0;34m(\u001b[0m\u001b[0;34m)\u001b[0m\u001b[0;34m\u001b[0m\u001b[0m\n\u001b[0m\u001b[1;32m    346\u001b[0m             \u001b[0;32mreturn\u001b[0m \u001b[0;32mNone\u001b[0m\u001b[0;34m\u001b[0m\u001b[0m\n\u001b[1;32m    347\u001b[0m         \u001b[0;32melse\u001b[0m\u001b[0;34m:\u001b[0m\u001b[0;34m\u001b[0m\u001b[0m\n",
      "\u001b[0;32m~/anaconda3/envs/python36/lib/python3.6/site-packages/rpy2/robjects/vectors.py\u001b[0m in \u001b[0;36m_repr_html_\u001b[0;34m(self, max_items)\u001b[0m\n\u001b[1;32m    688\u001b[0m         \u001b[0mnames\u001b[0m \u001b[0;34m=\u001b[0m \u001b[0mlist\u001b[0m\u001b[0;34m(\u001b[0m\u001b[0;34m)\u001b[0m\u001b[0;34m\u001b[0m\u001b[0m\n\u001b[1;32m    689\u001b[0m         \u001b[0;32mif\u001b[0m \u001b[0mlen\u001b[0m\u001b[0;34m(\u001b[0m\u001b[0mself\u001b[0m\u001b[0;34m)\u001b[0m \u001b[0;34m<=\u001b[0m \u001b[0mmax_items\u001b[0m\u001b[0;34m:\u001b[0m\u001b[0;34m\u001b[0m\u001b[0m\n\u001b[0;32m--> 690\u001b[0;31m             \u001b[0mnames\u001b[0m\u001b[0;34m.\u001b[0m\u001b[0mextend\u001b[0m\u001b[0;34m(\u001b[0m\u001b[0mself\u001b[0m\u001b[0;34m.\u001b[0m\u001b[0mnames\u001b[0m\u001b[0;34m)\u001b[0m\u001b[0;34m\u001b[0m\u001b[0m\n\u001b[0m\u001b[1;32m    691\u001b[0m         \u001b[0;32melse\u001b[0m\u001b[0;34m:\u001b[0m\u001b[0;34m\u001b[0m\u001b[0m\n\u001b[1;32m    692\u001b[0m             \u001b[0mhalf_items\u001b[0m \u001b[0;34m=\u001b[0m \u001b[0mmax_items\u001b[0m \u001b[0;34m//\u001b[0m \u001b[0;36m2\u001b[0m\u001b[0;34m\u001b[0m\u001b[0m\n",
      "\u001b[0;31mTypeError\u001b[0m: 'rpy2.rinterface.RNULLType' object is not iterable"
     ]
    },
    {
     "data": {
      "text/plain": [
       "R object with classes: ('list',) mapped to:\n",
       "<ListVector - Python:0x7fbcf5673508 / R:0x5574b10e4348>\n",
       "[RNULLType, RNULLType, RNULLType, RNULLType]\n",
       "  <no name>: <class 'rpy2.rinterface.RNULLType'>\n",
       "  rpy2.rinterface.NULL\n",
       "  <no name>: <class 'rpy2.rinterface.RNULLType'>\n",
       "  rpy2.rinterface.NULL\n",
       "  <no name>: <class 'rpy2.rinterface.RNULLType'>\n",
       "  rpy2.rinterface.NULL\n",
       "  <no name>: <class 'rpy2.rinterface.RNULLType'>\n",
       "  rpy2.rinterface.NULL"
      ]
     },
     "execution_count": 91,
     "metadata": {},
     "output_type": "execute_result"
    }
   ],
   "source": [
    "def plot_nemenyi_with_cd(df):\n",
    "    _, avranks, _ = compare_no_control(df, True)\n",
    "        \n",
    "    cd = Orange.evaluation.compute_CD(avranks, df.shape[0])\n",
    "    Orange.evaluation.graph_ranks(\n",
    "        avranks,\n",
    "        list(df.columns),\n",
    "        cd=cd,\n",
    "        width=10,\n",
    "        textspace=1.5\n",
    "    )\n",
    "    plt.show()"
   ]
  },
  {
   "cell_type": "markdown",
   "metadata": {},
   "source": [
    "### Embeddings"
   ]
  },
  {
   "cell_type": "code",
   "execution_count": 206,
   "metadata": {
    "ExecuteTime": {
     "end_time": "2019-02-13T17:01:40.667242Z",
     "start_time": "2019-02-13T17:01:40.474957Z"
    }
   },
   "outputs": [
    {
     "data": {
      "image/png": "[encoded data removed]",
      "text/plain": [
       "<Figure size 720x183.6 with 1 Axes>"
      ]
     },
     "metadata": {},
     "output_type": "display_data"
    }
   ],
   "source": [
    "plot_nemenyi_with_cd(results_df_avg)"
   ]
  },
  {
   "cell_type": "markdown",
   "metadata": {},
   "source": [
    "## Bergmann"
   ]
  },
  {
   "cell_type": "code",
   "execution_count": 208,
   "metadata": {
    "ExecuteTime": {
     "end_time": "2019-02-13T18:36:31.932918Z",
     "start_time": "2019-02-13T18:36:31.744614Z"
    }
   },
   "outputs": [
    {
     "data": {
      "image/png": "[encoded data removed]",
      "text/plain": [
       "<Figure size 720x162 with 1 Axes>"
      ]
     },
     "metadata": {},
     "output_type": "display_data"
    }
   ],
   "source": [
    "plot_nemenyi_with_cd(results_df_avg.transpose())"
   ]
  },
  {
   "cell_type": "code",
   "execution_count": 107,
   "metadata": {
    "ExecuteTime": {
     "end_time": "2019-02-13T16:27:23.011740Z",
     "start_time": "2019-02-13T16:27:22.992135Z"
    }
   },
   "outputs": [],
   "source": [
    "# scmamp.plotCD(r_df, alpha=0.05, cex=0.55)\n",
    "\n",
    "# friedman_test = scmamp.multipleComparisonTest(r_df, control = 'NoEmbedding', test='iman')\n",
    "# friedman_p_value = friedman_test.rx2('p.value')[0]\n",
    "# ranks, _, posthoc_pvals = scmamp.postHocTest(data=r_df, test=\"friedman\", control = 'NoEmbedding', correct=\"holland\", use_rank = True)"
   ]
  },
  {
   "cell_type": "markdown",
   "metadata": {},
   "source": [
    "# Check coverage of words in embeddings for aspect datasets"
   ]
  },
  {
   "cell_type": "markdown",
   "metadata": {},
   "source": [
    "## Create corpus "
   ]
  },
  {
   "cell_type": "code",
   "execution_count": 3,
   "metadata": {
    "ExecuteTime": {
     "end_time": "2019-02-04T14:17:34.335344Z",
     "start_time": "2019-02-04T14:17:34.097855Z"
    }
   },
   "outputs": [
    {
     "name": "stderr",
     "output_type": "stream",
     "text": [
      "Corpus iterator: 49475it [00:00, 541770.29it/s]\n",
      "Corpus iterator: 53781it [00:00, 974902.28it/s]\n",
      "Corpus iterator: 12470it [00:00, 909854.24it/s]\n",
      "Corpus iterator: 13257it [00:00, 584990.04it/s]\n"
     ]
    }
   ],
   "source": [
    "corpus_words = statistics_dataset.get_unique_words_from_corpus()\n",
    "\n",
    "from more_itertools import flatten\n",
    "\n",
    "corpus_words_all = set(flatten(corpus_words.values()))\n",
    "\n",
    "len(corpus_words_all)"
   ]
  },
  {
   "cell_type": "code",
   "execution_count": 9,
   "metadata": {
    "ExecuteTime": {
     "end_time": "2019-02-04T14:18:49.563984Z",
     "start_time": "2019-02-04T14:18:49.521524Z"
    }
   },
   "outputs": [],
   "source": [
    "def load_word_embeddings(file_path):\n",
    "    with open(file_path, encoding='utf-8') as fp:\n",
    "        words = []\n",
    "        try:\n",
    "            for line in tqdm_notebook(fp, desc=file_path + ': embedding loading'):\n",
    "                line_fields = line.split()\n",
    "                if len(line_fields) < 5:\n",
    "                    continue\n",
    "                else:\n",
    "                    if line[0] == ' ':\n",
    "                        pass\n",
    "                    else:\n",
    "                        word = line_fields[0]\n",
    "                        try:\n",
    "                            pass\n",
    "                        except:\n",
    "                            continue\n",
    "                        words.append(word)\n",
    "        except UnicodeDecodeError:\n",
    "            pass\n",
    "    return set(words)"
   ]
  },
  {
   "cell_type": "code",
   "execution_count": 13,
   "metadata": {
    "ExecuteTime": {
     "end_time": "2019-02-04T14:35:47.571728Z",
     "start_time": "2019-02-04T14:35:47.523563Z"
    }
   },
   "outputs": [],
   "source": [
    "EMBEDDINGS_PATH = Path('/home/laugustyniak/data/embeddings/')\n",
    "\n",
    "EMBEDDINGS = [\n",
    "    'GoogleNews-vectors-negative300.txt',\n",
    "    'glove.6B.50d.txt',\n",
    "    'glove.6B.100d.txt',\n",
    "    'glove.6B.200d.txt',\n",
    "    'glove.6B.300d.txt',\n",
    "    'glove.twitter.27B.200d.txt',\n",
    "    'glove.42B.300d.txt',\n",
    "    'glove.840B.300d.txt',\n",
    "    'numberbatch-en.txt',\n",
    "    'crawl-300d-2M.vec',\n",
    "#     'wiki-news-300d-1M-subword.vec',\n",
    "    'wiki-news-300d-1M.vec',\n",
    "#     'bow2.words',\n",
    "#     'bow2.contexts',\n",
    "#     'bow5.words',\n",
    "#     'bow5.contexts',\n",
    "#     'deps.words',\n",
    "#     'deps.contexts',\n",
    "#     'sota-google.txt',\n",
    "#     'sota-retrofit-600.txt',\n",
    "#     'sota-sswe-50.txt',\n",
    "#     'sota-wiki-600.txt',\n",
    "    'sentic2vec.txt',\n",
    "#     'lexvec.commoncrawl.ngramsubwords.300d.W.pos.vectors',\n",
    "#     'lexvec.enwiki+newscrawl.300d.W.pos.vectors',    \n",
    "]"
   ]
  },
  {
   "cell_type": "code",
   "execution_count": 7,
   "metadata": {
    "ExecuteTime": {
     "end_time": "2019-01-14T13:04:27.960141Z",
     "start_time": "2019-01-14T13:00:16.781472Z"
    },
    "scrolled": true
   },
   "outputs": [
    {
     "data": {
      "application/vnd.jupyter.widget-view+json": {
       "model_id": "c9767a83ae8940178e0b8105b5037be9",
       "version_major": 2,
       "version_minor": 0
      },
      "text/plain": [
       "HBox(children=(IntProgress(value=0, max=12), HTML(value='')))"
      ]
     },
     "metadata": {},
     "output_type": "display_data"
    },
    {
     "data": {
      "application/vnd.jupyter.widget-view+json": {
       "model_id": "856770ffc6be41cda09e81eb65692d0e",
       "version_major": 2,
       "version_minor": 0
      },
      "text/plain": [
       "HBox(children=(IntProgress(value=1, bar_style='info', description='/home/laugustyniak/data/embeddings/GoogleNe…"
      ]
     },
     "metadata": {},
     "output_type": "display_data"
    },
    {
     "data": {
      "application/vnd.jupyter.widget-view+json": {
       "model_id": "1170d6a10b29403a818351a97156b7a1",
       "version_major": 2,
       "version_minor": 0
      },
      "text/plain": [
       "HBox(children=(IntProgress(value=1, bar_style='info', description='/home/laugustyniak/data/embeddings/glove.6B…"
      ]
     },
     "metadata": {},
     "output_type": "display_data"
    },
    {
     "data": {
      "application/vnd.jupyter.widget-view+json": {
       "model_id": "ad0aa20a634641b4aff8421dc21cae63",
       "version_major": 2,
       "version_minor": 0
      },
      "text/plain": [
       "HBox(children=(IntProgress(value=1, bar_style='info', description='/home/laugustyniak/data/embeddings/glove.6B…"
      ]
     },
     "metadata": {},
     "output_type": "display_data"
    },
    {
     "data": {
      "application/vnd.jupyter.widget-view+json": {
       "model_id": "c3ef74a1896e47f493b6981595e5ad44",
       "version_major": 2,
       "version_minor": 0
      },
      "text/plain": [
       "HBox(children=(IntProgress(value=1, bar_style='info', description='/home/laugustyniak/data/embeddings/glove.6B…"
      ]
     },
     "metadata": {},
     "output_type": "display_data"
    },
    {
     "data": {
      "application/vnd.jupyter.widget-view+json": {
       "model_id": "5356525014784e79830882ccb36244df",
       "version_major": 2,
       "version_minor": 0
      },
      "text/plain": [
       "HBox(children=(IntProgress(value=1, bar_style='info', description='/home/laugustyniak/data/embeddings/glove.6B…"
      ]
     },
     "metadata": {},
     "output_type": "display_data"
    },
    {
     "data": {
      "application/vnd.jupyter.widget-view+json": {
       "model_id": "dc2bdf66bdc44c749d4248f2dc7d282d",
       "version_major": 2,
       "version_minor": 0
      },
      "text/plain": [
       "HBox(children=(IntProgress(value=1, bar_style='info', description='/home/laugustyniak/data/embeddings/glove.tw…"
      ]
     },
     "metadata": {},
     "output_type": "display_data"
    },
    {
     "data": {
      "application/vnd.jupyter.widget-view+json": {
       "model_id": "d02282f79ad142319c018deb2a63be7d",
       "version_major": 2,
       "version_minor": 0
      },
      "text/plain": [
       "HBox(children=(IntProgress(value=1, bar_style='info', description='/home/laugustyniak/data/embeddings/glove.42…"
      ]
     },
     "metadata": {},
     "output_type": "display_data"
    },
    {
     "data": {
      "application/vnd.jupyter.widget-view+json": {
       "model_id": "316552e21cd04b9db1363b483788ba7a",
       "version_major": 2,
       "version_minor": 0
      },
      "text/plain": [
       "HBox(children=(IntProgress(value=1, bar_style='info', description='/home/laugustyniak/data/embeddings/glove.84…"
      ]
     },
     "metadata": {},
     "output_type": "display_data"
    },
    {
     "data": {
      "application/vnd.jupyter.widget-view+json": {
       "model_id": "e7018f45fb424d538e257da2982390dc",
       "version_major": 2,
       "version_minor": 0
      },
      "text/plain": [
       "HBox(children=(IntProgress(value=1, bar_style='info', description='/home/laugustyniak/data/embeddings/numberba…"
      ]
     },
     "metadata": {},
     "output_type": "display_data"
    },
    {
     "data": {
      "application/vnd.jupyter.widget-view+json": {
       "model_id": "aea00e91a73b463aa31abb922d71a93a",
       "version_major": 2,
       "version_minor": 0
      },
      "text/plain": [
       "HBox(children=(IntProgress(value=1, bar_style='info', description='/home/laugustyniak/data/embeddings/crawl-30…"
      ]
     },
     "metadata": {},
     "output_type": "display_data"
    },
    {
     "data": {
      "application/vnd.jupyter.widget-view+json": {
       "model_id": "2e685b2f5aa14239ae53daebf0cf15e4",
       "version_major": 2,
       "version_minor": 0
      },
      "text/plain": [
       "HBox(children=(IntProgress(value=1, bar_style='info', description='/home/laugustyniak/data/embeddings/wiki-new…"
      ]
     },
     "metadata": {},
     "output_type": "display_data"
    },
    {
     "data": {
      "application/vnd.jupyter.widget-view+json": {
       "model_id": "2127298e7473450ba5a8171216c04970",
       "version_major": 2,
       "version_minor": 0
      },
      "text/plain": [
       "HBox(children=(IntProgress(value=1, bar_style='info', description='/home/laugustyniak/data/embeddings/sentic2v…"
      ]
     },
     "metadata": {},
     "output_type": "display_data"
    },
    {
     "name": "stdout",
     "output_type": "stream",
     "text": [
      "\n"
     ]
    }
   ],
   "source": [
    "def get_word_embeddings_vocabularies(word_embedding_names):\n",
    "    return {\n",
    "        word_embedding_name: load_word_embeddings((EMBEDDINGS_PATH / word_embedding_name).as_posix())\n",
    "        for word_embedding_name \n",
    "        in tqdm_notebook(word_embedding_names)\n",
    "    }\n",
    "   \n",
    "word_embedding_vocabulalaries = get_word_embeddings_vocabularies(EMBEDDINGS)"
   ]
  },
  {
   "cell_type": "code",
   "execution_count": 8,
   "metadata": {
    "ExecuteTime": {
     "end_time": "2019-01-14T13:04:27.982307Z",
     "start_time": "2019-01-14T13:04:27.962313Z"
    }
   },
   "outputs": [],
   "source": [
    "def get_datasets_coverage_with_word_embedding(corpus_words, word_embedding_vocabulalaries):\n",
    "    word_embedding_coverage = {}\n",
    "    for word_embedding_name, vocabulary in word_embedding_vocabulalaries.items():\n",
    "        word_embedding_coverage[word_embedding_name] = {\n",
    "            corpus_name: len(words.difference(vocabulary))/len(words)\n",
    "            for corpus_name, words\n",
    "            in corpus_words.items()\n",
    "        }\n",
    "    return word_embedding_coverage"
   ]
  },
  {
   "cell_type": "code",
   "execution_count": 9,
   "metadata": {
    "ExecuteTime": {
     "end_time": "2019-01-14T13:04:28.004096Z",
     "start_time": "2019-01-14T13:04:27.984643Z"
    }
   },
   "outputs": [
    {
     "data": {
      "text/plain": [
       "{'Restaurants_poria-train': 4619,\n",
       " 'Laptops_poria-train': 4238,\n",
       " 'Laptops_poria-test': 1922,\n",
       " 'Restaurants_poria-test': 2270}"
      ]
     },
     "execution_count": 9,
     "metadata": {},
     "output_type": "execute_result"
    }
   ],
   "source": [
    "{k: len(v) for k, v in  corpus_words.items()}"
   ]
  },
  {
   "cell_type": "code",
   "execution_count": 10,
   "metadata": {
    "ExecuteTime": {
     "end_time": "2019-01-14T13:04:28.026190Z",
     "start_time": "2019-01-14T13:04:28.006553Z"
    }
   },
   "outputs": [
    {
     "data": {
      "text/plain": [
       "{'GoogleNews-vectors-negative300.txt': 2999993,\n",
       " 'glove.6B.50d.txt': 400000,\n",
       " 'glove.6B.100d.txt': 400000,\n",
       " 'glove.6B.200d.txt': 400000,\n",
       " 'glove.6B.300d.txt': 400000,\n",
       " 'glove.twitter.27B.200d.txt': 1193515,\n",
       " 'glove.42B.300d.txt': 1917494,\n",
       " 'glove.840B.300d.txt': 2195884,\n",
       " 'numberbatch-en.txt': 417194,\n",
       " 'crawl-300d-2M.vec': 1999995,\n",
       " 'wiki-news-300d-1M.vec': 999994,\n",
       " 'sentic2vec.txt': 42007}"
      ]
     },
     "execution_count": 10,
     "metadata": {},
     "output_type": "execute_result"
    }
   ],
   "source": [
    "{word_embedding_name: len(vocabulary) for word_embedding_name, vocabulary in word_embedding_vocabulalaries.items()}"
   ]
  },
  {
   "cell_type": "code",
   "execution_count": 11,
   "metadata": {
    "ExecuteTime": {
     "end_time": "2019-01-14T13:04:28.075832Z",
     "start_time": "2019-01-14T13:04:28.029272Z"
    }
   },
   "outputs": [],
   "source": [
    "datasets_coverage_with_word_embedding = get_datasets_coverage_with_word_embedding(corpus_words, word_embedding_vocabulalaries)"
   ]
  },
  {
   "cell_type": "code",
   "execution_count": 12,
   "metadata": {
    "ExecuteTime": {
     "end_time": "2019-01-14T13:04:28.323239Z",
     "start_time": "2019-01-14T13:04:28.078562Z"
    }
   },
   "outputs": [],
   "source": [
    "lack_of_words_percentage = pd.DataFrame(datasets_coverage_with_word_embedding).round(4)*100"
   ]
  },
  {
   "cell_type": "code",
   "execution_count": 89,
   "metadata": {
    "ExecuteTime": {
     "end_time": "2018-12-03T08:49:33.603824Z",
     "start_time": "2018-12-03T08:49:33.562378Z"
    }
   },
   "outputs": [
    {
     "data": {
      "text/html": [
       "<div>\n",
       "<style scoped>\n",
       "    .dataframe tbody tr th:only-of-type {\n",
       "        vertical-align: middle;\n",
       "    }\n",
       "\n",
       "    .dataframe tbody tr th {\n",
       "        vertical-align: top;\n",
       "    }\n",
       "\n",
       "    .dataframe thead th {\n",
       "        text-align: right;\n",
       "    }\n",
       "</style>\n",
       "<table border=\"1\" class=\"dataframe\">\n",
       "  <thead>\n",
       "    <tr style=\"text-align: right;\">\n",
       "      <th></th>\n",
       "      <th>GoogleNews-vectors-negative300.txt</th>\n",
       "      <th>glove.6B.50d.txt</th>\n",
       "      <th>glove.6B.100d.txt</th>\n",
       "      <th>glove.6B.200d.txt</th>\n",
       "      <th>glove.6B.300d.txt</th>\n",
       "      <th>glove.twitter.27B.200d.txt</th>\n",
       "      <th>glove.42B.300d.txt</th>\n",
       "      <th>glove.840B.300d.txt</th>\n",
       "      <th>numberbatch-en.txt</th>\n",
       "      <th>crawl-300d-2M.vec</th>\n",
       "      <th>wiki-news-300d-1M.vec</th>\n",
       "      <th>sentic2vec.txt</th>\n",
       "    </tr>\n",
       "  </thead>\n",
       "  <tbody>\n",
       "    <tr>\n",
       "      <th>Laptops_poria-test</th>\n",
       "      <td>8.38</td>\n",
       "      <td>4.27</td>\n",
       "      <td>4.27</td>\n",
       "      <td>4.27</td>\n",
       "      <td>4.27</td>\n",
       "      <td>8.17</td>\n",
       "      <td>1.77</td>\n",
       "      <td>2.24</td>\n",
       "      <td>9.83</td>\n",
       "      <td>2.39</td>\n",
       "      <td>4.68</td>\n",
       "      <td>17.17</td>\n",
       "    </tr>\n",
       "    <tr>\n",
       "      <th>Laptops_poria-train</th>\n",
       "      <td>11.14</td>\n",
       "      <td>9.18</td>\n",
       "      <td>9.18</td>\n",
       "      <td>9.18</td>\n",
       "      <td>9.18</td>\n",
       "      <td>11.70</td>\n",
       "      <td>3.40</td>\n",
       "      <td>4.20</td>\n",
       "      <td>14.06</td>\n",
       "      <td>4.32</td>\n",
       "      <td>6.91</td>\n",
       "      <td>18.55</td>\n",
       "    </tr>\n",
       "    <tr>\n",
       "      <th>Restaurants_poria-test</th>\n",
       "      <td>9.25</td>\n",
       "      <td>7.40</td>\n",
       "      <td>7.40</td>\n",
       "      <td>7.40</td>\n",
       "      <td>7.40</td>\n",
       "      <td>8.63</td>\n",
       "      <td>3.66</td>\n",
       "      <td>4.36</td>\n",
       "      <td>9.12</td>\n",
       "      <td>4.27</td>\n",
       "      <td>6.70</td>\n",
       "      <td>32.20</td>\n",
       "    </tr>\n",
       "    <tr>\n",
       "      <th>Restaurants_poria-train</th>\n",
       "      <td>12.73</td>\n",
       "      <td>10.78</td>\n",
       "      <td>10.78</td>\n",
       "      <td>10.78</td>\n",
       "      <td>10.78</td>\n",
       "      <td>11.99</td>\n",
       "      <td>5.00</td>\n",
       "      <td>6.11</td>\n",
       "      <td>13.70</td>\n",
       "      <td>5.98</td>\n",
       "      <td>9.33</td>\n",
       "      <td>34.38</td>\n",
       "    </tr>\n",
       "  </tbody>\n",
       "</table>\n",
       "</div>"
      ],
      "text/plain": [
       "                         GoogleNews-vectors-negative300.txt  glove.6B.50d.txt  \\\n",
       "Laptops_poria-test                                     8.38              4.27   \n",
       "Laptops_poria-train                                   11.14              9.18   \n",
       "Restaurants_poria-test                                 9.25              7.40   \n",
       "Restaurants_poria-train                               12.73             10.78   \n",
       "\n",
       "                         glove.6B.100d.txt  glove.6B.200d.txt  \\\n",
       "Laptops_poria-test                    4.27               4.27   \n",
       "Laptops_poria-train                   9.18               9.18   \n",
       "Restaurants_poria-test                7.40               7.40   \n",
       "Restaurants_poria-train              10.78              10.78   \n",
       "\n",
       "                         glove.6B.300d.txt  glove.twitter.27B.200d.txt  \\\n",
       "Laptops_poria-test                    4.27                        8.17   \n",
       "Laptops_poria-train                   9.18                       11.70   \n",
       "Restaurants_poria-test                7.40                        8.63   \n",
       "Restaurants_poria-train              10.78                       11.99   \n",
       "\n",
       "                         glove.42B.300d.txt  glove.840B.300d.txt  \\\n",
       "Laptops_poria-test                     1.77                 2.24   \n",
       "Laptops_poria-train                    3.40                 4.20   \n",
       "Restaurants_poria-test                 3.66                 4.36   \n",
       "Restaurants_poria-train                5.00                 6.11   \n",
       "\n",
       "                         numberbatch-en.txt  crawl-300d-2M.vec  \\\n",
       "Laptops_poria-test                     9.83               2.39   \n",
       "Laptops_poria-train                   14.06               4.32   \n",
       "Restaurants_poria-test                 9.12               4.27   \n",
       "Restaurants_poria-train               13.70               5.98   \n",
       "\n",
       "                         wiki-news-300d-1M.vec  sentic2vec.txt  \n",
       "Laptops_poria-test                        4.68           17.17  \n",
       "Laptops_poria-train                       6.91           18.55  \n",
       "Restaurants_poria-test                    6.70           32.20  \n",
       "Restaurants_poria-train                   9.33           34.38  "
      ]
     },
     "execution_count": 89,
     "metadata": {},
     "output_type": "execute_result"
    }
   ],
   "source": [
    "lack_of_words_percentage.to_excel((results_path / 'word-embeddings-coverage.xlsx').as_posix())\n",
    "lack_of_words_percentage"
   ]
  },
  {
   "cell_type": "code",
   "execution_count": null,
   "metadata": {
    "ExecuteTime": {
     "end_time": "2018-12-03T08:36:01.710355Z",
     "start_time": "2018-12-03T08:32:35.656Z"
    }
   },
   "outputs": [],
   "source": [
    "print(pd.DataFrame.from_dict(aspects, orient='index', columns=['Multi aspect ']).to_latex())"
   ]
  },
  {
   "cell_type": "markdown",
   "metadata": {},
   "source": [
    "# Trim words in word embeddings but not in datasets "
   ]
  },
  {
   "cell_type": "code",
   "execution_count": 19,
   "metadata": {
    "ExecuteTime": {
     "end_time": "2019-02-04T14:38:45.952371Z",
     "start_time": "2019-02-04T14:38:45.907325Z"
    }
   },
   "outputs": [],
   "source": [
    "def save_intersection_between_word_embedding_and_corpus(word_embedding_path: Path, corpus_words: Set[str], word_embedding_name_suffix: str = 'trimmed'):\n",
    "    word_embedding_trimmed_path = word_embedding_path.parent / f'{word_embedding_path.name}-{word_embedding_name_suffix}.txt' \n",
    "    trimmed_file = open(word_embedding_trimmed_path, 'w')\n",
    "    intersected_words = 0\n",
    "    \n",
    "    with open(word_embedding_path, encoding='utf-8') as fp:\n",
    "        for line in tqdm_notebook(fp, desc=word_embedding_path.name + ': embedding trimming'):\n",
    "            try:\n",
    "                line_fields = line.split()\n",
    "                if len(line_fields) < 5:\n",
    "                    continue\n",
    "                else:\n",
    "                    word = line_fields[0]\n",
    "                    if word in corpus_words:\n",
    "                        trimmed_file.writelines([line])\n",
    "                        intersected_words += 1\n",
    "            except UnicodeDecodeError:\n",
    "                pass\n",
    "        trimmed_file.close()\n",
    "    print(f'Intersected words {intersected_words} in {word_embedding_path}')"
   ]
  },
  {
   "cell_type": "code",
   "execution_count": 20,
   "metadata": {
    "ExecuteTime": {
     "end_time": "2019-02-04T14:42:41.199020Z",
     "start_time": "2019-02-04T14:38:46.481545Z"
    }
   },
   "outputs": [
    {
     "data": {
      "application/vnd.jupyter.widget-view+json": {
       "model_id": "2855acba1a4748fd82bf5b22264bf7bd",
       "version_major": 2,
       "version_minor": 0
      },
      "text/plain": [
       "HBox(children=(IntProgress(value=0, max=12), HTML(value='')))"
      ]
     },
     "metadata": {},
     "output_type": "display_data"
    },
    {
     "data": {
      "application/vnd.jupyter.widget-view+json": {
       "model_id": "fd69ea7971114f28ab53f03284a9c768",
       "version_major": 2,
       "version_minor": 0
      },
      "text/plain": [
       "HBox(children=(IntProgress(value=1, bar_style='info', description='GoogleNews-vectors-negative300.txt: embeddi…"
      ]
     },
     "metadata": {},
     "output_type": "display_data"
    },
    {
     "name": "stdout",
     "output_type": "stream",
     "text": [
      "Intersected words 6991 in /home/laugustyniak/data/embeddings/GoogleNews-vectors-negative300.txt\n"
     ]
    },
    {
     "data": {
      "application/vnd.jupyter.widget-view+json": {
       "model_id": "84ec3bdf8fa54e6a95f04ea90ee3390c",
       "version_major": 2,
       "version_minor": 0
      },
      "text/plain": [
       "HBox(children=(IntProgress(value=1, bar_style='info', description='glove.6B.50d.txt: embedding trimming', max=…"
      ]
     },
     "metadata": {},
     "output_type": "display_data"
    },
    {
     "name": "stdout",
     "output_type": "stream",
     "text": [
      "Intersected words 7220 in /home/laugustyniak/data/embeddings/glove.6B.50d.txt\n"
     ]
    },
    {
     "data": {
      "application/vnd.jupyter.widget-view+json": {
       "model_id": "5e4904bf31ad43859d1ea30902bf91dc",
       "version_major": 2,
       "version_minor": 0
      },
      "text/plain": [
       "HBox(children=(IntProgress(value=1, bar_style='info', description='glove.6B.100d.txt: embedding trimming', max…"
      ]
     },
     "metadata": {},
     "output_type": "display_data"
    },
    {
     "name": "stdout",
     "output_type": "stream",
     "text": [
      "Intersected words 7220 in /home/laugustyniak/data/embeddings/glove.6B.100d.txt\n"
     ]
    },
    {
     "data": {
      "application/vnd.jupyter.widget-view+json": {
       "model_id": "07babe64086f4fd3bef39407b8e32b73",
       "version_major": 2,
       "version_minor": 0
      },
      "text/plain": [
       "HBox(children=(IntProgress(value=1, bar_style='info', description='glove.6B.200d.txt: embedding trimming', max…"
      ]
     },
     "metadata": {},
     "output_type": "display_data"
    },
    {
     "name": "stdout",
     "output_type": "stream",
     "text": [
      "Intersected words 7220 in /home/laugustyniak/data/embeddings/glove.6B.200d.txt\n"
     ]
    },
    {
     "data": {
      "application/vnd.jupyter.widget-view+json": {
       "model_id": "698587efc3e74ff8a1ec1e79a1680205",
       "version_major": 2,
       "version_minor": 0
      },
      "text/plain": [
       "HBox(children=(IntProgress(value=1, bar_style='info', description='glove.6B.300d.txt: embedding trimming', max…"
      ]
     },
     "metadata": {},
     "output_type": "display_data"
    },
    {
     "name": "stdout",
     "output_type": "stream",
     "text": [
      "Intersected words 7220 in /home/laugustyniak/data/embeddings/glove.6B.300d.txt\n"
     ]
    },
    {
     "data": {
      "application/vnd.jupyter.widget-view+json": {
       "model_id": "f4b167777c4e423b83b58b88d91cd519",
       "version_major": 2,
       "version_minor": 0
      },
      "text/plain": [
       "HBox(children=(IntProgress(value=1, bar_style='info', description='glove.twitter.27B.200d.txt: embedding trimm…"
      ]
     },
     "metadata": {},
     "output_type": "display_data"
    },
    {
     "name": "stdout",
     "output_type": "stream",
     "text": [
      "Intersected words 7064 in /home/laugustyniak/data/embeddings/glove.twitter.27B.200d.txt\n"
     ]
    },
    {
     "data": {
      "application/vnd.jupyter.widget-view+json": {
       "model_id": "da4a957103464488afbb8d4040d78bc3",
       "version_major": 2,
       "version_minor": 0
      },
      "text/plain": [
       "HBox(children=(IntProgress(value=1, bar_style='info', description='glove.42B.300d.txt: embedding trimming', ma…"
      ]
     },
     "metadata": {},
     "output_type": "display_data"
    },
    {
     "name": "stdout",
     "output_type": "stream",
     "text": [
      "Intersected words 7806 in /home/laugustyniak/data/embeddings/glove.42B.300d.txt\n"
     ]
    },
    {
     "data": {
      "application/vnd.jupyter.widget-view+json": {
       "model_id": "ce7b66af52924a53aebbe3f6ef66032d",
       "version_major": 2,
       "version_minor": 0
      },
      "text/plain": [
       "HBox(children=(IntProgress(value=1, bar_style='info', description='glove.840B.300d.txt: embedding trimming', m…"
      ]
     },
     "metadata": {},
     "output_type": "display_data"
    },
    {
     "name": "stdout",
     "output_type": "stream",
     "text": [
      "Intersected words 7725 in /home/laugustyniak/data/embeddings/glove.840B.300d.txt\n"
     ]
    },
    {
     "data": {
      "application/vnd.jupyter.widget-view+json": {
       "model_id": "9a1283ef857743f9a2da411e27297477",
       "version_major": 2,
       "version_minor": 0
      },
      "text/plain": [
       "HBox(children=(IntProgress(value=1, bar_style='info', description='numberbatch-en.txt: embedding trimming', ma…"
      ]
     },
     "metadata": {},
     "output_type": "display_data"
    },
    {
     "name": "stdout",
     "output_type": "stream",
     "text": [
      "Intersected words 6817 in /home/laugustyniak/data/embeddings/numberbatch-en.txt\n"
     ]
    },
    {
     "data": {
      "application/vnd.jupyter.widget-view+json": {
       "model_id": "a731c573be9a44cd88b8c4c17ebae8da",
       "version_major": 2,
       "version_minor": 0
      },
      "text/plain": [
       "HBox(children=(IntProgress(value=1, bar_style='info', description='crawl-300d-2M.vec: embedding trimming', max…"
      ]
     },
     "metadata": {},
     "output_type": "display_data"
    },
    {
     "name": "stdout",
     "output_type": "stream",
     "text": [
      "Intersected words 7699 in /home/laugustyniak/data/embeddings/crawl-300d-2M.vec\n"
     ]
    },
    {
     "data": {
      "application/vnd.jupyter.widget-view+json": {
       "model_id": "e788ee4ad7244070ae04c04a9f32899a",
       "version_major": 2,
       "version_minor": 0
      },
      "text/plain": [
       "HBox(children=(IntProgress(value=1, bar_style='info', description='wiki-news-300d-1M.vec: embedding trimming',…"
      ]
     },
     "metadata": {},
     "output_type": "display_data"
    },
    {
     "name": "stdout",
     "output_type": "stream",
     "text": [
      "Intersected words 7385 in /home/laugustyniak/data/embeddings/wiki-news-300d-1M.vec\n"
     ]
    },
    {
     "data": {
      "application/vnd.jupyter.widget-view+json": {
       "model_id": "b32e641c25c9475281a0332468673bf9",
       "version_major": 2,
       "version_minor": 0
      },
      "text/plain": [
       "HBox(children=(IntProgress(value=1, bar_style='info', description='sentic2vec.txt: embedding trimming', max=1)…"
      ]
     },
     "metadata": {},
     "output_type": "display_data"
    },
    {
     "name": "stdout",
     "output_type": "stream",
     "text": [
      "Intersected words 5604 in /home/laugustyniak/data/embeddings/sentic2vec.txt\n",
      "\n"
     ]
    }
   ],
   "source": [
    "for embedding_path in tqdm_notebook(EMBEDDINGS):\n",
    "    save_intersection_between_word_embedding_and_corpus(\n",
    "        EMBEDDINGS_PATH / embedding_path,\n",
    "        corpus_words_all\n",
    "    )"
   ]
  },
  {
   "cell_type": "markdown",
   "metadata": {},
   "source": [
    "# Words/aspects appeared in test data but not in training "
   ]
  },
  {
   "cell_type": "code",
   "execution_count": null,
   "metadata": {
    "ExecuteTime": {
     "end_time": "2018-12-03T08:36:01.711259Z",
     "start_time": "2018-12-03T08:33:16.107Z"
    }
   },
   "outputs": [],
   "source": [
    "from collections import namedtuple"
   ]
  },
  {
   "cell_type": "markdown",
   "metadata": {},
   "source": [
    "## Words statistics "
   ]
  },
  {
   "cell_type": "code",
   "execution_count": null,
   "metadata": {
    "ExecuteTime": {
     "end_time": "2018-12-03T08:36:01.712008Z",
     "start_time": "2018-12-03T08:33:16.897Z"
    }
   },
   "outputs": [],
   "source": [
    "WordsStats = namedtuple('WordsStats', 'coverage, all_unique_words')"
   ]
  },
  {
   "cell_type": "code",
   "execution_count": null,
   "metadata": {
    "ExecuteTime": {
     "end_time": "2018-12-03T08:36:01.712881Z",
     "start_time": "2018-12-03T08:33:17.211Z"
    }
   },
   "outputs": [],
   "source": [
    "def words_coverage_stats(train_words: Set, test_words: Set):\n",
    "    all_words = train_words.union(test_words)\n",
    "    intersection_words = train_words - test_words\n",
    "    return WordsStats(\n",
    "        len(intersection_words)/len(all_words),\n",
    "        len(all_words)\n",
    "    )"
   ]
  },
  {
   "cell_type": "code",
   "execution_count": null,
   "metadata": {
    "ExecuteTime": {
     "end_time": "2018-12-03T08:36:01.713634Z",
     "start_time": "2018-12-03T08:33:17.592Z"
    }
   },
   "outputs": [],
   "source": [
    "words_coverage_stats(corpus_words[statistics_dataset.dataset_restaurants_train], corpus_words[statistics_dataset.dataset_restaurants_test])"
   ]
  },
  {
   "cell_type": "code",
   "execution_count": null,
   "metadata": {
    "ExecuteTime": {
     "end_time": "2018-12-03T08:36:01.714429Z",
     "start_time": "2018-12-03T08:33:18.073Z"
    }
   },
   "outputs": [],
   "source": [
    "words_coverage_stats(corpus_words[statistics_dataset.dataset_laptops_train], corpus_words[statistics_dataset.dataset_laptops_test])"
   ]
  }
 ],
 "metadata": {
  "kernelspec": {
   "display_name": "Python 3",
   "language": "python",
   "name": "python3"
  },
  "language_info": {
   "codemirror_mode": {
    "name": "ipython",
    "version": 3
   },
   "file_extension": ".py",
   "mimetype": "text/x-python",
   "name": "python",
   "nbconvert_exporter": "python",
   "pygments_lexer": "ipython3",
   "version": "3.7.2"
  },
  "toc": {
   "base_numbering": 1,
   "nav_menu": {},
   "number_sections": true,
   "sideBar": true,
   "skip_h1_title": false,
   "title_cell": "Table of Contents",
   "title_sidebar": "Contents",
   "toc_cell": false,
   "toc_position": {
    "height": "calc(100% - 180px)",
    "left": "10px",
    "top": "150px",
    "width": "165px"
   },
   "toc_section_display": true,
   "toc_window_display": false
  }
 },
 "nbformat": 4,
 "nbformat_minor": 2
}
