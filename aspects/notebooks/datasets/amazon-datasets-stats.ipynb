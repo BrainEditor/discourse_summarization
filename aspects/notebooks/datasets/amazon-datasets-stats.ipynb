{
 "cells": [
  {
   "cell_type": "code",
   "execution_count": 13,
   "metadata": {},
   "outputs": [
    {
     "name": "stderr",
     "output_type": "stream",
     "text": [
      "c:\\users\\lukau\\anaconda3\\envs\\aspects\\lib\\site-packages\\ipykernel\\ipkernel.py:283: DeprecationWarning: `should_run_async` will not call `transform_cell` automatically in the future. Please pass the result to `transformed_cell` argument and any exception that happen during thetransform in `preprocessing_exc_tuple` in IPython 7.17 and above.\n",
      "  and should_run_async(code)\n"
     ]
    }
   ],
   "source": [
    "import pandas as pd\n",
    "from tqdm import tqdm\n",
    "from collections import Counter\n",
    "from more_itertools import flatten\n",
    "\n",
    "from pickle import UnpicklingError\n",
    "\n",
    "from aspects.utilities import settings\n",
    "# from aspects.pipelines.aspect_analysis import AspectAnalysis"
   ]
  },
  {
   "cell_type": "code",
   "execution_count": 8,
   "metadata": {},
   "outputs": [
    {
     "name": "stderr",
     "output_type": "stream",
     "text": [
      "c:\\users\\lukau\\anaconda3\\envs\\aspects\\lib\\site-packages\\ipykernel\\ipkernel.py:283: DeprecationWarning: `should_run_async` will not call `transform_cell` automatically in the future. Please pass the result to `transformed_cell` argument and any exception that happen during thetransform in `preprocessing_exc_tuple` in IPython 7.17 and above.\n",
      "  and should_run_async(code)\n"
     ]
    }
   ],
   "source": [
    "%config Completer.use_jedi = False"
   ]
  },
  {
   "cell_type": "code",
   "execution_count": 5,
   "metadata": {},
   "outputs": [],
   "source": [
    "pd.set_option('display.max_colwidth', -1)"
   ]
  },
  {
   "cell_type": "code",
   "execution_count": 6,
   "metadata": {},
   "outputs": [
    {
     "data": {
      "text/html": [
       "<style>.container { max-width:1800px !important;width:auto; }</style>"
      ],
      "text/plain": [
       "<IPython.core.display.HTML object>"
      ]
     },
     "metadata": {},
     "output_type": "display_data"
    }
   ],
   "source": [
    "from IPython.core.display import display, HTML\n",
    "display(HTML(\"<style>.container { max-width:1800px !important;width:auto; }</style>\"))"
   ]
  },
  {
   "cell_type": "code",
   "execution_count": 7,
   "metadata": {},
   "outputs": [],
   "source": [
    "datasets = [\n",
    "    settings.AMAZON_REVIEWS_APPS_FOR_ANDROID_DATASET_JSON,\n",
    "    settings.AMAZON_REVIEWS_AUTOMOTIVE_DATASET_JSON,\n",
    "    settings.AMAZON_REVIEWS_AMAZON_INSTANT_VIDEO_DATASET_JSON,\n",
    "    settings.AMAZON_REVIEWS_CELL_PHONES_AND_ACCESSORIES_DATASET_JSON\n",
    "]"
   ]
  },
  {
   "cell_type": "code",
   "execution_count": 9,
   "metadata": {},
   "outputs": [
    {
     "name": "stderr",
     "output_type": "stream",
     "text": [
      "c:\\users\\lukau\\anaconda3\\envs\\aspects\\lib\\site-packages\\ipykernel\\ipkernel.py:283: DeprecationWarning: `should_run_async` will not call `transform_cell` automatically in the future. Please pass the result to `transformed_cell` argument and any exception that happen during thetransform in `preprocessing_exc_tuple` in IPython 7.17 and above.\n",
      "  and should_run_async(code)\n"
     ]
    }
   ],
   "source": [
    "from pathlib import Path\n",
    "# p = Path('/datasets/sentiment/aspects/sentiment-backend/aspects/results')\n",
    "p = Path('../../results/')"
   ]
  },
  {
   "cell_type": "code",
   "execution_count": 20,
   "metadata": {},
   "outputs": [
    {
     "name": "stderr",
     "output_type": "stream",
     "text": [
      "100%|████████████████████████████████████████████████████████████████████████████████████████████████████████████████████████████████████████████████████████████████████████████████████████████████████████████████████████████████████████████████████| 1/1 [00:00<00:00, 45.45it/s]"
     ]
    },
    {
     "name": "stdout",
     "output_type": "stream",
     "text": [
      "..\\..\\results\\reviews_Apps_for_Android-103-docs\\discourse_trees_df.pkl\n",
      "Not fully processed dataset: ..\\..\\results\\reviews_Apps_for_Android-103-docs\\discourse_trees_df.pkl\n"
     ]
    },
    {
     "name": "stderr",
     "output_type": "stream",
     "text": [
      "\n"
     ]
    }
   ],
   "source": [
    "statistics = []\n",
    "\n",
    "for discourse_trees_df_path in tqdm(list(p.glob('review*103*/discourse_trees_df.pkl'))):\n",
    "    print(discourse_trees_df_path)\n",
    "    try:\n",
    "        df = pd.read_pickle(discourse_trees_df_path)\n",
    "    except Exception as e:\n",
    "        print(f'Error with {discourse_trees_df_path}. {str(e)}')\n",
    "    \n",
    "    if 'aspects' in df.columns:\n",
    "    \n",
    "        aspect_counter = Counter(\n",
    "            flatten(\n",
    "                flatten(\n",
    "                    (\n",
    "                        df[\n",
    "                            df.aspects.apply(\n",
    "                                lambda aspects: list(flatten(aspects))\n",
    "                            )\n",
    "#                             .apply(lambda aspects: len(set(aspects)) > 1)\n",
    "                        ][\"aspects\"]\n",
    "                    )\n",
    "                )\n",
    "            )\n",
    "        )\n",
    "        aspect_counter_df = pd.DataFrame(aspect_counter.most_common(), columns=[\"aspect\", \"aspect_occurrences\"])\n",
    "\n",
    "        statistics.append({\n",
    "            \"Dataset Name\": discourse_trees_df_path.parent.stem,\n",
    "            \"# of reviews\": df.shape[0],\n",
    "            \"# of DTs properly parsed\": df[df.edus.apply(lambda l: len(l) > 0)].shape[0],\n",
    "            \"Average length of reviews (# of words)\": df.text.apply(lambda review: len(review.split())).mean(),\n",
    "            \"Average number of EDUs in reviews\": df.edus.apply(lambda edus: len(edus)).mean(),\n",
    "            \"# of unique aspects\": aspect_counter_df.shape[0],\n",
    "            \"# of aspects freq >= 10\": aspect_counter_df[aspect_counter_df.aspect_occurrences >= 10].shape[0],\n",
    "            \"# of DTs with at least one pair of aspects\": df[df.aspects.apply(\n",
    "                                                                lambda aspects: list(flatten(aspects))\n",
    "                                                            ).apply(lambda aspects: len(set(aspects)) > 1)\n",
    "                                                        ][\"aspects\"].shape[0],\n",
    "            \"# of DTs with a single aspect\": df[df.aspects.apply(\n",
    "                                                    lambda aspects: list(flatten(aspects))\n",
    "                                                ).apply(lambda aspects: len(set(aspects)) == 1)\n",
    "                                            ][\"aspects\"].shape[0],\n",
    "            \"Average number of relations from each DT\": df.rules.apply(lambda rules: len(rules)).mean(),\n",
    "            \"Minimum depth of DT\": df.discourse_tree.apply(lambda dt: dt.height()).min(),\n",
    "            \"Average depth of DT\": df.discourse_tree.apply(lambda dt: dt.height()).mean(),\n",
    "            \"Maximum depth of DT\": df.discourse_tree.apply(lambda dt: dt.height()).max()\n",
    "            })\n",
    "    else:\n",
    "        print(f\"Not fully processed dataset: {discourse_trees_df_path}\")"
   ]
  },
  {
   "cell_type": "code",
   "execution_count": 19,
   "metadata": {},
   "outputs": [
    {
     "data": {
      "text/html": [
       "<div>\n",
       "<style scoped>\n",
       "    .dataframe tbody tr th:only-of-type {\n",
       "        vertical-align: middle;\n",
       "    }\n",
       "\n",
       "    .dataframe tbody tr th {\n",
       "        vertical-align: top;\n",
       "    }\n",
       "\n",
       "    .dataframe thead th {\n",
       "        text-align: right;\n",
       "    }\n",
       "</style>\n",
       "<table border=\"1\" class=\"dataframe\">\n",
       "  <thead>\n",
       "    <tr style=\"text-align: right;\">\n",
       "      <th></th>\n",
       "    </tr>\n",
       "  </thead>\n",
       "  <tbody>\n",
       "  </tbody>\n",
       "</table>\n",
       "</div>"
      ],
      "text/plain": [
       "Empty DataFrame\n",
       "Columns: []\n",
       "Index: []"
      ]
     },
     "execution_count": 19,
     "metadata": {},
     "output_type": "execute_result"
    }
   ],
   "source": [
    "pd.DataFrame(statistics)"
   ]
  },
  {
   "cell_type": "code",
   "execution_count": 91,
   "metadata": {},
   "outputs": [
    {
     "data": {
      "text/plain": [
       "0        2\n",
       "1        4\n",
       "2        6\n",
       "3        7\n",
       "4        5\n",
       "        ..\n",
       "24994    4\n",
       "24995    7\n",
       "24996    4\n",
       "24998    8\n",
       "24999    5\n",
       "Name: discourse_tree, Length: 23387, dtype: int64"
      ]
     },
     "execution_count": 91,
     "metadata": {},
     "output_type": "execute_result"
    }
   ],
   "source": [
    "df.discourse_tree.apply(lambda dt: dt.height())"
   ]
  },
  {
   "cell_type": "code",
   "execution_count": 90,
   "metadata": {},
   "outputs": [
    {
     "data": {
      "text/plain": [
       "2"
      ]
     },
     "execution_count": 90,
     "metadata": {},
     "output_type": "execute_result"
    }
   ],
   "source": [
    "tree.height()"
   ]
  },
  {
   "cell_type": "code",
   "execution_count": 80,
   "metadata": {
    "scrolled": false
   },
   "outputs": [],
   "source": [
    "df.drop(columns=['concepts'], inplace=True)"
   ]
  },
  {
   "cell_type": "code",
   "execution_count": 83,
   "metadata": {},
   "outputs": [
    {
     "data": {
      "text/plain": [
       "11.74207893274041"
      ]
     },
     "execution_count": 83,
     "metadata": {},
     "output_type": "execute_result"
    }
   ],
   "source": [
    "df.rules.apply(lambda rules: len(rules)).mean()"
   ]
  },
  {
   "cell_type": "code",
   "execution_count": 74,
   "metadata": {},
   "outputs": [
    {
     "data": {
      "text/plain": [
       "(7490,)"
      ]
     },
     "execution_count": 74,
     "metadata": {},
     "output_type": "execute_result"
    }
   ],
   "source": [
    "df[df.aspects.apply(\n",
    "        lambda aspects: list(flatten(aspects))\n",
    "    ).apply(lambda aspects: len(set(aspects)) > 1)\n",
    "][\"aspects\"].shape"
   ]
  },
  {
   "cell_type": "code",
   "execution_count": 77,
   "metadata": {},
   "outputs": [
    {
     "data": {
      "text/plain": [
       "(7204,)"
      ]
     },
     "execution_count": 77,
     "metadata": {},
     "output_type": "execute_result"
    }
   ],
   "source": [
    "df[df.aspects.apply(\n",
    "        lambda aspects: list(flatten(aspects))\n",
    "    ).apply(lambda aspects: len(set(aspects)) == 1)\n",
    "][\"aspects\"].shape"
   ]
  },
  {
   "cell_type": "code",
   "execution_count": null,
   "metadata": {},
   "outputs": [],
   "source": []
  },
  {
   "cell_type": "code",
   "execution_count": 66,
   "metadata": {},
   "outputs": [
    {
     "data": {
      "text/plain": [
       "11.74207893274041"
      ]
     },
     "execution_count": 66,
     "metadata": {},
     "output_type": "execute_result"
    }
   ],
   "source": [
    "df.rules.apply(lambda r: len(r)).mean()"
   ]
  },
  {
   "cell_type": "code",
   "execution_count": 63,
   "metadata": {},
   "outputs": [
    {
     "data": {
      "text/plain": [
       "count    23387.000000\n",
       "mean         1.193868\n",
       "std          1.461133\n",
       "min          0.000000\n",
       "25%          0.000000\n",
       "50%          1.000000\n",
       "75%          2.000000\n",
       "max         20.000000\n",
       "Name: aspects, dtype: float64"
      ]
     },
     "execution_count": 63,
     "metadata": {},
     "output_type": "execute_result"
    }
   ],
   "source": [
    "df.aspects.apply(lambda aspects: len([aspect for aspect in aspects if aspect])).describe()"
   ]
  },
  {
   "cell_type": "code",
   "execution_count": 50,
   "metadata": {},
   "outputs": [
    {
     "data": {
      "text/plain": [
       "count    23387.000000\n",
       "mean        58.080472\n",
       "std         52.459737\n",
       "min          3.000000\n",
       "25%         26.000000\n",
       "50%         40.000000\n",
       "75%         70.000000\n",
       "max        706.000000\n",
       "Name: text, dtype: float64"
      ]
     },
     "execution_count": 50,
     "metadata": {},
     "output_type": "execute_result"
    }
   ],
   "source": [
    "df.text.apply(lambda review: len(review.split())).describe()"
   ]
  },
  {
   "cell_type": "code",
   "execution_count": 40,
   "metadata": {},
   "outputs": [
    {
     "data": {
      "text/plain": [
       "count    23387.000000\n",
       "mean         8.425022\n",
       "std          7.438310\n",
       "min          1.000000\n",
       "25%          4.000000\n",
       "50%          6.000000\n",
       "75%         10.000000\n",
       "max        102.000000\n",
       "Name: edus, dtype: float64"
      ]
     },
     "execution_count": 40,
     "metadata": {},
     "output_type": "execute_result"
    }
   ],
   "source": [
    "df.edus.apply(lambda edus: len(edus)).describe()"
   ]
  },
  {
   "cell_type": "code",
   "execution_count": 45,
   "metadata": {},
   "outputs": [],
   "source": [
    "aspect_counter = Counter(\n",
    "    flatten(\n",
    "        flatten(\n",
    "            (\n",
    "                df[\n",
    "                    df.aspects.apply(\n",
    "                        lambda aspects: list(flatten(aspects))\n",
    "                    ).apply(lambda aspects: len(set(aspects)) > 1)\n",
    "                ][\"aspects\"]\n",
    "            )\n",
    "        )\n",
    "    )\n",
    ")\n",
    "aspect_counter_df = pd.DataFrame(aspect_counter.most_common(), columns=[\"aspect\", \"aspect_occurrences\"])"
   ]
  },
  {
   "cell_type": "code",
   "execution_count": 49,
   "metadata": {},
   "outputs": [
    {
     "data": {
      "text/plain": [
       "7144"
      ]
     },
     "execution_count": 49,
     "metadata": {},
     "output_type": "execute_result"
    }
   ],
   "source": [
    "aspect_counter_df.shape[0]"
   ]
  },
  {
   "cell_type": "code",
   "execution_count": 51,
   "metadata": {},
   "outputs": [
    {
     "data": {
      "text/plain": [
       "242"
      ]
     },
     "execution_count": 51,
     "metadata": {},
     "output_type": "execute_result"
    }
   ],
   "source": [
    "aspect_counter_df[aspect_counter_df.aspect_occurrences >= 10].shape[0]"
   ]
  },
  {
   "cell_type": "code",
   "execution_count": 41,
   "metadata": {},
   "outputs": [
    {
     "data": {
      "text/html": [
       "<div>\n",
       "<style scoped>\n",
       "    .dataframe tbody tr th:only-of-type {\n",
       "        vertical-align: middle;\n",
       "    }\n",
       "\n",
       "    .dataframe tbody tr th {\n",
       "        vertical-align: top;\n",
       "    }\n",
       "\n",
       "    .dataframe thead th {\n",
       "        text-align: right;\n",
       "    }\n",
       "</style>\n",
       "<table border=\"1\" class=\"dataframe\">\n",
       "  <thead>\n",
       "    <tr style=\"text-align: right;\">\n",
       "      <th></th>\n",
       "      <th>text</th>\n",
       "      <th>discourse_tree</th>\n",
       "      <th>discourse_tree_ids_only</th>\n",
       "      <th>edus</th>\n",
       "      <th>sentiment</th>\n",
       "      <th>aspects</th>\n",
       "      <th>concepts</th>\n",
       "      <th>rules</th>\n",
       "    </tr>\n",
       "  </thead>\n",
       "  <tbody>\n",
       "    <tr>\n",
       "      <th>0</th>\n",
       "      <td>I loved the look and the great improvement at ...</td>\n",
       "      <td>[I loved the look and the great improvement at...</td>\n",
       "      <td>[0, 1]</td>\n",
       "      <td>[I loved the look and the great improvement at...</td>\n",
       "      <td>[0.3333333333333333, 0.0]</td>\n",
       "      <td>[[], []]</td>\n",
       "      <td>[{'sentic': {}, 'conceptnet_io': {}}, {'sentic...</td>\n",
       "      <td>[]</td>\n",
       "    </tr>\n",
       "    <tr>\n",
       "      <th>1</th>\n",
       "      <td>Put these on my 2011 can am outlander 800xt, e...</td>\n",
       "      <td>[Put these on my 2011 can am outlander 800xt ,...</td>\n",
       "      <td>[0, [1, [2, 3]]]</td>\n",
       "      <td>[Put these on my 2011 can am outlander 800xt ,...</td>\n",
       "      <td>[0.43333333333333335, 0.2857142857142857, 0.0,...</td>\n",
       "      <td>[[install], [], [power switch], []]</td>\n",
       "      <td>[{'sentic': {'install': {'install': ['set-up',...</td>\n",
       "      <td>[(2, 1, Elaboration, 0.5), (3, 1, Elaboration,...</td>\n",
       "    </tr>\n",
       "    <tr>\n",
       "      <th>2</th>\n",
       "      <td>Don't buy this item  , its not a 4 window roll...</td>\n",
       "      <td>[[Do n't buy this item , its not a 4 window ro...</td>\n",
       "      <td>[[0, 1], [[(Elaboration[N][S] 2 3), 4], [5, (T...</td>\n",
       "      <td>[Do n't buy this item , its not a 4 window rol...</td>\n",
       "      <td>[0.0, -0.8, 0.0, 0.0, 0.0, 0.0, 0.0, 0.0]</td>\n",
       "      <td>[[], [], [], [], [], [shipping], [], []]</td>\n",
       "      <td>[{'sentic': {}, 'conceptnet_io': {}}, {'sentic...</td>\n",
       "      <td>[(0, 1, Attribution, 0.77), (1, 0, Attribution...</td>\n",
       "    </tr>\n",
       "    <tr>\n",
       "      <th>3</th>\n",
       "      <td>Nice. A decent model, and at a better price on...</td>\n",
       "      <td>[[Nice ., [A decent model , and at a better pr...</td>\n",
       "      <td>[[0, [1, (Attribution[S][N] 2 (Elaboration[N][...</td>\n",
       "      <td>[Nice ., A decent model , and at a better pric...</td>\n",
       "      <td>[0.6, 0.3333333333333333, 0.0, 0.1363636363636...</td>\n",
       "      <td>[[], [price, amazon], [], [], [], [], [price],...</td>\n",
       "      <td>[{'sentic': {}, 'conceptnet_io': {}}, {'sentic...</td>\n",
       "      <td>[(1, 0, Explanation, 0.52), (2, 0, Explanation...</td>\n",
       "    </tr>\n",
       "    <tr>\n",
       "      <th>4</th>\n",
       "      <td>I used this rating because I liked the key fob...</td>\n",
       "      <td>[[[(Explanation[N][S]\\n  I used this rating\\n ...</td>\n",
       "      <td>[[[(Explanation[N][S] 0 1), 2], [3, (Joint[N][...</td>\n",
       "      <td>[I used this rating, because I liked the key f...</td>\n",
       "      <td>[0.0, 0.2866666666666667, 0.0, 0.0, -0.5, 0.0,...</td>\n",
       "      <td>[[], [key fob], [], [], [], [], [], [], []]</td>\n",
       "      <td>[{'sentic': {}, 'conceptnet_io': {}}, {'sentic...</td>\n",
       "      <td>[(1, 0, Explanation, 0.74), (0, 1, Explanation...</td>\n",
       "    </tr>\n",
       "    <tr>\n",
       "      <th>...</th>\n",
       "      <td>...</td>\n",
       "      <td>...</td>\n",
       "      <td>...</td>\n",
       "      <td>...</td>\n",
       "      <td>...</td>\n",
       "      <td>...</td>\n",
       "      <td>...</td>\n",
       "      <td>...</td>\n",
       "    </tr>\n",
       "    <tr>\n",
       "      <th>24994</th>\n",
       "      <td>Love the sound of Dixie!  But it only lasted a...</td>\n",
       "      <td>[[Love the sound of Dixie !, [But it only last...</td>\n",
       "      <td>[[0, [1, 2]], [3, 4]]</td>\n",
       "      <td>[Love the sound of Dixie !, But it only lasted...</td>\n",
       "      <td>[0.5, 0.0, 0.0, 0.0, -0.025]</td>\n",
       "      <td>[[], [], [], [], []]</td>\n",
       "      <td>[{'sentic': {}, 'conceptnet_io': {}}, {'sentic...</td>\n",
       "      <td>[(1, 0, Contrast, 0.53), (2, 0, Contrast, 0.43...</td>\n",
       "    </tr>\n",
       "    <tr>\n",
       "      <th>24995</th>\n",
       "      <td>This was very easy to install.  They gave me f...</td>\n",
       "      <td>[[This was very easy to install ., [(Contrast[...</td>\n",
       "      <td>[[0, [(Contrast[S][N] 1 2), (Attribution[S][N]...</td>\n",
       "      <td>[This was very easy to install ., They gave me...</td>\n",
       "      <td>[0.5633333333333334, 0.0, -0.125, 0.0, 0.0, -0...</td>\n",
       "      <td>[[install], [], [], [], [], [], [], [], [], []...</td>\n",
       "      <td>[{'sentic': {'install': {'install': ['set-up',...</td>\n",
       "      <td>[(1, 0, Elaboration, 0.68), (2, 0, Elaboration...</td>\n",
       "    </tr>\n",
       "    <tr>\n",
       "      <th>24996</th>\n",
       "      <td>This does not work well. It sounds really bad ...</td>\n",
       "      <td>[[This does not work well ., [It sounds really...</td>\n",
       "      <td>[[0, [1, 2]], [[3, 4], [5]]]</td>\n",
       "      <td>[This does not work well ., It sounds really b...</td>\n",
       "      <td>[0.0, -0.6999999999999998, -0.1, 0.0, 0.0, 0.7...</td>\n",
       "      <td>[[], [], [], [], [dixieland song], []]</td>\n",
       "      <td>[{'sentic': {}, 'conceptnet_io': {}}, {'sentic...</td>\n",
       "      <td>[(1, 0, Elaboration, 0.54), (2, 0, Elaboration...</td>\n",
       "    </tr>\n",
       "    <tr>\n",
       "      <th>24998</th>\n",
       "      <td>The instructions for install are clear and eas...</td>\n",
       "      <td>[[[The instructions for install are clear and ...</td>\n",
       "      <td>[[[0, 1], [2, 3]], [[(Attribution[S][N]\\n  4\\n...</td>\n",
       "      <td>[The instructions for install are clear and ea...</td>\n",
       "      <td>[0.26666666666666666, 0.0, 0.5, 0.0, 0.25, 0.0...</td>\n",
       "      <td>[[], [], [], [], [], [], [], [], [], [], [], [...</td>\n",
       "      <td>[{'sentic': {}, 'conceptnet_io': {}}, {'sentic...</td>\n",
       "      <td>[(1, 0, Elaboration, 0.85), (0, 1, Elaboration...</td>\n",
       "    </tr>\n",
       "    <tr>\n",
       "      <th>24999</th>\n",
       "      <td>If you want the right sound go with these. I'v...</td>\n",
       "      <td>[[If you want the right sound, go with these ....</td>\n",
       "      <td>[[0, 1], [[2, (Elaboration[N][S] 3 4)], 5]]</td>\n",
       "      <td>[If you want the right sound, go with these .,...</td>\n",
       "      <td>[0.34285714285714286, 0.0, 0.0, 0.55, 0.4, 0.5...</td>\n",
       "      <td>[[sound], [], [ebay], [wolo brand], [], [insta...</td>\n",
       "      <td>[{'sentic': {'sound': {'sound': ['animal_sound...</td>\n",
       "      <td>[(4, 3, Elaboration, 0.72), (3, 4, Elaboration...</td>\n",
       "    </tr>\n",
       "  </tbody>\n",
       "</table>\n",
       "<p>23387 rows × 8 columns</p>\n",
       "</div>"
      ],
      "text/plain": [
       "                                                    text  \\\n",
       "0      I loved the look and the great improvement at ...   \n",
       "1      Put these on my 2011 can am outlander 800xt, e...   \n",
       "2      Don't buy this item  , its not a 4 window roll...   \n",
       "3      Nice. A decent model, and at a better price on...   \n",
       "4      I used this rating because I liked the key fob...   \n",
       "...                                                  ...   \n",
       "24994  Love the sound of Dixie!  But it only lasted a...   \n",
       "24995  This was very easy to install.  They gave me f...   \n",
       "24996  This does not work well. It sounds really bad ...   \n",
       "24998  The instructions for install are clear and eas...   \n",
       "24999  If you want the right sound go with these. I'v...   \n",
       "\n",
       "                                          discourse_tree  \\\n",
       "0      [I loved the look and the great improvement at...   \n",
       "1      [Put these on my 2011 can am outlander 800xt ,...   \n",
       "2      [[Do n't buy this item , its not a 4 window ro...   \n",
       "3      [[Nice ., [A decent model , and at a better pr...   \n",
       "4      [[[(Explanation[N][S]\\n  I used this rating\\n ...   \n",
       "...                                                  ...   \n",
       "24994  [[Love the sound of Dixie !, [But it only last...   \n",
       "24995  [[This was very easy to install ., [(Contrast[...   \n",
       "24996  [[This does not work well ., [It sounds really...   \n",
       "24998  [[[The instructions for install are clear and ...   \n",
       "24999  [[If you want the right sound, go with these ....   \n",
       "\n",
       "                                 discourse_tree_ids_only  \\\n",
       "0                                                 [0, 1]   \n",
       "1                                       [0, [1, [2, 3]]]   \n",
       "2      [[0, 1], [[(Elaboration[N][S] 2 3), 4], [5, (T...   \n",
       "3      [[0, [1, (Attribution[S][N] 2 (Elaboration[N][...   \n",
       "4      [[[(Explanation[N][S] 0 1), 2], [3, (Joint[N][...   \n",
       "...                                                  ...   \n",
       "24994                              [[0, [1, 2]], [3, 4]]   \n",
       "24995  [[0, [(Contrast[S][N] 1 2), (Attribution[S][N]...   \n",
       "24996                       [[0, [1, 2]], [[3, 4], [5]]]   \n",
       "24998  [[[0, 1], [2, 3]], [[(Attribution[S][N]\\n  4\\n...   \n",
       "24999        [[0, 1], [[2, (Elaboration[N][S] 3 4)], 5]]   \n",
       "\n",
       "                                                    edus  \\\n",
       "0      [I loved the look and the great improvement at...   \n",
       "1      [Put these on my 2011 can am outlander 800xt ,...   \n",
       "2      [Do n't buy this item , its not a 4 window rol...   \n",
       "3      [Nice ., A decent model , and at a better pric...   \n",
       "4      [I used this rating, because I liked the key f...   \n",
       "...                                                  ...   \n",
       "24994  [Love the sound of Dixie !, But it only lasted...   \n",
       "24995  [This was very easy to install ., They gave me...   \n",
       "24996  [This does not work well ., It sounds really b...   \n",
       "24998  [The instructions for install are clear and ea...   \n",
       "24999  [If you want the right sound, go with these .,...   \n",
       "\n",
       "                                               sentiment  \\\n",
       "0                              [0.3333333333333333, 0.0]   \n",
       "1      [0.43333333333333335, 0.2857142857142857, 0.0,...   \n",
       "2              [0.0, -0.8, 0.0, 0.0, 0.0, 0.0, 0.0, 0.0]   \n",
       "3      [0.6, 0.3333333333333333, 0.0, 0.1363636363636...   \n",
       "4      [0.0, 0.2866666666666667, 0.0, 0.0, -0.5, 0.0,...   \n",
       "...                                                  ...   \n",
       "24994                       [0.5, 0.0, 0.0, 0.0, -0.025]   \n",
       "24995  [0.5633333333333334, 0.0, -0.125, 0.0, 0.0, -0...   \n",
       "24996  [0.0, -0.6999999999999998, -0.1, 0.0, 0.0, 0.7...   \n",
       "24998  [0.26666666666666666, 0.0, 0.5, 0.0, 0.25, 0.0...   \n",
       "24999  [0.34285714285714286, 0.0, 0.0, 0.55, 0.4, 0.5...   \n",
       "\n",
       "                                                 aspects  \\\n",
       "0                                               [[], []]   \n",
       "1                    [[install], [], [power switch], []]   \n",
       "2               [[], [], [], [], [], [shipping], [], []]   \n",
       "3      [[], [price, amazon], [], [], [], [], [price],...   \n",
       "4            [[], [key fob], [], [], [], [], [], [], []]   \n",
       "...                                                  ...   \n",
       "24994                               [[], [], [], [], []]   \n",
       "24995  [[install], [], [], [], [], [], [], [], [], []...   \n",
       "24996             [[], [], [], [], [dixieland song], []]   \n",
       "24998  [[], [], [], [], [], [], [], [], [], [], [], [...   \n",
       "24999  [[sound], [], [ebay], [wolo brand], [], [insta...   \n",
       "\n",
       "                                                concepts  \\\n",
       "0      [{'sentic': {}, 'conceptnet_io': {}}, {'sentic...   \n",
       "1      [{'sentic': {'install': {'install': ['set-up',...   \n",
       "2      [{'sentic': {}, 'conceptnet_io': {}}, {'sentic...   \n",
       "3      [{'sentic': {}, 'conceptnet_io': {}}, {'sentic...   \n",
       "4      [{'sentic': {}, 'conceptnet_io': {}}, {'sentic...   \n",
       "...                                                  ...   \n",
       "24994  [{'sentic': {}, 'conceptnet_io': {}}, {'sentic...   \n",
       "24995  [{'sentic': {'install': {'install': ['set-up',...   \n",
       "24996  [{'sentic': {}, 'conceptnet_io': {}}, {'sentic...   \n",
       "24998  [{'sentic': {}, 'conceptnet_io': {}}, {'sentic...   \n",
       "24999  [{'sentic': {'sound': {'sound': ['animal_sound...   \n",
       "\n",
       "                                                   rules  \n",
       "0                                                     []  \n",
       "1      [(2, 1, Elaboration, 0.5), (3, 1, Elaboration,...  \n",
       "2      [(0, 1, Attribution, 0.77), (1, 0, Attribution...  \n",
       "3      [(1, 0, Explanation, 0.52), (2, 0, Explanation...  \n",
       "4      [(1, 0, Explanation, 0.74), (0, 1, Explanation...  \n",
       "...                                                  ...  \n",
       "24994  [(1, 0, Contrast, 0.53), (2, 0, Contrast, 0.43...  \n",
       "24995  [(1, 0, Elaboration, 0.68), (2, 0, Elaboration...  \n",
       "24996  [(1, 0, Elaboration, 0.54), (2, 0, Elaboration...  \n",
       "24998  [(1, 0, Elaboration, 0.85), (0, 1, Elaboration...  \n",
       "24999  [(4, 3, Elaboration, 0.72), (3, 4, Elaboration...  \n",
       "\n",
       "[23387 rows x 8 columns]"
      ]
     },
     "execution_count": 41,
     "metadata": {},
     "output_type": "execute_result"
    }
   ],
   "source": [
    "df"
   ]
  },
  {
   "cell_type": "code",
   "execution_count": 16,
   "metadata": {},
   "outputs": [
    {
     "name": "stdout",
     "output_type": "stream",
     "text": [
      "/datasets/sentiment/aspects/sentiment-backend/aspects/data/reviews/amazon/reviews_Apps_for_Android.json 100001\n",
      "/datasets/sentiment/aspects/sentiment-backend/aspects/data/reviews/amazon/reviews_Automotive.json 1373794\n",
      "/datasets/sentiment/aspects/sentiment-backend/aspects/data/reviews/amazon/reviews_Amazon_Instant_Video.json 100001\n",
      "/datasets/sentiment/aspects/sentiment-backend/aspects/data/reviews/amazon/reviews_Cell_Phones_and_Accessories.json 100001\n"
     ]
    }
   ],
   "source": [
    "import json \n",
    "\n",
    "\n",
    "for d in datasets:\n",
    "    dataset = json\\.load(d.open('r'))\n",
    "    print(d, len(dataset))"
   ]
  },
  {
   "cell_type": "code",
   "execution_count": 12,
   "metadata": {},
   "outputs": [
    {
     "data": {
      "text/plain": [
       "100001"
      ]
     },
     "execution_count": 12,
     "metadata": {},
     "output_type": "execute_result"
    }
   ],
   "source": [
    "len(dataset)"
   ]
  },
  {
   "cell_type": "code",
   "execution_count": null,
   "metadata": {},
   "outputs": [],
   "source": []
  }
 ],
 "metadata": {
  "kernelspec": {
   "display_name": "Python 3",
   "language": "python",
   "name": "python3"
  },
  "language_info": {
   "codemirror_mode": {
    "name": "ipython",
    "version": 3
   },
   "file_extension": ".py",
   "mimetype": "text/x-python",
   "name": "python",
   "nbconvert_exporter": "python",
   "pygments_lexer": "ipython3",
   "version": "3.7.9"
  }
 },
 "nbformat": 4,
 "nbformat_minor": 4
}
