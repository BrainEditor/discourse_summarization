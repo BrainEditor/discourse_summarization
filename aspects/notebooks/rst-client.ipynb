{
 "cells": [
  {
   "cell_type": "code",
   "execution_count": 75,
   "metadata": {
    "ExecuteTime": {
     "end_time": "2019-12-29T20:11:16.410944Z",
     "start_time": "2019-12-29T20:11:16.390500Z"
    }
   },
   "outputs": [
    {
     "data": {
      "text/html": [
       "<style>.container { width:100% !important; }</style>"
      ],
      "text/plain": [
       "<IPython.core.display.HTML object>"
      ]
     },
     "metadata": {},
     "output_type": "display_data"
    }
   ],
   "source": [
    "from IPython.core.display import display, HTML\n",
    "display(HTML(\"<style>.container { width:100% !important; }</style>\"))\n",
    "\n",
    "import json\n",
    "\n",
    "import nltk\n",
    "import requests\n",
    "\n",
    "%matplotlib inline"
   ]
  },
  {
   "cell_type": "code",
   "execution_count": 76,
   "metadata": {
    "ExecuteTime": {
     "end_time": "2019-12-29T20:11:16.815498Z",
     "start_time": "2019-12-29T20:11:16.812565Z"
    }
   },
   "outputs": [],
   "source": [
    "payload = {\n",
    "    'text': 'I love this phone and I will buy a new one too. It is the best screen I have ever seen.'\n",
    "}"
   ]
  },
  {
   "cell_type": "code",
   "execution_count": 77,
   "metadata": {
    "ExecuteTime": {
     "end_time": "2019-12-29T20:11:18.392011Z",
     "start_time": "2019-12-29T20:11:17.229203Z"
    }
   },
   "outputs": [],
   "source": [
    "r = requests.post('http://oxygen.engine.kdm.wcss.pl:5000/api/rst/parse', json=payload)"
   ]
  },
  {
   "cell_type": "code",
   "execution_count": 78,
   "metadata": {
    "ExecuteTime": {
     "end_time": "2019-12-29T20:11:18.411270Z",
     "start_time": "2019-12-29T20:11:18.398717Z"
    }
   },
   "outputs": [
    {
     "data": {
      "text/plain": [
       "'(Summary[N][S]\\n  (Joint[N][N]\\n    _!I love this phone!_\\n    _!and I will buy a new one too . oo.!_)\\n  (Elaboration[N][S]\\n    _!It is the best screen!_\\n    _!I have ever seen . en.!_))'"
      ]
     },
     "execution_count": 78,
     "metadata": {},
     "output_type": "execute_result"
    }
   ],
   "source": [
    "r.json()['tree']"
   ]
  },
  {
   "cell_type": "code",
   "execution_count": 79,
   "metadata": {
    "ExecuteTime": {
     "end_time": "2019-12-29T20:11:24.227503Z",
     "start_time": "2019-12-29T20:11:24.219589Z"
    }
   },
   "outputs": [],
   "source": [
    "from aspects.utilities.settings import DISCOURSE_TREE_LEAF_PATTERN"
   ]
  },
  {
   "cell_type": "code",
   "execution_count": 99,
   "metadata": {
    "ExecuteTime": {
     "end_time": "2019-12-29T20:14:50.896653Z",
     "start_time": "2019-12-29T20:14:50.887393Z"
    }
   },
   "outputs": [],
   "source": [
    "tree = nltk.Tree.fromstring(\n",
    "    r.json()['tree'], leaf_pattern=r'(?<=_!).*(?=!_)')"
   ]
  },
  {
   "cell_type": "code",
   "execution_count": 100,
   "metadata": {
    "ExecuteTime": {
     "end_time": "2019-12-29T20:14:51.968096Z",
     "start_time": "2019-12-29T20:14:51.604632Z"
    }
   },
   "outputs": [
    {
     "data": {
      "image/png": "[encoded data removed]",
      "text/plain": [
       "Tree('Summary[N][S]', [Tree('Joint[N][N]', ['I love this phone', 'and I will buy a new one too . oo.']), Tree('Elaboration[N][S]', ['It is the best screen', 'I have ever seen . en.'])])"
      ]
     },
     "execution_count": 100,
     "metadata": {},
     "output_type": "execute_result"
    }
   ],
   "source": [
    "tree"
   ]
  },
  {
   "cell_type": "code",
   "execution_count": 36,
   "metadata": {
    "ExecuteTime": {
     "end_time": "2019-12-29T00:45:00.753345Z",
     "start_time": "2019-12-29T00:45:00.744252Z"
    }
   },
   "outputs": [
    {
     "name": "stdout",
     "output_type": "stream",
     "text": [
      "Summary[N][S]\n",
      "Joint[N][N]\n",
      "Elaboration[N][S]\n"
     ]
    }
   ],
   "source": [
    "print(tree.label())\n",
    "for i in tree:\n",
    "    print(i.label())"
   ]
  },
  {
   "cell_type": "code",
   "execution_count": 33,
   "metadata": {
    "ExecuteTime": {
     "end_time": "2019-12-29T00:44:11.161085Z",
     "start_time": "2019-12-29T00:44:11.151959Z"
    }
   },
   "outputs": [
    {
     "data": {
      "text/plain": [
       "'Summary[N][S]'"
      ]
     },
     "execution_count": 33,
     "metadata": {},
     "output_type": "execute_result"
    }
   ],
   "source": [
    "tree.label()"
   ]
  },
  {
   "cell_type": "code",
   "execution_count": 39,
   "metadata": {
    "ExecuteTime": {
     "end_time": "2019-12-29T00:45:41.459091Z",
     "start_time": "2019-12-29T00:45:41.089183Z"
    }
   },
   "outputs": [
    {
     "data": {
      "image/png": "[encoded data removed]",
      "text/plain": [
       "Tree('Summary[N][S]', ['_!I', 'love', 'this', 'phone!_', '_!and', 'I', 'will', 'buy', 'a', 'new', 'one', 'too', '.', 'oo.!_', '_!It', 'is', 'the', 'best', 'screen!_', '_!I', 'have', 'ever', 'seen', '.', 'en.!_'])"
      ]
     },
     "execution_count": 39,
     "metadata": {},
     "output_type": "execute_result"
    }
   ],
   "source": [
    "tree.flatten()"
   ]
  },
  {
   "cell_type": "code",
   "execution_count": 49,
   "metadata": {
    "ExecuteTime": {
     "end_time": "2019-12-29T01:43:52.102218Z",
     "start_time": "2019-12-29T01:43:52.090621Z"
    }
   },
   "outputs": [
    {
     "data": {
      "text/plain": [
       "(0, 2)"
      ]
     },
     "execution_count": 49,
     "metadata": {},
     "output_type": "execute_result"
    }
   ],
   "source": [
    "tree.leaf_treeposition(2)"
   ]
  },
  {
   "cell_type": "code",
   "execution_count": 44,
   "metadata": {
    "ExecuteTime": {
     "end_time": "2019-12-29T00:53:08.626945Z",
     "start_time": "2019-12-29T00:53:08.624347Z"
    }
   },
   "outputs": [],
   "source": [
    "tree.__setitem__(tree.leaf_treeposition(0), ' '.join(['a', 'b']))"
   ]
  },
  {
   "cell_type": "code",
   "execution_count": 69,
   "metadata": {
    "ExecuteTime": {
     "end_time": "2019-12-29T01:55:10.884188Z",
     "start_time": "2019-12-29T01:55:10.867725Z"
    }
   },
   "outputs": [
    {
     "data": {
      "text/plain": [
       "['I love this phone',\n",
       " 'and I will buy a new one too . oo.',\n",
       " 'It is the best screen',\n",
       " 'I have ever seen . en.']"
      ]
     },
     "execution_count": 69,
     "metadata": {},
     "output_type": "execute_result"
    }
   ],
   "source": [
    "edus_strings = [s.strip().replace('__!__', '') for s in ' '.join(tree.flatten()).split('__!__') if s]\n",
    "edus_strings"
   ]
  },
  {
   "cell_type": "code",
   "execution_count": 70,
   "metadata": {
    "ExecuteTime": {
     "end_time": "2019-12-29T01:56:34.468277Z",
     "start_time": "2019-12-29T01:56:34.464005Z"
    }
   },
   "outputs": [],
   "source": [
    "for i in range(len(edus_strings)):\n",
    "    tree.__setitem__(tree.leaf_treeposition(i), edus_strings[i])\n",
    "    # pt.__setitem__(pt.leaf_treeposition(i), ' '.join(doc.edus[i]))"
   ]
  },
  {
   "cell_type": "code",
   "execution_count": 71,
   "metadata": {
    "ExecuteTime": {
     "end_time": "2019-12-29T01:56:38.400126Z",
     "start_time": "2019-12-29T01:56:38.027391Z"
    }
   },
   "outputs": [
    {
     "data": {
      "image/png": "[encoded data removed]",
      "text/plain": [
       "Tree('Summary[N][S]', [Tree('Joint[N][N]', ['I love this phone', 'and I will buy a new one too . oo.', 'It is the best screen', 'I have ever seen . en.', '__!__', 'and', 'I', 'will', 'buy', 'a', 'new', 'one', 'too', '.', 'oo.', '__!__']), Tree('Elaboration[N][S]', ['It', 'is', 'the', 'best', 'screen', '__!__', 'I', 'have', 'ever', 'seen', '.', 'en.', '__!__'])])"
      ]
     },
     "execution_count": 71,
     "metadata": {},
     "output_type": "execute_result"
    }
   ],
   "source": [
    "tree"
   ]
  },
  {
   "cell_type": "code",
   "execution_count": 42,
   "metadata": {
    "ExecuteTime": {
     "end_time": "2019-12-29T00:46:15.533310Z",
     "start_time": "2019-12-29T00:46:15.524295Z"
    }
   },
   "outputs": [
    {
     "data": {
      "text/plain": [
       "<bound method Tree.collapse_unary of Tree('Summary[N][S]', [Tree('Joint[N][N]', ['_!I', 'love', 'this', 'phone!_', '_!and', 'I', 'will', 'buy', 'a', 'new', 'one', 'too', '.', 'oo.!_']), Tree('Elaboration[N][S]', ['_!It', 'is', 'the', 'best', 'screen!_', '_!I', 'have', 'ever', 'seen', '.', 'en.!_'])])>"
      ]
     },
     "execution_count": 42,
     "metadata": {},
     "output_type": "execute_result"
    }
   ],
   "source": [
    "tree.collapse_unary"
   ]
  }
 ],
 "metadata": {
  "kernelspec": {
   "display_name": "Python 3",
   "language": "python",
   "name": "python3"
  },
  "language_info": {
   "codemirror_mode": {
    "name": "ipython",
    "version": 3
   },
   "file_extension": ".py",
   "mimetype": "text/x-python",
   "name": "python",
   "nbconvert_exporter": "python",
   "pygments_lexer": "ipython3",
   "version": "3.6.8"
  },
  "toc": {
   "base_numbering": 1,
   "nav_menu": {},
   "number_sections": true,
   "sideBar": true,
   "skip_h1_title": false,
   "title_cell": "Table of Contents",
   "title_sidebar": "Contents",
   "toc_cell": false,
   "toc_position": {},
   "toc_section_display": true,
   "toc_window_display": false
  }
 },
 "nbformat": 4,
 "nbformat_minor": 2
}
