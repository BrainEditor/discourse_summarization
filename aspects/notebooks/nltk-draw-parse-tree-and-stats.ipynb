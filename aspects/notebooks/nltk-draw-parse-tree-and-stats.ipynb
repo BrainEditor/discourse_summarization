{
 "cells": [
  {
   "cell_type": "markdown",
   "metadata": {},
   "source": [
    "# Imports "
   ]
  },
  {
   "cell_type": "code",
   "execution_count": null,
   "metadata": {},
   "outputs": [],
   "source": []
  },
  {
   "cell_type": "code",
   "execution_count": 1,
   "metadata": {},
   "outputs": [],
   "source": [
    "%load_ext autoreload\n",
    "%autoreload 2"
   ]
  },
  {
   "cell_type": "code",
   "execution_count": 41,
   "metadata": {},
   "outputs": [],
   "source": [
    "from pathlib import Path\n",
    "from os.path import basename, join, exists\n",
    "from os import system, makedirs\n",
    "from glob import glob\n",
    "from pprint import pprint\n",
    "\n",
    "from IPython.display import Image, display\n",
    "from nltk.draw import TreeWidget\n",
    "from nltk.draw.util import CanvasFrame\n",
    "from nltk.tree import Tree\n",
    "\n",
    "import sys\n",
    "import re\n",
    "\n",
    "from wordcloud import WordCloud\n",
    "\n",
    "import requests\n",
    "import numpy as np\n",
    "import pandas as pd\n",
    "import networkx as nx\n",
    "import matplotlib.pyplot as plt\n",
    "\n",
    "from nltk.tree import ParentedTree\n",
    "from nltk.tree import Tree\n",
    "import matplotlib\n",
    "matplotlib.use('Agg')\n",
    "\n",
    "%matplotlib inline"
   ]
  },
  {
   "cell_type": "markdown",
   "metadata": {},
   "source": [
    "# Utils functions "
   ]
  },
  {
   "cell_type": "code",
   "execution_count": 5,
   "metadata": {},
   "outputs": [],
   "source": [
    "from aspects.visualization import draw_trees"
   ]
  },
  {
   "cell_type": "code",
   "execution_count": 6,
   "metadata": {},
   "outputs": [],
   "source": [
    "from aspects.utilities.transformations import load_serialized"
   ]
  },
  {
   "cell_type": "markdown",
   "metadata": {},
   "source": [
    "# Path to the results "
   ]
  },
  {
   "cell_type": "code",
   "execution_count": 7,
   "metadata": {},
   "outputs": [],
   "source": [
    "df = pd.read_pickle('../results/reviews_Apps_for_Android-103-docs/discourse_trees_df.pkl')"
   ]
  },
  {
   "cell_type": "code",
   "execution_count": 65,
   "metadata": {},
   "outputs": [],
   "source": [
    "tt = '\"(Elaboration[N][S]\\\\n  (Elaboration[N][S]\\\\n    _!Glad to finally see this app on the android market . my wife has it on her iphone and ipad and my son!_\\\\n    _!15 months loves it !!_)\\\\n  _!Hopefully more apps like this are on the way !!_)\"'"
   ]
  },
  {
   "cell_type": "code",
   "execution_count": 74,
   "metadata": {},
   "outputs": [
    {
     "name": "stdout",
     "output_type": "stream",
     "text": [
      "(Elaboration[N][S]\n",
      "  (Elaboration[N][S]\n",
      "    _!Glad to finally see this app on the android market . my wife has it on her iphone and ipad and my son!_\n",
      "    _!15 months loves it !!_)\n",
      "  _!Hopefully more apps like this are on the way !!_)\n"
     ]
    }
   ],
   "source": [
    "tt[1:-1].replace('\\\\n', '\\n')"
   ]
  },
  {
   "cell_type": "code",
   "execution_count": 67,
   "metadata": {},
   "outputs": [],
   "source": [
    "from pprint import pprint"
   ]
  },
  {
   "cell_type": "code",
   "execution_count": 70,
   "metadata": {},
   "outputs": [
    {
     "name": "stdout",
     "output_type": "stream",
     "text": [
      "('(Elaboration[N][S]\\\\n  (Elaboration[N][S]\\\\n    _!Glad to finally see this '\n",
      " 'app on the android market . my wife has it on her iphone and ipad and my '\n",
      " 'son!_\\\\n    _!15 months loves it !!_)\\\\n  _!Hopefully more apps like this '\n",
      " 'are on the way !!_)')\n"
     ]
    }
   ],
   "source": [
    "pprint(tt[1:-1])"
   ]
  },
  {
   "cell_type": "code",
   "execution_count": 43,
   "metadata": {},
   "outputs": [
    {
     "data": {
      "text/plain": [
       "'\"(Elaboration[N][S]\\\\n  (Elaboration[N][S]\\\\n    _!Glad to finally see this app on the android market . my wife has it on her iphone and ipad and my son!_\\\\n    _!15 months loves it !!_)\\\\n  _!Hopefully more apps like this are on the way !!_)\"'"
      ]
     },
     "execution_count": 43,
     "metadata": {},
     "output_type": "execute_result"
    }
   ],
   "source": [
    "tt"
   ]
  },
  {
   "cell_type": "code",
   "execution_count": null,
   "metadata": {},
   "outputs": [],
   "source": [
    "(Joint[N][N]\n",
    "  _!U With accessories , you can make the iPod into a digital recorder ,!_\n",
    "  (Joint[N][N]\n",
    "    (Elaboration[N][S]\n",
    "      _!broadcast it remotely through stereo speakers!_\n",
    "      _!using wireless technology ,!_)\n",
    "    (Elaboration[N][S]\n",
    "      _!and play it through your car speakers!_\n",
    "      _!using either a CD adaptor or FM stereo broadcaster.q . <P>!_\n",
    "    )\n",
    "  )\n",
    ")"
   ]
  },
  {
   "cell_type": "code",
   "execution_count": 5,
   "metadata": {},
   "outputs": [],
   "source": [
    "t = \"(Elaboration[N][S]  (same-unit[N][N]    (Elaboration[N][S]      _!Glad to finally see this app on the android market . my wife has it on her iphone and ipad and my son!_      _!( 15 months )!_)    _!loves it !!_)  _!Hopefully more apps like this are on the way !!_)\""
   ]
  },
  {
   "cell_type": "code",
   "execution_count": 66,
   "metadata": {},
   "outputs": [
    {
     "ename": "ValueError",
     "evalue": "Tree.read(): expected ')' but got 'end-of-string'\n            at index 228.\n                \"...e way !!_)\"\n                              ^",
     "output_type": "error",
     "traceback": [
      "\u001b[1;31m---------------------------------------------------------------------------\u001b[0m",
      "\u001b[1;31mValueError\u001b[0m                                Traceback (most recent call last)",
      "\u001b[1;32m<ipython-input-66-be7687761a7d>\u001b[0m in \u001b[0;36m<module>\u001b[1;34m\u001b[0m\n\u001b[0;32m      1\u001b[0m Tree.fromstring(\n\u001b[0;32m      2\u001b[0m     \u001b[1;34m\"\"\"(Elaboration[N][S]\\\\n  (Elaboration[N][S]\\\\n    _!Glad to finally see this app on the android market . my wife has it on her iphone and ipad and my son!_   _!15 months loves it !!_)\\\\n  _!Hopefully more apps like this are on the way !!_)\"\"\"\u001b[0m\u001b[1;33m.\u001b[0m\u001b[0mreplace\u001b[0m\u001b[1;33m(\u001b[0m\u001b[1;34m'\\\\n'\u001b[0m\u001b[1;33m,\u001b[0m \u001b[1;34m''\u001b[0m\u001b[1;33m)\u001b[0m\u001b[1;33m,\u001b[0m\u001b[1;33m\u001b[0m\u001b[1;33m\u001b[0m\u001b[0m\n\u001b[1;32m----> 3\u001b[1;33m     \u001b[0mleaf_pattern\u001b[0m\u001b[1;33m=\u001b[0m\u001b[1;34m\"(?<=_!).*(?=!_)\"\u001b[0m\u001b[1;33m\u001b[0m\u001b[1;33m\u001b[0m\u001b[0m\n\u001b[0m\u001b[0;32m      4\u001b[0m ).draw()\n",
      "\u001b[1;32mc:\\users\\lukau\\anaconda3\\envs\\aspects\\lib\\site-packages\\nltk\\tree.py\u001b[0m in \u001b[0;36mfromstring\u001b[1;34m(cls, s, brackets, read_node, read_leaf, node_pattern, leaf_pattern, remove_empty_top_bracketing)\u001b[0m\n\u001b[0;32m    696\u001b[0m         \u001b[1;31m# check that we got exactly one complete tree.\u001b[0m\u001b[1;33m\u001b[0m\u001b[1;33m\u001b[0m\u001b[1;33m\u001b[0m\u001b[0m\n\u001b[0;32m    697\u001b[0m         \u001b[1;32mif\u001b[0m \u001b[0mlen\u001b[0m\u001b[1;33m(\u001b[0m\u001b[0mstack\u001b[0m\u001b[1;33m)\u001b[0m \u001b[1;33m>\u001b[0m \u001b[1;36m1\u001b[0m\u001b[1;33m:\u001b[0m\u001b[1;33m\u001b[0m\u001b[1;33m\u001b[0m\u001b[0m\n\u001b[1;32m--> 698\u001b[1;33m             \u001b[0mcls\u001b[0m\u001b[1;33m.\u001b[0m\u001b[0m_parse_error\u001b[0m\u001b[1;33m(\u001b[0m\u001b[0ms\u001b[0m\u001b[1;33m,\u001b[0m \u001b[1;34m'end-of-string'\u001b[0m\u001b[1;33m,\u001b[0m \u001b[0mclose_b\u001b[0m\u001b[1;33m)\u001b[0m\u001b[1;33m\u001b[0m\u001b[1;33m\u001b[0m\u001b[0m\n\u001b[0m\u001b[0;32m    699\u001b[0m         \u001b[1;32melif\u001b[0m \u001b[0mlen\u001b[0m\u001b[1;33m(\u001b[0m\u001b[0mstack\u001b[0m\u001b[1;33m[\u001b[0m\u001b[1;36m0\u001b[0m\u001b[1;33m]\u001b[0m\u001b[1;33m[\u001b[0m\u001b[1;36m1\u001b[0m\u001b[1;33m]\u001b[0m\u001b[1;33m)\u001b[0m \u001b[1;33m==\u001b[0m \u001b[1;36m0\u001b[0m\u001b[1;33m:\u001b[0m\u001b[1;33m\u001b[0m\u001b[1;33m\u001b[0m\u001b[0m\n\u001b[0;32m    700\u001b[0m             \u001b[0mcls\u001b[0m\u001b[1;33m.\u001b[0m\u001b[0m_parse_error\u001b[0m\u001b[1;33m(\u001b[0m\u001b[0ms\u001b[0m\u001b[1;33m,\u001b[0m \u001b[1;34m'end-of-string'\u001b[0m\u001b[1;33m,\u001b[0m \u001b[0mopen_b\u001b[0m\u001b[1;33m)\u001b[0m\u001b[1;33m\u001b[0m\u001b[1;33m\u001b[0m\u001b[0m\n",
      "\u001b[1;32mc:\\users\\lukau\\anaconda3\\envs\\aspects\\lib\\site-packages\\nltk\\tree.py\u001b[0m in \u001b[0;36m_parse_error\u001b[1;34m(cls, s, match, expecting)\u001b[0m\n\u001b[0;32m    740\u001b[0m             \u001b[0moffset\u001b[0m \u001b[1;33m=\u001b[0m \u001b[1;36m13\u001b[0m\u001b[1;33m\u001b[0m\u001b[1;33m\u001b[0m\u001b[0m\n\u001b[0;32m    741\u001b[0m         \u001b[0mmsg\u001b[0m \u001b[1;33m+=\u001b[0m \u001b[1;34m'\\n%s\"%s\"\\n%s^'\u001b[0m \u001b[1;33m%\u001b[0m \u001b[1;33m(\u001b[0m\u001b[1;34m' '\u001b[0m \u001b[1;33m*\u001b[0m \u001b[1;36m16\u001b[0m\u001b[1;33m,\u001b[0m \u001b[0ms\u001b[0m\u001b[1;33m,\u001b[0m \u001b[1;34m' '\u001b[0m \u001b[1;33m*\u001b[0m \u001b[1;33m(\u001b[0m\u001b[1;36m17\u001b[0m \u001b[1;33m+\u001b[0m \u001b[0moffset\u001b[0m\u001b[1;33m)\u001b[0m\u001b[1;33m)\u001b[0m\u001b[1;33m\u001b[0m\u001b[1;33m\u001b[0m\u001b[0m\n\u001b[1;32m--> 742\u001b[1;33m         \u001b[1;32mraise\u001b[0m \u001b[0mValueError\u001b[0m\u001b[1;33m(\u001b[0m\u001b[0mmsg\u001b[0m\u001b[1;33m)\u001b[0m\u001b[1;33m\u001b[0m\u001b[1;33m\u001b[0m\u001b[0m\n\u001b[0m\u001b[0;32m    743\u001b[0m \u001b[1;33m\u001b[0m\u001b[0m\n\u001b[0;32m    744\u001b[0m     \u001b[1;31m# ////////////////////////////////////////////////////////////\u001b[0m\u001b[1;33m\u001b[0m\u001b[1;33m\u001b[0m\u001b[1;33m\u001b[0m\u001b[0m\n",
      "\u001b[1;31mValueError\u001b[0m: Tree.read(): expected ')' but got 'end-of-string'\n            at index 228.\n                \"...e way !!_)\"\n                              ^"
     ]
    }
   ],
   "source": [
    "Tree.fromstring(\n",
    "    \"\"\"(Elaboration[N][S]\\\\n  (Elaboration[N][S]\\\\n    _!Glad to finally see this app on the android market . my wife has it on her iphone and ipad and my son!_   _!15 months loves it !!_)\\\\n  _!Hopefully more apps like this are on the way !!_)\"\"\".replace('\\\\n', ''),    \n",
    "    leaf_pattern=\"(?<=_!).*(?=!_)\"\n",
    ").draw()"
   ]
  },
  {
   "cell_type": "code",
   "execution_count": 53,
   "metadata": {},
   "outputs": [
    {
     "data": {
      "text/plain": [
       "'(Elaboration[N][S]\\\\n  (Elaboration[N][S]\\\\n    _!Glad to finally see this app on the android market . my wife has it on her iphone and ipad and my son!_\\\\n    _!15 months loves it !!_)\\\\n  _!Hopefully more apps like this are on the way !!_)'"
      ]
     },
     "execution_count": 53,
     "metadata": {},
     "output_type": "execute_result"
    }
   ],
   "source": [
    "tt[1:-1]"
   ]
  },
  {
   "cell_type": "code",
   "execution_count": 56,
   "metadata": {},
   "outputs": [
    {
     "ename": "ValueError",
     "evalue": "ParentedTree.read(): expected ')' but got 'end-of-string'\n            at index 239.\n                \"... way !!_)\"\"\n                              ^",
     "output_type": "error",
     "traceback": [
      "\u001b[1;31m---------------------------------------------------------------------------\u001b[0m",
      "\u001b[1;31mValueError\u001b[0m                                Traceback (most recent call last)",
      "\u001b[1;32m<ipython-input-56-4c8a15a721e0>\u001b[0m in \u001b[0;36m<module>\u001b[1;34m\u001b[0m\n\u001b[0;32m      1\u001b[0m tree_1 = ParentedTree.fromstring(\n\u001b[0;32m      2\u001b[0m     \u001b[0mtt\u001b[0m\u001b[1;33m,\u001b[0m\u001b[1;33m\u001b[0m\u001b[1;33m\u001b[0m\u001b[0m\n\u001b[1;32m----> 3\u001b[1;33m     \u001b[0mleaf_pattern\u001b[0m\u001b[1;33m=\u001b[0m\u001b[1;34m\"(?<=_!).*(?=!_)\"\u001b[0m\u001b[1;33m\u001b[0m\u001b[1;33m\u001b[0m\u001b[0m\n\u001b[0m\u001b[0;32m      4\u001b[0m )\n",
      "\u001b[1;32mc:\\users\\lukau\\anaconda3\\envs\\aspects\\lib\\site-packages\\nltk\\tree.py\u001b[0m in \u001b[0;36mfromstring\u001b[1;34m(cls, s, brackets, read_node, read_leaf, node_pattern, leaf_pattern, remove_empty_top_bracketing)\u001b[0m\n\u001b[0;32m    696\u001b[0m         \u001b[1;31m# check that we got exactly one complete tree.\u001b[0m\u001b[1;33m\u001b[0m\u001b[1;33m\u001b[0m\u001b[1;33m\u001b[0m\u001b[0m\n\u001b[0;32m    697\u001b[0m         \u001b[1;32mif\u001b[0m \u001b[0mlen\u001b[0m\u001b[1;33m(\u001b[0m\u001b[0mstack\u001b[0m\u001b[1;33m)\u001b[0m \u001b[1;33m>\u001b[0m \u001b[1;36m1\u001b[0m\u001b[1;33m:\u001b[0m\u001b[1;33m\u001b[0m\u001b[1;33m\u001b[0m\u001b[0m\n\u001b[1;32m--> 698\u001b[1;33m             \u001b[0mcls\u001b[0m\u001b[1;33m.\u001b[0m\u001b[0m_parse_error\u001b[0m\u001b[1;33m(\u001b[0m\u001b[0ms\u001b[0m\u001b[1;33m,\u001b[0m \u001b[1;34m'end-of-string'\u001b[0m\u001b[1;33m,\u001b[0m \u001b[0mclose_b\u001b[0m\u001b[1;33m)\u001b[0m\u001b[1;33m\u001b[0m\u001b[1;33m\u001b[0m\u001b[0m\n\u001b[0m\u001b[0;32m    699\u001b[0m         \u001b[1;32melif\u001b[0m \u001b[0mlen\u001b[0m\u001b[1;33m(\u001b[0m\u001b[0mstack\u001b[0m\u001b[1;33m[\u001b[0m\u001b[1;36m0\u001b[0m\u001b[1;33m]\u001b[0m\u001b[1;33m[\u001b[0m\u001b[1;36m1\u001b[0m\u001b[1;33m]\u001b[0m\u001b[1;33m)\u001b[0m \u001b[1;33m==\u001b[0m \u001b[1;36m0\u001b[0m\u001b[1;33m:\u001b[0m\u001b[1;33m\u001b[0m\u001b[1;33m\u001b[0m\u001b[0m\n\u001b[0;32m    700\u001b[0m             \u001b[0mcls\u001b[0m\u001b[1;33m.\u001b[0m\u001b[0m_parse_error\u001b[0m\u001b[1;33m(\u001b[0m\u001b[0ms\u001b[0m\u001b[1;33m,\u001b[0m \u001b[1;34m'end-of-string'\u001b[0m\u001b[1;33m,\u001b[0m \u001b[0mopen_b\u001b[0m\u001b[1;33m)\u001b[0m\u001b[1;33m\u001b[0m\u001b[1;33m\u001b[0m\u001b[0m\n",
      "\u001b[1;32mc:\\users\\lukau\\anaconda3\\envs\\aspects\\lib\\site-packages\\nltk\\tree.py\u001b[0m in \u001b[0;36m_parse_error\u001b[1;34m(cls, s, match, expecting)\u001b[0m\n\u001b[0;32m    740\u001b[0m             \u001b[0moffset\u001b[0m \u001b[1;33m=\u001b[0m \u001b[1;36m13\u001b[0m\u001b[1;33m\u001b[0m\u001b[1;33m\u001b[0m\u001b[0m\n\u001b[0;32m    741\u001b[0m         \u001b[0mmsg\u001b[0m \u001b[1;33m+=\u001b[0m \u001b[1;34m'\\n%s\"%s\"\\n%s^'\u001b[0m \u001b[1;33m%\u001b[0m \u001b[1;33m(\u001b[0m\u001b[1;34m' '\u001b[0m \u001b[1;33m*\u001b[0m \u001b[1;36m16\u001b[0m\u001b[1;33m,\u001b[0m \u001b[0ms\u001b[0m\u001b[1;33m,\u001b[0m \u001b[1;34m' '\u001b[0m \u001b[1;33m*\u001b[0m \u001b[1;33m(\u001b[0m\u001b[1;36m17\u001b[0m \u001b[1;33m+\u001b[0m \u001b[0moffset\u001b[0m\u001b[1;33m)\u001b[0m\u001b[1;33m)\u001b[0m\u001b[1;33m\u001b[0m\u001b[1;33m\u001b[0m\u001b[0m\n\u001b[1;32m--> 742\u001b[1;33m         \u001b[1;32mraise\u001b[0m \u001b[0mValueError\u001b[0m\u001b[1;33m(\u001b[0m\u001b[0mmsg\u001b[0m\u001b[1;33m)\u001b[0m\u001b[1;33m\u001b[0m\u001b[1;33m\u001b[0m\u001b[0m\n\u001b[0m\u001b[0;32m    743\u001b[0m \u001b[1;33m\u001b[0m\u001b[0m\n\u001b[0;32m    744\u001b[0m     \u001b[1;31m# ////////////////////////////////////////////////////////////\u001b[0m\u001b[1;33m\u001b[0m\u001b[1;33m\u001b[0m\u001b[1;33m\u001b[0m\u001b[0m\n",
      "\u001b[1;31mValueError\u001b[0m: ParentedTree.read(): expected ')' but got 'end-of-string'\n            at index 239.\n                \"... way !!_)\"\"\n                              ^"
     ]
    }
   ],
   "source": [
    "tree_1 = ParentedTree.fromstring(\n",
    "    tt,\n",
    "    leaf_pattern=\"(?<=_!).*(?=!_)\"\n",
    ")"
   ]
  },
  {
   "cell_type": "code",
   "execution_count": 38,
   "metadata": {},
   "outputs": [],
   "source": [
    "tree_1.draw()"
   ]
  },
  {
   "cell_type": "code",
   "execution_count": 13,
   "metadata": {},
   "outputs": [],
   "source": [
    "tree_2 = ParentedTree.fromstring(\"\"\"(\n",
    "    Elaboration[N][S]  \n",
    "        (same-unit[N][N]    \n",
    "            (Elaboration[N][S]      \n",
    "                _!Glad to finally see this app on the android market . my wife has it on her iphone and ipad and my son!_      \n",
    "                _!( 15 months )!_\n",
    "            )    \n",
    "        _!loves it !!_\n",
    "        )  \n",
    "    _!Hopefully more apps like this are on the way !!_\n",
    "    )\"\"\",\n",
    "    leaf_pattern=\"(?<=_!).*(?=!_)\",\n",
    "                                 remove_empty_top_bracketing=True,+\n",
    ")"
   ]
  },
  {
   "cell_type": "code",
   "execution_count": 19,
   "metadata": {
    "scrolled": true
   },
   "outputs": [],
   "source": [
    "repr_ = ParentedTree.fromstring(tree_2.pformat()).__repr__()"
   ]
  },
  {
   "cell_type": "code",
   "execution_count": null,
   "metadata": {},
   "outputs": [],
   "source": []
  },
  {
   "cell_type": "code",
   "execution_count": 20,
   "metadata": {},
   "outputs": [
    {
     "data": {
      "text/plain": [
       "\"ParentedTree('Elaboration[N][S]', [ParentedTree('same-unit[N][N]', [ParentedTree('Elaboration[N][S]', ['Glad', 'to', 'finally', 'see', 'this', 'app', 'on', 'the', 'android', 'market', '.', 'my', 'wife', 'has', 'it', 'on', 'her', 'iphone', 'and', 'ipad', 'and', 'my', 'son', ParentedTree('15', [])]), 'loves', 'it', '!']), 'Hopefully', 'more', 'apps', 'like', 'this', 'are', 'on', 'the', 'way', '!'])\""
      ]
     },
     "execution_count": 20,
     "metadata": {},
     "output_type": "execute_result"
    }
   ],
   "source": [
    "repr_"
   ]
  },
  {
   "cell_type": "code",
   "execution_count": 23,
   "metadata": {},
   "outputs": [],
   "source": [
    "DISCOURSE_TREE_LEAF_PATTERN = \"(?<=_!).*(?=!_)\"\n",
    "DISCOURSE_TREE_NODE_PATTERN = \"(?<=ParentedTree).*\""
   ]
  },
  {
   "cell_type": "code",
   "execution_count": 30,
   "metadata": {},
   "outputs": [],
   "source": [
    "ParentedTree.fromstring(\n",
    "    s=repr_.replace('ParentedTree', ''),\n",
    "#     leaf_pattern=\"(?<=_!).*(?=!_)\",\n",
    "    remove_empty_top_bracketing=True,\n",
    ").draw()"
   ]
  },
  {
   "cell_type": "code",
   "execution_count": null,
   "metadata": {},
   "outputs": [],
   "source": []
  },
  {
   "cell_type": "code",
   "execution_count": null,
   "metadata": {},
   "outputs": [],
   "source": []
  },
  {
   "cell_type": "code",
   "execution_count": 14,
   "metadata": {},
   "outputs": [],
   "source": [
    "tree_2.draw()"
   ]
  },
  {
   "cell_type": "code",
   "execution_count": 8,
   "metadata": {},
   "outputs": [],
   "source": [
    "pt = ParentedTree.fromstring(str(df.discourse_tree.tolist()[2]))"
   ]
  },
  {
   "cell_type": "code",
   "execution_count": 39,
   "metadata": {},
   "outputs": [
    {
     "ename": "AttributeError",
     "evalue": "'str' object has no attribute 'leaves'",
     "output_type": "error",
     "traceback": [
      "\u001b[1;31m---------------------------------------------------------------------------\u001b[0m",
      "\u001b[1;31mAttributeError\u001b[0m                            Traceback (most recent call last)",
      "\u001b[1;32m<ipython-input-39-1b78312ccedb>\u001b[0m in \u001b[0;36m<module>\u001b[1;34m\u001b[0m\n\u001b[1;32m----> 1\u001b[1;33m \u001b[0mpt\u001b[0m\u001b[1;33m[\u001b[0m\u001b[1;36m0\u001b[0m\u001b[1;33m,\u001b[0m\u001b[1;36m1\u001b[0m\u001b[1;33m,\u001b[0m\u001b[1;36m1\u001b[0m\u001b[1;33m,\u001b[0m\u001b[1;36m0\u001b[0m\u001b[1;33m]\u001b[0m\u001b[1;33m.\u001b[0m\u001b[0mleaves\u001b[0m\u001b[1;33m(\u001b[0m\u001b[1;33m)\u001b[0m\u001b[1;33m\u001b[0m\u001b[1;33m\u001b[0m\u001b[0m\n\u001b[0m",
      "\u001b[1;31mAttributeError\u001b[0m: 'str' object has no attribute 'leaves'"
     ]
    }
   ],
   "source": [
    "pt[0,1,1,0].leaves()"
   ]
  },
  {
   "cell_type": "code",
   "execution_count": 11,
   "metadata": {},
   "outputs": [
    {
     "ename": "FileNotFoundError",
     "evalue": "[Errno 2] No such file or directory: 'tmp.png'",
     "output_type": "error",
     "traceback": [
      "\u001b[1;31m---------------------------------------------------------------------------\u001b[0m",
      "\u001b[1;31mFileNotFoundError\u001b[0m                         Traceback (most recent call last)",
      "\u001b[1;32m<ipython-input-11-56dbe258d05f>\u001b[0m in \u001b[0;36m<module>\u001b[1;34m\u001b[0m\n\u001b[1;32m----> 1\u001b[1;33m \u001b[0mdraw_trees\u001b[0m\u001b[1;33m.\u001b[0m\u001b[0mjupyter_draw_nltk_tree\u001b[0m\u001b[1;33m(\u001b[0m\u001b[0mpt\u001b[0m\u001b[1;33m,\u001b[0m \u001b[0mdirectory\u001b[0m\u001b[1;33m=\u001b[0m\u001b[1;34m'.'\u001b[0m\u001b[1;33m,\u001b[0m \u001b[0mshow_tree\u001b[0m\u001b[1;33m=\u001b[0m\u001b[1;32mTrue\u001b[0m\u001b[1;33m)\u001b[0m\u001b[1;33m\u001b[0m\u001b[1;33m\u001b[0m\u001b[0m\n\u001b[0m",
      "\u001b[1;32mc:\\users\\lukau\\github\\phd\\sentiment-backend\\aspects\\visualization\\draw_trees.py\u001b[0m in \u001b[0;36mjupyter_draw_nltk_tree\u001b[1;34m(tree, directory, f_name, show_tree)\u001b[0m\n\u001b[0;32m     35\u001b[0m     \u001b[1;32mif\u001b[0m \u001b[0mshow_tree\u001b[0m\u001b[1;33m:\u001b[0m\u001b[1;33m\u001b[0m\u001b[1;33m\u001b[0m\u001b[0m\n\u001b[0;32m     36\u001b[0m         display(\n\u001b[1;32m---> 37\u001b[1;33m             \u001b[1;33m(\u001b[0m\u001b[0mImage\u001b[0m\u001b[1;33m(\u001b[0m\u001b[0mfilename\u001b[0m\u001b[1;33m=\u001b[0m\u001b[0mpng_file_name\u001b[0m\u001b[1;33m)\u001b[0m\u001b[1;33m,\u001b[0m\u001b[1;33m)\u001b[0m\u001b[1;33m\u001b[0m\u001b[1;33m\u001b[0m\u001b[0m\n\u001b[0m\u001b[0;32m     38\u001b[0m         )\n\u001b[0;32m     39\u001b[0m \u001b[1;33m\u001b[0m\u001b[0m\n",
      "\u001b[1;32mc:\\users\\lukau\\anaconda3\\envs\\aspects\\lib\\site-packages\\IPython\\core\\display.py\u001b[0m in \u001b[0;36m__init__\u001b[1;34m(self, data, url, filename, format, embed, width, height, retina, unconfined, metadata)\u001b[0m\n\u001b[0;32m   1223\u001b[0m         \u001b[0mself\u001b[0m\u001b[1;33m.\u001b[0m\u001b[0munconfined\u001b[0m \u001b[1;33m=\u001b[0m \u001b[0munconfined\u001b[0m\u001b[1;33m\u001b[0m\u001b[1;33m\u001b[0m\u001b[0m\n\u001b[0;32m   1224\u001b[0m         super(Image, self).__init__(data=data, url=url, filename=filename, \n\u001b[1;32m-> 1225\u001b[1;33m                 metadata=metadata)\n\u001b[0m\u001b[0;32m   1226\u001b[0m \u001b[1;33m\u001b[0m\u001b[0m\n\u001b[0;32m   1227\u001b[0m         \u001b[1;32mif\u001b[0m \u001b[0mself\u001b[0m\u001b[1;33m.\u001b[0m\u001b[0mwidth\u001b[0m \u001b[1;32mis\u001b[0m \u001b[1;32mNone\u001b[0m \u001b[1;32mand\u001b[0m \u001b[0mself\u001b[0m\u001b[1;33m.\u001b[0m\u001b[0mmetadata\u001b[0m\u001b[1;33m.\u001b[0m\u001b[0mget\u001b[0m\u001b[1;33m(\u001b[0m\u001b[1;34m'width'\u001b[0m\u001b[1;33m,\u001b[0m \u001b[1;33m{\u001b[0m\u001b[1;33m}\u001b[0m\u001b[1;33m)\u001b[0m\u001b[1;33m:\u001b[0m\u001b[1;33m\u001b[0m\u001b[1;33m\u001b[0m\u001b[0m\n",
      "\u001b[1;32mc:\\users\\lukau\\anaconda3\\envs\\aspects\\lib\\site-packages\\IPython\\core\\display.py\u001b[0m in \u001b[0;36m__init__\u001b[1;34m(self, data, url, filename, metadata)\u001b[0m\n\u001b[0;32m    628\u001b[0m             \u001b[0mself\u001b[0m\u001b[1;33m.\u001b[0m\u001b[0mmetadata\u001b[0m \u001b[1;33m=\u001b[0m \u001b[1;33m{\u001b[0m\u001b[1;33m}\u001b[0m\u001b[1;33m\u001b[0m\u001b[1;33m\u001b[0m\u001b[0m\n\u001b[0;32m    629\u001b[0m \u001b[1;33m\u001b[0m\u001b[0m\n\u001b[1;32m--> 630\u001b[1;33m         \u001b[0mself\u001b[0m\u001b[1;33m.\u001b[0m\u001b[0mreload\u001b[0m\u001b[1;33m(\u001b[0m\u001b[1;33m)\u001b[0m\u001b[1;33m\u001b[0m\u001b[1;33m\u001b[0m\u001b[0m\n\u001b[0m\u001b[0;32m    631\u001b[0m         \u001b[0mself\u001b[0m\u001b[1;33m.\u001b[0m\u001b[0m_check_data\u001b[0m\u001b[1;33m(\u001b[0m\u001b[1;33m)\u001b[0m\u001b[1;33m\u001b[0m\u001b[1;33m\u001b[0m\u001b[0m\n\u001b[0;32m    632\u001b[0m \u001b[1;33m\u001b[0m\u001b[0m\n",
      "\u001b[1;32mc:\\users\\lukau\\anaconda3\\envs\\aspects\\lib\\site-packages\\IPython\\core\\display.py\u001b[0m in \u001b[0;36mreload\u001b[1;34m(self)\u001b[0m\n\u001b[0;32m   1254\u001b[0m         \u001b[1;34m\"\"\"Reload the raw data from file or URL.\"\"\"\u001b[0m\u001b[1;33m\u001b[0m\u001b[1;33m\u001b[0m\u001b[0m\n\u001b[0;32m   1255\u001b[0m         \u001b[1;32mif\u001b[0m \u001b[0mself\u001b[0m\u001b[1;33m.\u001b[0m\u001b[0membed\u001b[0m\u001b[1;33m:\u001b[0m\u001b[1;33m\u001b[0m\u001b[1;33m\u001b[0m\u001b[0m\n\u001b[1;32m-> 1256\u001b[1;33m             \u001b[0msuper\u001b[0m\u001b[1;33m(\u001b[0m\u001b[0mImage\u001b[0m\u001b[1;33m,\u001b[0m\u001b[0mself\u001b[0m\u001b[1;33m)\u001b[0m\u001b[1;33m.\u001b[0m\u001b[0mreload\u001b[0m\u001b[1;33m(\u001b[0m\u001b[1;33m)\u001b[0m\u001b[1;33m\u001b[0m\u001b[1;33m\u001b[0m\u001b[0m\n\u001b[0m\u001b[0;32m   1257\u001b[0m             \u001b[1;32mif\u001b[0m \u001b[0mself\u001b[0m\u001b[1;33m.\u001b[0m\u001b[0mretina\u001b[0m\u001b[1;33m:\u001b[0m\u001b[1;33m\u001b[0m\u001b[1;33m\u001b[0m\u001b[0m\n\u001b[0;32m   1258\u001b[0m                 \u001b[0mself\u001b[0m\u001b[1;33m.\u001b[0m\u001b[0m_retina_shape\u001b[0m\u001b[1;33m(\u001b[0m\u001b[1;33m)\u001b[0m\u001b[1;33m\u001b[0m\u001b[1;33m\u001b[0m\u001b[0m\n",
      "\u001b[1;32mc:\\users\\lukau\\anaconda3\\envs\\aspects\\lib\\site-packages\\IPython\\core\\display.py\u001b[0m in \u001b[0;36mreload\u001b[1;34m(self)\u001b[0m\n\u001b[0;32m    653\u001b[0m         \u001b[1;34m\"\"\"Reload the raw data from file or URL.\"\"\"\u001b[0m\u001b[1;33m\u001b[0m\u001b[1;33m\u001b[0m\u001b[0m\n\u001b[0;32m    654\u001b[0m         \u001b[1;32mif\u001b[0m \u001b[0mself\u001b[0m\u001b[1;33m.\u001b[0m\u001b[0mfilename\u001b[0m \u001b[1;32mis\u001b[0m \u001b[1;32mnot\u001b[0m \u001b[1;32mNone\u001b[0m\u001b[1;33m:\u001b[0m\u001b[1;33m\u001b[0m\u001b[1;33m\u001b[0m\u001b[0m\n\u001b[1;32m--> 655\u001b[1;33m             \u001b[1;32mwith\u001b[0m \u001b[0mopen\u001b[0m\u001b[1;33m(\u001b[0m\u001b[0mself\u001b[0m\u001b[1;33m.\u001b[0m\u001b[0mfilename\u001b[0m\u001b[1;33m,\u001b[0m \u001b[0mself\u001b[0m\u001b[1;33m.\u001b[0m\u001b[0m_read_flags\u001b[0m\u001b[1;33m)\u001b[0m \u001b[1;32mas\u001b[0m \u001b[0mf\u001b[0m\u001b[1;33m:\u001b[0m\u001b[1;33m\u001b[0m\u001b[1;33m\u001b[0m\u001b[0m\n\u001b[0m\u001b[0;32m    656\u001b[0m                 \u001b[0mself\u001b[0m\u001b[1;33m.\u001b[0m\u001b[0mdata\u001b[0m \u001b[1;33m=\u001b[0m \u001b[0mf\u001b[0m\u001b[1;33m.\u001b[0m\u001b[0mread\u001b[0m\u001b[1;33m(\u001b[0m\u001b[1;33m)\u001b[0m\u001b[1;33m\u001b[0m\u001b[1;33m\u001b[0m\u001b[0m\n\u001b[0;32m    657\u001b[0m         \u001b[1;32melif\u001b[0m \u001b[0mself\u001b[0m\u001b[1;33m.\u001b[0m\u001b[0murl\u001b[0m \u001b[1;32mis\u001b[0m \u001b[1;32mnot\u001b[0m \u001b[1;32mNone\u001b[0m\u001b[1;33m:\u001b[0m\u001b[1;33m\u001b[0m\u001b[1;33m\u001b[0m\u001b[0m\n",
      "\u001b[1;31mFileNotFoundError\u001b[0m: [Errno 2] No such file or directory: 'tmp.png'"
     ]
    }
   ],
   "source": [
    "draw_trees.jupyter_draw_nltk_tree(pt, directory='.', show_tree=True)"
   ]
  },
  {
   "cell_type": "code",
   "execution_count": 68,
   "metadata": {},
   "outputs": [
    {
     "name": "stdout",
     "output_type": "stream",
     "text": [
      "(\"ParseTree\n",
      "  ('textual-organization[N][N]',\n",
      "    [ParseTree\n",
      "    ('Evaluation[N][S]',\n",
      "      [ParseTree\n",
      "      ('Attribution[S][N]',\n",
      "        [\\\"We\n",
      "        love\n",
      "        these\n",
      "        monkey\n",
      "        's\n",
      "        and\n",
      "        all\n",
      "        the\n",
      "        concepts\\\",\n",
      "        ParseTree\n",
      "        ('Attribution[S][N]',\n",
      "          ['that\n",
      "          you\n",
      "          learn',\n",
      "          'while\n",
      "          working\n",
      "          with\n",
      "          them\n",
      "          .'])\n",
      "        ])\n",
      "      ,\n",
      "      ParseTree\n",
      "      ('Explanation[N][S]',\n",
      "        ['I\n",
      "        love\n",
      "        the\n",
      "        jumping\n",
      "        on\n",
      "        the\n",
      "        bed\n",
      "        as\n",
      "        well\n",
      "        as\n",
      "        the\n",
      "        counting\n",
      "        ,\n",
      "        fine\n",
      "        motor\n",
      "        ,\n",
      "        interactivity\n",
      "        and\n",
      "        finding\n",
      "        of\n",
      "        hidden\n",
      "        objects\n",
      "        .',\n",
      "        ParseTree\n",
      "        ('Elaboration[N][S]',\n",
      "          ['When\n",
      "          we\n",
      "          play\n",
      "          with\n",
      "          this\n",
      "          app\n",
      "          my\n",
      "          son\n",
      "          experiments',\n",
      "          ParseTree\n",
      "          ('Enablement[N][S]',\n",
      "            ['with\n",
      "            touching\n",
      "            all\n",
      "            of\n",
      "            the\n",
      "            different\n",
      "            objects',\n",
      "            'to\n",
      "            see\n",
      "            what\n",
      "            they\n",
      "            do\n",
      "            .'])\n",
      "          ])\n",
      "        ])\n",
      "      ])\n",
      "    ,\n",
      "    'Fun\n",
      "    and\n",
      "    well\n",
      "    worth\n",
      "    the\n",
      "    money\n",
      "    !'])\n",
      "  \\n\")\n"
     ]
    }
   ],
   "source": [
    "pt.pprint()"
   ]
  },
  {
   "cell_type": "code",
   "execution_count": 44,
   "metadata": {},
   "outputs": [],
   "source": [
    "t = df.discourse_tree.tolist()[0] "
   ]
  },
  {
   "cell_type": "code",
   "execution_count": 46,
   "metadata": {},
   "outputs": [
    {
     "data": {
      "text/plain": [
       "['[ParseTree',\n",
       " '[ParseTree',\n",
       " \"['Glad\",\n",
       " 'to',\n",
       " 'finally',\n",
       " 'see',\n",
       " 'this',\n",
       " 'app',\n",
       " 'on',\n",
       " 'the',\n",
       " 'android',\n",
       " 'market',\n",
       " '.',\n",
       " 'my',\n",
       " 'wife',\n",
       " 'has',\n",
       " 'it',\n",
       " 'on',\n",
       " 'her',\n",
       " 'iphone',\n",
       " 'and',\n",
       " 'ipad',\n",
       " 'and',\n",
       " 'my',\n",
       " \"son',\",\n",
       " \"'\",\n",
       " 'months',\n",
       " \"']\",\n",
       " ',',\n",
       " \"'loves\",\n",
       " 'it',\n",
       " \"!']\",\n",
       " ',',\n",
       " \"'Hopefully\",\n",
       " 'more',\n",
       " 'apps',\n",
       " 'like',\n",
       " 'this',\n",
       " 'are',\n",
       " 'on',\n",
       " 'the',\n",
       " 'way',\n",
       " \"!']\",\n",
       " '\\\\n\"']"
      ]
     },
     "execution_count": 46,
     "metadata": {},
     "output_type": "execute_result"
    }
   ],
   "source": [
    "t.leaves()"
   ]
  },
  {
   "cell_type": "code",
   "execution_count": 57,
   "metadata": {},
   "outputs": [
    {
     "data": {
      "text/plain": [
       "'see'"
      ]
     },
     "execution_count": 57,
     "metadata": {},
     "output_type": "execute_result"
    }
   ],
   "source": [
    "t.__getitem__(t.leaf_treeposition(5))"
   ]
  },
  {
   "cell_type": "code",
   "execution_count": 41,
   "metadata": {},
   "outputs": [
    {
     "data": {
      "text/plain": [
       "'100.0%'"
      ]
     },
     "execution_count": 41,
     "metadata": {},
     "output_type": "execute_result"
    }
   ],
   "source": [
    "f'{len(df[df.discourse_tree.apply(lambda t: True if t else False)]) / len(df) * 100}%'"
   ]
  },
  {
   "cell_type": "code",
   "execution_count": 6,
   "metadata": {},
   "outputs": [],
   "source": [
    "data_path = Path('../results/reviews_Apps_for_Android-100-docs/')\n",
    "# data_path = '../results/Canon_S100'\n",
    "# dataset_name = basename(data_path)\n",
    "# data_path_trees = join(data_path,  'edu_trees_dir')\n",
    "# data_path_link_tree = join(data_path,  'link_trees_dir')"
   ]
  },
  {
   "cell_type": "code",
   "execution_count": 8,
   "metadata": {},
   "outputs": [
    {
     "data": {
      "text/plain": [
       "[PosixPath('../results/reviews_Amazon_Instant_Video-10000-docs/our'),\n",
       " PosixPath('../results/reviews_Amazon_Instant_Video-10000-docs/discourse_trees_df.pkl'),\n",
       " PosixPath('../results/reviews_Amazon_Instant_Video-10000-docs/our_top_1_rules')]"
      ]
     },
     "execution_count": 8,
     "metadata": {},
     "output_type": "execute_result"
    }
   ],
   "source": [
    "list(data_path.glob('*'))"
   ]
  },
  {
   "cell_type": "code",
   "execution_count": 9,
   "metadata": {},
   "outputs": [],
   "source": [
    "from tqdm import tqdm"
   ]
  },
  {
   "cell_type": "code",
   "execution_count": 10,
   "metadata": {},
   "outputs": [],
   "source": [
    "import pickle"
   ]
  },
  {
   "cell_type": "code",
   "execution_count": 13,
   "metadata": {},
   "outputs": [
    {
     "name": "stderr",
     "output_type": "stream",
     "text": [
      "5it [00:00, 25.37it/s]"
     ]
    },
    {
     "name": "stdout",
     "output_type": "stream",
     "text": [
      "../results/reviews_Automotive-10000-docs 6\n",
      "../results/reviews_Apps_for_Android-10000-docs 0\n",
      "../results/reviews_Cell_Phones_and_Accessories-10000-docs 0\n",
      "../results/reviews_Amazon_Instant_Video-10000-docs 0\n"
     ]
    },
    {
     "name": "stderr",
     "output_type": "stream",
     "text": [
      "\n"
     ]
    }
   ],
   "source": [
    "for r in tqdm(Path('../results').glob('reviews*10000*')):\n",
    "    discoursee_tree_df_path = r / 'discourse_trees_df.pkl'\n",
    "    if discoursee_tree_df_path.exists():\n",
    "        try:\n",
    "            df = pd.read_pickle(discoursee_tree_df_path)\n",
    "            df = df[df.discourse_tree.apply(lambda t: True if t else False)]\n",
    "            print(r, len(df))\n",
    "        except pickle.UnpicklingError:\n",
    "            print(f'UnpicklingError for {discoursee_tree_df_path.as_posix()}')"
   ]
  },
  {
   "cell_type": "code",
   "execution_count": 57,
   "metadata": {},
   "outputs": [],
   "source": [
    "t = df.sample(4).discourse_tree.tolist()[0]"
   ]
  },
  {
   "cell_type": "code",
   "execution_count": 60,
   "metadata": {},
   "outputs": [
    {
     "name": "stdout",
     "output_type": "stream",
     "text": [
      "ds\n"
     ]
    }
   ],
   "source": [
    "if not t: print('ds')"
   ]
  },
  {
   "cell_type": "code",
   "execution_count": 33,
   "metadata": {},
   "outputs": [
    {
     "name": "stderr",
     "output_type": "stream",
     "text": [
      "/home/laugustyniak/.local/lib/python3.6/site-packages/ipykernel_launcher.py:1: FutureWarning:\n",
      "\n",
      "\n",
      ".ix is deprecated. Please use\n",
      ".loc for label based indexing or\n",
      ".iloc for positional indexing\n",
      "\n",
      "See the documentation here:\n",
      "http://pandas.pydata.org/pandas-docs/stable/user_guide/indexing.html#ix-indexer-is-deprecated\n",
      "\n"
     ]
    },
    {
     "ename": "TclError",
     "evalue": "no display name and no $DISPLAY environment variable",
     "output_type": "error",
     "traceback": [
      "\u001b[0;31m---------------------------------------------------------------------------\u001b[0m",
      "\u001b[0;31mTclError\u001b[0m                                  Traceback (most recent call last)",
      "\u001b[0;32m~/.local/lib/python3.6/site-packages/IPython/core/formatters.py\u001b[0m in \u001b[0;36m__call__\u001b[0;34m(self, obj)\u001b[0m\n\u001b[1;32m    343\u001b[0m             \u001b[0mmethod\u001b[0m \u001b[0;34m=\u001b[0m \u001b[0mget_real_method\u001b[0m\u001b[0;34m(\u001b[0m\u001b[0mobj\u001b[0m\u001b[0;34m,\u001b[0m \u001b[0mself\u001b[0m\u001b[0;34m.\u001b[0m\u001b[0mprint_method\u001b[0m\u001b[0;34m)\u001b[0m\u001b[0;34m\u001b[0m\u001b[0;34m\u001b[0m\u001b[0m\n\u001b[1;32m    344\u001b[0m             \u001b[0;32mif\u001b[0m \u001b[0mmethod\u001b[0m \u001b[0;32mis\u001b[0m \u001b[0;32mnot\u001b[0m \u001b[0;32mNone\u001b[0m\u001b[0;34m:\u001b[0m\u001b[0;34m\u001b[0m\u001b[0;34m\u001b[0m\u001b[0m\n\u001b[0;32m--> 345\u001b[0;31m                 \u001b[0;32mreturn\u001b[0m \u001b[0mmethod\u001b[0m\u001b[0;34m(\u001b[0m\u001b[0;34m)\u001b[0m\u001b[0;34m\u001b[0m\u001b[0;34m\u001b[0m\u001b[0m\n\u001b[0m\u001b[1;32m    346\u001b[0m             \u001b[0;32mreturn\u001b[0m \u001b[0;32mNone\u001b[0m\u001b[0;34m\u001b[0m\u001b[0;34m\u001b[0m\u001b[0m\n\u001b[1;32m    347\u001b[0m         \u001b[0;32melse\u001b[0m\u001b[0;34m:\u001b[0m\u001b[0;34m\u001b[0m\u001b[0;34m\u001b[0m\u001b[0m\n",
      "\u001b[0;32m~/anaconda3/envs/aspects/lib/python3.6/site-packages/nltk/tree.py\u001b[0m in \u001b[0;36m_repr_png_\u001b[0;34m(self)\u001b[0m\n\u001b[1;32m    786\u001b[0m         \u001b[0;32mfrom\u001b[0m \u001b[0mnltk\u001b[0m\u001b[0;34m.\u001b[0m\u001b[0minternals\u001b[0m \u001b[0;32mimport\u001b[0m \u001b[0mfind_binary\u001b[0m\u001b[0;34m\u001b[0m\u001b[0;34m\u001b[0m\u001b[0m\n\u001b[1;32m    787\u001b[0m \u001b[0;34m\u001b[0m\u001b[0m\n\u001b[0;32m--> 788\u001b[0;31m         \u001b[0m_canvas_frame\u001b[0m \u001b[0;34m=\u001b[0m \u001b[0mCanvasFrame\u001b[0m\u001b[0;34m(\u001b[0m\u001b[0;34m)\u001b[0m\u001b[0;34m\u001b[0m\u001b[0;34m\u001b[0m\u001b[0m\n\u001b[0m\u001b[1;32m    789\u001b[0m         \u001b[0mwidget\u001b[0m \u001b[0;34m=\u001b[0m \u001b[0mtree_to_treesegment\u001b[0m\u001b[0;34m(\u001b[0m\u001b[0m_canvas_frame\u001b[0m\u001b[0;34m.\u001b[0m\u001b[0mcanvas\u001b[0m\u001b[0;34m(\u001b[0m\u001b[0;34m)\u001b[0m\u001b[0;34m,\u001b[0m \u001b[0mself\u001b[0m\u001b[0;34m)\u001b[0m\u001b[0;34m\u001b[0m\u001b[0;34m\u001b[0m\u001b[0m\n\u001b[1;32m    790\u001b[0m         \u001b[0m_canvas_frame\u001b[0m\u001b[0;34m.\u001b[0m\u001b[0madd_widget\u001b[0m\u001b[0;34m(\u001b[0m\u001b[0mwidget\u001b[0m\u001b[0;34m)\u001b[0m\u001b[0;34m\u001b[0m\u001b[0;34m\u001b[0m\u001b[0m\n",
      "\u001b[0;32m~/anaconda3/envs/aspects/lib/python3.6/site-packages/nltk/draw/util.py\u001b[0m in \u001b[0;36m__init__\u001b[0;34m(self, parent, **kw)\u001b[0m\n\u001b[1;32m   1793\u001b[0m         \u001b[0;31m# If no parent was given, set up a top-level window.\u001b[0m\u001b[0;34m\u001b[0m\u001b[0;34m\u001b[0m\u001b[0;34m\u001b[0m\u001b[0m\n\u001b[1;32m   1794\u001b[0m         \u001b[0;32mif\u001b[0m \u001b[0mparent\u001b[0m \u001b[0;32mis\u001b[0m \u001b[0;32mNone\u001b[0m\u001b[0;34m:\u001b[0m\u001b[0;34m\u001b[0m\u001b[0;34m\u001b[0m\u001b[0m\n\u001b[0;32m-> 1795\u001b[0;31m             \u001b[0mself\u001b[0m\u001b[0;34m.\u001b[0m\u001b[0m_parent\u001b[0m \u001b[0;34m=\u001b[0m \u001b[0mTk\u001b[0m\u001b[0;34m(\u001b[0m\u001b[0;34m)\u001b[0m\u001b[0;34m\u001b[0m\u001b[0;34m\u001b[0m\u001b[0m\n\u001b[0m\u001b[1;32m   1796\u001b[0m             \u001b[0mself\u001b[0m\u001b[0;34m.\u001b[0m\u001b[0m_parent\u001b[0m\u001b[0;34m.\u001b[0m\u001b[0mtitle\u001b[0m\u001b[0;34m(\u001b[0m\u001b[0;34m'NLTK'\u001b[0m\u001b[0;34m)\u001b[0m\u001b[0;34m\u001b[0m\u001b[0;34m\u001b[0m\u001b[0m\n\u001b[1;32m   1797\u001b[0m             \u001b[0mself\u001b[0m\u001b[0;34m.\u001b[0m\u001b[0m_parent\u001b[0m\u001b[0;34m.\u001b[0m\u001b[0mbind\u001b[0m\u001b[0;34m(\u001b[0m\u001b[0;34m'<Control-p>'\u001b[0m\u001b[0;34m,\u001b[0m \u001b[0;32mlambda\u001b[0m \u001b[0me\u001b[0m\u001b[0;34m:\u001b[0m \u001b[0mself\u001b[0m\u001b[0;34m.\u001b[0m\u001b[0mprint_to_file\u001b[0m\u001b[0;34m(\u001b[0m\u001b[0;34m)\u001b[0m\u001b[0;34m)\u001b[0m\u001b[0;34m\u001b[0m\u001b[0;34m\u001b[0m\u001b[0m\n",
      "\u001b[0;32m~/anaconda3/envs/aspects/lib/python3.6/tkinter/__init__.py\u001b[0m in \u001b[0;36m__init__\u001b[0;34m(self, screenName, baseName, className, useTk, sync, use)\u001b[0m\n\u001b[1;32m   2021\u001b[0m                 \u001b[0mbaseName\u001b[0m \u001b[0;34m=\u001b[0m \u001b[0mbaseName\u001b[0m \u001b[0;34m+\u001b[0m \u001b[0mext\u001b[0m\u001b[0;34m\u001b[0m\u001b[0;34m\u001b[0m\u001b[0m\n\u001b[1;32m   2022\u001b[0m         \u001b[0minteractive\u001b[0m \u001b[0;34m=\u001b[0m \u001b[0;36m0\u001b[0m\u001b[0;34m\u001b[0m\u001b[0;34m\u001b[0m\u001b[0m\n\u001b[0;32m-> 2023\u001b[0;31m         \u001b[0mself\u001b[0m\u001b[0;34m.\u001b[0m\u001b[0mtk\u001b[0m \u001b[0;34m=\u001b[0m \u001b[0m_tkinter\u001b[0m\u001b[0;34m.\u001b[0m\u001b[0mcreate\u001b[0m\u001b[0;34m(\u001b[0m\u001b[0mscreenName\u001b[0m\u001b[0;34m,\u001b[0m \u001b[0mbaseName\u001b[0m\u001b[0;34m,\u001b[0m \u001b[0mclassName\u001b[0m\u001b[0;34m,\u001b[0m \u001b[0minteractive\u001b[0m\u001b[0;34m,\u001b[0m \u001b[0mwantobjects\u001b[0m\u001b[0;34m,\u001b[0m \u001b[0museTk\u001b[0m\u001b[0;34m,\u001b[0m \u001b[0msync\u001b[0m\u001b[0;34m,\u001b[0m \u001b[0muse\u001b[0m\u001b[0;34m)\u001b[0m\u001b[0;34m\u001b[0m\u001b[0;34m\u001b[0m\u001b[0m\n\u001b[0m\u001b[1;32m   2024\u001b[0m         \u001b[0;32mif\u001b[0m \u001b[0museTk\u001b[0m\u001b[0;34m:\u001b[0m\u001b[0;34m\u001b[0m\u001b[0;34m\u001b[0m\u001b[0m\n\u001b[1;32m   2025\u001b[0m             \u001b[0mself\u001b[0m\u001b[0;34m.\u001b[0m\u001b[0m_loadtk\u001b[0m\u001b[0;34m(\u001b[0m\u001b[0;34m)\u001b[0m\u001b[0;34m\u001b[0m\u001b[0;34m\u001b[0m\u001b[0m\n",
      "\u001b[0;31mTclError\u001b[0m: no display name and no $DISPLAY environment variable"
     ]
    },
    {
     "data": {
      "text/plain": [
       "Tree('', [])"
      ]
     },
     "execution_count": 33,
     "metadata": {},
     "output_type": "execute_result"
    }
   ],
   "source": [
    "df.discourse_tree."
   ]
  },
  {
   "cell_type": "code",
   "execution_count": null,
   "metadata": {},
   "outputs": [],
   "source": []
  },
  {
   "cell_type": "markdown",
   "metadata": {},
   "source": [
    "# Get parse trees "
   ]
  },
  {
   "cell_type": "code",
   "execution_count": 6,
   "metadata": {},
   "outputs": [],
   "source": [
    "tree_names = [ basename(x) for x in glob(join(data_path_trees, '*.tree.ser'))]\n",
    "n_docs = len(tree_names)"
   ]
  },
  {
   "cell_type": "code",
   "execution_count": 7,
   "metadata": {},
   "outputs": [
    {
     "data": {
      "text/plain": [
       "530"
      ]
     },
     "execution_count": 7,
     "metadata": {},
     "output_type": "execute_result"
    }
   ],
   "source": [
    "n_docs"
   ]
  },
  {
   "cell_type": "code",
   "execution_count": 8,
   "metadata": {},
   "outputs": [
    {
     "data": {
      "text/plain": [
       "['230.tree.ser',\n",
       " '47.tree.ser',\n",
       " '8.tree.ser',\n",
       " '376.tree.ser',\n",
       " '363.tree.ser',\n",
       " '151.tree.ser',\n",
       " '90.tree.ser',\n",
       " '234.tree.ser',\n",
       " '358.tree.ser',\n",
       " '269.tree.ser']"
      ]
     },
     "execution_count": 8,
     "metadata": {},
     "output_type": "execute_result"
    }
   ],
   "source": [
    "tree_names[:10]"
   ]
  },
  {
   "cell_type": "code",
   "execution_count": 9,
   "metadata": {},
   "outputs": [],
   "source": [
    "tree_numbers = [x.split('.')[0] for x in tree_names]"
   ]
  },
  {
   "cell_type": "code",
   "execution_count": 10,
   "metadata": {},
   "outputs": [
    {
     "data": {
      "text/plain": [
       "['230', '47', '8', '376', '363', '151', '90', '234', '358', '269']"
      ]
     },
     "execution_count": 10,
     "metadata": {},
     "output_type": "execute_result"
    }
   ],
   "source": [
    "tree_numbers[:10]"
   ]
  },
  {
   "cell_type": "code",
   "execution_count": 11,
   "metadata": {},
   "outputs": [
    {
     "data": {
      "text/plain": [
       "'../results/ipod/edu_trees_dir/230.tree.ser'"
      ]
     },
     "execution_count": 11,
     "metadata": {},
     "output_type": "execute_result"
    }
   ],
   "source": [
    "join(data_path_trees, tree_names[0])"
   ]
  },
  {
   "cell_type": "code",
   "execution_count": 12,
   "metadata": {},
   "outputs": [],
   "source": [
    "tree_name = tree_names[0]\n",
    "parsed_tree = load_serialized(join(data_path_trees, tree_name))"
   ]
  },
  {
   "cell_type": "code",
   "execution_count": 14,
   "metadata": {},
   "outputs": [
    {
     "name": "stdout",
     "output_type": "stream",
     "text": [
      "(Joint[N][N]\n",
      "  _!U With accessories , you can make the iPod into a digital recorder ,!_\n",
      "  (Joint[N][N]\n",
      "    (Elaboration[N][S]\n",
      "      _!broadcast it remotely through stereo speakers!_\n",
      "      _!using wireless technology ,!_)\n",
      "    (Elaboration[N][S]\n",
      "      _!and play it through your car speakers!_\n",
      "      _!using either a CD adaptor or FM stereo broadcaster.q . <P>!_)))\n"
     ]
    }
   ],
   "source": [
    "print(parsed_tree.pprint())"
   ]
  },
  {
   "cell_type": "markdown",
   "metadata": {},
   "source": [
    "## Draw tree - it will open new window"
   ]
  },
  {
   "cell_type": "code",
   "execution_count": 15,
   "metadata": {},
   "outputs": [],
   "source": [
    "# parsed_tree.draw()"
   ]
  },
  {
   "cell_type": "markdown",
   "metadata": {},
   "source": [
    "# Get name of relations"
   ]
  },
  {
   "cell_type": "code",
   "execution_count": 16,
   "metadata": {},
   "outputs": [
    {
     "data": {
      "text/plain": [
       "'Joint[N][N]'"
      ]
     },
     "execution_count": 16,
     "metadata": {},
     "output_type": "execute_result"
    }
   ],
   "source": [
    "parsed_tree.node"
   ]
  },
  {
   "cell_type": "markdown",
   "metadata": {},
   "source": [
    "# Get EDU texts "
   ]
  },
  {
   "cell_type": "code",
   "execution_count": 17,
   "metadata": {},
   "outputs": [],
   "source": [
    "edus = load_serialized(join(data_path, 'edu_trees_dir', '0.tree.ser'))"
   ]
  },
  {
   "cell_type": "code",
   "execution_count": 18,
   "metadata": {},
   "outputs": [
    {
     "data": {
      "text/plain": [
       "ParseTree('Attribution[N][S]', ['_!UuIf you can get past this little flaw ,!_', '_!give the ipod 5 stars ,!_'])"
      ]
     },
     "execution_count": 18,
     "metadata": {},
     "output_type": "execute_result"
    }
   ],
   "source": [
    "edus[0]"
   ]
  },
  {
   "cell_type": "code",
   "execution_count": 14,
   "metadata": {},
   "outputs": [],
   "source": [
    "jupyter_draw_nltk_tree(parsed_tree, 'trees', dataset_name + tree_name)"
   ]
  },
  {
   "cell_type": "markdown",
   "metadata": {},
   "source": [
    "# Draw all trees in dataset"
   ]
  },
  {
   "cell_type": "code",
   "execution_count": 20,
   "metadata": {},
   "outputs": [],
   "source": [
    "for t in tree_names:\n",
    "    parsed_tree = load_serialized(join(data_path_trees, t))\n",
    "    jupyter_draw_nltk_tree(tree=parsed_tree, f_name=dataset_name + t)"
   ]
  },
  {
   "cell_type": "markdown",
   "metadata": {},
   "source": [
    "# Load paths['documents_info'] "
   ]
  },
  {
   "cell_type": "code",
   "execution_count": 21,
   "metadata": {},
   "outputs": [],
   "source": [
    "docs_info = load_serialized(join(data_path, 'documents_info'))"
   ]
  },
  {
   "cell_type": "code",
   "execution_count": 22,
   "metadata": {},
   "outputs": [
    {
     "data": {
      "text/plain": [
       "{'EDUs': [7, 8, 9, 10],\n",
       " 'accepted_edus': [7, 9, 10],\n",
       " 'aspect_concepts': {7: {'conceptnet_io': defaultdict(<type 'list'>, {u'individual': [{'start-lang': u'en', 'end': u'an individual', 'weight': 2.82842712474619, 'start': u'a person', 'relation': u'IsA', 'end-lang': u'en'}, {'start-lang': u'en', 'end': u'individual', 'weight': 2.0, 'start': u'head', 'relation': u'IsA', 'end-lang': u'en'}, {'start-lang': u'en', 'end': u'organism', 'weight': 2.0, 'start': u'individual', 'relation': u'IsA', 'end-lang': u'en'}, {'start-lang': u'en', 'end': u'case-by-case', 'weight': 2.0, 'start': u'individual', 'relation': u'Synonym', 'end-lang': u'en'}, {'start-lang': u'en', 'end': u'person', 'weight': 2.0, 'start': u'individual', 'relation': u'Synonym', 'end-lang': u'en'}, {'start-lang': u'en', 'end': u'individual', 'weight': 2.0, 'start': u'private', 'relation': u'Synonym', 'end-lang': u'en'}, {'start-lang': u'en', 'end': u'individual', 'weight': 2.0, 'start': u'single', 'relation': u'Synonym', 'end-lang': u'en'}, {'start-lang': u'en', 'end': u'an individual', 'weight': 1.0, 'start': u'bob', 'relation': u'IsA', 'end-lang': u'en'}, {'start-lang': u'en', 'end': u'group', 'weight': 1.0, 'start': u'individual ', 'relation': u'PartOf', 'end-lang': u'en'}, {'start-lang': u'en', 'end': u'is part of group', 'weight': 1.0, 'start': u'individual', 'relation': u'PartOf', 'end-lang': u'en'}, {'start-lang': u'en', 'end': u'personal', 'weight': 1.0, 'start': u'individual', 'relation': u'Synonym', 'end-lang': u'en'}, {'start-lang': u'en', 'end': u'selfstanding', 'weight': 1.0, 'start': u'individual', 'relation': u'Synonym', 'end-lang': u'en'}, {'start-lang': u'en', 'end': u'single', 'weight': 1.0, 'start': u'individual', 'relation': u'Synonym', 'end-lang': u'en'}, {'start-lang': u'en', 'end': u'individual', 'weight': 1.0, 'start': u'singular', 'relation': u'Synonym', 'end-lang': u'en'}, {'start-lang': u'en', 'end': u'individual', 'weight': 1.0, 'start': u'sort', 'relation': u'Synonym', 'end-lang': u'en'}, {'start-lang': u'en', 'end': u'individual', 'weight': 1.0, 'start': u'specimen', 'relation': u'Synonym', 'end-lang': u'en'}], u'steve jobs': [{'start-lang': u'en', 'end': u'the apple corporation', 'weight': 1.0, 'start': u'steve jobs', 'relation': u'PartOf', 'end-lang': u'en'}, {'start-lang': u'en', 'end': u'person', 'weight': 0.5, 'start': u'steve jobs', 'relation': u'IsA', 'end-lang': u'en'}, {'start-lang': u'en', 'end': u'book', 'weight': 0.5, 'start': u'steve jobs', 'relation': u'IsA', 'end-lang': u'en'}, {'start-lang': u'en', 'end': u'steve jobs', 'weight': 0.5, 'start': u'steve jobs', 'relation': u'Synonym', 'end-lang': u'en'}, {'start-lang': u'en', 'end': u'steve jobs', 'weight': 0.5, 'start': u'steve jobs', 'relation': u'Synonym', 'end-lang': u'en'}]}),\n",
       "   'sentic': {u'individual': {'individual': ['mute',\n",
       "      'mortal',\n",
       "      'lip_reader',\n",
       "      'person',\n",
       "      'deaf_person']},\n",
       "    u'steve_jobs': {}}},\n",
       "  9: {'conceptnet_io': defaultdict(<type 'list'>, {u'device': [{'start-lang': u'en', 'end': u'a device', 'weight': 4.47213595499958, 'start': u'a stethoscope', 'relation': u'IsA', 'end-lang': u'en'}, {'start-lang': u'en', 'end': u'a device', 'weight': 4.0, 'start': u'a bomb', 'relation': u'IsA', 'end-lang': u'en'}, {'start-lang': u'en', 'end': u'a device', 'weight': 2.82842712474619, 'start': u'a musical instrument', 'relation': u'IsA', 'end-lang': u'en'}, {'start-lang': u'en', 'end': u'device', 'weight': 2.0, 'start': u'acoustic device', 'relation': u'IsA', 'end-lang': u'en'}, {'start-lang': u'en', 'end': u'device', 'weight': 2.0, 'start': u'adapter', 'relation': u'IsA', 'end-lang': u'en'}, {'start-lang': u'en', 'end': u'device', 'weight': 2.0, 'start': u'afterburner', 'relation': u'IsA', 'end-lang': u'en'}, {'start-lang': u'en', 'end': u'device', 'weight': 2.0, 'start': u'agglomerator', 'relation': u'IsA', 'end-lang': u'en'}, {'start-lang': u'en', 'end': u'device', 'weight': 2.0, 'start': u'airfoil', 'relation': u'IsA', 'end-lang': u'en'}, {'start-lang': u'en', 'end': u'device', 'weight': 2.0, 'start': u'alarm', 'relation': u'IsA', 'end-lang': u'en'}, {'start-lang': u'en', 'end': u'device', 'weight': 2.0, 'start': u'appliance', 'relation': u'IsA', 'end-lang': u'en'}, {'start-lang': u'en', 'end': u'device', 'weight': 2.0, 'start': u'applicator', 'relation': u'IsA', 'end-lang': u'en'}, {'start-lang': u'en', 'end': u'device', 'weight': 2.0, 'start': u'aspergill', 'relation': u'IsA', 'end-lang': u'en'}, {'start-lang': u'en', 'end': u'device', 'weight': 2.0, 'start': u'autopilot', 'relation': u'IsA', 'end-lang': u'en'}, {'start-lang': u'en', 'end': u'device', 'weight': 2.0, 'start': u'bait', 'relation': u'IsA', 'end-lang': u'en'}, {'start-lang': u'en', 'end': u'device', 'weight': 2.0, 'start': u'billiard marker', 'relation': u'IsA', 'end-lang': u'en'}, {'start-lang': u'en', 'end': u'device', 'weight': 2.0, 'start': u'bird feeder', 'relation': u'IsA', 'end-lang': u'en'}, {'start-lang': u'en', 'end': u'device', 'weight': 2.0, 'start': u'blower', 'relation': u'IsA', 'end-lang': u'en'}, {'start-lang': u'en', 'end': u'device', 'weight': 2.0, 'start': u'bootjack', 'relation': u'IsA', 'end-lang': u'en'}, {'start-lang': u'en', 'end': u'device', 'weight': 2.0, 'start': u'breathalyzer', 'relation': u'IsA', 'end-lang': u'en'}, {'start-lang': u'en', 'end': u'device', 'weight': 2.0, 'start': u'breathing device', 'relation': u'IsA', 'end-lang': u'en'}, {'start-lang': u'en', 'end': u'device', 'weight': 2.0, 'start': u'bubbler', 'relation': u'IsA', 'end-lang': u'en'}, {'start-lang': u'en', 'end': u'device', 'weight': 2.0, 'start': u'buffer', 'relation': u'IsA', 'end-lang': u'en'}, {'start-lang': u'en', 'end': u'device', 'weight': 2.0, 'start': u'catapult', 'relation': u'IsA', 'end-lang': u'en'}, {'start-lang': u'en', 'end': u'device', 'weight': 2.0, 'start': u'charger', 'relation': u'IsA', 'end-lang': u'en'}, {'start-lang': u'en', 'end': u'device', 'weight': 2.0, 'start': u'clip-on', 'relation': u'IsA', 'end-lang': u'en'}, {'start-lang': u'en', 'end': u'device', 'weight': 2.0, 'start': u'comb', 'relation': u'IsA', 'end-lang': u'en'}, {'start-lang': u'en', 'end': u'device', 'weight': 2.0, 'start': u'comforter', 'relation': u'IsA', 'end-lang': u'en'}, {'start-lang': u'en', 'end': u'device', 'weight': 2.0, 'start': u'conceit', 'relation': u'IsA', 'end-lang': u'en'}, {'start-lang': u'en', 'end': u'device', 'weight': 2.0, 'start': u'conductor', 'relation': u'IsA', 'end-lang': u'en'}, {'start-lang': u'en', 'end': u'device', 'weight': 2.0, 'start': u'contraceptive', 'relation': u'IsA', 'end-lang': u'en'}, {'start-lang': u'en', 'end': u'device', 'weight': 2.0, 'start': u'converter', 'relation': u'IsA', 'end-lang': u'en'}, {'start-lang': u'en', 'end': u'device', 'weight': 2.0, 'start': u'corer', 'relation': u'IsA', 'end-lang': u'en'}, {'start-lang': u'en', 'end': u'device', 'weight': 2.0, 'start': u'corrective', 'relation': u'IsA', 'end-lang': u'en'}, {'start-lang': u'en', 'end': u'device', 'weight': 2.0, 'start': u'crusher', 'relation': u'IsA', 'end-lang': u'en'}, {'start-lang': u'en', 'end': u'device', 'weight': 2.0, 'start': u'cryptograph', 'relation': u'IsA', 'end-lang': u'en'}, {'start-lang': u'en', 'end': u'device', 'weight': 2.0, 'start': u'cutoff', 'relation': u'IsA', 'end-lang': u'en'}, {'start-lang': u'en', 'end': u'device', 'weight': 2.0, 'start': u'dampener', 'relation': u'IsA', 'end-lang': u'en'}, {'start-lang': u'en', 'end': u'device', 'weight': 2.0, 'start': u'damper', 'relation': u'IsA', 'end-lang': u'en'}, {'start-lang': u'en', 'end': u'device', 'weight': 2.0, 'start': u'deflector', 'relation': u'IsA', 'end-lang': u'en'}, {'start-lang': u'en', 'end': u'device', 'weight': 2.0, 'start': u'depressor', 'relation': u'IsA', 'end-lang': u'en'}, {'start-lang': u'en', 'end': u'device', 'weight': 2.0, 'start': u'detector', 'relation': u'IsA', 'end-lang': u'en'}, {'start-lang': u'en', 'end': u'design', 'weight': 2.0, 'start': u'device', 'relation': u'IsA', 'end-lang': u'en'}, {'start-lang': u'en', 'end': u'emblem', 'weight': 2.0, 'start': u'device', 'relation': u'IsA', 'end-lang': u'en'}, {'start-lang': u'en', 'end': u'expressive style', 'weight': 2.0, 'start': u'device', 'relation': u'IsA', 'end-lang': u'en'}, {'start-lang': u'en', 'end': u'instrumentality', 'weight': 2.0, 'start': u'device', 'relation': u'IsA', 'end-lang': u'en'}, {'start-lang': u'en', 'end': u'maneuver', 'weight': 2.0, 'start': u'device', 'relation': u'IsA', 'end-lang': u'en'}, {'start-lang': u'en', 'end': u'device', 'weight': 2.0, 'start': u'diestock', 'relation': u'IsA', 'end-lang': u'en'}, {'start-lang': u'en', 'end': u'device', 'weight': 2.0, 'start': u'drive', 'relation': u'IsA', 'end-lang': u'en'}, {'start-lang': u'en', 'end': u'device', 'weight': 2.0, 'start': u'drop forge', 'relation': u'IsA', 'end-lang': u'en'}, {'start-lang': u'en', 'end': u'device', 'weight': 2.0, 'start': u'elastic device', 'relation': u'IsA', 'end-lang': u'en'}, {'start-lang': u'en', 'end': u'device', 'weight': 2.0, 'start': u'electrical device', 'relation': u'IsA', 'end-lang': u'en'}, {'start-lang': u'en', 'end': u'device', 'weight': 2.0, 'start': u'electronic device', 'relation': u'IsA', 'end-lang': u'en'}, {'start-lang': u'en', 'end': u'device', 'weight': 2.0, 'start': u'energizer', 'relation': u'IsA', 'end-lang': u'en'}, {'start-lang': u'en', 'end': u'device', 'weight': 2.0, 'start': u'exercise device', 'relation': u'IsA', 'end-lang': u'en'}, {'start-lang': u'en', 'end': u'device', 'weight': 2.0, 'start': u'explosive device', 'relation': u'IsA', 'end-lang': u'en'}, {'start-lang': u'en', 'end': u'device', 'weight': 2.0, 'start': u'fan', 'relation': u'IsA', 'end-lang': u'en'}, {'start-lang': u'en', 'end': u'device', 'weight': 2.0, 'start': u'filter', 'relation': u'IsA', 'end-lang': u'en'}, {'start-lang': u'en', 'end': u'device', 'weight': 2.0, 'start': u'fire extinguisher', 'relation': u'IsA', 'end-lang': u'en'}, {'start-lang': u'en', 'end': u'device', 'weight': 2.0, 'start': u'flare', 'relation': u'IsA', 'end-lang': u'en'}, {'start-lang': u'en', 'end': u'device', 'weight': 2.0, 'start': u'fumigator', 'relation': u'IsA', 'end-lang': u'en'}, {'start-lang': u'en', 'end': u'device', 'weight': 2.0, 'start': u'gas fixture', 'relation': u'IsA', 'end-lang': u'en'}, {'start-lang': u'en', 'end': u'device', 'weight': 2.0, 'start': u'groover', 'relation': u'IsA', 'end-lang': u'en'}, {'start-lang': u'en', 'end': u'device', 'weight': 2.0, 'start': u'guard', 'relation': u'IsA', 'end-lang': u'en'}, {'start-lang': u'en', 'end': u'device', 'weight': 2.0, 'start': u'heater', 'relation': u'IsA', 'end-lang': u'en'}, {'start-lang': u'en', 'end': u'device', 'weight': 2.0, 'start': u'heat exchanger', 'relation': u'IsA', 'end-lang': u'en'}, {'start-lang': u'en', 'end': u'device', 'weight': 2.0, 'start': u'holding device', 'relation': u'IsA', 'end-lang': u'en'}, {'start-lang': u'en', 'end': u'device', 'weight': 2.0, 'start': u'horn', 'relation': u'IsA', 'end-lang': u'en'}, {'start-lang': u'en', 'end': u'device', 'weight': 2.0, 'start': u'hydrofoil', 'relation': u'IsA', 'end-lang': u'en'}, {'start-lang': u'en', 'end': u'device', 'weight': 2.0, 'start': u'ignition interlock', 'relation': u'IsA', 'end-lang': u'en'}, {'start-lang': u'en', 'end': u'device', 'weight': 2.0, 'start': u'imprint', 'relation': u'IsA', 'end-lang': u'en'}, {'start-lang': u'en', 'end': u'device', 'weight': 2.0, 'start': u'indicator', 'relation': u'IsA', 'end-lang': u'en'}, {'start-lang': u'en', 'end': u'device', 'weight': 2.0, 'start': u'interrupter', 'relation': u'IsA', 'end-lang': u'en'}, {'start-lang': u'en', 'end': u'device', 'weight': 2.0, 'start': u'jig', 'relation': u'IsA', 'end-lang': u'en'}, {'start-lang': u'en', 'end': u'device', 'weight': 2.0, 'start': u'keyboard', 'relation': u'IsA', 'end-lang': u'en'}, {'start-lang': u'en', 'end': u'device', 'weight': 2.0, 'start': u'key', 'relation': u'IsA', 'end-lang': u'en'}, {'start-lang': u'en', 'end': u'device', 'weight': 2.0, 'start': u'knocker', 'relation': u'IsA', 'end-lang': u'en'}, {'start-lang': u'en', 'end': u'device', 'weight': 2.0, 'start': u'lifting device', 'relation': u'IsA', 'end-lang': u'en'}, {'start-lang': u'en', 'end': u'device', 'weight': 2.0, 'start': u'lift', 'relation': u'IsA', 'end-lang': u'en'}, {'start-lang': u'en', 'end': u'device', 'weight': 2.0, 'start': u'lighter', 'relation': u'IsA', 'end-lang': u'en'}, {'start-lang': u'en', 'end': u'device', 'weight': 2.0, 'start': u'machine', 'relation': u'IsA', 'end-lang': u'en'}, {'start-lang': u'en', 'end': u'device', 'weight': 2.0, 'start': u'magnet', 'relation': u'IsA', 'end-lang': u'en'}, {'start-lang': u'en', 'end': u'device', 'weight': 2.0, 'start': u'mechanism', 'relation': u'IsA', 'end-lang': u'en'}, {'start-lang': u'en', 'end': u'device', 'weight': 2.0, 'start': u'memory device', 'relation': u'IsA', 'end-lang': u'en'}, {'start-lang': u'en', 'end': u'device', 'weight': 2.0, 'start': u'mnemonic', 'relation': u'IsA', 'end-lang': u'en'}, {'start-lang': u'en', 'end': u'device', 'weight': 2.0, 'start': u'musical instrument', 'relation': u'IsA', 'end-lang': u'en'}, {'start-lang': u'en', 'end': u'device', 'weight': 2.0, 'start': u'nest egg', 'relation': u'IsA', 'end-lang': u'en'}, {'start-lang': u'en', 'end': u'device', 'weight': 2.0, 'start': u'noisemaker', 'relation': u'IsA', 'end-lang': u'en'}, {'start-lang': u'en', 'end': u'device', 'weight': 2.0, 'start': u'optical device', 'relation': u'IsA', 'end-lang': u'en'}, {'start-lang': u'en', 'end': u'device', 'weight': 2.0, 'start': u'override', 'relation': u'IsA', 'end-lang': u'en'}, {'start-lang': u'en', 'end': u'device', 'weight': 2.0, 'start': u'paper feed', 'relation': u'IsA', 'end-lang': u'en'}, {'start-lang': u'en', 'end': u'device', 'weight': 2.0, 'start': u'peeler', 'relation': u'IsA', 'end-lang': u'en'}, {'start-lang': u'en', 'end': u'a device', 'weight': 2.0, 'start': u'a phone', 'relation': u'IsA', 'end-lang': u'en'}, {'start-lang': u'en', 'end': u'device', 'weight': 2.0, 'start': u'pick', 'relation': u'IsA', 'end-lang': u'en'}, {'start-lang': u'en', 'end': u'device', 'weight': 2.0, 'start': u'power takeoff', 'relation': u'IsA', 'end-lang': u'en'}, {'start-lang': u'en', 'end': u'device', 'weight': 2.0, 'start': u'prod', 'relation': u'IsA', 'end-lang': u'en'}, {'start-lang': u'en', 'end': u'device', 'weight': 2.0, 'start': u'prompter', 'relation': u'IsA', 'end-lang': u'en'}, {'start-lang': u'en', 'end': u'device', 'weight': 2.0, 'start': u'pull', 'relation': u'IsA', 'end-lang': u'en'}, {'start-lang': u'en', 'end': u'device', 'weight': 2.0, 'start': u'release', 'relation': u'IsA', 'end-lang': u'en'}, {'start-lang': u'en', 'end': u'device', 'weight': 2.0, 'start': u'reset', 'relation': u'IsA', 'end-lang': u'en'}, {'start-lang': u'en', 'end': u'device', 'weight': 2.0, 'start': u'rhetorical device', 'relation': u'IsA', 'end-lang': u'en'}, {'start-lang': u'en', 'end': u'device', 'weight': 2.0, 'start': u'router', 'relation': u'IsA', 'end-lang': u'en'}, {'start-lang': u'en', 'end': u'device', 'weight': 2.0, 'start': u'runner', 'relation': u'IsA', 'end-lang': u'en'}, {'start-lang': u'en', 'end': u'device', 'weight': 2.0, 'start': u'scratcher', 'relation': u'IsA', 'end-lang': u'en'}, {'start-lang': u'en', 'end': u'device', 'weight': 2.0, 'start': u'seal', 'relation': u'IsA', 'end-lang': u'en'}, {'start-lang': u'en', 'end': u'device', 'weight': 2.0, 'start': u'shoehorn', 'relation': u'IsA', 'end-lang': u'en'}, {'start-lang': u'en', 'end': u'device', 'weight': 2.0, 'start': u'shoetree', 'relation': u'IsA', 'end-lang': u'en'}, {'start-lang': u'en', 'end': u'device', 'weight': 2.0, 'start': u'shooting stick', 'relation': u'IsA', 'end-lang': u'en'}, {'start-lang': u'en', 'end': u'device', 'weight': 2.0, 'start': u'shredder', 'relation': u'IsA', 'end-lang': u'en'}, {'start-lang': u'en', 'end': u'device', 'weight': 2.0, 'start': u'signaling device', 'relation': u'IsA', 'end-lang': u'en'}, {'start-lang': u'en', 'end': u'device', 'weight': 2.0, 'start': u'slide chart', 'relation': u'IsA', 'end-lang': u'en'}, {'start-lang': u'en', 'end': u'device', 'weight': 2.0, 'start': u'snowshoe', 'relation': u'IsA', 'end-lang': u'en'}, {'start-lang': u'en', 'end': u'device', 'weight': 2.0, 'start': u'sounder', 'relation': u'IsA', 'end-lang': u'en'}, {'start-lang': u'en', 'end': u'device', 'weight': 2.0, 'start': u'source of illumination', 'relation': u'IsA', 'end-lang': u'en'}, {'start-lang': u'en', 'end': u'device', 'weight': 2.0, 'start': u'stabilizer', 'relation': u'IsA', 'end-lang': u'en'}, {'start-lang': u'en', 'end': u'a device', 'weight': 2.0, 'start': u'a stapler', 'relation': u'IsA', 'end-lang': u'en'}, {'start-lang': u'en', 'end': u'device', 'weight': 2.0, 'start': u'stemmer', 'relation': u'IsA', 'end-lang': u'en'}, {'start-lang': u'en', 'end': u'device', 'weight': 2.0, 'start': u'straightener', 'relation': u'IsA', 'end-lang': u'en'}, {'start-lang': u'en', 'end': u'device', 'weight': 2.0, 'start': u'strengthener', 'relation': u'IsA', 'end-lang': u'en'}, {'start-lang': u'en', 'end': u'device', 'weight': 2.0, 'start': u'stylus', 'relation': u'IsA', 'end-lang': u'en'}, {'start-lang': u'en', 'end': u'device', 'weight': 2.0, 'start': u'suction cup', 'relation': u'IsA', 'end-lang': u'en'}, {'start-lang': u'en', 'end': u'device', 'weight': 2.0, 'start': u'support', 'relation': u'IsA', 'end-lang': u'en'}, {'start-lang': u'en', 'end': u'device', 'weight': 2.0, 'start': u'sweatbox', 'relation': u'IsA', 'end-lang': u'en'}, {'start-lang': u'en', 'end': u'device', 'weight': 2.0, 'start': u'synchroflash', 'relation': u'IsA', 'end-lang': u'en'}, {'start-lang': u'en', 'end': u'device', 'weight': 2.0, 'start': u'take-up', 'relation': u'IsA', 'end-lang': u'en'}, {'start-lang': u'en', 'end': u'device', 'weight': 2.0, 'start': u'teaser', 'relation': u'IsA', 'end-lang': u'en'}, {'start-lang': u'en', 'end': u'a device', 'weight': 2.0, 'start': u'a telescope', 'relation': u'IsA', 'end-lang': u'en'}, {'start-lang': u'en', 'end': u'device', 'weight': 2.0, 'start': u'throwing stick', 'relation': u'IsA', 'end-lang': u'en'}, {'start-lang': u'en', 'end': u'device', 'weight': 2.0, 'start': u'tilter', 'relation': u'IsA', 'end-lang': u'en'}, {'start-lang': u'en', 'end': u'device', 'weight': 2.0, 'start': u'tongs', 'relation': u'IsA', 'end-lang': u'en'}, {'start-lang': u'en', 'end': u'device', 'weight': 2.0, 'start': u'trick', 'relation': u'IsA', 'end-lang': u'en'}, {'start-lang': u'en', 'end': u'device', 'weight': 2.0, 'start': u'trigger', 'relation': u'IsA', 'end-lang': u'en'}, {'start-lang': u'en', 'end': u'device', 'weight': 2.0, 'start': u'union', 'relation': u'IsA', 'end-lang': u'en'}, {'start-lang': u'en', 'end': u'device', 'weight': 2.0, 'start': u'valve', 'relation': u'IsA', 'end-lang': u'en'}, {'start-lang': u'en', 'end': u'device', 'weight': 2.0, 'start': u'vaporiser', 'relation': u'IsA', 'end-lang': u'en'}, {'start-lang': u'en', 'end': u'device', 'weight': 2.0, 'start': u'washboard', 'relation': u'IsA', 'end-lang': u'en'}, {'start-lang': u'en', 'end': u'device', 'weight': 2.0, 'start': u'water cooler', 'relation': u'IsA', 'end-lang': u'en'}, {'start-lang': u'en', 'end': u'device', 'weight': 2.0, 'start': u'gimmick', 'relation': u'Synonym', 'end-lang': u'en'}, {'start-lang': u'en', 'end': u'device', 'weight': 2.0, 'start': u'twist', 'relation': u'Synonym', 'end-lang': u'en'}, {'start-lang': u'en', 'end': u'device', 'weight': 1.0, 'start': u'aircraft arresting gear', 'relation': u'IsA', 'end-lang': u'en'}, {'start-lang': u'en', 'end': u'device', 'weight': 1.0, 'start': u'air purifier', 'relation': u'IsA', 'end-lang': u'en'}, {'start-lang': u'en', 'end': u'device', 'weight': 1.0, 'start': u'anchor', 'relation': u'IsA', 'end-lang': u'en'}, {'start-lang': u'en', 'end': u'device', 'weight': 1.0, 'start': u'antenna pedestal mount', 'relation': u'IsA', 'end-lang': u'en'}, {'start-lang': u'en', 'end': u'device', 'weight': 1.0, 'start': u'anti tank weapon', 'relation': u'IsA', 'end-lang': u'en'}, {'start-lang': u'en', 'end': u'device', 'weight': 1.0, 'start': u'artificial organ', 'relation': u'IsA', 'end-lang': u'en'}, {'start-lang': u'en', 'end': u'device', 'weight': 1.0, 'start': u'assembly line', 'relation': u'IsA', 'end-lang': u'en'}, {'start-lang': u'en', 'end': u'device', 'weight': 1.0, 'start': u'authentication device', 'relation': u'IsA', 'end-lang': u'en'}, {'start-lang': u'en', 'end': u'a device', 'weight': 1.0, 'start': u'an automaton', 'relation': u'IsA', 'end-lang': u'en'}, {'start-lang': u'en', 'end': u'device', 'weight': 1.0, 'start': u'auto tire market category', 'relation': u'IsA', 'end-lang': u'en'}, {'start-lang': u'en', 'end': u'device', 'weight': 1.0, 'start': u'baby pacifier', 'relation': u'IsA', 'end-lang': u'en'}, {'start-lang': u'en', 'end': u'device', 'weight': 1.0, 'start': u'backgammon piece', 'relation': u'IsA', 'end-lang': u'en'}, {'start-lang': u'en', 'end': u'device', 'weight': 1.0, 'start': u'barbed wire fence', 'relation': u'IsA', 'end-lang': u'en'}, {'start-lang': u'en', 'end': u'device', 'weight': 1.0, 'start': u'baton', 'relation': u'IsA', 'end-lang': u'en'}, {'start-lang': u'en', 'end': u'device', 'weight': 1.0, 'start': u'bedding', 'relation': u'IsA', 'end-lang': u'en'}, {'start-lang': u'en', 'end': u'device', 'weight': 1.0, 'start': u'bell tower', 'relation': u'IsA', 'end-lang': u'en'}, {'start-lang': u'en', 'end': u'device', 'weight': 1.0, 'start': u'bent thing', 'relation': u'IsA', 'end-lang': u'en'}, {'start-lang': u'en', 'end': u'device', 'weight': 1.0, 'start': u'blade server chassis', 'relation': u'IsA', 'end-lang': u'en'}, {'start-lang': u'en', 'end': u'device', 'weight': 1.0, 'start': u'boat or ship part', 'relation': u'IsA', 'end-lang': u'en'}, {'start-lang': u'en', 'end': u'a device', 'weight': 1.0, 'start': u'a book', 'relation': u'IsA', 'end-lang': u'en'}, {'start-lang': u'en', 'end': u'device', 'weight': 1.0, 'start': u'bridle', 'relation': u'IsA', 'end-lang': u'en'}, {'start-lang': u'en', 'end': u'device', 'weight': 1.0, 'start': u'built in device', 'relation': u'IsA', 'end-lang': u'en'}, {'start-lang': u'en', 'end': u'device', 'weight': 1.0, 'start': u'buoy', 'relation': u'IsA', 'end-lang': u'en'}, {'start-lang': u'en', 'end': u'device', 'weight': 1.0, 'start': u'cable', 'relation': u'IsA', 'end-lang': u'en'}, {'start-lang': u'en', 'end': u'device', 'weight': 1.0, 'start': u'camera', 'relation': u'IsA', 'end-lang': u'en'}, {'start-lang': u'en', 'end': u'device', 'weight': 1.0, 'start': u'candle holder', 'relation': u'IsA', 'end-lang': u'en'}, {'start-lang': u'en', 'end': u'device', 'weight': 1.0, 'start': u'cane', 'relation': u'IsA', 'end-lang': u'en'}, {'start-lang': u'en', 'end': u'device', 'weight': 1.0, 'start': u'carousel horse', 'relation': u'IsA', 'end-lang': u'en'}, {'start-lang': u'en', 'end': u'device', 'weight': 1.0, 'start': u'cleaning tool', 'relation': u'IsA', 'end-lang': u'en'}, {'start-lang': u'en', 'end': u'device', 'weight': 1.0, 'start': u'clock', 'relation': u'IsA', 'end-lang': u'en'}, {'start-lang': u'en', 'end': u'device', 'weight': 1.0, 'start': u'clock tower', 'relation': u'IsA', 'end-lang': u'en'}, {'start-lang': u'en', 'end': u'device', 'weight': 1.0, 'start': u'coin operated device', 'relation': u'IsA', 'end-lang': u'en'}, {'start-lang': u'en', 'end': u'device', 'weight': 1.0, 'start': u'combustion device', 'relation': u'IsA', 'end-lang': u'en'}, {'start-lang': u'en', 'end': u'device', 'weight': 1.0, 'start': u'communication device', 'relation': u'IsA', 'end-lang': u'en'}, {'start-lang': u'en', 'end': u'device', 'weight': 1.0, 'start': u'computer chassis', 'relation': u'IsA', 'end-lang': u'en'}, {'start-lang': u'en', 'end': u'device', 'weight': 1.0, 'start': u'computer hardware', 'relation': u'IsA', 'end-lang': u'en'}, {'start-lang': u'en', 'end': u'device', 'weight': 1.0, 'start': u'console', 'relation': u'IsA', 'end-lang': u'en'}, {'start-lang': u'en', 'end': u'device', 'weight': 1.0, 'start': u'container product', 'relation': u'IsA', 'end-lang': u'en'}, {'start-lang': u'en', 'end': u'device', 'weight': 1.0, 'start': u'control device', 'relation': u'IsA', 'end-lang': u'en'}, {'start-lang': u'en', 'end': u'device', 'weight': 1.0, 'start': u'control panel', 'relation': u'IsA', 'end-lang': u'en'}, {'start-lang': u'en', 'end': u'device', 'weight': 1.0, 'start': u'control tower', 'relation': u'IsA', 'end-lang': u'en'}, {'start-lang': u'en', 'end': u'device', 'weight': 1.0, 'start': u'cooling device', 'relation': u'IsA', 'end-lang': u'en'}, {'start-lang': u'en', 'end': u'device', 'weight': 1.0, 'start': u'counting device', 'relation': u'IsA', 'end-lang': u'en'}, {'start-lang': u'en', 'end': u'device', 'weight': 1.0, 'start': u'crank shaft', 'relation': u'IsA', 'end-lang': u'en'}, {'start-lang': u'en', 'end': u'device', 'weight': 1.0, 'start': u'crutch', 'relation': u'IsA', 'end-lang': u'en'}, {'start-lang': u'en', 'end': u'device', 'weight': 1.0, 'start': u'darkroom equipment', 'relation': u'IsA', 'end-lang': u'en'}, {'start-lang': u'en', 'end': u'device', 'weight': 1.0, 'start': u'decontamination equipment', 'relation': u'IsA', 'end-lang': u'en'}, {'start-lang': u'en', 'end': u'device', 'weight': 1.0, 'start': u'dental appliance', 'relation': u'IsA', 'end-lang': u'en'}, {'start-lang': u'en', 'end': u'device', 'weight': 1.0, 'start': u'device armed', 'relation': u'IsA', 'end-lang': u'en'}, {'start-lang': u'en', 'end': u'device', 'weight': 1.0, 'start': u'device disarmed', 'relation': u'IsA', 'end-lang': u'en'}, {'start-lang': u'en', 'end': u'artifact', 'weight': 1.0, 'start': u'device', 'relation': u'IsA', 'end-lang': u'en'}, {'start-lang': u'en', 'end': u'object with uses', 'weight': 1.0, 'start': u'device', 'relation': u'IsA', 'end-lang': u'en'}, {'start-lang': u'en', 'end': u'solid tangible artifact', 'weight': 1.0, 'start': u'device', 'relation': u'IsA', 'end-lang': u'en'}, {'start-lang': u'en', 'end': u'device', 'weight': 1.0, 'start': u'device overheated', 'relation': u'IsA', 'end-lang': u'en'}, {'start-lang': u'en', 'end': u'device', 'weight': 1.0, 'start': u'device proximately controlled', 'relation': u'IsA', 'end-lang': u'en'}, {'start-lang': u'en', 'end': u'device', 'weight': 1.0, 'start': u'device proximately controlled only', 'relation': u'IsA', 'end-lang': u'en'}, {'start-lang': u'en', 'end': u'device', 'weight': 1.0, 'start': u'device remote controlled only', 'relation': u'IsA', 'end-lang': u'en'}, {'start-lang': u'en', 'end': u'device', 'weight': 1.0, 'start': u'die', 'relation': u'IsA', 'end-lang': u'en'}, {'start-lang': u'en', 'end': u'device', 'weight': 1.0, 'start': u'disco ball', 'relation': u'IsA', 'end-lang': u'en'}, {'start-lang': u'en', 'end': u'a device', 'weight': 1.0, 'start': u'a drill', 'relation': u'IsA', 'end-lang': u'en'}, {'start-lang': u'en', 'end': u'device', 'weight': 1.0, 'start': u'drug paraphernalia', 'relation': u'IsA', 'end-lang': u'en'}, {'start-lang': u'en', 'end': u'device', 'weight': 1.0, 'start': u'engine test cell', 'relation': u'IsA', 'end-lang': u'en'}, {'start-lang': u'en', 'end': u'device', 'weight': 1.0, 'start': u'epilator', 'relation': u'IsA', 'end-lang': u'en'}, {'start-lang': u'en', 'end': u'device', 'weight': 1.0, 'start': u'explosive device disposal device', 'relation': u'IsA', 'end-lang': u'en'}, {'start-lang': u'en', 'end': u'device', 'weight': 1.0, 'start': u'feeder', 'relation': u'IsA', 'end-lang': u'en'}, {'start-lang': u'en', 'end': u'device', 'weight': 1.0, 'start': u'filtering system', 'relation': u'IsA', 'end-lang': u'en'}, {'start-lang': u'en', 'end': u'a device', 'weight': 1.0, 'start': u'a firebomb', 'relation': u'IsA', 'end-lang': u'en'}, {'start-lang': u'en', 'end': u'device', 'weight': 1.0, 'start': u'firefighting equipment', 'relation': u'IsA', 'end-lang': u'en'}, {'start-lang': u'en', 'end': u'device', 'weight': 1.0, 'start': u'fishing line', 'relation': u'IsA', 'end-lang': u'en'}, {'start-lang': u'en', 'end': u'device', 'weight': 1.0, 'start': u'fitness equipment', 'relation': u'IsA', 'end-lang': u'en'}, {'start-lang': u'en', 'end': u'device', 'weight': 1.0, 'start': u'flare pipe', 'relation': u'IsA', 'end-lang': u'en'}, {'start-lang': u'en', 'end': u'device', 'weight': 1.0, 'start': u'floor placed device', 'relation': u'IsA', 'end-lang': u'en'}, {'start-lang': u'en', 'end': u'device', 'weight': 1.0, 'start': u'folded thing', 'relation': u'IsA', 'end-lang': u'en'}, {'start-lang': u'en', 'end': u'device', 'weight': 1.0, 'start': u'fulcrum', 'relation': u'IsA', 'end-lang': u'en'}, {'start-lang': u'en', 'end': u'device', 'weight': 1.0, 'start': u'functionally defective device', 'relation': u'IsA', 'end-lang': u'en'}, {'start-lang': u'en', 'end': u'device', 'weight': 1.0, 'start': u'game equipment set', 'relation': u'IsA', 'end-lang': u'en'}, {'start-lang': u'en', 'end': u'device', 'weight': 1.0, 'start': u'gamma emission sensor', 'relation': u'IsA', 'end-lang': u'en'}, {'start-lang': u'en', 'end': u'device', 'weight': 1.0, 'start': u'garden archway', 'relation': u'IsA', 'end-lang': u'en'}, {'start-lang': u'en', 'end': u'device', 'weight': 1.0, 'start': u'garden trellis', 'relation': u'IsA', 'end-lang': u'en'}, {'start-lang': u'en', 'end': u'device', 'weight': 1.0, 'start': u'gear', 'relation': u'IsA', 'end-lang': u'en'}, {'start-lang': u'en', 'end': u'device', 'weight': 1.0, 'start': u'handcuff', 'relation': u'IsA', 'end-lang': u'en'}, {'start-lang': u'en', 'end': u'device', 'weight': 1.0, 'start': u'implement', 'relation': u'IsA', 'end-lang': u'en'}, {'start-lang': u'en', 'end': u'device', 'weight': 1.0, 'start': u'incremental mass processing tool', 'relation': u'IsA', 'end-lang': u'en'}, {'start-lang': u'en', 'end': u'device', 'weight': 1.0, 'start': u'inflatable object', 'relation': u'IsA', 'end-lang': u'en'}, {'start-lang': u'en', 'end': u'device', 'weight': 1.0, 'start': u'inflated thing', 'relation': u'IsA', 'end-lang': u'en'}, {'start-lang': u'en', 'end': u'device', 'weight': 1.0, 'start': u'information gathering device', 'relation': u'IsA', 'end-lang': u'en'}, {'start-lang': u'en', 'end': u'device', 'weight': 1.0, 'start': u'information recording device', 'relation': u'IsA', 'end-lang': u'en'}, {'start-lang': u'en', 'end': u'device', 'weight': 1.0, 'start': u'information route', 'relation': u'IsA', 'end-lang': u'en'}, {'start-lang': u'en', 'end': u'device', 'weight': 1.0, 'start': u'information storage device', 'relation': u'IsA', 'end-lang': u'en'}, {'start-lang': u'en', 'end': u'a device', 'weight': 1.0, 'start': u'in general, a tool', 'relation': u'IsA', 'end-lang': u'en'}, {'start-lang': u'en', 'end': u'device', 'weight': 1.0, 'start': u'instrument', 'relation': u'IsA', 'end-lang': u'en'}, {'start-lang': u'en', 'end': u'device', 'weight': 1.0, 'start': u'iron', 'relation': u'IsA', 'end-lang': u'en'}, {'start-lang': u'en', 'end': u'device', 'weight': 1.0, 'start': u'kitchen tool', 'relation': u'IsA', 'end-lang': u'en'}, {'start-lang': u'en', 'end': u'device', 'weight': 1.0, 'start': u'kit', 'relation': u'IsA', 'end-lang': u'en'}, {'start-lang': u'en', 'end': u'device', 'weight': 1.0, 'start': u'knife sharpener', 'relation': u'IsA', 'end-lang': u'en'}, {'start-lang': u'en', 'end': u'device', 'weight': 1.0, 'start': u'laboratory equipment', 'relation': u'IsA', 'end-lang': u'en'}, {'start-lang': u'en', 'end': u'a device', 'weight': 1.0, 'start': u'a laser', 'relation': u'IsA', 'end-lang': u'en'}, {'start-lang': u'en', 'end': u'device', 'weight': 1.0, 'start': u'legal tender', 'relation': u'IsA', 'end-lang': u'en'}, {'start-lang': u'en', 'end': u'device', 'weight': 1.0, 'start': u'lever', 'relation': u'IsA', 'end-lang': u'en'}, {'start-lang': u'en', 'end': u'device', 'weight': 1.0, 'start': u'light ship', 'relation': u'IsA', 'end-lang': u'en'}, {'start-lang': u'en', 'end': u'device', 'weight': 1.0, 'start': u'line replaceable unit', 'relation': u'IsA', 'end-lang': u'en'}, {'start-lang': u'en', 'end': u'device', 'weight': 1.0, 'start': u'locked device', 'relation': u'IsA', 'end-lang': u'en'}, {'start-lang': u'en', 'end': u'device', 'weight': 1.0, 'start': u'lot processing tool', 'relation': u'IsA', 'end-lang': u'en'}, {'start-lang': u'en', 'end': u'device', 'weight': 1.0, 'start': u'm 1 stepper', 'relation': u'IsA', 'end-lang': u'en'}, {'start-lang': u'en', 'end': u'device', 'weight': 1.0, 'start': u'masking reticle', 'relation': u'IsA', 'end-lang': u'en'}, {'start-lang': u'en', 'end': u'device', 'weight': 1.0, 'start': u'measuring device', 'relation': u'IsA', 'end-lang': u'en'}, {'start-lang': u'en', 'end': u'device', 'weight': 1.0, 'start': u'mechanical device', 'relation': u'IsA', 'end-lang': u'en'}, {'start-lang': u'en', 'end': u'device', 'weight': 1.0, 'start': u'medical device', 'relation': u'IsA', 'end-lang': u'en'}, {'start-lang': u'en', 'end': u'device', 'weight': 1.0, 'start': u'missile head', 'relation': u'IsA', 'end-lang': u'en'}, {'start-lang': u'en', 'end': u'device', 'weight': 1.0, 'start': u'mountable transporter device', 'relation': u'IsA', 'end-lang': u'en'}, {'start-lang': u'en', 'end': u'device', 'weight': 1.0, 'start': u'multi purpose device', 'relation': u'IsA', 'end-lang': u'en'}, {'start-lang': u'en', 'end': u'device', 'weight': 1.0, 'start': u'musical equipment', 'relation': u'IsA', 'end-lang': u'en'}, {'start-lang': u'en', 'end': u'device', 'weight': 1.0, 'start': u'navigation device', 'relation': u'IsA', 'end-lang': u'en'}, {'start-lang': u'en', 'end': u'device', 'weight': 1.0, 'start': u'network hardware chassis', 'relation': u'IsA', 'end-lang': u'en'}, {'start-lang': u'en', 'end': u'device', 'weight': 1.0, 'start': u'non paper office device', 'relation': u'IsA', 'end-lang': u'en'}, {'start-lang': u'en', 'end': u'device', 'weight': 1.0, 'start': u'non powered device', 'relation': u'IsA', 'end-lang': u'en'}, {'start-lang': u'en', 'end': u'device', 'weight': 1.0, 'start': u'nuclear reactor hardware', 'relation': u'IsA', 'end-lang': u'en'}, {'start-lang': u'en', 'end': u'device', 'weight': 1.0, 'start': u'oil field equipment', 'relation': u'IsA', 'end-lang': u'en'}, {'start-lang': u'en', 'end': u'device', 'weight': 1.0, 'start': u'optical transceiver', 'relation': u'IsA', 'end-lang': u'en'}, {'start-lang': u'en', 'end': u'device', 'weight': 1.0, 'start': u'part for computers', 'relation': u'IsA', 'end-lang': u'en'}, {'start-lang': u'en', 'end': u'device', 'weight': 1.0, 'start': u'part for guns', 'relation': u'IsA', 'end-lang': u'en'}, {'start-lang': u'en', 'end': u'device', 'weight': 1.0, 'start': u'pause', 'relation': u'IsA', 'end-lang': u'en'}, {'start-lang': u'en', 'end': u'device', 'weight': 1.0, 'start': u'payload', 'relation': u'IsA', 'end-lang': u'en'}, {'start-lang': u'en', 'end': u'device', 'weight': 1.0, 'start': u'photolithography tool', 'relation': u'IsA', 'end-lang': u'en'}, {'start-lang': u'en', 'end': u'device', 'weight': 1.0, 'start': u'physical template', 'relation': u'IsA', 'end-lang': u'en'}, {'start-lang': u'en', 'end': u'device', 'weight': 1.0, 'start': u'plumbing fixture', 'relation': u'IsA', 'end-lang': u'en'}, {'start-lang': u'en', 'end': u'device', 'weight': 1.0, 'start': u'pom pom', 'relation': u'IsA', 'end-lang': u'en'}, {'start-lang': u'en', 'end': u'device', 'weight': 1.0, 'start': u'portable anthrax sprayer', 'relation': u'IsA', 'end-lang': u'en'}, {'start-lang': u'en', 'end': u'device', 'weight': 1.0, 'start': u'powered device', 'relation': u'IsA', 'end-lang': u'en'}, {'start-lang': u'en', 'end': u'device', 'weight': 1.0, 'start': u'power plant', 'relation': u'IsA', 'end-lang': u'en'}, {'start-lang': u'en', 'end': u'device', 'weight': 1.0, 'start': u'printer', 'relation': u'IsA', 'end-lang': u'en'}, {'start-lang': u'en', 'end': u'device', 'weight': 1.0, 'start': u'processing station', 'relation': u'IsA', 'end-lang': u'en'}, {'start-lang': u'en', 'end': u'device', 'weight': 1.0, 'start': u'production tubing', 'relation': u'IsA', 'end-lang': u'en'}, {'start-lang': u'en', 'end': u'device', 'weight': 1.0, 'start': u'protective covering', 'relation': u'IsA', 'end-lang': u'en'}, {'start-lang': u'en', 'end': u'a device', 'weight': 1.0, 'start': u'a pully', 'relation': u'IsA', 'end-lang': u'en'}, {'start-lang': u'en', 'end': u'device', 'weight': 1.0, 'start': u'pylon', 'relation': u'IsA', 'end-lang': u'en'}, {'start-lang': u'en', 'end': u'device', 'weight': 1.0, 'start': u'r 0 reticle', 'relation': u'IsA', 'end-lang': u'en'}, {'start-lang': u'en', 'end': u'device', 'weight': 1.0, 'start': u'r 0 stepper', 'relation': u'IsA', 'end-lang': u'en'}, {'start-lang': u'en', 'end': u'device', 'weight': 1.0, 'start': u'radar station', 'relation': u'IsA', 'end-lang': u'en'}, {'start-lang': u'en', 'end': u'device', 'weight': 1.0, 'start': u'radiator tester', 'relation': u'IsA', 'end-lang': u'en'}, {'start-lang': u'en', 'end': u'device', 'weight': 1.0, 'start': u'ramp', 'relation': u'IsA', 'end-lang': u'en'}, {'start-lang': u'en', 'end': u'device', 'weight': 1.0, 'start': u'razor wire fence', 'relation': u'IsA', 'end-lang': u'en'}, {'start-lang': u'en', 'end': u'device', 'weight': 1.0, 'start': u'reflector', 'relation': u'IsA', 'end-lang': u'en'}, {'start-lang': u'en', 'end': u'device', 'weight': 1.0, 'start': u'remote controlled device', 'relation': u'IsA', 'end-lang': u'en'}, {'start-lang': u'en', 'end': u'device', 'weight': 1.0, 'start': u'remote control', 'relation': u'IsA', 'end-lang': u'en'}, {'start-lang': u'en', 'end': u'device', 'weight': 1.0, 'start': u'removable thing', 'relation': u'IsA', 'end-lang': u'en'}, {'start-lang': u'en', 'end': u'device', 'weight': 1.0, 'start': u'repairable thing', 'relation': u'IsA', 'end-lang': u'en'}, {'start-lang': u'en', 'end': u'device', 'weight': 1.0, 'start': u'restraint', 'relation': u'IsA', 'end-lang': u'en'}, {'start-lang': u'en', 'end': u'device', 'weight': 1.0, 'start': u'rig', 'relation': u'IsA', 'end-lang': u'en'}, {'start-lang': u'en', 'end': u'device', 'weight': 1.0, 'start': u'safety device', 'relation': u'IsA', 'end-lang': u'en'}, {'start-lang': u'en', 'end': u'device', 'weight': 1.0, 'start': u'sandpaper', 'relation': u'IsA', 'end-lang': u'en'}, {'start-lang': u'en', 'end': u'device', 'weight': 1.0, 'start': u'scientific instrument', 'relation': u'IsA', 'end-lang': u'en'}, {'start-lang': u'en', 'end': u'device', 'weight': 1.0, 'start': u'sd reticle', 'relation': u'IsA', 'end-lang': u'en'}, {'start-lang': u'en', 'end': u'device', 'weight': 1.0, 'start': u'sd stepper', 'relation': u'IsA', 'end-lang': u'en'}, {'start-lang': u'en', 'end': u'device', 'weight': 1.0, 'start': u'seat belt lock', 'relation': u'IsA', 'end-lang': u'en'}, {'start-lang': u'en', 'end': u'device', 'weight': 1.0, 'start': u'seat', 'relation': u'IsA', 'end-lang': u'en'}, {'start-lang': u'en', 'end': u'device', 'weight': 1.0, 'start': u'security device', 'relation': u'IsA', 'end-lang': u'en'}, {'start-lang': u'en', 'end': u'device', 'weight': 1.0, 'start': u'self controlled device', 'relation': u'IsA', 'end-lang': u'en'}, {'start-lang': u'en', 'end': u'device', 'weight': 1.0, 'start': u'semiconductor processing tool', 'relation': u'IsA', 'end-lang': u'en'}, {'start-lang': u'en', 'end': u'device', 'weight': 1.0, 'start': u'sensor', 'relation': u'IsA', 'end-lang': u'en'}, {'start-lang': u'en', 'end': u'device', 'weight': 1.0, 'start': u'sensory enhancement device', 'relation': u'IsA', 'end-lang': u'en'}, {'start-lang': u'en', 'end': u'device', 'weight': 1.0, 'start': u'shear legs', 'relation': u'IsA', 'end-lang': u'en'}, {'start-lang': u'en', 'end': u'device', 'weight': 1.0, 'start': u'single purpose device', 'relation': u'IsA', 'end-lang': u'en'}, {'start-lang': u'en', 'end': u'device', 'weight': 1.0, 'start': u'single user device', 'relation': u'IsA', 'end-lang': u'en'}, {'start-lang': u'en', 'end': u'device', 'weight': 1.0, 'start': u'siren', 'relation': u'IsA', 'end-lang': u'en'}, {'start-lang': u'en', 'end': u'device', 'weight': 1.0, 'start': u'skateboarding obstacle', 'relation': u'IsA', 'end-lang': u'en'}, {'start-lang': u'en', 'end': u'device', 'weight': 1.0, 'start': u'ski equipment package', 'relation': u'IsA', 'end-lang': u'en'}, {'start-lang': u'en', 'end': u'device', 'weight': 1.0, 'start': u'snow brush', 'relation': u'IsA', 'end-lang': u'en'}, {'start-lang': u'en', 'end': u'device', 'weight': 1.0, 'start': u'spanning device', 'relation': u'IsA', 'end-lang': u'en'}, {'start-lang': u'en', 'end': u'device', 'weight': 1.0, 'start': u'spider hole', 'relation': u'IsA', 'end-lang': u'en'}, {'start-lang': u'en', 'end': u'device', 'weight': 1.0, 'start': u'spool', 'relation': u'IsA', 'end-lang': u'en'}, {'start-lang': u'en', 'end': u'device', 'weight': 1.0, 'start': u'sports equipment', 'relation': u'IsA', 'end-lang': u'en'}, {'start-lang': u'en', 'end': u'a device', 'weight': 1.0, 'start': u'a sprinkler', 'relation': u'IsA', 'end-lang': u'en'}, {'start-lang': u'en', 'end': u'device', 'weight': 1.0, 'start': u'steering post', 'relation': u'IsA', 'end-lang': u'en'}, {'start-lang': u'en', 'end': u'device', 'weight': 1.0, 'start': u'stepper photolithography', 'relation': u'IsA', 'end-lang': u'en'}, {'start-lang': u'en', 'end': u'device', 'weight': 1.0, 'start': u'stirrup', 'relation': u'IsA', 'end-lang': u'en'}, {'start-lang': u'en', 'end': u'a device', 'weight': 1.0, 'start': u'a stove', 'relation': u'IsA', 'end-lang': u'en'}, {'start-lang': u'en', 'end': u'device', 'weight': 1.0, 'start': u'stretched thing', 'relation': u'IsA', 'end-lang': u'en'}, {'start-lang': u'en', 'end': u'device', 'weight': 1.0, 'start': u'switchboard', 'relation': u'IsA', 'end-lang': u'en'}, {'start-lang': u'en', 'end': u'device', 'weight': 1.0, 'start': u'system of devices', 'relation': u'IsA', 'end-lang': u'en'}, {'start-lang': u'en', 'end': u'device', 'weight': 1.0, 'start': u'tabletop device', 'relation': u'IsA', 'end-lang': u'en'}, {'start-lang': u'en', 'end': u'device', 'weight': 1.0, 'start': u'tack', 'relation': u'IsA', 'end-lang': u'en'}, {'start-lang': u'en', 'end': u'device', 'weight': 1.0, 'start': u'teething toy', 'relation': u'IsA', 'end-lang': u'en'}, {'start-lang': u'en', 'end': u'a device', 'weight': 1.0, 'start': u'a television', 'relation': u'IsA', 'end-lang': u'en'}, {'start-lang': u'en', 'end': u'device', 'weight': 1.0, 'start': u'tennis accessory', 'relation': u'IsA', 'end-lang': u'en'}, {'start-lang': u'en', 'end': u'device', 'weight': 1.0, 'start': u'thermal luminescent detector', 'relation': u'IsA', 'end-lang': u'en'}, {'start-lang': u'en', 'end': u'a device', 'weight': 1.0, 'start': u'a thermometer', 'relation': u'IsA', 'end-lang': u'en'}, {'start-lang': u'en', 'end': u'device', 'weight': 1.0, 'start': u'toilet training product', 'relation': u'IsA', 'end-lang': u'en'}, {'start-lang': u'en', 'end': u'device', 'weight': 1.0, 'start': u'toner cartridge', 'relation': u'IsA', 'end-lang': u'en'}, {'start-lang': u'en', 'end': u'device', 'weight': 1.0, 'start': u'tool', 'relation': u'IsA', 'end-lang': u'en'}, {'start-lang': u'en', 'end': u'device', 'weight': 1.0, 'start': u'torch', 'relation': u'IsA', 'end-lang': u'en'}, {'start-lang': u'en', 'end': u'device', 'weight': 1.0, 'start': u'torn thing', 'relation': u'IsA', 'end-lang': u'en'}, {'start-lang': u'en', 'end': u'device', 'weight': 1.0, 'start': u'torture device', 'relation': u'IsA', 'end-lang': u'en'}, {'start-lang': u'en', 'end': u'device', 'weight': 1.0, 'start': u'toy', 'relation': u'IsA', 'end-lang': u'en'}, {'start-lang': u'en', 'end': u'device', 'weight': 1.0, 'start': u'traffic obstruction device', 'relation': u'IsA', 'end-lang': u'en'}, {'start-lang': u'en', 'end': u'device', 'weight': 1.0, 'start': u'transportation device', 'relation': u'IsA', 'end-lang': u'en'}, {'start-lang': u'en', 'end': u'device', 'weight': 1.0, 'start': u'transport facility', 'relation': u'IsA', 'end-lang': u'en'}, {'start-lang': u'en', 'end': u'device', 'weight': 1.0, 'start': u'trap', 'relation': u'IsA', 'end-lang': u'en'}, {'start-lang': u'en', 'end': u'device', 'weight': 1.0, 'start': u'triggerable device', 'relation': u'IsA', 'end-lang': u'en'}, {'start-lang': u'en', 'end': u'device', 'weight': 1.0, 'start': u'truck liner', 'relation': u'IsA', 'end-lang': u'en'}, {'start-lang': u'en', 'end': u'device', 'weight': 1.0, 'start': u'truck slider', 'relation': u'IsA', 'end-lang': u'en'}, {'start-lang': u'en', 'end': u'device', 'weight': 1.0, 'start': u'unfolded thing', 'relation': u'IsA', 'end-lang': u'en'}, {'start-lang': u'en', 'end': u'device', 'weight': 1.0, 'start': u'unlocked thing', 'relation': u'IsA', 'end-lang': u'en'}, {'start-lang': u'en', 'end': u'device', 'weight': 1.0, 'start': u'user guided device', 'relation': u'IsA', 'end-lang': u'en'}, {'start-lang': u'en', 'end': u'device', 'weight': 1.0, 'start': u'vehicle part', 'relation': u'IsA', 'end-lang': u'en'}, {'start-lang': u'en', 'end': u'device', 'weight': 1.0, 'start': u'ventilation device', 'relation': u'IsA', 'end-lang': u'en'}, {'start-lang': u'en', 'end': u'device', 'weight': 1.0, 'start': u'ventilator', 'relation': u'IsA', 'end-lang': u'en'}, {'start-lang': u'en', 'end': u'device', 'weight': 1.0, 'start': u'vertical support structure', 'relation': u'IsA', 'end-lang': u'en'}, {'start-lang': u'en', 'end': u'device', 'weight': 1.0, 'start': u'vision aid', 'relation': u'IsA', 'end-lang': u'en'}, {'start-lang': u'en', 'end': u'device', 'weight': 1.0, 'start': u'visor accessory', 'relation': u'IsA', 'end-lang': u'en'}, {'start-lang': u'en', 'end': u'device', 'weight': 1.0, 'start': u'walker', 'relation': u'IsA', 'end-lang': u'en'}, {'start-lang': u'en', 'end': u'device', 'weight': 1.0, 'start': u'wall mounted device', 'relation': u'IsA', 'end-lang': u'en'}, {'start-lang': u'en', 'end': u'device', 'weight': 1.0, 'start': u'waste conversion device', 'relation': u'IsA', 'end-lang': u'en'}, {'start-lang': u'en', 'end': u'device', 'weight': 1.0, 'start': u'watering can', 'relation': u'IsA', 'end-lang': u'en'}, {'start-lang': u'en', 'end': u'device', 'weight': 1.0, 'start': u'water powered device', 'relation': u'IsA', 'end-lang': u'en'}, {'start-lang': u'en', 'end': u'a device', 'weight': 1.0, 'start': u'a water softener', 'relation': u'IsA', 'end-lang': u'en'}, {'start-lang': u'en', 'end': u'device', 'weight': 1.0, 'start': u'weapon', 'relation': u'IsA', 'end-lang': u'en'}, {'start-lang': u'en', 'end': u'a device', 'weight': 1.0, 'start': u'a weather vane', 'relation': u'IsA', 'end-lang': u'en'}, {'start-lang': u'en', 'end': u'device', 'weight': 1.0, 'start': u'well', 'relation': u'IsA', 'end-lang': u'en'}, {'start-lang': u'en', 'end': u'device', 'weight': 1.0, 'start': u'whistle', 'relation': u'IsA', 'end-lang': u'en'}, {'start-lang': u'en', 'end': u'device', 'weight': 1.0, 'start': u'window covering', 'relation': u'IsA', 'end-lang': u'en'}, {'start-lang': u'en', 'end': u'device', 'weight': 1.0, 'start': u'wind powered thing', 'relation': u'IsA', 'end-lang': u'en'}, {'start-lang': u'en', 'end': u'device', 'weight': 1.0, 'start': u'wire', 'relation': u'IsA', 'end-lang': u'en'}, {'start-lang': u'en', 'end': u'device', 'weight': 1.0, 'start': u'apparatus', 'relation': u'Synonym', 'end-lang': u'en'}, {'start-lang': u'en', 'end': u'device', 'weight': 1.0, 'start': u'contraption', 'relation': u'Synonym', 'end-lang': u'en'}, {'start-lang': u'en', 'end': u'apparatus', 'weight': 1.0, 'start': u'device', 'relation': u'Synonym', 'end-lang': u'en'}, {'start-lang': u'en', 'end': u'appliance', 'weight': 1.0, 'start': u'device', 'relation': u'Synonym', 'end-lang': u'en'}, {'start-lang': u'en', 'end': u'artifice', 'weight': 1.0, 'start': u'device', 'relation': u'Synonym', 'end-lang': u'en'}, {'start-lang': u'en', 'end': u'contrivance', 'weight': 1.0, 'start': u'device', 'relation': u'Synonym', 'end-lang': u'en'}, {'start-lang': u'en', 'end': u'design', 'weight': 1.0, 'start': u'device', 'relation': u'Synonym', 'end-lang': u'en'}, {'start-lang': u'en', 'end': u'equipment', 'weight': 1.0, 'start': u'device', 'relation': u'Synonym', 'end-lang': u'en'}, {'start-lang': u'en', 'end': u'gadget', 'weight': 1.0, 'start': u'device', 'relation': u'Synonym', 'end-lang': u'en'}, {'start-lang': u'en', 'end': u'invention', 'weight': 1.0, 'start': u'device', 'relation': u'Synonym', 'end-lang': u'en'}, {'start-lang': u'en', 'end': u'project', 'weight': 1.0, 'start': u'device', 'relation': u'Synonym', 'end-lang': u'en'}, {'start-lang': u'en', 'end': u'scheme', 'weight': 1.0, 'start': u'device', 'relation': u'Synonym', 'end-lang': u'en'}, {'start-lang': u'en', 'end': u'stratagem', 'weight': 1.0, 'start': u'device', 'relation': u'Synonym', 'end-lang': u'en'}, {'start-lang': u'en', 'end': u'device', 'weight': 1.0, 'start': u'prophylactic', 'relation': u'Synonym', 'end-lang': u'en'}, {'start-lang': u'en', 'end': u'device', 'weight': 1.0, 'start': u'scheme', 'relation': u'Synonym', 'end-lang': u'en'}, {'start-lang': u'en', 'end': u'device', 'weight': 1.0, 'start': u'way', 'relation': u'Synonym', 'end-lang': u'en'}, {'start-lang': u'en', 'end': u'device', 'weight': 0.5, 'start': u'iliad', 'relation': u'IsA', 'end-lang': u'en'}, {'start-lang': u'en', 'end': u'device', 'weight': 0.5, 'start': u'iphone 3g', 'relation': u'IsA', 'end-lang': u'en'}, {'start-lang': u'en', 'end': u'device', 'weight': 0.5, 'start': u'iphone 3gs', 'relation': u'IsA', 'end-lang': u'en'}, {'start-lang': u'en', 'end': u'device', 'weight': 0.5, 'start': u'iphone 4', 'relation': u'IsA', 'end-lang': u'en'}, {'start-lang': u'en', 'end': u'device', 'weight': 0.5, 'start': u'iphone', 'relation': u'IsA', 'end-lang': u'en'}]}),\n",
       "   'sentic': {u'device': {'device': ['mechanical_complex_machine',\n",
       "      'mechanism',\n",
       "      'human_invention',\n",
       "      'machine',\n",
       "      'complex_machine']}}},\n",
       "  10: {'conceptnet_io': defaultdict(<type 'list'>, {}), 'sentic': {}}},\n",
       " 'aspect_keywords': {7: {'rake': [(u'steve jobs', 4.0),\n",
       "    (u'twisted individual', 4.0)]},\n",
       "  9: {'rake': [(u'device', 1.0), (u'ruined', 1.0)]},\n",
       "  10: {'rake': [(u'unreplacable 18 month battery', 9.0), (u'giving', 1.0)]}},\n",
       " 'aspects': {7: [u'steve jobs', u'individual'], 9: [u'device'], 10: []},\n",
       " 'sentiment': {7: 1, 8: 0, 9: -1, 10: -1}}"
      ]
     },
     "execution_count": 22,
     "metadata": {},
     "output_type": "execute_result"
    }
   ],
   "source": [
    "docs_info.values()[4]"
   ]
  },
  {
   "cell_type": "markdown",
   "metadata": {},
   "source": [
    "# Load edus "
   ]
  },
  {
   "cell_type": "code",
   "execution_count": 23,
   "metadata": {},
   "outputs": [
    {
     "data": {
      "text/plain": [
       "{'entities': [],\n",
       " 'raw_text': u'If you can get past this little flaw ,',\n",
       " 'source_document_id': 0,\n",
       " 'tokens': [{'is_stop': True, 'lemma': u'if', 'pos': u'ADP', 'text': u'If'},\n",
       "  {'is_stop': True, 'lemma': u'-PRON-', 'pos': u'PRON', 'text': u'you'},\n",
       "  {'is_stop': True, 'lemma': u'can', 'pos': u'VERB', 'text': u'can'},\n",
       "  {'is_stop': True, 'lemma': u'get', 'pos': u'VERB', 'text': u'get'},\n",
       "  {'is_stop': False, 'lemma': u'past', 'pos': u'ADP', 'text': u'past'},\n",
       "  {'is_stop': True, 'lemma': u'this', 'pos': u'DET', 'text': u'this'},\n",
       "  {'is_stop': False, 'lemma': u'little', 'pos': u'ADJ', 'text': u'little'},\n",
       "  {'is_stop': False, 'lemma': u'flaw', 'pos': u'NOUN', 'text': u'flaw'}]}"
      ]
     },
     "execution_count": 23,
     "metadata": {},
     "output_type": "execute_result"
    }
   ],
   "source": [
    "edus = load_serialized(join(data_path, 'raw_edu_list'))\n",
    "n_edus = len(edus)\n",
    "edus[0]"
   ]
  },
  {
   "cell_type": "code",
   "execution_count": 24,
   "metadata": {},
   "outputs": [
    {
     "data": {
      "text/plain": [
       "1591"
      ]
     },
     "execution_count": 24,
     "metadata": {},
     "output_type": "execute_result"
    }
   ],
   "source": [
    "n_edus"
   ]
  },
  {
   "cell_type": "code",
   "execution_count": 25,
   "metadata": {},
   "outputs": [
    {
     "data": {
      "text/plain": [
       "{'entities': [],\n",
       " 'raw_text': u'by giving it an UNREPLACABLE 18 MONTH BATTERY.',\n",
       " 'source_document_id': 4,\n",
       " 'tokens': [{'is_stop': True, 'lemma': u'by', 'pos': u'ADP', 'text': u'by'},\n",
       "  {'is_stop': False, 'lemma': u'give', 'pos': u'VERB', 'text': u'giving'},\n",
       "  {'is_stop': True, 'lemma': u'-PRON-', 'pos': u'PRON', 'text': u'it'},\n",
       "  {'is_stop': True, 'lemma': u'an', 'pos': u'DET', 'text': u'an'},\n",
       "  {'is_stop': False,\n",
       "   'lemma': u'unreplacable',\n",
       "   'pos': u'PROPN',\n",
       "   'text': u'UNREPLACABLE'},\n",
       "  {'is_stop': False, 'lemma': u'18', 'pos': u'NUM', 'text': u'18'},\n",
       "  {'is_stop': False, 'lemma': u'month', 'pos': u'PROPN', 'text': u'MONTH'},\n",
       "  {'is_stop': False,\n",
       "   'lemma': u'battery',\n",
       "   'pos': u'PROPN',\n",
       "   'text': u'BATTERY'}]}"
      ]
     },
     "execution_count": 25,
     "metadata": {},
     "output_type": "execute_result"
    }
   ],
   "source": [
    "edus[10]"
   ]
  },
  {
   "cell_type": "code",
   "execution_count": 26,
   "metadata": {},
   "outputs": [
    {
     "data": {
      "text/html": [
       "<div style=\"max-width:1500px;overflow:auto;\">\n",
       "<table border=\"1\" class=\"dataframe\">\n",
       "  <thead>\n",
       "    <tr style=\"text-align: right;\">\n",
       "      <th></th>\n",
       "      <th>tokens</th>\n",
       "      <th>entities</th>\n",
       "      <th>raw_text</th>\n",
       "      <th>source_document_id</th>\n",
       "    </tr>\n",
       "  </thead>\n",
       "  <tbody>\n",
       "    <tr>\n",
       "      <th>0</th>\n",
       "      <td>[{u'is_stop': True, u'text': u'If', u'pos': u'...</td>\n",
       "      <td>[]</td>\n",
       "      <td>If you can get past this little flaw ,</td>\n",
       "      <td>0</td>\n",
       "    </tr>\n",
       "    <tr>\n",
       "      <th>1</th>\n",
       "      <td>[{u'is_stop': True, u'text': u'give', u'pos': ...</td>\n",
       "      <td>[]</td>\n",
       "      <td>give the ipod 5 stars ,</td>\n",
       "      <td>0</td>\n",
       "    </tr>\n",
       "    <tr>\n",
       "      <th>2</th>\n",
       "      <td>[{u'is_stop': True, u'text': u'because', u'pos...</td>\n",
       "      <td>[]</td>\n",
       "      <td>because everything else about it is pretty muc...</td>\n",
       "      <td>0</td>\n",
       "    </tr>\n",
       "    <tr>\n",
       "      <th>3</th>\n",
       "      <td>[{u'is_stop': False, u'text': u'Don', u'pos': ...</td>\n",
       "      <td>[don]</td>\n",
       "      <td>Don t get this</td>\n",
       "      <td>1</td>\n",
       "    </tr>\n",
       "    <tr>\n",
       "      <th>4</th>\n",
       "      <td>[{u'is_stop': False, u'text': u'...', u'pos': ...</td>\n",
       "      <td>[]</td>\n",
       "      <td>... keep browsing.</td>\n",
       "      <td>1</td>\n",
       "    </tr>\n",
       "  </tbody>\n",
       "</table>\n",
       "</div>"
      ],
      "text/plain": [
       "                                              tokens entities  \\\n",
       "0  [{u'is_stop': True, u'text': u'If', u'pos': u'...       []   \n",
       "1  [{u'is_stop': True, u'text': u'give', u'pos': ...       []   \n",
       "2  [{u'is_stop': True, u'text': u'because', u'pos...       []   \n",
       "3  [{u'is_stop': False, u'text': u'Don', u'pos': ...    [don]   \n",
       "4  [{u'is_stop': False, u'text': u'...', u'pos': ...       []   \n",
       "\n",
       "                                            raw_text  source_document_id  \n",
       "0             If you can get past this little flaw ,                   0  \n",
       "1                            give the ipod 5 stars ,                   0  \n",
       "2  because everything else about it is pretty muc...                   0  \n",
       "3                                     Don t get this                   1  \n",
       "4                                 ... keep browsing.                   1  "
      ]
     },
     "execution_count": 26,
     "metadata": {},
     "output_type": "execute_result"
    }
   ],
   "source": [
    "edus_df = pd.DataFrame.from_dict(edus, orient='index')\n",
    "edus_df.head()"
   ]
  },
  {
   "cell_type": "markdown",
   "metadata": {},
   "source": [
    "# Load only edus with sentiment"
   ]
  },
  {
   "cell_type": "code",
   "execution_count": 27,
   "metadata": {},
   "outputs": [
    {
     "data": {
      "text/plain": [
       "1156"
      ]
     },
     "execution_count": 27,
     "metadata": {},
     "output_type": "execute_result"
    }
   ],
   "source": [
    "edus_sentiment = load_serialized(join(data_path, 'sentiment_filtered_edus'))\n",
    "n_edus_sentiment = len(edus_sentiment)\n",
    "n_edus_sentiment"
   ]
  },
  {
   "cell_type": "markdown",
   "metadata": {},
   "source": [
    "# Percent of edus with sentiment "
   ]
  },
  {
   "cell_type": "code",
   "execution_count": 31,
   "metadata": {},
   "outputs": [
    {
     "data": {
      "text/plain": [
       "'72.66%'"
      ]
     },
     "execution_count": 31,
     "metadata": {},
     "output_type": "execute_result"
    }
   ],
   "source": [
    "'{:.2f}%'.format(float(n_edus_sentiment)/n_edus * 100)"
   ]
  },
  {
   "cell_type": "markdown",
   "metadata": {},
   "source": [
    "# Load aspects "
   ]
  },
  {
   "cell_type": "code",
   "execution_count": 31,
   "metadata": {},
   "outputs": [],
   "source": [
    "aspects_per_edu = load_serialized(join(data_path, 'aspects_per_edu'))"
   ]
  },
  {
   "cell_type": "markdown",
   "metadata": {},
   "source": [
    "## Get multiple aspects per edu"
   ]
  },
  {
   "cell_type": "code",
   "execution_count": 1,
   "metadata": {},
   "outputs": [],
   "source": [
    "# [x for x in aspects_per_edu.items() if len(x[1]) > 1]"
   ]
  },
  {
   "cell_type": "code",
   "execution_count": 55,
   "metadata": {},
   "outputs": [],
   "source": [
    "# for id1, aspect_left in dict(aspects_per_edu[560]).iteritems():\n",
    "#     print(id1, aspect_left)"
   ]
  },
  {
   "cell_type": "code",
   "execution_count": 32,
   "metadata": {},
   "outputs": [
    {
     "data": {
      "text/plain": [
       "{559: [],\n",
       " 560: [u'thing'],\n",
       " 561: [],\n",
       " 562: [u'store clerk', u'apple', u'teenager', u'advice'],\n",
       " 563: []}"
      ]
     },
     "execution_count": 32,
     "metadata": {},
     "output_type": "execute_result"
    }
   ],
   "source": [
    "dict([x for x in aspects_per_edu.items() if 558 < x[0] < 564])"
   ]
  },
  {
   "cell_type": "code",
   "execution_count": 33,
   "metadata": {},
   "outputs": [],
   "source": [
    "# docs_info"
   ]
  },
  {
   "cell_type": "markdown",
   "metadata": {},
   "source": [
    "## Get document by aspect id"
   ]
  },
  {
   "cell_type": "code",
   "execution_count": 34,
   "metadata": {},
   "outputs": [],
   "source": [
    "aspect_id = 562"
   ]
  },
  {
   "cell_type": "code",
   "execution_count": 35,
   "metadata": {},
   "outputs": [],
   "source": [
    "# [(idx, d) for idx, d in docs_info.iteritems() if aspect_id in d['EDUs']]"
   ]
  },
  {
   "cell_type": "markdown",
   "metadata": {},
   "source": [
    "# Filter empty aspects and aspects shorter than 2, like 't', 'u' etc."
   ]
  },
  {
   "cell_type": "code",
   "execution_count": 36,
   "metadata": {},
   "outputs": [],
   "source": [
    "aspects_per_edu = {k:v for k, v in aspects_per_edu.items() if v and [v for x in v if len(x) > 1]}"
   ]
  },
  {
   "cell_type": "code",
   "execution_count": 37,
   "metadata": {},
   "outputs": [
    {
     "data": {
      "text/plain": [
       "[[u'steve jobs', u'individual'],\n",
       " [u'device'],\n",
       " [u'film'],\n",
       " [u'device', u'idea'],\n",
       " [u'battery'],\n",
       " [u'model', u'ipod'],\n",
       " [u'freakin easy', u'conspiracy'],\n",
       " [u'device', u'battery'],\n",
       " [u'mp3 player'],\n",
       " [u'opportunity']]"
      ]
     },
     "execution_count": 37,
     "metadata": {},
     "output_type": "execute_result"
    }
   ],
   "source": [
    "aspects_per_edu.values()[:10]"
   ]
  },
  {
   "cell_type": "code",
   "execution_count": 38,
   "metadata": {},
   "outputs": [
    {
     "data": {
      "text/plain": [
       "708"
      ]
     },
     "execution_count": 38,
     "metadata": {},
     "output_type": "execute_result"
    }
   ],
   "source": [
    "n_aspects_per_edu = len(aspects_per_edu)\n",
    "n_aspects_per_edu"
   ]
  },
  {
   "cell_type": "markdown",
   "metadata": {},
   "source": [
    "# Percent of edus with aspect extracted"
   ]
  },
  {
   "cell_type": "code",
   "execution_count": 39,
   "metadata": {},
   "outputs": [
    {
     "data": {
      "text/plain": [
       "'44.50%'"
      ]
     },
     "execution_count": 39,
     "metadata": {},
     "output_type": "execute_result"
    }
   ],
   "source": [
    "'{:.2f}%'.format(float(n_aspects_per_edu)/n_edus * 100)"
   ]
  },
  {
   "cell_type": "code",
   "execution_count": 40,
   "metadata": {},
   "outputs": [],
   "source": [
    "# dataset_df = pd.merge(edus_df, pd.DataFrame.from_dict(aspects, orient='index'), left_index=True, right_index=True)"
   ]
  },
  {
   "cell_type": "code",
   "execution_count": 41,
   "metadata": {},
   "outputs": [],
   "source": [
    "# dataset_df.head()"
   ]
  },
  {
   "cell_type": "markdown",
   "metadata": {},
   "source": [
    "# Percent of documents with at least 2 aspects!!"
   ]
  },
  {
   "cell_type": "code",
   "execution_count": 42,
   "metadata": {},
   "outputs": [],
   "source": [
    "documents_info = load_serialized(join(data_path, 'documents_info'))"
   ]
  },
  {
   "cell_type": "code",
   "execution_count": 43,
   "metadata": {},
   "outputs": [],
   "source": [
    "document_info_at_least_2_aspects_accepted = {k: v for k, v in documents_info.items() if len(v['accepted_edus']) > 1}"
   ]
  },
  {
   "cell_type": "code",
   "execution_count": 44,
   "metadata": {},
   "outputs": [],
   "source": [
    "n_at_least_two_aspects_per_doc = len(document_info_at_least_2_aspects_accepted)"
   ]
  },
  {
   "cell_type": "code",
   "execution_count": 45,
   "metadata": {},
   "outputs": [
    {
     "data": {
      "text/plain": [
       "'60.19%'"
      ]
     },
     "execution_count": 45,
     "metadata": {},
     "output_type": "execute_result"
    }
   ],
   "source": [
    "'{:.2f}%'.format(float(n_at_least_two_aspects_per_doc)/n_docs * 100)"
   ]
  },
  {
   "cell_type": "code",
   "execution_count": 46,
   "metadata": {},
   "outputs": [
    {
     "data": {
      "text/plain": [
       "[(0,\n",
       "  {'EDUs': [0, 1, 2],\n",
       "   'accepted_edus': [2],\n",
       "   'aspect_concepts': {2: {'conceptnet_io': defaultdict(<type 'list'>, {}),\n",
       "     'sentic': {}}},\n",
       "   'aspect_keywords': {2: {'rake': [(u'perfect', 1.0), (u'pretty', 1.0)]}},\n",
       "   'aspects': {2: []},\n",
       "   'sentiment': {0: 0, 1: 0, 2: 1}}),\n",
       " (1,\n",
       "  {'EDUs': [3, 4],\n",
       "   'accepted_edus': [3, 4],\n",
       "   'aspect_concepts': {3: {'conceptnet_io': defaultdict(<type 'list'>, {}),\n",
       "     'sentic': {}},\n",
       "    4: {'conceptnet_io': defaultdict(<type 'list'>, {}), 'sentic': {}}},\n",
       "   'aspect_keywords': {3: {'rake': [(u'don', 1.0)]},\n",
       "    4: {'rake': [(u'browsing', 1.0)]}},\n",
       "   'aspects': {3: [], 4: []},\n",
       "   'sentiment': {3: -1, 4: 1}}),\n",
       " (2,\n",
       "  {'EDUs': [5],\n",
       "   'accepted_edus': [],\n",
       "   'aspect_concepts': {},\n",
       "   'aspect_keywords': {},\n",
       "   'aspects': {},\n",
       "   'sentiment': {5: 0}}),\n",
       " (3,\n",
       "  {'EDUs': [6],\n",
       "   'accepted_edus': [],\n",
       "   'aspect_concepts': {},\n",
       "   'aspect_keywords': {},\n",
       "   'aspects': {},\n",
       "   'sentiment': {6: 0}}),\n",
       " (4,\n",
       "  {'EDUs': [7, 8, 9, 10],\n",
       "   'accepted_edus': [7, 9, 10],\n",
       "   'aspect_concepts': {7: {'conceptnet_io': defaultdict(<type 'list'>, {u'individual': [{'start-lang': u'en', 'end': u'an individual', 'weight': 2.82842712474619, 'start': u'a person', 'relation': u'IsA', 'end-lang': u'en'}, {'start-lang': u'en', 'end': u'individual', 'weight': 2.0, 'start': u'head', 'relation': u'IsA', 'end-lang': u'en'}, {'start-lang': u'en', 'end': u'organism', 'weight': 2.0, 'start': u'individual', 'relation': u'IsA', 'end-lang': u'en'}, {'start-lang': u'en', 'end': u'case-by-case', 'weight': 2.0, 'start': u'individual', 'relation': u'Synonym', 'end-lang': u'en'}, {'start-lang': u'en', 'end': u'person', 'weight': 2.0, 'start': u'individual', 'relation': u'Synonym', 'end-lang': u'en'}, {'start-lang': u'en', 'end': u'individual', 'weight': 2.0, 'start': u'private', 'relation': u'Synonym', 'end-lang': u'en'}, {'start-lang': u'en', 'end': u'individual', 'weight': 2.0, 'start': u'single', 'relation': u'Synonym', 'end-lang': u'en'}, {'start-lang': u'en', 'end': u'an individual', 'weight': 1.0, 'start': u'bob', 'relation': u'IsA', 'end-lang': u'en'}, {'start-lang': u'en', 'end': u'group', 'weight': 1.0, 'start': u'individual ', 'relation': u'PartOf', 'end-lang': u'en'}, {'start-lang': u'en', 'end': u'is part of group', 'weight': 1.0, 'start': u'individual', 'relation': u'PartOf', 'end-lang': u'en'}, {'start-lang': u'en', 'end': u'personal', 'weight': 1.0, 'start': u'individual', 'relation': u'Synonym', 'end-lang': u'en'}, {'start-lang': u'en', 'end': u'selfstanding', 'weight': 1.0, 'start': u'individual', 'relation': u'Synonym', 'end-lang': u'en'}, {'start-lang': u'en', 'end': u'single', 'weight': 1.0, 'start': u'individual', 'relation': u'Synonym', 'end-lang': u'en'}, {'start-lang': u'en', 'end': u'individual', 'weight': 1.0, 'start': u'singular', 'relation': u'Synonym', 'end-lang': u'en'}, {'start-lang': u'en', 'end': u'individual', 'weight': 1.0, 'start': u'sort', 'relation': u'Synonym', 'end-lang': u'en'}, {'start-lang': u'en', 'end': u'individual', 'weight': 1.0, 'start': u'specimen', 'relation': u'Synonym', 'end-lang': u'en'}], u'steve jobs': [{'start-lang': u'en', 'end': u'the apple corporation', 'weight': 1.0, 'start': u'steve jobs', 'relation': u'PartOf', 'end-lang': u'en'}, {'start-lang': u'en', 'end': u'person', 'weight': 0.5, 'start': u'steve jobs', 'relation': u'IsA', 'end-lang': u'en'}, {'start-lang': u'en', 'end': u'book', 'weight': 0.5, 'start': u'steve jobs', 'relation': u'IsA', 'end-lang': u'en'}, {'start-lang': u'en', 'end': u'steve jobs', 'weight': 0.5, 'start': u'steve jobs', 'relation': u'Synonym', 'end-lang': u'en'}, {'start-lang': u'en', 'end': u'steve jobs', 'weight': 0.5, 'start': u'steve jobs', 'relation': u'Synonym', 'end-lang': u'en'}]}),\n",
       "     'sentic': {u'individual': {'individual': ['mute',\n",
       "        'mortal',\n",
       "        'lip_reader',\n",
       "        'person',\n",
       "        'deaf_person']},\n",
       "      u'steve_jobs': {}}},\n",
       "    9: {'conceptnet_io': defaultdict(<type 'list'>, {u'device': [{'start-lang': u'en', 'end': u'a device', 'weight': 4.47213595499958, 'start': u'a stethoscope', 'relation': u'IsA', 'end-lang': u'en'}, {'start-lang': u'en', 'end': u'a device', 'weight': 4.0, 'start': u'a bomb', 'relation': u'IsA', 'end-lang': u'en'}, {'start-lang': u'en', 'end': u'a device', 'weight': 2.82842712474619, 'start': u'a musical instrument', 'relation': u'IsA', 'end-lang': u'en'}, {'start-lang': u'en', 'end': u'device', 'weight': 2.0, 'start': u'acoustic device', 'relation': u'IsA', 'end-lang': u'en'}, {'start-lang': u'en', 'end': u'device', 'weight': 2.0, 'start': u'adapter', 'relation': u'IsA', 'end-lang': u'en'}, {'start-lang': u'en', 'end': u'device', 'weight': 2.0, 'start': u'afterburner', 'relation': u'IsA', 'end-lang': u'en'}, {'start-lang': u'en', 'end': u'device', 'weight': 2.0, 'start': u'agglomerator', 'relation': u'IsA', 'end-lang': u'en'}, {'start-lang': u'en', 'end': u'device', 'weight': 2.0, 'start': u'airfoil', 'relation': u'IsA', 'end-lang': u'en'}, {'start-lang': u'en', 'end': u'device', 'weight': 2.0, 'start': u'alarm', 'relation': u'IsA', 'end-lang': u'en'}, {'start-lang': u'en', 'end': u'device', 'weight': 2.0, 'start': u'appliance', 'relation': u'IsA', 'end-lang': u'en'}, {'start-lang': u'en', 'end': u'device', 'weight': 2.0, 'start': u'applicator', 'relation': u'IsA', 'end-lang': u'en'}, {'start-lang': u'en', 'end': u'device', 'weight': 2.0, 'start': u'aspergill', 'relation': u'IsA', 'end-lang': u'en'}, {'start-lang': u'en', 'end': u'device', 'weight': 2.0, 'start': u'autopilot', 'relation': u'IsA', 'end-lang': u'en'}, {'start-lang': u'en', 'end': u'device', 'weight': 2.0, 'start': u'bait', 'relation': u'IsA', 'end-lang': u'en'}, {'start-lang': u'en', 'end': u'device', 'weight': 2.0, 'start': u'billiard marker', 'relation': u'IsA', 'end-lang': u'en'}, {'start-lang': u'en', 'end': u'device', 'weight': 2.0, 'start': u'bird feeder', 'relation': u'IsA', 'end-lang': u'en'}, {'start-lang': u'en', 'end': u'device', 'weight': 2.0, 'start': u'blower', 'relation': u'IsA', 'end-lang': u'en'}, {'start-lang': u'en', 'end': u'device', 'weight': 2.0, 'start': u'bootjack', 'relation': u'IsA', 'end-lang': u'en'}, {'start-lang': u'en', 'end': u'device', 'weight': 2.0, 'start': u'breathalyzer', 'relation': u'IsA', 'end-lang': u'en'}, {'start-lang': u'en', 'end': u'device', 'weight': 2.0, 'start': u'breathing device', 'relation': u'IsA', 'end-lang': u'en'}, {'start-lang': u'en', 'end': u'device', 'weight': 2.0, 'start': u'bubbler', 'relation': u'IsA', 'end-lang': u'en'}, {'start-lang': u'en', 'end': u'device', 'weight': 2.0, 'start': u'buffer', 'relation': u'IsA', 'end-lang': u'en'}, {'start-lang': u'en', 'end': u'device', 'weight': 2.0, 'start': u'catapult', 'relation': u'IsA', 'end-lang': u'en'}, {'start-lang': u'en', 'end': u'device', 'weight': 2.0, 'start': u'charger', 'relation': u'IsA', 'end-lang': u'en'}, {'start-lang': u'en', 'end': u'device', 'weight': 2.0, 'start': u'clip-on', 'relation': u'IsA', 'end-lang': u'en'}, {'start-lang': u'en', 'end': u'device', 'weight': 2.0, 'start': u'comb', 'relation': u'IsA', 'end-lang': u'en'}, {'start-lang': u'en', 'end': u'device', 'weight': 2.0, 'start': u'comforter', 'relation': u'IsA', 'end-lang': u'en'}, {'start-lang': u'en', 'end': u'device', 'weight': 2.0, 'start': u'conceit', 'relation': u'IsA', 'end-lang': u'en'}, {'start-lang': u'en', 'end': u'device', 'weight': 2.0, 'start': u'conductor', 'relation': u'IsA', 'end-lang': u'en'}, {'start-lang': u'en', 'end': u'device', 'weight': 2.0, 'start': u'contraceptive', 'relation': u'IsA', 'end-lang': u'en'}, {'start-lang': u'en', 'end': u'device', 'weight': 2.0, 'start': u'converter', 'relation': u'IsA', 'end-lang': u'en'}, {'start-lang': u'en', 'end': u'device', 'weight': 2.0, 'start': u'corer', 'relation': u'IsA', 'end-lang': u'en'}, {'start-lang': u'en', 'end': u'device', 'weight': 2.0, 'start': u'corrective', 'relation': u'IsA', 'end-lang': u'en'}, {'start-lang': u'en', 'end': u'device', 'weight': 2.0, 'start': u'crusher', 'relation': u'IsA', 'end-lang': u'en'}, {'start-lang': u'en', 'end': u'device', 'weight': 2.0, 'start': u'cryptograph', 'relation': u'IsA', 'end-lang': u'en'}, {'start-lang': u'en', 'end': u'device', 'weight': 2.0, 'start': u'cutoff', 'relation': u'IsA', 'end-lang': u'en'}, {'start-lang': u'en', 'end': u'device', 'weight': 2.0, 'start': u'dampener', 'relation': u'IsA', 'end-lang': u'en'}, {'start-lang': u'en', 'end': u'device', 'weight': 2.0, 'start': u'damper', 'relation': u'IsA', 'end-lang': u'en'}, {'start-lang': u'en', 'end': u'device', 'weight': 2.0, 'start': u'deflector', 'relation': u'IsA', 'end-lang': u'en'}, {'start-lang': u'en', 'end': u'device', 'weight': 2.0, 'start': u'depressor', 'relation': u'IsA', 'end-lang': u'en'}, {'start-lang': u'en', 'end': u'device', 'weight': 2.0, 'start': u'detector', 'relation': u'IsA', 'end-lang': u'en'}, {'start-lang': u'en', 'end': u'design', 'weight': 2.0, 'start': u'device', 'relation': u'IsA', 'end-lang': u'en'}, {'start-lang': u'en', 'end': u'emblem', 'weight': 2.0, 'start': u'device', 'relation': u'IsA', 'end-lang': u'en'}, {'start-lang': u'en', 'end': u'expressive style', 'weight': 2.0, 'start': u'device', 'relation': u'IsA', 'end-lang': u'en'}, {'start-lang': u'en', 'end': u'instrumentality', 'weight': 2.0, 'start': u'device', 'relation': u'IsA', 'end-lang': u'en'}, {'start-lang': u'en', 'end': u'maneuver', 'weight': 2.0, 'start': u'device', 'relation': u'IsA', 'end-lang': u'en'}, {'start-lang': u'en', 'end': u'device', 'weight': 2.0, 'start': u'diestock', 'relation': u'IsA', 'end-lang': u'en'}, {'start-lang': u'en', 'end': u'device', 'weight': 2.0, 'start': u'drive', 'relation': u'IsA', 'end-lang': u'en'}, {'start-lang': u'en', 'end': u'device', 'weight': 2.0, 'start': u'drop forge', 'relation': u'IsA', 'end-lang': u'en'}, {'start-lang': u'en', 'end': u'device', 'weight': 2.0, 'start': u'elastic device', 'relation': u'IsA', 'end-lang': u'en'}, {'start-lang': u'en', 'end': u'device', 'weight': 2.0, 'start': u'electrical device', 'relation': u'IsA', 'end-lang': u'en'}, {'start-lang': u'en', 'end': u'device', 'weight': 2.0, 'start': u'electronic device', 'relation': u'IsA', 'end-lang': u'en'}, {'start-lang': u'en', 'end': u'device', 'weight': 2.0, 'start': u'energizer', 'relation': u'IsA', 'end-lang': u'en'}, {'start-lang': u'en', 'end': u'device', 'weight': 2.0, 'start': u'exercise device', 'relation': u'IsA', 'end-lang': u'en'}, {'start-lang': u'en', 'end': u'device', 'weight': 2.0, 'start': u'explosive device', 'relation': u'IsA', 'end-lang': u'en'}, {'start-lang': u'en', 'end': u'device', 'weight': 2.0, 'start': u'fan', 'relation': u'IsA', 'end-lang': u'en'}, {'start-lang': u'en', 'end': u'device', 'weight': 2.0, 'start': u'filter', 'relation': u'IsA', 'end-lang': u'en'}, {'start-lang': u'en', 'end': u'device', 'weight': 2.0, 'start': u'fire extinguisher', 'relation': u'IsA', 'end-lang': u'en'}, {'start-lang': u'en', 'end': u'device', 'weight': 2.0, 'start': u'flare', 'relation': u'IsA', 'end-lang': u'en'}, {'start-lang': u'en', 'end': u'device', 'weight': 2.0, 'start': u'fumigator', 'relation': u'IsA', 'end-lang': u'en'}, {'start-lang': u'en', 'end': u'device', 'weight': 2.0, 'start': u'gas fixture', 'relation': u'IsA', 'end-lang': u'en'}, {'start-lang': u'en', 'end': u'device', 'weight': 2.0, 'start': u'groover', 'relation': u'IsA', 'end-lang': u'en'}, {'start-lang': u'en', 'end': u'device', 'weight': 2.0, 'start': u'guard', 'relation': u'IsA', 'end-lang': u'en'}, {'start-lang': u'en', 'end': u'device', 'weight': 2.0, 'start': u'heater', 'relation': u'IsA', 'end-lang': u'en'}, {'start-lang': u'en', 'end': u'device', 'weight': 2.0, 'start': u'heat exchanger', 'relation': u'IsA', 'end-lang': u'en'}, {'start-lang': u'en', 'end': u'device', 'weight': 2.0, 'start': u'holding device', 'relation': u'IsA', 'end-lang': u'en'}, {'start-lang': u'en', 'end': u'device', 'weight': 2.0, 'start': u'horn', 'relation': u'IsA', 'end-lang': u'en'}, {'start-lang': u'en', 'end': u'device', 'weight': 2.0, 'start': u'hydrofoil', 'relation': u'IsA', 'end-lang': u'en'}, {'start-lang': u'en', 'end': u'device', 'weight': 2.0, 'start': u'ignition interlock', 'relation': u'IsA', 'end-lang': u'en'}, {'start-lang': u'en', 'end': u'device', 'weight': 2.0, 'start': u'imprint', 'relation': u'IsA', 'end-lang': u'en'}, {'start-lang': u'en', 'end': u'device', 'weight': 2.0, 'start': u'indicator', 'relation': u'IsA', 'end-lang': u'en'}, {'start-lang': u'en', 'end': u'device', 'weight': 2.0, 'start': u'interrupter', 'relation': u'IsA', 'end-lang': u'en'}, {'start-lang': u'en', 'end': u'device', 'weight': 2.0, 'start': u'jig', 'relation': u'IsA', 'end-lang': u'en'}, {'start-lang': u'en', 'end': u'device', 'weight': 2.0, 'start': u'keyboard', 'relation': u'IsA', 'end-lang': u'en'}, {'start-lang': u'en', 'end': u'device', 'weight': 2.0, 'start': u'key', 'relation': u'IsA', 'end-lang': u'en'}, {'start-lang': u'en', 'end': u'device', 'weight': 2.0, 'start': u'knocker', 'relation': u'IsA', 'end-lang': u'en'}, {'start-lang': u'en', 'end': u'device', 'weight': 2.0, 'start': u'lifting device', 'relation': u'IsA', 'end-lang': u'en'}, {'start-lang': u'en', 'end': u'device', 'weight': 2.0, 'start': u'lift', 'relation': u'IsA', 'end-lang': u'en'}, {'start-lang': u'en', 'end': u'device', 'weight': 2.0, 'start': u'lighter', 'relation': u'IsA', 'end-lang': u'en'}, {'start-lang': u'en', 'end': u'device', 'weight': 2.0, 'start': u'machine', 'relation': u'IsA', 'end-lang': u'en'}, {'start-lang': u'en', 'end': u'device', 'weight': 2.0, 'start': u'magnet', 'relation': u'IsA', 'end-lang': u'en'}, {'start-lang': u'en', 'end': u'device', 'weight': 2.0, 'start': u'mechanism', 'relation': u'IsA', 'end-lang': u'en'}, {'start-lang': u'en', 'end': u'device', 'weight': 2.0, 'start': u'memory device', 'relation': u'IsA', 'end-lang': u'en'}, {'start-lang': u'en', 'end': u'device', 'weight': 2.0, 'start': u'mnemonic', 'relation': u'IsA', 'end-lang': u'en'}, {'start-lang': u'en', 'end': u'device', 'weight': 2.0, 'start': u'musical instrument', 'relation': u'IsA', 'end-lang': u'en'}, {'start-lang': u'en', 'end': u'device', 'weight': 2.0, 'start': u'nest egg', 'relation': u'IsA', 'end-lang': u'en'}, {'start-lang': u'en', 'end': u'device', 'weight': 2.0, 'start': u'noisemaker', 'relation': u'IsA', 'end-lang': u'en'}, {'start-lang': u'en', 'end': u'device', 'weight': 2.0, 'start': u'optical device', 'relation': u'IsA', 'end-lang': u'en'}, {'start-lang': u'en', 'end': u'device', 'weight': 2.0, 'start': u'override', 'relation': u'IsA', 'end-lang': u'en'}, {'start-lang': u'en', 'end': u'device', 'weight': 2.0, 'start': u'paper feed', 'relation': u'IsA', 'end-lang': u'en'}, {'start-lang': u'en', 'end': u'device', 'weight': 2.0, 'start': u'peeler', 'relation': u'IsA', 'end-lang': u'en'}, {'start-lang': u'en', 'end': u'a device', 'weight': 2.0, 'start': u'a phone', 'relation': u'IsA', 'end-lang': u'en'}, {'start-lang': u'en', 'end': u'device', 'weight': 2.0, 'start': u'pick', 'relation': u'IsA', 'end-lang': u'en'}, {'start-lang': u'en', 'end': u'device', 'weight': 2.0, 'start': u'power takeoff', 'relation': u'IsA', 'end-lang': u'en'}, {'start-lang': u'en', 'end': u'device', 'weight': 2.0, 'start': u'prod', 'relation': u'IsA', 'end-lang': u'en'}, {'start-lang': u'en', 'end': u'device', 'weight': 2.0, 'start': u'prompter', 'relation': u'IsA', 'end-lang': u'en'}, {'start-lang': u'en', 'end': u'device', 'weight': 2.0, 'start': u'pull', 'relation': u'IsA', 'end-lang': u'en'}, {'start-lang': u'en', 'end': u'device', 'weight': 2.0, 'start': u'release', 'relation': u'IsA', 'end-lang': u'en'}, {'start-lang': u'en', 'end': u'device', 'weight': 2.0, 'start': u'reset', 'relation': u'IsA', 'end-lang': u'en'}, {'start-lang': u'en', 'end': u'device', 'weight': 2.0, 'start': u'rhetorical device', 'relation': u'IsA', 'end-lang': u'en'}, {'start-lang': u'en', 'end': u'device', 'weight': 2.0, 'start': u'router', 'relation': u'IsA', 'end-lang': u'en'}, {'start-lang': u'en', 'end': u'device', 'weight': 2.0, 'start': u'runner', 'relation': u'IsA', 'end-lang': u'en'}, {'start-lang': u'en', 'end': u'device', 'weight': 2.0, 'start': u'scratcher', 'relation': u'IsA', 'end-lang': u'en'}, {'start-lang': u'en', 'end': u'device', 'weight': 2.0, 'start': u'seal', 'relation': u'IsA', 'end-lang': u'en'}, {'start-lang': u'en', 'end': u'device', 'weight': 2.0, 'start': u'shoehorn', 'relation': u'IsA', 'end-lang': u'en'}, {'start-lang': u'en', 'end': u'device', 'weight': 2.0, 'start': u'shoetree', 'relation': u'IsA', 'end-lang': u'en'}, {'start-lang': u'en', 'end': u'device', 'weight': 2.0, 'start': u'shooting stick', 'relation': u'IsA', 'end-lang': u'en'}, {'start-lang': u'en', 'end': u'device', 'weight': 2.0, 'start': u'shredder', 'relation': u'IsA', 'end-lang': u'en'}, {'start-lang': u'en', 'end': u'device', 'weight': 2.0, 'start': u'signaling device', 'relation': u'IsA', 'end-lang': u'en'}, {'start-lang': u'en', 'end': u'device', 'weight': 2.0, 'start': u'slide chart', 'relation': u'IsA', 'end-lang': u'en'}, {'start-lang': u'en', 'end': u'device', 'weight': 2.0, 'start': u'snowshoe', 'relation': u'IsA', 'end-lang': u'en'}, {'start-lang': u'en', 'end': u'device', 'weight': 2.0, 'start': u'sounder', 'relation': u'IsA', 'end-lang': u'en'}, {'start-lang': u'en', 'end': u'device', 'weight': 2.0, 'start': u'source of illumination', 'relation': u'IsA', 'end-lang': u'en'}, {'start-lang': u'en', 'end': u'device', 'weight': 2.0, 'start': u'stabilizer', 'relation': u'IsA', 'end-lang': u'en'}, {'start-lang': u'en', 'end': u'a device', 'weight': 2.0, 'start': u'a stapler', 'relation': u'IsA', 'end-lang': u'en'}, {'start-lang': u'en', 'end': u'device', 'weight': 2.0, 'start': u'stemmer', 'relation': u'IsA', 'end-lang': u'en'}, {'start-lang': u'en', 'end': u'device', 'weight': 2.0, 'start': u'straightener', 'relation': u'IsA', 'end-lang': u'en'}, {'start-lang': u'en', 'end': u'device', 'weight': 2.0, 'start': u'strengthener', 'relation': u'IsA', 'end-lang': u'en'}, {'start-lang': u'en', 'end': u'device', 'weight': 2.0, 'start': u'stylus', 'relation': u'IsA', 'end-lang': u'en'}, {'start-lang': u'en', 'end': u'device', 'weight': 2.0, 'start': u'suction cup', 'relation': u'IsA', 'end-lang': u'en'}, {'start-lang': u'en', 'end': u'device', 'weight': 2.0, 'start': u'support', 'relation': u'IsA', 'end-lang': u'en'}, {'start-lang': u'en', 'end': u'device', 'weight': 2.0, 'start': u'sweatbox', 'relation': u'IsA', 'end-lang': u'en'}, {'start-lang': u'en', 'end': u'device', 'weight': 2.0, 'start': u'synchroflash', 'relation': u'IsA', 'end-lang': u'en'}, {'start-lang': u'en', 'end': u'device', 'weight': 2.0, 'start': u'take-up', 'relation': u'IsA', 'end-lang': u'en'}, {'start-lang': u'en', 'end': u'device', 'weight': 2.0, 'start': u'teaser', 'relation': u'IsA', 'end-lang': u'en'}, {'start-lang': u'en', 'end': u'a device', 'weight': 2.0, 'start': u'a telescope', 'relation': u'IsA', 'end-lang': u'en'}, {'start-lang': u'en', 'end': u'device', 'weight': 2.0, 'start': u'throwing stick', 'relation': u'IsA', 'end-lang': u'en'}, {'start-lang': u'en', 'end': u'device', 'weight': 2.0, 'start': u'tilter', 'relation': u'IsA', 'end-lang': u'en'}, {'start-lang': u'en', 'end': u'device', 'weight': 2.0, 'start': u'tongs', 'relation': u'IsA', 'end-lang': u'en'}, {'start-lang': u'en', 'end': u'device', 'weight': 2.0, 'start': u'trick', 'relation': u'IsA', 'end-lang': u'en'}, {'start-lang': u'en', 'end': u'device', 'weight': 2.0, 'start': u'trigger', 'relation': u'IsA', 'end-lang': u'en'}, {'start-lang': u'en', 'end': u'device', 'weight': 2.0, 'start': u'union', 'relation': u'IsA', 'end-lang': u'en'}, {'start-lang': u'en', 'end': u'device', 'weight': 2.0, 'start': u'valve', 'relation': u'IsA', 'end-lang': u'en'}, {'start-lang': u'en', 'end': u'device', 'weight': 2.0, 'start': u'vaporiser', 'relation': u'IsA', 'end-lang': u'en'}, {'start-lang': u'en', 'end': u'device', 'weight': 2.0, 'start': u'washboard', 'relation': u'IsA', 'end-lang': u'en'}, {'start-lang': u'en', 'end': u'device', 'weight': 2.0, 'start': u'water cooler', 'relation': u'IsA', 'end-lang': u'en'}, {'start-lang': u'en', 'end': u'device', 'weight': 2.0, 'start': u'gimmick', 'relation': u'Synonym', 'end-lang': u'en'}, {'start-lang': u'en', 'end': u'device', 'weight': 2.0, 'start': u'twist', 'relation': u'Synonym', 'end-lang': u'en'}, {'start-lang': u'en', 'end': u'device', 'weight': 1.0, 'start': u'aircraft arresting gear', 'relation': u'IsA', 'end-lang': u'en'}, {'start-lang': u'en', 'end': u'device', 'weight': 1.0, 'start': u'air purifier', 'relation': u'IsA', 'end-lang': u'en'}, {'start-lang': u'en', 'end': u'device', 'weight': 1.0, 'start': u'anchor', 'relation': u'IsA', 'end-lang': u'en'}, {'start-lang': u'en', 'end': u'device', 'weight': 1.0, 'start': u'antenna pedestal mount', 'relation': u'IsA', 'end-lang': u'en'}, {'start-lang': u'en', 'end': u'device', 'weight': 1.0, 'start': u'anti tank weapon', 'relation': u'IsA', 'end-lang': u'en'}, {'start-lang': u'en', 'end': u'device', 'weight': 1.0, 'start': u'artificial organ', 'relation': u'IsA', 'end-lang': u'en'}, {'start-lang': u'en', 'end': u'device', 'weight': 1.0, 'start': u'assembly line', 'relation': u'IsA', 'end-lang': u'en'}, {'start-lang': u'en', 'end': u'device', 'weight': 1.0, 'start': u'authentication device', 'relation': u'IsA', 'end-lang': u'en'}, {'start-lang': u'en', 'end': u'a device', 'weight': 1.0, 'start': u'an automaton', 'relation': u'IsA', 'end-lang': u'en'}, {'start-lang': u'en', 'end': u'device', 'weight': 1.0, 'start': u'auto tire market category', 'relation': u'IsA', 'end-lang': u'en'}, {'start-lang': u'en', 'end': u'device', 'weight': 1.0, 'start': u'baby pacifier', 'relation': u'IsA', 'end-lang': u'en'}, {'start-lang': u'en', 'end': u'device', 'weight': 1.0, 'start': u'backgammon piece', 'relation': u'IsA', 'end-lang': u'en'}, {'start-lang': u'en', 'end': u'device', 'weight': 1.0, 'start': u'barbed wire fence', 'relation': u'IsA', 'end-lang': u'en'}, {'start-lang': u'en', 'end': u'device', 'weight': 1.0, 'start': u'baton', 'relation': u'IsA', 'end-lang': u'en'}, {'start-lang': u'en', 'end': u'device', 'weight': 1.0, 'start': u'bedding', 'relation': u'IsA', 'end-lang': u'en'}, {'start-lang': u'en', 'end': u'device', 'weight': 1.0, 'start': u'bell tower', 'relation': u'IsA', 'end-lang': u'en'}, {'start-lang': u'en', 'end': u'device', 'weight': 1.0, 'start': u'bent thing', 'relation': u'IsA', 'end-lang': u'en'}, {'start-lang': u'en', 'end': u'device', 'weight': 1.0, 'start': u'blade server chassis', 'relation': u'IsA', 'end-lang': u'en'}, {'start-lang': u'en', 'end': u'device', 'weight': 1.0, 'start': u'boat or ship part', 'relation': u'IsA', 'end-lang': u'en'}, {'start-lang': u'en', 'end': u'a device', 'weight': 1.0, 'start': u'a book', 'relation': u'IsA', 'end-lang': u'en'}, {'start-lang': u'en', 'end': u'device', 'weight': 1.0, 'start': u'bridle', 'relation': u'IsA', 'end-lang': u'en'}, {'start-lang': u'en', 'end': u'device', 'weight': 1.0, 'start': u'built in device', 'relation': u'IsA', 'end-lang': u'en'}, {'start-lang': u'en', 'end': u'device', 'weight': 1.0, 'start': u'buoy', 'relation': u'IsA', 'end-lang': u'en'}, {'start-lang': u'en', 'end': u'device', 'weight': 1.0, 'start': u'cable', 'relation': u'IsA', 'end-lang': u'en'}, {'start-lang': u'en', 'end': u'device', 'weight': 1.0, 'start': u'camera', 'relation': u'IsA', 'end-lang': u'en'}, {'start-lang': u'en', 'end': u'device', 'weight': 1.0, 'start': u'candle holder', 'relation': u'IsA', 'end-lang': u'en'}, {'start-lang': u'en', 'end': u'device', 'weight': 1.0, 'start': u'cane', 'relation': u'IsA', 'end-lang': u'en'}, {'start-lang': u'en', 'end': u'device', 'weight': 1.0, 'start': u'carousel horse', 'relation': u'IsA', 'end-lang': u'en'}, {'start-lang': u'en', 'end': u'device', 'weight': 1.0, 'start': u'cleaning tool', 'relation': u'IsA', 'end-lang': u'en'}, {'start-lang': u'en', 'end': u'device', 'weight': 1.0, 'start': u'clock', 'relation': u'IsA', 'end-lang': u'en'}, {'start-lang': u'en', 'end': u'device', 'weight': 1.0, 'start': u'clock tower', 'relation': u'IsA', 'end-lang': u'en'}, {'start-lang': u'en', 'end': u'device', 'weight': 1.0, 'start': u'coin operated device', 'relation': u'IsA', 'end-lang': u'en'}, {'start-lang': u'en', 'end': u'device', 'weight': 1.0, 'start': u'combustion device', 'relation': u'IsA', 'end-lang': u'en'}, {'start-lang': u'en', 'end': u'device', 'weight': 1.0, 'start': u'communication device', 'relation': u'IsA', 'end-lang': u'en'}, {'start-lang': u'en', 'end': u'device', 'weight': 1.0, 'start': u'computer chassis', 'relation': u'IsA', 'end-lang': u'en'}, {'start-lang': u'en', 'end': u'device', 'weight': 1.0, 'start': u'computer hardware', 'relation': u'IsA', 'end-lang': u'en'}, {'start-lang': u'en', 'end': u'device', 'weight': 1.0, 'start': u'console', 'relation': u'IsA', 'end-lang': u'en'}, {'start-lang': u'en', 'end': u'device', 'weight': 1.0, 'start': u'container product', 'relation': u'IsA', 'end-lang': u'en'}, {'start-lang': u'en', 'end': u'device', 'weight': 1.0, 'start': u'control device', 'relation': u'IsA', 'end-lang': u'en'}, {'start-lang': u'en', 'end': u'device', 'weight': 1.0, 'start': u'control panel', 'relation': u'IsA', 'end-lang': u'en'}, {'start-lang': u'en', 'end': u'device', 'weight': 1.0, 'start': u'control tower', 'relation': u'IsA', 'end-lang': u'en'}, {'start-lang': u'en', 'end': u'device', 'weight': 1.0, 'start': u'cooling device', 'relation': u'IsA', 'end-lang': u'en'}, {'start-lang': u'en', 'end': u'device', 'weight': 1.0, 'start': u'counting device', 'relation': u'IsA', 'end-lang': u'en'}, {'start-lang': u'en', 'end': u'device', 'weight': 1.0, 'start': u'crank shaft', 'relation': u'IsA', 'end-lang': u'en'}, {'start-lang': u'en', 'end': u'device', 'weight': 1.0, 'start': u'crutch', 'relation': u'IsA', 'end-lang': u'en'}, {'start-lang': u'en', 'end': u'device', 'weight': 1.0, 'start': u'darkroom equipment', 'relation': u'IsA', 'end-lang': u'en'}, {'start-lang': u'en', 'end': u'device', 'weight': 1.0, 'start': u'decontamination equipment', 'relation': u'IsA', 'end-lang': u'en'}, {'start-lang': u'en', 'end': u'device', 'weight': 1.0, 'start': u'dental appliance', 'relation': u'IsA', 'end-lang': u'en'}, {'start-lang': u'en', 'end': u'device', 'weight': 1.0, 'start': u'device armed', 'relation': u'IsA', 'end-lang': u'en'}, {'start-lang': u'en', 'end': u'device', 'weight': 1.0, 'start': u'device disarmed', 'relation': u'IsA', 'end-lang': u'en'}, {'start-lang': u'en', 'end': u'artifact', 'weight': 1.0, 'start': u'device', 'relation': u'IsA', 'end-lang': u'en'}, {'start-lang': u'en', 'end': u'object with uses', 'weight': 1.0, 'start': u'device', 'relation': u'IsA', 'end-lang': u'en'}, {'start-lang': u'en', 'end': u'solid tangible artifact', 'weight': 1.0, 'start': u'device', 'relation': u'IsA', 'end-lang': u'en'}, {'start-lang': u'en', 'end': u'device', 'weight': 1.0, 'start': u'device overheated', 'relation': u'IsA', 'end-lang': u'en'}, {'start-lang': u'en', 'end': u'device', 'weight': 1.0, 'start': u'device proximately controlled', 'relation': u'IsA', 'end-lang': u'en'}, {'start-lang': u'en', 'end': u'device', 'weight': 1.0, 'start': u'device proximately controlled only', 'relation': u'IsA', 'end-lang': u'en'}, {'start-lang': u'en', 'end': u'device', 'weight': 1.0, 'start': u'device remote controlled only', 'relation': u'IsA', 'end-lang': u'en'}, {'start-lang': u'en', 'end': u'device', 'weight': 1.0, 'start': u'die', 'relation': u'IsA', 'end-lang': u'en'}, {'start-lang': u'en', 'end': u'device', 'weight': 1.0, 'start': u'disco ball', 'relation': u'IsA', 'end-lang': u'en'}, {'start-lang': u'en', 'end': u'a device', 'weight': 1.0, 'start': u'a drill', 'relation': u'IsA', 'end-lang': u'en'}, {'start-lang': u'en', 'end': u'device', 'weight': 1.0, 'start': u'drug paraphernalia', 'relation': u'IsA', 'end-lang': u'en'}, {'start-lang': u'en', 'end': u'device', 'weight': 1.0, 'start': u'engine test cell', 'relation': u'IsA', 'end-lang': u'en'}, {'start-lang': u'en', 'end': u'device', 'weight': 1.0, 'start': u'epilator', 'relation': u'IsA', 'end-lang': u'en'}, {'start-lang': u'en', 'end': u'device', 'weight': 1.0, 'start': u'explosive device disposal device', 'relation': u'IsA', 'end-lang': u'en'}, {'start-lang': u'en', 'end': u'device', 'weight': 1.0, 'start': u'feeder', 'relation': u'IsA', 'end-lang': u'en'}, {'start-lang': u'en', 'end': u'device', 'weight': 1.0, 'start': u'filtering system', 'relation': u'IsA', 'end-lang': u'en'}, {'start-lang': u'en', 'end': u'a device', 'weight': 1.0, 'start': u'a firebomb', 'relation': u'IsA', 'end-lang': u'en'}, {'start-lang': u'en', 'end': u'device', 'weight': 1.0, 'start': u'firefighting equipment', 'relation': u'IsA', 'end-lang': u'en'}, {'start-lang': u'en', 'end': u'device', 'weight': 1.0, 'start': u'fishing line', 'relation': u'IsA', 'end-lang': u'en'}, {'start-lang': u'en', 'end': u'device', 'weight': 1.0, 'start': u'fitness equipment', 'relation': u'IsA', 'end-lang': u'en'}, {'start-lang': u'en', 'end': u'device', 'weight': 1.0, 'start': u'flare pipe', 'relation': u'IsA', 'end-lang': u'en'}, {'start-lang': u'en', 'end': u'device', 'weight': 1.0, 'start': u'floor placed device', 'relation': u'IsA', 'end-lang': u'en'}, {'start-lang': u'en', 'end': u'device', 'weight': 1.0, 'start': u'folded thing', 'relation': u'IsA', 'end-lang': u'en'}, {'start-lang': u'en', 'end': u'device', 'weight': 1.0, 'start': u'fulcrum', 'relation': u'IsA', 'end-lang': u'en'}, {'start-lang': u'en', 'end': u'device', 'weight': 1.0, 'start': u'functionally defective device', 'relation': u'IsA', 'end-lang': u'en'}, {'start-lang': u'en', 'end': u'device', 'weight': 1.0, 'start': u'game equipment set', 'relation': u'IsA', 'end-lang': u'en'}, {'start-lang': u'en', 'end': u'device', 'weight': 1.0, 'start': u'gamma emission sensor', 'relation': u'IsA', 'end-lang': u'en'}, {'start-lang': u'en', 'end': u'device', 'weight': 1.0, 'start': u'garden archway', 'relation': u'IsA', 'end-lang': u'en'}, {'start-lang': u'en', 'end': u'device', 'weight': 1.0, 'start': u'garden trellis', 'relation': u'IsA', 'end-lang': u'en'}, {'start-lang': u'en', 'end': u'device', 'weight': 1.0, 'start': u'gear', 'relation': u'IsA', 'end-lang': u'en'}, {'start-lang': u'en', 'end': u'device', 'weight': 1.0, 'start': u'handcuff', 'relation': u'IsA', 'end-lang': u'en'}, {'start-lang': u'en', 'end': u'device', 'weight': 1.0, 'start': u'implement', 'relation': u'IsA', 'end-lang': u'en'}, {'start-lang': u'en', 'end': u'device', 'weight': 1.0, 'start': u'incremental mass processing tool', 'relation': u'IsA', 'end-lang': u'en'}, {'start-lang': u'en', 'end': u'device', 'weight': 1.0, 'start': u'inflatable object', 'relation': u'IsA', 'end-lang': u'en'}, {'start-lang': u'en', 'end': u'device', 'weight': 1.0, 'start': u'inflated thing', 'relation': u'IsA', 'end-lang': u'en'}, {'start-lang': u'en', 'end': u'device', 'weight': 1.0, 'start': u'information gathering device', 'relation': u'IsA', 'end-lang': u'en'}, {'start-lang': u'en', 'end': u'device', 'weight': 1.0, 'start': u'information recording device', 'relation': u'IsA', 'end-lang': u'en'}, {'start-lang': u'en', 'end': u'device', 'weight': 1.0, 'start': u'information route', 'relation': u'IsA', 'end-lang': u'en'}, {'start-lang': u'en', 'end': u'device', 'weight': 1.0, 'start': u'information storage device', 'relation': u'IsA', 'end-lang': u'en'}, {'start-lang': u'en', 'end': u'a device', 'weight': 1.0, 'start': u'in general, a tool', 'relation': u'IsA', 'end-lang': u'en'}, {'start-lang': u'en', 'end': u'device', 'weight': 1.0, 'start': u'instrument', 'relation': u'IsA', 'end-lang': u'en'}, {'start-lang': u'en', 'end': u'device', 'weight': 1.0, 'start': u'iron', 'relation': u'IsA', 'end-lang': u'en'}, {'start-lang': u'en', 'end': u'device', 'weight': 1.0, 'start': u'kitchen tool', 'relation': u'IsA', 'end-lang': u'en'}, {'start-lang': u'en', 'end': u'device', 'weight': 1.0, 'start': u'kit', 'relation': u'IsA', 'end-lang': u'en'}, {'start-lang': u'en', 'end': u'device', 'weight': 1.0, 'start': u'knife sharpener', 'relation': u'IsA', 'end-lang': u'en'}, {'start-lang': u'en', 'end': u'device', 'weight': 1.0, 'start': u'laboratory equipment', 'relation': u'IsA', 'end-lang': u'en'}, {'start-lang': u'en', 'end': u'a device', 'weight': 1.0, 'start': u'a laser', 'relation': u'IsA', 'end-lang': u'en'}, {'start-lang': u'en', 'end': u'device', 'weight': 1.0, 'start': u'legal tender', 'relation': u'IsA', 'end-lang': u'en'}, {'start-lang': u'en', 'end': u'device', 'weight': 1.0, 'start': u'lever', 'relation': u'IsA', 'end-lang': u'en'}, {'start-lang': u'en', 'end': u'device', 'weight': 1.0, 'start': u'light ship', 'relation': u'IsA', 'end-lang': u'en'}, {'start-lang': u'en', 'end': u'device', 'weight': 1.0, 'start': u'line replaceable unit', 'relation': u'IsA', 'end-lang': u'en'}, {'start-lang': u'en', 'end': u'device', 'weight': 1.0, 'start': u'locked device', 'relation': u'IsA', 'end-lang': u'en'}, {'start-lang': u'en', 'end': u'device', 'weight': 1.0, 'start': u'lot processing tool', 'relation': u'IsA', 'end-lang': u'en'}, {'start-lang': u'en', 'end': u'device', 'weight': 1.0, 'start': u'm 1 stepper', 'relation': u'IsA', 'end-lang': u'en'}, {'start-lang': u'en', 'end': u'device', 'weight': 1.0, 'start': u'masking reticle', 'relation': u'IsA', 'end-lang': u'en'}, {'start-lang': u'en', 'end': u'device', 'weight': 1.0, 'start': u'measuring device', 'relation': u'IsA', 'end-lang': u'en'}, {'start-lang': u'en', 'end': u'device', 'weight': 1.0, 'start': u'mechanical device', 'relation': u'IsA', 'end-lang': u'en'}, {'start-lang': u'en', 'end': u'device', 'weight': 1.0, 'start': u'medical device', 'relation': u'IsA', 'end-lang': u'en'}, {'start-lang': u'en', 'end': u'device', 'weight': 1.0, 'start': u'missile head', 'relation': u'IsA', 'end-lang': u'en'}, {'start-lang': u'en', 'end': u'device', 'weight': 1.0, 'start': u'mountable transporter device', 'relation': u'IsA', 'end-lang': u'en'}, {'start-lang': u'en', 'end': u'device', 'weight': 1.0, 'start': u'multi purpose device', 'relation': u'IsA', 'end-lang': u'en'}, {'start-lang': u'en', 'end': u'device', 'weight': 1.0, 'start': u'musical equipment', 'relation': u'IsA', 'end-lang': u'en'}, {'start-lang': u'en', 'end': u'device', 'weight': 1.0, 'start': u'navigation device', 'relation': u'IsA', 'end-lang': u'en'}, {'start-lang': u'en', 'end': u'device', 'weight': 1.0, 'start': u'network hardware chassis', 'relation': u'IsA', 'end-lang': u'en'}, {'start-lang': u'en', 'end': u'device', 'weight': 1.0, 'start': u'non paper office device', 'relation': u'IsA', 'end-lang': u'en'}, {'start-lang': u'en', 'end': u'device', 'weight': 1.0, 'start': u'non powered device', 'relation': u'IsA', 'end-lang': u'en'}, {'start-lang': u'en', 'end': u'device', 'weight': 1.0, 'start': u'nuclear reactor hardware', 'relation': u'IsA', 'end-lang': u'en'}, {'start-lang': u'en', 'end': u'device', 'weight': 1.0, 'start': u'oil field equipment', 'relation': u'IsA', 'end-lang': u'en'}, {'start-lang': u'en', 'end': u'device', 'weight': 1.0, 'start': u'optical transceiver', 'relation': u'IsA', 'end-lang': u'en'}, {'start-lang': u'en', 'end': u'device', 'weight': 1.0, 'start': u'part for computers', 'relation': u'IsA', 'end-lang': u'en'}, {'start-lang': u'en', 'end': u'device', 'weight': 1.0, 'start': u'part for guns', 'relation': u'IsA', 'end-lang': u'en'}, {'start-lang': u'en', 'end': u'device', 'weight': 1.0, 'start': u'pause', 'relation': u'IsA', 'end-lang': u'en'}, {'start-lang': u'en', 'end': u'device', 'weight': 1.0, 'start': u'payload', 'relation': u'IsA', 'end-lang': u'en'}, {'start-lang': u'en', 'end': u'device', 'weight': 1.0, 'start': u'photolithography tool', 'relation': u'IsA', 'end-lang': u'en'}, {'start-lang': u'en', 'end': u'device', 'weight': 1.0, 'start': u'physical template', 'relation': u'IsA', 'end-lang': u'en'}, {'start-lang': u'en', 'end': u'device', 'weight': 1.0, 'start': u'plumbing fixture', 'relation': u'IsA', 'end-lang': u'en'}, {'start-lang': u'en', 'end': u'device', 'weight': 1.0, 'start': u'pom pom', 'relation': u'IsA', 'end-lang': u'en'}, {'start-lang': u'en', 'end': u'device', 'weight': 1.0, 'start': u'portable anthrax sprayer', 'relation': u'IsA', 'end-lang': u'en'}, {'start-lang': u'en', 'end': u'device', 'weight': 1.0, 'start': u'powered device', 'relation': u'IsA', 'end-lang': u'en'}, {'start-lang': u'en', 'end': u'device', 'weight': 1.0, 'start': u'power plant', 'relation': u'IsA', 'end-lang': u'en'}, {'start-lang': u'en', 'end': u'device', 'weight': 1.0, 'start': u'printer', 'relation': u'IsA', 'end-lang': u'en'}, {'start-lang': u'en', 'end': u'device', 'weight': 1.0, 'start': u'processing station', 'relation': u'IsA', 'end-lang': u'en'}, {'start-lang': u'en', 'end': u'device', 'weight': 1.0, 'start': u'production tubing', 'relation': u'IsA', 'end-lang': u'en'}, {'start-lang': u'en', 'end': u'device', 'weight': 1.0, 'start': u'protective covering', 'relation': u'IsA', 'end-lang': u'en'}, {'start-lang': u'en', 'end': u'a device', 'weight': 1.0, 'start': u'a pully', 'relation': u'IsA', 'end-lang': u'en'}, {'start-lang': u'en', 'end': u'device', 'weight': 1.0, 'start': u'pylon', 'relation': u'IsA', 'end-lang': u'en'}, {'start-lang': u'en', 'end': u'device', 'weight': 1.0, 'start': u'r 0 reticle', 'relation': u'IsA', 'end-lang': u'en'}, {'start-lang': u'en', 'end': u'device', 'weight': 1.0, 'start': u'r 0 stepper', 'relation': u'IsA', 'end-lang': u'en'}, {'start-lang': u'en', 'end': u'device', 'weight': 1.0, 'start': u'radar station', 'relation': u'IsA', 'end-lang': u'en'}, {'start-lang': u'en', 'end': u'device', 'weight': 1.0, 'start': u'radiator tester', 'relation': u'IsA', 'end-lang': u'en'}, {'start-lang': u'en', 'end': u'device', 'weight': 1.0, 'start': u'ramp', 'relation': u'IsA', 'end-lang': u'en'}, {'start-lang': u'en', 'end': u'device', 'weight': 1.0, 'start': u'razor wire fence', 'relation': u'IsA', 'end-lang': u'en'}, {'start-lang': u'en', 'end': u'device', 'weight': 1.0, 'start': u'reflector', 'relation': u'IsA', 'end-lang': u'en'}, {'start-lang': u'en', 'end': u'device', 'weight': 1.0, 'start': u'remote controlled device', 'relation': u'IsA', 'end-lang': u'en'}, {'start-lang': u'en', 'end': u'device', 'weight': 1.0, 'start': u'remote control', 'relation': u'IsA', 'end-lang': u'en'}, {'start-lang': u'en', 'end': u'device', 'weight': 1.0, 'start': u'removable thing', 'relation': u'IsA', 'end-lang': u'en'}, {'start-lang': u'en', 'end': u'device', 'weight': 1.0, 'start': u'repairable thing', 'relation': u'IsA', 'end-lang': u'en'}, {'start-lang': u'en', 'end': u'device', 'weight': 1.0, 'start': u'restraint', 'relation': u'IsA', 'end-lang': u'en'}, {'start-lang': u'en', 'end': u'device', 'weight': 1.0, 'start': u'rig', 'relation': u'IsA', 'end-lang': u'en'}, {'start-lang': u'en', 'end': u'device', 'weight': 1.0, 'start': u'safety device', 'relation': u'IsA', 'end-lang': u'en'}, {'start-lang': u'en', 'end': u'device', 'weight': 1.0, 'start': u'sandpaper', 'relation': u'IsA', 'end-lang': u'en'}, {'start-lang': u'en', 'end': u'device', 'weight': 1.0, 'start': u'scientific instrument', 'relation': u'IsA', 'end-lang': u'en'}, {'start-lang': u'en', 'end': u'device', 'weight': 1.0, 'start': u'sd reticle', 'relation': u'IsA', 'end-lang': u'en'}, {'start-lang': u'en', 'end': u'device', 'weight': 1.0, 'start': u'sd stepper', 'relation': u'IsA', 'end-lang': u'en'}, {'start-lang': u'en', 'end': u'device', 'weight': 1.0, 'start': u'seat belt lock', 'relation': u'IsA', 'end-lang': u'en'}, {'start-lang': u'en', 'end': u'device', 'weight': 1.0, 'start': u'seat', 'relation': u'IsA', 'end-lang': u'en'}, {'start-lang': u'en', 'end': u'device', 'weight': 1.0, 'start': u'security device', 'relation': u'IsA', 'end-lang': u'en'}, {'start-lang': u'en', 'end': u'device', 'weight': 1.0, 'start': u'self controlled device', 'relation': u'IsA', 'end-lang': u'en'}, {'start-lang': u'en', 'end': u'device', 'weight': 1.0, 'start': u'semiconductor processing tool', 'relation': u'IsA', 'end-lang': u'en'}, {'start-lang': u'en', 'end': u'device', 'weight': 1.0, 'start': u'sensor', 'relation': u'IsA', 'end-lang': u'en'}, {'start-lang': u'en', 'end': u'device', 'weight': 1.0, 'start': u'sensory enhancement device', 'relation': u'IsA', 'end-lang': u'en'}, {'start-lang': u'en', 'end': u'device', 'weight': 1.0, 'start': u'shear legs', 'relation': u'IsA', 'end-lang': u'en'}, {'start-lang': u'en', 'end': u'device', 'weight': 1.0, 'start': u'single purpose device', 'relation': u'IsA', 'end-lang': u'en'}, {'start-lang': u'en', 'end': u'device', 'weight': 1.0, 'start': u'single user device', 'relation': u'IsA', 'end-lang': u'en'}, {'start-lang': u'en', 'end': u'device', 'weight': 1.0, 'start': u'siren', 'relation': u'IsA', 'end-lang': u'en'}, {'start-lang': u'en', 'end': u'device', 'weight': 1.0, 'start': u'skateboarding obstacle', 'relation': u'IsA', 'end-lang': u'en'}, {'start-lang': u'en', 'end': u'device', 'weight': 1.0, 'start': u'ski equipment package', 'relation': u'IsA', 'end-lang': u'en'}, {'start-lang': u'en', 'end': u'device', 'weight': 1.0, 'start': u'snow brush', 'relation': u'IsA', 'end-lang': u'en'}, {'start-lang': u'en', 'end': u'device', 'weight': 1.0, 'start': u'spanning device', 'relation': u'IsA', 'end-lang': u'en'}, {'start-lang': u'en', 'end': u'device', 'weight': 1.0, 'start': u'spider hole', 'relation': u'IsA', 'end-lang': u'en'}, {'start-lang': u'en', 'end': u'device', 'weight': 1.0, 'start': u'spool', 'relation': u'IsA', 'end-lang': u'en'}, {'start-lang': u'en', 'end': u'device', 'weight': 1.0, 'start': u'sports equipment', 'relation': u'IsA', 'end-lang': u'en'}, {'start-lang': u'en', 'end': u'a device', 'weight': 1.0, 'start': u'a sprinkler', 'relation': u'IsA', 'end-lang': u'en'}, {'start-lang': u'en', 'end': u'device', 'weight': 1.0, 'start': u'steering post', 'relation': u'IsA', 'end-lang': u'en'}, {'start-lang': u'en', 'end': u'device', 'weight': 1.0, 'start': u'stepper photolithography', 'relation': u'IsA', 'end-lang': u'en'}, {'start-lang': u'en', 'end': u'device', 'weight': 1.0, 'start': u'stirrup', 'relation': u'IsA', 'end-lang': u'en'}, {'start-lang': u'en', 'end': u'a device', 'weight': 1.0, 'start': u'a stove', 'relation': u'IsA', 'end-lang': u'en'}, {'start-lang': u'en', 'end': u'device', 'weight': 1.0, 'start': u'stretched thing', 'relation': u'IsA', 'end-lang': u'en'}, {'start-lang': u'en', 'end': u'device', 'weight': 1.0, 'start': u'switchboard', 'relation': u'IsA', 'end-lang': u'en'}, {'start-lang': u'en', 'end': u'device', 'weight': 1.0, 'start': u'system of devices', 'relation': u'IsA', 'end-lang': u'en'}, {'start-lang': u'en', 'end': u'device', 'weight': 1.0, 'start': u'tabletop device', 'relation': u'IsA', 'end-lang': u'en'}, {'start-lang': u'en', 'end': u'device', 'weight': 1.0, 'start': u'tack', 'relation': u'IsA', 'end-lang': u'en'}, {'start-lang': u'en', 'end': u'device', 'weight': 1.0, 'start': u'teething toy', 'relation': u'IsA', 'end-lang': u'en'}, {'start-lang': u'en', 'end': u'a device', 'weight': 1.0, 'start': u'a television', 'relation': u'IsA', 'end-lang': u'en'}, {'start-lang': u'en', 'end': u'device', 'weight': 1.0, 'start': u'tennis accessory', 'relation': u'IsA', 'end-lang': u'en'}, {'start-lang': u'en', 'end': u'device', 'weight': 1.0, 'start': u'thermal luminescent detector', 'relation': u'IsA', 'end-lang': u'en'}, {'start-lang': u'en', 'end': u'a device', 'weight': 1.0, 'start': u'a thermometer', 'relation': u'IsA', 'end-lang': u'en'}, {'start-lang': u'en', 'end': u'device', 'weight': 1.0, 'start': u'toilet training product', 'relation': u'IsA', 'end-lang': u'en'}, {'start-lang': u'en', 'end': u'device', 'weight': 1.0, 'start': u'toner cartridge', 'relation': u'IsA', 'end-lang': u'en'}, {'start-lang': u'en', 'end': u'device', 'weight': 1.0, 'start': u'tool', 'relation': u'IsA', 'end-lang': u'en'}, {'start-lang': u'en', 'end': u'device', 'weight': 1.0, 'start': u'torch', 'relation': u'IsA', 'end-lang': u'en'}, {'start-lang': u'en', 'end': u'device', 'weight': 1.0, 'start': u'torn thing', 'relation': u'IsA', 'end-lang': u'en'}, {'start-lang': u'en', 'end': u'device', 'weight': 1.0, 'start': u'torture device', 'relation': u'IsA', 'end-lang': u'en'}, {'start-lang': u'en', 'end': u'device', 'weight': 1.0, 'start': u'toy', 'relation': u'IsA', 'end-lang': u'en'}, {'start-lang': u'en', 'end': u'device', 'weight': 1.0, 'start': u'traffic obstruction device', 'relation': u'IsA', 'end-lang': u'en'}, {'start-lang': u'en', 'end': u'device', 'weight': 1.0, 'start': u'transportation device', 'relation': u'IsA', 'end-lang': u'en'}, {'start-lang': u'en', 'end': u'device', 'weight': 1.0, 'start': u'transport facility', 'relation': u'IsA', 'end-lang': u'en'}, {'start-lang': u'en', 'end': u'device', 'weight': 1.0, 'start': u'trap', 'relation': u'IsA', 'end-lang': u'en'}, {'start-lang': u'en', 'end': u'device', 'weight': 1.0, 'start': u'triggerable device', 'relation': u'IsA', 'end-lang': u'en'}, {'start-lang': u'en', 'end': u'device', 'weight': 1.0, 'start': u'truck liner', 'relation': u'IsA', 'end-lang': u'en'}, {'start-lang': u'en', 'end': u'device', 'weight': 1.0, 'start': u'truck slider', 'relation': u'IsA', 'end-lang': u'en'}, {'start-lang': u'en', 'end': u'device', 'weight': 1.0, 'start': u'unfolded thing', 'relation': u'IsA', 'end-lang': u'en'}, {'start-lang': u'en', 'end': u'device', 'weight': 1.0, 'start': u'unlocked thing', 'relation': u'IsA', 'end-lang': u'en'}, {'start-lang': u'en', 'end': u'device', 'weight': 1.0, 'start': u'user guided device', 'relation': u'IsA', 'end-lang': u'en'}, {'start-lang': u'en', 'end': u'device', 'weight': 1.0, 'start': u'vehicle part', 'relation': u'IsA', 'end-lang': u'en'}, {'start-lang': u'en', 'end': u'device', 'weight': 1.0, 'start': u'ventilation device', 'relation': u'IsA', 'end-lang': u'en'}, {'start-lang': u'en', 'end': u'device', 'weight': 1.0, 'start': u'ventilator', 'relation': u'IsA', 'end-lang': u'en'}, {'start-lang': u'en', 'end': u'device', 'weight': 1.0, 'start': u'vertical support structure', 'relation': u'IsA', 'end-lang': u'en'}, {'start-lang': u'en', 'end': u'device', 'weight': 1.0, 'start': u'vision aid', 'relation': u'IsA', 'end-lang': u'en'}, {'start-lang': u'en', 'end': u'device', 'weight': 1.0, 'start': u'visor accessory', 'relation': u'IsA', 'end-lang': u'en'}, {'start-lang': u'en', 'end': u'device', 'weight': 1.0, 'start': u'walker', 'relation': u'IsA', 'end-lang': u'en'}, {'start-lang': u'en', 'end': u'device', 'weight': 1.0, 'start': u'wall mounted device', 'relation': u'IsA', 'end-lang': u'en'}, {'start-lang': u'en', 'end': u'device', 'weight': 1.0, 'start': u'waste conversion device', 'relation': u'IsA', 'end-lang': u'en'}, {'start-lang': u'en', 'end': u'device', 'weight': 1.0, 'start': u'watering can', 'relation': u'IsA', 'end-lang': u'en'}, {'start-lang': u'en', 'end': u'device', 'weight': 1.0, 'start': u'water powered device', 'relation': u'IsA', 'end-lang': u'en'}, {'start-lang': u'en', 'end': u'a device', 'weight': 1.0, 'start': u'a water softener', 'relation': u'IsA', 'end-lang': u'en'}, {'start-lang': u'en', 'end': u'device', 'weight': 1.0, 'start': u'weapon', 'relation': u'IsA', 'end-lang': u'en'}, {'start-lang': u'en', 'end': u'a device', 'weight': 1.0, 'start': u'a weather vane', 'relation': u'IsA', 'end-lang': u'en'}, {'start-lang': u'en', 'end': u'device', 'weight': 1.0, 'start': u'well', 'relation': u'IsA', 'end-lang': u'en'}, {'start-lang': u'en', 'end': u'device', 'weight': 1.0, 'start': u'whistle', 'relation': u'IsA', 'end-lang': u'en'}, {'start-lang': u'en', 'end': u'device', 'weight': 1.0, 'start': u'window covering', 'relation': u'IsA', 'end-lang': u'en'}, {'start-lang': u'en', 'end': u'device', 'weight': 1.0, 'start': u'wind powered thing', 'relation': u'IsA', 'end-lang': u'en'}, {'start-lang': u'en', 'end': u'device', 'weight': 1.0, 'start': u'wire', 'relation': u'IsA', 'end-lang': u'en'}, {'start-lang': u'en', 'end': u'device', 'weight': 1.0, 'start': u'apparatus', 'relation': u'Synonym', 'end-lang': u'en'}, {'start-lang': u'en', 'end': u'device', 'weight': 1.0, 'start': u'contraption', 'relation': u'Synonym', 'end-lang': u'en'}, {'start-lang': u'en', 'end': u'apparatus', 'weight': 1.0, 'start': u'device', 'relation': u'Synonym', 'end-lang': u'en'}, {'start-lang': u'en', 'end': u'appliance', 'weight': 1.0, 'start': u'device', 'relation': u'Synonym', 'end-lang': u'en'}, {'start-lang': u'en', 'end': u'artifice', 'weight': 1.0, 'start': u'device', 'relation': u'Synonym', 'end-lang': u'en'}, {'start-lang': u'en', 'end': u'contrivance', 'weight': 1.0, 'start': u'device', 'relation': u'Synonym', 'end-lang': u'en'}, {'start-lang': u'en', 'end': u'design', 'weight': 1.0, 'start': u'device', 'relation': u'Synonym', 'end-lang': u'en'}, {'start-lang': u'en', 'end': u'equipment', 'weight': 1.0, 'start': u'device', 'relation': u'Synonym', 'end-lang': u'en'}, {'start-lang': u'en', 'end': u'gadget', 'weight': 1.0, 'start': u'device', 'relation': u'Synonym', 'end-lang': u'en'}, {'start-lang': u'en', 'end': u'invention', 'weight': 1.0, 'start': u'device', 'relation': u'Synonym', 'end-lang': u'en'}, {'start-lang': u'en', 'end': u'project', 'weight': 1.0, 'start': u'device', 'relation': u'Synonym', 'end-lang': u'en'}, {'start-lang': u'en', 'end': u'scheme', 'weight': 1.0, 'start': u'device', 'relation': u'Synonym', 'end-lang': u'en'}, {'start-lang': u'en', 'end': u'stratagem', 'weight': 1.0, 'start': u'device', 'relation': u'Synonym', 'end-lang': u'en'}, {'start-lang': u'en', 'end': u'device', 'weight': 1.0, 'start': u'prophylactic', 'relation': u'Synonym', 'end-lang': u'en'}, {'start-lang': u'en', 'end': u'device', 'weight': 1.0, 'start': u'scheme', 'relation': u'Synonym', 'end-lang': u'en'}, {'start-lang': u'en', 'end': u'device', 'weight': 1.0, 'start': u'way', 'relation': u'Synonym', 'end-lang': u'en'}, {'start-lang': u'en', 'end': u'device', 'weight': 0.5, 'start': u'iliad', 'relation': u'IsA', 'end-lang': u'en'}, {'start-lang': u'en', 'end': u'device', 'weight': 0.5, 'start': u'iphone 3g', 'relation': u'IsA', 'end-lang': u'en'}, {'start-lang': u'en', 'end': u'device', 'weight': 0.5, 'start': u'iphone 3gs', 'relation': u'IsA', 'end-lang': u'en'}, {'start-lang': u'en', 'end': u'device', 'weight': 0.5, 'start': u'iphone 4', 'relation': u'IsA', 'end-lang': u'en'}, {'start-lang': u'en', 'end': u'device', 'weight': 0.5, 'start': u'iphone', 'relation': u'IsA', 'end-lang': u'en'}]}),\n",
       "     'sentic': {u'device': {'device': ['mechanical_complex_machine',\n",
       "        'mechanism',\n",
       "        'human_invention',\n",
       "        'machine',\n",
       "        'complex_machine']}}},\n",
       "    10: {'conceptnet_io': defaultdict(<type 'list'>, {}), 'sentic': {}}},\n",
       "   'aspect_keywords': {7: {'rake': [(u'steve jobs', 4.0),\n",
       "      (u'twisted individual', 4.0)]},\n",
       "    9: {'rake': [(u'device', 1.0), (u'ruined', 1.0)]},\n",
       "    10: {'rake': [(u'unreplacable 18 month battery', 9.0), (u'giving', 1.0)]}},\n",
       "   'aspects': {7: [u'steve jobs', u'individual'], 9: [u'device'], 10: []},\n",
       "   'sentiment': {7: 1, 8: 0, 9: -1, 10: -1}})]"
      ]
     },
     "execution_count": 46,
     "metadata": {},
     "output_type": "execute_result"
    }
   ],
   "source": [
    "documents_info.items()[:5]"
   ]
  },
  {
   "cell_type": "code",
   "execution_count": 47,
   "metadata": {},
   "outputs": [
    {
     "ename": "KeyError",
     "evalue": "'conceptnet_io'",
     "output_type": "error",
     "traceback": [
      "\u001b[1;31m---------------------------------------------------------------------------\u001b[0m\n\u001b[1;31mKeyError\u001b[0m                                  Traceback (most recent call last)",
      "\u001b[1;32m<ipython-input-47-bae88bf821af>\u001b[0m in \u001b[0;36m<module>\u001b[1;34m()\u001b[0m\n\u001b[0;32m      1\u001b[0m \u001b[1;32mfor\u001b[0m \u001b[0mdoc\u001b[0m \u001b[1;32min\u001b[0m \u001b[0mdict\u001b[0m\u001b[1;33m(\u001b[0m\u001b[0mdocuments_info\u001b[0m\u001b[1;33m)\u001b[0m\u001b[1;33m.\u001b[0m\u001b[0mvalues\u001b[0m\u001b[1;33m(\u001b[0m\u001b[1;33m)\u001b[0m\u001b[1;33m:\u001b[0m\u001b[1;33m\u001b[0m\u001b[0m\n\u001b[1;32m----> 2\u001b[1;33m     \u001b[0mcnio\u001b[0m \u001b[1;33m=\u001b[0m \u001b[0mdoc\u001b[0m\u001b[1;33m[\u001b[0m\u001b[1;34m'aspect_concepts'\u001b[0m\u001b[1;33m]\u001b[0m\u001b[1;33m[\u001b[0m\u001b[1;34m'conceptnet_io'\u001b[0m\u001b[1;33m]\u001b[0m\u001b[1;33m\u001b[0m\u001b[0m\n\u001b[0m\u001b[0;32m      3\u001b[0m     \u001b[1;32mprint\u001b[0m\u001b[1;33m(\u001b[0m\u001b[0mcnio\u001b[0m\u001b[1;33m)\u001b[0m\u001b[1;33m\u001b[0m\u001b[0m\n\u001b[0;32m      4\u001b[0m     \u001b[1;32mbreak\u001b[0m\u001b[1;33m\u001b[0m\u001b[0m\n",
      "\u001b[1;31mKeyError\u001b[0m: 'conceptnet_io'"
     ]
    }
   ],
   "source": [
    "for doc in dict(documents_info).values():\n",
    "    cnio = doc['aspect_concepts'].values()\n",
    "    print(cnio)\n",
    "    break"
   ]
  },
  {
   "cell_type": "code",
   "execution_count": 55,
   "metadata": {},
   "outputs": [
    {
     "data": {
      "text/plain": [
       "[defaultdict(<type 'list'>, {})]"
      ]
     },
     "execution_count": 55,
     "metadata": {},
     "output_type": "execute_result"
    }
   ],
   "source": [
    "[d['conceptnet_io'] for d in doc['aspect_concepts'].values()]"
   ]
  },
  {
   "cell_type": "code",
   "execution_count": 46,
   "metadata": {},
   "outputs": [],
   "source": [
    "edus = load_serialized(join(data_path, 'sentiment_filtered_edus'))"
   ]
  },
  {
   "cell_type": "code",
   "execution_count": 47,
   "metadata": {},
   "outputs": [
    {
     "data": {
      "text/plain": [
       "{'EDUs': [0, 1, 2],\n",
       " 'accepted_edus': [2],\n",
       " 'aspect_concepts': {},\n",
       " 'aspect_keywords': {},\n",
       " 'aspects': {},\n",
       " 'sentiment': {0: 0, 1: 0, 2: 1}}"
      ]
     },
     "execution_count": 47,
     "metadata": {},
     "output_type": "execute_result"
    }
   ],
   "source": [
    "documents_info[edus.values()[0]['source_document_id']]"
   ]
  },
  {
   "cell_type": "markdown",
   "metadata": {},
   "source": [
    "# How many EDUs with two and more aspects"
   ]
  },
  {
   "cell_type": "code",
   "execution_count": 48,
   "metadata": {},
   "outputs": [
    {
     "data": {
      "text/plain": [
       "212"
      ]
     },
     "execution_count": 48,
     "metadata": {},
     "output_type": "execute_result"
    }
   ],
   "source": [
    "n_more_aspects_than_edu = sum([0 if len(x['accepted_edus']) > len(x['aspects']) else 1 \n",
    "                               for x in document_info_at_least_2_aspects_accepted.itervalues()])\n",
    "n_more_aspects_than_edu"
   ]
  },
  {
   "cell_type": "code",
   "execution_count": 49,
   "metadata": {},
   "outputs": [
    {
     "data": {
      "text/plain": [
       "319"
      ]
     },
     "execution_count": 49,
     "metadata": {},
     "output_type": "execute_result"
    }
   ],
   "source": [
    "n_all_doc = len(document_info_at_least_2_aspects_accepted)\n",
    "n_all_doc"
   ]
  },
  {
   "cell_type": "code",
   "execution_count": 50,
   "metadata": {},
   "outputs": [
    {
     "name": "stdout",
     "output_type": "stream",
     "text": [
      "66.46% of documents got more aspects than EDUs\n"
     ]
    }
   ],
   "source": [
    "print('{:.2f}% of documents got more aspects than EDUs'.format(float(n_more_aspects_than_edu)/n_all_doc*100))"
   ]
  },
  {
   "cell_type": "markdown",
   "metadata": {},
   "source": [
    "# Get link tree"
   ]
  },
  {
   "cell_type": "code",
   "execution_count": 51,
   "metadata": {},
   "outputs": [
    {
     "data": {
      "text/plain": [
       "['145', '320', '82', '144', '256', '177', '261', '171', '442', '126']"
      ]
     },
     "execution_count": 51,
     "metadata": {},
     "output_type": "execute_result"
    }
   ],
   "source": [
    "link_trees = [ basename(x) for x in glob(join(data_path_link_tree, '*'))]\n",
    "link_trees[:10]"
   ]
  },
  {
   "cell_type": "code",
   "execution_count": 52,
   "metadata": {},
   "outputs": [],
   "source": [
    "link_tree = load_serialized(join(data_path_link_tree, link_trees[5]))"
   ]
  },
  {
   "cell_type": "code",
   "execution_count": 53,
   "metadata": {},
   "outputs": [
    {
     "data": {
      "text/plain": [
       "'../results/ipod/link_trees_dir'"
      ]
     },
     "execution_count": 53,
     "metadata": {},
     "output_type": "execute_result"
    }
   ],
   "source": [
    "data_path_link_tree"
   ]
  },
  {
   "cell_type": "code",
   "execution_count": 54,
   "metadata": {},
   "outputs": [
    {
     "data": {
      "text/plain": [
       "'177'"
      ]
     },
     "execution_count": 54,
     "metadata": {},
     "output_type": "execute_result"
    }
   ],
   "source": [
    "link_trees[5]"
   ]
  },
  {
   "cell_type": "code",
   "execution_count": 55,
   "metadata": {},
   "outputs": [
    {
     "data": {
      "text/plain": [
       "ParseTree('same-unit[N][N]', [ParseTree('Elaboration[N][S]', [513, 514]), ParseTree('Elaboration[N][S]', [515, ParseTree('Joint[N][N]', [516, ParseTree('Elaboration[N][S]', [517, 518])])])])"
      ]
     },
     "execution_count": 55,
     "metadata": {},
     "output_type": "execute_result"
    }
   ],
   "source": [
    "link_tree"
   ]
  },
  {
   "cell_type": "code",
   "execution_count": 56,
   "metadata": {},
   "outputs": [
    {
     "data": {
      "text/plain": [
       "[(513, 'Elaboration[N][S]'),\n",
       " (514, 'Elaboration[N][S]'),\n",
       " (515, 'Elaboration[N][S]'),\n",
       " (516, 'Joint[N][N]'),\n",
       " (517, 'Elaboration[N][S]'),\n",
       " (518, 'Elaboration[N][S]')]"
      ]
     },
     "execution_count": 56,
     "metadata": {},
     "output_type": "execute_result"
    }
   ],
   "source": [
    "link_tree.pos()"
   ]
  },
  {
   "cell_type": "code",
   "execution_count": 57,
   "metadata": {},
   "outputs": [],
   "source": [
    "# link_tree[1][0] = 213"
   ]
  },
  {
   "cell_type": "code",
   "execution_count": 58,
   "metadata": {},
   "outputs": [
    {
     "data": {
      "text/plain": [
       "ParseTree('same-unit[N][N]', [ParseTree('Elaboration[N][S]', [513, 514]), ParseTree('Elaboration[N][S]', [515, ParseTree('Joint[N][N]', [516, ParseTree('Elaboration[N][S]', [517, 518])])])])"
      ]
     },
     "execution_count": 58,
     "metadata": {},
     "output_type": "execute_result"
    }
   ],
   "source": [
    "link_tree"
   ]
  },
  {
   "cell_type": "code",
   "execution_count": 59,
   "metadata": {},
   "outputs": [],
   "source": [
    "# for x in link_tree:\n",
    "#     x = 1111"
   ]
  },
  {
   "cell_type": "code",
   "execution_count": 60,
   "metadata": {},
   "outputs": [
    {
     "data": {
      "text/plain": [
       "ParseTree('same-unit[N][N]', [ParseTree('Elaboration[N][S]', [513, 514]), ParseTree('Elaboration[N][S]', [515, ParseTree('Joint[N][N]', [516, ParseTree('Elaboration[N][S]', [517, 518])])])])"
      ]
     },
     "execution_count": 60,
     "metadata": {},
     "output_type": "execute_result"
    }
   ],
   "source": [
    "link_tree"
   ]
  },
  {
   "cell_type": "code",
   "execution_count": 61,
   "metadata": {},
   "outputs": [],
   "source": [
    "# link_tree[0,0]"
   ]
  },
  {
   "cell_type": "markdown",
   "metadata": {},
   "source": [
    "# Parse tree"
   ]
  },
  {
   "cell_type": "code",
   "execution_count": 73,
   "metadata": {},
   "outputs": [
    {
     "data": {
      "text/plain": [
       "{'EDUs': [513, 514, 515, 516, 517, 518],\n",
       " 'accepted_edus': [513, 514, 515, 516, 517],\n",
       " 'aspect_concepts': {},\n",
       " 'aspect_keywords': {},\n",
       " 'aspects': {},\n",
       " 'sentiment': {513: -1, 514: 1, 515: -1, 516: 1, 517: -1, 518: 0}}"
      ]
     },
     "execution_count": 73,
     "metadata": {},
     "output_type": "execute_result"
    }
   ],
   "source": [
    "documents_info[177]"
   ]
  },
  {
   "cell_type": "code",
   "execution_count": 63,
   "metadata": {},
   "outputs": [],
   "source": [
    "for doc_number in document_info_at_least_2_aspects_accepted.keys()[104:]:\n",
    "    rules_extractor = EDUTreeRulesExtractor()\n",
    "    document_info = load_serialized(join(data_path, 'documents_info'))[doc_number]\n",
    "    print('====='*20)\n",
    "    extracted_rules = rules_extractor.extract(link_tree, document_info['accepted_edus'])\n",
    "    break"
   ]
  },
  {
   "cell_type": "code",
   "execution_count": 64,
   "metadata": {},
   "outputs": [
    {
     "data": {
      "text/plain": [
       "ParseTree('same-unit[N][N]', [ParseTree('Elaboration[N][S]', [513, 514]), ParseTree('Elaboration[N][S]', [515, ParseTree('Joint[N][N]', [516, ParseTree('Elaboration[N][S]', [517, 518])])])])"
      ]
     },
     "execution_count": 64,
     "metadata": {},
     "output_type": "execute_result"
    }
   ],
   "source": [
    "link_tree"
   ]
  },
  {
   "cell_type": "code",
   "execution_count": 65,
   "metadata": {},
   "outputs": [],
   "source": [
    "# rules_extractor = EDUTreeRulesExtractor()\n",
    "# extracted_rules = rules_extractor.extract(link_tree, document_info['accepted_edus'])"
   ]
  },
  {
   "cell_type": "code",
   "execution_count": 66,
   "metadata": {},
   "outputs": [],
   "source": [
    "# extracted_rules"
   ]
  },
  {
   "cell_type": "code",
   "execution_count": 67,
   "metadata": {},
   "outputs": [
    {
     "data": {
      "image/png": "[encoded data removed]",
      "text/plain": [
       "<IPython.core.display.Image at 0x7f7335a5f050>"
      ]
     },
     "metadata": {},
     "output_type": "display_data"
    }
   ],
   "source": [
    "jupyter_draw_nltk_tree(link_tree, show_tree=True)"
   ]
  },
  {
   "cell_type": "code",
   "execution_count": 56,
   "metadata": {},
   "outputs": [
    {
     "name": "stdout",
     "output_type": "stream",
     "text": [
      "(Joint[N][N]\n",
      "  (Elaboration[N][S]\n",
      "    _!broadcast it remotely through stereo speakers!_\n",
      "    _!using wireless technology ,!_)\n",
      "  (Elaboration[N][S]\n",
      "    _!and play it through your car speakers!_\n",
      "    _!using either a CD adaptor or FM stereo broadcaster.q . <P>!_))\n"
     ]
    }
   ],
   "source": [
    "print(parsed_tree[1][0].parent)"
   ]
  },
  {
   "cell_type": "code",
   "execution_count": 68,
   "metadata": {},
   "outputs": [
    {
     "data": {
      "text/plain": [
       "4"
      ]
     },
     "execution_count": 68,
     "metadata": {},
     "output_type": "execute_result"
    }
   ],
   "source": [
    "parsed_tree.height()"
   ]
  },
  {
   "cell_type": "code",
   "execution_count": 69,
   "metadata": {},
   "outputs": [
    {
     "data": {
      "text/plain": [
       "5"
      ]
     },
     "execution_count": 69,
     "metadata": {},
     "output_type": "execute_result"
    }
   ],
   "source": [
    "link_tree.height()"
   ]
  }
 ],
 "metadata": {
  "kernelspec": {
   "display_name": "Python 3",
   "language": "python",
   "name": "python3"
  },
  "language_info": {
   "codemirror_mode": {
    "name": "ipython",
    "version": 3
   },
   "file_extension": ".py",
   "mimetype": "text/x-python",
   "name": "python",
   "nbconvert_exporter": "python",
   "pygments_lexer": "ipython3",
   "version": "3.7.9"
  },
  "toc": {
   "base_numbering": 1,
   "nav_menu": {},
   "number_sections": true,
   "sideBar": true,
   "skip_h1_title": false,
   "title_cell": "Table of Contents",
   "title_sidebar": "Contents",
   "toc_cell": false,
   "toc_position": {},
   "toc_section_display": true,
   "toc_window_display": false
  }
 },
 "nbformat": 4,
 "nbformat_minor": 1
}
