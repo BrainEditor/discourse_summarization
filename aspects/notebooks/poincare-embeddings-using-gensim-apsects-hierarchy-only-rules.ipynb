{
 "cells": [
  {
   "cell_type": "markdown",
   "metadata": {},
   "source": [
    "# Imports and settings"
   ]
  },
  {
   "cell_type": "code",
   "execution_count": 1,
   "metadata": {
    "ExecuteTime": {
     "end_time": "2019-10-24T05:55:41.859774Z",
     "start_time": "2019-10-24T05:55:40.963259Z"
    },
    "scrolled": true
   },
   "outputs": [
    {
     "data": {
      "text/html": [
       "<style>.container { width:90% !important; }</style>"
      ],
      "text/plain": [
       "<IPython.core.display.HTML object>"
      ]
     },
     "metadata": {},
     "output_type": "display_data"
    }
   ],
   "source": [
    "%load_ext autoreload\n",
    "%autoreload 2\n",
    "\n",
    "import os\n",
    "import logging\n",
    "import numpy as np\n",
    "import pandas as pd\n",
    "\n",
    "from gensim.models.poincare import PoincareModel, PoincareKeyedVectors, PoincareRelations\n",
    "\n",
    "from IPython.core.display import display, HTML\n",
    "display(HTML(\"<style>.container { width:90% !important; }</style>\"))\n",
    "\n",
    "logging.basicConfig(level=logging.INFO)"
   ]
  },
  {
   "cell_type": "code",
   "execution_count": 2,
   "metadata": {
    "ExecuteTime": {
     "end_time": "2019-10-24T05:55:41.882445Z",
     "start_time": "2019-10-24T05:55:41.862510Z"
    }
   },
   "outputs": [],
   "source": [
    "from pathlib import Path"
   ]
  },
  {
   "cell_type": "code",
   "execution_count": 3,
   "metadata": {
    "ExecuteTime": {
     "end_time": "2019-10-24T05:55:42.767868Z",
     "start_time": "2019-10-24T05:55:41.884239Z"
    }
   },
   "outputs": [],
   "source": [
    "import spacy \n",
    "nlp = spacy.load('en')"
   ]
  },
  {
   "cell_type": "code",
   "execution_count": 4,
   "metadata": {
    "ExecuteTime": {
     "end_time": "2019-10-24T05:55:42.788837Z",
     "start_time": "2019-10-24T05:55:42.769850Z"
    }
   },
   "outputs": [],
   "source": [
    "from tqdm import tqdm  # for notebooks\n",
    "tqdm.pandas()"
   ]
  },
  {
   "cell_type": "markdown",
   "metadata": {},
   "source": [
    "# Load data and models"
   ]
  },
  {
   "cell_type": "code",
   "execution_count": 5,
   "metadata": {
    "ExecuteTime": {
     "end_time": "2019-10-24T05:55:42.819527Z",
     "start_time": "2019-10-24T05:55:42.790995Z"
    }
   },
   "outputs": [],
   "source": [
    "data_directory = Path('../results/reviews_Cell_Phones_and_Accessories/')\n",
    "aspect_rules_file = os.path.join(data_directory, 'aspect-rules.csv')"
   ]
  },
  {
   "cell_type": "code",
   "execution_count": 6,
   "metadata": {
    "ExecuteTime": {
     "end_time": "2019-10-24T05:55:43.934539Z",
     "start_time": "2019-10-24T05:55:43.783150Z"
    }
   },
   "outputs": [],
   "source": [
    "aspect_df_min_10_times = pd.read_csv(data_directory / 'aspects_per_edu_filtered_min_10_freq.csv')\n",
    "aspect_df_min_10_times.columns = ['aspect', 'count']"
   ]
  },
  {
   "cell_type": "markdown",
   "metadata": {},
   "source": [
    "The model can be initialized using an iterable of relations, where a relation is simply a pair of nodes"
   ]
  },
  {
   "cell_type": "code",
   "execution_count": 7,
   "metadata": {
    "ExecuteTime": {
     "end_time": "2019-10-24T05:55:47.234533Z",
     "start_time": "2019-10-24T05:55:47.182753Z"
    }
   },
   "outputs": [
    {
     "data": {
      "text/html": [
       "<div>\n",
       "<style scoped>\n",
       "    .dataframe tbody tr th:only-of-type {\n",
       "        vertical-align: middle;\n",
       "    }\n",
       "\n",
       "    .dataframe tbody tr th {\n",
       "        vertical-align: top;\n",
       "    }\n",
       "\n",
       "    .dataframe thead th {\n",
       "        text-align: right;\n",
       "    }\n",
       "</style>\n",
       "<table border=\"1\" class=\"dataframe\">\n",
       "  <thead>\n",
       "    <tr style=\"text-align: right;\">\n",
       "      <th></th>\n",
       "      <th>aspect</th>\n",
       "      <th>count</th>\n",
       "    </tr>\n",
       "  </thead>\n",
       "  <tbody>\n",
       "    <tr>\n",
       "      <th>0</th>\n",
       "      <td>price</td>\n",
       "      <td>6383</td>\n",
       "    </tr>\n",
       "    <tr>\n",
       "      <th>1</th>\n",
       "      <td>motorola</td>\n",
       "      <td>4246</td>\n",
       "    </tr>\n",
       "    <tr>\n",
       "      <th>2</th>\n",
       "      <td>battery</td>\n",
       "      <td>3925</td>\n",
       "    </tr>\n",
       "    <tr>\n",
       "      <th>3</th>\n",
       "      <td>amazon</td>\n",
       "      <td>2805</td>\n",
       "    </tr>\n",
       "    <tr>\n",
       "      <th>4</th>\n",
       "      <td>sound quality</td>\n",
       "      <td>2636</td>\n",
       "    </tr>\n",
       "  </tbody>\n",
       "</table>\n",
       "</div>"
      ],
      "text/plain": [
       "          aspect  count\n",
       "0          price   6383\n",
       "1       motorola   4246\n",
       "2        battery   3925\n",
       "3         amazon   2805\n",
       "4  sound quality   2636"
      ]
     },
     "execution_count": 7,
     "metadata": {},
     "output_type": "execute_result"
    }
   ],
   "source": [
    "aspect_df_min_10_times.head()"
   ]
  },
  {
   "cell_type": "code",
   "execution_count": 8,
   "metadata": {
    "ExecuteTime": {
     "end_time": "2019-10-24T05:55:48.079517Z",
     "start_time": "2019-10-24T05:55:48.003523Z"
    }
   },
   "outputs": [
    {
     "data": {
      "text/html": [
       "<div>\n",
       "<style scoped>\n",
       "    .dataframe tbody tr th:only-of-type {\n",
       "        vertical-align: middle;\n",
       "    }\n",
       "\n",
       "    .dataframe tbody tr th {\n",
       "        vertical-align: top;\n",
       "    }\n",
       "\n",
       "    .dataframe thead th {\n",
       "        text-align: right;\n",
       "    }\n",
       "</style>\n",
       "<table border=\"1\" class=\"dataframe\">\n",
       "  <thead>\n",
       "    <tr style=\"text-align: right;\">\n",
       "      <th></th>\n",
       "      <th>id1</th>\n",
       "      <th>id2</th>\n",
       "    </tr>\n",
       "  </thead>\n",
       "  <tbody>\n",
       "    <tr>\n",
       "      <th>2067</th>\n",
       "      <td>interface</td>\n",
       "      <td>cingular</td>\n",
       "    </tr>\n",
       "    <tr>\n",
       "      <th>216</th>\n",
       "      <td>design</td>\n",
       "      <td>case</td>\n",
       "    </tr>\n",
       "  </tbody>\n",
       "</table>\n",
       "</div>"
      ],
      "text/plain": [
       "            id1       id2\n",
       "2067  interface  cingular\n",
       "216      design      case"
      ]
     },
     "execution_count": 8,
     "metadata": {},
     "output_type": "execute_result"
    }
   ],
   "source": [
    "aspect_rules_df = pd.read_csv(aspect_rules_file)\n",
    "aspect_rules_df = aspect_rules_df[['id1', 'id2']]\n",
    "aspect_rules_df.sample(2)"
   ]
  },
  {
   "cell_type": "markdown",
   "metadata": {},
   "source": [
    "## Add aspects from ConceptNet "
   ]
  },
  {
   "cell_type": "code",
   "execution_count": 9,
   "metadata": {
    "ExecuteTime": {
     "end_time": "2019-10-24T05:55:51.122649Z",
     "start_time": "2019-10-24T05:55:50.876215Z"
    }
   },
   "outputs": [],
   "source": [
    "from aspects.enrichments import conceptnets"
   ]
  },
  {
   "cell_type": "code",
   "execution_count": 10,
   "metadata": {
    "ExecuteTime": {
     "end_time": "2019-10-24T05:56:02.900365Z",
     "start_time": "2019-10-24T05:55:51.302728Z"
    }
   },
   "outputs": [
    {
     "name": "stderr",
     "output_type": "stream",
     "text": [
      "INFO:aspects.enrichments.conceptnets:ConceptNet.io temp files will be load from: /home/laugustyniak/github/phd/sentiment-backend/aspects/data/conceptnet/conceptnet_io.pkl\n"
     ]
    }
   ],
   "source": [
    "conceptnet = conceptnets.load_conceptnet_io()"
   ]
  },
  {
   "cell_type": "markdown",
   "metadata": {},
   "source": [
    " 'car' -> 'HasPrerequisite' -> 'tire'"
   ]
  },
  {
   "cell_type": "code",
   "execution_count": 11,
   "metadata": {
    "ExecuteTime": {
     "end_time": "2019-10-24T05:56:02.999813Z",
     "start_time": "2019-10-24T05:56:02.903013Z"
    }
   },
   "outputs": [
    {
     "data": {
      "text/plain": [
       "[{'end': 'active',\n",
       "  'end-lang': 'en',\n",
       "  'relation': 'Antonym',\n",
       "  'start': 'tire',\n",
       "  'start-lang': 'en',\n",
       "  'weight': 0.15},\n",
       " {'end': 'bus_depot',\n",
       "  'end-lang': 'en',\n",
       "  'relation': 'AtLocation',\n",
       "  'start': 'tire',\n",
       "  'start-lang': 'en',\n",
       "  'weight': 1.0},\n",
       " {'end': 'car',\n",
       "  'end-lang': 'en',\n",
       "  'relation': 'AtLocation',\n",
       "  'start': 'tire',\n",
       "  'start-lang': 'en',\n",
       "  'weight': 1.0},\n",
       " {'end': 'car_show',\n",
       "  'end-lang': 'en',\n",
       "  'relation': 'AtLocation',\n",
       "  'start': 'tire',\n",
       "  'start-lang': 'en',\n",
       "  'weight': 1.0},\n",
       " {'end': 'garage',\n",
       "  'end-lang': 'en',\n",
       "  'relation': 'AtLocation',\n",
       "  'start': 'tire',\n",
       "  'start-lang': 'en',\n",
       "  'weight': 1.0},\n",
       " {'end': 'trunk',\n",
       "  'end-lang': 'en',\n",
       "  'relation': 'AtLocation',\n",
       "  'start': 'tire',\n",
       "  'start-lang': 'en',\n",
       "  'weight': 1.0},\n",
       " {'end': 'get_leak',\n",
       "  'end-lang': 'en',\n",
       "  'relation': 'CapableOf',\n",
       "  'start': 'tire',\n",
       "  'start-lang': 'en',\n",
       "  'weight': 1.0},\n",
       " {'end': 'need_attention_soon',\n",
       "  'end-lang': 'en',\n",
       "  'relation': 'CapableOf',\n",
       "  'start': 'tire',\n",
       "  'start-lang': 'en',\n",
       "  'weight': 1.0},\n",
       " {'end': 'tire',\n",
       "  'end-lang': 'en',\n",
       "  'relation': 'Causes',\n",
       "  'start': 'standing_up',\n",
       "  'start-lang': 'en',\n",
       "  'weight': 1.0},\n",
       " {'end': 'tire',\n",
       "  'end-lang': 'en',\n",
       "  'relation': 'Causes',\n",
       "  'start': 'tire',\n",
       "  'start-lang': 'en',\n",
       "  'weight': 2.0},\n",
       " {'end': 'tire',\n",
       "  'end-lang': 'en',\n",
       "  'relation': 'Causes',\n",
       "  'start': 'tire',\n",
       "  'start-lang': 'en',\n",
       "  'weight': 2.0},\n",
       " {'end': 'tire',\n",
       "  'end-lang': 'en',\n",
       "  'relation': 'DistinctFrom',\n",
       "  'start': 'energy',\n",
       "  'start-lang': 'en',\n",
       "  'weight': 0.173},\n",
       " {'end': 'tear',\n",
       "  'end-lang': 'en',\n",
       "  'relation': 'EtymologicallyRelatedTo',\n",
       "  'start': 'tire',\n",
       "  'start-lang': 'en',\n",
       "  'weight': 0.25},\n",
       " {'end': 'tire',\n",
       "  'end-lang': 'en',\n",
       "  'relation': 'FormOf',\n",
       "  'start': 'tired',\n",
       "  'start-lang': 'en',\n",
       "  'weight': 1.0},\n",
       " {'end': 'tire',\n",
       "  'end-lang': 'en',\n",
       "  'relation': 'FormOf',\n",
       "  'start': 'tires',\n",
       "  'start-lang': 'en',\n",
       "  'weight': 1.0},\n",
       " {'end': 'tire',\n",
       "  'end-lang': 'en',\n",
       "  'relation': 'FormOf',\n",
       "  'start': 'tires',\n",
       "  'start-lang': 'en',\n",
       "  'weight': 1.0},\n",
       " {'end': 'tire',\n",
       "  'end-lang': 'en',\n",
       "  'relation': 'FormOf',\n",
       "  'start': 'tirest',\n",
       "  'start-lang': 'en',\n",
       "  'weight': 1.0},\n",
       " {'end': 'tire',\n",
       "  'end-lang': 'en',\n",
       "  'relation': 'FormOf',\n",
       "  'start': 'tireth',\n",
       "  'start-lang': 'en',\n",
       "  'weight': 1.0},\n",
       " {'end': 'tire',\n",
       "  'end-lang': 'en',\n",
       "  'relation': 'FormOf',\n",
       "  'start': 'tiring',\n",
       "  'start-lang': 'en',\n",
       "  'weight': 1.0},\n",
       " {'end': 'tire',\n",
       "  'end-lang': 'en',\n",
       "  'relation': 'FormOf',\n",
       "  'start': 'tyre',\n",
       "  'start-lang': 'en',\n",
       "  'weight': 1.0},\n",
       " {'end': 'north_america',\n",
       "  'end-lang': 'en',\n",
       "  'relation': 'HasContext',\n",
       "  'start': 'tire',\n",
       "  'start-lang': 'en',\n",
       "  'weight': 1.0},\n",
       " {'end': 'tire',\n",
       "  'end-lang': 'en',\n",
       "  'relation': 'HasPrerequisite',\n",
       "  'start': 'car',\n",
       "  'start-lang': 'en',\n",
       "  'weight': 1.0},\n",
       " {'end': 'tire',\n",
       "  'end-lang': 'en',\n",
       "  'relation': 'HasSubevent',\n",
       "  'start': 'competing_against',\n",
       "  'start-lang': 'en',\n",
       "  'weight': 1.0},\n",
       " {'end': 'tire',\n",
       "  'end-lang': 'en',\n",
       "  'relation': 'IsA',\n",
       "  'start': 'bicycle_tire',\n",
       "  'start-lang': 'en',\n",
       "  'weight': 1.0},\n",
       " {'end': 'tire',\n",
       "  'end-lang': 'en',\n",
       "  'relation': 'IsA',\n",
       "  'start': 'car_tire',\n",
       "  'start-lang': 'en',\n",
       "  'weight': 1.0},\n",
       " {'end': 'tire',\n",
       "  'end-lang': 'en',\n",
       "  'relation': 'IsA',\n",
       "  'start': 'car_tire',\n",
       "  'start-lang': 'en',\n",
       "  'weight': 2.0},\n",
       " {'end': 'tire',\n",
       "  'end-lang': 'en',\n",
       "  'relation': 'IsA',\n",
       "  'start': 'exhaust',\n",
       "  'start-lang': 'en',\n",
       "  'weight': 2.0},\n",
       " {'end': 'tire',\n",
       "  'end-lang': 'en',\n",
       "  'relation': 'IsA',\n",
       "  'start': 'overtire',\n",
       "  'start-lang': 'en',\n",
       "  'weight': 2.0},\n",
       " {'end': 'tire',\n",
       "  'end-lang': 'en',\n",
       "  'relation': 'IsA',\n",
       "  'start': 'pirelli',\n",
       "  'start-lang': 'en',\n",
       "  'weight': 1.0},\n",
       " {'end': 'tire',\n",
       "  'end-lang': 'en',\n",
       "  'relation': 'IsA',\n",
       "  'start': 'pneumatic_tire',\n",
       "  'start-lang': 'en',\n",
       "  'weight': 2.0},\n",
       " {'end': 'tire',\n",
       "  'end-lang': 'en',\n",
       "  'relation': 'IsA',\n",
       "  'start': 'poop_out',\n",
       "  'start-lang': 'en',\n",
       "  'weight': 2.0},\n",
       " {'end': 'tire',\n",
       "  'end-lang': 'en',\n",
       "  'relation': 'IsA',\n",
       "  'start': 'retire',\n",
       "  'start-lang': 'en',\n",
       "  'weight': 2.0},\n",
       " {'end': 'tire',\n",
       "  'end-lang': 'en',\n",
       "  'relation': 'IsA',\n",
       "  'start': 'snow_tire',\n",
       "  'start-lang': 'en',\n",
       "  'weight': 1.0},\n",
       " {'end': 'wheel',\n",
       "  'end-lang': 'en',\n",
       "  'relation': 'IsA',\n",
       "  'start': 'tire',\n",
       "  'start-lang': 'en',\n",
       "  'weight': 2.0},\n",
       " {'end': 'non_powered_device',\n",
       "  'end-lang': 'en',\n",
       "  'relation': 'IsA',\n",
       "  'start': 'tire',\n",
       "  'start-lang': 'en',\n",
       "  'weight': 1.0},\n",
       " {'end': 'part_for_wheeled_vehicles',\n",
       "  'end-lang': 'en',\n",
       "  'relation': 'IsA',\n",
       "  'start': 'tire',\n",
       "  'start-lang': 'en',\n",
       "  'weight': 1.0},\n",
       " {'end': 'hoop',\n",
       "  'end-lang': 'en',\n",
       "  'relation': 'IsA',\n",
       "  'start': 'tire',\n",
       "  'start-lang': 'en',\n",
       "  'weight': 2.0},\n",
       " {'end': 'devolve',\n",
       "  'end-lang': 'en',\n",
       "  'relation': 'IsA',\n",
       "  'start': 'tire',\n",
       "  'start-lang': 'en',\n",
       "  'weight': 2.0},\n",
       " {'end': 'indispose',\n",
       "  'end-lang': 'en',\n",
       "  'relation': 'IsA',\n",
       "  'start': 'tire',\n",
       "  'start-lang': 'en',\n",
       "  'weight': 2.0},\n",
       " {'end': 'tire',\n",
       "  'end-lang': 'en',\n",
       "  'relation': 'IsA',\n",
       "  'start': 'wagon_tire',\n",
       "  'start-lang': 'en',\n",
       "  'weight': 2.0},\n",
       " {'end': 'rubber',\n",
       "  'end-lang': 'en',\n",
       "  'relation': 'MadeOf',\n",
       "  'start': 'tire',\n",
       "  'start-lang': 'en',\n",
       "  'weight': 1.0},\n",
       " {'end': 'rubber_and_latex',\n",
       "  'end-lang': 'en',\n",
       "  'relation': 'MadeOf',\n",
       "  'start': 'tire',\n",
       "  'start-lang': 'en',\n",
       "  'weight': 1.0},\n",
       " {'end': 'automobile',\n",
       "  'end-lang': 'en',\n",
       "  'relation': 'PartOf',\n",
       "  'start': 'tire',\n",
       "  'start-lang': 'en',\n",
       "  'weight': 1.0},\n",
       " {'end': \"car's_wheel\",\n",
       "  'end-lang': 'en',\n",
       "  'relation': 'PartOf',\n",
       "  'start': 'tire',\n",
       "  'start-lang': 'en',\n",
       "  'weight': 1.0},\n",
       " {'end': 'car',\n",
       "  'end-lang': 'en',\n",
       "  'relation': 'PartOf',\n",
       "  'start': 'tire',\n",
       "  'start-lang': 'en',\n",
       "  'weight': 4.472},\n",
       " {'end': 'filled_with_compressed_air',\n",
       "  'end-lang': 'en',\n",
       "  'relation': 'ReceivesAction',\n",
       "  'start': 'tire',\n",
       "  'start-lang': 'en',\n",
       "  'weight': 1.0},\n",
       " {'end': 'found_on_car',\n",
       "  'end-lang': 'en',\n",
       "  'relation': 'ReceivesAction',\n",
       "  'start': 'tire',\n",
       "  'start-lang': 'en',\n",
       "  'weight': 1.0},\n",
       " {'end': 'tire',\n",
       "  'end-lang': 'en',\n",
       "  'relation': 'RelatedTo',\n",
       "  'start': 'bead',\n",
       "  'start-lang': 'en',\n",
       "  'weight': 1.0},\n",
       " {'end': 'tire',\n",
       "  'end-lang': 'en',\n",
       "  'relation': 'RelatedTo',\n",
       "  'start': 'bejade',\n",
       "  'start-lang': 'en',\n",
       "  'weight': 1.0},\n",
       " {'end': 'tire',\n",
       "  'end-lang': 'en',\n",
       "  'relation': 'RelatedTo',\n",
       "  'start': 'bicycle_tire',\n",
       "  'start-lang': 'en',\n",
       "  'weight': 1.0},\n",
       " {'end': 'tire',\n",
       "  'end-lang': 'en',\n",
       "  'relation': 'RelatedTo',\n",
       "  'start': 'blow_out',\n",
       "  'start-lang': 'en',\n",
       "  'weight': 1.0},\n",
       " {'end': 'tire',\n",
       "  'end-lang': 'en',\n",
       "  'relation': 'RelatedTo',\n",
       "  'start': 'blowout',\n",
       "  'start-lang': 'en',\n",
       "  'weight': 1.0},\n",
       " {'end': 'tire',\n",
       "  'end-lang': 'en',\n",
       "  'relation': 'RelatedTo',\n",
       "  'start': 'burn_out',\n",
       "  'start-lang': 'en',\n",
       "  'weight': 1.0},\n",
       " {'end': 'tire',\n",
       "  'end-lang': 'en',\n",
       "  'relation': 'RelatedTo',\n",
       "  'start': 'burn_rubber',\n",
       "  'start-lang': 'en',\n",
       "  'weight': 1.0},\n",
       " {'end': 'tire',\n",
       "  'end-lang': 'en',\n",
       "  'relation': 'RelatedTo',\n",
       "  'start': 'cake',\n",
       "  'start-lang': 'en',\n",
       "  'weight': 0.11},\n",
       " {'end': 'tire',\n",
       "  'end-lang': 'en',\n",
       "  'relation': 'RelatedTo',\n",
       "  'start': 'camelback',\n",
       "  'start-lang': 'en',\n",
       "  'weight': 1.0},\n",
       " {'end': 'tire',\n",
       "  'end-lang': 'en',\n",
       "  'relation': 'RelatedTo',\n",
       "  'start': 'defatigable',\n",
       "  'start-lang': 'en',\n",
       "  'weight': 1.0},\n",
       " {'end': 'tire',\n",
       "  'end-lang': 'en',\n",
       "  'relation': 'RelatedTo',\n",
       "  'start': 'dune_buggy',\n",
       "  'start-lang': 'en',\n",
       "  'weight': 1.0},\n",
       " {'end': 'tire',\n",
       "  'end-lang': 'en',\n",
       "  'relation': 'RelatedTo',\n",
       "  'start': 'exhaust',\n",
       "  'start-lang': 'en',\n",
       "  'weight': 0.106},\n",
       " {'end': 'tire',\n",
       "  'end-lang': 'en',\n",
       "  'relation': 'RelatedTo',\n",
       "  'start': 'fag',\n",
       "  'start-lang': 'en',\n",
       "  'weight': 1.0},\n",
       " {'end': 'tire',\n",
       "  'end-lang': 'en',\n",
       "  'relation': 'RelatedTo',\n",
       "  'start': 'fatigate',\n",
       "  'start-lang': 'en',\n",
       "  'weight': 1.0},\n",
       " {'end': 'tire',\n",
       "  'end-lang': 'en',\n",
       "  'relation': 'RelatedTo',\n",
       "  'start': 'fatigue',\n",
       "  'start-lang': 'en',\n",
       "  'weight': 1.0},\n",
       " {'end': 'tire',\n",
       "  'end-lang': 'en',\n",
       "  'relation': 'RelatedTo',\n",
       "  'start': 'fireplace',\n",
       "  'start-lang': 'en',\n",
       "  'weight': 0.115},\n",
       " {'end': 'tire',\n",
       "  'end-lang': 'en',\n",
       "  'relation': 'RelatedTo',\n",
       "  'start': 'flat',\n",
       "  'start-lang': 'en',\n",
       "  'weight': 1.0},\n",
       " {'end': 'tire',\n",
       "  'end-lang': 'en',\n",
       "  'relation': 'RelatedTo',\n",
       "  'start': 'fortravel',\n",
       "  'start-lang': 'en',\n",
       "  'weight': 1.0},\n",
       " {'end': 'tire',\n",
       "  'end-lang': 'en',\n",
       "  'relation': 'RelatedTo',\n",
       "  'start': 'hatter',\n",
       "  'start-lang': 'en',\n",
       "  'weight': 1.0},\n",
       " {'end': 'tire',\n",
       "  'end-lang': 'en',\n",
       "  'relation': 'RelatedTo',\n",
       "  'start': 'high_wheeler',\n",
       "  'start-lang': 'en',\n",
       "  'weight': 1.0},\n",
       " {'end': 'tire',\n",
       "  'end-lang': 'en',\n",
       "  'relation': 'RelatedTo',\n",
       "  'start': 'inflater',\n",
       "  'start-lang': 'en',\n",
       "  'weight': 1.0},\n",
       " {'end': 'tire',\n",
       "  'end-lang': 'en',\n",
       "  'relation': 'RelatedTo',\n",
       "  'start': 'inner_tube',\n",
       "  'start-lang': 'en',\n",
       "  'weight': 1.0},\n",
       " {'end': 'tire',\n",
       "  'end-lang': 'en',\n",
       "  'relation': 'RelatedTo',\n",
       "  'start': 'innertube',\n",
       "  'start-lang': 'en',\n",
       "  'weight': 1.0},\n",
       " {'end': 'tire',\n",
       "  'end-lang': 'en',\n",
       "  'relation': 'RelatedTo',\n",
       "  'start': 'jade',\n",
       "  'start-lang': 'en',\n",
       "  'weight': 1.0},\n",
       " {'end': 'tire',\n",
       "  'end-lang': 'en',\n",
       "  'relation': 'RelatedTo',\n",
       "  'start': 'knacker',\n",
       "  'start-lang': 'en',\n",
       "  'weight': 1.0},\n",
       " {'end': 'tire',\n",
       "  'end-lang': 'en',\n",
       "  'relation': 'RelatedTo',\n",
       "  'start': 'lay_rubber',\n",
       "  'start-lang': 'en',\n",
       "  'weight': 1.0},\n",
       " {'end': 'tire',\n",
       "  'end-lang': 'en',\n",
       "  'relation': 'RelatedTo',\n",
       "  'start': 'motor_vehicle',\n",
       "  'start-lang': 'en',\n",
       "  'weight': 1.0},\n",
       " {'end': 'tire',\n",
       "  'end-lang': 'en',\n",
       "  'relation': 'RelatedTo',\n",
       "  'start': 'overtire',\n",
       "  'start-lang': 'en',\n",
       "  'weight': 1.0},\n",
       " {'end': 'tire',\n",
       "  'end-lang': 'en',\n",
       "  'relation': 'RelatedTo',\n",
       "  'start': 'overweary',\n",
       "  'start-lang': 'en',\n",
       "  'weight': 1.0},\n",
       " {'end': 'tire',\n",
       "  'end-lang': 'en',\n",
       "  'relation': 'RelatedTo',\n",
       "  'start': 'panic_rev',\n",
       "  'start-lang': 'en',\n",
       "  'weight': 1.0},\n",
       " {'end': 'tire',\n",
       "  'end-lang': 'en',\n",
       "  'relation': 'RelatedTo',\n",
       "  'start': 'poop',\n",
       "  'start-lang': 'en',\n",
       "  'weight': 1.0},\n",
       " {'end': 'tire',\n",
       "  'end-lang': 'en',\n",
       "  'relation': 'RelatedTo',\n",
       "  'start': 'pump',\n",
       "  'start-lang': 'en',\n",
       "  'weight': 0.224},\n",
       " {'end': 'tire',\n",
       "  'end-lang': 'en',\n",
       "  'relation': 'RelatedTo',\n",
       "  'start': 'rabbit',\n",
       "  'start-lang': 'en',\n",
       "  'weight': 1.0},\n",
       " {'end': 'tire',\n",
       "  'end-lang': 'en',\n",
       "  'relation': 'RelatedTo',\n",
       "  'start': 'radial_tire',\n",
       "  'start-lang': 'en',\n",
       "  'weight': 1.0},\n",
       " {'end': 'tire',\n",
       "  'end-lang': 'en',\n",
       "  'relation': 'RelatedTo',\n",
       "  'start': 'recap',\n",
       "  'start-lang': 'en',\n",
       "  'weight': 1.0},\n",
       " {'end': 'tire',\n",
       "  'end-lang': 'en',\n",
       "  'relation': 'RelatedTo',\n",
       "  'start': 'resection',\n",
       "  'start-lang': 'en',\n",
       "  'weight': 1.0},\n",
       " {'end': 'tire',\n",
       "  'end-lang': 'en',\n",
       "  'relation': 'RelatedTo',\n",
       "  'start': 'retread',\n",
       "  'start-lang': 'en',\n",
       "  'weight': 1.0},\n",
       " {'end': 'tire',\n",
       "  'end-lang': 'en',\n",
       "  'relation': 'RelatedTo',\n",
       "  'start': 'rotation',\n",
       "  'start-lang': 'en',\n",
       "  'weight': 0.167},\n",
       " {'end': 'tire',\n",
       "  'end-lang': 'en',\n",
       "  'relation': 'RelatedTo',\n",
       "  'start': 'rubber',\n",
       "  'start-lang': 'en',\n",
       "  'weight': 0.448},\n",
       " {'end': 'tire',\n",
       "  'end-lang': 'en',\n",
       "  'relation': 'RelatedTo',\n",
       "  'start': 'rubber',\n",
       "  'start-lang': 'en',\n",
       "  'weight': 1.0},\n",
       " {'end': 'tire',\n",
       "  'end-lang': 'en',\n",
       "  'relation': 'RelatedTo',\n",
       "  'start': 'shod',\n",
       "  'start-lang': 'en',\n",
       "  'weight': 1.0},\n",
       " {'end': 'tire',\n",
       "  'end-lang': 'en',\n",
       "  'relation': 'RelatedTo',\n",
       "  'start': 'shoe',\n",
       "  'start-lang': 'en',\n",
       "  'weight': 1.0},\n",
       " {'end': 'tire',\n",
       "  'end-lang': 'en',\n",
       "  'relation': 'RelatedTo',\n",
       "  'start': 'sidewall',\n",
       "  'start-lang': 'en',\n",
       "  'weight': 1.0},\n",
       " {'end': 'tire',\n",
       "  'end-lang': 'en',\n",
       "  'relation': 'RelatedTo',\n",
       "  'start': 'sipe',\n",
       "  'start-lang': 'en',\n",
       "  'weight': 1.0},\n",
       " {'end': 'tire',\n",
       "  'end-lang': 'en',\n",
       "  'relation': 'RelatedTo',\n",
       "  'start': 'slick',\n",
       "  'start-lang': 'en',\n",
       "  'weight': 1.0},\n",
       " {'end': 'tire',\n",
       "  'end-lang': 'en',\n",
       "  'relation': 'RelatedTo',\n",
       "  'start': 'spare',\n",
       "  'start-lang': 'en',\n",
       "  'weight': 1.387},\n",
       " {'end': 'tire',\n",
       "  'end-lang': 'en',\n",
       "  'relation': 'RelatedTo',\n",
       "  'start': 'stagger',\n",
       "  'start-lang': 'en',\n",
       "  'weight': 1.0},\n",
       " {'end': 'tire',\n",
       "  'end-lang': 'en',\n",
       "  'relation': 'RelatedTo',\n",
       "  'start': 'stinger',\n",
       "  'start-lang': 'en',\n",
       "  'weight': 1.0},\n",
       " {'end': 'around',\n",
       "  'end-lang': 'en',\n",
       "  'relation': 'RelatedTo',\n",
       "  'start': 'tire',\n",
       "  'start-lang': 'en',\n",
       "  'weight': 0.17},\n",
       " {'end': 'around_wheel',\n",
       "  'end-lang': 'en',\n",
       "  'relation': 'RelatedTo',\n",
       "  'start': 'tire',\n",
       "  'start-lang': 'en',\n",
       "  'weight': 0.17},\n",
       " {'end': 'black',\n",
       "  'end-lang': 'en',\n",
       "  'relation': 'RelatedTo',\n",
       "  'start': 'tire',\n",
       "  'start-lang': 'en',\n",
       "  'weight': 0.138},\n",
       " {'end': 'car',\n",
       "  'end-lang': 'en',\n",
       "  'relation': 'RelatedTo',\n",
       "  'start': 'tire',\n",
       "  'start-lang': 'en',\n",
       "  'weight': 0.319},\n",
       " {'end': 'car_wheel',\n",
       "  'end-lang': 'en',\n",
       "  'relation': 'RelatedTo',\n",
       "  'start': 'tire',\n",
       "  'start-lang': 'en',\n",
       "  'weight': 0.319},\n",
       " {'end': 'donut',\n",
       "  'end-lang': 'en',\n",
       "  'relation': 'RelatedTo',\n",
       "  'start': 'tire',\n",
       "  'start-lang': 'en',\n",
       "  'weight': 0.194},\n",
       " {'end': 'doughnut',\n",
       "  'end-lang': 'en',\n",
       "  'relation': 'RelatedTo',\n",
       "  'start': 'tire',\n",
       "  'start-lang': 'en',\n",
       "  'weight': 0.127},\n",
       " {'end': 'exhausted',\n",
       "  'end-lang': 'en',\n",
       "  'relation': 'RelatedTo',\n",
       "  'start': 'tire',\n",
       "  'start-lang': 'en',\n",
       "  'weight': 0.169},\n",
       " {'end': 'inflatable',\n",
       "  'end-lang': 'en',\n",
       "  'relation': 'RelatedTo',\n",
       "  'start': 'tire',\n",
       "  'start-lang': 'en',\n",
       "  'weight': 0.305},\n",
       " {'end': 'inflatable_wheel',\n",
       "  'end-lang': 'en',\n",
       "  'relation': 'RelatedTo',\n",
       "  'start': 'tire',\n",
       "  'start-lang': 'en',\n",
       "  'weight': 0.305},\n",
       " {'end': 'on_wheel',\n",
       "  'end-lang': 'en',\n",
       "  'relation': 'RelatedTo',\n",
       "  'start': 'tire',\n",
       "  'start-lang': 'en',\n",
       "  'weight': 0.227},\n",
       " {'end': 'road',\n",
       "  'end-lang': 'en',\n",
       "  'relation': 'RelatedTo',\n",
       "  'start': 'tire',\n",
       "  'start-lang': 'en',\n",
       "  'weight': 0.217},\n",
       " {'end': 'round',\n",
       "  'end-lang': 'en',\n",
       "  'relation': 'RelatedTo',\n",
       "  'start': 'tire',\n",
       "  'start-lang': 'en',\n",
       "  'weight': 0.285},\n",
       " {'end': 'rubber',\n",
       "  'end-lang': 'en',\n",
       "  'relation': 'RelatedTo',\n",
       "  'start': 'tire',\n",
       "  'start-lang': 'en',\n",
       "  'weight': 0.843},\n",
       " {'end': 'rubber_round',\n",
       "  'end-lang': 'en',\n",
       "  'relation': 'RelatedTo',\n",
       "  'start': 'tire',\n",
       "  'start-lang': 'en',\n",
       "  'weight': 0.135},\n",
       " {'end': 'rubber_wheel',\n",
       "  'end-lang': 'en',\n",
       "  'relation': 'RelatedTo',\n",
       "  'start': 'tire',\n",
       "  'start-lang': 'en',\n",
       "  'weight': 0.163},\n",
       " {'end': 'tread',\n",
       "  'end-lang': 'en',\n",
       "  'relation': 'RelatedTo',\n",
       "  'start': 'tire',\n",
       "  'start-lang': 'en',\n",
       "  'weight': 0.15},\n",
       " {'end': 'weary',\n",
       "  'end-lang': 'en',\n",
       "  'relation': 'RelatedTo',\n",
       "  'start': 'tire',\n",
       "  'start-lang': 'en',\n",
       "  'weight': 0.168},\n",
       " {'end': 'wheel',\n",
       "  'end-lang': 'en',\n",
       "  'relation': 'RelatedTo',\n",
       "  'start': 'tire',\n",
       "  'start-lang': 'en',\n",
       "  'weight': 1.569},\n",
       " {'end': 'accessories',\n",
       "  'end-lang': 'en',\n",
       "  'relation': 'RelatedTo',\n",
       "  'start': 'tire',\n",
       "  'start-lang': 'en',\n",
       "  'weight': 1.0},\n",
       " {'end': 'accoutrements',\n",
       "  'end-lang': 'en',\n",
       "  'relation': 'RelatedTo',\n",
       "  'start': 'tire',\n",
       "  'start-lang': 'en',\n",
       "  'weight': 1.0},\n",
       " {'end': 'apron',\n",
       "  'end-lang': 'en',\n",
       "  'relation': 'RelatedTo',\n",
       "  'start': 'tire',\n",
       "  'start-lang': 'en',\n",
       "  'weight': 1.0},\n",
       " {'end': 'attire',\n",
       "  'end-lang': 'en',\n",
       "  'relation': 'RelatedTo',\n",
       "  'start': 'tire',\n",
       "  'start-lang': 'en',\n",
       "  'weight': 1.0},\n",
       " {'end': 'clothes',\n",
       "  'end-lang': 'en',\n",
       "  'relation': 'RelatedTo',\n",
       "  'start': 'tire',\n",
       "  'start-lang': 'en',\n",
       "  'weight': 1.0},\n",
       " {'end': 'dress',\n",
       "  'end-lang': 'en',\n",
       "  'relation': 'RelatedTo',\n",
       "  'start': 'tire',\n",
       "  'start-lang': 'en',\n",
       "  'weight': 1.0},\n",
       " {'end': 'locomotive',\n",
       "  'end-lang': 'en',\n",
       "  'relation': 'RelatedTo',\n",
       "  'start': 'tire',\n",
       "  'start-lang': 'en',\n",
       "  'weight': 1.0},\n",
       " {'end': 'pinafore',\n",
       "  'end-lang': 'en',\n",
       "  'relation': 'RelatedTo',\n",
       "  'start': 'tire',\n",
       "  'start-lang': 'en',\n",
       "  'weight': 1.0},\n",
       " {'end': 'railroad',\n",
       "  'end-lang': 'en',\n",
       "  'relation': 'RelatedTo',\n",
       "  'start': 'tire',\n",
       "  'start-lang': 'en',\n",
       "  'weight': 1.0},\n",
       " {'end': 'spare_tire',\n",
       "  'end-lang': 'en',\n",
       "  'relation': 'RelatedTo',\n",
       "  'start': 'tire',\n",
       "  'start-lang': 'en',\n",
       "  'weight': 1.0},\n",
       " {'end': 'tier',\n",
       "  'end-lang': 'en',\n",
       "  'relation': 'RelatedTo',\n",
       "  'start': 'tire',\n",
       "  'start-lang': 'en',\n",
       "  'weight': 1.0},\n",
       " {'end': 'tire_yard',\n",
       "  'end-lang': 'en',\n",
       "  'relation': 'RelatedTo',\n",
       "  'start': 'tire',\n",
       "  'start-lang': 'en',\n",
       "  'weight': 1.0},\n",
       " {'end': 'tyre',\n",
       "  'end-lang': 'en',\n",
       "  'relation': 'RelatedTo',\n",
       "  'start': 'tire',\n",
       "  'start-lang': 'en',\n",
       "  'weight': 1.0},\n",
       " {'end': 'rank',\n",
       "  'end-lang': 'en',\n",
       "  'relation': 'RelatedTo',\n",
       "  'start': 'tire',\n",
       "  'start-lang': 'en',\n",
       "  'weight': 1.0},\n",
       " {'end': 'row',\n",
       "  'end-lang': 'en',\n",
       "  'relation': 'RelatedTo',\n",
       "  'start': 'tire',\n",
       "  'start-lang': 'en',\n",
       "  'weight': 1.0},\n",
       " {'end': 'tier',\n",
       "  'end-lang': 'en',\n",
       "  'relation': 'RelatedTo',\n",
       "  'start': 'tire',\n",
       "  'start-lang': 'en',\n",
       "  'weight': 1.0},\n",
       " {'end': 'bore',\n",
       "  'end-lang': 'en',\n",
       "  'relation': 'RelatedTo',\n",
       "  'start': 'tire',\n",
       "  'start-lang': 'en',\n",
       "  'weight': 1.0},\n",
       " {'end': 'bored',\n",
       "  'end-lang': 'en',\n",
       "  'relation': 'RelatedTo',\n",
       "  'start': 'tire',\n",
       "  'start-lang': 'en',\n",
       "  'weight': 1.0},\n",
       " {'end': 'impatient',\n",
       "  'end-lang': 'en',\n",
       "  'relation': 'RelatedTo',\n",
       "  'start': 'tire',\n",
       "  'start-lang': 'en',\n",
       "  'weight': 1.0},\n",
       " {'end': 'sleepy',\n",
       "  'end-lang': 'en',\n",
       "  'relation': 'RelatedTo',\n",
       "  'start': 'tire',\n",
       "  'start-lang': 'en',\n",
       "  'weight': 1.0},\n",
       " {'end': 'tiresome',\n",
       "  'end-lang': 'en',\n",
       "  'relation': 'RelatedTo',\n",
       "  'start': 'tire',\n",
       "  'start-lang': 'en',\n",
       "  'weight': 1.0},\n",
       " {'end': 'weary',\n",
       "  'end-lang': 'en',\n",
       "  'relation': 'RelatedTo',\n",
       "  'start': 'tire',\n",
       "  'start-lang': 'en',\n",
       "  'weight': 1.0},\n",
       " {'end': 'adorn',\n",
       "  'end-lang': 'en',\n",
       "  'relation': 'RelatedTo',\n",
       "  'start': 'tire',\n",
       "  'start-lang': 'en',\n",
       "  'weight': 1.0},\n",
       " {'end': 'dress',\n",
       "  'end-lang': 'en',\n",
       "  'relation': 'RelatedTo',\n",
       "  'start': 'tire',\n",
       "  'start-lang': 'en',\n",
       "  'weight': 1.0},\n",
       " {'end': 'tiring_house',\n",
       "  'end-lang': 'en',\n",
       "  'relation': 'RelatedTo',\n",
       "  'start': 'tire',\n",
       "  'start-lang': 'en',\n",
       "  'weight': 1.0},\n",
       " {'end': 'tire',\n",
       "  'end-lang': 'en',\n",
       "  'relation': 'RelatedTo',\n",
       "  'start': 'tire_pressure',\n",
       "  'start-lang': 'en',\n",
       "  'weight': 1.0},\n",
       " {'end': 'tire',\n",
       "  'end-lang': 'en',\n",
       "  'relation': 'RelatedTo',\n",
       "  'start': 'tired',\n",
       "  'start-lang': 'en',\n",
       "  'weight': 1.0},\n",
       " {'end': 'tire',\n",
       "  'end-lang': 'en',\n",
       "  'relation': 'RelatedTo',\n",
       "  'start': 'tired',\n",
       "  'start-lang': 'en',\n",
       "  'weight': 1.0},\n",
       " {'end': 'tire',\n",
       "  'end-lang': 'en',\n",
       "  'relation': 'RelatedTo',\n",
       "  'start': 'tireless',\n",
       "  'start-lang': 'en',\n",
       "  'weight': 1.0},\n",
       " {'end': 'tire',\n",
       "  'end-lang': 'en',\n",
       "  'relation': 'RelatedTo',\n",
       "  'start': 'tireless',\n",
       "  'start-lang': 'en',\n",
       "  'weight': 1.0},\n",
       " {'end': 'tire',\n",
       "  'end-lang': 'en',\n",
       "  'relation': 'RelatedTo',\n",
       "  'start': 'tirelessly',\n",
       "  'start-lang': 'en',\n",
       "  'weight': 1.0},\n",
       " {'end': 'tire',\n",
       "  'end-lang': 'en',\n",
       "  'relation': 'RelatedTo',\n",
       "  'start': 'tirelike',\n",
       "  'start-lang': 'en',\n",
       "  'weight': 1.0},\n",
       " {'end': 'tire',\n",
       "  'end-lang': 'en',\n",
       "  'relation': 'RelatedTo',\n",
       "  'start': 'tiremaker',\n",
       "  'start-lang': 'en',\n",
       "  'weight': 1.0},\n",
       " {'end': 'tire',\n",
       "  'end-lang': 'en',\n",
       "  'relation': 'RelatedTo',\n",
       "  'start': 'tires',\n",
       "  'start-lang': 'en',\n",
       "  'weight': 1.0},\n",
       " {'end': 'tire',\n",
       "  'end-lang': 'en',\n",
       "  'relation': 'RelatedTo',\n",
       "  'start': 'tires',\n",
       "  'start-lang': 'en',\n",
       "  'weight': 1.0},\n",
       " {'end': 'tire',\n",
       "  'end-lang': 'en',\n",
       "  'relation': 'RelatedTo',\n",
       "  'start': 'tiring',\n",
       "  'start-lang': 'en',\n",
       "  'weight': 1.0},\n",
       " {'end': 'tire',\n",
       "  'end-lang': 'en',\n",
       "  'relation': 'RelatedTo',\n",
       "  'start': 'tiring',\n",
       "  'start-lang': 'en',\n",
       "  'weight': 1.0},\n",
       " {'end': 'tire',\n",
       "  'end-lang': 'en',\n",
       "  'relation': 'RelatedTo',\n",
       "  'start': 'tiring',\n",
       "  'start-lang': 'en',\n",
       "  'weight': 1.0},\n",
       " {'end': 'tire',\n",
       "  'end-lang': 'en',\n",
       "  'relation': 'RelatedTo',\n",
       "  'start': 'traction',\n",
       "  'start-lang': 'en',\n",
       "  'weight': 0.159},\n",
       " {'end': 'tire',\n",
       "  'end-lang': 'en',\n",
       "  'relation': 'RelatedTo',\n",
       "  'start': 'tread',\n",
       "  'start-lang': 'en',\n",
       "  'weight': 1.0},\n",
       " {'end': 'tire',\n",
       "  'end-lang': 'en',\n",
       "  'relation': 'RelatedTo',\n",
       "  'start': 'treadwear',\n",
       "  'start-lang': 'en',\n",
       "  'weight': 1.0},\n",
       " {'end': 'tire',\n",
       "  'end-lang': 'en',\n",
       "  'relation': 'RelatedTo',\n",
       "  'start': 'untiring',\n",
       "  'start-lang': 'en',\n",
       "  'weight': 1.0},\n",
       " {'end': 'tire',\n",
       "  'end-lang': 'en',\n",
       "  'relation': 'RelatedTo',\n",
       "  'start': 'unwearying',\n",
       "  'start-lang': 'en',\n",
       "  'weight': 1.0},\n",
       " {'end': 'tire',\n",
       "  'end-lang': 'en',\n",
       "  'relation': 'RelatedTo',\n",
       "  'start': 'upset',\n",
       "  'start-lang': 'en',\n",
       "  'weight': 1.0},\n",
       " {'end': 'tire',\n",
       "  'end-lang': 'en',\n",
       "  'relation': 'RelatedTo',\n",
       "  'start': 'wear_up',\n",
       "  'start-lang': 'en',\n",
       "  'weight': 1.0},\n",
       " {'end': 'tire',\n",
       "  'end-lang': 'en',\n",
       "  'relation': 'RelatedTo',\n",
       "  'start': 'wheel',\n",
       "  'start-lang': 'en',\n",
       "  'weight': 0.468},\n",
       " {'end': 'tire',\n",
       "  'end-lang': 'en',\n",
       "  'relation': 'RelatedTo',\n",
       "  'start': 'whitewall',\n",
       "  'start-lang': 'en',\n",
       "  'weight': 1.0},\n",
       " {'end': 'tire',\n",
       "  'end-lang': 'en',\n",
       "  'relation': 'Synonym',\n",
       "  'start': 'fag',\n",
       "  'start-lang': 'en',\n",
       "  'weight': 2.0},\n",
       " {'end': 'tire',\n",
       "  'end-lang': 'en',\n",
       "  'relation': 'Synonym',\n",
       "  'start': 'fag_out',\n",
       "  'start-lang': 'en',\n",
       "  'weight': 2.0},\n",
       " {'end': 'tire',\n",
       "  'end-lang': 'en',\n",
       "  'relation': 'Synonym',\n",
       "  'start': 'fatigue',\n",
       "  'start-lang': 'en',\n",
       "  'weight': 2.0},\n",
       " {'end': 'tire',\n",
       "  'end-lang': 'en',\n",
       "  'relation': 'Synonym',\n",
       "  'start': 'jade',\n",
       "  'start-lang': 'en',\n",
       "  'weight': 2.0},\n",
       " {'end': 'tire',\n",
       "  'end-lang': 'en',\n",
       "  'relation': 'Synonym',\n",
       "  'start': 'outwear',\n",
       "  'start-lang': 'en',\n",
       "  'weight': 2.0},\n",
       " {'end': 'tire',\n",
       "  'end-lang': 'en',\n",
       "  'relation': 'Synonym',\n",
       "  'start': 'pall',\n",
       "  'start-lang': 'en',\n",
       "  'weight': 2.0},\n",
       " {'end': 'tire',\n",
       "  'end-lang': 'en',\n",
       "  'relation': 'Synonym',\n",
       "  'start': 'tire',\n",
       "  'start-lang': 'en',\n",
       "  'weight': 0.5},\n",
       " {'end': 'tire',\n",
       "  'end-lang': 'en',\n",
       "  'relation': 'Synonym',\n",
       "  'start': 'tire',\n",
       "  'start-lang': 'en',\n",
       "  'weight': 0.5},\n",
       " {'end': 'bore',\n",
       "  'end-lang': 'en',\n",
       "  'relation': 'Synonym',\n",
       "  'start': 'tire',\n",
       "  'start-lang': 'en',\n",
       "  'weight': 2.0},\n",
       " {'end': 'run_down',\n",
       "  'end-lang': 'en',\n",
       "  'relation': 'Synonym',\n",
       "  'start': 'tire',\n",
       "  'start-lang': 'en',\n",
       "  'weight': 2.0},\n",
       " {'end': 'tire',\n",
       "  'end-lang': 'en',\n",
       "  'relation': 'Synonym',\n",
       "  'start': 'tire_out',\n",
       "  'start-lang': 'en',\n",
       "  'weight': 2.0},\n",
       " {'end': 'tire',\n",
       "  'end-lang': 'en',\n",
       "  'relation': 'Synonym',\n",
       "  'start': 'tyre',\n",
       "  'start-lang': 'en',\n",
       "  'weight': 2.0},\n",
       " {'end': 'tire',\n",
       "  'end-lang': 'en',\n",
       "  'relation': 'Synonym',\n",
       "  'start': 'wear',\n",
       "  'start-lang': 'en',\n",
       "  'weight': 2.0},\n",
       " {'end': 'tire',\n",
       "  'end-lang': 'en',\n",
       "  'relation': 'Synonym',\n",
       "  'start': 'wear_down',\n",
       "  'start-lang': 'en',\n",
       "  'weight': 2.0},\n",
       " {'end': 'tire',\n",
       "  'end-lang': 'en',\n",
       "  'relation': 'Synonym',\n",
       "  'start': 'wear_out',\n",
       "  'start-lang': 'en',\n",
       "  'weight': 2.0},\n",
       " {'end': 'tire',\n",
       "  'end-lang': 'en',\n",
       "  'relation': 'Synonym',\n",
       "  'start': 'wear_upon',\n",
       "  'start-lang': 'en',\n",
       "  'weight': 2.0},\n",
       " {'end': 'tire',\n",
       "  'end-lang': 'en',\n",
       "  'relation': 'Synonym',\n",
       "  'start': 'weary',\n",
       "  'start-lang': 'en',\n",
       "  'weight': 2.0},\n",
       " {'end': 'tire',\n",
       "  'end-lang': 'en',\n",
       "  'relation': 'dbpedia',\n",
       "  'start': 'pirelli',\n",
       "  'start-lang': 'en',\n",
       "  'weight': 0.5}]"
      ]
     },
     "execution_count": 11,
     "metadata": {},
     "output_type": "execute_result"
    }
   ],
   "source": [
    "conceptnet['tire']"
   ]
  },
  {
   "cell_type": "code",
   "execution_count": 12,
   "metadata": {
    "ExecuteTime": {
     "end_time": "2019-10-24T05:56:03.033319Z",
     "start_time": "2019-10-24T05:56:03.002851Z"
    }
   },
   "outputs": [],
   "source": [
    "hierarchical_relations_parent_child = ['HasA', 'MadeOf', 'HasPrerequisite']\n",
    "hierarchical_relations_child_parent = ['PartOf', 'IsA']"
   ]
  },
  {
   "cell_type": "code",
   "execution_count": 13,
   "metadata": {
    "ExecuteTime": {
     "end_time": "2019-10-24T05:56:03.069716Z",
     "start_time": "2019-10-24T05:56:03.035636Z"
    }
   },
   "outputs": [],
   "source": [
    "def get_neighbours_child_and_parents(conceptnet, concept, relation_types_get_child, relation_types_get_parent):\n",
    "    neighbours_childs = set(\n",
    "        (concept, concept_info['relation'], \"---->\", concept_info['end'])\n",
    "        for concept_info\n",
    "        in conceptnet[concept]\n",
    "        if concept_info['relation'] in relation_types_get_child\n",
    "    )\n",
    "    neighbours_parents = set(\n",
    "        (concept_info['start'], concept_info['relation'],  \"<----\", concept)\n",
    "        \n",
    "        for concept_info\n",
    "        in conceptnet[concept]\n",
    "        if concept_info['relation'] in relation_types_get_parent\n",
    "    )\n",
    "\n",
    "    return list(neighbours_childs.union(neighbours_parents))"
   ]
  },
  {
   "cell_type": "code",
   "execution_count": 14,
   "metadata": {
    "ExecuteTime": {
     "end_time": "2019-10-24T05:56:03.098941Z",
     "start_time": "2019-10-24T05:56:03.072120Z"
    }
   },
   "outputs": [
    {
     "data": {
      "text/plain": [
       "[('tire', 'IsA', '---->', 'tire'),\n",
       " ('tire', 'PartOf', '---->', 'automobile'),\n",
       " ('tire', 'IsA', '---->', 'wheel'),\n",
       " ('tire', 'IsA', '---->', 'part_for_wheeled_vehicles'),\n",
       " ('tire', 'MadeOf', '<----', 'tire'),\n",
       " ('car', 'HasPrerequisite', '<----', 'tire'),\n",
       " ('tire', 'IsA', '---->', 'hoop'),\n",
       " ('tire', 'PartOf', '---->', \"car's_wheel\"),\n",
       " ('tire', 'IsA', '---->', 'indispose'),\n",
       " ('tire', 'PartOf', '---->', 'car'),\n",
       " ('tire', 'IsA', '---->', 'devolve'),\n",
       " ('tire', 'IsA', '---->', 'non_powered_device')]"
      ]
     },
     "execution_count": 14,
     "metadata": {},
     "output_type": "execute_result"
    }
   ],
   "source": [
    "get_neighbours_child_and_parents(conceptnet, 'tire', hierarchical_relations_child_parent, hierarchical_relations_parent_child)"
   ]
  },
  {
   "cell_type": "code",
   "execution_count": 15,
   "metadata": {
    "ExecuteTime": {
     "end_time": "2019-10-24T05:56:03.131028Z",
     "start_time": "2019-10-24T05:56:03.100927Z"
    }
   },
   "outputs": [],
   "source": [
    "def get_concepts_based_on_hierarchy_relation(conceptnet, concept, relation_types_get_child, relation_types_get_parent):\n",
    "    neighbours_childs = set(\n",
    "        (concept_info['end'].replace('_', ' '), concept)\n",
    "        for concept_info\n",
    "        in conceptnet[concept]\n",
    "        if concept_info['relation'] in relation_types_get_child\n",
    "    )\n",
    "    neighbours_parents = set(\n",
    "        (concept_info['start'].replace('_', ' '), concept)\n",
    "        for concept_info\n",
    "        in conceptnet[concept]\n",
    "        if concept_info['relation'] in relation_types_get_parent\n",
    "    )\n",
    "\n",
    "    return list(neighbours_childs.union(neighbours_parents))"
   ]
  },
  {
   "cell_type": "code",
   "execution_count": 16,
   "metadata": {
    "ExecuteTime": {
     "end_time": "2019-10-24T05:56:03.162431Z",
     "start_time": "2019-10-24T05:56:03.132998Z"
    }
   },
   "outputs": [
    {
     "data": {
      "text/plain": [
       "[('using calculator', 'battery'),\n",
       " ('assault', 'battery'),\n",
       " ('source of current', 'battery'),\n",
       " ('solar energy system', 'battery'),\n",
       " ('electrical component', 'battery'),\n",
       " ('stamp mill', 'battery'),\n",
       " ('device stores energy chemically', 'battery'),\n",
       " ('start car', 'battery'),\n",
       " ('battery', 'battery'),\n",
       " ('voltage source', 'battery'),\n",
       " ('electrical device', 'battery'),\n",
       " ('collection', 'battery'),\n",
       " ('team', 'battery'),\n",
       " ('directed route', 'battery'),\n",
       " ('electrochemical cell', 'battery'),\n",
       " ('artillery', 'battery'),\n",
       " ('baseball team', 'battery'),\n",
       " ('power source', 'battery'),\n",
       " ('man made thing', 'battery')]"
      ]
     },
     "execution_count": 16,
     "metadata": {},
     "output_type": "execute_result"
    }
   ],
   "source": [
    "get_concepts_based_on_hierarchy_relation(conceptnet, 'battery', hierarchical_relations_child_parent, hierarchical_relations_parent_child)"
   ]
  },
  {
   "cell_type": "markdown",
   "metadata": {},
   "source": [
    "## Filter rules and aspects"
   ]
  },
  {
   "cell_type": "code",
   "execution_count": 17,
   "metadata": {
    "ExecuteTime": {
     "end_time": "2019-10-24T05:56:03.197286Z",
     "start_time": "2019-10-24T05:56:03.166611Z"
    }
   },
   "outputs": [],
   "source": [
    "aspect_rules_df = aspect_rules_df[aspect_rules_df.id1.isin(aspect_df_min_10_times.aspect.values) & aspect_rules_df.id2.isin(aspect_df_min_10_times.aspect.values)]"
   ]
  },
  {
   "cell_type": "code",
   "execution_count": 18,
   "metadata": {
    "ExecuteTime": {
     "end_time": "2019-10-24T05:56:03.229738Z",
     "start_time": "2019-10-24T05:56:03.200416Z"
    }
   },
   "outputs": [
    {
     "data": {
      "text/plain": [
       "946"
      ]
     },
     "execution_count": 18,
     "metadata": {},
     "output_type": "execute_result"
    }
   ],
   "source": [
    "len(aspect_df_min_10_times.aspect.values)"
   ]
  },
  {
   "cell_type": "code",
   "execution_count": 19,
   "metadata": {
    "ExecuteTime": {
     "end_time": "2019-10-24T05:56:03.953982Z",
     "start_time": "2019-10-24T05:56:03.231989Z"
    }
   },
   "outputs": [],
   "source": [
    "aspect_rules_df.drop_duplicates(inplace=True)"
   ]
  },
  {
   "cell_type": "code",
   "execution_count": 20,
   "metadata": {
    "ExecuteTime": {
     "end_time": "2019-10-24T05:56:03.992308Z",
     "start_time": "2019-10-24T05:56:03.956981Z"
    }
   },
   "outputs": [],
   "source": [
    "relations = list(zip(aspect_rules_df.id2, aspect_rules_df.id1))"
   ]
  },
  {
   "cell_type": "code",
   "execution_count": 21,
   "metadata": {
    "ExecuteTime": {
     "end_time": "2019-10-24T05:56:04.036773Z",
     "start_time": "2019-10-24T05:56:03.997251Z"
    }
   },
   "outputs": [
    {
     "data": {
      "text/plain": [
       "1551"
      ]
     },
     "execution_count": 21,
     "metadata": {},
     "output_type": "execute_result"
    }
   ],
   "source": [
    "len(relations)"
   ]
  },
  {
   "cell_type": "code",
   "execution_count": 22,
   "metadata": {
    "ExecuteTime": {
     "end_time": "2019-10-24T05:56:04.067691Z",
     "start_time": "2019-10-24T05:56:04.039125Z"
    }
   },
   "outputs": [],
   "source": [
    "# relations"
   ]
  },
  {
   "cell_type": "markdown",
   "metadata": {
    "ExecuteTime": {
     "end_time": "2019-10-24T05:35:13.714810Z",
     "start_time": "2019-10-24T05:35:13.582125Z"
    }
   },
   "source": [
    "## Add concepts from conceptnet "
   ]
  },
  {
   "cell_type": "code",
   "execution_count": 23,
   "metadata": {
    "ExecuteTime": {
     "end_time": "2019-10-24T05:56:08.504384Z",
     "start_time": "2019-10-24T05:56:08.485211Z"
    }
   },
   "outputs": [],
   "source": [
    "from more_itertools import flatten"
   ]
  },
  {
   "cell_type": "code",
   "execution_count": 24,
   "metadata": {
    "ExecuteTime": {
     "end_time": "2019-10-24T05:56:09.244744Z",
     "start_time": "2019-10-24T05:56:09.108628Z"
    }
   },
   "outputs": [],
   "source": [
    "conceptnet_relations = list(flatten([\n",
    "    get_concepts_based_on_hierarchy_relation(conceptnet, aspect, hierarchical_relations_child_parent, hierarchical_relations_parent_child)\n",
    "    for aspect\n",
    "    in aspect_df_min_10_times.aspect.values\n",
    "]))"
   ]
  },
  {
   "cell_type": "code",
   "execution_count": 25,
   "metadata": {
    "ExecuteTime": {
     "end_time": "2019-10-24T05:56:09.676790Z",
     "start_time": "2019-10-24T05:56:09.618970Z"
    }
   },
   "outputs": [
    {
     "data": {
      "text/plain": [
       "3099"
      ]
     },
     "execution_count": 25,
     "metadata": {},
     "output_type": "execute_result"
    }
   ],
   "source": [
    "len(conceptnet_relations)"
   ]
  },
  {
   "cell_type": "code",
   "execution_count": 26,
   "metadata": {
    "ExecuteTime": {
     "end_time": "2019-10-24T05:56:10.550571Z",
     "start_time": "2019-10-24T05:56:10.492118Z"
    }
   },
   "outputs": [],
   "source": [
    "all_relations = relations + conceptnet_relations"
   ]
  },
  {
   "cell_type": "code",
   "execution_count": 27,
   "metadata": {
    "ExecuteTime": {
     "end_time": "2019-10-24T05:56:11.411728Z",
     "start_time": "2019-10-24T05:56:11.355352Z"
    }
   },
   "outputs": [
    {
     "data": {
      "text/plain": [
       "4650"
      ]
     },
     "execution_count": 27,
     "metadata": {},
     "output_type": "execute_result"
    }
   ],
   "source": [
    "len(all_relations)"
   ]
  },
  {
   "cell_type": "markdown",
   "metadata": {},
   "source": [
    "## Filter aspects that are Named Entities [wrongly extracted during aspects extraction]"
   ]
  },
  {
   "cell_type": "code",
   "execution_count": 28,
   "metadata": {
    "ExecuteTime": {
     "end_time": "2019-10-24T05:56:14.790513Z",
     "start_time": "2019-10-24T05:56:14.744155Z"
    }
   },
   "outputs": [],
   "source": [
    "def is_named_entity(text):\n",
    "    return True if nlp(text).ents else False"
   ]
  },
  {
   "cell_type": "code",
   "execution_count": 29,
   "metadata": {
    "ExecuteTime": {
     "end_time": "2019-10-24T05:56:15.508447Z",
     "start_time": "2019-10-24T05:56:15.456609Z"
    }
   },
   "outputs": [],
   "source": [
    "# aspect_rules_df = aspect_rules_df[~aspect_rules_df.progress_apply(lambda row: any([is_named_entity(row.id1), is_named_entity(row.id2)]), axis=1)]"
   ]
  },
  {
   "cell_type": "code",
   "execution_count": 30,
   "metadata": {
    "ExecuteTime": {
     "end_time": "2019-10-24T05:56:16.143613Z",
     "start_time": "2019-10-24T05:56:16.094432Z"
    }
   },
   "outputs": [],
   "source": [
    "# aspect_rules_df"
   ]
  },
  {
   "cell_type": "markdown",
   "metadata": {},
   "source": [
    "## Train or load pre-trained embedding"
   ]
  },
  {
   "cell_type": "code",
   "execution_count": 64,
   "metadata": {
    "ExecuteTime": {
     "end_time": "2019-05-31T15:30:00.404738Z",
     "start_time": "2019-05-31T15:30:00.371866Z"
    }
   },
   "outputs": [
    {
     "name": "stderr",
     "output_type": "stream",
     "text": [
      "INFO:gensim.models.poincare:loading relations from train data..\n",
      "INFO:gensim.models.poincare:loaded 1551 relations from train data, 481 nodes\n"
     ]
    }
   ],
   "source": [
    "model = PoincareModel(train_data=all_relations, size=2, burn_in=0)"
   ]
  },
  {
   "cell_type": "code",
   "execution_count": 65,
   "metadata": {
    "ExecuteTime": {
     "end_time": "2019-05-31T15:30:33.003732Z",
     "start_time": "2019-05-31T15:30:01.431166Z"
    }
   },
   "outputs": [
    {
     "name": "stderr",
     "output_type": "stream",
     "text": [
      "INFO:gensim.models.poincare:training model of size 2 with 1 workers on 1551 relations for 100 epochs and 0 burn-in epochs, using lr=0.10000 burn-in lr=0.01000 negative=10\n",
      "INFO:gensim.models.poincare:starting training (100 epochs)----------------------------------------\n",
      "INFO:gensim.models.poincare:training finished\n"
     ]
    }
   ],
   "source": [
    "model.train(epochs=100, print_every=500)"
   ]
  },
  {
   "cell_type": "code",
   "execution_count": 66,
   "metadata": {
    "ExecuteTime": {
     "end_time": "2019-05-31T15:30:33.038335Z",
     "start_time": "2019-05-31T15:30:33.007901Z"
    }
   },
   "outputs": [
    {
     "name": "stderr",
     "output_type": "stream",
     "text": [
      "INFO:gensim.utils:saving PoincareModel object under aspect_rules_model, separately None\n",
      "INFO:gensim.utils:not storing attribute _node_counts_cumsum\n",
      "INFO:gensim.utils:not storing attribute _node_probabilities\n",
      "WARNING:smart_open.smart_open_lib:this function is deprecated, use smart_open.open instead\n",
      "INFO:gensim.utils:saved aspect_rules_model\n"
     ]
    }
   ],
   "source": [
    "# Saves the entire PoincareModel instance, the loaded model can be trained further\n",
    "model.save('aspect_rules_model')"
   ]
  },
  {
   "cell_type": "code",
   "execution_count": 67,
   "metadata": {
    "ExecuteTime": {
     "end_time": "2019-05-31T15:30:33.092739Z",
     "start_time": "2019-05-31T15:30:33.041265Z"
    }
   },
   "outputs": [
    {
     "name": "stderr",
     "output_type": "stream",
     "text": [
      "INFO:gensim.utils:loading PoincareModel object from aspect_rules_model\n",
      "WARNING:smart_open.smart_open_lib:this function is deprecated, use smart_open.open instead\n",
      "INFO:gensim.utils:loading kv recursively from aspect_rules_model.kv.* with mmap=None\n",
      "INFO:gensim.utils:setting ignored attribute _node_counts_cumsum to None\n",
      "INFO:gensim.utils:setting ignored attribute _node_probabilities to None\n",
      "INFO:gensim.utils:loaded aspect_rules_model\n"
     ]
    }
   ],
   "source": [
    "model = PoincareModel.load('aspect_rules_model')"
   ]
  },
  {
   "cell_type": "markdown",
   "metadata": {},
   "source": [
    "# Experiment with embeddings distances and other attributes"
   ]
  },
  {
   "cell_type": "code",
   "execution_count": 16,
   "metadata": {
    "ExecuteTime": {
     "end_time": "2019-05-31T15:01:10.850679Z",
     "start_time": "2019-05-31T15:01:10.828134Z"
    }
   },
   "outputs": [
    {
     "data": {
      "text/plain": [
       "0.8805650603076436"
      ]
     },
     "execution_count": 16,
     "metadata": {},
     "output_type": "execute_result"
    }
   ],
   "source": [
    "model.kv.distance('phone', 'battery')"
   ]
  },
  {
   "cell_type": "code",
   "execution_count": 17,
   "metadata": {
    "ExecuteTime": {
     "end_time": "2019-05-31T15:01:13.896427Z",
     "start_time": "2019-05-31T15:01:13.875522Z"
    }
   },
   "outputs": [
    {
     "data": {
      "text/plain": [
       "0.8805650603076436"
      ]
     },
     "execution_count": 17,
     "metadata": {},
     "output_type": "execute_result"
    }
   ],
   "source": [
    "model.kv.distance('battery', 'phone')"
   ]
  },
  {
   "cell_type": "code",
   "execution_count": 18,
   "metadata": {
    "ExecuteTime": {
     "end_time": "2019-05-31T15:01:15.017474Z",
     "start_time": "2019-05-31T15:01:14.996449Z"
    }
   },
   "outputs": [
    {
     "data": {
      "text/plain": [
       "0.837521578481867"
      ]
     },
     "execution_count": 18,
     "metadata": {},
     "output_type": "execute_result"
    }
   ],
   "source": [
    "model.kv.distance('battery', 'sound')"
   ]
  },
  {
   "cell_type": "code",
   "execution_count": 19,
   "metadata": {
    "ExecuteTime": {
     "end_time": "2019-05-31T15:01:15.704777Z",
     "start_time": "2019-05-31T15:01:15.669680Z"
    }
   },
   "outputs": [
    {
     "data": {
      "text/plain": [
       "[('europe', 0.08093198680902874),\n",
       " ('at & t', 0.08642383684136759),\n",
       " ('u.s.', 0.10222450055766011),\n",
       " ('accessory one', 0.11554119861045198),\n",
       " ('alltel', 0.14837914312316575),\n",
       " ('battery works', 0.15853504761528106),\n",
       " ('durability', 0.16727964344802884),\n",
       " ('extended life battery', 0.17513745444093765),\n",
       " ('never', 0.17926570359244448),\n",
       " ('bulky', 0.182199664237944)]"
      ]
     },
     "execution_count": 19,
     "metadata": {},
     "output_type": "execute_result"
    }
   ],
   "source": [
    "model.kv.most_similar('battery')"
   ]
  },
  {
   "cell_type": "code",
   "execution_count": 52,
   "metadata": {
    "ExecuteTime": {
     "end_time": "2019-05-27T16:59:24.705991Z",
     "start_time": "2019-05-27T16:59:24.678414Z"
    }
   },
   "outputs": [
    {
     "data": {
      "text/plain": [
       "'oem'"
      ]
     },
     "execution_count": 52,
     "metadata": {},
     "output_type": "execute_result"
    }
   ],
   "source": [
    "model.kv.closest_child('battery')"
   ]
  },
  {
   "cell_type": "code",
   "execution_count": 53,
   "metadata": {
    "ExecuteTime": {
     "end_time": "2019-05-27T16:59:24.765758Z",
     "start_time": "2019-05-27T16:59:24.710463Z"
    }
   },
   "outputs": [
    {
     "data": {
      "text/plain": [
       "'europe'"
      ]
     },
     "execution_count": 53,
     "metadata": {},
     "output_type": "execute_result"
    }
   ],
   "source": [
    "model.kv.closest_parent('battery')"
   ]
  },
  {
   "cell_type": "code",
   "execution_count": 54,
   "metadata": {
    "ExecuteTime": {
     "end_time": "2019-05-27T16:59:24.802201Z",
     "start_time": "2019-05-27T16:59:24.769285Z"
    }
   },
   "outputs": [
    {
     "data": {
      "text/plain": [
       "['voice command',\n",
       " 'operating system',\n",
       " 'ipod',\n",
       " 'quality sound',\n",
       " 'voice quality',\n",
       " 'size',\n",
       " 'power',\n",
       " 'shipping charge',\n",
       " 'built',\n",
       " 'ear hook']"
      ]
     },
     "execution_count": 54,
     "metadata": {},
     "output_type": "execute_result"
    }
   ],
   "source": [
    "model.kv.ancestors('phone')"
   ]
  },
  {
   "cell_type": "code",
   "execution_count": 55,
   "metadata": {
    "ExecuteTime": {
     "end_time": "2019-05-27T16:59:24.851059Z",
     "start_time": "2019-05-27T16:59:24.805406Z"
    }
   },
   "outputs": [
    {
     "data": {
      "text/plain": [
       "['outlook', 'nokia', 'earpiece', 'ear speaker', 'sync']"
      ]
     },
     "execution_count": 55,
     "metadata": {},
     "output_type": "execute_result"
    }
   ],
   "source": [
    "model.kv.descendants('phone')"
   ]
  },
  {
   "cell_type": "code",
   "execution_count": 56,
   "metadata": {
    "ExecuteTime": {
     "end_time": "2019-05-27T16:59:24.878026Z",
     "start_time": "2019-05-27T16:59:24.853163Z"
    }
   },
   "outputs": [],
   "source": [
    "# Saves only the vectors from the PoincareModel instance, in the commonly used word2vec format\n",
    "# model.kv.save_word2vec_format('aspect_rules_vectors')\n",
    "# PoincareKeyedVectors.load_word2vec_format('aspect_rules_vectors')"
   ]
  },
  {
   "cell_type": "code",
   "execution_count": 57,
   "metadata": {
    "ExecuteTime": {
     "end_time": "2019-05-27T16:59:24.911029Z",
     "start_time": "2019-05-27T16:59:24.879905Z"
    }
   },
   "outputs": [
    {
     "data": {
      "text/plain": [
       "127"
      ]
     },
     "execution_count": 57,
     "metadata": {},
     "output_type": "execute_result"
    }
   ],
   "source": [
    "# Rank of distance of node 2 from node 1 in relation to distances of all nodes from node 1\n",
    "model.kv.rank('phone', 'battery')"
   ]
  },
  {
   "cell_type": "code",
   "execution_count": 58,
   "metadata": {
    "ExecuteTime": {
     "end_time": "2019-05-27T16:59:24.941233Z",
     "start_time": "2019-05-27T16:59:24.912915Z"
    }
   },
   "outputs": [
    {
     "data": {
      "text/plain": [
       "'battery life'"
      ]
     },
     "execution_count": 58,
     "metadata": {},
     "output_type": "execute_result"
    }
   ],
   "source": [
    "# Closest child node\n",
    "model.kv.closest_child('sound')"
   ]
  },
  {
   "cell_type": "code",
   "execution_count": 59,
   "metadata": {
    "ExecuteTime": {
     "end_time": "2019-05-27T16:59:24.967959Z",
     "start_time": "2019-05-27T16:59:24.943889Z"
    }
   },
   "outputs": [
    {
     "data": {
      "text/plain": [
       "'carry'"
      ]
     },
     "execution_count": 59,
     "metadata": {},
     "output_type": "execute_result"
    }
   ],
   "source": [
    "# Closest child node\n",
    "model.kv.closest_parent('bluetooth')"
   ]
  },
  {
   "cell_type": "code",
   "execution_count": 60,
   "metadata": {
    "ExecuteTime": {
     "end_time": "2019-05-27T16:59:24.992826Z",
     "start_time": "2019-05-27T16:59:24.969980Z"
    }
   },
   "outputs": [],
   "source": [
    "# # Position in hierarchy - lower values represent that the node is higher in the hierarchy\n",
    "# print(model.kv.norm('virginia_deer.n.01'))\n",
    "# print(model.kv.norm('sheep.n.01'))\n",
    "# print(model.kv.norm('dog.n.01'))\n",
    "# print(model.kv.norm('placental.n.01'))\n",
    "# print(model.kv.norm('mammal.n.01'))"
   ]
  },
  {
   "cell_type": "code",
   "execution_count": 61,
   "metadata": {
    "ExecuteTime": {
     "end_time": "2019-05-27T16:59:25.019478Z",
     "start_time": "2019-05-27T16:59:24.995597Z"
    }
   },
   "outputs": [
    {
     "name": "stdout",
     "output_type": "stream",
     "text": [
      "0.14496697992576207\n"
     ]
    }
   ],
   "source": [
    "# Difference in hierarchy between the first node and the second node\n",
    "# Positive values indicate the first node is higher in the hierarchy\n",
    "print(model.kv.difference_in_hierarchy('phone', 'battery'))"
   ]
  },
  {
   "cell_type": "code",
   "execution_count": 78,
   "metadata": {
    "ExecuteTime": {
     "end_time": "2019-05-27T17:03:44.741918Z",
     "start_time": "2019-05-27T17:03:44.687156Z"
    }
   },
   "outputs": [
    {
     "name": "stdout",
     "output_type": "stream",
     "text": [
      "-0.28312252769231994\n"
     ]
    }
   ],
   "source": [
    "print(model.kv.difference_in_hierarchy('battery', 'battery life'))"
   ]
  },
  {
   "cell_type": "code",
   "execution_count": 76,
   "metadata": {
    "ExecuteTime": {
     "end_time": "2019-05-27T17:02:10.985160Z",
     "start_time": "2019-05-27T17:02:10.938204Z"
    }
   },
   "outputs": [
    {
     "data": {
      "text/plain": [
       "0.35453929420589597"
      ]
     },
     "execution_count": 76,
     "metadata": {},
     "output_type": "execute_result"
    }
   ],
   "source": [
    "model.kv.difference_in_hierarchy('bluetooth', 'headset')"
   ]
  },
  {
   "cell_type": "code",
   "execution_count": 81,
   "metadata": {
    "ExecuteTime": {
     "end_time": "2019-05-27T17:04:23.392492Z",
     "start_time": "2019-05-27T17:04:23.348549Z"
    }
   },
   "outputs": [
    {
     "data": {
      "text/plain": [
       "-0.007124859370829295"
      ]
     },
     "execution_count": 81,
     "metadata": {},
     "output_type": "execute_result"
    }
   ],
   "source": [
    "model.kv.difference_in_hierarchy('charger', 'phone')"
   ]
  },
  {
   "cell_type": "code",
   "execution_count": 82,
   "metadata": {
    "ExecuteTime": {
     "end_time": "2019-05-27T17:04:51.686115Z",
     "start_time": "2019-05-27T17:04:51.629611Z"
    }
   },
   "outputs": [
    {
     "data": {
      "text/plain": [
       "0.04070938856988271"
      ]
     },
     "execution_count": 82,
     "metadata": {},
     "output_type": "execute_result"
    }
   ],
   "source": [
    "model.kv.difference_in_hierarchy('signal', 'phone')"
   ]
  },
  {
   "cell_type": "code",
   "execution_count": 65,
   "metadata": {
    "ExecuteTime": {
     "end_time": "2019-05-27T16:59:25.148176Z",
     "start_time": "2019-05-27T16:59:25.117576Z"
    }
   },
   "outputs": [
    {
     "data": {
      "text/plain": [
       "['battery life', 'volume controls', 'ear pieces', 'aa', 'bad']"
      ]
     },
     "execution_count": 65,
     "metadata": {},
     "output_type": "execute_result"
    }
   ],
   "source": [
    "# One possible descendant chain\n",
    "model.kv.descendants('sound')"
   ]
  },
  {
   "cell_type": "code",
   "execution_count": 66,
   "metadata": {
    "ExecuteTime": {
     "end_time": "2019-05-27T16:59:25.179230Z",
     "start_time": "2019-05-27T16:59:25.149967Z"
    }
   },
   "outputs": [
    {
     "data": {
      "text/plain": [
       "['controls',\n",
       " 'music',\n",
       " 'amazon',\n",
       " 'priced',\n",
       " 'quality',\n",
       " 'volume buttons',\n",
       " 'use',\n",
       " 'ear hook']"
      ]
     },
     "execution_count": 66,
     "metadata": {},
     "output_type": "execute_result"
    }
   ],
   "source": [
    "# One possible ancestor chain\n",
    "model.kv.ancestors('sound')"
   ]
  },
  {
   "cell_type": "markdown",
   "metadata": {},
   "source": [
    "# Visualization"
   ]
  },
  {
   "cell_type": "code",
   "execution_count": 67,
   "metadata": {
    "ExecuteTime": {
     "end_time": "2019-05-27T16:59:25.204334Z",
     "start_time": "2019-05-27T16:59:25.181421Z"
    }
   },
   "outputs": [],
   "source": [
    "from gensim.viz.poincare import poincare_2d_visualization, poincare_distance_heatmap"
   ]
  },
  {
   "cell_type": "code",
   "execution_count": 68,
   "metadata": {
    "ExecuteTime": {
     "end_time": "2019-05-27T16:59:25.234922Z",
     "start_time": "2019-05-27T16:59:25.207240Z"
    }
   },
   "outputs": [],
   "source": [
    "all_relations = list(set(relations))"
   ]
  },
  {
   "cell_type": "code",
   "execution_count": 69,
   "metadata": {
    "ExecuteTime": {
     "end_time": "2019-05-27T16:59:25.262369Z",
     "start_time": "2019-05-27T16:59:25.237213Z"
    }
   },
   "outputs": [],
   "source": [
    "show_node_labels = ['phone', 'battery', 'sound', 'bluetooth', 'headset', 'price']\n",
    "filtered_set = set()\n",
    "for relation in all_relations:\n",
    "    if relation[0] in show_node_labels and relation[1] in show_node_labels:\n",
    "        filtered_set.add(relation)"
   ]
  },
  {
   "cell_type": "code",
   "execution_count": 70,
   "metadata": {
    "ExecuteTime": {
     "end_time": "2019-05-27T16:59:25.292561Z",
     "start_time": "2019-05-27T16:59:25.264485Z"
    },
    "scrolled": true
   },
   "outputs": [
    {
     "data": {
      "text/plain": [
       "{('battery', 'phone'),\n",
       " ('battery', 'price'),\n",
       " ('bluetooth', 'price'),\n",
       " ('bluetooth', 'sound'),\n",
       " ('headset', 'bluetooth'),\n",
       " ('phone', 'battery'),\n",
       " ('phone', 'bluetooth'),\n",
       " ('phone', 'price'),\n",
       " ('price', 'battery'),\n",
       " ('price', 'bluetooth'),\n",
       " ('price', 'headset'),\n",
       " ('price', 'phone'),\n",
       " ('price', 'sound'),\n",
       " ('sound', 'price')}"
      ]
     },
     "execution_count": 70,
     "metadata": {},
     "output_type": "execute_result"
    }
   ],
   "source": [
    "filtered_set"
   ]
  },
  {
   "cell_type": "code",
   "execution_count": 71,
   "metadata": {
    "ExecuteTime": {
     "end_time": "2019-05-27T16:59:25.322427Z",
     "start_time": "2019-05-27T16:59:25.295256Z"
    }
   },
   "outputs": [],
   "source": [
    "from plotly.offline import download_plotlyjs, init_notebook_mode, plot, iplot"
   ]
  },
  {
   "cell_type": "code",
   "execution_count": 84,
   "metadata": {
    "ExecuteTime": {
     "end_time": "2019-05-27T17:52:01.654865Z",
     "start_time": "2019-05-27T17:52:01.630769Z"
    }
   },
   "outputs": [
    {
     "data": {
      "text/html": [
       "        <script type=\"text/javascript\">\n",
       "        window.PlotlyConfig = {MathJaxConfig: 'local'};\n",
       "        if (window.MathJax) {MathJax.Hub.Config({SVG: {font: \"STIX-Web\"}});}\n",
       "        if (typeof require !== 'undefined') {\n",
       "        require.undef(\"plotly\");\n",
       "        requirejs.config({\n",
       "            paths: {\n",
       "                'plotly': ['https://cdn.plot.ly/plotly-latest.min']\n",
       "            }\n",
       "        });\n",
       "        require(['plotly'], function(Plotly) {\n",
       "            window._Plotly = Plotly;\n",
       "        });\n",
       "        }\n",
       "        </script>\n",
       "        "
      ]
     },
     "metadata": {},
     "output_type": "display_data"
    }
   ],
   "source": [
    "init_notebook_mode(connected=True)"
   ]
  },
  {
   "cell_type": "code",
   "execution_count": 73,
   "metadata": {
    "ExecuteTime": {
     "end_time": "2019-05-27T16:59:25.580064Z",
     "start_time": "2019-05-27T16:59:25.353171Z"
    },
    "scrolled": true
   },
   "outputs": [],
   "source": [
    "fig = poincare_2d_visualization(model, filtered_set, \"Poincare Hierarchy\", show_node_labels=show_node_labels)"
   ]
  },
  {
   "cell_type": "code",
   "execution_count": 2,
   "metadata": {
    "ExecuteTime": {
     "end_time": "2019-05-31T14:59:16.078582Z",
     "start_time": "2019-05-31T14:59:15.969169Z"
    },
    "scrolled": false
   },
   "outputs": [
    {
     "ename": "NameError",
     "evalue": "name 'iplot' is not defined",
     "output_type": "error",
     "traceback": [
      "\u001b[0;31m-------------------------------------------------\u001b[0m",
      "\u001b[0;31mNameError\u001b[0m       Traceback (most recent call last)",
      "\u001b[0;32m<ipython-input-2-6f60ac8e7a15>\u001b[0m in \u001b[0;36m<module>\u001b[0;34m\u001b[0m\n\u001b[0;32m----> 1\u001b[0;31m \u001b[0miplot\u001b[0m\u001b[0;34m(\u001b[0m\u001b[0mfig\u001b[0m\u001b[0;34m)\u001b[0m\u001b[0;34m\u001b[0m\u001b[0;34m\u001b[0m\u001b[0m\n\u001b[0m",
      "\u001b[0;31mNameError\u001b[0m: name 'iplot' is not defined"
     ]
    }
   ],
   "source": [
    "iplot(fig)"
   ]
  },
  {
   "cell_type": "code",
   "execution_count": 50,
   "metadata": {
    "ExecuteTime": {
     "end_time": "2019-05-27T10:59:39.422688Z",
     "start_time": "2019-05-27T10:59:39.153096Z"
    }
   },
   "outputs": [
    {
     "data": {
      "application/vnd.plotly.v1+json": {
       "config": {
        "linkText": "Export to plot.ly",
        "plotlyServerURL": "https://plot.ly",
        "responsive": true,
        "showLink": false
       },
       "data": [
        {
         "hoverinfo": "none",
         "line": {
          "color": "rgb(50,50,50)",
          "width": 1
         },
         "mode": "lines",
         "type": "scatter",
         "uid": "da397137-8184-49e6-ac59-d49425aedfff",
         "x": [
          -0.6425262783272001,
          -0.08014612906267288,
          null,
          -0.08014612906267288,
          0.009894782772219552,
          null,
          -0.08014612906267288,
          -0.2360527442965828,
          null,
          -0.6425262783272001,
          -0.2360527442965828,
          null,
          -0.2360527442965828,
          -0.3874352242972503,
          null,
          0.009894782772219552,
          -0.08014612906267288,
          null,
          -0.08014612906267288,
          -0.6425262783272001,
          null,
          -0.2360527442965828,
          -0.08014612906267288,
          null,
          0.009894782772219552,
          0.3337634120958199,
          null,
          -0.08014612906267288,
          0.3337634120958199,
          null,
          -0.2360527442965828,
          0.3337634120958199,
          null,
          0.3337634120958199,
          0.009894782772219552,
          null,
          0.3337634120958199,
          -0.08014612906267288,
          null,
          -0.3874352242972503,
          -0.08014612906267288,
          null
         ],
         "y": [
          -0.15625334817745298,
          0.1498333951291198,
          null,
          0.1498333951291198,
          0.2968574733811302,
          null,
          0.1498333951291198,
          -0.11135694104910206,
          null,
          -0.15625334817745298,
          -0.11135694104910206,
          null,
          -0.11135694104910206,
          -0.18097482959690206,
          null,
          0.2968574733811302,
          0.1498333951291198,
          null,
          0.1498333951291198,
          -0.15625334817745298,
          null,
          -0.11135694104910206,
          0.1498333951291198,
          null,
          0.2968574733811302,
          0.017275233121071987,
          null,
          0.1498333951291198,
          0.017275233121071987,
          null,
          -0.11135694104910206,
          0.017275233121071987,
          null,
          0.017275233121071987,
          0.2968574733811302,
          null,
          0.017275233121071987,
          0.1498333951291198,
          null,
          -0.18097482959690206,
          0.1498333951291198,
          null
         ]
        },
        {
         "marker": {
          "color": "rgb(30, 100, 200)"
         },
         "mode": "markers",
         "text": [
          "mike",
          "accord",
          "outlook",
          "sidekick ii",
          "bluetooth",
          "web browsing",
          "java",
          "amazon",
          "forever",
          "volume",
          "motorola",
          "price",
          "tl",
          "works",
          "seller",
          "power cord",
          "cord",
          "verizon",
          "phone",
          "keyboard",
          "battery",
          "sprint",
          "headset works",
          "sound",
          "sound quality",
          "horrible",
          "shipping cost",
          "shipping",
          "china",
          "quality",
          "caller id",
          "nokia",
          "garmin",
          "case",
          "usb",
          "customer service",
          "boxwave",
          "use",
          "quality case",
          "quality leather",
          "sony",
          "ear",
          "size",
          "nokia 6600",
          "screen",
          "key pad",
          "speaker phone",
          "camera quality",
          "ear pieces",
          "junk",
          "razr v3",
          "samsung",
          "jabra",
          "interface",
          "battery life",
          "performance",
          "charger",
          "memory",
          "picture quality",
          "bluetooth connection",
          "lg",
          "operation",
          "bluetooth headset",
          "functionality",
          "system",
          "range",
          "palm",
          "at&t",
          "retractable feature",
          "software",
          "pictures",
          "video",
          "video camera",
          "mmc",
          "bluetooth keyboard",
          "htc",
          "charging cord",
          "plantronics",
          "ac",
          "dc",
          "blackberry",
          "power",
          "volume buttons",
          "lenovo",
          "design",
          "quality sound",
          "priced",
          "items",
          "audio quality",
          "sena",
          "leather",
          "vzw",
          "features",
          "uk",
          "europe",
          "volume control",
          "ebay",
          "micro",
          "voyager 510",
          "headset",
          "kindle",
          "key",
          "case works",
          "microphone",
          "us",
          "gsm",
          "usa",
          "camera",
          "slvr",
          "camera phone",
          "resolution",
          "la",
          "weight",
          "palm centro",
          "music",
          "microsoft",
          "phone quality",
          "sansa",
          "charger works",
          "plug",
          "att",
          "display",
          "li",
          "look",
          "sony ericsson",
          "blueant",
          "buttons",
          "speaker volume",
          "moto",
          "ear piece",
          "motorola bluetooth",
          "motorolas",
          "bestbuy",
          "worst",
          "ear loop",
          "fit",
          "pda",
          "krusell",
          "palm tx",
          "hard case",
          "leather case",
          "pearl",
          "treo",
          "650",
          "skype",
          "shipped",
          "driver",
          "apple",
          "function key",
          "vtech",
          "headphones",
          "keys",
          "motorola razr v3",
          "jawbone",
          "clear",
          "sony ericsson t610",
          "value",
          "lg cu500",
          "ipod",
          "service",
          "v60",
          "signal",
          "tn",
          "cell",
          "belkin",
          "volume button",
          "krzr",
          "color",
          "otterbox",
          "setup",
          "blackberry pearl",
          "blackberry curve",
          "usb ports",
          "power buttons",
          "japan",
          "korea",
          "hong kong",
          "build quality",
          "youtube",
          "iphone",
          "hardware",
          "controls",
          "games",
          "germany",
          "tw",
          "free",
          "voice quality",
          "install",
          "windows",
          "kyocera",
          "body glove",
          "blackberrys",
          "cingular",
          "amazon.com",
          "mic",
          "voice dial",
          "set up",
          "connection",
          "tomtom",
          "discovery",
          "ear hook",
          "sf",
          "menus",
          "pim",
          "aim",
          "msn",
          "phone works",
          "call quality",
          "connectivity",
          "holds",
          "tech support",
          "control buttons",
          "volume controls",
          "panasonic",
          "kindle fire",
          "screen protector",
          "switch",
          "shipping charge",
          "v3xx",
          "touch screen",
          "battery charger",
          "motorolla",
          "xp",
          "vista",
          "phone features",
          "display screen",
          "wireless",
          "cingular service",
          "motorola razr",
          "battery works",
          "nintendo",
          "nyc",
          "reception",
          "led",
          "power supply",
          "zune",
          "radio shack",
          "sound volume",
          "cardo scala",
          "hp",
          "graphics",
          "wow",
          "applications",
          "keypad",
          "sidekick",
          "ford",
          "extended battery",
          "durability",
          "at & t",
          "time",
          "screen quality",
          "built",
          "programs",
          "sync",
          "speaker",
          "edges",
          "return shipping",
          "warranty",
          "functions",
          "cover",
          "stereo",
          "voice command",
          "carry",
          "handsfree",
          "button",
          "ear speaker",
          "smartphone",
          "cell phone",
          "handy",
          "windows mobile",
          "tmobile",
          "kensington",
          "rma",
          "brazil",
          "gmail",
          "adapter",
          "usb port",
          "speakers",
          "function",
          "os",
          "voq",
          "performs",
          "datapilot",
          "car charger",
          "scala",
          "earbuds",
          "sim",
          "k790a",
          "sony ericsson 's",
          "connect",
          "quality charger",
          "macbook pro",
          "powerbook",
          "tq",
          "user interface",
          "nokias",
          "ui",
          "specs",
          "katana",
          "quality construction",
          "power charger",
          "small size",
          "wep200",
          "menu",
          "audio",
          "oem",
          "mda",
          "uniden",
          "kwh",
          "velcro",
          "ericson",
          "tracfone",
          "belt clip",
          "target",
          "stylus",
          "windows xp",
          "clip",
          "florida",
          "brand",
          "power button",
          "feature",
          "headphone jack",
          "honda",
          "browser",
          "pdf",
          "ericsson",
          "t28",
          "stand",
          "case fits",
          "treo 700w",
          "media player",
          "atrix",
          "phone case",
          "super",
          "logitech",
          "droid",
          "sd",
          "wife",
          "ever",
          "siemens",
          "lights",
          "bluetooth signal",
          "dsp",
          "aaa",
          "instructions",
          "brightness",
          "screen size",
          "macbook",
          "a2dp",
          "ipods",
          "bass",
          "mac",
          "w810i",
          "memory card",
          "contacts",
          "form factor",
          "bt8010",
          "usb cord",
          "gps",
          "wal-mart",
          "office",
          "settings",
          "camera resolution",
          "mb",
          "tdma",
          "signal quality",
          "photo",
          "operating system",
          "bt",
          "ipad",
          "nokia 3650",
          "navigate",
          "usb cable",
          "joe",
          "v60i",
          "blue",
          "support",
          "wilson",
          "external screen",
          "cs",
          "program",
          "u.s.",
          "bulky",
          "walkman",
          "installation",
          "android",
          "looks",
          "standby",
          "background noise",
          "i drive",
          "bad",
          "razor",
          "charging port",
          "parrot",
          "voyager",
          "bluetooth headsets",
          "messenger",
          "bluetooth works",
          "canon",
          "extended life battery",
          "blackberry 7100",
          "qwerty keyboard",
          "external display",
          "picture",
          "earpiece",
          "color screen",
          "aux",
          "processor",
          "size ear",
          "micro usb",
          "gprs",
          "headset jack",
          "lesson",
          "jeep",
          "samsung galaxy",
          "mexico",
          "wap",
          "sf planet",
          "staples",
          "voice dialing",
          "price tag",
          "cost",
          "treos",
          "batteries",
          "bargain cell",
          "portability",
          "alltel",
          "awful",
          "scosche",
          "motorola droid",
          "razrs",
          "mouse",
          "layout",
          "thinkpad",
          "touchpad",
          "linux",
          "build",
          "usb charger",
          "dash",
          "construction",
          "galaxy",
          "operate",
          "sonyericsson",
          "nextel",
          "light",
          "never",
          "ii",
          "style",
          "accessory one",
          "clarity",
          "retractable",
          "eforcity",
          "tom tom",
          "ir port",
          "cingular/at & t",
          "ir",
          "neat",
          "fitting",
          "easy",
          "lithium",
          "vonage",
          "stowaway",
          "the",
          "touch",
          "coby",
          "multipoint technology",
          "the sidekick ii",
          "hs850",
          "pro",
          "product works",
          "cam",
          "web browser",
          "customer support",
          "set",
          "tpu",
          "blue ant",
          "im",
          "qwerty",
          "adaptor",
          "extended warranty",
          "aa"
         ],
         "textposition": "bottom center",
         "type": "scatter",
         "uid": "c7b4efd4-5ded-4a9e-8349-781c0dec5d20",
         "x": [
          0.34801558940972954,
          0.34030358272855504,
          0.6022929065204594,
          0.456189950758094,
          -0.2360527442965828,
          0.8010089460981493,
          0.8937491842802187,
          -0.12117934656540018,
          0.8015073322357825,
          -0.5392080292022716,
          -0.23023818024495288,
          -0.08014612906267288,
          0.5182016841079419,
          -0.18240894053653892,
          -0.3060031845124627,
          -0.15945704604971833,
          -0.6015034194475698,
          0.049456180139251474,
          0.3337634120958199,
          0.5439806683669396,
          0.009894782772219552,
          0.2791883887452977,
          -0.45968608675801287,
          -0.6425262783272001,
          -0.5345721962464832,
          -0.6534544528384773,
          -0.3028138089378823,
          -0.27087787574099836,
          0.8496444428127992,
          -0.06403537189503682,
          -0.03758620417458151,
          0.28340966698573783,
          -0.2450186064470227,
          0.17831251565778689,
          -0.3107312695747534,
          0.12721153797216214,
          0.47485946108665994,
          -0.18041884410317163,
          -0.01746603385974296,
          0.12391913987206613,
          -0.2567652810188571,
          -0.9373770653931632,
          -0.4162730898932285,
          0.12180915545972462,
          0.5001755145964956,
          0.9637327199731296,
          0.2922352158618587,
          0.3630202507100881,
          -0.9215066827158495,
          -0.0474307253897662,
          0.1043623247540073,
          0.05852041092068921,
          -0.7224390388077305,
          0.6340410692865899,
          -0.10480242933355213,
          -0.17484352248706103,
          -0.25017138751637263,
          0.9816072946029231,
          0.9657920163990539,
          -0.6662857713645205,
          0.16368868187921942,
          -0.496855374210856,
          -0.46931124209705943,
          0.8016559398412019,
          -0.46101026616666424,
          -0.542211085550111,
          0.12423515360307585,
          0.3303919135550508,
          -0.5533995269031389,
          0.8041267314213835,
          0.6850094804890513,
          0.9304848927673025,
          0.8906067679053368,
          0.8215881234022712,
          0.29912245924498476,
          0.2455281488681409,
          -0.17130208078159653,
          -0.31122126462021177,
          -0.9315546579179882,
          -0.9745690593757056,
          0.1104128801130401,
          0.5075773675176088,
          -0.8247113244089338,
          0.505712297978098,
          0.03375381287450597,
          0.48343828216519696,
          0.00983753039098842,
          -0.031069390749838256,
          -0.04915001550217556,
          0.16170893240695225,
          0.22217928757968367,
          -0.5486364090351956,
          0.36960301471963414,
          0.6795367500074581,
          0.7878182551691336,
          0.5181945931191965,
          -0.05954325692571875,
          -0.6830721038343199,
          -0.19592281006848253,
          -0.3874352242972503,
          -0.38981458917573963,
          0.7302926012426284,
          0.1841746934162682,
          -0.49056304366167003,
          0.593070535667347,
          0.5995433165797309,
          0.8434652028992299,
          0.8385740649363614,
          -0.16015437512776592,
          0.23010440499290843,
          0.4505372562636541,
          0.4161105126254074,
          0.35676093474405896,
          -0.20685240384667886,
          -0.23213902818820148,
          0.16981334808040097,
          0.46308910826846067,
          -0.4436658593553251,
          -0.24465641189329537,
          -0.46177991273974667,
          -0.14725971295774903,
          0.09036534491916143,
          -0.11636424799335353,
          -0.5376738941472259,
          -0.14453287430225864,
          -0.2488851645631899,
          0.3247049259617842,
          -0.6658539267756559,
          -0.6610602552896165,
          -0.6489437245124307,
          -0.01972792653248856,
          0.19063364489682483,
          -0.15772738231671712,
          -0.6380722581325453,
          -0.7170457701851144,
          -0.9107965287598945,
          0.38131274979860175,
          0.4311060217158434,
          0.33228751024029746,
          0.4079327805260117,
          0.40204878772058855,
          0.8855230900579825,
          0.006373905434382216,
          -0.10481172348780142,
          -0.6754372186229404,
          -0.5847267834360308,
          0.6666556509739643,
          -0.16598390492512916,
          0.6800316331216182,
          -0.08062025777617898,
          0.13369578458623943,
          0.6185204179318187,
          -0.11350258314839341,
          -0.6365397367727956,
          0.48474070128118024,
          -0.2057279964263151,
          -0.06801783048120749,
          0.468529880288639,
          0.9289623724955537,
          0.3705019748206014,
          -0.06518712339553669,
          0.008579036760441671,
          -0.13211477298887683,
          -0.10399516016393254,
          -0.24738038104128743,
          0.0533015945396806,
          -0.2902886649457664,
          -0.06707002475568313,
          -0.06410338473120485,
          -0.11011033869684428,
          -0.404641598259206,
          -0.06891589512887912,
          -0.6435454401352348,
          0.3349725755081645,
          0.9598147614272586,
          0.95962869489445,
          0.9593202578988097,
          0.6077390908871463,
          -0.07981803694008253,
          0.5184021756158539,
          0.4445504449383086,
          -0.4144146781988478,
          0.8123807953348153,
          0.7981536633675483,
          0.22999531759656586,
          0.522323838081679,
          -0.09185149176352189,
          0.8765562013585164,
          -0.23409078893380095,
          0.008079308458872902,
          0.5238368717328136,
          0.8294488996302753,
          0.3568941666629842,
          0.29732613516122564,
          -0.9311967953242104,
          -0.7604986363312597,
          -0.5234719872032606,
          -0.6735136096366517,
          -0.33907685449532354,
          -0.5356483171542998,
          -0.12417104019707091,
          0.12052080488051524,
          0.9752251929654091,
          0.8337254351030127,
          0.752838198053941,
          0.8646686088072505,
          0.8601823621141625,
          0.37681790560733175,
          -0.8052448275909986,
          -0.5964374374558945,
          0.6306770354637131,
          -0.9259732472983602,
          -0.91569730438887,
          -0.41952285452549665,
          -0.3504503873974541,
          0.19301586545844396,
          -0.6431099437426603,
          0.3002609201112818,
          -0.3429855606277091,
          0.8857492403609298,
          -0.05057245171667726,
          0.05511667670966391,
          0.06093621884243604,
          0.05881352716556635,
          0.885839303799695,
          0.3379819538699783,
          -0.13491629128236604,
          0.20560641043783484,
          0.2060962469860299,
          -0.25193196754231834,
          0.5940409778889979,
          0.547487608081315,
          0.44773559068951835,
          -0.7107093184711789,
          0.17522050546410772,
          -0.3204054499355672,
          -0.7148753616941772,
          -0.19937346323191754,
          -0.14373819032604768,
          -0.023783048846781202,
          0.7989153716579819,
          0.8304970059505989,
          0.408696648508866,
          0.7814893687132193,
          0.8512070574199725,
          -0.6003551300878316,
          -0.3118502145854255,
          -0.19768948181107424,
          -0.035175106092773405,
          0.04692043197318516,
          0.8042691092883328,
          0.22776326186948664,
          0.7666465618833086,
          0.8815485168508079,
          0.30661704573882703,
          -0.0645407648653294,
          0.2097807691105336,
          -0.1410038441474168,
          0.8384441024145123,
          -0.06664100952046509,
          -0.27263387364050073,
          0.26861693618885985,
          -0.776571739674298,
          0.635027778485052,
          0.45433020845670474,
          0.8334131483134891,
          0.6992041990673438,
          0.36636704557496924,
          -0.8386837163243964,
          -0.4447199374034808,
          0.9544305298812062,
          -0.8940351996815359,
          -0.5665538128203714,
          -0.23547350621137272,
          0.9588178652508328,
          0.24270503882955957,
          -0.5872884551101208,
          -0.4833303649773553,
          0.6516594221774256,
          0.43817071165566274,
          0.0831617748977865,
          -0.5391310076115385,
          0.314545201858859,
          -0.050633419087706785,
          -0.41312450542974977,
          -0.9776018546686234,
          0.7763321700504769,
          0.5593200572645239,
          0.6676004311489782,
          0.32799670902653655,
          -0.23691818378088939,
          -0.42210810892955686,
          0.33215736651014605,
          -0.038403912539162,
          0.5403755976565447,
          0.5598193396352068,
          0.533950464911884,
          0.24158337446554337,
          0.5131120187355835,
          0.12219758439318446,
          -0.265700956796426,
          -0.6479693772779258,
          0.19473647532057806,
          -0.17705471844855886,
          -0.5452338210984865,
          0.32205355910148525,
          0.7734133844107982,
          -0.03344979187683909,
          0.3071480075565016,
          -0.6860767002792668,
          0.3118876255160356,
          -0.022904925439747394,
          -0.3419790987382549,
          -0.5079075869242974,
          0.2835846310010229,
          -0.23416143840067796,
          -0.7604395779601448,
          0.2652053561410513,
          -0.9126740248287374,
          0.7943444578840991,
          0.35905431683320577,
          0.8969238418042235,
          -0.7681540914787285,
          0.5963354682050598,
          0.5949225708470836,
          -0.6645171552472569,
          -0.7154335711398359,
          -0.21768255048246435,
          0.11991800966200435,
          0.32355655458802485,
          0.34495224451041046,
          -0.057292341751729634,
          0.5021757418690502,
          -0.28190490310448907,
          -0.39354894489393216,
          -0.5206709168837442,
          0.9741127273355419,
          -0.30600400571448494,
          -0.2905056850770994,
          0.3270433078079858,
          -0.7494781444520064,
          -0.9215904369624343,
          -0.5714913926367035,
          -0.9198803973526714,
          -0.9160085339630871,
          -0.21681549586863133,
          0.4736100120558927,
          0.22506372889550622,
          0.21374213699828043,
          0.22688137046506043,
          0.20373214700368508,
          0.9676614343354231,
          -0.1758615814101046,
          0.8334933934667893,
          0.803195339490111,
          -0.568049598302846,
          -0.05496811624650295,
          -0.6445942211298706,
          -0.14645379548619078,
          -0.09148094678886662,
          0.8208818884551023,
          0.8496990659771197,
          0.8343309682546456,
          0.8552623624409669,
          0.8316959947802915,
          0.8848662449044624,
          0.8079174121444581,
          -0.28124997096865006,
          -0.17107840258500936,
          0.2538654379209219,
          -0.5389540064902918,
          0.4920050959418798,
          0.18746463776569672,
          0.5991719060457638,
          0.5982888877556628,
          -0.5494168386011694,
          0.2983114853404314,
          0.2984609028915153,
          0.9064612413245162,
          0.9480829126302752,
          0.9471716322764717,
          0.8798961746773964,
          -0.19226101230522843,
          0.6422718378833786,
          0.09763419320243577,
          -0.6404803293097491,
          0.6020649087697599,
          0.6017559383311226,
          -0.6198302954700065,
          0.14888950718616642,
          -0.7911022668568686,
          -0.01475043075787575,
          -0.7099056115302187,
          -0.4758787318297565,
          0.7546141775084215,
          0.8571304443921052,
          0.5673164469467796,
          -0.5424713324867895,
          -0.687706826328232,
          -0.3086489060267492,
          -0.6043480492180707,
          0.7957621758297395,
          0.7986188460541674,
          0.17266969467664423,
          0.8903233147466474,
          0.8030459118587311,
          -0.5286814908947125,
          0.888780239225898,
          0.8564498586610464,
          0.268970470982626,
          0.9080849448253281,
          0.883160282486192,
          0.24590652194796928,
          -0.574040304674069,
          -0.771616313297065,
          0.8764877913762704,
          0.9359782794890338,
          0.13707165991259487,
          -0.5201372744008347,
          -0.755224991737648,
          0.40786548197451794,
          0.19520227699578627,
          -0.1127000073786569,
          0.07890025992398357,
          -0.5331245781300289,
          -0.6476196655691143,
          -0.1659310080508133,
          0.4835280093942466,
          -0.7905041943155732,
          -0.3570019062741958,
          0.3334370448884586,
          0.21752908438251994,
          0.7107123775344796,
          0.7217040042282226,
          0.699161779743128,
          0.643815909344502,
          0.8254282067599371,
          -0.11067991255218854,
          -0.043145715168478004,
          0.5057780533735757,
          -0.05501204243046287,
          -0.8490869113660282,
          0.39157831880427096,
          -0.02578485488937334,
          -0.5232263118228355,
          -0.20101767285796812,
          0.5347293280680439,
          0.7845278176763751,
          -0.026760370807071967,
          -0.5446002339942486,
          -0.2633434858869033,
          -0.7283550792749248,
          -0.32647470496943376,
          0.35635731072313737,
          0.31481728477795207,
          0.3887058559664811,
          0.19623473526116916,
          -0.4597644181284802,
          -0.3086052420896072,
          0.12187382655837664,
          -0.7822637848293033,
          0.7675168055711747,
          0.7153447098493313,
          -0.6156912135005995,
          0.03802845541979315,
          -0.16647163538681264,
          0.2424188020331389,
          -0.510023581590785,
          -0.056334169740093455,
          0.21456846655339418,
          0.008502017828831941,
          0.7877566979331977,
          0.7520694939905711,
          -0.7342303488479649,
          0.3225684132108135,
          -0.204243183968757,
          0.5626570896448957,
          0.8253187168824812,
          -0.763533124195323,
          -0.11712487200545663,
          -0.03775203855555295
         ],
         "y": [
          -0.8610586403136558,
          -0.8592619962109207,
          0.7862263315913943,
          -0.2000275381286414,
          -0.11135694104910206,
          -0.3431145117792645,
          -0.30396850288440835,
          0.1560738060072431,
          -0.3413964949959152,
          -0.6717500796270399,
          -0.08826778960749966,
          0.1498333951291198,
          -0.4806281734625993,
          0.16033614394819173,
          0.4503090927035485,
          0.9705422454783251,
          0.31323055494657526,
          0.1306834179002882,
          0.017275233121071987,
          -0.4698423834662127,
          0.2968574733811302,
          0.12888088010053353,
          -0.3005101686516908,
          -0.15625334817745298,
          -0.11375311501350792,
          -0.15783135251584438,
          0.9217499384693203,
          0.49112985200673587,
          0.22126505653007808,
          0.12751271506184716,
          -0.011622662446482041,
          -0.03888652615871243,
          -0.6554094282157312,
          -0.12303086337079493,
          0.17449917817105742,
          0.6287552418027927,
          -0.14916981958652423,
          -0.12883981635096559,
          0.4065290613387943,
          0.7484511869194997,
          0.16763612108833503,
          -0.17403382157770375,
          -0.0477322174476853,
          -0.10393934821403486,
          -0.12284313249465864,
          0.024463715539934948,
          -0.6955192844710764,
          -0.9125005662582845,
          -0.15498315252009326,
          0.050523926413431834,
          -0.8572874272414035,
          0.08057476548206038,
          -0.22328997840523102,
          0.18700141565982847,
          0.5866520186176021,
          0.28287205822969236,
          0.18427914711130922,
          -0.04734050687708962,
          -0.04517395952149755,
          -0.5173426399185752,
          0.308892769701286,
          -0.8034746701937255,
          -0.7011295999788785,
          0.26529589172140683,
          -0.8487430093157898,
          -0.795168400784221,
          -0.3508177558196182,
          -0.1489223262774799,
          0.7148700305685786,
          -0.4367213237939434,
          0.7120007868521152,
          -0.07576796321266711,
          0.023666718041013866,
          0.023358372213184434,
          -0.3719054510509798,
          -0.41977756910229364,
          0.9443846749861609,
          -0.12555254031094326,
          0.1152640967442318,
          0.09518510116700614,
          -0.3995258210234713,
          0.5393922995099654,
          0.5301317628404192,
          -0.19123125940505195,
          -0.44754774704803885,
          0.8113181788879245,
          0.7849831075162581,
          0.5659895342094,
          0.2827875123290854,
          0.7007158015506828,
          0.8811021677109773,
          0.7487107381815701,
          0.04707247266530884,
          0.7008884844275299,
          0.3016339214568567,
          -0.14298328578040478,
          0.3825078886923477,
          0.608445180196927,
          -0.026544547931155744,
          -0.18097482959690206,
          0.3195390463642561,
          -0.6590220960739313,
          -0.4257121986047955,
          -0.7062761181117099,
          0.21377727953562117,
          0.23207586714307657,
          0.5079273580980066,
          0.277892118867465,
          0.47011981675866,
          0.1574542502176944,
          0.1369648670613206,
          0.47435946879913465,
          0.4554257912868836,
          0.9316775624510122,
          0.9385415934878201,
          -0.9734118815002885,
          0.8733402436168318,
          0.6548281700002393,
          0.10732183506761742,
          0.21955375835332644,
          0.049643133555611896,
          -0.9842737089026586,
          0.8923570096919091,
          -0.657669971248572,
          -0.02420722196085966,
          0.1650853316234505,
          0.8621349121416637,
          0.5917975328786862,
          0.44181907558813716,
          -0.12831147714858265,
          -0.03479913007669824,
          -0.8918197190402359,
          -0.976463752902076,
          -0.5209464518867688,
          -0.5231113190882067,
          -0.367953301201207,
          -0.46765282905637057,
          -0.41028473038007707,
          -0.686846055939477,
          -0.38522956795601937,
          -0.2522466248171197,
          -0.25735464671108804,
          -0.14237797454956375,
          -0.23364925010214166,
          -0.29869331594283727,
          0.2197345921041803,
          -0.6915705255295056,
          -0.545787000504747,
          -0.6837246105681556,
          0.21913608280544844,
          -0.2304924260195522,
          -0.5187652502470517,
          0.19795851096060085,
          -0.18031804569253593,
          -0.16422132819439353,
          -0.16027488044816818,
          -0.3110563357124462,
          -0.14545525903191683,
          -0.3054010667195396,
          0.49094759591138354,
          0.22713240959064807,
          0.9838491915961375,
          -0.7039500055668234,
          -0.9467800465422654,
          -0.6172948149470714,
          -0.16134559997284492,
          0.12038055097345961,
          -0.8993853330609126,
          -0.8961275761676869,
          -0.21249994960652482,
          -0.15090581524844593,
          -0.7170718636643836,
          0.46586352875915005,
          0.8862757716531093,
          0.2537470177425644,
          0.25368161198008965,
          0.2535969936874757,
          -0.7558041201923613,
          0.19041228902244844,
          -0.48611400539488303,
          -0.5267400909132951,
          0.8342220165885985,
          0.35435817669892117,
          0.34410401966930665,
          0.28768894365564285,
          0.7521249752554344,
          0.9224218850296696,
          -0.4487674045487431,
          -0.9529068198903964,
          0.7492310288670091,
          0.8340000789635674,
          0.5006493604104751,
          -0.1471950987935436,
          -0.8224456183970958,
          -0.27960357563755256,
          -0.004377531512444499,
          -0.12984350138385678,
          -0.48948857800157597,
          0.28290586523895683,
          -0.2249524699391341,
          0.9802537899033603,
          0.9610290263083229,
          -0.06846011346840457,
          0.46936623199305216,
          0.6449587727490799,
          0.3988583519881089,
          0.40191629762286524,
          0.11607267005960006,
          -0.527430736780963,
          0.5996736550724137,
          0.2965529397939495,
          -0.17136716568339158,
          -0.22207112877308863,
          -0.41658109702984214,
          0.3296353068377615,
          -0.7797033350113787,
          -0.7411548131291539,
          -0.9376108326498814,
          -0.8664948635677844,
          0.1170311913816095,
          -0.9512495179283995,
          -0.9647201136930532,
          -0.9578908913700047,
          -0.9603568594362796,
          -0.23047200596908587,
          0.4640874256333071,
          -0.40863142358419074,
          -0.9163662466059485,
          -0.9156099707390647,
          0.6842381031197986,
          -0.15138197310175264,
          0.7190469762773708,
          0.8503044501559944,
          -0.16959316197978108,
          0.22756303532472819,
          0.5772604638938481,
          0.6783250787650753,
          -0.8445743885003595,
          -0.9576848289096224,
          -0.3385759591867329,
          -0.35157497555838013,
          -0.3140808180162489,
          -0.4215534076144488,
          -0.3239714137454149,
          -0.403616169010627,
          -0.14005871910982468,
          -0.9377545286324296,
          0.8744942968338085,
          0.8920392190905516,
          -0.9451455368734086,
          0.5048436914368383,
          0.9537095783536741,
          0.5637286012931415,
          0.4195070337684605,
          -0.19643802210723926,
          -0.8914122053846043,
          -0.766330188609278,
          -0.5803591050158078,
          0.11661661322775196,
          -0.9013186352032238,
          -0.38856822470822194,
          0.9174473756085804,
          0.6068565768678434,
          -0.6358913242037957,
          -0.8609769745177683,
          0.1912922080233202,
          -0.6272853418683622,
          -0.28055505842533357,
          0.3755813665143877,
          -0.22225894036496815,
          -0.2358039207669215,
          -0.36067764751218795,
          0.8009017397843998,
          0.47886957049054973,
          0.12169818788145584,
          -0.9229175860180925,
          0.052113969659914675,
          -0.7108523679312624,
          -0.7352056559274647,
          -0.8864739275914589,
          -0.8615084904533917,
          0.7191778497180732,
          -0.26775396705965715,
          0.17637778659395664,
          -0.9011590613664203,
          -0.13712848887725151,
          0.6193997270559061,
          0.5103129638069293,
          0.6133883129386274,
          0.2518801084347424,
          0.2545049555648474,
          0.8053010502291251,
          0.2463956997303284,
          -0.017622465366814742,
          -0.7451366697085647,
          -0.7275087549382866,
          -0.7554690877903198,
          -0.7778444141977321,
          -0.1714782524410807,
          0.7483338568173791,
          -0.6676699814342295,
          -0.15715178956389678,
          0.165517065204586,
          0.8853304464911668,
          -0.7921637454532531,
          0.05250357317481122,
          0.24706967596436408,
          0.21363672140583648,
          0.0772619016733101,
          -0.16515666535414267,
          0.17892204723302763,
          0.10146918764516472,
          0.8966517388226865,
          0.09258776936683859,
          0.19334169943631505,
          -0.9532808124357763,
          -0.4811039067411335,
          -0.8134278096734702,
          0.31658762176344996,
          0.579313969437002,
          0.20508429417427754,
          -0.3980096446830452,
          0.4989309137480398,
          -0.7616378435832387,
          -0.7599654735909159,
          0.639560647051252,
          0.5486146811066661,
          0.7718930713163296,
          -0.8953233476057507,
          -0.8138812064606155,
          -0.8642957647440755,
          0.6425543900514541,
          -0.1997473088793578,
          -0.3917290084275343,
          -0.7498224943297409,
          0.7626922161459296,
          -0.16729195070318328,
          -0.8365207413375363,
          -0.575000666994754,
          -0.03370136112509097,
          0.5505673223480488,
          -0.2023251254397531,
          0.011852678915209157,
          -0.3460747370954556,
          0.07011012831268687,
          -0.6767565931853924,
          -0.8524754137545336,
          -0.7934007091825633,
          -0.7766226673946287,
          -0.9073946996024723,
          -0.7993033481536388,
          -0.06867882812215462,
          0.02458000386246096,
          0.00877150865661934,
          0.09059215748690491,
          -0.19671678885776267,
          0.02673076201353442,
          0.7185961515895078,
          -0.8410779826265818,
          -0.4810244136699361,
          -0.20017622390884443,
          -0.21716835739814,
          -0.1358382193836582,
          -0.08017983811161686,
          -0.23360068460347005,
          -0.18372421327905508,
          -0.19549816184515326,
          -0.9039869988464495,
          -0.05866882584002222,
          -0.8863952144290097,
          -0.10609167045908349,
          0.8198033296942894,
          0.30143221722073815,
          -0.7275201588842057,
          -0.7265601510357288,
          -0.6634817797109208,
          -0.8837161114738764,
          -0.8811153299841754,
          0.2945506207014564,
          -0.21465716565456522,
          -0.21315093318207765,
          0.3484478263076394,
          0.8882296915082559,
          0.6998732679834017,
          -0.8537723084513216,
          0.7525612486095404,
          0.6527092859784668,
          0.6528343829159552,
          0.6930821979493633,
          0.13938201080595064,
          -0.4734896892515411,
          0.1258830009175204,
          0.5881329614861767,
          -0.615637717437118,
          -0.35266364585702886,
          -0.38493575493041027,
          -0.8132316719247364,
          -0.6492295662263624,
          0.564671460991922,
          -0.9269283759309886,
          -0.7244438440948576,
          -0.4125764133903749,
          -0.35178273145567024,
          -0.7936909896442655,
          0.0027808457897136934,
          -0.2332339774622764,
          -0.09715446783259438,
          0.2539900650769306,
          -0.05923200118843909,
          -0.4370338272270392,
          -0.03265613347643893,
          0.0003572865089931617,
          -0.7902288388007723,
          0.6948147820275286,
          0.5784481707747458,
          0.13234036485140543,
          0.20569604883231993,
          0.5895306853852178,
          -0.22282395110503897,
          -0.4857364774845252,
          -0.7912628940652865,
          0.19768678272126772,
          -0.9371142357484294,
          0.13253288228537824,
          -0.5693800457777496,
          -0.15396165216056606,
          0.8717335804969158,
          -0.059854867415785266,
          -0.059400299535660096,
          -0.8960542437262841,
          0.10915217789718606,
          -0.3117306120611073,
          -0.6672644917032408,
          -0.6323285359834504,
          -0.6947420464753473,
          -0.6524747778372283,
          0.01440490003619177,
          0.2766542944902392,
          0.19702896736158607,
          -0.45024465493106247,
          0.07386710513220979,
          -0.4537560904261577,
          0.09602568234565839,
          0.05267381996774216,
          -0.6479812669530123,
          0.8781887764522819,
          -0.4134289211731231,
          -0.2588491126604804,
          0.9038556650696458,
          -0.8019289732389869,
          -0.1070652668906838,
          0.5490621941497021,
          0.15445504495265017,
          -0.8057910327072357,
          -0.7154418020643939,
          -0.8310995621545932,
          -0.754230861001917,
          0.77945585636172,
          -0.16152465647515707,
          0.9082960466445532,
          -0.4647468024271948,
          -0.6235933245960965,
          -0.5872673008131415,
          -0.5409226420695697,
          0.28453926118482226,
          -0.5571662488939616,
          -0.21743888423635926,
          -0.1934807887428352,
          0.12946765974764113,
          0.8909376119665852,
          0.983658533936862,
          -0.5959623720064918,
          -0.6379271875546584,
          -0.532090804008766,
          0.8492193335674866,
          -0.07724967919141196,
          -0.10024183710043669,
          -0.037858476709600526,
          0.5968793423477347,
          -0.1964463556926971,
          0.9265327443530904
         ]
        },
        {
         "marker": {
          "color": "rgb(200, 100, 200)"
         },
         "mode": "markers+text",
         "text": [
          "phone",
          "battery",
          "sound",
          "bluetooth",
          "headset",
          "price"
         ],
         "textposition": "bottom center",
         "type": "scatter",
         "uid": "4ee88c77-10d7-417c-833b-bf555310c57d",
         "x": [
          0.3337634120958199,
          0.009894782772219552,
          -0.6425262783272001,
          -0.2360527442965828,
          -0.3874352242972503,
          -0.08014612906267288
         ],
         "y": [
          0.017275233121071987,
          0.2968574733811302,
          -0.15625334817745298,
          -0.11135694104910206,
          -0.18097482959690206,
          0.1498333951291198
         ]
        }
       ],
       "layout": {
        "height": 800,
        "hovermode": "closest",
        "showlegend": false,
        "title": {
         "text": "Poincare Hierarchy"
        },
        "width": 800
       }
      },
      "text/html": [
       "<div>\n",
       "        \n",
       "        \n",
       "            <div id=\"465abeb5-0db6-490d-afc6-58adf96ad8ea\" class=\"plotly-graph-div\" style=\"height:800px; width:800px;\"></div>\n",
       "            <script type=\"text/javascript\">\n",
       "                require([\"plotly\"], function(Plotly) {\n",
       "                    window.PLOTLYENV=window.PLOTLYENV || {};\n",
       "                    window.PLOTLYENV.BASE_URL='https://plot.ly';\n",
       "                    \n",
       "                if (document.getElementById(\"465abeb5-0db6-490d-afc6-58adf96ad8ea\")) {\n",
       "                    Plotly.newPlot(\n",
       "                        '465abeb5-0db6-490d-afc6-58adf96ad8ea',\n",
       "                        [{\"hoverinfo\": \"none\", \"line\": {\"color\": \"rgb(50,50,50)\", \"width\": 1}, \"mode\": \"lines\", \"type\": \"scatter\", \"uid\": \"61d497ff-8282-4c8f-b1ed-9d38651ad9cf\", \"x\": [-0.6425262783272001, -0.08014612906267288, null, -0.08014612906267288, 0.009894782772219552, null, -0.08014612906267288, -0.2360527442965828, null, -0.6425262783272001, -0.2360527442965828, null, -0.2360527442965828, -0.3874352242972503, null, 0.009894782772219552, -0.08014612906267288, null, -0.08014612906267288, -0.6425262783272001, null, -0.2360527442965828, -0.08014612906267288, null, 0.009894782772219552, 0.3337634120958199, null, -0.08014612906267288, 0.3337634120958199, null, -0.2360527442965828, 0.3337634120958199, null, 0.3337634120958199, 0.009894782772219552, null, 0.3337634120958199, -0.08014612906267288, null, -0.3874352242972503, -0.08014612906267288, null], \"y\": [-0.15625334817745298, 0.1498333951291198, null, 0.1498333951291198, 0.2968574733811302, null, 0.1498333951291198, -0.11135694104910206, null, -0.15625334817745298, -0.11135694104910206, null, -0.11135694104910206, -0.18097482959690206, null, 0.2968574733811302, 0.1498333951291198, null, 0.1498333951291198, -0.15625334817745298, null, -0.11135694104910206, 0.1498333951291198, null, 0.2968574733811302, 0.017275233121071987, null, 0.1498333951291198, 0.017275233121071987, null, -0.11135694104910206, 0.017275233121071987, null, 0.017275233121071987, 0.2968574733811302, null, 0.017275233121071987, 0.1498333951291198, null, -0.18097482959690206, 0.1498333951291198, null]}, {\"marker\": {\"color\": \"rgb(30, 100, 200)\"}, \"mode\": \"markers\", \"text\": [\"mike\", \"accord\", \"outlook\", \"sidekick ii\", \"bluetooth\", \"web browsing\", \"java\", \"amazon\", \"forever\", \"volume\", \"motorola\", \"price\", \"tl\", \"works\", \"seller\", \"power cord\", \"cord\", \"verizon\", \"phone\", \"keyboard\", \"battery\", \"sprint\", \"headset works\", \"sound\", \"sound quality\", \"horrible\", \"shipping cost\", \"shipping\", \"china\", \"quality\", \"caller id\", \"nokia\", \"garmin\", \"case\", \"usb\", \"customer service\", \"boxwave\", \"use\", \"quality case\", \"quality leather\", \"sony\", \"ear\", \"size\", \"nokia 6600\", \"screen\", \"key pad\", \"speaker phone\", \"camera quality\", \"ear pieces\", \"junk\", \"razr v3\", \"samsung\", \"jabra\", \"interface\", \"battery life\", \"performance\", \"charger\", \"memory\", \"picture quality\", \"bluetooth connection\", \"lg\", \"operation\", \"bluetooth headset\", \"functionality\", \"system\", \"range\", \"palm\", \"at&t\", \"retractable feature\", \"software\", \"pictures\", \"video\", \"video camera\", \"mmc\", \"bluetooth keyboard\", \"htc\", \"charging cord\", \"plantronics\", \"ac\", \"dc\", \"blackberry\", \"power\", \"volume buttons\", \"lenovo\", \"design\", \"quality sound\", \"priced\", \"items\", \"audio quality\", \"sena\", \"leather\", \"vzw\", \"features\", \"uk\", \"europe\", \"volume control\", \"ebay\", \"micro\", \"voyager 510\", \"headset\", \"kindle\", \"key\", \"case works\", \"microphone\", \"us\", \"gsm\", \"usa\", \"camera\", \"slvr\", \"camera phone\", \"resolution\", \"la\", \"weight\", \"palm centro\", \"music\", \"microsoft\", \"phone quality\", \"sansa\", \"charger works\", \"plug\", \"att\", \"display\", \"li\", \"look\", \"sony ericsson\", \"blueant\", \"buttons\", \"speaker volume\", \"moto\", \"ear piece\", \"motorola bluetooth\", \"motorolas\", \"bestbuy\", \"worst\", \"ear loop\", \"fit\", \"pda\", \"krusell\", \"palm tx\", \"hard case\", \"leather case\", \"pearl\", \"treo\", \"650\", \"skype\", \"shipped\", \"driver\", \"apple\", \"function key\", \"vtech\", \"headphones\", \"keys\", \"motorola razr v3\", \"jawbone\", \"clear\", \"sony ericsson t610\", \"value\", \"lg cu500\", \"ipod\", \"service\", \"v60\", \"signal\", \"tn\", \"cell\", \"belkin\", \"volume button\", \"krzr\", \"color\", \"otterbox\", \"setup\", \"blackberry pearl\", \"blackberry curve\", \"usb ports\", \"power buttons\", \"japan\", \"korea\", \"hong kong\", \"build quality\", \"youtube\", \"iphone\", \"hardware\", \"controls\", \"games\", \"germany\", \"tw\", \"free\", \"voice quality\", \"install\", \"windows\", \"kyocera\", \"body glove\", \"blackberrys\", \"cingular\", \"amazon.com\", \"mic\", \"voice dial\", \"set up\", \"connection\", \"tomtom\", \"discovery\", \"ear hook\", \"sf\", \"menus\", \"pim\", \"aim\", \"msn\", \"phone works\", \"call quality\", \"connectivity\", \"holds\", \"tech support\", \"control buttons\", \"volume controls\", \"panasonic\", \"kindle fire\", \"screen protector\", \"switch\", \"shipping charge\", \"v3xx\", \"touch screen\", \"battery charger\", \"motorolla\", \"xp\", \"vista\", \"phone features\", \"display screen\", \"wireless\", \"cingular service\", \"motorola razr\", \"battery works\", \"nintendo\", \"nyc\", \"reception\", \"led\", \"power supply\", \"zune\", \"radio shack\", \"sound volume\", \"cardo scala\", \"hp\", \"graphics\", \"wow\", \"applications\", \"keypad\", \"sidekick\", \"ford\", \"extended battery\", \"durability\", \"at & t\", \"time\", \"screen quality\", \"built\", \"programs\", \"sync\", \"speaker\", \"edges\", \"return shipping\", \"warranty\", \"functions\", \"cover\", \"stereo\", \"voice command\", \"carry\", \"handsfree\", \"button\", \"ear speaker\", \"smartphone\", \"cell phone\", \"handy\", \"windows mobile\", \"tmobile\", \"kensington\", \"rma\", \"brazil\", \"gmail\", \"adapter\", \"usb port\", \"speakers\", \"function\", \"os\", \"voq\", \"performs\", \"datapilot\", \"car charger\", \"scala\", \"earbuds\", \"sim\", \"k790a\", \"sony ericsson 's\", \"connect\", \"quality charger\", \"macbook pro\", \"powerbook\", \"tq\", \"user interface\", \"nokias\", \"ui\", \"specs\", \"katana\", \"quality construction\", \"power charger\", \"small size\", \"wep200\", \"menu\", \"audio\", \"oem\", \"mda\", \"uniden\", \"kwh\", \"velcro\", \"ericson\", \"tracfone\", \"belt clip\", \"target\", \"stylus\", \"windows xp\", \"clip\", \"florida\", \"brand\", \"power button\", \"feature\", \"headphone jack\", \"honda\", \"browser\", \"pdf\", \"ericsson\", \"t28\", \"stand\", \"case fits\", \"treo 700w\", \"media player\", \"atrix\", \"phone case\", \"super\", \"logitech\", \"droid\", \"sd\", \"wife\", \"ever\", \"siemens\", \"lights\", \"bluetooth signal\", \"dsp\", \"aaa\", \"instructions\", \"brightness\", \"screen size\", \"macbook\", \"a2dp\", \"ipods\", \"bass\", \"mac\", \"w810i\", \"memory card\", \"contacts\", \"form factor\", \"bt8010\", \"usb cord\", \"gps\", \"wal-mart\", \"office\", \"settings\", \"camera resolution\", \"mb\", \"tdma\", \"signal quality\", \"photo\", \"operating system\", \"bt\", \"ipad\", \"nokia 3650\", \"navigate\", \"usb cable\", \"joe\", \"v60i\", \"blue\", \"support\", \"wilson\", \"external screen\", \"cs\", \"program\", \"u.s.\", \"bulky\", \"walkman\", \"installation\", \"android\", \"looks\", \"standby\", \"background noise\", \"i drive\", \"bad\", \"razor\", \"charging port\", \"parrot\", \"voyager\", \"bluetooth headsets\", \"messenger\", \"bluetooth works\", \"canon\", \"extended life battery\", \"blackberry 7100\", \"qwerty keyboard\", \"external display\", \"picture\", \"earpiece\", \"color screen\", \"aux\", \"processor\", \"size ear\", \"micro usb\", \"gprs\", \"headset jack\", \"lesson\", \"jeep\", \"samsung galaxy\", \"mexico\", \"wap\", \"sf planet\", \"staples\", \"voice dialing\", \"price tag\", \"cost\", \"treos\", \"batteries\", \"bargain cell\", \"portability\", \"alltel\", \"awful\", \"scosche\", \"motorola droid\", \"razrs\", \"mouse\", \"layout\", \"thinkpad\", \"touchpad\", \"linux\", \"build\", \"usb charger\", \"dash\", \"construction\", \"galaxy\", \"operate\", \"sonyericsson\", \"nextel\", \"light\", \"never\", \"ii\", \"style\", \"accessory one\", \"clarity\", \"retractable\", \"eforcity\", \"tom tom\", \"ir port\", \"cingular/at & t\", \"ir\", \"neat\", \"fitting\", \"easy\", \"lithium\", \"vonage\", \"stowaway\", \"the\", \"touch\", \"coby\", \"multipoint technology\", \"the sidekick ii\", \"hs850\", \"pro\", \"product works\", \"cam\", \"web browser\", \"customer support\", \"set\", \"tpu\", \"blue ant\", \"im\", \"qwerty\", \"adaptor\", \"extended warranty\", \"aa\"], \"textposition\": \"bottom center\", \"type\": \"scatter\", \"uid\": \"1ea4b311-9a25-4996-887d-53063ba86985\", \"x\": [0.34801558940972954, 0.34030358272855504, 0.6022929065204594, 0.456189950758094, -0.2360527442965828, 0.8010089460981493, 0.8937491842802187, -0.12117934656540018, 0.8015073322357825, -0.5392080292022716, -0.23023818024495288, -0.08014612906267288, 0.5182016841079419, -0.18240894053653892, -0.3060031845124627, -0.15945704604971833, -0.6015034194475698, 0.049456180139251474, 0.3337634120958199, 0.5439806683669396, 0.009894782772219552, 0.2791883887452977, -0.45968608675801287, -0.6425262783272001, -0.5345721962464832, -0.6534544528384773, -0.3028138089378823, -0.27087787574099836, 0.8496444428127992, -0.06403537189503682, -0.03758620417458151, 0.28340966698573783, -0.2450186064470227, 0.17831251565778689, -0.3107312695747534, 0.12721153797216214, 0.47485946108665994, -0.18041884410317163, -0.01746603385974296, 0.12391913987206613, -0.2567652810188571, -0.9373770653931632, -0.4162730898932285, 0.12180915545972462, 0.5001755145964956, 0.9637327199731296, 0.2922352158618587, 0.3630202507100881, -0.9215066827158495, -0.0474307253897662, 0.1043623247540073, 0.05852041092068921, -0.7224390388077305, 0.6340410692865899, -0.10480242933355213, -0.17484352248706103, -0.25017138751637263, 0.9816072946029231, 0.9657920163990539, -0.6662857713645205, 0.16368868187921942, -0.496855374210856, -0.46931124209705943, 0.8016559398412019, -0.46101026616666424, -0.542211085550111, 0.12423515360307585, 0.3303919135550508, -0.5533995269031389, 0.8041267314213835, 0.6850094804890513, 0.9304848927673025, 0.8906067679053368, 0.8215881234022712, 0.29912245924498476, 0.2455281488681409, -0.17130208078159653, -0.31122126462021177, -0.9315546579179882, -0.9745690593757056, 0.1104128801130401, 0.5075773675176088, -0.8247113244089338, 0.505712297978098, 0.03375381287450597, 0.48343828216519696, 0.00983753039098842, -0.031069390749838256, -0.04915001550217556, 0.16170893240695225, 0.22217928757968367, -0.5486364090351956, 0.36960301471963414, 0.6795367500074581, 0.7878182551691336, 0.5181945931191965, -0.05954325692571875, -0.6830721038343199, -0.19592281006848253, -0.3874352242972503, -0.38981458917573963, 0.7302926012426284, 0.1841746934162682, -0.49056304366167003, 0.593070535667347, 0.5995433165797309, 0.8434652028992299, 0.8385740649363614, -0.16015437512776592, 0.23010440499290843, 0.4505372562636541, 0.4161105126254074, 0.35676093474405896, -0.20685240384667886, -0.23213902818820148, 0.16981334808040097, 0.46308910826846067, -0.4436658593553251, -0.24465641189329537, -0.46177991273974667, -0.14725971295774903, 0.09036534491916143, -0.11636424799335353, -0.5376738941472259, -0.14453287430225864, -0.2488851645631899, 0.3247049259617842, -0.6658539267756559, -0.6610602552896165, -0.6489437245124307, -0.01972792653248856, 0.19063364489682483, -0.15772738231671712, -0.6380722581325453, -0.7170457701851144, -0.9107965287598945, 0.38131274979860175, 0.4311060217158434, 0.33228751024029746, 0.4079327805260117, 0.40204878772058855, 0.8855230900579825, 0.006373905434382216, -0.10481172348780142, -0.6754372186229404, -0.5847267834360308, 0.6666556509739643, -0.16598390492512916, 0.6800316331216182, -0.08062025777617898, 0.13369578458623943, 0.6185204179318187, -0.11350258314839341, -0.6365397367727956, 0.48474070128118024, -0.2057279964263151, -0.06801783048120749, 0.468529880288639, 0.9289623724955537, 0.3705019748206014, -0.06518712339553669, 0.008579036760441671, -0.13211477298887683, -0.10399516016393254, -0.24738038104128743, 0.0533015945396806, -0.2902886649457664, -0.06707002475568313, -0.06410338473120485, -0.11011033869684428, -0.404641598259206, -0.06891589512887912, -0.6435454401352348, 0.3349725755081645, 0.9598147614272586, 0.95962869489445, 0.9593202578988097, 0.6077390908871463, -0.07981803694008253, 0.5184021756158539, 0.4445504449383086, -0.4144146781988478, 0.8123807953348153, 0.7981536633675483, 0.22999531759656586, 0.522323838081679, -0.09185149176352189, 0.8765562013585164, -0.23409078893380095, 0.008079308458872902, 0.5238368717328136, 0.8294488996302753, 0.3568941666629842, 0.29732613516122564, -0.9311967953242104, -0.7604986363312597, -0.5234719872032606, -0.6735136096366517, -0.33907685449532354, -0.5356483171542998, -0.12417104019707091, 0.12052080488051524, 0.9752251929654091, 0.8337254351030127, 0.752838198053941, 0.8646686088072505, 0.8601823621141625, 0.37681790560733175, -0.8052448275909986, -0.5964374374558945, 0.6306770354637131, -0.9259732472983602, -0.91569730438887, -0.41952285452549665, -0.3504503873974541, 0.19301586545844396, -0.6431099437426603, 0.3002609201112818, -0.3429855606277091, 0.8857492403609298, -0.05057245171667726, 0.05511667670966391, 0.06093621884243604, 0.05881352716556635, 0.885839303799695, 0.3379819538699783, -0.13491629128236604, 0.20560641043783484, 0.2060962469860299, -0.25193196754231834, 0.5940409778889979, 0.547487608081315, 0.44773559068951835, -0.7107093184711789, 0.17522050546410772, -0.3204054499355672, -0.7148753616941772, -0.19937346323191754, -0.14373819032604768, -0.023783048846781202, 0.7989153716579819, 0.8304970059505989, 0.408696648508866, 0.7814893687132193, 0.8512070574199725, -0.6003551300878316, -0.3118502145854255, -0.19768948181107424, -0.035175106092773405, 0.04692043197318516, 0.8042691092883328, 0.22776326186948664, 0.7666465618833086, 0.8815485168508079, 0.30661704573882703, -0.0645407648653294, 0.2097807691105336, -0.1410038441474168, 0.8384441024145123, -0.06664100952046509, -0.27263387364050073, 0.26861693618885985, -0.776571739674298, 0.635027778485052, 0.45433020845670474, 0.8334131483134891, 0.6992041990673438, 0.36636704557496924, -0.8386837163243964, -0.4447199374034808, 0.9544305298812062, -0.8940351996815359, -0.5665538128203714, -0.23547350621137272, 0.9588178652508328, 0.24270503882955957, -0.5872884551101208, -0.4833303649773553, 0.6516594221774256, 0.43817071165566274, 0.0831617748977865, -0.5391310076115385, 0.314545201858859, -0.050633419087706785, -0.41312450542974977, -0.9776018546686234, 0.7763321700504769, 0.5593200572645239, 0.6676004311489782, 0.32799670902653655, -0.23691818378088939, -0.42210810892955686, 0.33215736651014605, -0.038403912539162, 0.5403755976565447, 0.5598193396352068, 0.533950464911884, 0.24158337446554337, 0.5131120187355835, 0.12219758439318446, -0.265700956796426, -0.6479693772779258, 0.19473647532057806, -0.17705471844855886, -0.5452338210984865, 0.32205355910148525, 0.7734133844107982, -0.03344979187683909, 0.3071480075565016, -0.6860767002792668, 0.3118876255160356, -0.022904925439747394, -0.3419790987382549, -0.5079075869242974, 0.2835846310010229, -0.23416143840067796, -0.7604395779601448, 0.2652053561410513, -0.9126740248287374, 0.7943444578840991, 0.35905431683320577, 0.8969238418042235, -0.7681540914787285, 0.5963354682050598, 0.5949225708470836, -0.6645171552472569, -0.7154335711398359, -0.21768255048246435, 0.11991800966200435, 0.32355655458802485, 0.34495224451041046, -0.057292341751729634, 0.5021757418690502, -0.28190490310448907, -0.39354894489393216, -0.5206709168837442, 0.9741127273355419, -0.30600400571448494, -0.2905056850770994, 0.3270433078079858, -0.7494781444520064, -0.9215904369624343, -0.5714913926367035, -0.9198803973526714, -0.9160085339630871, -0.21681549586863133, 0.4736100120558927, 0.22506372889550622, 0.21374213699828043, 0.22688137046506043, 0.20373214700368508, 0.9676614343354231, -0.1758615814101046, 0.8334933934667893, 0.803195339490111, -0.568049598302846, -0.05496811624650295, -0.6445942211298706, -0.14645379548619078, -0.09148094678886662, 0.8208818884551023, 0.8496990659771197, 0.8343309682546456, 0.8552623624409669, 0.8316959947802915, 0.8848662449044624, 0.8079174121444581, -0.28124997096865006, -0.17107840258500936, 0.2538654379209219, -0.5389540064902918, 0.4920050959418798, 0.18746463776569672, 0.5991719060457638, 0.5982888877556628, -0.5494168386011694, 0.2983114853404314, 0.2984609028915153, 0.9064612413245162, 0.9480829126302752, 0.9471716322764717, 0.8798961746773964, -0.19226101230522843, 0.6422718378833786, 0.09763419320243577, -0.6404803293097491, 0.6020649087697599, 0.6017559383311226, -0.6198302954700065, 0.14888950718616642, -0.7911022668568686, -0.01475043075787575, -0.7099056115302187, -0.4758787318297565, 0.7546141775084215, 0.8571304443921052, 0.5673164469467796, -0.5424713324867895, -0.687706826328232, -0.3086489060267492, -0.6043480492180707, 0.7957621758297395, 0.7986188460541674, 0.17266969467664423, 0.8903233147466474, 0.8030459118587311, -0.5286814908947125, 0.888780239225898, 0.8564498586610464, 0.268970470982626, 0.9080849448253281, 0.883160282486192, 0.24590652194796928, -0.574040304674069, -0.771616313297065, 0.8764877913762704, 0.9359782794890338, 0.13707165991259487, -0.5201372744008347, -0.755224991737648, 0.40786548197451794, 0.19520227699578627, -0.1127000073786569, 0.07890025992398357, -0.5331245781300289, -0.6476196655691143, -0.1659310080508133, 0.4835280093942466, -0.7905041943155732, -0.3570019062741958, 0.3334370448884586, 0.21752908438251994, 0.7107123775344796, 0.7217040042282226, 0.699161779743128, 0.643815909344502, 0.8254282067599371, -0.11067991255218854, -0.043145715168478004, 0.5057780533735757, -0.05501204243046287, -0.8490869113660282, 0.39157831880427096, -0.02578485488937334, -0.5232263118228355, -0.20101767285796812, 0.5347293280680439, 0.7845278176763751, -0.026760370807071967, -0.5446002339942486, -0.2633434858869033, -0.7283550792749248, -0.32647470496943376, 0.35635731072313737, 0.31481728477795207, 0.3887058559664811, 0.19623473526116916, -0.4597644181284802, -0.3086052420896072, 0.12187382655837664, -0.7822637848293033, 0.7675168055711747, 0.7153447098493313, -0.6156912135005995, 0.03802845541979315, -0.16647163538681264, 0.2424188020331389, -0.510023581590785, -0.056334169740093455, 0.21456846655339418, 0.008502017828831941, 0.7877566979331977, 0.7520694939905711, -0.7342303488479649, 0.3225684132108135, -0.204243183968757, 0.5626570896448957, 0.8253187168824812, -0.763533124195323, -0.11712487200545663, -0.03775203855555295], \"y\": [-0.8610586403136558, -0.8592619962109207, 0.7862263315913943, -0.2000275381286414, -0.11135694104910206, -0.3431145117792645, -0.30396850288440835, 0.1560738060072431, -0.3413964949959152, -0.6717500796270399, -0.08826778960749966, 0.1498333951291198, -0.4806281734625993, 0.16033614394819173, 0.4503090927035485, 0.9705422454783251, 0.31323055494657526, 0.1306834179002882, 0.017275233121071987, -0.4698423834662127, 0.2968574733811302, 0.12888088010053353, -0.3005101686516908, -0.15625334817745298, -0.11375311501350792, -0.15783135251584438, 0.9217499384693203, 0.49112985200673587, 0.22126505653007808, 0.12751271506184716, -0.011622662446482041, -0.03888652615871243, -0.6554094282157312, -0.12303086337079493, 0.17449917817105742, 0.6287552418027927, -0.14916981958652423, -0.12883981635096559, 0.4065290613387943, 0.7484511869194997, 0.16763612108833503, -0.17403382157770375, -0.0477322174476853, -0.10393934821403486, -0.12284313249465864, 0.024463715539934948, -0.6955192844710764, -0.9125005662582845, -0.15498315252009326, 0.050523926413431834, -0.8572874272414035, 0.08057476548206038, -0.22328997840523102, 0.18700141565982847, 0.5866520186176021, 0.28287205822969236, 0.18427914711130922, -0.04734050687708962, -0.04517395952149755, -0.5173426399185752, 0.308892769701286, -0.8034746701937255, -0.7011295999788785, 0.26529589172140683, -0.8487430093157898, -0.795168400784221, -0.3508177558196182, -0.1489223262774799, 0.7148700305685786, -0.4367213237939434, 0.7120007868521152, -0.07576796321266711, 0.023666718041013866, 0.023358372213184434, -0.3719054510509798, -0.41977756910229364, 0.9443846749861609, -0.12555254031094326, 0.1152640967442318, 0.09518510116700614, -0.3995258210234713, 0.5393922995099654, 0.5301317628404192, -0.19123125940505195, -0.44754774704803885, 0.8113181788879245, 0.7849831075162581, 0.5659895342094, 0.2827875123290854, 0.7007158015506828, 0.8811021677109773, 0.7487107381815701, 0.04707247266530884, 0.7008884844275299, 0.3016339214568567, -0.14298328578040478, 0.3825078886923477, 0.608445180196927, -0.026544547931155744, -0.18097482959690206, 0.3195390463642561, -0.6590220960739313, -0.4257121986047955, -0.7062761181117099, 0.21377727953562117, 0.23207586714307657, 0.5079273580980066, 0.277892118867465, 0.47011981675866, 0.1574542502176944, 0.1369648670613206, 0.47435946879913465, 0.4554257912868836, 0.9316775624510122, 0.9385415934878201, -0.9734118815002885, 0.8733402436168318, 0.6548281700002393, 0.10732183506761742, 0.21955375835332644, 0.049643133555611896, -0.9842737089026586, 0.8923570096919091, -0.657669971248572, -0.02420722196085966, 0.1650853316234505, 0.8621349121416637, 0.5917975328786862, 0.44181907558813716, -0.12831147714858265, -0.03479913007669824, -0.8918197190402359, -0.976463752902076, -0.5209464518867688, -0.5231113190882067, -0.367953301201207, -0.46765282905637057, -0.41028473038007707, -0.686846055939477, -0.38522956795601937, -0.2522466248171197, -0.25735464671108804, -0.14237797454956375, -0.23364925010214166, -0.29869331594283727, 0.2197345921041803, -0.6915705255295056, -0.545787000504747, -0.6837246105681556, 0.21913608280544844, -0.2304924260195522, -0.5187652502470517, 0.19795851096060085, -0.18031804569253593, -0.16422132819439353, -0.16027488044816818, -0.3110563357124462, -0.14545525903191683, -0.3054010667195396, 0.49094759591138354, 0.22713240959064807, 0.9838491915961375, -0.7039500055668234, -0.9467800465422654, -0.6172948149470714, -0.16134559997284492, 0.12038055097345961, -0.8993853330609126, -0.8961275761676869, -0.21249994960652482, -0.15090581524844593, -0.7170718636643836, 0.46586352875915005, 0.8862757716531093, 0.2537470177425644, 0.25368161198008965, 0.2535969936874757, -0.7558041201923613, 0.19041228902244844, -0.48611400539488303, -0.5267400909132951, 0.8342220165885985, 0.35435817669892117, 0.34410401966930665, 0.28768894365564285, 0.7521249752554344, 0.9224218850296696, -0.4487674045487431, -0.9529068198903964, 0.7492310288670091, 0.8340000789635674, 0.5006493604104751, -0.1471950987935436, -0.8224456183970958, -0.27960357563755256, -0.004377531512444499, -0.12984350138385678, -0.48948857800157597, 0.28290586523895683, -0.2249524699391341, 0.9802537899033603, 0.9610290263083229, -0.06846011346840457, 0.46936623199305216, 0.6449587727490799, 0.3988583519881089, 0.40191629762286524, 0.11607267005960006, -0.527430736780963, 0.5996736550724137, 0.2965529397939495, -0.17136716568339158, -0.22207112877308863, -0.41658109702984214, 0.3296353068377615, -0.7797033350113787, -0.7411548131291539, -0.9376108326498814, -0.8664948635677844, 0.1170311913816095, -0.9512495179283995, -0.9647201136930532, -0.9578908913700047, -0.9603568594362796, -0.23047200596908587, 0.4640874256333071, -0.40863142358419074, -0.9163662466059485, -0.9156099707390647, 0.6842381031197986, -0.15138197310175264, 0.7190469762773708, 0.8503044501559944, -0.16959316197978108, 0.22756303532472819, 0.5772604638938481, 0.6783250787650753, -0.8445743885003595, -0.9576848289096224, -0.3385759591867329, -0.35157497555838013, -0.3140808180162489, -0.4215534076144488, -0.3239714137454149, -0.403616169010627, -0.14005871910982468, -0.9377545286324296, 0.8744942968338085, 0.8920392190905516, -0.9451455368734086, 0.5048436914368383, 0.9537095783536741, 0.5637286012931415, 0.4195070337684605, -0.19643802210723926, -0.8914122053846043, -0.766330188609278, -0.5803591050158078, 0.11661661322775196, -0.9013186352032238, -0.38856822470822194, 0.9174473756085804, 0.6068565768678434, -0.6358913242037957, -0.8609769745177683, 0.1912922080233202, -0.6272853418683622, -0.28055505842533357, 0.3755813665143877, -0.22225894036496815, -0.2358039207669215, -0.36067764751218795, 0.8009017397843998, 0.47886957049054973, 0.12169818788145584, -0.9229175860180925, 0.052113969659914675, -0.7108523679312624, -0.7352056559274647, -0.8864739275914589, -0.8615084904533917, 0.7191778497180732, -0.26775396705965715, 0.17637778659395664, -0.9011590613664203, -0.13712848887725151, 0.6193997270559061, 0.5103129638069293, 0.6133883129386274, 0.2518801084347424, 0.2545049555648474, 0.8053010502291251, 0.2463956997303284, -0.017622465366814742, -0.7451366697085647, -0.7275087549382866, -0.7554690877903198, -0.7778444141977321, -0.1714782524410807, 0.7483338568173791, -0.6676699814342295, -0.15715178956389678, 0.165517065204586, 0.8853304464911668, -0.7921637454532531, 0.05250357317481122, 0.24706967596436408, 0.21363672140583648, 0.0772619016733101, -0.16515666535414267, 0.17892204723302763, 0.10146918764516472, 0.8966517388226865, 0.09258776936683859, 0.19334169943631505, -0.9532808124357763, -0.4811039067411335, -0.8134278096734702, 0.31658762176344996, 0.579313969437002, 0.20508429417427754, -0.3980096446830452, 0.4989309137480398, -0.7616378435832387, -0.7599654735909159, 0.639560647051252, 0.5486146811066661, 0.7718930713163296, -0.8953233476057507, -0.8138812064606155, -0.8642957647440755, 0.6425543900514541, -0.1997473088793578, -0.3917290084275343, -0.7498224943297409, 0.7626922161459296, -0.16729195070318328, -0.8365207413375363, -0.575000666994754, -0.03370136112509097, 0.5505673223480488, -0.2023251254397531, 0.011852678915209157, -0.3460747370954556, 0.07011012831268687, -0.6767565931853924, -0.8524754137545336, -0.7934007091825633, -0.7766226673946287, -0.9073946996024723, -0.7993033481536388, -0.06867882812215462, 0.02458000386246096, 0.00877150865661934, 0.09059215748690491, -0.19671678885776267, 0.02673076201353442, 0.7185961515895078, -0.8410779826265818, -0.4810244136699361, -0.20017622390884443, -0.21716835739814, -0.1358382193836582, -0.08017983811161686, -0.23360068460347005, -0.18372421327905508, -0.19549816184515326, -0.9039869988464495, -0.05866882584002222, -0.8863952144290097, -0.10609167045908349, 0.8198033296942894, 0.30143221722073815, -0.7275201588842057, -0.7265601510357288, -0.6634817797109208, -0.8837161114738764, -0.8811153299841754, 0.2945506207014564, -0.21465716565456522, -0.21315093318207765, 0.3484478263076394, 0.8882296915082559, 0.6998732679834017, -0.8537723084513216, 0.7525612486095404, 0.6527092859784668, 0.6528343829159552, 0.6930821979493633, 0.13938201080595064, -0.4734896892515411, 0.1258830009175204, 0.5881329614861767, -0.615637717437118, -0.35266364585702886, -0.38493575493041027, -0.8132316719247364, -0.6492295662263624, 0.564671460991922, -0.9269283759309886, -0.7244438440948576, -0.4125764133903749, -0.35178273145567024, -0.7936909896442655, 0.0027808457897136934, -0.2332339774622764, -0.09715446783259438, 0.2539900650769306, -0.05923200118843909, -0.4370338272270392, -0.03265613347643893, 0.0003572865089931617, -0.7902288388007723, 0.6948147820275286, 0.5784481707747458, 0.13234036485140543, 0.20569604883231993, 0.5895306853852178, -0.22282395110503897, -0.4857364774845252, -0.7912628940652865, 0.19768678272126772, -0.9371142357484294, 0.13253288228537824, -0.5693800457777496, -0.15396165216056606, 0.8717335804969158, -0.059854867415785266, -0.059400299535660096, -0.8960542437262841, 0.10915217789718606, -0.3117306120611073, -0.6672644917032408, -0.6323285359834504, -0.6947420464753473, -0.6524747778372283, 0.01440490003619177, 0.2766542944902392, 0.19702896736158607, -0.45024465493106247, 0.07386710513220979, -0.4537560904261577, 0.09602568234565839, 0.05267381996774216, -0.6479812669530123, 0.8781887764522819, -0.4134289211731231, -0.2588491126604804, 0.9038556650696458, -0.8019289732389869, -0.1070652668906838, 0.5490621941497021, 0.15445504495265017, -0.8057910327072357, -0.7154418020643939, -0.8310995621545932, -0.754230861001917, 0.77945585636172, -0.16152465647515707, 0.9082960466445532, -0.4647468024271948, -0.6235933245960965, -0.5872673008131415, -0.5409226420695697, 0.28453926118482226, -0.5571662488939616, -0.21743888423635926, -0.1934807887428352, 0.12946765974764113, 0.8909376119665852, 0.983658533936862, -0.5959623720064918, -0.6379271875546584, -0.532090804008766, 0.8492193335674866, -0.07724967919141196, -0.10024183710043669, -0.037858476709600526, 0.5968793423477347, -0.1964463556926971, 0.9265327443530904]}, {\"marker\": {\"color\": \"rgb(200, 100, 200)\"}, \"mode\": \"markers+text\", \"text\": [\"phone\", \"battery\", \"sound\", \"bluetooth\", \"headset\", \"price\"], \"textposition\": \"bottom center\", \"type\": \"scatter\", \"uid\": \"caf9a924-65a4-4241-99ef-e1d593c12fe7\", \"x\": [0.3337634120958199, 0.009894782772219552, -0.6425262783272001, -0.2360527442965828, -0.3874352242972503, -0.08014612906267288], \"y\": [0.017275233121071987, 0.2968574733811302, -0.15625334817745298, -0.11135694104910206, -0.18097482959690206, 0.1498333951291198]}],\n",
       "                        {\"height\": 800, \"hovermode\": \"closest\", \"showlegend\": false, \"title\": {\"text\": \"Poincare Hierarchy\"}, \"width\": 800},\n",
       "                        {\"showLink\": false, \"linkText\": \"Export to plot.ly\", \"plotlyServerURL\": \"https://plot.ly\", \"responsive\": true}\n",
       "                    ).then(function(){\n",
       "                            \n",
       "var gd = document.getElementById('465abeb5-0db6-490d-afc6-58adf96ad8ea');\n",
       "var x = new MutationObserver(function (mutations, observer) {{\n",
       "        var display = window.getComputedStyle(gd).display;\n",
       "        if (!display || display === 'none') {{\n",
       "            console.log([gd, 'removed!']);\n",
       "            Plotly.purge(gd);\n",
       "            observer.disconnect();\n",
       "        }}\n",
       "}});\n",
       "\n",
       "// Listen for the removal of the full notebook cells\n",
       "var notebookContainer = gd.closest('#notebook-container');\n",
       "if (notebookContainer) {{\n",
       "    x.observe(notebookContainer, {childList: true});\n",
       "}}\n",
       "\n",
       "// Listen for the clearing of the current output cell\n",
       "var outputEl = gd.closest('.output');\n",
       "if (outputEl) {{\n",
       "    x.observe(outputEl, {childList: true});\n",
       "}}\n",
       "\n",
       "                        })\n",
       "                };\n",
       "                });\n",
       "            </script>\n",
       "        </div>"
      ]
     },
     "metadata": {},
     "output_type": "display_data"
    }
   ],
   "source": [
    "iplot(fig, filename='poincare_viz.png')"
   ]
  },
  {
   "cell_type": "code",
   "execution_count": null,
   "metadata": {},
   "outputs": [],
   "source": []
  }
 ],
 "metadata": {
  "kernelspec": {
   "display_name": "Python 3",
   "language": "python",
   "name": "python3"
  },
  "language_info": {
   "codemirror_mode": {
    "name": "ipython",
    "version": 3
   },
   "file_extension": ".py",
   "mimetype": "text/x-python",
   "name": "python",
   "nbconvert_exporter": "python",
   "pygments_lexer": "ipython3",
   "version": "3.6.8"
  },
  "toc": {
   "base_numbering": 1,
   "nav_menu": {},
   "number_sections": true,
   "sideBar": true,
   "skip_h1_title": false,
   "title_cell": "Table of Contents",
   "title_sidebar": "Contents",
   "toc_cell": false,
   "toc_position": {
    "height": "calc(100% - 180px)",
    "left": "10px",
    "top": "150px",
    "width": "165px"
   },
   "toc_section_display": true,
   "toc_window_display": false
  }
 },
 "nbformat": 4,
 "nbformat_minor": 2
}
