{
 "cells": [
  {
   "cell_type": "code",
   "execution_count": 43,
   "metadata": {},
   "outputs": [],
   "source": [
    "import pandas\n",
    "import json\n",
    "\n",
    "from aspects.utilities import settings"
   ]
  },
  {
   "cell_type": "code",
   "execution_count": 44,
   "metadata": {},
   "outputs": [],
   "source": [
    "json_file = settings.AMAZON_REVIEWS_APPS_FOR_ANDROID_DATASET_JSON"
   ]
  },
  {
   "cell_type": "code",
   "execution_count": 15,
   "metadata": {},
   "outputs": [],
   "source": [
    "datasets = [\n",
    "#     (settings.EVENT_REGISTRY_BREXIT_NEWS_LARGE, None),\n",
    "#     (settings.EVENT_REGISTRY_BREXIT_NEWS_WITH_BODY_LARGE, 10000),\n",
    "#     (settings.EVENT_REGISTRY_BREXIT_NEWS_WITH_BODY_LARGE, 50000),\n",
    "\n",
    "    (settings.AMAZON_REVIEWS_AUTOMOTIVE_DATASET_JSON, ),\n",
    "#     (settings.AMAZON_REVIEWS_AUTOMOTIVE_DATASET_JSON, 10 ** 5),\n",
    "#     (settings.AMAZON_REVIEWS_CELL_PHONES_AND_ACCESSORIES_DATASET_JSON, 5001),\n",
    "#     (settings.AMAZON_REVIEWS_AUTOMOTIVE_DATASET_JSON, 50001),\n",
    "#     (settings.AMAZON_REVIEWS_CELL_PHONES_AND_ACCESSORIES_DATASET_JSON, 50001),\n",
    "#     (settings.AMAZON_REVIEWS_APPS_FOR_ANDROID_DATASET_JSON, 50001),\n",
    "#     (settings.AMAZON_REVIEWS_AMAZON_INSTANT_VIDEO_DATASET_JSON, 50001),\n",
    "#     (settings.AMAZON_REVIEWS_APPS_FOR_ANDROID_DATASET_JSON, None),\n",
    "#     (settings.AMAZON_REVIEWS_AUTOMOTIVE_DATASET_JSON, None), # not all trees processed\n",
    "#     (settings.AMAZON_REVIEWS_AMAZON_INSTANT_VIDEO_DATASET_JSON, None),\n",
    "#     (settings.AMAZON_REVIEWS_CELL_PHONES_AND_ACCESSORIES_DATASET_JSON, None),\n",
    "#     (settings.AMAZON_REVIEWS_CELL_PHONES_AND_ACCESSORIES_DATASET_JSON, 50000),\n",
    "]"
   ]
  },
  {
   "cell_type": "code",
   "execution_count": 16,
   "metadata": {},
   "outputs": [
    {
     "name": "stdout",
     "output_type": "stream",
     "text": [
      "brexit-news-all.json 11302\n",
      "brexit-news-body-193927.json 193927\n",
      "brexit-news-body-193927.json 193927\n",
      "reviews_Automotive.json 1373794\n",
      "reviews_Automotive.json 1373794\n",
      "reviews_Cell_Phones_and_Accessories.json 100001\n",
      "reviews_Automotive.json 1373794\n",
      "reviews_Cell_Phones_and_Accessories.json 100001\n",
      "reviews_Apps_for_Android.json 100001\n",
      "reviews_Amazon_Instant_Video.json 100001\n",
      "reviews_Apps_for_Android.json 100001\n",
      "reviews_Automotive.json 1373794\n",
      "reviews_Amazon_Instant_Video.json 100001\n",
      "reviews_Cell_Phones_and_Accessories.json 100001\n",
      "reviews_Cell_Phones_and_Accessories.json 100001\n"
     ]
    }
   ],
   "source": [
    "for d in datasets:\n",
    "    df = pd.DataFrame(json.load(d[0].open('r')).values(), columns=[\"text\"])\n",
    "    print(d[0].name, len(df))"
   ]
  },
  {
   "cell_type": "code",
   "execution_count": 45,
   "metadata": {},
   "outputs": [],
   "source": [
    "df = pd.read_pickle('../results/reviews_Apps_for_Android-103-docs/discourse_trees_df.pkl')"
   ]
  },
  {
   "cell_type": "code",
   "execution_count": 42,
   "metadata": {},
   "outputs": [
    {
     "ename": "SyntaxError",
     "evalue": "invalid syntax (util.py, line 272)",
     "output_type": "error",
     "traceback": [
      "Traceback \u001b[0;36m(most recent call last)\u001b[0m:\n",
      "  File \u001b[1;32m\"/home/laugustyniak/.local/lib/python3.6/site-packages/IPython/core/interactiveshell.py\"\u001b[0m, line \u001b[1;32m3343\u001b[0m, in \u001b[1;35mrun_code\u001b[0m\n    exec(code_obj, self.user_global_ns, self.user_ns)\n",
      "  File \u001b[1;32m\"<ipython-input-42-aa041f63e670>\"\u001b[0m, line \u001b[1;32m1\u001b[0m, in \u001b[1;35m<module>\u001b[0m\n    import discoursegraphs as dg\n",
      "  File \u001b[1;32m\"/home/laugustyniak/anaconda3/envs/aspects/lib/python3.6/site-packages/discoursegraphs/__init__.py\"\u001b[0m, line \u001b[1;32m14\u001b[0m, in \u001b[1;35m<module>\u001b[0m\n    from discoursegraphs.discoursegraph import (\n",
      "\u001b[0;36m  File \u001b[0;32m\"/home/laugustyniak/anaconda3/envs/aspects/lib/python3.6/site-packages/discoursegraphs/discoursegraph.py\"\u001b[0;36m, line \u001b[0;32m22\u001b[0;36m, in \u001b[0;35m<module>\u001b[0;36m\u001b[0m\n\u001b[0;31m    from discoursegraphs.util import natural_sort_key\u001b[0m\n",
      "\u001b[0;36m  File \u001b[0;32m\"/home/laugustyniak/anaconda3/envs/aspects/lib/python3.6/site-packages/discoursegraphs/util.py\"\u001b[0;36m, line \u001b[0;32m272\u001b[0m\n\u001b[0;31m    print etree.tostring(element, pretty_print=True)\u001b[0m\n\u001b[0m              ^\u001b[0m\n\u001b[0;31mSyntaxError\u001b[0m\u001b[0;31m:\u001b[0m invalid syntax\n"
     ]
    }
   ],
   "source": [
    "import discoursegraphs as dg\n",
    "tiger_docgraph = dg.read_tiger('syntax/doc.xml')\n",
    "rst_docgraph = dg.read_rs3('rst/doc.rs3')\n",
    "expletives_docgraph = dg.read_anaphoricity('expletives/doc.txt')"
   ]
  },
  {
   "cell_type": "code",
   "execution_count": null,
   "metadata": {},
   "outputs": [],
   "source": []
  }
 ],
 "metadata": {
  "kernelspec": {
   "display_name": "Python 3",
   "language": "python",
   "name": "python3"
  },
  "language_info": {
   "codemirror_mode": {
    "name": "ipython",
    "version": 3
   },
   "file_extension": ".py",
   "mimetype": "text/x-python",
   "name": "python",
   "nbconvert_exporter": "python",
   "pygments_lexer": "ipython3",
   "version": "3.6.9"
  }
 },
 "nbformat": 4,
 "nbformat_minor": 2
}
