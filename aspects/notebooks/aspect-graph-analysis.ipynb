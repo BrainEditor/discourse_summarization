{
 "cells": [
  {
   "cell_type": "code",
   "execution_count": 27,
   "metadata": {
    "ExecuteTime": {
     "end_time": "2020-03-26T09:22:24.228459Z",
     "start_time": "2020-03-26T09:22:24.183132Z"
    }
   },
   "outputs": [],
   "source": [
    "from collections import Counter\n",
    "import operator\n",
    "from os.path import basename, join, exists\n",
    "from pathlib import Path\n",
    "from os import system, makedirs\n",
    "from glob import glob\n",
    "from tqdm import tqdm_notebook\n",
    "from more_itertools import flatten\n",
    "\n",
    "import sys\n",
    "import re\n",
    "\n",
    "import pandas as pd\n",
    "import networkx as nx\n",
    "\n",
    "from aspects.analysis.aspects_hierarchy import get_aspects_hierarchy\n",
    "from aspects.analysis import rst_data_extractors\n",
    "\n",
    "from aspects.utilities.transformations import load_serialized\n",
    "from aspects.utilities.data_paths import ExperimentPaths\n",
    "from aspects.data_io import serializer\n",
    "\n",
    "%matplotlib inline"
   ]
  },
  {
   "cell_type": "markdown",
   "metadata": {},
   "source": [
    "# Load dataset specific files"
   ]
  },
  {
   "cell_type": "code",
   "execution_count": 4,
   "metadata": {
    "ExecuteTime": {
     "end_time": "2020-03-26T09:08:48.102097Z",
     "start_time": "2020-03-26T09:08:48.098810Z"
    }
   },
   "outputs": [],
   "source": [
    "# here choose dataset's results main directory\n",
    "# data_path = '/datasets/sentiment/aspects/results/reviews_Cell_Phones_and_Accessories/'\n",
    "data_path = '../results/reviews_Cell_Phones_and_Accessories-50000-docs/'\n",
    "\n",
    "experiment_paths = ExperimentPaths(input_path='', output_path=data_path, experiment_name='our')"
   ]
  },
  {
   "cell_type": "code",
   "execution_count": 7,
   "metadata": {
    "ExecuteTime": {
     "end_time": "2020-03-26T09:10:23.331744Z",
     "start_time": "2020-03-26T09:10:23.200902Z"
    }
   },
   "outputs": [],
   "source": [
    "aspect_to_aspect_graph = serializer.load(experiment_paths.aspect_to_aspect_graph)"
   ]
  },
  {
   "cell_type": "code",
   "execution_count": 8,
   "metadata": {
    "ExecuteTime": {
     "end_time": "2020-03-26T09:10:27.940141Z",
     "start_time": "2020-03-26T09:10:27.929576Z"
    }
   },
   "outputs": [
    {
     "data": {
      "text/plain": [
       "<networkx.classes.multidigraph.MultiDiGraph at 0x7fb074462c88>"
      ]
     },
     "execution_count": 8,
     "metadata": {},
     "output_type": "execute_result"
    }
   ],
   "source": [
    "aspect_to_aspect_graph"
   ]
  },
  {
   "cell_type": "markdown",
   "metadata": {},
   "source": [
    "# Aspect to Aspect Graph Analysis"
   ]
  },
  {
   "cell_type": "markdown",
   "metadata": {},
   "source": [
    "## Degree"
   ]
  },
  {
   "cell_type": "code",
   "execution_count": null,
   "metadata": {},
   "outputs": [],
   "source": []
  },
  {
   "cell_type": "code",
   "execution_count": 30,
   "metadata": {
    "ExecuteTime": {
     "end_time": "2020-03-26T09:23:03.653191Z",
     "start_time": "2020-03-26T09:23:03.620312Z"
    }
   },
   "outputs": [],
   "source": [
    "degree_df = pd.DataFrame(list(aspect_to_aspect_graph.degree()), columns=['aspect', 'degree'])"
   ]
  },
  {
   "cell_type": "code",
   "execution_count": 35,
   "metadata": {
    "ExecuteTime": {
     "end_time": "2020-03-26T09:24:18.734147Z",
     "start_time": "2020-03-26T09:24:18.716712Z"
    }
   },
   "outputs": [
    {
     "data": {
      "text/html": [
       "<div>\n",
       "<style scoped>\n",
       "    .dataframe tbody tr th:only-of-type {\n",
       "        vertical-align: middle;\n",
       "    }\n",
       "\n",
       "    .dataframe tbody tr th {\n",
       "        vertical-align: top;\n",
       "    }\n",
       "\n",
       "    .dataframe thead th {\n",
       "        text-align: right;\n",
       "    }\n",
       "</style>\n",
       "<table border=\"1\" class=\"dataframe\">\n",
       "  <thead>\n",
       "    <tr style=\"text-align: right;\">\n",
       "      <th></th>\n",
       "      <th>aspect</th>\n",
       "      <th>degree</th>\n",
       "    </tr>\n",
       "  </thead>\n",
       "  <tbody>\n",
       "    <tr>\n",
       "      <th>0</th>\n",
       "      <td>case</td>\n",
       "      <td>593</td>\n",
       "    </tr>\n",
       "    <tr>\n",
       "      <th>1</th>\n",
       "      <td>pieces</td>\n",
       "      <td>7</td>\n",
       "    </tr>\n",
       "    <tr>\n",
       "      <th>2</th>\n",
       "      <td>price</td>\n",
       "      <td>2681</td>\n",
       "    </tr>\n",
       "    <tr>\n",
       "      <th>3</th>\n",
       "      <td>use</td>\n",
       "      <td>1115</td>\n",
       "    </tr>\n",
       "    <tr>\n",
       "      <th>4</th>\n",
       "      <td>nook</td>\n",
       "      <td>7</td>\n",
       "    </tr>\n",
       "    <tr>\n",
       "      <th>5</th>\n",
       "      <td>quality</td>\n",
       "      <td>1025</td>\n",
       "    </tr>\n",
       "    <tr>\n",
       "      <th>6</th>\n",
       "      <td>shipping</td>\n",
       "      <td>447</td>\n",
       "    </tr>\n",
       "    <tr>\n",
       "      <th>7</th>\n",
       "      <td>battery</td>\n",
       "      <td>1226</td>\n",
       "    </tr>\n",
       "    <tr>\n",
       "      <th>8</th>\n",
       "      <td>vaio</td>\n",
       "      <td>2</td>\n",
       "    </tr>\n",
       "    <tr>\n",
       "      <th>9</th>\n",
       "      <td>usb charger</td>\n",
       "      <td>4</td>\n",
       "    </tr>\n",
       "    <tr>\n",
       "      <th>10</th>\n",
       "      <td>tablet</td>\n",
       "      <td>7</td>\n",
       "    </tr>\n",
       "    <tr>\n",
       "      <th>11</th>\n",
       "      <td>the tablet sony vaio tap 11</td>\n",
       "      <td>4</td>\n",
       "    </tr>\n",
       "    <tr>\n",
       "      <th>12</th>\n",
       "      <td>ac</td>\n",
       "      <td>96</td>\n",
       "    </tr>\n",
       "    <tr>\n",
       "      <th>13</th>\n",
       "      <td>the transformer tf300</td>\n",
       "      <td>1</td>\n",
       "    </tr>\n",
       "    <tr>\n",
       "      <th>14</th>\n",
       "      <td>usb</td>\n",
       "      <td>542</td>\n",
       "    </tr>\n",
       "    <tr>\n",
       "      <th>15</th>\n",
       "      <td>amazon</td>\n",
       "      <td>1276</td>\n",
       "    </tr>\n",
       "    <tr>\n",
       "      <th>16</th>\n",
       "      <td>cord</td>\n",
       "      <td>213</td>\n",
       "    </tr>\n",
       "    <tr>\n",
       "      <th>17</th>\n",
       "      <td>update</td>\n",
       "      <td>4</td>\n",
       "    </tr>\n",
       "    <tr>\n",
       "      <th>18</th>\n",
       "      <td>smurf</td>\n",
       "      <td>2</td>\n",
       "    </tr>\n",
       "    <tr>\n",
       "      <th>19</th>\n",
       "      <td>lightweight aspect</td>\n",
       "      <td>2</td>\n",
       "    </tr>\n",
       "    <tr>\n",
       "      <th>20</th>\n",
       "      <td>screen protector</td>\n",
       "      <td>11</td>\n",
       "    </tr>\n",
       "    <tr>\n",
       "      <th>21</th>\n",
       "      <td>spongebob squarepants home</td>\n",
       "      <td>1</td>\n",
       "    </tr>\n",
       "    <tr>\n",
       "      <th>22</th>\n",
       "      <td>button</td>\n",
       "      <td>388</td>\n",
       "    </tr>\n",
       "    <tr>\n",
       "      <th>23</th>\n",
       "      <td>iphone</td>\n",
       "      <td>136</td>\n",
       "    </tr>\n",
       "    <tr>\n",
       "      <th>24</th>\n",
       "      <td>fyi</td>\n",
       "      <td>17</td>\n",
       "    </tr>\n",
       "    <tr>\n",
       "      <th>25</th>\n",
       "      <td>siri</td>\n",
       "      <td>12</td>\n",
       "    </tr>\n",
       "    <tr>\n",
       "      <th>26</th>\n",
       "      <td>phone</td>\n",
       "      <td>1803</td>\n",
       "    </tr>\n",
       "    <tr>\n",
       "      <th>27</th>\n",
       "      <td>service</td>\n",
       "      <td>510</td>\n",
       "    </tr>\n",
       "    <tr>\n",
       "      <th>28</th>\n",
       "      <td>att</td>\n",
       "      <td>51</td>\n",
       "    </tr>\n",
       "    <tr>\n",
       "      <th>29</th>\n",
       "      <td>s3 operating system</td>\n",
       "      <td>1</td>\n",
       "    </tr>\n",
       "    <tr>\n",
       "      <th>...</th>\n",
       "      <td>...</td>\n",
       "      <td>...</td>\n",
       "    </tr>\n",
       "    <tr>\n",
       "      <th>7180</th>\n",
       "      <td>the center directional button</td>\n",
       "      <td>6</td>\n",
       "    </tr>\n",
       "    <tr>\n",
       "      <th>7181</th>\n",
       "      <td>opening mechanism</td>\n",
       "      <td>2</td>\n",
       "    </tr>\n",
       "    <tr>\n",
       "      <th>7182</th>\n",
       "      <td>automatic flip open feature</td>\n",
       "      <td>1</td>\n",
       "    </tr>\n",
       "    <tr>\n",
       "      <th>7183</th>\n",
       "      <td>greece</td>\n",
       "      <td>3</td>\n",
       "    </tr>\n",
       "    <tr>\n",
       "      <th>7184</th>\n",
       "      <td>superb quality</td>\n",
       "      <td>1</td>\n",
       "    </tr>\n",
       "    <tr>\n",
       "      <th>7185</th>\n",
       "      <td>want?the</td>\n",
       "      <td>3</td>\n",
       "    </tr>\n",
       "    <tr>\n",
       "      <th>7186</th>\n",
       "      <td>text &amp; multimedia</td>\n",
       "      <td>1</td>\n",
       "    </tr>\n",
       "    <tr>\n",
       "      <th>7187</th>\n",
       "      <td>use features</td>\n",
       "      <td>2</td>\n",
       "    </tr>\n",
       "    <tr>\n",
       "      <th>7188</th>\n",
       "      <td>razr v3i</td>\n",
       "      <td>2</td>\n",
       "    </tr>\n",
       "    <tr>\n",
       "      <th>7189</th>\n",
       "      <td>aluminum</td>\n",
       "      <td>1</td>\n",
       "    </tr>\n",
       "    <tr>\n",
       "      <th>7190</th>\n",
       "      <td>materials</td>\n",
       "      <td>2</td>\n",
       "    </tr>\n",
       "    <tr>\n",
       "      <th>7191</th>\n",
       "      <td>address book</td>\n",
       "      <td>1</td>\n",
       "    </tr>\n",
       "    <tr>\n",
       "      <th>7192</th>\n",
       "      <td>customizability</td>\n",
       "      <td>2</td>\n",
       "    </tr>\n",
       "    <tr>\n",
       "      <th>7193</th>\n",
       "      <td>mo</td>\n",
       "      <td>1</td>\n",
       "    </tr>\n",
       "    <tr>\n",
       "      <th>7194</th>\n",
       "      <td>moly</td>\n",
       "      <td>1</td>\n",
       "    </tr>\n",
       "    <tr>\n",
       "      <th>7195</th>\n",
       "      <td>motorola h3</td>\n",
       "      <td>2</td>\n",
       "    </tr>\n",
       "    <tr>\n",
       "      <th>7196</th>\n",
       "      <td>transflash</td>\n",
       "      <td>2</td>\n",
       "    </tr>\n",
       "    <tr>\n",
       "      <th>7197</th>\n",
       "      <td>t1/t3</td>\n",
       "      <td>1</td>\n",
       "    </tr>\n",
       "    <tr>\n",
       "      <th>7198</th>\n",
       "      <td>voice interface</td>\n",
       "      <td>1</td>\n",
       "    </tr>\n",
       "    <tr>\n",
       "      <th>7199</th>\n",
       "      <td>u.s.so</td>\n",
       "      <td>1</td>\n",
       "    </tr>\n",
       "    <tr>\n",
       "      <th>7200</th>\n",
       "      <td>br50</td>\n",
       "      <td>1</td>\n",
       "    </tr>\n",
       "    <tr>\n",
       "      <th>7201</th>\n",
       "      <td>south africa</td>\n",
       "      <td>10</td>\n",
       "    </tr>\n",
       "    <tr>\n",
       "      <th>7202</th>\n",
       "      <td>nz</td>\n",
       "      <td>5</td>\n",
       "    </tr>\n",
       "    <tr>\n",
       "      <th>7203</th>\n",
       "      <td>indonesia</td>\n",
       "      <td>5</td>\n",
       "    </tr>\n",
       "    <tr>\n",
       "      <th>7204</th>\n",
       "      <td>north africa</td>\n",
       "      <td>19</td>\n",
       "    </tr>\n",
       "    <tr>\n",
       "      <th>7205</th>\n",
       "      <td>middle east</td>\n",
       "      <td>19</td>\n",
       "    </tr>\n",
       "    <tr>\n",
       "      <th>7206</th>\n",
       "      <td>digital audio player</td>\n",
       "      <td>1</td>\n",
       "    </tr>\n",
       "    <tr>\n",
       "      <th>7207</th>\n",
       "      <td>dap</td>\n",
       "      <td>1</td>\n",
       "    </tr>\n",
       "    <tr>\n",
       "      <th>7208</th>\n",
       "      <td>cindi</td>\n",
       "      <td>4</td>\n",
       "    </tr>\n",
       "    <tr>\n",
       "      <th>7209</th>\n",
       "      <td>phone boots up</td>\n",
       "      <td>1</td>\n",
       "    </tr>\n",
       "  </tbody>\n",
       "</table>\n",
       "<p>7210 rows × 2 columns</p>\n",
       "</div>"
      ],
      "text/plain": [
       "                             aspect  degree\n",
       "0                              case     593\n",
       "1                            pieces       7\n",
       "2                             price    2681\n",
       "3                               use    1115\n",
       "4                              nook       7\n",
       "5                           quality    1025\n",
       "6                          shipping     447\n",
       "7                           battery    1226\n",
       "8                              vaio       2\n",
       "9                       usb charger       4\n",
       "10                           tablet       7\n",
       "11      the tablet sony vaio tap 11       4\n",
       "12                               ac      96\n",
       "13            the transformer tf300       1\n",
       "14                              usb     542\n",
       "15                           amazon    1276\n",
       "16                             cord     213\n",
       "17                           update       4\n",
       "18                            smurf       2\n",
       "19               lightweight aspect       2\n",
       "20                 screen protector      11\n",
       "21       spongebob squarepants home       1\n",
       "22                           button     388\n",
       "23                           iphone     136\n",
       "24                              fyi      17\n",
       "25                             siri      12\n",
       "26                            phone    1803\n",
       "27                          service     510\n",
       "28                              att      51\n",
       "29              s3 operating system       1\n",
       "...                             ...     ...\n",
       "7180  the center directional button       6\n",
       "7181              opening mechanism       2\n",
       "7182    automatic flip open feature       1\n",
       "7183                         greece       3\n",
       "7184                 superb quality       1\n",
       "7185                       want?the       3\n",
       "7186              text & multimedia       1\n",
       "7187                   use features       2\n",
       "7188                       razr v3i       2\n",
       "7189                       aluminum       1\n",
       "7190                      materials       2\n",
       "7191                   address book       1\n",
       "7192                customizability       2\n",
       "7193                             mo       1\n",
       "7194                           moly       1\n",
       "7195                    motorola h3       2\n",
       "7196                     transflash       2\n",
       "7197                          t1/t3       1\n",
       "7198                voice interface       1\n",
       "7199                         u.s.so       1\n",
       "7200                           br50       1\n",
       "7201                   south africa      10\n",
       "7202                             nz       5\n",
       "7203                      indonesia       5\n",
       "7204                   north africa      19\n",
       "7205                    middle east      19\n",
       "7206           digital audio player       1\n",
       "7207                            dap       1\n",
       "7208                          cindi       4\n",
       "7209                 phone boots up       1\n",
       "\n",
       "[7210 rows x 2 columns]"
      ]
     },
     "execution_count": 35,
     "metadata": {},
     "output_type": "execute_result"
    }
   ],
   "source": [
    "degree_df"
   ]
  },
  {
   "cell_type": "code",
   "execution_count": 31,
   "metadata": {
    "ExecuteTime": {
     "end_time": "2020-03-26T09:23:06.735361Z",
     "start_time": "2020-03-26T09:23:06.447676Z"
    }
   },
   "outputs": [
    {
     "data": {
      "text/plain": [
       "<matplotlib.axes._subplots.AxesSubplot at 0x7fb067f3d7b8>"
      ]
     },
     "execution_count": 31,
     "metadata": {},
     "output_type": "execute_result"
    },
    {
     "data": {
      "image/png": "[encoded data removed]",
      "text/plain": [
       "<Figure size 432x288 with 1 Axes>"
      ]
     },
     "metadata": {
      "needs_background": "light"
     },
     "output_type": "display_data"
    }
   ],
   "source": [
    "degree_df.degree.hist(bins=100)"
   ]
  },
  {
   "cell_type": "code",
   "execution_count": 36,
   "metadata": {
    "ExecuteTime": {
     "end_time": "2020-03-26T09:26:37.449300Z",
     "start_time": "2020-03-26T09:26:37.428109Z"
    }
   },
   "outputs": [
    {
     "data": {
      "text/html": [
       "<div>\n",
       "<style scoped>\n",
       "    .dataframe tbody tr th:only-of-type {\n",
       "        vertical-align: middle;\n",
       "    }\n",
       "\n",
       "    .dataframe tbody tr th {\n",
       "        vertical-align: top;\n",
       "    }\n",
       "\n",
       "    .dataframe thead th {\n",
       "        text-align: right;\n",
       "    }\n",
       "</style>\n",
       "<table border=\"1\" class=\"dataframe\">\n",
       "  <thead>\n",
       "    <tr style=\"text-align: right;\">\n",
       "      <th></th>\n",
       "      <th>aspect</th>\n",
       "      <th>degree</th>\n",
       "    </tr>\n",
       "  </thead>\n",
       "  <tbody>\n",
       "    <tr>\n",
       "      <th>0</th>\n",
       "      <td>case</td>\n",
       "      <td>593</td>\n",
       "    </tr>\n",
       "    <tr>\n",
       "      <th>1</th>\n",
       "      <td>pieces</td>\n",
       "      <td>7</td>\n",
       "    </tr>\n",
       "    <tr>\n",
       "      <th>2</th>\n",
       "      <td>price</td>\n",
       "      <td>2681</td>\n",
       "    </tr>\n",
       "    <tr>\n",
       "      <th>3</th>\n",
       "      <td>use</td>\n",
       "      <td>1115</td>\n",
       "    </tr>\n",
       "    <tr>\n",
       "      <th>4</th>\n",
       "      <td>nook</td>\n",
       "      <td>7</td>\n",
       "    </tr>\n",
       "    <tr>\n",
       "      <th>5</th>\n",
       "      <td>quality</td>\n",
       "      <td>1025</td>\n",
       "    </tr>\n",
       "    <tr>\n",
       "      <th>6</th>\n",
       "      <td>shipping</td>\n",
       "      <td>447</td>\n",
       "    </tr>\n",
       "    <tr>\n",
       "      <th>7</th>\n",
       "      <td>battery</td>\n",
       "      <td>1226</td>\n",
       "    </tr>\n",
       "    <tr>\n",
       "      <th>10</th>\n",
       "      <td>tablet</td>\n",
       "      <td>7</td>\n",
       "    </tr>\n",
       "    <tr>\n",
       "      <th>12</th>\n",
       "      <td>ac</td>\n",
       "      <td>96</td>\n",
       "    </tr>\n",
       "    <tr>\n",
       "      <th>14</th>\n",
       "      <td>usb</td>\n",
       "      <td>542</td>\n",
       "    </tr>\n",
       "    <tr>\n",
       "      <th>15</th>\n",
       "      <td>amazon</td>\n",
       "      <td>1276</td>\n",
       "    </tr>\n",
       "    <tr>\n",
       "      <th>16</th>\n",
       "      <td>cord</td>\n",
       "      <td>213</td>\n",
       "    </tr>\n",
       "    <tr>\n",
       "      <th>20</th>\n",
       "      <td>screen protector</td>\n",
       "      <td>11</td>\n",
       "    </tr>\n",
       "    <tr>\n",
       "      <th>22</th>\n",
       "      <td>button</td>\n",
       "      <td>388</td>\n",
       "    </tr>\n",
       "    <tr>\n",
       "      <th>23</th>\n",
       "      <td>iphone</td>\n",
       "      <td>136</td>\n",
       "    </tr>\n",
       "    <tr>\n",
       "      <th>24</th>\n",
       "      <td>fyi</td>\n",
       "      <td>17</td>\n",
       "    </tr>\n",
       "    <tr>\n",
       "      <th>25</th>\n",
       "      <td>siri</td>\n",
       "      <td>12</td>\n",
       "    </tr>\n",
       "    <tr>\n",
       "      <th>26</th>\n",
       "      <td>phone</td>\n",
       "      <td>1803</td>\n",
       "    </tr>\n",
       "    <tr>\n",
       "      <th>27</th>\n",
       "      <td>service</td>\n",
       "      <td>510</td>\n",
       "    </tr>\n",
       "    <tr>\n",
       "      <th>28</th>\n",
       "      <td>att</td>\n",
       "      <td>51</td>\n",
       "    </tr>\n",
       "    <tr>\n",
       "      <th>30</th>\n",
       "      <td>s3</td>\n",
       "      <td>6</td>\n",
       "    </tr>\n",
       "    <tr>\n",
       "      <th>31</th>\n",
       "      <td>volume control</td>\n",
       "      <td>82</td>\n",
       "    </tr>\n",
       "    <tr>\n",
       "      <th>32</th>\n",
       "      <td>volume</td>\n",
       "      <td>584</td>\n",
       "    </tr>\n",
       "    <tr>\n",
       "      <th>33</th>\n",
       "      <td>samsung</td>\n",
       "      <td>556</td>\n",
       "    </tr>\n",
       "    <tr>\n",
       "      <th>36</th>\n",
       "      <td>ui</td>\n",
       "      <td>25</td>\n",
       "    </tr>\n",
       "    <tr>\n",
       "      <th>38</th>\n",
       "      <td>bluetooth</td>\n",
       "      <td>842</td>\n",
       "    </tr>\n",
       "    <tr>\n",
       "      <th>40</th>\n",
       "      <td>works</td>\n",
       "      <td>625</td>\n",
       "    </tr>\n",
       "    <tr>\n",
       "      <th>41</th>\n",
       "      <td>speaker</td>\n",
       "      <td>85</td>\n",
       "    </tr>\n",
       "    <tr>\n",
       "      <th>42</th>\n",
       "      <td>sound quality</td>\n",
       "      <td>1111</td>\n",
       "    </tr>\n",
       "    <tr>\n",
       "      <th>...</th>\n",
       "      <td>...</td>\n",
       "      <td>...</td>\n",
       "    </tr>\n",
       "    <tr>\n",
       "      <th>6506</th>\n",
       "      <td>directional pad</td>\n",
       "      <td>11</td>\n",
       "    </tr>\n",
       "    <tr>\n",
       "      <th>6509</th>\n",
       "      <td>vx9800</td>\n",
       "      <td>11</td>\n",
       "    </tr>\n",
       "    <tr>\n",
       "      <th>6553</th>\n",
       "      <td>looking case</td>\n",
       "      <td>6</td>\n",
       "    </tr>\n",
       "    <tr>\n",
       "      <th>6581</th>\n",
       "      <td>cellstik</td>\n",
       "      <td>7</td>\n",
       "    </tr>\n",
       "    <tr>\n",
       "      <th>6587</th>\n",
       "      <td>vx5200</td>\n",
       "      <td>6</td>\n",
       "    </tr>\n",
       "    <tr>\n",
       "      <th>6590</th>\n",
       "      <td>hours.very</td>\n",
       "      <td>6</td>\n",
       "    </tr>\n",
       "    <tr>\n",
       "      <th>6644</th>\n",
       "      <td>bugs</td>\n",
       "      <td>7</td>\n",
       "    </tr>\n",
       "    <tr>\n",
       "      <th>6673</th>\n",
       "      <td>soo</td>\n",
       "      <td>7</td>\n",
       "    </tr>\n",
       "    <tr>\n",
       "      <th>6686</th>\n",
       "      <td>mic boom</td>\n",
       "      <td>6</td>\n",
       "    </tr>\n",
       "    <tr>\n",
       "      <th>6715</th>\n",
       "      <td>covers - easy</td>\n",
       "      <td>6</td>\n",
       "    </tr>\n",
       "    <tr>\n",
       "      <th>6728</th>\n",
       "      <td>howard sterns</td>\n",
       "      <td>6</td>\n",
       "    </tr>\n",
       "    <tr>\n",
       "      <th>6729</th>\n",
       "      <td>s. jarecki</td>\n",
       "      <td>8</td>\n",
       "    </tr>\n",
       "    <tr>\n",
       "      <th>6744</th>\n",
       "      <td>answer button</td>\n",
       "      <td>6</td>\n",
       "    </tr>\n",
       "    <tr>\n",
       "      <th>6768</th>\n",
       "      <td>voice sound quality</td>\n",
       "      <td>6</td>\n",
       "    </tr>\n",
       "    <tr>\n",
       "      <th>6783</th>\n",
       "      <td>implus</td>\n",
       "      <td>8</td>\n",
       "    </tr>\n",
       "    <tr>\n",
       "      <th>6808</th>\n",
       "      <td>tenido problemas con &amp;eacute;l</td>\n",
       "      <td>8</td>\n",
       "    </tr>\n",
       "    <tr>\n",
       "      <th>6809</th>\n",
       "      <td>aunque por lo que se ve da la apariencia que c...</td>\n",
       "      <td>8</td>\n",
       "    </tr>\n",
       "    <tr>\n",
       "      <th>6870</th>\n",
       "      <td>v3i</td>\n",
       "      <td>13</td>\n",
       "    </tr>\n",
       "    <tr>\n",
       "      <th>6936</th>\n",
       "      <td>vosky</td>\n",
       "      <td>9</td>\n",
       "    </tr>\n",
       "    <tr>\n",
       "      <th>6938</th>\n",
       "      <td>cargnelli</td>\n",
       "      <td>10</td>\n",
       "    </tr>\n",
       "    <tr>\n",
       "      <th>7009</th>\n",
       "      <td>israel</td>\n",
       "      <td>21</td>\n",
       "    </tr>\n",
       "    <tr>\n",
       "      <th>7015</th>\n",
       "      <td>the caller id</td>\n",
       "      <td>8</td>\n",
       "    </tr>\n",
       "    <tr>\n",
       "      <th>7061</th>\n",
       "      <td>v361 v365 v975 v980</td>\n",
       "      <td>12</td>\n",
       "    </tr>\n",
       "    <tr>\n",
       "      <th>7098</th>\n",
       "      <td>blackjack</td>\n",
       "      <td>11</td>\n",
       "    </tr>\n",
       "    <tr>\n",
       "      <th>7169</th>\n",
       "      <td>both times</td>\n",
       "      <td>6</td>\n",
       "    </tr>\n",
       "    <tr>\n",
       "      <th>7179</th>\n",
       "      <td>center directional</td>\n",
       "      <td>6</td>\n",
       "    </tr>\n",
       "    <tr>\n",
       "      <th>7180</th>\n",
       "      <td>the center directional button</td>\n",
       "      <td>6</td>\n",
       "    </tr>\n",
       "    <tr>\n",
       "      <th>7201</th>\n",
       "      <td>south africa</td>\n",
       "      <td>10</td>\n",
       "    </tr>\n",
       "    <tr>\n",
       "      <th>7204</th>\n",
       "      <td>north africa</td>\n",
       "      <td>19</td>\n",
       "    </tr>\n",
       "    <tr>\n",
       "      <th>7205</th>\n",
       "      <td>middle east</td>\n",
       "      <td>19</td>\n",
       "    </tr>\n",
       "  </tbody>\n",
       "</table>\n",
       "<p>1200 rows × 2 columns</p>\n",
       "</div>"
      ],
      "text/plain": [
       "                                                 aspect  degree\n",
       "0                                                  case     593\n",
       "1                                                pieces       7\n",
       "2                                                 price    2681\n",
       "3                                                   use    1115\n",
       "4                                                  nook       7\n",
       "5                                               quality    1025\n",
       "6                                              shipping     447\n",
       "7                                               battery    1226\n",
       "10                                               tablet       7\n",
       "12                                                   ac      96\n",
       "14                                                  usb     542\n",
       "15                                               amazon    1276\n",
       "16                                                 cord     213\n",
       "20                                     screen protector      11\n",
       "22                                               button     388\n",
       "23                                               iphone     136\n",
       "24                                                  fyi      17\n",
       "25                                                 siri      12\n",
       "26                                                phone    1803\n",
       "27                                              service     510\n",
       "28                                                  att      51\n",
       "30                                                   s3       6\n",
       "31                                       volume control      82\n",
       "32                                               volume     584\n",
       "33                                              samsung     556\n",
       "36                                                   ui      25\n",
       "38                                            bluetooth     842\n",
       "40                                                works     625\n",
       "41                                              speaker      85\n",
       "42                                        sound quality    1111\n",
       "...                                                 ...     ...\n",
       "6506                                    directional pad      11\n",
       "6509                                             vx9800      11\n",
       "6553                                       looking case       6\n",
       "6581                                           cellstik       7\n",
       "6587                                             vx5200       6\n",
       "6590                                         hours.very       6\n",
       "6644                                               bugs       7\n",
       "6673                                                soo       7\n",
       "6686                                           mic boom       6\n",
       "6715                                      covers - easy       6\n",
       "6728                                      howard sterns       6\n",
       "6729                                         s. jarecki       8\n",
       "6744                                      answer button       6\n",
       "6768                                voice sound quality       6\n",
       "6783                                             implus       8\n",
       "6808                     tenido problemas con &eacute;l       8\n",
       "6809  aunque por lo que se ve da la apariencia que c...       8\n",
       "6870                                                v3i      13\n",
       "6936                                              vosky       9\n",
       "6938                                          cargnelli      10\n",
       "7009                                             israel      21\n",
       "7015                                      the caller id       8\n",
       "7061                                v361 v365 v975 v980      12\n",
       "7098                                          blackjack      11\n",
       "7169                                         both times       6\n",
       "7179                                 center directional       6\n",
       "7180                      the center directional button       6\n",
       "7201                                       south africa      10\n",
       "7204                                       north africa      19\n",
       "7205                                        middle east      19\n",
       "\n",
       "[1200 rows x 2 columns]"
      ]
     },
     "execution_count": 36,
     "metadata": {},
     "output_type": "execute_result"
    }
   ],
   "source": [
    "degree_df[degree_df.degree > 5]"
   ]
  },
  {
   "cell_type": "code",
   "execution_count": null,
   "metadata": {},
   "outputs": [],
   "source": [
    "degree_df[degree_df.degree]"
   ]
  },
  {
   "cell_type": "markdown",
   "metadata": {},
   "source": [
    "## Aspect's page ranks"
   ]
  },
  {
   "cell_type": "code",
   "execution_count": 9,
   "metadata": {
    "ExecuteTime": {
     "end_time": "2020-03-26T09:11:55.109751Z",
     "start_time": "2020-03-26T09:11:55.094750Z"
    }
   },
   "outputs": [
    {
     "ename": "FileNotFoundError",
     "evalue": "[Errno 2] No such file or directory: '../results/reviews_Cell_Phones_and_Accessories-50000-docs/our/aspects_weighted_page_ranks.pkl'",
     "output_type": "error",
     "traceback": [
      "\u001b[0;31m---------------------------------------------------------------------------\u001b[0m",
      "\u001b[0;31mFileNotFoundError\u001b[0m                         Traceback (most recent call last)",
      "\u001b[0;32m<ipython-input-9-f771544d4549>\u001b[0m in \u001b[0;36m<module>\u001b[0;34m\u001b[0m\n\u001b[0;32m----> 1\u001b[0;31m \u001b[0maspects_page_ranks\u001b[0m \u001b[0;34m=\u001b[0m \u001b[0mserializer\u001b[0m\u001b[0;34m.\u001b[0m\u001b[0mload\u001b[0m\u001b[0;34m(\u001b[0m\u001b[0mexperiment_paths\u001b[0m\u001b[0;34m.\u001b[0m\u001b[0maspects_weighted_page_ranks\u001b[0m\u001b[0;34m)\u001b[0m\u001b[0;34m\u001b[0m\u001b[0;34m\u001b[0m\u001b[0m\n\u001b[0m",
      "\u001b[0;32m~/github/phd/sentiment-backend/aspects/data_io/serializer.py\u001b[0m in \u001b[0;36mload\u001b[0;34m(filepath)\u001b[0m\n\u001b[1;32m      6\u001b[0m \u001b[0;34m\u001b[0m\u001b[0m\n\u001b[1;32m      7\u001b[0m \u001b[0;32mdef\u001b[0m \u001b[0mload\u001b[0m\u001b[0;34m(\u001b[0m\u001b[0mfilepath\u001b[0m\u001b[0;34m)\u001b[0m\u001b[0;34m:\u001b[0m\u001b[0;34m\u001b[0m\u001b[0;34m\u001b[0m\u001b[0m\n\u001b[0;32m----> 8\u001b[0;31m     \u001b[0;32mwith\u001b[0m \u001b[0mopen\u001b[0m\u001b[0;34m(\u001b[0m\u001b[0mfilepath\u001b[0m\u001b[0;34m,\u001b[0m \u001b[0;34m\"rb\"\u001b[0m\u001b[0;34m)\u001b[0m \u001b[0;32mas\u001b[0m \u001b[0mfo\u001b[0m\u001b[0;34m:\u001b[0m\u001b[0;34m\u001b[0m\u001b[0;34m\u001b[0m\u001b[0m\n\u001b[0m\u001b[1;32m      9\u001b[0m         \u001b[0mpkl\u001b[0m \u001b[0;34m=\u001b[0m \u001b[0mpickle\u001b[0m\u001b[0;34m.\u001b[0m\u001b[0mload\u001b[0m\u001b[0;34m(\u001b[0m\u001b[0mfo\u001b[0m\u001b[0;34m)\u001b[0m\u001b[0;34m\u001b[0m\u001b[0;34m\u001b[0m\u001b[0m\n\u001b[1;32m     10\u001b[0m         \u001b[0mlog\u001b[0m\u001b[0;34m.\u001b[0m\u001b[0minfo\u001b[0m\u001b[0;34m(\u001b[0m\u001b[0;34m'File loaded: {}'\u001b[0m\u001b[0;34m.\u001b[0m\u001b[0mformat\u001b[0m\u001b[0;34m(\u001b[0m\u001b[0mfilepath\u001b[0m\u001b[0;34m)\u001b[0m\u001b[0;34m)\u001b[0m\u001b[0;34m\u001b[0m\u001b[0;34m\u001b[0m\u001b[0m\n",
      "\u001b[0;31mFileNotFoundError\u001b[0m: [Errno 2] No such file or directory: '../results/reviews_Cell_Phones_and_Accessories-50000-docs/our/aspects_weighted_page_ranks.pkl'"
     ]
    }
   ],
   "source": [
    "aspects_page_ranks = serializer.load(experiment_paths.aspects_weighted_page_ranks)"
   ]
  },
  {
   "cell_type": "code",
   "execution_count": 21,
   "metadata": {},
   "outputs": [],
   "source": [
    "aspects_page_ranks_df = pd.DataFrame(\n",
    "    [(aspect, page_rank) for aspect, page_rank in aspects_page_ranks.items()],\n",
    "    columns=['aspect', 'pagerank']\n",
    ")"
   ]
  },
  {
   "cell_type": "code",
   "execution_count": 22,
   "metadata": {},
   "outputs": [
    {
     "data": {
      "text/html": [
       "<div>\n",
       "<table border=\"1\" class=\"dataframe\">\n",
       "  <thead>\n",
       "    <tr style=\"text-align: right;\">\n",
       "      <th></th>\n",
       "      <th>aspect</th>\n",
       "      <th>pagerank</th>\n",
       "    </tr>\n",
       "  </thead>\n",
       "  <tbody>\n",
       "    <tr>\n",
       "      <th>0</th>\n",
       "      <td>phone</td>\n",
       "      <td>0.050792</td>\n",
       "    </tr>\n",
       "    <tr>\n",
       "      <th>1</th>\n",
       "      <td>product</td>\n",
       "      <td>0.034677</td>\n",
       "    </tr>\n",
       "    <tr>\n",
       "      <th>2</th>\n",
       "      <td>headset</td>\n",
       "      <td>0.021423</td>\n",
       "    </tr>\n",
       "    <tr>\n",
       "      <th>3</th>\n",
       "      <td>case</td>\n",
       "      <td>0.020639</td>\n",
       "    </tr>\n",
       "    <tr>\n",
       "      <th>4</th>\n",
       "      <td>price</td>\n",
       "      <td>0.011911</td>\n",
       "    </tr>\n",
       "    <tr>\n",
       "      <th>5</th>\n",
       "      <td>battery</td>\n",
       "      <td>0.011545</td>\n",
       "    </tr>\n",
       "    <tr>\n",
       "      <th>6</th>\n",
       "      <td>item</td>\n",
       "      <td>0.010770</td>\n",
       "    </tr>\n",
       "    <tr>\n",
       "      <th>7</th>\n",
       "      <td>charger</td>\n",
       "      <td>0.010195</td>\n",
       "    </tr>\n",
       "    <tr>\n",
       "      <th>8</th>\n",
       "      <td>motorola</td>\n",
       "      <td>0.005958</td>\n",
       "    </tr>\n",
       "    <tr>\n",
       "      <th>9</th>\n",
       "      <td>what</td>\n",
       "      <td>0.005383</td>\n",
       "    </tr>\n",
       "  </tbody>\n",
       "</table>\n",
       "</div>"
      ],
      "text/plain": [
       "     aspect  pagerank\n",
       "0     phone  0.050792\n",
       "1   product  0.034677\n",
       "2   headset  0.021423\n",
       "3      case  0.020639\n",
       "4     price  0.011911\n",
       "5   battery  0.011545\n",
       "6      item  0.010770\n",
       "7   charger  0.010195\n",
       "8  motorola  0.005958\n",
       "9      what  0.005383"
      ]
     },
     "execution_count": 22,
     "metadata": {},
     "output_type": "execute_result"
    }
   ],
   "source": [
    "aspects_page_ranks_df.head(10)"
   ]
  },
  {
   "cell_type": "code",
   "execution_count": 23,
   "metadata": {
    "collapsed": true
   },
   "outputs": [],
   "source": [
    "aspects_page_ranks_df['count'] = aspects_page_ranks_df.aspect.apply(lambda a: aspects_counter[a])"
   ]
  },
  {
   "cell_type": "code",
   "execution_count": 24,
   "metadata": {},
   "outputs": [
    {
     "data": {
      "text/html": [
       "<div>\n",
       "<table border=\"1\" class=\"dataframe\">\n",
       "  <thead>\n",
       "    <tr style=\"text-align: right;\">\n",
       "      <th></th>\n",
       "      <th>aspect</th>\n",
       "      <th>pagerank</th>\n",
       "      <th>count</th>\n",
       "    </tr>\n",
       "  </thead>\n",
       "  <tbody>\n",
       "    <tr>\n",
       "      <th>0</th>\n",
       "      <td>phone</td>\n",
       "      <td>0.050792</td>\n",
       "      <td>92275</td>\n",
       "    </tr>\n",
       "    <tr>\n",
       "      <th>1</th>\n",
       "      <td>product</td>\n",
       "      <td>0.034677</td>\n",
       "      <td>22422</td>\n",
       "    </tr>\n",
       "    <tr>\n",
       "      <th>2</th>\n",
       "      <td>headset</td>\n",
       "      <td>0.021423</td>\n",
       "      <td>26873</td>\n",
       "    </tr>\n",
       "    <tr>\n",
       "      <th>3</th>\n",
       "      <td>case</td>\n",
       "      <td>0.020639</td>\n",
       "      <td>23596</td>\n",
       "    </tr>\n",
       "    <tr>\n",
       "      <th>4</th>\n",
       "      <td>price</td>\n",
       "      <td>0.011911</td>\n",
       "      <td>13375</td>\n",
       "    </tr>\n",
       "    <tr>\n",
       "      <th>5</th>\n",
       "      <td>battery</td>\n",
       "      <td>0.011545</td>\n",
       "      <td>19786</td>\n",
       "    </tr>\n",
       "    <tr>\n",
       "      <th>6</th>\n",
       "      <td>item</td>\n",
       "      <td>0.010770</td>\n",
       "      <td>7876</td>\n",
       "    </tr>\n",
       "    <tr>\n",
       "      <th>7</th>\n",
       "      <td>charger</td>\n",
       "      <td>0.010195</td>\n",
       "      <td>12405</td>\n",
       "    </tr>\n",
       "    <tr>\n",
       "      <th>8</th>\n",
       "      <td>motorola</td>\n",
       "      <td>0.005958</td>\n",
       "      <td>8031</td>\n",
       "    </tr>\n",
       "    <tr>\n",
       "      <th>9</th>\n",
       "      <td>what</td>\n",
       "      <td>0.005383</td>\n",
       "      <td>14095</td>\n",
       "    </tr>\n",
       "  </tbody>\n",
       "</table>\n",
       "</div>"
      ],
      "text/plain": [
       "     aspect  pagerank  count\n",
       "0     phone  0.050792  92275\n",
       "1   product  0.034677  22422\n",
       "2   headset  0.021423  26873\n",
       "3      case  0.020639  23596\n",
       "4     price  0.011911  13375\n",
       "5   battery  0.011545  19786\n",
       "6      item  0.010770   7876\n",
       "7   charger  0.010195  12405\n",
       "8  motorola  0.005958   8031\n",
       "9      what  0.005383  14095"
      ]
     },
     "execution_count": 24,
     "metadata": {},
     "output_type": "execute_result"
    }
   ],
   "source": [
    "aspects_page_ranks_df.head(10)"
   ]
  },
  {
   "cell_type": "code",
   "execution_count": 25,
   "metadata": {
    "collapsed": true
   },
   "outputs": [],
   "source": [
    "aspects_graph = load_serialized(data_path_aspects_graph)"
   ]
  },
  {
   "cell_type": "code",
   "execution_count": 26,
   "metadata": {},
   "outputs": [
    {
     "data": {
      "text/plain": [
       "<networkx.classes.multidigraph.MultiDiGraph at 0x7f5da31550d0>"
      ]
     },
     "execution_count": 26,
     "metadata": {},
     "output_type": "execute_result"
    }
   ],
   "source": [
    "aspects_graph.to_directed()"
   ]
  },
  {
   "cell_type": "markdown",
   "metadata": {},
   "source": [
    "### Edges analysis"
   ]
  },
  {
   "cell_type": "markdown",
   "metadata": {},
   "source": [
    "Direction of the edge means relation from satellite to nucelus. S -> N"
   ]
  },
  {
   "cell_type": "code",
   "execution_count": 12,
   "metadata": {
    "ExecuteTime": {
     "end_time": "2020-03-26T09:13:00.631756Z",
     "start_time": "2020-03-26T09:13:00.596701Z"
    }
   },
   "outputs": [],
   "source": [
    "edges_counter = Counter(aspect_to_aspect_graph.edges())"
   ]
  },
  {
   "cell_type": "code",
   "execution_count": 13,
   "metadata": {
    "ExecuteTime": {
     "end_time": "2020-03-26T09:13:01.706001Z",
     "start_time": "2020-03-26T09:13:01.696786Z"
    }
   },
   "outputs": [
    {
     "data": {
      "text/plain": [
       "[(('features', 'phone'), 70),\n",
       " (('amazon', 'price'), 64),\n",
       " (('motorola', 'price'), 63),\n",
       " (('battery', 'price'), 62),\n",
       " (('price', 'amazon'), 61),\n",
       " (('quality', 'price'), 52),\n",
       " (('price', 'motorola'), 47),\n",
       " (('charger', 'price'), 47),\n",
       " (('price', 'battery'), 46),\n",
       " (('sound quality', 'price'), 46)]"
      ]
     },
     "execution_count": 13,
     "metadata": {},
     "output_type": "execute_result"
    }
   ],
   "source": [
    "edges_counter.most_common(10)"
   ]
  },
  {
   "cell_type": "code",
   "execution_count": 17,
   "metadata": {
    "ExecuteTime": {
     "end_time": "2020-03-26T09:13:47.165912Z",
     "start_time": "2020-03-26T09:13:47.156708Z"
    }
   },
   "outputs": [
    {
     "data": {
      "text/plain": [
       "[(('volume', 'price'), 24),\n",
       " (('volume', 'motorola'), 15),\n",
       " (('volume', 'sound quality'), 14),\n",
       " (('volume', 'battery life'), 11),\n",
       " (('volume', 'sound'), 10),\n",
       " (('sound quality', 'volume'), 10),\n",
       " (('use', 'volume'), 10),\n",
       " (('motorola', 'volume'), 9),\n",
       " (('sound', 'volume'), 9),\n",
       " (('volume', 'works'), 8)]"
      ]
     },
     "execution_count": 17,
     "metadata": {},
     "output_type": "execute_result"
    }
   ],
   "source": [
    "aspect = u'volume'\n",
    "sorted({\n",
    "    (aspects, cooccurence)\n",
    "    for aspects, cooccurence\n",
    "    in edges_counter.items()\n",
    "    if aspect in aspects\n",
    "}, key=operator.itemgetter(1), reverse=True)[:10]    "
   ]
  },
  {
   "cell_type": "code",
   "execution_count": 18,
   "metadata": {
    "ExecuteTime": {
     "end_time": "2020-03-26T09:14:03.530091Z",
     "start_time": "2020-03-26T09:14:03.516130Z"
    },
    "scrolled": false
   },
   "outputs": [
    {
     "ename": "NameError",
     "evalue": "name 'aspects_page_ranks' is not defined",
     "output_type": "error",
     "traceback": [
      "\u001b[0;31m---------------------------------------------------------------------------\u001b[0m",
      "\u001b[0;31mNameError\u001b[0m                                 Traceback (most recent call last)",
      "\u001b[0;32m<ipython-input-18-24c63b124226>\u001b[0m in \u001b[0;36m<module>\u001b[0;34m\u001b[0m\n\u001b[1;32m      1\u001b[0m \u001b[0maspect_hierarchy_elements\u001b[0m \u001b[0;34m=\u001b[0m \u001b[0;34m[\u001b[0m\u001b[0;34m]\u001b[0m\u001b[0;34m\u001b[0m\u001b[0;34m\u001b[0m\u001b[0m\n\u001b[1;32m      2\u001b[0m \u001b[0;32mfor\u001b[0m \u001b[0;34m(\u001b[0m\u001b[0maspect_1\u001b[0m\u001b[0;34m,\u001b[0m \u001b[0maspect_2\u001b[0m\u001b[0;34m)\u001b[0m\u001b[0;34m,\u001b[0m \u001b[0mn_count\u001b[0m \u001b[0;32min\u001b[0m \u001b[0medges_counter\u001b[0m\u001b[0;34m.\u001b[0m\u001b[0mmost_common\u001b[0m\u001b[0;34m(\u001b[0m\u001b[0;36m250\u001b[0m\u001b[0;34m)\u001b[0m\u001b[0;34m:\u001b[0m\u001b[0;34m\u001b[0m\u001b[0;34m\u001b[0m\u001b[0m\n\u001b[0;32m----> 3\u001b[0;31m     \u001b[0maspect_hierarchy_elements\u001b[0m\u001b[0;34m.\u001b[0m\u001b[0mappend\u001b[0m\u001b[0;34m(\u001b[0m\u001b[0mget_aspects_hierarchy\u001b[0m\u001b[0;34m(\u001b[0m\u001b[0medges_counter\u001b[0m\u001b[0;34m,\u001b[0m \u001b[0maspects_page_ranks\u001b[0m\u001b[0;34m,\u001b[0m \u001b[0maspect_1\u001b[0m\u001b[0;34m,\u001b[0m \u001b[0maspect_2\u001b[0m\u001b[0;34m)\u001b[0m\u001b[0;34m)\u001b[0m\u001b[0;34m\u001b[0m\u001b[0;34m\u001b[0m\u001b[0m\n\u001b[0m\u001b[1;32m      4\u001b[0m \u001b[0;34m\u001b[0m\u001b[0m\n\u001b[1;32m      5\u001b[0m \u001b[0maspect_hierarchy_elements\u001b[0m \u001b[0;34m=\u001b[0m \u001b[0mset\u001b[0m\u001b[0;34m(\u001b[0m\u001b[0maspect_hierarchy_elements\u001b[0m\u001b[0;34m)\u001b[0m\u001b[0;34m\u001b[0m\u001b[0;34m\u001b[0m\u001b[0m\n",
      "\u001b[0;31mNameError\u001b[0m: name 'aspects_page_ranks' is not defined"
     ]
    }
   ],
   "source": [
    "aspect_hierarchy_elements = []\n",
    "for (aspect_1, aspect_2), n_count in edges_counter.most_common(250):\n",
    "    aspect_hierarchy_elements.append(get_aspects_hierarchy(edges_counter, aspects_page_ranks, aspect_1, aspect_2))\n",
    "\n",
    "aspect_hierarchy_elements = set(aspect_hierarchy_elements)"
   ]
  },
  {
   "cell_type": "code",
   "execution_count": 64,
   "metadata": {},
   "outputs": [
    {
     "data": {
      "text/plain": [
       "AspectHierarchyRST(nucleus='phone', satellite='camera', all_relations=176)"
      ]
     },
     "execution_count": 64,
     "metadata": {},
     "output_type": "execute_result"
    }
   ],
   "source": [
    "get_aspects_hierarchy(edges_counter, aspects_page_ranks, 'phone', 'camera')"
   ]
  },
  {
   "cell_type": "code",
   "execution_count": 65,
   "metadata": {
    "collapsed": true
   },
   "outputs": [],
   "source": [
    "import operator"
   ]
  },
  {
   "cell_type": "code",
   "execution_count": 66,
   "metadata": {
    "scrolled": false
   },
   "outputs": [
    {
     "data": {
      "text/plain": [
       "[AspectHierarchyRST(nucleus=u'phone', satellite=u'case', all_relations=633),\n",
       " AspectHierarchyRST(nucleus=u'phone', satellite=u'battery', all_relations=448),\n",
       " AspectHierarchyRST(nucleus=u'phone', satellite=u'product', all_relations=446),\n",
       " AspectHierarchyRST(nucleus=u'phone', satellite=u'headset', all_relations=322),\n",
       " AspectHierarchyRST(nucleus=u'phone', satellite=u'problem', all_relations=280),\n",
       " AspectHierarchyRST(nucleus=u'phone', satellite=u'charger', all_relations=270),\n",
       " AspectHierarchyRST(nucleus=u'phone', satellite=u'price', all_relations=266),\n",
       " AspectHierarchyRST(nucleus=u'headset', satellite=u'ear', all_relations=251),\n",
       " AspectHierarchyRST(nucleus=u'phone', satellite=u'feature', all_relations=213),\n",
       " AspectHierarchyRST(nucleus=u'product', satellite=u'headset', all_relations=206),\n",
       " AspectHierarchyRST(nucleus=u'product', satellite=u'price', all_relations=204),\n",
       " AspectHierarchyRST(nucleus=u'phone', satellite=u'thing', all_relations=192),\n",
       " AspectHierarchyRST(nucleus=u'battery', satellite=u'charge', all_relations=183),\n",
       " AspectHierarchyRST(nucleus=u'phone', satellite=u'nokia', all_relations=177),\n",
       " AspectHierarchyRST(nucleus=u'phone', satellite=u'camera', all_relations=176),\n",
       " AspectHierarchyRST(nucleus=u'phone', satellite=u'motorola', all_relations=176),\n",
       " AspectHierarchyRST(nucleus=u'phone', satellite=u'what', all_relations=164),\n",
       " AspectHierarchyRST(nucleus=u'product', satellite=u'case', all_relations=163),\n",
       " AspectHierarchyRST(nucleus=u'phone', satellite=u'screen', all_relations=162),\n",
       " AspectHierarchyRST(nucleus=u'phone', satellite=u'one', all_relations=159),\n",
       " AspectHierarchyRST(nucleus=u'price', satellite=u'battery', all_relations=159),\n",
       " AspectHierarchyRST(nucleus=u'phone', satellite=u'item', all_relations=149),\n",
       " AspectHierarchyRST(nucleus=u'phone', satellite=u'cell phone', all_relations=145),\n",
       " AspectHierarchyRST(nucleus=u'phone', satellite=u'lot', all_relations=142),\n",
       " AspectHierarchyRST(nucleus=u'product', satellite=u'item', all_relations=127),\n",
       " AspectHierarchyRST(nucleus=u'product', satellite=u'problem', all_relations=127),\n",
       " AspectHierarchyRST(nucleus=u'phone', satellite=u'quality', all_relations=124),\n",
       " AspectHierarchyRST(nucleus=u'product', satellite=u'battery', all_relations=123),\n",
       " AspectHierarchyRST(nucleus=u'case', satellite=u'price', all_relations=123),\n",
       " AspectHierarchyRST(nucleus=u'phone', satellite=u'cingular', all_relations=120),\n",
       " AspectHierarchyRST(nucleus=u'phone', satellite=u'call', all_relations=119),\n",
       " AspectHierarchyRST(nucleus=u'product', satellite=u'what', all_relations=119),\n",
       " AspectHierarchyRST(nucleus=u'phone', satellite=u'bluetooth', all_relations=117),\n",
       " AspectHierarchyRST(nucleus=u'headset', satellite=u'problem', all_relations=113),\n",
       " AspectHierarchyRST(nucleus=u'phone', satellite=u'reception', all_relations=112),\n",
       " AspectHierarchyRST(nucleus=u'product', satellite=u'charger', all_relations=112),\n",
       " AspectHierarchyRST(nucleus=u'phone', satellite=u'charge', all_relations=112),\n",
       " AspectHierarchyRST(nucleus=u'phone', satellite=u'samsung', all_relations=111),\n",
       " AspectHierarchyRST(nucleus=u'phone', satellite=u'battery life', all_relations=110),\n",
       " AspectHierarchyRST(nucleus=u'phone', satellite=u'picture', all_relations=107),\n",
       " AspectHierarchyRST(nucleus=u'phone', satellite=u'people', all_relations=106),\n",
       " AspectHierarchyRST(nucleus=u'headset', satellite=u'sound', all_relations=105),\n",
       " AspectHierarchyRST(nucleus=u'headset', satellite=u'sound quality', all_relations=101),\n",
       " AspectHierarchyRST(nucleus=u'headset', satellite=u'bluetooth', all_relations=100),\n",
       " AspectHierarchyRST(nucleus=u'phone', satellite=u'money', all_relations=99),\n",
       " AspectHierarchyRST(nucleus=u'phone', satellite=u'way', all_relations=99),\n",
       " AspectHierarchyRST(nucleus=u'product', satellite=u'ear', all_relations=97),\n",
       " AspectHierarchyRST(nucleus=u'headset', satellite=u'motorola', all_relations=95),\n",
       " AspectHierarchyRST(nucleus=u'price', satellite=u'charger', all_relations=94),\n",
       " AspectHierarchyRST(nucleus=u'case', satellite=u'what', all_relations=93),\n",
       " AspectHierarchyRST(nucleus=u'phone', satellite=u'cover', all_relations=92),\n",
       " AspectHierarchyRST(nucleus=u'phone', satellite=u'service', all_relations=91),\n",
       " AspectHierarchyRST(nucleus=u'headset', satellite=u'price', all_relations=91),\n",
       " AspectHierarchyRST(nucleus=u'product', satellite=u'one', all_relations=89),\n",
       " AspectHierarchyRST(nucleus=u'headset', satellite=u'one', all_relations=89),\n",
       " AspectHierarchyRST(nucleus=u'case', satellite=u'clip', all_relations=88),\n",
       " AspectHierarchyRST(nucleus=u'product', satellite=u'money', all_relations=83),\n",
       " AspectHierarchyRST(nucleus=u'phone', satellite=u'device', all_relations=83),\n",
       " AspectHierarchyRST(nucleus=u'headset', satellite=u'quality', all_relations=83),\n",
       " AspectHierarchyRST(nucleus=u'product', satellite=u'quality', all_relations=83),\n",
       " AspectHierarchyRST(nucleus=u'product', satellite=u'device', all_relations=82),\n",
       " AspectHierarchyRST(nucleus=u'product', satellite=u'thing', all_relations=81),\n",
       " AspectHierarchyRST(nucleus=u'phone', satellite=u'button', all_relations=79),\n",
       " AspectHierarchyRST(nucleus=u'phone', satellite=u'everything', all_relations=78),\n",
       " AspectHierarchyRST(nucleus=u'price', satellite=u'what', all_relations=77),\n",
       " AspectHierarchyRST(nucleus=u'phone', satellite=u'use', all_relations=77),\n",
       " AspectHierarchyRST(nucleus=u'phone', satellite=u'review', all_relations=76),\n",
       " AspectHierarchyRST(nucleus=u'headset', satellite=u'people', all_relations=75),\n",
       " AspectHierarchyRST(nucleus=u'phone', satellite=u'amazon', all_relations=75),\n",
       " AspectHierarchyRST(nucleus=u'battery', satellite=u'cell phone', all_relations=74),\n",
       " AspectHierarchyRST(nucleus=u'headset', satellite=u'volume', all_relations=74),\n",
       " AspectHierarchyRST(nucleus=u'phone', satellite=u'wife', all_relations=74),\n",
       " AspectHierarchyRST(nucleus=u'case', satellite=u'one', all_relations=74),\n",
       " AspectHierarchyRST(nucleus=u'headset', satellite=u'plantronics', all_relations=71),\n",
       " AspectHierarchyRST(nucleus=u'headset', satellite=u'call', all_relations=71),\n",
       " AspectHierarchyRST(nucleus=u'phone', satellite=u'color', all_relations=70),\n",
       " AspectHierarchyRST(nucleus=u'phone', satellite=u'work', all_relations=70),\n",
       " AspectHierarchyRST(nucleus=u'product', satellite=u'car', all_relations=70),\n",
       " AspectHierarchyRST(nucleus=u'phone', satellite=u'sprint', all_relations=70),\n",
       " AspectHierarchyRST(nucleus=u'headset', satellite=u'thing', all_relations=69),\n",
       " AspectHierarchyRST(nucleus=u'phone', satellite=u'friend', all_relations=69),\n",
       " AspectHierarchyRST(nucleus=u'phone', satellite=u'ear', all_relations=67),\n",
       " AspectHierarchyRST(nucleus=u'case', satellite=u'design', all_relations=67),\n",
       " AspectHierarchyRST(nucleus=u'phone', satellite=u'replacement', all_relations=67),\n",
       " AspectHierarchyRST(nucleus=u'phone', satellite=u'headphone', all_relations=67),\n",
       " AspectHierarchyRST(nucleus=u'case', satellite=u'button', all_relations=66),\n",
       " AspectHierarchyRST(nucleus=u'phone', satellite=u'cable', all_relations=66),\n",
       " AspectHierarchyRST(nucleus=u'phone', satellite=u'razr', all_relations=65),\n",
       " AspectHierarchyRST(nucleus=u'case', satellite=u'color', all_relations=64),\n",
       " AspectHierarchyRST(nucleus=u'product', satellite=u'motorola', all_relations=64),\n",
       " AspectHierarchyRST(nucleus=u'phone', satellite=u'holster', all_relations=64),\n",
       " AspectHierarchyRST(nucleus=u'phone', satellite=u'verizon', all_relations=64),\n",
       " AspectHierarchyRST(nucleus=u'product', satellite=u'way', all_relations=64),\n",
       " AspectHierarchyRST(nucleus=u'phone', satellite=u'car', all_relations=62),\n",
       " AspectHierarchyRST(nucleus=u'case', satellite=u'leather', all_relations=62),\n",
       " AspectHierarchyRST(nucleus=u'charger', satellite=u'one', all_relations=62),\n",
       " AspectHierarchyRST(nucleus=u'product', satellite=u'unit', all_relations=61),\n",
       " AspectHierarchyRST(nucleus=u'phone', satellite=u'hour', all_relations=61),\n",
       " AspectHierarchyRST(nucleus=u'headset', satellite=u'cell phone', all_relations=61),\n",
       " AspectHierarchyRST(nucleus=u'battery', satellite=u'one', all_relations=61),\n",
       " AspectHierarchyRST(nucleus=u'case', satellite=u'protection', all_relations=61),\n",
       " AspectHierarchyRST(nucleus=u'phone', satellite=u'unit', all_relations=60),\n",
       " AspectHierarchyRST(nucleus=u'case', satellite=u'back', all_relations=60),\n",
       " AspectHierarchyRST(nucleus=u'phone', satellite=u'sound', all_relations=60),\n",
       " AspectHierarchyRST(nucleus=u'phone', satellite=u'music', all_relations=60),\n",
       " AspectHierarchyRST(nucleus=u'headset', satellite=u'use', all_relations=60),\n",
       " AspectHierarchyRST(nucleus=u'phone', satellite=u'car charger', all_relations=60),\n",
       " AspectHierarchyRST(nucleus=u'phone', satellite=u'ringtone', all_relations=60),\n",
       " AspectHierarchyRST(nucleus=u'phone', satellite=u'signal', all_relations=59),\n",
       " AspectHierarchyRST(nucleus=u'bluetooth', satellite=u'ear', all_relations=58),\n",
       " AspectHierarchyRST(nucleus=u'case', satellite=u'quality', all_relations=58),\n",
       " AspectHierarchyRST(nucleus=u'phone', satellite=u'something', all_relations=58),\n",
       " AspectHierarchyRST(nucleus=u'case', satellite=u'belt', all_relations=58),\n",
       " AspectHierarchyRST(nucleus=u'case', satellite=u'side', all_relations=58),\n",
       " AspectHierarchyRST(nucleus=u'phone', satellite=u'reason', all_relations=58),\n",
       " AspectHierarchyRST(nucleus=u'phone', satellite=u'husband', all_relations=58),\n",
       " AspectHierarchyRST(nucleus=u'product', satellite=u'bluetooth', all_relations=57),\n",
       " AspectHierarchyRST(nucleus=u'phone', satellite=u'purchase', all_relations=57),\n",
       " AspectHierarchyRST(nucleus=u'phone', satellite=u'number', all_relations=57),\n",
       " AspectHierarchyRST(nucleus=u'phone', satellite=u'piece', all_relations=57),\n",
       " AspectHierarchyRST(nucleus=u'case', satellite=u'screen', all_relations=56),\n",
       " AspectHierarchyRST(nucleus=u'headset', satellite=u'device', all_relations=56),\n",
       " AspectHierarchyRST(nucleus=u'phone', satellite=u'size', all_relations=55),\n",
       " AspectHierarchyRST(nucleus=u'phone', satellite=u'couple', all_relations=55),\n",
       " AspectHierarchyRST(nucleus=u'case', satellite=u'problem', all_relations=54),\n",
       " AspectHierarchyRST(nucleus=u'case', satellite=u'fit', all_relations=54),\n",
       " AspectHierarchyRST(nucleus=u'product', satellite=u'cell phone', all_relations=54),\n",
       " AspectHierarchyRST(nucleus=u'battery', satellite=u'what', all_relations=54),\n",
       " AspectHierarchyRST(nucleus=u'phone', satellite=u'software', all_relations=54),\n",
       " AspectHierarchyRST(nucleus=u'headset', satellite=u'review', all_relations=54),\n",
       " AspectHierarchyRST(nucleus=u'case', satellite=u'way', all_relations=54),\n",
       " AspectHierarchyRST(nucleus=u'battery', satellite=u'hour', all_relations=54),\n",
       " AspectHierarchyRST(nucleus=u'phone', satellite=u'who', all_relations=53),\n",
       " AspectHierarchyRST(nucleus=u'case', satellite=u'belt clip', all_relations=52),\n",
       " AspectHierarchyRST(nucleus=u'price', satellite=u'one', all_relations=52),\n",
       " AspectHierarchyRST(nucleus=u'product', satellite=u'use', all_relations=52),\n",
       " AspectHierarchyRST(nucleus=u'charger', satellite=u'charge', all_relations=51),\n",
       " AspectHierarchyRST(nucleus=u'phone', satellite=u'nothing', all_relations=51),\n",
       " AspectHierarchyRST(nucleus=u'product', satellite=u'people', all_relations=50),\n",
       " AspectHierarchyRST(nucleus=u'product', satellite=u'shipping', all_relations=50),\n",
       " AspectHierarchyRST(nucleus=u'battery', satellite=u'nokia', all_relations=50),\n",
       " AspectHierarchyRST(nucleus=u'price', satellite=u'item', all_relations=50),\n",
       " AspectHierarchyRST(nucleus=u'case', satellite=u'item', all_relations=50),\n",
       " AspectHierarchyRST(nucleus=u'case', satellite=u'thing', all_relations=49),\n",
       " AspectHierarchyRST(nucleus=u'headset', satellite=u'button', all_relations=49),\n",
       " AspectHierarchyRST(nucleus=u'charger', satellite=u'light', all_relations=49),\n",
       " AspectHierarchyRST(nucleus=u'case', satellite=u'plastic', all_relations=49),\n",
       " AspectHierarchyRST(nucleus=u'headset', satellite=u'unit', all_relations=49),\n",
       " AspectHierarchyRST(nucleus=u'phone', satellite=u'sound quality', all_relations=49),\n",
       " AspectHierarchyRST(nucleus=u'phone', satellite=u'issue', all_relations=49),\n",
       " AspectHierarchyRST(nucleus=u'phone', satellite=u'side', all_relations=49),\n",
       " AspectHierarchyRST(nucleus=u'phone', satellite=u'pocket', all_relations=49),\n",
       " AspectHierarchyRST(nucleus=u'phone', satellite=u'volume', all_relations=49),\n",
       " AspectHierarchyRST(nucleus=u'product', satellite=u'sound', all_relations=49),\n",
       " AspectHierarchyRST(nucleus=u'battery', satellite=u'problem', all_relations=49),\n",
       " AspectHierarchyRST(nucleus=u'phone', satellite=u'speakerphone', all_relations=48),\n",
       " AspectHierarchyRST(nucleus=u'headset', satellite=u'bluetooth headset', all_relations=48),\n",
       " AspectHierarchyRST(nucleus=u'phone', satellite=u'anyone', all_relations=48),\n",
       " AspectHierarchyRST(nucleus=u'phone', satellite=u'anything', all_relations=48),\n",
       " AspectHierarchyRST(nucleus=u'item', satellite=u'what', all_relations=48),\n",
       " AspectHierarchyRST(nucleus=u'case', satellite=u'bit', all_relations=47),\n",
       " AspectHierarchyRST(nucleus=u'charger', satellite=u'what', all_relations=47),\n",
       " AspectHierarchyRST(nucleus=u'charger', satellite=u'problem', all_relations=47),\n",
       " AspectHierarchyRST(nucleus=u'phone', satellite=u'game', all_relations=47),\n",
       " AspectHierarchyRST(nucleus=u'case', satellite=u'pocket', all_relations=47),\n",
       " AspectHierarchyRST(nucleus=u'phone', satellite=u'bit', all_relations=46),\n",
       " AspectHierarchyRST(nucleus=u'case', satellite=u'lot', all_relations=46),\n",
       " AspectHierarchyRST(nucleus=u'phone', satellite=u'hand', all_relations=46),\n",
       " AspectHierarchyRST(nucleus=u'ear', satellite=u'sound', all_relations=46),\n",
       " AspectHierarchyRST(nucleus=u'phone', satellite=u'light', all_relations=46),\n",
       " AspectHierarchyRST(nucleus=u'phone', satellite=u'computer', all_relations=46),\n",
       " AspectHierarchyRST(nucleus=u'phone', satellite=u'complaint', all_relations=45),\n",
       " AspectHierarchyRST(nucleus=u'product', satellite=u'work', all_relations=45),\n",
       " AspectHierarchyRST(nucleus=u'product', satellite=u'usb', all_relations=44),\n",
       " AspectHierarchyRST(nucleus=u'headset', satellite=u'bit', all_relations=44),\n",
       " AspectHierarchyRST(nucleus=u'product', satellite=u'charge', all_relations=44),\n",
       " AspectHierarchyRST(nucleus=u'product', satellite=u'cord', all_relations=44),\n",
       " AspectHierarchyRST(nucleus=u'charger', satellite=u'cord', all_relations=44),\n",
       " AspectHierarchyRST(nucleus=u'headset', satellite=u'car', all_relations=43),\n",
       " AspectHierarchyRST(nucleus=u'phone', satellite=u'minute', all_relations=43),\n",
       " AspectHierarchyRST(nucleus=u'headset', satellite=u'battery', all_relations=42),\n",
       " AspectHierarchyRST(nucleus=u'price', satellite=u'problem', all_relations=42),\n",
       " AspectHierarchyRST(nucleus=u'headset', satellite=u'complaint', all_relations=41),\n",
       " AspectHierarchyRST(nucleus=u'phone', satellite=u'place', all_relations=41),\n",
       " AspectHierarchyRST(nucleus=u'product', satellite=u'button', all_relations=41),\n",
       " AspectHierarchyRST(nucleus=u'headset', satellite=u'way', all_relations=40),\n",
       " AspectHierarchyRST(nucleus=u'product', satellite=u'call', all_relations=40),\n",
       " AspectHierarchyRST(nucleus=u'phone', satellite=u'area', all_relations=40),\n",
       " AspectHierarchyRST(nucleus=u'product', satellite=u'sound quality', all_relations=40),\n",
       " AspectHierarchyRST(nucleus=u'phone', satellite=u'video', all_relations=39),\n",
       " AspectHierarchyRST(nucleus=u'headset', satellite=u'range', all_relations=39),\n",
       " AspectHierarchyRST(nucleus=u'headset', satellite=u'battery life', all_relations=39),\n",
       " AspectHierarchyRST(nucleus=u'phone', satellite=u'card', all_relations=39),\n",
       " AspectHierarchyRST(nucleus=u'item', satellite=u'problem', all_relations=38),\n",
       " AspectHierarchyRST(nucleus=u'phone', satellite=u'con', all_relations=38),\n",
       " AspectHierarchyRST(nucleus=u'headset', satellite=u'hour', all_relations=37),\n",
       " AspectHierarchyRST(nucleus=u'phone', satellite=u'menu', all_relations=37),\n",
       " AspectHierarchyRST(nucleus=u'phone', satellite=u'display', all_relations=37),\n",
       " AspectHierarchyRST(nucleus=u'product', satellite=u'who', all_relations=37),\n",
       " AspectHierarchyRST(nucleus=u'phone', satellite=u'ty', all_relations=36),\n",
       " AspectHierarchyRST(nucleus=u'headset', satellite=u'person', all_relations=36),\n",
       " AspectHierarchyRST(nucleus=u'phone', satellite=u'store yesterday', all_relations=35),\n",
       " AspectHierarchyRST(nucleus=u'product', satellite=u'something', all_relations=34),\n",
       " AspectHierarchyRST(nucleus=u'product', satellite=u'volume', all_relations=34),\n",
       " AspectHierarchyRST(nucleus=u'headset', satellite=u'earpiece', all_relations=34),\n",
       " AspectHierarchyRST(nucleus=u'phone', satellite=u'tv', all_relations=34),\n",
       " AspectHierarchyRST(nucleus=u'phone', satellite=u'speaker', all_relations=34),\n",
       " AspectHierarchyRST(nucleus=u'product', satellite=u'complaint', all_relations=33)]"
      ]
     },
     "execution_count": 66,
     "metadata": {},
     "output_type": "execute_result"
    }
   ],
   "source": [
    "sorted(aspect_hierarchy_elements, key=operator.itemgetter(2), reverse=True)"
   ]
  },
  {
   "cell_type": "code",
   "execution_count": null,
   "metadata": {
    "collapsed": true
   },
   "outputs": [],
   "source": []
  },
  {
   "cell_type": "code",
   "execution_count": 31,
   "metadata": {},
   "outputs": [
    {
     "data": {
      "text/plain": [
       "9555"
      ]
     },
     "execution_count": 31,
     "metadata": {},
     "output_type": "execute_result"
    }
   ],
   "source": [
    "aspects_graph.out_degree()['phone']"
   ]
  },
  {
   "cell_type": "code",
   "execution_count": 32,
   "metadata": {},
   "outputs": [
    {
     "data": {
      "text/plain": [
       "13198"
      ]
     },
     "execution_count": 32,
     "metadata": {},
     "output_type": "execute_result"
    }
   ],
   "source": [
    "aspects_graph.in_degree()['phone']"
   ]
  },
  {
   "cell_type": "code",
   "execution_count": 33,
   "metadata": {},
   "outputs": [
    {
     "data": {
      "text/plain": [
       "2679"
      ]
     },
     "execution_count": 33,
     "metadata": {},
     "output_type": "execute_result"
    }
   ],
   "source": [
    "aspects_graph.out_degree()['product']"
   ]
  },
  {
   "cell_type": "code",
   "execution_count": 34,
   "metadata": {},
   "outputs": [
    {
     "data": {
      "text/plain": [
       "7696"
      ]
     },
     "execution_count": 34,
     "metadata": {},
     "output_type": "execute_result"
    }
   ],
   "source": [
    "aspects_graph.in_degree()['product']"
   ]
  },
  {
   "cell_type": "code",
   "execution_count": 35,
   "metadata": {},
   "outputs": [
    {
     "data": {
      "text/plain": [
       "2154"
      ]
     },
     "execution_count": 35,
     "metadata": {},
     "output_type": "execute_result"
    }
   ],
   "source": [
    "aspects_graph.out_degree()['battery']"
   ]
  },
  {
   "cell_type": "code",
   "execution_count": 36,
   "metadata": {},
   "outputs": [
    {
     "data": {
      "text/plain": [
       "2499"
      ]
     },
     "execution_count": 36,
     "metadata": {},
     "output_type": "execute_result"
    }
   ],
   "source": [
    "aspects_graph.in_degree()['battery']"
   ]
  },
  {
   "cell_type": "code",
   "execution_count": 37,
   "metadata": {
    "collapsed": true
   },
   "outputs": [],
   "source": [
    "aspects_in_degree = aspects_graph.in_degree()\n",
    "aspects_out_degree = aspects_graph.out_degree()"
   ]
  },
  {
   "cell_type": "code",
   "execution_count": 38,
   "metadata": {},
   "outputs": [],
   "source": [
    "aspects_page_ranks_df['in_degree'] = aspects_page_ranks_df.aspect.apply(lambda a: aspects_in_degree[a])\n",
    "aspects_page_ranks_df['out_degree'] = aspects_page_ranks_df.aspect.apply(lambda a: aspects_out_degree[a])"
   ]
  },
  {
   "cell_type": "code",
   "execution_count": 39,
   "metadata": {},
   "outputs": [
    {
     "data": {
      "text/html": [
       "<div>\n",
       "<table border=\"1\" class=\"dataframe\">\n",
       "  <thead>\n",
       "    <tr style=\"text-align: right;\">\n",
       "      <th></th>\n",
       "      <th>aspect</th>\n",
       "      <th>pagerank</th>\n",
       "      <th>count</th>\n",
       "      <th>in_degree</th>\n",
       "      <th>out_degree</th>\n",
       "    </tr>\n",
       "  </thead>\n",
       "  <tbody>\n",
       "    <tr>\n",
       "      <th>0</th>\n",
       "      <td>phone</td>\n",
       "      <td>0.050792</td>\n",
       "      <td>92275</td>\n",
       "      <td>13198</td>\n",
       "      <td>9555</td>\n",
       "    </tr>\n",
       "    <tr>\n",
       "      <th>1</th>\n",
       "      <td>product</td>\n",
       "      <td>0.034677</td>\n",
       "      <td>22422</td>\n",
       "      <td>7696</td>\n",
       "      <td>2679</td>\n",
       "    </tr>\n",
       "    <tr>\n",
       "      <th>2</th>\n",
       "      <td>headset</td>\n",
       "      <td>0.021423</td>\n",
       "      <td>26873</td>\n",
       "      <td>5904</td>\n",
       "      <td>2351</td>\n",
       "    </tr>\n",
       "    <tr>\n",
       "      <th>3</th>\n",
       "      <td>case</td>\n",
       "      <td>0.020639</td>\n",
       "      <td>23596</td>\n",
       "      <td>5216</td>\n",
       "      <td>2375</td>\n",
       "    </tr>\n",
       "    <tr>\n",
       "      <th>4</th>\n",
       "      <td>price</td>\n",
       "      <td>0.011911</td>\n",
       "      <td>13375</td>\n",
       "      <td>2750</td>\n",
       "      <td>2178</td>\n",
       "    </tr>\n",
       "    <tr>\n",
       "      <th>5</th>\n",
       "      <td>battery</td>\n",
       "      <td>0.011545</td>\n",
       "      <td>19786</td>\n",
       "      <td>2499</td>\n",
       "      <td>2154</td>\n",
       "    </tr>\n",
       "    <tr>\n",
       "      <th>6</th>\n",
       "      <td>item</td>\n",
       "      <td>0.010770</td>\n",
       "      <td>7876</td>\n",
       "      <td>2275</td>\n",
       "      <td>947</td>\n",
       "    </tr>\n",
       "    <tr>\n",
       "      <th>7</th>\n",
       "      <td>charger</td>\n",
       "      <td>0.010195</td>\n",
       "      <td>12405</td>\n",
       "      <td>2363</td>\n",
       "      <td>1474</td>\n",
       "    </tr>\n",
       "    <tr>\n",
       "      <th>8</th>\n",
       "      <td>motorola</td>\n",
       "      <td>0.005958</td>\n",
       "      <td>8031</td>\n",
       "      <td>1577</td>\n",
       "      <td>788</td>\n",
       "    </tr>\n",
       "    <tr>\n",
       "      <th>9</th>\n",
       "      <td>what</td>\n",
       "      <td>0.005383</td>\n",
       "      <td>14095</td>\n",
       "      <td>1136</td>\n",
       "      <td>1705</td>\n",
       "    </tr>\n",
       "  </tbody>\n",
       "</table>\n",
       "</div>"
      ],
      "text/plain": [
       "     aspect  pagerank  count  in_degree  out_degree\n",
       "0     phone  0.050792  92275      13198        9555\n",
       "1   product  0.034677  22422       7696        2679\n",
       "2   headset  0.021423  26873       5904        2351\n",
       "3      case  0.020639  23596       5216        2375\n",
       "4     price  0.011911  13375       2750        2178\n",
       "5   battery  0.011545  19786       2499        2154\n",
       "6      item  0.010770   7876       2275         947\n",
       "7   charger  0.010195  12405       2363        1474\n",
       "8  motorola  0.005958   8031       1577         788\n",
       "9      what  0.005383  14095       1136        1705"
      ]
     },
     "execution_count": 39,
     "metadata": {},
     "output_type": "execute_result"
    }
   ],
   "source": [
    "aspects_page_ranks_df.head(10)"
   ]
  },
  {
   "cell_type": "code",
   "execution_count": 40,
   "metadata": {},
   "outputs": [
    {
     "data": {
      "text/plain": [
       "14304"
      ]
     },
     "execution_count": 40,
     "metadata": {},
     "output_type": "execute_result"
    }
   ],
   "source": [
    "len([g for g in nx.strongly_connected_components(aspects_graph.to_directed())])"
   ]
  },
  {
   "cell_type": "code",
   "execution_count": 41,
   "metadata": {},
   "outputs": [],
   "source": [
    "# G = max(nx.weakly_connected_component_subgraphs(aspects_graph), key=len)"
   ]
  },
  {
   "cell_type": "code",
   "execution_count": null,
   "metadata": {
    "collapsed": true
   },
   "outputs": [],
   "source": []
  }
 ],
 "metadata": {
  "kernelspec": {
   "display_name": "Python 3",
   "language": "python",
   "name": "python3"
  },
  "language_info": {
   "codemirror_mode": {
    "name": "ipython",
    "version": 3
   },
   "file_extension": ".py",
   "mimetype": "text/x-python",
   "name": "python",
   "nbconvert_exporter": "python",
   "pygments_lexer": "ipython3",
   "version": "3.6.8"
  },
  "toc": {
   "base_numbering": 1,
   "nav_menu": {},
   "number_sections": true,
   "sideBar": true,
   "skip_h1_title": false,
   "title_cell": "Table of Contents",
   "title_sidebar": "Contents",
   "toc_cell": false,
   "toc_position": {},
   "toc_section_display": true,
   "toc_window_display": false
  }
 },
 "nbformat": 4,
 "nbformat_minor": 1
}
