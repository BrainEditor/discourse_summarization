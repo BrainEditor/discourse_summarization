{
 "cells": [
  {
   "cell_type": "markdown",
   "metadata": {},
   "source": [
    "# Imports"
   ]
  },
  {
   "cell_type": "code",
   "execution_count": 1,
   "metadata": {
    "ExecuteTime": {
     "end_time": "2020-04-20T16:31:11.511651Z",
     "start_time": "2020-04-20T16:31:11.217062Z"
    }
   },
   "outputs": [
    {
     "data": {
      "text/html": [
       "<style>.container { width:90% !important; }</style>"
      ],
      "text/plain": [
       "<IPython.core.display.HTML object>"
      ]
     },
     "metadata": {},
     "output_type": "display_data"
    }
   ],
   "source": [
    "%load_ext autoreload\n",
    "%autoreload 2\n",
    "\n",
    "from typing import NamedTuple, List\n",
    "from more_itertools import flatten\n",
    "\n",
    "import numpy as np\n",
    "import pandas as pd\n",
    "\n",
    "from tqdm import tqdm\n",
    "\n",
    "from aspects.data_io import serializer\n",
    "from aspects.utilities import settings\n",
    "from aspects.utilities.data_paths import ExperimentPaths\n",
    "\n",
    "import matplotlib\n",
    "import matplotlib.pyplot as plt\n",
    "%matplotlib inline\n",
    "\n",
    "from IPython.display import display, HTML\n",
    "display(HTML(\"<style>.container { width:90% !important; }</style>\"))\n",
    "\n",
    "import seaborn as sns; sns.set(color_codes=True)"
   ]
  },
  {
   "cell_type": "markdown",
   "metadata": {},
   "source": [
    "# Load experiment data"
   ]
  },
  {
   "cell_type": "code",
   "execution_count": 56,
   "metadata": {
    "ExecuteTime": {
     "end_time": "2020-04-20T16:37:36.336363Z",
     "start_time": "2020-04-20T16:37:36.069101Z"
    }
   },
   "outputs": [
    {
     "data": {
      "text/plain": [
       "7210"
      ]
     },
     "execution_count": 56,
     "metadata": {},
     "output_type": "execute_result"
    }
   ],
   "source": [
    "experiment_paths = ExperimentPaths(\n",
    "    input_path='',\n",
    "    output_path=settings.DEFAULT_OUTPUT_PATH / 'reviews_Cell_Phones_and_Accessories-50000-docs',\n",
    "#     output_path=settings.DEFAULT_OUTPUT_PATH / 'reviews_Apps_for_Android',\n",
    "#         output_path=settings.DEFAULT_OUTPUT_PATH / 'reviews_Amazon_Instant_Video',\n",
    "    experiment_name='our'\n",
    ")\n",
    "\n",
    "aspect_graph = serializer.load(experiment_paths.aspect_to_aspect_graph)\n",
    "\n",
    "aspect_graph.number_of_nodes()"
   ]
  },
  {
   "cell_type": "code",
   "execution_count": 57,
   "metadata": {
    "ExecuteTime": {
     "end_time": "2020-04-20T16:37:38.286504Z",
     "start_time": "2020-04-20T16:37:37.943469Z"
    }
   },
   "outputs": [],
   "source": [
    "df = pd.read_pickle(experiment_paths.conceptnet_hierarchy_neighborhood)"
   ]
  },
  {
   "cell_type": "code",
   "execution_count": 58,
   "metadata": {
    "ExecuteTime": {
     "end_time": "2020-04-20T16:37:40.248490Z",
     "start_time": "2020-04-20T16:37:40.220192Z"
    }
   },
   "outputs": [],
   "source": [
    "skip_values = [2147483647, 0]"
   ]
  },
  {
   "cell_type": "code",
   "execution_count": 59,
   "metadata": {
    "ExecuteTime": {
     "end_time": "2020-04-20T16:38:01.021895Z",
     "start_time": "2020-04-20T16:38:00.916368Z"
    }
   },
   "outputs": [],
   "source": [
    "df = df[~(\n",
    "    (df.shortest_distance_aspect_graph.isin(skip_values)) |\n",
    "    (df.shortest_distance_conceptnet.isin(skip_values))\n",
    ")]"
   ]
  },
  {
   "cell_type": "code",
   "execution_count": 60,
   "metadata": {
    "ExecuteTime": {
     "end_time": "2020-04-20T16:38:26.300185Z",
     "start_time": "2020-04-20T16:38:26.270462Z"
    }
   },
   "outputs": [],
   "source": [
    "df['shortest_paths_differences'] = df.shortest_distance_conceptnet - df.shortest_distance_aspect_graph"
   ]
  },
  {
   "cell_type": "code",
   "execution_count": 61,
   "metadata": {
    "ExecuteTime": {
     "end_time": "2020-04-20T17:07:03.003556Z",
     "start_time": "2020-04-20T17:07:02.820859Z"
    }
   },
   "outputs": [
    {
     "data": {
      "text/html": [
       "<div>\n",
       "<style scoped>\n",
       "    .dataframe tbody tr th:only-of-type {\n",
       "        vertical-align: middle;\n",
       "    }\n",
       "\n",
       "    .dataframe tbody tr th {\n",
       "        vertical-align: top;\n",
       "    }\n",
       "\n",
       "    .dataframe thead th {\n",
       "        text-align: right;\n",
       "    }\n",
       "</style>\n",
       "<table border=\"1\" class=\"dataframe\">\n",
       "  <thead>\n",
       "    <tr style=\"text-align: right;\">\n",
       "      <th></th>\n",
       "      <th>aspect_1</th>\n",
       "      <th>aspect_2</th>\n",
       "      <th>shortest_distance_aspect_graph</th>\n",
       "      <th>shortest_distance_conceptnet</th>\n",
       "      <th>shortest_paths_differences</th>\n",
       "    </tr>\n",
       "  </thead>\n",
       "  <tbody>\n",
       "    <tr>\n",
       "      <th>1</th>\n",
       "      <td>case</td>\n",
       "      <td>pieces</td>\n",
       "      <td>1</td>\n",
       "      <td>2</td>\n",
       "      <td>1</td>\n",
       "    </tr>\n",
       "    <tr>\n",
       "      <th>2</th>\n",
       "      <td>case</td>\n",
       "      <td>price</td>\n",
       "      <td>1</td>\n",
       "      <td>4</td>\n",
       "      <td>3</td>\n",
       "    </tr>\n",
       "    <tr>\n",
       "      <th>3</th>\n",
       "      <td>case</td>\n",
       "      <td>use</td>\n",
       "      <td>1</td>\n",
       "      <td>2</td>\n",
       "      <td>1</td>\n",
       "    </tr>\n",
       "    <tr>\n",
       "      <th>4</th>\n",
       "      <td>case</td>\n",
       "      <td>nook</td>\n",
       "      <td>3</td>\n",
       "      <td>3</td>\n",
       "      <td>0</td>\n",
       "    </tr>\n",
       "    <tr>\n",
       "      <th>5</th>\n",
       "      <td>case</td>\n",
       "      <td>quality</td>\n",
       "      <td>1</td>\n",
       "      <td>2</td>\n",
       "      <td>1</td>\n",
       "    </tr>\n",
       "    <tr>\n",
       "      <th>...</th>\n",
       "      <td>...</td>\n",
       "      <td>...</td>\n",
       "      <td>...</td>\n",
       "      <td>...</td>\n",
       "      <td>...</td>\n",
       "    </tr>\n",
       "    <tr>\n",
       "      <th>2824066</th>\n",
       "      <td>indonesia</td>\n",
       "      <td>aluminum</td>\n",
       "      <td>4</td>\n",
       "      <td>5</td>\n",
       "      <td>1</td>\n",
       "    </tr>\n",
       "    <tr>\n",
       "      <th>2824067</th>\n",
       "      <td>indonesia</td>\n",
       "      <td>materials</td>\n",
       "      <td>5</td>\n",
       "      <td>6</td>\n",
       "      <td>1</td>\n",
       "    </tr>\n",
       "    <tr>\n",
       "      <th>2824069</th>\n",
       "      <td>indonesia</td>\n",
       "      <td>customizability</td>\n",
       "      <td>5</td>\n",
       "      <td>5</td>\n",
       "      <td>0</td>\n",
       "    </tr>\n",
       "    <tr>\n",
       "      <th>2824076</th>\n",
       "      <td>indonesia</td>\n",
       "      <td>middle east</td>\n",
       "      <td>1</td>\n",
       "      <td>5</td>\n",
       "      <td>4</td>\n",
       "    </tr>\n",
       "    <tr>\n",
       "      <th>2824077</th>\n",
       "      <td>indonesia</td>\n",
       "      <td>dap</td>\n",
       "      <td>4</td>\n",
       "      <td>4</td>\n",
       "      <td>0</td>\n",
       "    </tr>\n",
       "  </tbody>\n",
       "</table>\n",
       "<p>628757 rows × 5 columns</p>\n",
       "</div>"
      ],
      "text/plain": [
       "          aspect_1         aspect_2  shortest_distance_aspect_graph  \\\n",
       "1             case           pieces                               1   \n",
       "2             case            price                               1   \n",
       "3             case              use                               1   \n",
       "4             case             nook                               3   \n",
       "5             case          quality                               1   \n",
       "...            ...              ...                             ...   \n",
       "2824066  indonesia         aluminum                               4   \n",
       "2824067  indonesia        materials                               5   \n",
       "2824069  indonesia  customizability                               5   \n",
       "2824076  indonesia      middle east                               1   \n",
       "2824077  indonesia              dap                               4   \n",
       "\n",
       "         shortest_distance_conceptnet  shortest_paths_differences  \n",
       "1                                   2                           1  \n",
       "2                                   4                           3  \n",
       "3                                   2                           1  \n",
       "4                                   3                           0  \n",
       "5                                   2                           1  \n",
       "...                               ...                         ...  \n",
       "2824066                             5                           1  \n",
       "2824067                             6                           1  \n",
       "2824069                             5                           0  \n",
       "2824076                             5                           4  \n",
       "2824077                             4                           0  \n",
       "\n",
       "[628757 rows x 5 columns]"
      ]
     },
     "execution_count": 61,
     "metadata": {},
     "output_type": "execute_result"
    }
   ],
   "source": [
    "df.drop_duplicates(subset=['aspect_1', 'aspect_2'])"
   ]
  },
  {
   "cell_type": "code",
   "execution_count": 62,
   "metadata": {
    "ExecuteTime": {
     "end_time": "2020-04-20T19:25:08.267500Z",
     "start_time": "2020-04-20T19:25:08.182785Z"
    }
   },
   "outputs": [],
   "source": [
    "# df_sample = df.sample(150000)"
   ]
  },
  {
   "cell_type": "code",
   "execution_count": 64,
   "metadata": {
    "ExecuteTime": {
     "end_time": "2020-04-20T19:31:17.207954Z",
     "start_time": "2020-04-20T19:31:17.141238Z"
    }
   },
   "outputs": [],
   "source": [
    "# df = df[df.shortest_distance_aspect_graph < 10]"
   ]
  },
  {
   "cell_type": "code",
   "execution_count": 65,
   "metadata": {
    "ExecuteTime": {
     "end_time": "2020-04-20T19:31:24.431634Z",
     "start_time": "2020-04-20T19:31:17.422989Z"
    }
   },
   "outputs": [
    {
     "data": {
      "text/plain": [
       "<matplotlib.axes._subplots.AxesSubplot at 0x7f6dc2e18070>"
      ]
     },
     "execution_count": 65,
     "metadata": {},
     "output_type": "execute_result"
    },
    {
     "data": {
      "image/png": "[encoded data removed]",
      "text/plain": [
       "<Figure size 432x288 with 1 Axes>"
      ]
     },
     "metadata": {},
     "output_type": "display_data"
    }
   ],
   "source": [
    "sns.lineplot(x=df.shortest_distance_aspect_graph, y=df.shortest_distance_conceptnet)"
   ]
  },
  {
   "cell_type": "code",
   "execution_count": 12,
   "metadata": {
    "ExecuteTime": {
     "end_time": "2020-04-20T18:26:14.341386Z",
     "start_time": "2020-04-20T18:26:14.037482Z"
    }
   },
   "outputs": [
    {
     "data": {
      "text/plain": [
       "<matplotlib.legend.Legend at 0x7f6dc368a5b0>"
      ]
     },
     "execution_count": 12,
     "metadata": {},
     "output_type": "execute_result"
    },
    {
     "data": {
      "image/png": "[encoded data removed]",
      "text/plain": [
       "<Figure size 432x288 with 1 Axes>"
      ]
     },
     "metadata": {},
     "output_type": "display_data"
    }
   ],
   "source": [
    "df.shortest_distance_conceptnet.hist()\n",
    "df.shortest_paths_differences.hist()\n",
    "df.shortest_distance_aspect_graph.hist()\n",
    "plt.legend([    \n",
    "    'conceptnet', \n",
    "    'differences'\n",
    "    'aspect_graph', \n",
    "])"
   ]
  },
  {
   "cell_type": "code",
   "execution_count": 14,
   "metadata": {
    "ExecuteTime": {
     "end_time": "2020-04-20T18:56:27.102576Z",
     "start_time": "2020-04-20T18:56:26.996619Z"
    }
   },
   "outputs": [
    {
     "data": {
      "text/html": [
       "<div>\n",
       "<style scoped>\n",
       "    .dataframe tbody tr th:only-of-type {\n",
       "        vertical-align: middle;\n",
       "    }\n",
       "\n",
       "    .dataframe tbody tr th {\n",
       "        vertical-align: top;\n",
       "    }\n",
       "\n",
       "    .dataframe thead th {\n",
       "        text-align: right;\n",
       "    }\n",
       "</style>\n",
       "<table border=\"1\" class=\"dataframe\">\n",
       "  <thead>\n",
       "    <tr style=\"text-align: right;\">\n",
       "      <th></th>\n",
       "      <th>shortest_distance_aspect_graph</th>\n",
       "      <th>shortest_distance_conceptnet</th>\n",
       "      <th>shortest_paths_differences</th>\n",
       "    </tr>\n",
       "  </thead>\n",
       "  <tbody>\n",
       "    <tr>\n",
       "      <th>count</th>\n",
       "      <td>628746.00000</td>\n",
       "      <td>628746.000000</td>\n",
       "      <td>628746.000000</td>\n",
       "    </tr>\n",
       "    <tr>\n",
       "      <th>mean</th>\n",
       "      <td>3.19380</td>\n",
       "      <td>3.960929</td>\n",
       "      <td>0.767129</td>\n",
       "    </tr>\n",
       "    <tr>\n",
       "      <th>std</th>\n",
       "      <td>0.82523</td>\n",
       "      <td>1.171346</td>\n",
       "      <td>1.387249</td>\n",
       "    </tr>\n",
       "    <tr>\n",
       "      <th>min</th>\n",
       "      <td>1.00000</td>\n",
       "      <td>1.000000</td>\n",
       "      <td>-6.000000</td>\n",
       "    </tr>\n",
       "    <tr>\n",
       "      <th>25%</th>\n",
       "      <td>3.00000</td>\n",
       "      <td>3.000000</td>\n",
       "      <td>0.000000</td>\n",
       "    </tr>\n",
       "    <tr>\n",
       "      <th>50%</th>\n",
       "      <td>3.00000</td>\n",
       "      <td>4.000000</td>\n",
       "      <td>1.000000</td>\n",
       "    </tr>\n",
       "    <tr>\n",
       "      <th>75%</th>\n",
       "      <td>4.00000</td>\n",
       "      <td>5.000000</td>\n",
       "      <td>2.000000</td>\n",
       "    </tr>\n",
       "    <tr>\n",
       "      <th>max</th>\n",
       "      <td>9.00000</td>\n",
       "      <td>14.000000</td>\n",
       "      <td>11.000000</td>\n",
       "    </tr>\n",
       "  </tbody>\n",
       "</table>\n",
       "</div>"
      ],
      "text/plain": [
       "       shortest_distance_aspect_graph  shortest_distance_conceptnet  \\\n",
       "count                    628746.00000                 628746.000000   \n",
       "mean                          3.19380                      3.960929   \n",
       "std                           0.82523                      1.171346   \n",
       "min                           1.00000                      1.000000   \n",
       "25%                           3.00000                      3.000000   \n",
       "50%                           3.00000                      4.000000   \n",
       "75%                           4.00000                      5.000000   \n",
       "max                           9.00000                     14.000000   \n",
       "\n",
       "       shortest_paths_differences  \n",
       "count               628746.000000  \n",
       "mean                     0.767129  \n",
       "std                      1.387249  \n",
       "min                     -6.000000  \n",
       "25%                      0.000000  \n",
       "50%                      1.000000  \n",
       "75%                      2.000000  \n",
       "max                     11.000000  "
      ]
     },
     "execution_count": 14,
     "metadata": {},
     "output_type": "execute_result"
    }
   ],
   "source": [
    "df.describe()"
   ]
  },
  {
   "cell_type": "code",
   "execution_count": 15,
   "metadata": {
    "ExecuteTime": {
     "end_time": "2020-04-20T18:30:12.098209Z",
     "start_time": "2020-04-20T18:30:12.008760Z"
    }
   },
   "outputs": [],
   "source": [
    "df_filtered = df[df.shortest_distance_aspect_graph < 6]\n",
    "df_filtered = df_filtered[df_filtered.shortest_distance_aspect_graph > 1]"
   ]
  },
  {
   "cell_type": "code",
   "execution_count": 16,
   "metadata": {
    "ExecuteTime": {
     "end_time": "2020-04-20T19:03:37.575178Z",
     "start_time": "2020-04-20T19:03:37.522148Z"
    }
   },
   "outputs": [
    {
     "data": {
      "text/html": [
       "<div>\n",
       "<style scoped>\n",
       "    .dataframe tbody tr th:only-of-type {\n",
       "        vertical-align: middle;\n",
       "    }\n",
       "\n",
       "    .dataframe tbody tr th {\n",
       "        vertical-align: top;\n",
       "    }\n",
       "\n",
       "    .dataframe thead th {\n",
       "        text-align: right;\n",
       "    }\n",
       "</style>\n",
       "<table border=\"1\" class=\"dataframe\">\n",
       "  <thead>\n",
       "    <tr style=\"text-align: right;\">\n",
       "      <th></th>\n",
       "      <th>shortest_distance_conceptnet</th>\n",
       "    </tr>\n",
       "    <tr>\n",
       "      <th>shortest_distance_aspect_graph</th>\n",
       "      <th></th>\n",
       "    </tr>\n",
       "  </thead>\n",
       "  <tbody>\n",
       "    <tr>\n",
       "      <th>1</th>\n",
       "      <td>3.697392</td>\n",
       "    </tr>\n",
       "    <tr>\n",
       "      <th>2</th>\n",
       "      <td>3.855540</td>\n",
       "    </tr>\n",
       "    <tr>\n",
       "      <th>3</th>\n",
       "      <td>3.941786</td>\n",
       "    </tr>\n",
       "    <tr>\n",
       "      <th>4</th>\n",
       "      <td>4.037669</td>\n",
       "    </tr>\n",
       "    <tr>\n",
       "      <th>5</th>\n",
       "      <td>4.112294</td>\n",
       "    </tr>\n",
       "    <tr>\n",
       "      <th>6</th>\n",
       "      <td>4.196737</td>\n",
       "    </tr>\n",
       "    <tr>\n",
       "      <th>7</th>\n",
       "      <td>4.463710</td>\n",
       "    </tr>\n",
       "    <tr>\n",
       "      <th>8</th>\n",
       "      <td>4.570975</td>\n",
       "    </tr>\n",
       "    <tr>\n",
       "      <th>9</th>\n",
       "      <td>4.675799</td>\n",
       "    </tr>\n",
       "  </tbody>\n",
       "</table>\n",
       "</div>"
      ],
      "text/plain": [
       "                                shortest_distance_conceptnet\n",
       "shortest_distance_aspect_graph                              \n",
       "1                                                   3.697392\n",
       "2                                                   3.855540\n",
       "3                                                   3.941786\n",
       "4                                                   4.037669\n",
       "5                                                   4.112294\n",
       "6                                                   4.196737\n",
       "7                                                   4.463710\n",
       "8                                                   4.570975\n",
       "9                                                   4.675799"
      ]
     },
     "execution_count": 16,
     "metadata": {},
     "output_type": "execute_result"
    }
   ],
   "source": [
    "df.groupby(by='shortest_distance_aspect_graph').agg({'shortest_distance_conceptnet':'mean'})"
   ]
  },
  {
   "cell_type": "code",
   "execution_count": 17,
   "metadata": {
    "ExecuteTime": {
     "end_time": "2020-04-20T18:59:15.826483Z",
     "start_time": "2020-04-20T18:59:15.773410Z"
    }
   },
   "outputs": [
    {
     "data": {
      "text/html": [
       "<div>\n",
       "<style scoped>\n",
       "    .dataframe tbody tr th:only-of-type {\n",
       "        vertical-align: middle;\n",
       "    }\n",
       "\n",
       "    .dataframe tbody tr th {\n",
       "        vertical-align: top;\n",
       "    }\n",
       "\n",
       "    .dataframe thead th {\n",
       "        text-align: right;\n",
       "    }\n",
       "</style>\n",
       "<table border=\"1\" class=\"dataframe\">\n",
       "  <thead>\n",
       "    <tr style=\"text-align: right;\">\n",
       "      <th></th>\n",
       "      <th>shortest_paths_differences</th>\n",
       "    </tr>\n",
       "    <tr>\n",
       "      <th>shortest_distance_aspect_graph</th>\n",
       "      <th></th>\n",
       "    </tr>\n",
       "  </thead>\n",
       "  <tbody>\n",
       "    <tr>\n",
       "      <th>1</th>\n",
       "      <td>2.697392</td>\n",
       "    </tr>\n",
       "    <tr>\n",
       "      <th>2</th>\n",
       "      <td>1.855540</td>\n",
       "    </tr>\n",
       "    <tr>\n",
       "      <th>3</th>\n",
       "      <td>0.941786</td>\n",
       "    </tr>\n",
       "    <tr>\n",
       "      <th>4</th>\n",
       "      <td>0.037669</td>\n",
       "    </tr>\n",
       "    <tr>\n",
       "      <th>5</th>\n",
       "      <td>-0.887706</td>\n",
       "    </tr>\n",
       "    <tr>\n",
       "      <th>6</th>\n",
       "      <td>-1.803263</td>\n",
       "    </tr>\n",
       "    <tr>\n",
       "      <th>7</th>\n",
       "      <td>-2.536290</td>\n",
       "    </tr>\n",
       "    <tr>\n",
       "      <th>8</th>\n",
       "      <td>-3.429025</td>\n",
       "    </tr>\n",
       "    <tr>\n",
       "      <th>9</th>\n",
       "      <td>-4.324201</td>\n",
       "    </tr>\n",
       "  </tbody>\n",
       "</table>\n",
       "</div>"
      ],
      "text/plain": [
       "                                shortest_paths_differences\n",
       "shortest_distance_aspect_graph                            \n",
       "1                                                 2.697392\n",
       "2                                                 1.855540\n",
       "3                                                 0.941786\n",
       "4                                                 0.037669\n",
       "5                                                -0.887706\n",
       "6                                                -1.803263\n",
       "7                                                -2.536290\n",
       "8                                                -3.429025\n",
       "9                                                -4.324201"
      ]
     },
     "execution_count": 17,
     "metadata": {},
     "output_type": "execute_result"
    }
   ],
   "source": [
    "df.groupby(by='shortest_distance_aspect_graph').agg({'shortest_paths_differences':'mean'})"
   ]
  },
  {
   "cell_type": "code",
   "execution_count": 18,
   "metadata": {
    "ExecuteTime": {
     "end_time": "2020-04-20T18:32:30.231882Z",
     "start_time": "2020-04-20T18:32:30.195322Z"
    }
   },
   "outputs": [],
   "source": [
    "sorted_path_distances = list(df.shortest_distance_aspect_graph.value_counts().keys())"
   ]
  },
  {
   "cell_type": "code",
   "execution_count": 19,
   "metadata": {
    "ExecuteTime": {
     "end_time": "2020-04-20T18:52:48.299069Z",
     "start_time": "2020-04-20T18:52:43.526924Z"
    },
    "scrolled": false
   },
   "outputs": [
    {
     "data": {
      "image/png": "[encoded data removed]",
      "text/plain": [
       "<Figure size 432x288 with 1 Axes>"
      ]
     },
     "metadata": {},
     "output_type": "display_data"
    },
    {
     "data": {
      "image/png": "[encoded data removed]",
      "text/plain": [
       "<Figure size 432x288 with 1 Axes>"
      ]
     },
     "metadata": {},
     "output_type": "display_data"
    },
    {
     "data": {
      "image/png": "[encoded data removed]",
      "text/plain": [
       "<Figure size 432x288 with 1 Axes>"
      ]
     },
     "metadata": {},
     "output_type": "display_data"
    },
    {
     "data": {
      "image/png": "[encoded data removed]",
      "text/plain": [
       "<Figure size 432x288 with 1 Axes>"
      ]
     },
     "metadata": {},
     "output_type": "display_data"
    },
    {
     "data": {
      "image/png": "[encoded data removed]",
      "text/plain": [
       "<Figure size 432x288 with 1 Axes>"
      ]
     },
     "metadata": {},
     "output_type": "display_data"
    },
    {
     "data": {
      "image/png": "[encoded data removed]",
      "text/plain": [
       "<Figure size 432x288 with 1 Axes>"
      ]
     },
     "metadata": {},
     "output_type": "display_data"
    },
    {
     "data": {
      "image/png": "[encoded data removed]",
      "text/plain": [
       "<Figure size 432x288 with 1 Axes>"
      ]
     },
     "metadata": {},
     "output_type": "display_data"
    },
    {
     "data": {
      "image/png": "[encoded data removed]",
      "text/plain": [
       "<Figure size 432x288 with 1 Axes>"
      ]
     },
     "metadata": {},
     "output_type": "display_data"
    },
    {
     "data": {
      "image/png": "[encoded data removed]",
      "text/plain": [
       "<Figure size 432x288 with 1 Axes>"
      ]
     },
     "metadata": {},
     "output_type": "display_data"
    }
   ],
   "source": [
    "legend = []\n",
    "for rank, path_distance in df.groupby(by='shortest_distance_aspect_graph'):\n",
    "    path_distance = rank\n",
    "    plt.figure()\n",
    "    df[df.shortest_distance_aspect_graph == path_distance].shortest_paths_differences.hist(range=(-10, 10), log=True)\n",
    "    plt.title(f'Rank: {path_distance}')"
   ]
  },
  {
   "cell_type": "code",
   "execution_count": 20,
   "metadata": {
    "ExecuteTime": {
     "end_time": "2020-04-20T18:37:03.050072Z",
     "start_time": "2020-04-20T18:37:02.501454Z"
    }
   },
   "outputs": [
    {
     "data": {
      "text/plain": [
       "<matplotlib.legend.Legend at 0x7f6dc2dd9ac0>"
      ]
     },
     "execution_count": 20,
     "metadata": {},
     "output_type": "execute_result"
    },
    {
     "data": {
      "image/png": "[encoded data removed]",
      "text/plain": [
       "<Figure size 432x288 with 1 Axes>"
      ]
     },
     "metadata": {},
     "output_type": "display_data"
    }
   ],
   "source": [
    "legend = []\n",
    "for path_distance in sorted_path_distances:\n",
    "    legend += [f'Rank: {path_distance}']\n",
    "    df[df.shortest_distance_aspect_graph == path_distance].shortest_paths_differences.hist()\n",
    "plt.legend(legend)"
   ]
  },
  {
   "cell_type": "markdown",
   "metadata": {},
   "source": [
    "## Degree distribution"
   ]
  },
  {
   "cell_type": "markdown",
   "metadata": {},
   "source": [
    "### Without directions "
   ]
  },
  {
   "cell_type": "code",
   "execution_count": 21,
   "metadata": {
    "ExecuteTime": {
     "end_time": "2020-04-20T07:58:01.798342Z",
     "start_time": "2020-04-20T07:58:01.121575Z"
    }
   },
   "outputs": [
    {
     "data": {
      "image/png": "[encoded data removed]",
      "text/plain": [
       "<Figure size 432x288 with 1 Axes>"
      ]
     },
     "metadata": {},
     "output_type": "display_data"
    }
   ],
   "source": [
    "degrees = [aspect_graph.degree(n) for n in aspect_graph.nodes()]\n",
    "plt.hist(degrees, bins=100, log=True)\n",
    "plt.show()"
   ]
  },
  {
   "cell_type": "code",
   "execution_count": 22,
   "metadata": {
    "ExecuteTime": {
     "end_time": "2020-04-20T07:58:02.351723Z",
     "start_time": "2020-04-20T07:58:01.800639Z"
    }
   },
   "outputs": [
    {
     "data": {
      "image/png": "[encoded data removed]",
      "text/plain": [
       "<Figure size 432x288 with 1 Axes>"
      ]
     },
     "metadata": {},
     "output_type": "display_data"
    }
   ],
   "source": [
    "degrees = [aspect_graph.degree(n) for n in aspect_graph.nodes()]\n",
    "plt.hist(degrees, bins=100, log=True, range=(0, 100))\n",
    "plt.show()"
   ]
  },
  {
   "cell_type": "code",
   "execution_count": 23,
   "metadata": {
    "ExecuteTime": {
     "end_time": "2020-04-20T07:58:02.885385Z",
     "start_time": "2020-04-20T07:58:02.354030Z"
    }
   },
   "outputs": [
    {
     "data": {
      "image/png": "[encoded data removed]",
      "text/plain": [
       "<Figure size 432x288 with 1 Axes>"
      ]
     },
     "metadata": {},
     "output_type": "display_data"
    }
   ],
   "source": [
    "degrees = [aspect_graph.degree(n) for n in aspect_graph.nodes()]\n",
    "plt.hist(degrees, bins=100, log=True, range=(0, 40))\n",
    "plt.show()"
   ]
  },
  {
   "cell_type": "code",
   "execution_count": 24,
   "metadata": {
    "ExecuteTime": {
     "end_time": "2020-04-20T07:58:02.948434Z",
     "start_time": "2020-04-20T07:58:02.887333Z"
    }
   },
   "outputs": [
    {
     "data": {
      "text/plain": [
       "9.157281553398057"
      ]
     },
     "execution_count": 24,
     "metadata": {},
     "output_type": "execute_result"
    }
   ],
   "source": [
    "np.mean([aspect_graph.degree(n) for n in aspect_graph.nodes()])"
   ]
  },
  {
   "cell_type": "markdown",
   "metadata": {},
   "source": [
    "### Out degree"
   ]
  },
  {
   "cell_type": "code",
   "execution_count": 25,
   "metadata": {
    "ExecuteTime": {
     "end_time": "2020-04-20T07:58:04.120196Z",
     "start_time": "2020-04-20T07:58:03.593577Z"
    }
   },
   "outputs": [
    {
     "data": {
      "image/png": "[encoded data removed]",
      "text/plain": [
       "<Figure size 432x288 with 1 Axes>"
      ]
     },
     "metadata": {},
     "output_type": "display_data"
    }
   ],
   "source": [
    "degrees = [aspect_graph.out_degree(n) for n in aspect_graph.nodes()]\n",
    "plt.hist(degrees, bins=100, log=True, range=(0, 40))\n",
    "plt.show()"
   ]
  },
  {
   "cell_type": "code",
   "execution_count": 26,
   "metadata": {
    "ExecuteTime": {
     "end_time": "2020-04-20T07:58:04.316360Z",
     "start_time": "2020-04-20T07:58:04.260592Z"
    }
   },
   "outputs": [
    {
     "data": {
      "text/plain": [
       "4.578640776699029"
      ]
     },
     "execution_count": 26,
     "metadata": {},
     "output_type": "execute_result"
    }
   ],
   "source": [
    "np.mean([aspect_graph.out_degree(n) for n in aspect_graph.nodes()])"
   ]
  },
  {
   "cell_type": "markdown",
   "metadata": {},
   "source": [
    "# Get neighborhood dump info"
   ]
  },
  {
   "cell_type": "code",
   "execution_count": 27,
   "metadata": {
    "ExecuteTime": {
     "end_time": "2020-04-20T07:58:06.660669Z",
     "start_time": "2020-04-20T07:58:06.246095Z"
    }
   },
   "outputs": [],
   "source": [
    "conceptnet_hierarchy_neighborhood = serializer.load(experiment_paths.conceptnet_hierarchy_neighborhood)"
   ]
  },
  {
   "cell_type": "code",
   "execution_count": 28,
   "metadata": {
    "ExecuteTime": {
     "end_time": "2020-04-20T07:58:07.199798Z",
     "start_time": "2020-04-20T07:58:07.169558Z"
    }
   },
   "outputs": [],
   "source": [
    "neighborhood_df = pd.DataFrame([\n",
    "    neighborhood\n",
    "    for aspect, metadata in conceptnet_hierarchy_neighborhood.items()\n",
    "    for neighborhood in metadata\n",
    "])            "
   ]
  },
  {
   "cell_type": "code",
   "execution_count": 29,
   "metadata": {
    "ExecuteTime": {
     "end_time": "2020-04-20T07:58:08.195129Z",
     "start_time": "2020-04-20T07:58:08.122696Z"
    }
   },
   "outputs": [
    {
     "data": {
      "text/html": [
       "<div>\n",
       "<style scoped>\n",
       "    .dataframe tbody tr th:only-of-type {\n",
       "        vertical-align: middle;\n",
       "    }\n",
       "\n",
       "    .dataframe tbody tr th {\n",
       "        vertical-align: top;\n",
       "    }\n",
       "\n",
       "    .dataframe thead th {\n",
       "        text-align: right;\n",
       "    }\n",
       "</style>\n",
       "<table border=\"1\" class=\"dataframe\">\n",
       "  <thead>\n",
       "    <tr style=\"text-align: right;\">\n",
       "      <th></th>\n",
       "      <th>0</th>\n",
       "    </tr>\n",
       "  </thead>\n",
       "  <tbody>\n",
       "    <tr>\n",
       "      <th>0</th>\n",
       "      <td>case</td>\n",
       "    </tr>\n",
       "    <tr>\n",
       "      <th>1</th>\n",
       "      <td>case</td>\n",
       "    </tr>\n",
       "    <tr>\n",
       "      <th>2</th>\n",
       "      <td>case</td>\n",
       "    </tr>\n",
       "    <tr>\n",
       "      <th>3</th>\n",
       "      <td>case</td>\n",
       "    </tr>\n",
       "    <tr>\n",
       "      <th>4</th>\n",
       "      <td>case</td>\n",
       "    </tr>\n",
       "    <tr>\n",
       "      <th>...</th>\n",
       "      <td>...</td>\n",
       "    </tr>\n",
       "    <tr>\n",
       "      <th>11316491</th>\n",
       "      <td>5</td>\n",
       "    </tr>\n",
       "    <tr>\n",
       "      <th>11316492</th>\n",
       "      <td>5</td>\n",
       "    </tr>\n",
       "    <tr>\n",
       "      <th>11316493</th>\n",
       "      <td>2147483647</td>\n",
       "    </tr>\n",
       "    <tr>\n",
       "      <th>11316494</th>\n",
       "      <td>5</td>\n",
       "    </tr>\n",
       "    <tr>\n",
       "      <th>11316495</th>\n",
       "      <td>0</td>\n",
       "    </tr>\n",
       "  </tbody>\n",
       "</table>\n",
       "<p>11316496 rows × 1 columns</p>\n",
       "</div>"
      ],
      "text/plain": [
       "                   0\n",
       "0               case\n",
       "1               case\n",
       "2               case\n",
       "3               case\n",
       "4               case\n",
       "...              ...\n",
       "11316491           5\n",
       "11316492           5\n",
       "11316493  2147483647\n",
       "11316494           5\n",
       "11316495           0\n",
       "\n",
       "[11316496 rows x 1 columns]"
      ]
     },
     "execution_count": 29,
     "metadata": {},
     "output_type": "execute_result"
    }
   ],
   "source": [
    "neighborhood_df"
   ]
  },
  {
   "cell_type": "code",
   "execution_count": 30,
   "metadata": {
    "ExecuteTime": {
     "end_time": "2020-04-20T08:06:30.227806Z",
     "start_time": "2020-04-20T08:06:30.206911Z"
    }
   },
   "outputs": [],
   "source": [
    "# neighborhood_df['hierarchical_proportion'] = neighborhood_df.cn_hierarchy_confirmed.apply(lambda cn: sum(cn)/len(cn) if cn else 0)\n",
    "# neighborhood_df = neighborhood_df[neighborhood_df.hierarchical_proportion>0.1]\n",
    "# neighborhood_df.sort_values('hierarchical_proportion')"
   ]
  },
  {
   "cell_type": "markdown",
   "metadata": {},
   "source": [
    "## Skip zero proportions "
   ]
  },
  {
   "cell_type": "code",
   "execution_count": 31,
   "metadata": {
    "ExecuteTime": {
     "end_time": "2020-04-20T08:06:31.754279Z",
     "start_time": "2020-04-20T08:06:31.734128Z"
    }
   },
   "outputs": [],
   "source": [
    "# neighborhood_df = neighborhood_df[neighborhood_df.hierarchical_proportion > 0]"
   ]
  },
  {
   "cell_type": "markdown",
   "metadata": {},
   "source": [
    "## Skip 0 len paths "
   ]
  },
  {
   "cell_type": "code",
   "execution_count": 32,
   "metadata": {
    "ExecuteTime": {
     "end_time": "2020-04-20T08:06:32.913978Z",
     "start_time": "2020-04-20T08:06:32.843159Z"
    }
   },
   "outputs": [
    {
     "ename": "AttributeError",
     "evalue": "'DataFrame' object has no attribute 'neighbors_cn_path_lens'",
     "output_type": "error",
     "traceback": [
      "\u001b[0;31m---------------------------------------------------------------------------\u001b[0m",
      "\u001b[0;31mAttributeError\u001b[0m                            Traceback (most recent call last)",
      "\u001b[0;32m<ipython-input-32-0d7cac4f47f2>\u001b[0m in \u001b[0;36m<module>\u001b[0;34m\u001b[0m\n\u001b[0;32m----> 1\u001b[0;31m \u001b[0mneighborhood_df\u001b[0m\u001b[0;34m.\u001b[0m\u001b[0mneighbors_cn_path_lens\u001b[0m \u001b[0;34m=\u001b[0m \u001b[0mneighborhood_df\u001b[0m\u001b[0;34m.\u001b[0m\u001b[0mneighbors_cn_path_lens\u001b[0m\u001b[0;34m.\u001b[0m\u001b[0mapply\u001b[0m\u001b[0;34m(\u001b[0m\u001b[0;32mlambda\u001b[0m \u001b[0mpaths\u001b[0m\u001b[0;34m:\u001b[0m \u001b[0;34m[\u001b[0m\u001b[0mpath\u001b[0m \u001b[0;32mfor\u001b[0m \u001b[0mpath\u001b[0m \u001b[0;32min\u001b[0m \u001b[0mpaths\u001b[0m \u001b[0;32mif\u001b[0m \u001b[0mpath\u001b[0m\u001b[0;34m]\u001b[0m\u001b[0;34m)\u001b[0m\u001b[0;34m\u001b[0m\u001b[0;34m\u001b[0m\u001b[0m\n\u001b[0m",
      "\u001b[0;32m/usr/lib/python3.8/site-packages/pandas/core/generic.py\u001b[0m in \u001b[0;36m__getattr__\u001b[0;34m(self, name)\u001b[0m\n\u001b[1;32m   5177\u001b[0m             \u001b[0;32mif\u001b[0m \u001b[0mself\u001b[0m\u001b[0;34m.\u001b[0m\u001b[0m_info_axis\u001b[0m\u001b[0;34m.\u001b[0m\u001b[0m_can_hold_identifiers_and_holds_name\u001b[0m\u001b[0;34m(\u001b[0m\u001b[0mname\u001b[0m\u001b[0;34m)\u001b[0m\u001b[0;34m:\u001b[0m\u001b[0;34m\u001b[0m\u001b[0;34m\u001b[0m\u001b[0m\n\u001b[1;32m   5178\u001b[0m                 \u001b[0;32mreturn\u001b[0m \u001b[0mself\u001b[0m\u001b[0;34m[\u001b[0m\u001b[0mname\u001b[0m\u001b[0;34m]\u001b[0m\u001b[0;34m\u001b[0m\u001b[0;34m\u001b[0m\u001b[0m\n\u001b[0;32m-> 5179\u001b[0;31m             \u001b[0;32mreturn\u001b[0m \u001b[0mobject\u001b[0m\u001b[0;34m.\u001b[0m\u001b[0m__getattribute__\u001b[0m\u001b[0;34m(\u001b[0m\u001b[0mself\u001b[0m\u001b[0;34m,\u001b[0m \u001b[0mname\u001b[0m\u001b[0;34m)\u001b[0m\u001b[0;34m\u001b[0m\u001b[0;34m\u001b[0m\u001b[0m\n\u001b[0m\u001b[1;32m   5180\u001b[0m \u001b[0;34m\u001b[0m\u001b[0m\n\u001b[1;32m   5181\u001b[0m     \u001b[0;32mdef\u001b[0m \u001b[0m__setattr__\u001b[0m\u001b[0;34m(\u001b[0m\u001b[0mself\u001b[0m\u001b[0;34m,\u001b[0m \u001b[0mname\u001b[0m\u001b[0;34m,\u001b[0m \u001b[0mvalue\u001b[0m\u001b[0;34m)\u001b[0m\u001b[0;34m:\u001b[0m\u001b[0;34m\u001b[0m\u001b[0;34m\u001b[0m\u001b[0m\n",
      "\u001b[0;31mAttributeError\u001b[0m: 'DataFrame' object has no attribute 'neighbors_cn_path_lens'"
     ]
    }
   ],
   "source": [
    "neighborhood_df.neighbors_cn_path_lens = neighborhood_df.neighbors_cn_path_lens.apply(lambda paths: [path for path in paths if path])"
   ]
  },
  {
   "cell_type": "code",
   "execution_count": null,
   "metadata": {
    "ExecuteTime": {
     "end_time": "2020-04-20T08:06:34.316670Z",
     "start_time": "2020-04-20T08:06:34.245609Z"
    }
   },
   "outputs": [],
   "source": [
    "neighborhood_df"
   ]
  },
  {
   "cell_type": "markdown",
   "metadata": {},
   "source": [
    "## Remove aspects with no paths to any neighbor "
   ]
  },
  {
   "cell_type": "code",
   "execution_count": 29,
   "metadata": {
    "ExecuteTime": {
     "end_time": "2020-04-20T08:06:36.986481Z",
     "start_time": "2020-04-20T08:06:36.964790Z"
    }
   },
   "outputs": [
    {
     "data": {
      "text/plain": [
       "5046"
      ]
     },
     "execution_count": 29,
     "metadata": {},
     "output_type": "execute_result"
    }
   ],
   "source": [
    "len(neighborhood_df)"
   ]
  },
  {
   "cell_type": "code",
   "execution_count": 30,
   "metadata": {
    "ExecuteTime": {
     "end_time": "2020-04-20T08:06:40.337273Z",
     "start_time": "2020-04-20T08:06:38.636355Z"
    }
   },
   "outputs": [
    {
     "name": "stderr",
     "output_type": "stream",
     "text": [
      "100%|██████████| 1682/1682 [00:01<00:00, 1480.15it/s]\n"
     ]
    }
   ],
   "source": [
    "neighborhood_df = pd.concat([\n",
    "    g \n",
    "    for _, g in tqdm(neighborhood_df.groupby('name')) \n",
    "    for _, row in g.iterrows()\n",
    "    if len(row.neighbors_cn_path_lens) > 0\n",
    "]).drop_duplicates(subset=['name', 'rank'])"
   ]
  },
  {
   "cell_type": "code",
   "execution_count": 31,
   "metadata": {
    "ExecuteTime": {
     "end_time": "2020-04-20T08:06:40.362253Z",
     "start_time": "2020-04-20T08:06:40.338769Z"
    }
   },
   "outputs": [
    {
     "data": {
      "text/plain": [
       "1977"
      ]
     },
     "execution_count": 31,
     "metadata": {},
     "output_type": "execute_result"
    }
   ],
   "source": [
    "len(neighborhood_df)"
   ]
  },
  {
   "cell_type": "markdown",
   "metadata": {},
   "source": [
    "## Skip aspects without all ranks paths "
   ]
  },
  {
   "cell_type": "code",
   "execution_count": 32,
   "metadata": {
    "ExecuteTime": {
     "end_time": "2020-04-20T08:06:45.101853Z",
     "start_time": "2020-04-20T08:06:44.805204Z"
    }
   },
   "outputs": [],
   "source": [
    "neighborhood_df = pd.concat([g for _, g in neighborhood_df.groupby('name') if len(g) == 3])"
   ]
  },
  {
   "cell_type": "code",
   "execution_count": 33,
   "metadata": {
    "ExecuteTime": {
     "end_time": "2020-04-20T08:06:45.237609Z",
     "start_time": "2020-04-20T08:06:45.215353Z"
    }
   },
   "outputs": [
    {
     "data": {
      "text/plain": [
       "1977"
      ]
     },
     "execution_count": 33,
     "metadata": {},
     "output_type": "execute_result"
    }
   ],
   "source": [
    "len(neighborhood_df)"
   ]
  },
  {
   "cell_type": "markdown",
   "metadata": {},
   "source": [
    "# Calculate differences between aspect graph shortests paths of neioghbors and cn shortest paths "
   ]
  },
  {
   "cell_type": "code",
   "execution_count": 34,
   "metadata": {
    "ExecuteTime": {
     "end_time": "2020-04-20T08:06:47.237795Z",
     "start_time": "2020-04-20T08:06:46.693600Z"
    }
   },
   "outputs": [
    {
     "name": "stderr",
     "output_type": "stream",
     "text": [
      "1977it [00:00, 3809.40it/s]\n"
     ]
    }
   ],
   "source": [
    "shortest_paths_diferences = []\n",
    "    \n",
    "for _, row in tqdm(neighborhood_df.iterrows()):\n",
    "    rank = row['rank']\n",
    "    if len(row.neighbors_path_lens) == len(row.neighbors_cn_path_lens):\n",
    "        shortest_paths_diferences.append(\n",
    "            np.subtract(\n",
    "                np.array(row.neighbors_cn_path_lens), \n",
    "                np.array(row.neighbors_path_lens)\n",
    "            )\n",
    "        )"
   ]
  },
  {
   "cell_type": "code",
   "execution_count": 35,
   "metadata": {
    "ExecuteTime": {
     "end_time": "2020-04-20T08:06:47.263494Z",
     "start_time": "2020-04-20T08:06:47.239935Z"
    }
   },
   "outputs": [
    {
     "data": {
      "text/plain": [
       "1977"
      ]
     },
     "execution_count": 35,
     "metadata": {},
     "output_type": "execute_result"
    }
   ],
   "source": [
    "len(shortest_paths_diferences)"
   ]
  },
  {
   "cell_type": "code",
   "execution_count": 36,
   "metadata": {
    "ExecuteTime": {
     "end_time": "2020-04-20T08:06:49.269275Z",
     "start_time": "2020-04-20T08:06:49.240156Z"
    }
   },
   "outputs": [],
   "source": [
    "neighborhood_df['shortest_paths_diferences'] = shortest_paths_diferences"
   ]
  },
  {
   "cell_type": "code",
   "execution_count": 37,
   "metadata": {
    "ExecuteTime": {
     "end_time": "2020-04-20T08:06:49.938573Z",
     "start_time": "2020-04-20T08:06:49.913891Z"
    }
   },
   "outputs": [],
   "source": [
    "assert len(neighborhood_df[neighborhood_df.shortest_paths_diferences.isna()]) == 0, 'Check number of paths'"
   ]
  },
  {
   "cell_type": "code",
   "execution_count": 38,
   "metadata": {
    "ExecuteTime": {
     "end_time": "2020-04-20T08:06:50.879872Z",
     "start_time": "2020-04-20T08:06:50.830840Z"
    }
   },
   "outputs": [
    {
     "name": "stderr",
     "output_type": "stream",
     "text": [
      "/usr/lib/python3.8/site-packages/numpy/core/fromnumeric.py:3334: RuntimeWarning: Mean of empty slice.\n",
      "  return _methods._mean(a, axis=axis, dtype=dtype,\n"
     ]
    }
   ],
   "source": [
    "neighborhood_df['shortest_paths_diferences_mean'] = neighborhood_df.shortest_paths_diferences.apply(np.mean)"
   ]
  },
  {
   "cell_type": "code",
   "execution_count": 39,
   "metadata": {
    "ExecuteTime": {
     "end_time": "2020-04-20T08:06:51.445159Z",
     "start_time": "2020-04-20T08:06:51.340343Z"
    }
   },
   "outputs": [
    {
     "data": {
      "text/html": [
       "<div>\n",
       "<style scoped>\n",
       "    .dataframe tbody tr th:only-of-type {\n",
       "        vertical-align: middle;\n",
       "    }\n",
       "\n",
       "    .dataframe tbody tr th {\n",
       "        vertical-align: top;\n",
       "    }\n",
       "\n",
       "    .dataframe thead th {\n",
       "        text-align: right;\n",
       "    }\n",
       "</style>\n",
       "<table border=\"1\" class=\"dataframe\">\n",
       "  <thead>\n",
       "    <tr style=\"text-align: right;\">\n",
       "      <th></th>\n",
       "      <th>name</th>\n",
       "      <th>rank</th>\n",
       "      <th>neighbors_names</th>\n",
       "      <th>neighbors_path_lens</th>\n",
       "      <th>neighbors_cn_path_lens</th>\n",
       "      <th>aspects_not_in_conceptnet</th>\n",
       "      <th>cn_hierarchy_confirmed</th>\n",
       "      <th>shortest_paths_diferences</th>\n",
       "      <th>shortest_paths_diferences_mean</th>\n",
       "    </tr>\n",
       "  </thead>\n",
       "  <tbody>\n",
       "    <tr>\n",
       "      <th>975</th>\n",
       "      <td>aaa</td>\n",
       "      <td>1</td>\n",
       "      <td>[price, use, battery, ac, blackberry, recharge...</td>\n",
       "      <td>[1, 1, 1, 1, 1, 1, 1, 1, 1, 1]</td>\n",
       "      <td>[3, 3, 4, 4, 4, 4, 3, 4, 3, 3]</td>\n",
       "      <td>[price, use, battery, ac, blackberry, recharge...</td>\n",
       "      <td>[]</td>\n",
       "      <td>[2, 2, 3, 3, 3, 3, 2, 3, 2, 2]</td>\n",
       "      <td>2.500000</td>\n",
       "    </tr>\n",
       "    <tr>\n",
       "      <th>976</th>\n",
       "      <td>aaa</td>\n",
       "      <td>2</td>\n",
       "      <td>[case, video camera, quality, shipping, russia...</td>\n",
       "      <td>[2, 2, 2, 2, 2, 2, 2, 2, 2, 2, 2, 2, 2, 2, 2, ...</td>\n",
       "      <td>[3, 4, 4, 4, 4, 4, 4, 5, 3, 3, 4, 3, 4, 4, 3, ...</td>\n",
       "      <td>[case, video camera, quality, shipping, russia...</td>\n",
       "      <td>[]</td>\n",
       "      <td>[1, 2, 2, 2, 2, 2, 2, 3, 1, 1, 2, 1, 2, 2, 1, ...</td>\n",
       "      <td>1.809877</td>\n",
       "    </tr>\n",
       "    <tr>\n",
       "      <th>977</th>\n",
       "      <td>aaa</td>\n",
       "      <td>3</td>\n",
       "      <td>[pieces, price, use, nook, battery, tablet, ac...</td>\n",
       "      <td>[3, 3, 3, 3, 3, 3, 3, 3, 3, 3, 3, 3, 3, 3, 3, ...</td>\n",
       "      <td>[4, 3, 3, 4, 4, 5, 4, 4, 4, 5, 5, 3, 3, 4, 3, ...</td>\n",
       "      <td>[pieces, price, use, nook, battery, tablet, ac...</td>\n",
       "      <td>[]</td>\n",
       "      <td>[1, 0, 0, 1, 1, 2, 1, 1, 1, 2, 2, 0, 0, 1, 0, ...</td>\n",
       "      <td>0.881295</td>\n",
       "    </tr>\n",
       "    <tr>\n",
       "      <th>27</th>\n",
       "      <td>ac</td>\n",
       "      <td>1</td>\n",
       "      <td>[price, use, battery, support, usb, amazon, er...</td>\n",
       "      <td>[1, 1, 1, 1, 1, 1, 1, 1, 1, 1, 1, 1, 1, 1, 1, ...</td>\n",
       "      <td>[6, 4, 6, 4, 6, 5, 5, 5, 6, 5, 5, 6, 4, 6, 4, ...</td>\n",
       "      <td>[price, use, battery, support, usb, amazon, er...</td>\n",
       "      <td>[]</td>\n",
       "      <td>[5, 3, 5, 3, 5, 4, 4, 4, 5, 4, 4, 5, 3, 5, 3, ...</td>\n",
       "      <td>4.176471</td>\n",
       "    </tr>\n",
       "    <tr>\n",
       "      <th>28</th>\n",
       "      <td>ac</td>\n",
       "      <td>2</td>\n",
       "      <td>[case, quality, shipping, video camera, tablet...</td>\n",
       "      <td>[2, 2, 2, 2, 2, 2, 2, 2, 2, 2, 2, 2, 2, 2, 2, ...</td>\n",
       "      <td>[4, 5, 5, 6, 6, 5, 4, 5, 5, 6, 6, 5, 4, 6, 4, ...</td>\n",
       "      <td>[case, quality, shipping, video camera, tablet...</td>\n",
       "      <td>[]</td>\n",
       "      <td>[2, 3, 3, 4, 4, 3, 2, 3, 3, 4, 4, 3, 2, 4, 2, ...</td>\n",
       "      <td>3.144898</td>\n",
       "    </tr>\n",
       "    <tr>\n",
       "      <th>...</th>\n",
       "      <td>...</td>\n",
       "      <td>...</td>\n",
       "      <td>...</td>\n",
       "      <td>...</td>\n",
       "      <td>...</td>\n",
       "      <td>...</td>\n",
       "      <td>...</td>\n",
       "      <td>...</td>\n",
       "      <td>...</td>\n",
       "    </tr>\n",
       "    <tr>\n",
       "      <th>799</th>\n",
       "      <td>youtube</td>\n",
       "      <td>2</td>\n",
       "      <td>[case, price, use, canada, quality, shipping, ...</td>\n",
       "      <td>[2, 2, 2, 2, 2, 2, 2, 2, 2, 2, 2, 2, 2, 2, 2, ...</td>\n",
       "      <td>[4, 4, 2, 4, 4, 3, 4, 4, 4, 4, 5, 5, 3, 4, 4, ...</td>\n",
       "      <td>[case, price, use, canada, quality, shipping, ...</td>\n",
       "      <td>[]</td>\n",
       "      <td>[2, 2, 0, 2, 2, 1, 2, 2, 2, 2, 3, 3, 1, 2, 2, ...</td>\n",
       "      <td>2.020202</td>\n",
       "    </tr>\n",
       "    <tr>\n",
       "      <th>800</th>\n",
       "      <td>youtube</td>\n",
       "      <td>3</td>\n",
       "      <td>[pieces, nook, battery, cord, update, siri, s3...</td>\n",
       "      <td>[3, 3, 3, 3, 3, 3, 3, 3, 3, 3, 3, 3, 3, 3, 3, ...</td>\n",
       "      <td>[4, 3, 5, 4, 4, 4, 5, 5, 3, 4, 4, 4, 3, 5, 4, ...</td>\n",
       "      <td>[pieces, nook, battery, cord, update, siri, s3...</td>\n",
       "      <td>[]</td>\n",
       "      <td>[1, 0, 2, 1, 1, 1, 2, 2, 0, 1, 1, 1, 0, 2, 1, ...</td>\n",
       "      <td>1.150611</td>\n",
       "    </tr>\n",
       "    <tr>\n",
       "      <th>1716</th>\n",
       "      <td>zoom</td>\n",
       "      <td>1</td>\n",
       "      <td>[camera]</td>\n",
       "      <td>[1]</td>\n",
       "      <td>[5]</td>\n",
       "      <td>[camera]</td>\n",
       "      <td>[]</td>\n",
       "      <td>[4]</td>\n",
       "      <td>4.000000</td>\n",
       "    </tr>\n",
       "    <tr>\n",
       "      <th>1717</th>\n",
       "      <td>zoom</td>\n",
       "      <td>2</td>\n",
       "      <td>[price, use, quality, battery, memory, usb, di...</td>\n",
       "      <td>[2, 2, 2, 2, 2, 2, 2, 2, 2, 2, 2, 2, 2, 2, 2, ...</td>\n",
       "      <td>[5, 4, 5, 6, 3, 6, 5, 6, 5, 4, 5, 4, 6, 5, 5, ...</td>\n",
       "      <td>[price, use, quality, battery, memory, usb, di...</td>\n",
       "      <td>[]</td>\n",
       "      <td>[3, 2, 3, 4, 1, 4, 3, 4, 3, 2, 3, 2, 4, 3, 3, ...</td>\n",
       "      <td>3.295455</td>\n",
       "    </tr>\n",
       "    <tr>\n",
       "      <th>1718</th>\n",
       "      <td>zoom</td>\n",
       "      <td>3</td>\n",
       "      <td>[case, shipping, ac, amazon, cord, update, but...</td>\n",
       "      <td>[3, 3, 3, 3, 3, 3, 3, 3, 3, 3, 3, 3, 3, 3, 3, ...</td>\n",
       "      <td>[5, 5, 5, 5, 4, 5, 5, 5, 6, 5, 6, 6, 5, 5, 6, ...</td>\n",
       "      <td>[case, shipping, ac, amazon, cord, update, but...</td>\n",
       "      <td>[]</td>\n",
       "      <td>[2, 2, 2, 2, 1, 2, 2, 2, 3, 2, 3, 3, 2, 2, 3, ...</td>\n",
       "      <td>2.149002</td>\n",
       "    </tr>\n",
       "  </tbody>\n",
       "</table>\n",
       "<p>1977 rows × 9 columns</p>\n",
       "</div>"
      ],
      "text/plain": [
       "         name  rank                                    neighbors_names  \\\n",
       "975       aaa     1  [price, use, battery, ac, blackberry, recharge...   \n",
       "976       aaa     2  [case, video camera, quality, shipping, russia...   \n",
       "977       aaa     3  [pieces, price, use, nook, battery, tablet, ac...   \n",
       "27         ac     1  [price, use, battery, support, usb, amazon, er...   \n",
       "28         ac     2  [case, quality, shipping, video camera, tablet...   \n",
       "...       ...   ...                                                ...   \n",
       "799   youtube     2  [case, price, use, canada, quality, shipping, ...   \n",
       "800   youtube     3  [pieces, nook, battery, cord, update, siri, s3...   \n",
       "1716     zoom     1                                           [camera]   \n",
       "1717     zoom     2  [price, use, quality, battery, memory, usb, di...   \n",
       "1718     zoom     3  [case, shipping, ac, amazon, cord, update, but...   \n",
       "\n",
       "                                    neighbors_path_lens  \\\n",
       "975                      [1, 1, 1, 1, 1, 1, 1, 1, 1, 1]   \n",
       "976   [2, 2, 2, 2, 2, 2, 2, 2, 2, 2, 2, 2, 2, 2, 2, ...   \n",
       "977   [3, 3, 3, 3, 3, 3, 3, 3, 3, 3, 3, 3, 3, 3, 3, ...   \n",
       "27    [1, 1, 1, 1, 1, 1, 1, 1, 1, 1, 1, 1, 1, 1, 1, ...   \n",
       "28    [2, 2, 2, 2, 2, 2, 2, 2, 2, 2, 2, 2, 2, 2, 2, ...   \n",
       "...                                                 ...   \n",
       "799   [2, 2, 2, 2, 2, 2, 2, 2, 2, 2, 2, 2, 2, 2, 2, ...   \n",
       "800   [3, 3, 3, 3, 3, 3, 3, 3, 3, 3, 3, 3, 3, 3, 3, ...   \n",
       "1716                                                [1]   \n",
       "1717  [2, 2, 2, 2, 2, 2, 2, 2, 2, 2, 2, 2, 2, 2, 2, ...   \n",
       "1718  [3, 3, 3, 3, 3, 3, 3, 3, 3, 3, 3, 3, 3, 3, 3, ...   \n",
       "\n",
       "                                 neighbors_cn_path_lens  \\\n",
       "975                      [3, 3, 4, 4, 4, 4, 3, 4, 3, 3]   \n",
       "976   [3, 4, 4, 4, 4, 4, 4, 5, 3, 3, 4, 3, 4, 4, 3, ...   \n",
       "977   [4, 3, 3, 4, 4, 5, 4, 4, 4, 5, 5, 3, 3, 4, 3, ...   \n",
       "27    [6, 4, 6, 4, 6, 5, 5, 5, 6, 5, 5, 6, 4, 6, 4, ...   \n",
       "28    [4, 5, 5, 6, 6, 5, 4, 5, 5, 6, 6, 5, 4, 6, 4, ...   \n",
       "...                                                 ...   \n",
       "799   [4, 4, 2, 4, 4, 3, 4, 4, 4, 4, 5, 5, 3, 4, 4, ...   \n",
       "800   [4, 3, 5, 4, 4, 4, 5, 5, 3, 4, 4, 4, 3, 5, 4, ...   \n",
       "1716                                                [5]   \n",
       "1717  [5, 4, 5, 6, 3, 6, 5, 6, 5, 4, 5, 4, 6, 5, 5, ...   \n",
       "1718  [5, 5, 5, 5, 4, 5, 5, 5, 6, 5, 6, 6, 5, 5, 6, ...   \n",
       "\n",
       "                              aspects_not_in_conceptnet  \\\n",
       "975   [price, use, battery, ac, blackberry, recharge...   \n",
       "976   [case, video camera, quality, shipping, russia...   \n",
       "977   [pieces, price, use, nook, battery, tablet, ac...   \n",
       "27    [price, use, battery, support, usb, amazon, er...   \n",
       "28    [case, quality, shipping, video camera, tablet...   \n",
       "...                                                 ...   \n",
       "799   [case, price, use, canada, quality, shipping, ...   \n",
       "800   [pieces, nook, battery, cord, update, siri, s3...   \n",
       "1716                                           [camera]   \n",
       "1717  [price, use, quality, battery, memory, usb, di...   \n",
       "1718  [case, shipping, ac, amazon, cord, update, but...   \n",
       "\n",
       "     cn_hierarchy_confirmed  \\\n",
       "975                      []   \n",
       "976                      []   \n",
       "977                      []   \n",
       "27                       []   \n",
       "28                       []   \n",
       "...                     ...   \n",
       "799                      []   \n",
       "800                      []   \n",
       "1716                     []   \n",
       "1717                     []   \n",
       "1718                     []   \n",
       "\n",
       "                              shortest_paths_diferences  \\\n",
       "975                      [2, 2, 3, 3, 3, 3, 2, 3, 2, 2]   \n",
       "976   [1, 2, 2, 2, 2, 2, 2, 3, 1, 1, 2, 1, 2, 2, 1, ...   \n",
       "977   [1, 0, 0, 1, 1, 2, 1, 1, 1, 2, 2, 0, 0, 1, 0, ...   \n",
       "27    [5, 3, 5, 3, 5, 4, 4, 4, 5, 4, 4, 5, 3, 5, 3, ...   \n",
       "28    [2, 3, 3, 4, 4, 3, 2, 3, 3, 4, 4, 3, 2, 4, 2, ...   \n",
       "...                                                 ...   \n",
       "799   [2, 2, 0, 2, 2, 1, 2, 2, 2, 2, 3, 3, 1, 2, 2, ...   \n",
       "800   [1, 0, 2, 1, 1, 1, 2, 2, 0, 1, 1, 1, 0, 2, 1, ...   \n",
       "1716                                                [4]   \n",
       "1717  [3, 2, 3, 4, 1, 4, 3, 4, 3, 2, 3, 2, 4, 3, 3, ...   \n",
       "1718  [2, 2, 2, 2, 1, 2, 2, 2, 3, 2, 3, 3, 2, 2, 3, ...   \n",
       "\n",
       "      shortest_paths_diferences_mean  \n",
       "975                         2.500000  \n",
       "976                         1.809877  \n",
       "977                         0.881295  \n",
       "27                          4.176471  \n",
       "28                          3.144898  \n",
       "...                              ...  \n",
       "799                         2.020202  \n",
       "800                         1.150611  \n",
       "1716                        4.000000  \n",
       "1717                        3.295455  \n",
       "1718                        2.149002  \n",
       "\n",
       "[1977 rows x 9 columns]"
      ]
     },
     "execution_count": 39,
     "metadata": {},
     "output_type": "execute_result"
    }
   ],
   "source": [
    "neighborhood_df"
   ]
  },
  {
   "cell_type": "markdown",
   "metadata": {},
   "source": [
    "# Paths differences analysis"
   ]
  },
  {
   "cell_type": "markdown",
   "metadata": {},
   "source": [
    "## Average shortest paths difference"
   ]
  },
  {
   "cell_type": "code",
   "execution_count": 40,
   "metadata": {
    "ExecuteTime": {
     "end_time": "2020-04-20T08:07:04.476355Z",
     "start_time": "2020-04-20T08:07:04.182574Z"
    }
   },
   "outputs": [
    {
     "name": "stdout",
     "output_type": "stream",
     "text": [
      "Average shortest paths difference for rank 1: 2.758630548011196\n",
      "Average shortest paths difference for rank 2: 1.8062628582301823\n",
      "Average shortest paths difference for rank 3: 0.8543503167437793\n"
     ]
    },
    {
     "data": {
      "text/plain": [
       "<matplotlib.legend.Legend at 0x7f5c5b8ef490>"
      ]
     },
     "execution_count": 40,
     "metadata": {},
     "output_type": "execute_result"
    },
    {
     "data": {
      "image/png": "[encoded data removed]",
      "text/plain": [
       "<Figure size 432x288 with 1 Axes>"
      ]
     },
     "metadata": {
      "needs_background": "light"
     },
     "output_type": "display_data"
    }
   ],
   "source": [
    "ranks = []\n",
    "for r, group in neighborhood_df.groupby('rank'):\n",
    "    ranks += [f'Rank {r}']\n",
    "    print(f'Average shortest paths difference for rank {r}: {group.shortest_paths_diferences_mean.mean()}')\n",
    "    group.shortest_paths_diferences_mean.hist(bins=20)\n",
    "plt.legend(ranks)"
   ]
  },
  {
   "cell_type": "markdown",
   "metadata": {},
   "source": [
    "## Number of aspects pairs [aspect_graph x conceptnet]"
   ]
  },
  {
   "cell_type": "code",
   "execution_count": 43,
   "metadata": {
    "ExecuteTime": {
     "end_time": "2020-04-20T08:07:40.651727Z",
     "start_time": "2020-04-20T08:07:40.611192Z"
    }
   },
   "outputs": [
    {
     "data": {
      "text/plain": [
       "447688"
      ]
     },
     "execution_count": 43,
     "metadata": {},
     "output_type": "execute_result"
    }
   ],
   "source": [
    "len(list(flatten(neighborhood_df.neighbors_cn_path_lens.tolist())))"
   ]
  },
  {
   "cell_type": "markdown",
   "metadata": {},
   "source": [
    "## Histograms per each shortest path len "
   ]
  },
  {
   "cell_type": "markdown",
   "metadata": {},
   "source": [
    "### ConeptNet distances"
   ]
  },
  {
   "cell_type": "code",
   "execution_count": 44,
   "metadata": {
    "ExecuteTime": {
     "end_time": "2020-04-20T08:07:43.409259Z",
     "start_time": "2020-04-20T08:07:43.006576Z"
    }
   },
   "outputs": [
    {
     "data": {
      "text/plain": [
       "Text(0.5, 0, 'Shortest path len')"
      ]
     },
     "execution_count": 44,
     "metadata": {},
     "output_type": "execute_result"
    },
    {
     "data": {
      "image/png": "[encoded data removed]",
      "text/plain": [
       "<Figure size 432x288 with 1 Axes>"
      ]
     },
     "metadata": {
      "needs_background": "light"
     },
     "output_type": "display_data"
    }
   ],
   "source": [
    "plt.hist(\n",
    "    list(flatten(neighborhood_df.neighbors_cn_path_lens.tolist())),\n",
    "    bins=20\n",
    ")\n",
    "plt.xlabel('Shortest path len')"
   ]
  },
  {
   "cell_type": "markdown",
   "metadata": {},
   "source": [
    "### Difference in shortest paths [aspect_graph x conceptnet]"
   ]
  },
  {
   "cell_type": "code",
   "execution_count": 45,
   "metadata": {
    "ExecuteTime": {
     "end_time": "2020-04-20T08:07:50.902064Z",
     "start_time": "2020-04-20T08:07:50.601730Z"
    }
   },
   "outputs": [
    {
     "data": {
      "text/plain": [
       "Text(0.5, 0, 'Shortest paths difference')"
      ]
     },
     "execution_count": 45,
     "metadata": {},
     "output_type": "execute_result"
    },
    {
     "data": {
      "image/png": "[encoded data removed]",
      "text/plain": [
       "<Figure size 432x288 with 1 Axes>"
      ]
     },
     "metadata": {
      "needs_background": "light"
     },
     "output_type": "display_data"
    }
   ],
   "source": [
    "plt.hist(\n",
    "    list(flatten(neighborhood_df.shortest_paths_diferences.tolist())),\n",
    "    bins=20\n",
    ")\n",
    "plt.xlabel('Shortest paths difference')"
   ]
  },
  {
   "cell_type": "markdown",
   "metadata": {},
   "source": [
    "## Per each rank"
   ]
  },
  {
   "cell_type": "code",
   "execution_count": 46,
   "metadata": {
    "ExecuteTime": {
     "end_time": "2020-04-20T08:07:55.609240Z",
     "start_time": "2020-04-20T08:07:55.038987Z"
    }
   },
   "outputs": [
    {
     "data": {
      "image/png": "[encoded data removed]",
      "text/plain": [
       "<Figure size 432x288 with 1 Axes>"
      ]
     },
     "metadata": {
      "needs_background": "light"
     },
     "output_type": "display_data"
    },
    {
     "data": {
      "image/png": "[encoded data removed]",
      "text/plain": [
       "<Figure size 432x288 with 1 Axes>"
      ]
     },
     "metadata": {
      "needs_background": "light"
     },
     "output_type": "display_data"
    },
    {
     "data": {
      "image/png": "[encoded data removed]",
      "text/plain": [
       "<Figure size 432x288 with 1 Axes>"
      ]
     },
     "metadata": {
      "needs_background": "light"
     },
     "output_type": "display_data"
    }
   ],
   "source": [
    "for r, group in neighborhood_df.groupby('rank'):\n",
    "    fig = plt.figure()\n",
    "    plt.hist(\n",
    "        list(flatten(group.neighbors_cn_path_lens.tolist())),\n",
    "        bins=20\n",
    "    )\n",
    "    plt.xlabel('Shortest paths distances in ConceptNet')\n",
    "    plt.title(f'Rank = {r}')"
   ]
  },
  {
   "cell_type": "code",
   "execution_count": null,
   "metadata": {},
   "outputs": [],
   "source": []
  }
 ],
 "metadata": {
  "kernelspec": {
   "display_name": "Python 3",
   "language": "python",
   "name": "python3"
  },
  "language_info": {
   "codemirror_mode": {
    "name": "ipython",
    "version": 3
   },
   "file_extension": ".py",
   "mimetype": "text/x-python",
   "name": "python",
   "nbconvert_exporter": "python",
   "pygments_lexer": "ipython3",
   "version": "3.8.3"
  },
  "toc": {
   "base_numbering": 1,
   "nav_menu": {},
   "number_sections": true,
   "sideBar": true,
   "skip_h1_title": false,
   "title_cell": "Table of Contents",
   "title_sidebar": "Contents",
   "toc_cell": false,
   "toc_position": {},
   "toc_section_display": true,
   "toc_window_display": false
  }
 },
 "nbformat": 4,
 "nbformat_minor": 2
}
