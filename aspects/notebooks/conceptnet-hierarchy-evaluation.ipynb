{
 "cells": [
  {
   "cell_type": "markdown",
   "metadata": {},
   "source": [
    "# Imports"
   ]
  },
  {
   "cell_type": "code",
   "execution_count": 42,
   "metadata": {
    "ExecuteTime": {
     "end_time": "2020-04-20T08:07:33.940119Z",
     "start_time": "2020-04-20T08:07:33.892767Z"
    }
   },
   "outputs": [
    {
     "name": "stdout",
     "output_type": "stream",
     "text": [
      "The autoreload extension is already loaded. To reload it, use:\n",
      "  %reload_ext autoreload\n"
     ]
    },
    {
     "data": {
      "text/html": [
       "<style>.container { width:90% !important; }</style>"
      ],
      "text/plain": [
       "<IPython.core.display.HTML object>"
      ]
     },
     "metadata": {},
     "output_type": "display_data"
    }
   ],
   "source": [
    "%load_ext autoreload\n",
    "%autoreload 2\n",
    "\n",
    "import sys\n",
    "sys.path.append('/home/user/github/phd/sentiment-backend/')\n",
    "\n",
    "from typing import NamedTuple, List\n",
    "from more_itertools import flatten\n",
    "\n",
    "import numpy as np\n",
    "import pandas as pd\n",
    "\n",
    "from tqdm import tqdm\n",
    "\n",
    "from aspects.embeddings.graph.conceptnet_hierarchies_check import AspectNeighborhood\n",
    "from aspects.data_io import serializer\n",
    "from aspects.utilities import settings\n",
    "from aspects.utilities.data_paths import ExperimentPaths\n",
    "\n",
    "import matplotlib\n",
    "import matplotlib.pyplot as plt\n",
    "%matplotlib inline\n",
    "\n",
    "from IPython.display import display, HTML\n",
    "display(HTML(\"<style>.container { width:90% !important; }</style>\"))"
   ]
  },
  {
   "cell_type": "markdown",
   "metadata": {},
   "source": [
    "# Load experiment data"
   ]
  },
  {
   "cell_type": "code",
   "execution_count": 15,
   "metadata": {
    "ExecuteTime": {
     "end_time": "2020-04-20T07:57:59.436645Z",
     "start_time": "2020-04-20T07:57:59.354912Z"
    }
   },
   "outputs": [
    {
     "data": {
      "text/plain": [
       "7210"
      ]
     },
     "execution_count": 15,
     "metadata": {},
     "output_type": "execute_result"
    }
   ],
   "source": [
    "experiment_paths = ExperimentPaths(\n",
    "    input_path='',\n",
    "    output_path=settings.DEFAULT_OUTPUT_PATH / 'reviews_Cell_Phones_and_Accessories-50000-docs',\n",
    "#     output_path=settings.DEFAULT_OUTPUT_PATH / 'reviews_Apps_for_Android',\n",
    "#         output_path=settings.DEFAULT_OUTPUT_PATH / 'reviews_Amazon_Instant_Video',\n",
    "    experiment_name='our'\n",
    ")\n",
    "\n",
    "aspect_graph = serializer.load(experiment_paths.aspect_to_aspect_graph)\n",
    "\n",
    "aspect_graph.number_of_nodes()"
   ]
  },
  {
   "cell_type": "code",
   "execution_count": 48,
   "metadata": {
    "ExecuteTime": {
     "end_time": "2020-04-20T08:42:23.503462Z",
     "start_time": "2020-04-20T08:42:23.475403Z"
    }
   },
   "outputs": [],
   "source": [
    "import graph_tool.all as gt"
   ]
  },
  {
   "cell_type": "code",
   "execution_count": 49,
   "metadata": {
    "ExecuteTime": {
     "end_time": "2020-04-20T08:42:39.103235Z",
     "start_time": "2020-04-20T08:42:39.062761Z"
    }
   },
   "outputs": [
    {
     "ename": "AttributeError",
     "evalue": "'MultiDiGraph' object has no attribute 'new_vertex_property'",
     "output_type": "error",
     "traceback": [
      "\u001b[0;31m---------------------------------------------------------------------------\u001b[0m",
      "\u001b[0;31mAttributeError\u001b[0m                            Traceback (most recent call last)",
      "\u001b[0;32m<ipython-input-49-307e69aa0fc2>\u001b[0m in \u001b[0;36m<module>\u001b[0;34m\u001b[0m\n\u001b[0;32m----> 1\u001b[0;31m \u001b[0msh\u001b[0m \u001b[0;34m=\u001b[0m \u001b[0mgt\u001b[0m\u001b[0;34m.\u001b[0m\u001b[0mshortest_distance\u001b[0m\u001b[0;34m(\u001b[0m\u001b[0maspect_graph\u001b[0m\u001b[0;34m,\u001b[0m \u001b[0;34m[\u001b[0m\u001b[0;34m]\u001b[0m\u001b[0;34m,\u001b[0m \u001b[0;34m[\u001b[0m\u001b[0;34m]\u001b[0m\u001b[0;34m)\u001b[0m\u001b[0;34m\u001b[0m\u001b[0;34m\u001b[0m\u001b[0m\n\u001b[0m",
      "\u001b[0;32m/usr/lib/python3.8/site-packages/graph_tool/topology/__init__.py\u001b[0m in \u001b[0;36mshortest_distance\u001b[0;34m(g, source, target, weights, negative_weights, max_dist, directed, dense, dist_map, pred_map, return_reached, dag)\u001b[0m\n\u001b[1;32m   1982\u001b[0m     \u001b[0;32mif\u001b[0m \u001b[0mdist_map\u001b[0m \u001b[0;32mis\u001b[0m \u001b[0;32mNone\u001b[0m\u001b[0;34m:\u001b[0m\u001b[0;34m\u001b[0m\u001b[0;34m\u001b[0m\u001b[0m\n\u001b[1;32m   1983\u001b[0m         \u001b[0;32mif\u001b[0m \u001b[0msource\u001b[0m \u001b[0;32mis\u001b[0m \u001b[0;32mnot\u001b[0m \u001b[0;32mNone\u001b[0m\u001b[0;34m:\u001b[0m\u001b[0;34m\u001b[0m\u001b[0;34m\u001b[0m\u001b[0m\n\u001b[0;32m-> 1984\u001b[0;31m             \u001b[0mdist_map\u001b[0m \u001b[0;34m=\u001b[0m \u001b[0mg\u001b[0m\u001b[0;34m.\u001b[0m\u001b[0mnew_vertex_property\u001b[0m\u001b[0;34m(\u001b[0m\u001b[0mdist_type\u001b[0m\u001b[0;34m)\u001b[0m\u001b[0;34m\u001b[0m\u001b[0;34m\u001b[0m\u001b[0m\n\u001b[0m\u001b[1;32m   1985\u001b[0m         \u001b[0;32melse\u001b[0m\u001b[0;34m:\u001b[0m\u001b[0;34m\u001b[0m\u001b[0;34m\u001b[0m\u001b[0m\n\u001b[1;32m   1986\u001b[0m             \u001b[0mdist_map\u001b[0m \u001b[0;34m=\u001b[0m \u001b[0mg\u001b[0m\u001b[0;34m.\u001b[0m\u001b[0mnew_vertex_property\u001b[0m\u001b[0;34m(\u001b[0m\u001b[0;34m\"vector<%s>\"\u001b[0m \u001b[0;34m%\u001b[0m \u001b[0mdist_type\u001b[0m\u001b[0;34m)\u001b[0m\u001b[0;34m\u001b[0m\u001b[0;34m\u001b[0m\u001b[0m\n",
      "\u001b[0;31mAttributeError\u001b[0m: 'MultiDiGraph' object has no attribute 'new_vertex_property'"
     ]
    }
   ],
   "source": [
    "sh = gt.shortest_distance(aspect_graph, [], [])"
   ]
  },
  {
   "cell_type": "markdown",
   "metadata": {},
   "source": [
    "## Degree distribution"
   ]
  },
  {
   "cell_type": "markdown",
   "metadata": {},
   "source": [
    "### Without directions "
   ]
  },
  {
   "cell_type": "code",
   "execution_count": 16,
   "metadata": {
    "ExecuteTime": {
     "end_time": "2020-04-20T07:58:01.798342Z",
     "start_time": "2020-04-20T07:58:01.121575Z"
    }
   },
   "outputs": [
    {
     "data": {
      "image/png": "[encoded data removed]",
      "text/plain": [
       "<Figure size 432x288 with 1 Axes>"
      ]
     },
     "metadata": {
      "needs_background": "light"
     },
     "output_type": "display_data"
    }
   ],
   "source": [
    "degrees = [aspect_graph.degree(n) for n in aspect_graph.nodes()]\n",
    "plt.hist(degrees, bins=100, log=True)\n",
    "plt.show()"
   ]
  },
  {
   "cell_type": "code",
   "execution_count": 17,
   "metadata": {
    "ExecuteTime": {
     "end_time": "2020-04-20T07:58:02.351723Z",
     "start_time": "2020-04-20T07:58:01.800639Z"
    }
   },
   "outputs": [
    {
     "data": {
      "image/png": "[encoded data removed]",
      "text/plain": [
       "<Figure size 432x288 with 1 Axes>"
      ]
     },
     "metadata": {
      "needs_background": "light"
     },
     "output_type": "display_data"
    }
   ],
   "source": [
    "degrees = [aspect_graph.degree(n) for n in aspect_graph.nodes()]\n",
    "plt.hist(degrees, bins=100, log=True, range=(0, 100))\n",
    "plt.show()"
   ]
  },
  {
   "cell_type": "code",
   "execution_count": 18,
   "metadata": {
    "ExecuteTime": {
     "end_time": "2020-04-20T07:58:02.885385Z",
     "start_time": "2020-04-20T07:58:02.354030Z"
    }
   },
   "outputs": [
    {
     "data": {
      "image/png": "[encoded data removed]",
      "text/plain": [
       "<Figure size 432x288 with 1 Axes>"
      ]
     },
     "metadata": {
      "needs_background": "light"
     },
     "output_type": "display_data"
    }
   ],
   "source": [
    "degrees = [aspect_graph.degree(n) for n in aspect_graph.nodes()]\n",
    "plt.hist(degrees, bins=100, log=True, range=(0, 40))\n",
    "plt.show()"
   ]
  },
  {
   "cell_type": "code",
   "execution_count": 19,
   "metadata": {
    "ExecuteTime": {
     "end_time": "2020-04-20T07:58:02.948434Z",
     "start_time": "2020-04-20T07:58:02.887333Z"
    }
   },
   "outputs": [
    {
     "data": {
      "text/plain": [
       "9.157281553398057"
      ]
     },
     "execution_count": 19,
     "metadata": {},
     "output_type": "execute_result"
    }
   ],
   "source": [
    "np.mean([aspect_graph.degree(n) for n in aspect_graph.nodes()])"
   ]
  },
  {
   "cell_type": "markdown",
   "metadata": {},
   "source": [
    "### Out degree"
   ]
  },
  {
   "cell_type": "code",
   "execution_count": 20,
   "metadata": {
    "ExecuteTime": {
     "end_time": "2020-04-20T07:58:04.120196Z",
     "start_time": "2020-04-20T07:58:03.593577Z"
    }
   },
   "outputs": [
    {
     "data": {
      "image/png": "[encoded data removed]",
      "text/plain": [
       "<Figure size 432x288 with 1 Axes>"
      ]
     },
     "metadata": {
      "needs_background": "light"
     },
     "output_type": "display_data"
    }
   ],
   "source": [
    "degrees = [aspect_graph.out_degree(n) for n in aspect_graph.nodes()]\n",
    "plt.hist(degrees, bins=100, log=True, range=(0, 40))\n",
    "plt.show()"
   ]
  },
  {
   "cell_type": "code",
   "execution_count": 21,
   "metadata": {
    "ExecuteTime": {
     "end_time": "2020-04-20T07:58:04.316360Z",
     "start_time": "2020-04-20T07:58:04.260592Z"
    }
   },
   "outputs": [
    {
     "data": {
      "text/plain": [
       "4.578640776699029"
      ]
     },
     "execution_count": 21,
     "metadata": {},
     "output_type": "execute_result"
    }
   ],
   "source": [
    "np.mean([aspect_graph.out_degree(n) for n in aspect_graph.nodes()])"
   ]
  },
  {
   "cell_type": "markdown",
   "metadata": {},
   "source": [
    "# Get neighborhood dump info"
   ]
  },
  {
   "cell_type": "code",
   "execution_count": 22,
   "metadata": {
    "ExecuteTime": {
     "end_time": "2020-04-20T07:58:06.660669Z",
     "start_time": "2020-04-20T07:58:06.246095Z"
    }
   },
   "outputs": [],
   "source": [
    "conceptnet_hierarchy_neighborhood = serializer.load(experiment_paths.conceptnet_hierarchy_neighborhood)"
   ]
  },
  {
   "cell_type": "code",
   "execution_count": 23,
   "metadata": {
    "ExecuteTime": {
     "end_time": "2020-04-20T07:58:07.199798Z",
     "start_time": "2020-04-20T07:58:07.169558Z"
    }
   },
   "outputs": [],
   "source": [
    "neighborhood_df = pd.DataFrame([\n",
    "    neighborhood\n",
    "    for aspect, metadata in conceptnet_hierarchy_neighborhood.items()\n",
    "    for neighborhood in metadata\n",
    "])            "
   ]
  },
  {
   "cell_type": "code",
   "execution_count": 24,
   "metadata": {
    "ExecuteTime": {
     "end_time": "2020-04-20T07:58:08.195129Z",
     "start_time": "2020-04-20T07:58:08.122696Z"
    }
   },
   "outputs": [
    {
     "data": {
      "text/html": [
       "<div>\n",
       "<style scoped>\n",
       "    .dataframe tbody tr th:only-of-type {\n",
       "        vertical-align: middle;\n",
       "    }\n",
       "\n",
       "    .dataframe tbody tr th {\n",
       "        vertical-align: top;\n",
       "    }\n",
       "\n",
       "    .dataframe thead th {\n",
       "        text-align: right;\n",
       "    }\n",
       "</style>\n",
       "<table border=\"1\" class=\"dataframe\">\n",
       "  <thead>\n",
       "    <tr style=\"text-align: right;\">\n",
       "      <th></th>\n",
       "      <th>name</th>\n",
       "      <th>rank</th>\n",
       "      <th>neighbors_names</th>\n",
       "      <th>neighbors_path_lens</th>\n",
       "      <th>neighbors_cn_path_lens</th>\n",
       "      <th>aspects_not_in_conceptnet</th>\n",
       "      <th>cn_hierarchy_confirmed</th>\n",
       "    </tr>\n",
       "  </thead>\n",
       "  <tbody>\n",
       "    <tr>\n",
       "      <th>0</th>\n",
       "      <td>case</td>\n",
       "      <td>1</td>\n",
       "      <td>[pieces, price, use, quality, shipping, batter...</td>\n",
       "      <td>[1, 1, 1, 1, 1, 1, 1, 1, 1, 1, 1, 1, 1, 1, 1, ...</td>\n",
       "      <td>[2, 4, 2, 2, 2, 3, 2, 3, 4, 3, 2, 2, 2, 3, 2, ...</td>\n",
       "      <td>[pieces, price, use, quality, shipping, batter...</td>\n",
       "      <td>[]</td>\n",
       "    </tr>\n",
       "    <tr>\n",
       "      <th>1</th>\n",
       "      <td>case</td>\n",
       "      <td>2</td>\n",
       "      <td>[ac, cord, update, siri, s3, kitkat, speakers,...</td>\n",
       "      <td>[2, 2, 2, 2, 2, 2, 2, 2, 2, 2, 2, 2, 2, 2, 2, ...</td>\n",
       "      <td>[3, 2, 3, 3, 3, 4, 3, 3, 3, 4, 3, 3, 3, 3, 4, ...</td>\n",
       "      <td>[ac, cord, update, siri, s3, kitkat, speakers,...</td>\n",
       "      <td>[]</td>\n",
       "    </tr>\n",
       "    <tr>\n",
       "      <th>2</th>\n",
       "      <td>case</td>\n",
       "      <td>3</td>\n",
       "      <td>[pieces, price, use, nook, quality, shipping, ...</td>\n",
       "      <td>[3, 3, 3, 3, 3, 3, 3, 3, 3, 3, 3, 3, 3, 3, 3, ...</td>\n",
       "      <td>[2, 4, 2, 3, 2, 2, 3, 3, 4, 3, 2, 2, 2, 2, 3, ...</td>\n",
       "      <td>[pieces, price, use, nook, quality, shipping, ...</td>\n",
       "      <td>[]</td>\n",
       "    </tr>\n",
       "    <tr>\n",
       "      <th>3</th>\n",
       "      <td>pieces</td>\n",
       "      <td>1</td>\n",
       "      <td>[case, jawbone]</td>\n",
       "      <td>[1, 1]</td>\n",
       "      <td>[3, 4]</td>\n",
       "      <td>[case, jawbone]</td>\n",
       "      <td>[]</td>\n",
       "    </tr>\n",
       "    <tr>\n",
       "      <th>4</th>\n",
       "      <td>pieces</td>\n",
       "      <td>2</td>\n",
       "      <td>[price, use, quality, shipping, battery, relia...</td>\n",
       "      <td>[2, 2, 2, 2, 2, 2, 2, 2, 2, 2, 2, 2, 2, 2, 2, ...</td>\n",
       "      <td>[3, 2, 3, 3, 4, 3, 2, 4, 4, 3, 4, 3, 3, 2, 3, ...</td>\n",
       "      <td>[price, use, quality, shipping, battery, relia...</td>\n",
       "      <td>[]</td>\n",
       "    </tr>\n",
       "    <tr>\n",
       "      <th>...</th>\n",
       "      <td>...</td>\n",
       "      <td>...</td>\n",
       "      <td>...</td>\n",
       "      <td>...</td>\n",
       "      <td>...</td>\n",
       "      <td>...</td>\n",
       "      <td>...</td>\n",
       "    </tr>\n",
       "    <tr>\n",
       "      <th>5041</th>\n",
       "      <td>middle east</td>\n",
       "      <td>2</td>\n",
       "      <td>[]</td>\n",
       "      <td>[]</td>\n",
       "      <td>[]</td>\n",
       "      <td>[]</td>\n",
       "      <td>[]</td>\n",
       "    </tr>\n",
       "    <tr>\n",
       "      <th>5042</th>\n",
       "      <td>middle east</td>\n",
       "      <td>3</td>\n",
       "      <td>[]</td>\n",
       "      <td>[]</td>\n",
       "      <td>[]</td>\n",
       "      <td>[]</td>\n",
       "      <td>[]</td>\n",
       "    </tr>\n",
       "    <tr>\n",
       "      <th>5043</th>\n",
       "      <td>dap</td>\n",
       "      <td>1</td>\n",
       "      <td>[]</td>\n",
       "      <td>[]</td>\n",
       "      <td>[]</td>\n",
       "      <td>[]</td>\n",
       "      <td>[]</td>\n",
       "    </tr>\n",
       "    <tr>\n",
       "      <th>5044</th>\n",
       "      <td>dap</td>\n",
       "      <td>2</td>\n",
       "      <td>[]</td>\n",
       "      <td>[]</td>\n",
       "      <td>[]</td>\n",
       "      <td>[]</td>\n",
       "      <td>[]</td>\n",
       "    </tr>\n",
       "    <tr>\n",
       "      <th>5045</th>\n",
       "      <td>dap</td>\n",
       "      <td>3</td>\n",
       "      <td>[]</td>\n",
       "      <td>[]</td>\n",
       "      <td>[]</td>\n",
       "      <td>[]</td>\n",
       "      <td>[]</td>\n",
       "    </tr>\n",
       "  </tbody>\n",
       "</table>\n",
       "<p>5046 rows × 7 columns</p>\n",
       "</div>"
      ],
      "text/plain": [
       "             name  rank                                    neighbors_names  \\\n",
       "0            case     1  [pieces, price, use, quality, shipping, batter...   \n",
       "1            case     2  [ac, cord, update, siri, s3, kitkat, speakers,...   \n",
       "2            case     3  [pieces, price, use, nook, quality, shipping, ...   \n",
       "3          pieces     1                                    [case, jawbone]   \n",
       "4          pieces     2  [price, use, quality, shipping, battery, relia...   \n",
       "...           ...   ...                                                ...   \n",
       "5041  middle east     2                                                 []   \n",
       "5042  middle east     3                                                 []   \n",
       "5043          dap     1                                                 []   \n",
       "5044          dap     2                                                 []   \n",
       "5045          dap     3                                                 []   \n",
       "\n",
       "                                    neighbors_path_lens  \\\n",
       "0     [1, 1, 1, 1, 1, 1, 1, 1, 1, 1, 1, 1, 1, 1, 1, ...   \n",
       "1     [2, 2, 2, 2, 2, 2, 2, 2, 2, 2, 2, 2, 2, 2, 2, ...   \n",
       "2     [3, 3, 3, 3, 3, 3, 3, 3, 3, 3, 3, 3, 3, 3, 3, ...   \n",
       "3                                                [1, 1]   \n",
       "4     [2, 2, 2, 2, 2, 2, 2, 2, 2, 2, 2, 2, 2, 2, 2, ...   \n",
       "...                                                 ...   \n",
       "5041                                                 []   \n",
       "5042                                                 []   \n",
       "5043                                                 []   \n",
       "5044                                                 []   \n",
       "5045                                                 []   \n",
       "\n",
       "                                 neighbors_cn_path_lens  \\\n",
       "0     [2, 4, 2, 2, 2, 3, 2, 3, 4, 3, 2, 2, 2, 3, 2, ...   \n",
       "1     [3, 2, 3, 3, 3, 4, 3, 3, 3, 4, 3, 3, 3, 3, 4, ...   \n",
       "2     [2, 4, 2, 3, 2, 2, 3, 3, 4, 3, 2, 2, 2, 2, 3, ...   \n",
       "3                                                [3, 4]   \n",
       "4     [3, 2, 3, 3, 4, 3, 2, 4, 4, 3, 4, 3, 3, 2, 3, ...   \n",
       "...                                                 ...   \n",
       "5041                                                 []   \n",
       "5042                                                 []   \n",
       "5043                                                 []   \n",
       "5044                                                 []   \n",
       "5045                                                 []   \n",
       "\n",
       "                              aspects_not_in_conceptnet cn_hierarchy_confirmed  \n",
       "0     [pieces, price, use, quality, shipping, batter...                     []  \n",
       "1     [ac, cord, update, siri, s3, kitkat, speakers,...                     []  \n",
       "2     [pieces, price, use, nook, quality, shipping, ...                     []  \n",
       "3                                       [case, jawbone]                     []  \n",
       "4     [price, use, quality, shipping, battery, relia...                     []  \n",
       "...                                                 ...                    ...  \n",
       "5041                                                 []                     []  \n",
       "5042                                                 []                     []  \n",
       "5043                                                 []                     []  \n",
       "5044                                                 []                     []  \n",
       "5045                                                 []                     []  \n",
       "\n",
       "[5046 rows x 7 columns]"
      ]
     },
     "execution_count": 24,
     "metadata": {},
     "output_type": "execute_result"
    }
   ],
   "source": [
    "neighborhood_df"
   ]
  },
  {
   "cell_type": "code",
   "execution_count": 25,
   "metadata": {
    "ExecuteTime": {
     "end_time": "2020-04-20T08:06:30.227806Z",
     "start_time": "2020-04-20T08:06:30.206911Z"
    }
   },
   "outputs": [],
   "source": [
    "# neighborhood_df['hierarchical_proportion'] = neighborhood_df.cn_hierarchy_confirmed.apply(lambda cn: sum(cn)/len(cn) if cn else 0)\n",
    "# neighborhood_df = neighborhood_df[neighborhood_df.hierarchical_proportion>0.1]\n",
    "# neighborhood_df.sort_values('hierarchical_proportion')"
   ]
  },
  {
   "cell_type": "markdown",
   "metadata": {},
   "source": [
    "## Skip zero proportions "
   ]
  },
  {
   "cell_type": "code",
   "execution_count": 26,
   "metadata": {
    "ExecuteTime": {
     "end_time": "2020-04-20T08:06:31.754279Z",
     "start_time": "2020-04-20T08:06:31.734128Z"
    }
   },
   "outputs": [],
   "source": [
    "# neighborhood_df = neighborhood_df[neighborhood_df.hierarchical_proportion > 0]"
   ]
  },
  {
   "cell_type": "markdown",
   "metadata": {},
   "source": [
    "## Skip 0 len paths "
   ]
  },
  {
   "cell_type": "code",
   "execution_count": 27,
   "metadata": {
    "ExecuteTime": {
     "end_time": "2020-04-20T08:06:32.913978Z",
     "start_time": "2020-04-20T08:06:32.843159Z"
    }
   },
   "outputs": [],
   "source": [
    "neighborhood_df.neighbors_cn_path_lens = neighborhood_df.neighbors_cn_path_lens.apply(lambda paths: [path for path in paths if path])"
   ]
  },
  {
   "cell_type": "code",
   "execution_count": 28,
   "metadata": {
    "ExecuteTime": {
     "end_time": "2020-04-20T08:06:34.316670Z",
     "start_time": "2020-04-20T08:06:34.245609Z"
    }
   },
   "outputs": [
    {
     "data": {
      "text/html": [
       "<div>\n",
       "<style scoped>\n",
       "    .dataframe tbody tr th:only-of-type {\n",
       "        vertical-align: middle;\n",
       "    }\n",
       "\n",
       "    .dataframe tbody tr th {\n",
       "        vertical-align: top;\n",
       "    }\n",
       "\n",
       "    .dataframe thead th {\n",
       "        text-align: right;\n",
       "    }\n",
       "</style>\n",
       "<table border=\"1\" class=\"dataframe\">\n",
       "  <thead>\n",
       "    <tr style=\"text-align: right;\">\n",
       "      <th></th>\n",
       "      <th>name</th>\n",
       "      <th>rank</th>\n",
       "      <th>neighbors_names</th>\n",
       "      <th>neighbors_path_lens</th>\n",
       "      <th>neighbors_cn_path_lens</th>\n",
       "      <th>aspects_not_in_conceptnet</th>\n",
       "      <th>cn_hierarchy_confirmed</th>\n",
       "    </tr>\n",
       "  </thead>\n",
       "  <tbody>\n",
       "    <tr>\n",
       "      <th>0</th>\n",
       "      <td>case</td>\n",
       "      <td>1</td>\n",
       "      <td>[pieces, price, use, quality, shipping, batter...</td>\n",
       "      <td>[1, 1, 1, 1, 1, 1, 1, 1, 1, 1, 1, 1, 1, 1, 1, ...</td>\n",
       "      <td>[2, 4, 2, 2, 2, 3, 2, 3, 4, 3, 2, 2, 2, 3, 2, ...</td>\n",
       "      <td>[pieces, price, use, quality, shipping, batter...</td>\n",
       "      <td>[]</td>\n",
       "    </tr>\n",
       "    <tr>\n",
       "      <th>1</th>\n",
       "      <td>case</td>\n",
       "      <td>2</td>\n",
       "      <td>[ac, cord, update, siri, s3, kitkat, speakers,...</td>\n",
       "      <td>[2, 2, 2, 2, 2, 2, 2, 2, 2, 2, 2, 2, 2, 2, 2, ...</td>\n",
       "      <td>[3, 2, 3, 3, 3, 4, 3, 3, 3, 4, 3, 3, 3, 3, 4, ...</td>\n",
       "      <td>[ac, cord, update, siri, s3, kitkat, speakers,...</td>\n",
       "      <td>[]</td>\n",
       "    </tr>\n",
       "    <tr>\n",
       "      <th>2</th>\n",
       "      <td>case</td>\n",
       "      <td>3</td>\n",
       "      <td>[pieces, price, use, nook, quality, shipping, ...</td>\n",
       "      <td>[3, 3, 3, 3, 3, 3, 3, 3, 3, 3, 3, 3, 3, 3, 3, ...</td>\n",
       "      <td>[2, 4, 2, 3, 2, 2, 3, 3, 4, 3, 2, 2, 2, 2, 3, ...</td>\n",
       "      <td>[pieces, price, use, nook, quality, shipping, ...</td>\n",
       "      <td>[]</td>\n",
       "    </tr>\n",
       "    <tr>\n",
       "      <th>3</th>\n",
       "      <td>pieces</td>\n",
       "      <td>1</td>\n",
       "      <td>[case, jawbone]</td>\n",
       "      <td>[1, 1]</td>\n",
       "      <td>[3, 4]</td>\n",
       "      <td>[case, jawbone]</td>\n",
       "      <td>[]</td>\n",
       "    </tr>\n",
       "    <tr>\n",
       "      <th>4</th>\n",
       "      <td>pieces</td>\n",
       "      <td>2</td>\n",
       "      <td>[price, use, quality, shipping, battery, relia...</td>\n",
       "      <td>[2, 2, 2, 2, 2, 2, 2, 2, 2, 2, 2, 2, 2, 2, 2, ...</td>\n",
       "      <td>[3, 2, 3, 3, 4, 3, 2, 4, 4, 3, 4, 3, 3, 2, 3, ...</td>\n",
       "      <td>[price, use, quality, shipping, battery, relia...</td>\n",
       "      <td>[]</td>\n",
       "    </tr>\n",
       "    <tr>\n",
       "      <th>...</th>\n",
       "      <td>...</td>\n",
       "      <td>...</td>\n",
       "      <td>...</td>\n",
       "      <td>...</td>\n",
       "      <td>...</td>\n",
       "      <td>...</td>\n",
       "      <td>...</td>\n",
       "    </tr>\n",
       "    <tr>\n",
       "      <th>5041</th>\n",
       "      <td>middle east</td>\n",
       "      <td>2</td>\n",
       "      <td>[]</td>\n",
       "      <td>[]</td>\n",
       "      <td>[]</td>\n",
       "      <td>[]</td>\n",
       "      <td>[]</td>\n",
       "    </tr>\n",
       "    <tr>\n",
       "      <th>5042</th>\n",
       "      <td>middle east</td>\n",
       "      <td>3</td>\n",
       "      <td>[]</td>\n",
       "      <td>[]</td>\n",
       "      <td>[]</td>\n",
       "      <td>[]</td>\n",
       "      <td>[]</td>\n",
       "    </tr>\n",
       "    <tr>\n",
       "      <th>5043</th>\n",
       "      <td>dap</td>\n",
       "      <td>1</td>\n",
       "      <td>[]</td>\n",
       "      <td>[]</td>\n",
       "      <td>[]</td>\n",
       "      <td>[]</td>\n",
       "      <td>[]</td>\n",
       "    </tr>\n",
       "    <tr>\n",
       "      <th>5044</th>\n",
       "      <td>dap</td>\n",
       "      <td>2</td>\n",
       "      <td>[]</td>\n",
       "      <td>[]</td>\n",
       "      <td>[]</td>\n",
       "      <td>[]</td>\n",
       "      <td>[]</td>\n",
       "    </tr>\n",
       "    <tr>\n",
       "      <th>5045</th>\n",
       "      <td>dap</td>\n",
       "      <td>3</td>\n",
       "      <td>[]</td>\n",
       "      <td>[]</td>\n",
       "      <td>[]</td>\n",
       "      <td>[]</td>\n",
       "      <td>[]</td>\n",
       "    </tr>\n",
       "  </tbody>\n",
       "</table>\n",
       "<p>5046 rows × 7 columns</p>\n",
       "</div>"
      ],
      "text/plain": [
       "             name  rank                                    neighbors_names  \\\n",
       "0            case     1  [pieces, price, use, quality, shipping, batter...   \n",
       "1            case     2  [ac, cord, update, siri, s3, kitkat, speakers,...   \n",
       "2            case     3  [pieces, price, use, nook, quality, shipping, ...   \n",
       "3          pieces     1                                    [case, jawbone]   \n",
       "4          pieces     2  [price, use, quality, shipping, battery, relia...   \n",
       "...           ...   ...                                                ...   \n",
       "5041  middle east     2                                                 []   \n",
       "5042  middle east     3                                                 []   \n",
       "5043          dap     1                                                 []   \n",
       "5044          dap     2                                                 []   \n",
       "5045          dap     3                                                 []   \n",
       "\n",
       "                                    neighbors_path_lens  \\\n",
       "0     [1, 1, 1, 1, 1, 1, 1, 1, 1, 1, 1, 1, 1, 1, 1, ...   \n",
       "1     [2, 2, 2, 2, 2, 2, 2, 2, 2, 2, 2, 2, 2, 2, 2, ...   \n",
       "2     [3, 3, 3, 3, 3, 3, 3, 3, 3, 3, 3, 3, 3, 3, 3, ...   \n",
       "3                                                [1, 1]   \n",
       "4     [2, 2, 2, 2, 2, 2, 2, 2, 2, 2, 2, 2, 2, 2, 2, ...   \n",
       "...                                                 ...   \n",
       "5041                                                 []   \n",
       "5042                                                 []   \n",
       "5043                                                 []   \n",
       "5044                                                 []   \n",
       "5045                                                 []   \n",
       "\n",
       "                                 neighbors_cn_path_lens  \\\n",
       "0     [2, 4, 2, 2, 2, 3, 2, 3, 4, 3, 2, 2, 2, 3, 2, ...   \n",
       "1     [3, 2, 3, 3, 3, 4, 3, 3, 3, 4, 3, 3, 3, 3, 4, ...   \n",
       "2     [2, 4, 2, 3, 2, 2, 3, 3, 4, 3, 2, 2, 2, 2, 3, ...   \n",
       "3                                                [3, 4]   \n",
       "4     [3, 2, 3, 3, 4, 3, 2, 4, 4, 3, 4, 3, 3, 2, 3, ...   \n",
       "...                                                 ...   \n",
       "5041                                                 []   \n",
       "5042                                                 []   \n",
       "5043                                                 []   \n",
       "5044                                                 []   \n",
       "5045                                                 []   \n",
       "\n",
       "                              aspects_not_in_conceptnet cn_hierarchy_confirmed  \n",
       "0     [pieces, price, use, quality, shipping, batter...                     []  \n",
       "1     [ac, cord, update, siri, s3, kitkat, speakers,...                     []  \n",
       "2     [pieces, price, use, nook, quality, shipping, ...                     []  \n",
       "3                                       [case, jawbone]                     []  \n",
       "4     [price, use, quality, shipping, battery, relia...                     []  \n",
       "...                                                 ...                    ...  \n",
       "5041                                                 []                     []  \n",
       "5042                                                 []                     []  \n",
       "5043                                                 []                     []  \n",
       "5044                                                 []                     []  \n",
       "5045                                                 []                     []  \n",
       "\n",
       "[5046 rows x 7 columns]"
      ]
     },
     "execution_count": 28,
     "metadata": {},
     "output_type": "execute_result"
    }
   ],
   "source": [
    "neighborhood_df"
   ]
  },
  {
   "cell_type": "markdown",
   "metadata": {},
   "source": [
    "## Remove aspects with no paths to any neighbor "
   ]
  },
  {
   "cell_type": "code",
   "execution_count": 29,
   "metadata": {
    "ExecuteTime": {
     "end_time": "2020-04-20T08:06:36.986481Z",
     "start_time": "2020-04-20T08:06:36.964790Z"
    }
   },
   "outputs": [
    {
     "data": {
      "text/plain": [
       "5046"
      ]
     },
     "execution_count": 29,
     "metadata": {},
     "output_type": "execute_result"
    }
   ],
   "source": [
    "len(neighborhood_df)"
   ]
  },
  {
   "cell_type": "code",
   "execution_count": 30,
   "metadata": {
    "ExecuteTime": {
     "end_time": "2020-04-20T08:06:40.337273Z",
     "start_time": "2020-04-20T08:06:38.636355Z"
    }
   },
   "outputs": [
    {
     "name": "stderr",
     "output_type": "stream",
     "text": [
      "100%|██████████| 1682/1682 [00:01<00:00, 1480.15it/s]\n"
     ]
    }
   ],
   "source": [
    "neighborhood_df = pd.concat([\n",
    "    g \n",
    "    for _, g in tqdm(neighborhood_df.groupby('name')) \n",
    "    for _, row in g.iterrows()\n",
    "    if len(row.neighbors_cn_path_lens) > 0\n",
    "]).drop_duplicates(subset=['name', 'rank'])"
   ]
  },
  {
   "cell_type": "code",
   "execution_count": 31,
   "metadata": {
    "ExecuteTime": {
     "end_time": "2020-04-20T08:06:40.362253Z",
     "start_time": "2020-04-20T08:06:40.338769Z"
    }
   },
   "outputs": [
    {
     "data": {
      "text/plain": [
       "1977"
      ]
     },
     "execution_count": 31,
     "metadata": {},
     "output_type": "execute_result"
    }
   ],
   "source": [
    "len(neighborhood_df)"
   ]
  },
  {
   "cell_type": "markdown",
   "metadata": {},
   "source": [
    "## Skip aspects without all ranks paths "
   ]
  },
  {
   "cell_type": "code",
   "execution_count": 32,
   "metadata": {
    "ExecuteTime": {
     "end_time": "2020-04-20T08:06:45.101853Z",
     "start_time": "2020-04-20T08:06:44.805204Z"
    }
   },
   "outputs": [],
   "source": [
    "neighborhood_df = pd.concat([g for _, g in neighborhood_df.groupby('name') if len(g) == 3])"
   ]
  },
  {
   "cell_type": "code",
   "execution_count": 33,
   "metadata": {
    "ExecuteTime": {
     "end_time": "2020-04-20T08:06:45.237609Z",
     "start_time": "2020-04-20T08:06:45.215353Z"
    }
   },
   "outputs": [
    {
     "data": {
      "text/plain": [
       "1977"
      ]
     },
     "execution_count": 33,
     "metadata": {},
     "output_type": "execute_result"
    }
   ],
   "source": [
    "len(neighborhood_df)"
   ]
  },
  {
   "cell_type": "markdown",
   "metadata": {},
   "source": [
    "# Calculate differences between aspect graph shortests paths of neioghbors and cn shortest paths "
   ]
  },
  {
   "cell_type": "code",
   "execution_count": 34,
   "metadata": {
    "ExecuteTime": {
     "end_time": "2020-04-20T08:06:47.237795Z",
     "start_time": "2020-04-20T08:06:46.693600Z"
    }
   },
   "outputs": [
    {
     "name": "stderr",
     "output_type": "stream",
     "text": [
      "1977it [00:00, 3809.40it/s]\n"
     ]
    }
   ],
   "source": [
    "shortest_paths_diferences = []\n",
    "    \n",
    "for _, row in tqdm(neighborhood_df.iterrows()):\n",
    "    rank = row['rank']\n",
    "    if len(row.neighbors_path_lens) == len(row.neighbors_cn_path_lens):\n",
    "        shortest_paths_diferences.append(\n",
    "            np.subtract(\n",
    "                np.array(row.neighbors_cn_path_lens), \n",
    "                np.array(row.neighbors_path_lens)\n",
    "            )\n",
    "        )"
   ]
  },
  {
   "cell_type": "code",
   "execution_count": 35,
   "metadata": {
    "ExecuteTime": {
     "end_time": "2020-04-20T08:06:47.263494Z",
     "start_time": "2020-04-20T08:06:47.239935Z"
    }
   },
   "outputs": [
    {
     "data": {
      "text/plain": [
       "1977"
      ]
     },
     "execution_count": 35,
     "metadata": {},
     "output_type": "execute_result"
    }
   ],
   "source": [
    "len(shortest_paths_diferences)"
   ]
  },
  {
   "cell_type": "code",
   "execution_count": 36,
   "metadata": {
    "ExecuteTime": {
     "end_time": "2020-04-20T08:06:49.269275Z",
     "start_time": "2020-04-20T08:06:49.240156Z"
    }
   },
   "outputs": [],
   "source": [
    "neighborhood_df['shortest_paths_diferences'] = shortest_paths_diferences"
   ]
  },
  {
   "cell_type": "code",
   "execution_count": 37,
   "metadata": {
    "ExecuteTime": {
     "end_time": "2020-04-20T08:06:49.938573Z",
     "start_time": "2020-04-20T08:06:49.913891Z"
    }
   },
   "outputs": [],
   "source": [
    "assert len(neighborhood_df[neighborhood_df.shortest_paths_diferences.isna()]) == 0, 'Check number of paths'"
   ]
  },
  {
   "cell_type": "code",
   "execution_count": 38,
   "metadata": {
    "ExecuteTime": {
     "end_time": "2020-04-20T08:06:50.879872Z",
     "start_time": "2020-04-20T08:06:50.830840Z"
    }
   },
   "outputs": [
    {
     "name": "stderr",
     "output_type": "stream",
     "text": [
      "/usr/lib/python3.8/site-packages/numpy/core/fromnumeric.py:3334: RuntimeWarning: Mean of empty slice.\n",
      "  return _methods._mean(a, axis=axis, dtype=dtype,\n"
     ]
    }
   ],
   "source": [
    "neighborhood_df['shortest_paths_diferences_mean'] = neighborhood_df.shortest_paths_diferences.apply(np.mean)"
   ]
  },
  {
   "cell_type": "code",
   "execution_count": 39,
   "metadata": {
    "ExecuteTime": {
     "end_time": "2020-04-20T08:06:51.445159Z",
     "start_time": "2020-04-20T08:06:51.340343Z"
    }
   },
   "outputs": [
    {
     "data": {
      "text/html": [
       "<div>\n",
       "<style scoped>\n",
       "    .dataframe tbody tr th:only-of-type {\n",
       "        vertical-align: middle;\n",
       "    }\n",
       "\n",
       "    .dataframe tbody tr th {\n",
       "        vertical-align: top;\n",
       "    }\n",
       "\n",
       "    .dataframe thead th {\n",
       "        text-align: right;\n",
       "    }\n",
       "</style>\n",
       "<table border=\"1\" class=\"dataframe\">\n",
       "  <thead>\n",
       "    <tr style=\"text-align: right;\">\n",
       "      <th></th>\n",
       "      <th>name</th>\n",
       "      <th>rank</th>\n",
       "      <th>neighbors_names</th>\n",
       "      <th>neighbors_path_lens</th>\n",
       "      <th>neighbors_cn_path_lens</th>\n",
       "      <th>aspects_not_in_conceptnet</th>\n",
       "      <th>cn_hierarchy_confirmed</th>\n",
       "      <th>shortest_paths_diferences</th>\n",
       "      <th>shortest_paths_diferences_mean</th>\n",
       "    </tr>\n",
       "  </thead>\n",
       "  <tbody>\n",
       "    <tr>\n",
       "      <th>975</th>\n",
       "      <td>aaa</td>\n",
       "      <td>1</td>\n",
       "      <td>[price, use, battery, ac, blackberry, recharge...</td>\n",
       "      <td>[1, 1, 1, 1, 1, 1, 1, 1, 1, 1]</td>\n",
       "      <td>[3, 3, 4, 4, 4, 4, 3, 4, 3, 3]</td>\n",
       "      <td>[price, use, battery, ac, blackberry, recharge...</td>\n",
       "      <td>[]</td>\n",
       "      <td>[2, 2, 3, 3, 3, 3, 2, 3, 2, 2]</td>\n",
       "      <td>2.500000</td>\n",
       "    </tr>\n",
       "    <tr>\n",
       "      <th>976</th>\n",
       "      <td>aaa</td>\n",
       "      <td>2</td>\n",
       "      <td>[case, video camera, quality, shipping, russia...</td>\n",
       "      <td>[2, 2, 2, 2, 2, 2, 2, 2, 2, 2, 2, 2, 2, 2, 2, ...</td>\n",
       "      <td>[3, 4, 4, 4, 4, 4, 4, 5, 3, 3, 4, 3, 4, 4, 3, ...</td>\n",
       "      <td>[case, video camera, quality, shipping, russia...</td>\n",
       "      <td>[]</td>\n",
       "      <td>[1, 2, 2, 2, 2, 2, 2, 3, 1, 1, 2, 1, 2, 2, 1, ...</td>\n",
       "      <td>1.809877</td>\n",
       "    </tr>\n",
       "    <tr>\n",
       "      <th>977</th>\n",
       "      <td>aaa</td>\n",
       "      <td>3</td>\n",
       "      <td>[pieces, price, use, nook, battery, tablet, ac...</td>\n",
       "      <td>[3, 3, 3, 3, 3, 3, 3, 3, 3, 3, 3, 3, 3, 3, 3, ...</td>\n",
       "      <td>[4, 3, 3, 4, 4, 5, 4, 4, 4, 5, 5, 3, 3, 4, 3, ...</td>\n",
       "      <td>[pieces, price, use, nook, battery, tablet, ac...</td>\n",
       "      <td>[]</td>\n",
       "      <td>[1, 0, 0, 1, 1, 2, 1, 1, 1, 2, 2, 0, 0, 1, 0, ...</td>\n",
       "      <td>0.881295</td>\n",
       "    </tr>\n",
       "    <tr>\n",
       "      <th>27</th>\n",
       "      <td>ac</td>\n",
       "      <td>1</td>\n",
       "      <td>[price, use, battery, support, usb, amazon, er...</td>\n",
       "      <td>[1, 1, 1, 1, 1, 1, 1, 1, 1, 1, 1, 1, 1, 1, 1, ...</td>\n",
       "      <td>[6, 4, 6, 4, 6, 5, 5, 5, 6, 5, 5, 6, 4, 6, 4, ...</td>\n",
       "      <td>[price, use, battery, support, usb, amazon, er...</td>\n",
       "      <td>[]</td>\n",
       "      <td>[5, 3, 5, 3, 5, 4, 4, 4, 5, 4, 4, 5, 3, 5, 3, ...</td>\n",
       "      <td>4.176471</td>\n",
       "    </tr>\n",
       "    <tr>\n",
       "      <th>28</th>\n",
       "      <td>ac</td>\n",
       "      <td>2</td>\n",
       "      <td>[case, quality, shipping, video camera, tablet...</td>\n",
       "      <td>[2, 2, 2, 2, 2, 2, 2, 2, 2, 2, 2, 2, 2, 2, 2, ...</td>\n",
       "      <td>[4, 5, 5, 6, 6, 5, 4, 5, 5, 6, 6, 5, 4, 6, 4, ...</td>\n",
       "      <td>[case, quality, shipping, video camera, tablet...</td>\n",
       "      <td>[]</td>\n",
       "      <td>[2, 3, 3, 4, 4, 3, 2, 3, 3, 4, 4, 3, 2, 4, 2, ...</td>\n",
       "      <td>3.144898</td>\n",
       "    </tr>\n",
       "    <tr>\n",
       "      <th>...</th>\n",
       "      <td>...</td>\n",
       "      <td>...</td>\n",
       "      <td>...</td>\n",
       "      <td>...</td>\n",
       "      <td>...</td>\n",
       "      <td>...</td>\n",
       "      <td>...</td>\n",
       "      <td>...</td>\n",
       "      <td>...</td>\n",
       "    </tr>\n",
       "    <tr>\n",
       "      <th>799</th>\n",
       "      <td>youtube</td>\n",
       "      <td>2</td>\n",
       "      <td>[case, price, use, canada, quality, shipping, ...</td>\n",
       "      <td>[2, 2, 2, 2, 2, 2, 2, 2, 2, 2, 2, 2, 2, 2, 2, ...</td>\n",
       "      <td>[4, 4, 2, 4, 4, 3, 4, 4, 4, 4, 5, 5, 3, 4, 4, ...</td>\n",
       "      <td>[case, price, use, canada, quality, shipping, ...</td>\n",
       "      <td>[]</td>\n",
       "      <td>[2, 2, 0, 2, 2, 1, 2, 2, 2, 2, 3, 3, 1, 2, 2, ...</td>\n",
       "      <td>2.020202</td>\n",
       "    </tr>\n",
       "    <tr>\n",
       "      <th>800</th>\n",
       "      <td>youtube</td>\n",
       "      <td>3</td>\n",
       "      <td>[pieces, nook, battery, cord, update, siri, s3...</td>\n",
       "      <td>[3, 3, 3, 3, 3, 3, 3, 3, 3, 3, 3, 3, 3, 3, 3, ...</td>\n",
       "      <td>[4, 3, 5, 4, 4, 4, 5, 5, 3, 4, 4, 4, 3, 5, 4, ...</td>\n",
       "      <td>[pieces, nook, battery, cord, update, siri, s3...</td>\n",
       "      <td>[]</td>\n",
       "      <td>[1, 0, 2, 1, 1, 1, 2, 2, 0, 1, 1, 1, 0, 2, 1, ...</td>\n",
       "      <td>1.150611</td>\n",
       "    </tr>\n",
       "    <tr>\n",
       "      <th>1716</th>\n",
       "      <td>zoom</td>\n",
       "      <td>1</td>\n",
       "      <td>[camera]</td>\n",
       "      <td>[1]</td>\n",
       "      <td>[5]</td>\n",
       "      <td>[camera]</td>\n",
       "      <td>[]</td>\n",
       "      <td>[4]</td>\n",
       "      <td>4.000000</td>\n",
       "    </tr>\n",
       "    <tr>\n",
       "      <th>1717</th>\n",
       "      <td>zoom</td>\n",
       "      <td>2</td>\n",
       "      <td>[price, use, quality, battery, memory, usb, di...</td>\n",
       "      <td>[2, 2, 2, 2, 2, 2, 2, 2, 2, 2, 2, 2, 2, 2, 2, ...</td>\n",
       "      <td>[5, 4, 5, 6, 3, 6, 5, 6, 5, 4, 5, 4, 6, 5, 5, ...</td>\n",
       "      <td>[price, use, quality, battery, memory, usb, di...</td>\n",
       "      <td>[]</td>\n",
       "      <td>[3, 2, 3, 4, 1, 4, 3, 4, 3, 2, 3, 2, 4, 3, 3, ...</td>\n",
       "      <td>3.295455</td>\n",
       "    </tr>\n",
       "    <tr>\n",
       "      <th>1718</th>\n",
       "      <td>zoom</td>\n",
       "      <td>3</td>\n",
       "      <td>[case, shipping, ac, amazon, cord, update, but...</td>\n",
       "      <td>[3, 3, 3, 3, 3, 3, 3, 3, 3, 3, 3, 3, 3, 3, 3, ...</td>\n",
       "      <td>[5, 5, 5, 5, 4, 5, 5, 5, 6, 5, 6, 6, 5, 5, 6, ...</td>\n",
       "      <td>[case, shipping, ac, amazon, cord, update, but...</td>\n",
       "      <td>[]</td>\n",
       "      <td>[2, 2, 2, 2, 1, 2, 2, 2, 3, 2, 3, 3, 2, 2, 3, ...</td>\n",
       "      <td>2.149002</td>\n",
       "    </tr>\n",
       "  </tbody>\n",
       "</table>\n",
       "<p>1977 rows × 9 columns</p>\n",
       "</div>"
      ],
      "text/plain": [
       "         name  rank                                    neighbors_names  \\\n",
       "975       aaa     1  [price, use, battery, ac, blackberry, recharge...   \n",
       "976       aaa     2  [case, video camera, quality, shipping, russia...   \n",
       "977       aaa     3  [pieces, price, use, nook, battery, tablet, ac...   \n",
       "27         ac     1  [price, use, battery, support, usb, amazon, er...   \n",
       "28         ac     2  [case, quality, shipping, video camera, tablet...   \n",
       "...       ...   ...                                                ...   \n",
       "799   youtube     2  [case, price, use, canada, quality, shipping, ...   \n",
       "800   youtube     3  [pieces, nook, battery, cord, update, siri, s3...   \n",
       "1716     zoom     1                                           [camera]   \n",
       "1717     zoom     2  [price, use, quality, battery, memory, usb, di...   \n",
       "1718     zoom     3  [case, shipping, ac, amazon, cord, update, but...   \n",
       "\n",
       "                                    neighbors_path_lens  \\\n",
       "975                      [1, 1, 1, 1, 1, 1, 1, 1, 1, 1]   \n",
       "976   [2, 2, 2, 2, 2, 2, 2, 2, 2, 2, 2, 2, 2, 2, 2, ...   \n",
       "977   [3, 3, 3, 3, 3, 3, 3, 3, 3, 3, 3, 3, 3, 3, 3, ...   \n",
       "27    [1, 1, 1, 1, 1, 1, 1, 1, 1, 1, 1, 1, 1, 1, 1, ...   \n",
       "28    [2, 2, 2, 2, 2, 2, 2, 2, 2, 2, 2, 2, 2, 2, 2, ...   \n",
       "...                                                 ...   \n",
       "799   [2, 2, 2, 2, 2, 2, 2, 2, 2, 2, 2, 2, 2, 2, 2, ...   \n",
       "800   [3, 3, 3, 3, 3, 3, 3, 3, 3, 3, 3, 3, 3, 3, 3, ...   \n",
       "1716                                                [1]   \n",
       "1717  [2, 2, 2, 2, 2, 2, 2, 2, 2, 2, 2, 2, 2, 2, 2, ...   \n",
       "1718  [3, 3, 3, 3, 3, 3, 3, 3, 3, 3, 3, 3, 3, 3, 3, ...   \n",
       "\n",
       "                                 neighbors_cn_path_lens  \\\n",
       "975                      [3, 3, 4, 4, 4, 4, 3, 4, 3, 3]   \n",
       "976   [3, 4, 4, 4, 4, 4, 4, 5, 3, 3, 4, 3, 4, 4, 3, ...   \n",
       "977   [4, 3, 3, 4, 4, 5, 4, 4, 4, 5, 5, 3, 3, 4, 3, ...   \n",
       "27    [6, 4, 6, 4, 6, 5, 5, 5, 6, 5, 5, 6, 4, 6, 4, ...   \n",
       "28    [4, 5, 5, 6, 6, 5, 4, 5, 5, 6, 6, 5, 4, 6, 4, ...   \n",
       "...                                                 ...   \n",
       "799   [4, 4, 2, 4, 4, 3, 4, 4, 4, 4, 5, 5, 3, 4, 4, ...   \n",
       "800   [4, 3, 5, 4, 4, 4, 5, 5, 3, 4, 4, 4, 3, 5, 4, ...   \n",
       "1716                                                [5]   \n",
       "1717  [5, 4, 5, 6, 3, 6, 5, 6, 5, 4, 5, 4, 6, 5, 5, ...   \n",
       "1718  [5, 5, 5, 5, 4, 5, 5, 5, 6, 5, 6, 6, 5, 5, 6, ...   \n",
       "\n",
       "                              aspects_not_in_conceptnet  \\\n",
       "975   [price, use, battery, ac, blackberry, recharge...   \n",
       "976   [case, video camera, quality, shipping, russia...   \n",
       "977   [pieces, price, use, nook, battery, tablet, ac...   \n",
       "27    [price, use, battery, support, usb, amazon, er...   \n",
       "28    [case, quality, shipping, video camera, tablet...   \n",
       "...                                                 ...   \n",
       "799   [case, price, use, canada, quality, shipping, ...   \n",
       "800   [pieces, nook, battery, cord, update, siri, s3...   \n",
       "1716                                           [camera]   \n",
       "1717  [price, use, quality, battery, memory, usb, di...   \n",
       "1718  [case, shipping, ac, amazon, cord, update, but...   \n",
       "\n",
       "     cn_hierarchy_confirmed  \\\n",
       "975                      []   \n",
       "976                      []   \n",
       "977                      []   \n",
       "27                       []   \n",
       "28                       []   \n",
       "...                     ...   \n",
       "799                      []   \n",
       "800                      []   \n",
       "1716                     []   \n",
       "1717                     []   \n",
       "1718                     []   \n",
       "\n",
       "                              shortest_paths_diferences  \\\n",
       "975                      [2, 2, 3, 3, 3, 3, 2, 3, 2, 2]   \n",
       "976   [1, 2, 2, 2, 2, 2, 2, 3, 1, 1, 2, 1, 2, 2, 1, ...   \n",
       "977   [1, 0, 0, 1, 1, 2, 1, 1, 1, 2, 2, 0, 0, 1, 0, ...   \n",
       "27    [5, 3, 5, 3, 5, 4, 4, 4, 5, 4, 4, 5, 3, 5, 3, ...   \n",
       "28    [2, 3, 3, 4, 4, 3, 2, 3, 3, 4, 4, 3, 2, 4, 2, ...   \n",
       "...                                                 ...   \n",
       "799   [2, 2, 0, 2, 2, 1, 2, 2, 2, 2, 3, 3, 1, 2, 2, ...   \n",
       "800   [1, 0, 2, 1, 1, 1, 2, 2, 0, 1, 1, 1, 0, 2, 1, ...   \n",
       "1716                                                [4]   \n",
       "1717  [3, 2, 3, 4, 1, 4, 3, 4, 3, 2, 3, 2, 4, 3, 3, ...   \n",
       "1718  [2, 2, 2, 2, 1, 2, 2, 2, 3, 2, 3, 3, 2, 2, 3, ...   \n",
       "\n",
       "      shortest_paths_diferences_mean  \n",
       "975                         2.500000  \n",
       "976                         1.809877  \n",
       "977                         0.881295  \n",
       "27                          4.176471  \n",
       "28                          3.144898  \n",
       "...                              ...  \n",
       "799                         2.020202  \n",
       "800                         1.150611  \n",
       "1716                        4.000000  \n",
       "1717                        3.295455  \n",
       "1718                        2.149002  \n",
       "\n",
       "[1977 rows x 9 columns]"
      ]
     },
     "execution_count": 39,
     "metadata": {},
     "output_type": "execute_result"
    }
   ],
   "source": [
    "neighborhood_df"
   ]
  },
  {
   "cell_type": "markdown",
   "metadata": {},
   "source": [
    "# Paths differences analysis"
   ]
  },
  {
   "cell_type": "markdown",
   "metadata": {},
   "source": [
    "## Average shortest paths difference"
   ]
  },
  {
   "cell_type": "code",
   "execution_count": 40,
   "metadata": {
    "ExecuteTime": {
     "end_time": "2020-04-20T08:07:04.476355Z",
     "start_time": "2020-04-20T08:07:04.182574Z"
    }
   },
   "outputs": [
    {
     "name": "stdout",
     "output_type": "stream",
     "text": [
      "Average shortest paths difference for rank 1: 2.758630548011196\n",
      "Average shortest paths difference for rank 2: 1.8062628582301823\n",
      "Average shortest paths difference for rank 3: 0.8543503167437793\n"
     ]
    },
    {
     "data": {
      "text/plain": [
       "<matplotlib.legend.Legend at 0x7f5c5b8ef490>"
      ]
     },
     "execution_count": 40,
     "metadata": {},
     "output_type": "execute_result"
    },
    {
     "data": {
      "image/png": "[encoded data removed]",
      "text/plain": [
       "<Figure size 432x288 with 1 Axes>"
      ]
     },
     "metadata": {
      "needs_background": "light"
     },
     "output_type": "display_data"
    }
   ],
   "source": [
    "ranks = []\n",
    "for r, group in neighborhood_df.groupby('rank'):\n",
    "    ranks += [f'Rank {r}']\n",
    "    print(f'Average shortest paths difference for rank {r}: {group.shortest_paths_diferences_mean.mean()}')\n",
    "    group.shortest_paths_diferences_mean.hist(bins=20)\n",
    "plt.legend(ranks)"
   ]
  },
  {
   "cell_type": "markdown",
   "metadata": {},
   "source": [
    "## Number of aspects pairs [aspect_graph x conceptnet]"
   ]
  },
  {
   "cell_type": "code",
   "execution_count": 43,
   "metadata": {
    "ExecuteTime": {
     "end_time": "2020-04-20T08:07:40.651727Z",
     "start_time": "2020-04-20T08:07:40.611192Z"
    }
   },
   "outputs": [
    {
     "data": {
      "text/plain": [
       "447688"
      ]
     },
     "execution_count": 43,
     "metadata": {},
     "output_type": "execute_result"
    }
   ],
   "source": [
    "len(list(flatten(neighborhood_df.neighbors_cn_path_lens.tolist())))"
   ]
  },
  {
   "cell_type": "markdown",
   "metadata": {},
   "source": [
    "## Histograms per each shortest path len "
   ]
  },
  {
   "cell_type": "markdown",
   "metadata": {},
   "source": [
    "### ConeptNet distances"
   ]
  },
  {
   "cell_type": "code",
   "execution_count": 44,
   "metadata": {
    "ExecuteTime": {
     "end_time": "2020-04-20T08:07:43.409259Z",
     "start_time": "2020-04-20T08:07:43.006576Z"
    }
   },
   "outputs": [
    {
     "data": {
      "text/plain": [
       "Text(0.5, 0, 'Shortest path len')"
      ]
     },
     "execution_count": 44,
     "metadata": {},
     "output_type": "execute_result"
    },
    {
     "data": {
      "image/png": "[encoded data removed]",
      "text/plain": [
       "<Figure size 432x288 with 1 Axes>"
      ]
     },
     "metadata": {
      "needs_background": "light"
     },
     "output_type": "display_data"
    }
   ],
   "source": [
    "plt.hist(\n",
    "    list(flatten(neighborhood_df.neighbors_cn_path_lens.tolist())),\n",
    "    bins=20\n",
    ")\n",
    "plt.xlabel('Shortest path len')"
   ]
  },
  {
   "cell_type": "markdown",
   "metadata": {},
   "source": [
    "### Difference in shortest paths [aspect_graph x conceptnet]"
   ]
  },
  {
   "cell_type": "code",
   "execution_count": 45,
   "metadata": {
    "ExecuteTime": {
     "end_time": "2020-04-20T08:07:50.902064Z",
     "start_time": "2020-04-20T08:07:50.601730Z"
    }
   },
   "outputs": [
    {
     "data": {
      "text/plain": [
       "Text(0.5, 0, 'Shortest paths difference')"
      ]
     },
     "execution_count": 45,
     "metadata": {},
     "output_type": "execute_result"
    },
    {
     "data": {
      "image/png": "[encoded data removed]",
      "text/plain": [
       "<Figure size 432x288 with 1 Axes>"
      ]
     },
     "metadata": {
      "needs_background": "light"
     },
     "output_type": "display_data"
    }
   ],
   "source": [
    "plt.hist(\n",
    "    list(flatten(neighborhood_df.shortest_paths_diferences.tolist())),\n",
    "    bins=20\n",
    ")\n",
    "plt.xlabel('Shortest paths difference')"
   ]
  },
  {
   "cell_type": "markdown",
   "metadata": {},
   "source": [
    "## Per each rank"
   ]
  },
  {
   "cell_type": "code",
   "execution_count": 46,
   "metadata": {
    "ExecuteTime": {
     "end_time": "2020-04-20T08:07:55.609240Z",
     "start_time": "2020-04-20T08:07:55.038987Z"
    }
   },
   "outputs": [
    {
     "data": {
      "image/png": "[encoded data removed]",
      "text/plain": [
       "<Figure size 432x288 with 1 Axes>"
      ]
     },
     "metadata": {
      "needs_background": "light"
     },
     "output_type": "display_data"
    },
    {
     "data": {
      "image/png": "[encoded data removed]",
      "text/plain": [
       "<Figure size 432x288 with 1 Axes>"
      ]
     },
     "metadata": {
      "needs_background": "light"
     },
     "output_type": "display_data"
    },
    {
     "data": {
      "image/png": "[encoded data removed]",
      "text/plain": [
       "<Figure size 432x288 with 1 Axes>"
      ]
     },
     "metadata": {
      "needs_background": "light"
     },
     "output_type": "display_data"
    }
   ],
   "source": [
    "for r, group in neighborhood_df.groupby('rank'):\n",
    "    fig = plt.figure()\n",
    "    plt.hist(\n",
    "        list(flatten(group.neighbors_cn_path_lens.tolist())),\n",
    "        bins=20\n",
    "    )\n",
    "    plt.xlabel('Shortest paths distances in ConceptNet')\n",
    "    plt.title(f'Rank = {r}')"
   ]
  },
  {
   "cell_type": "code",
   "execution_count": null,
   "metadata": {},
   "outputs": [],
   "source": []
  }
 ],
 "metadata": {
  "kernelspec": {
   "display_name": "Python 3",
   "language": "python",
   "name": "python3"
  },
  "language_info": {
   "codemirror_mode": {
    "name": "ipython",
    "version": 3
   },
   "file_extension": ".py",
   "mimetype": "text/x-python",
   "name": "python",
   "nbconvert_exporter": "python",
   "pygments_lexer": "ipython3",
   "version": "3.8.2"
  },
  "toc": {
   "base_numbering": 1,
   "nav_menu": {},
   "number_sections": true,
   "sideBar": true,
   "skip_h1_title": false,
   "title_cell": "Table of Contents",
   "title_sidebar": "Contents",
   "toc_cell": false,
   "toc_position": {},
   "toc_section_display": true,
   "toc_window_display": false
  }
 },
 "nbformat": 4,
 "nbformat_minor": 2
}
