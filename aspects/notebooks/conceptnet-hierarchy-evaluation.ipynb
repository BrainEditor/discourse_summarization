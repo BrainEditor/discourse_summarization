{
 "cells": [
  {
   "cell_type": "markdown",
   "metadata": {},
   "source": [
    "# Imports"
   ]
  },
  {
   "cell_type": "code",
   "execution_count": 90,
   "metadata": {
    "ExecuteTime": {
     "end_time": "2020-04-19T09:32:10.368184Z",
     "start_time": "2020-04-19T09:32:10.131645Z"
    }
   },
   "outputs": [
    {
     "name": "stdout",
     "output_type": "stream",
     "text": [
      "The autoreload extension is already loaded. To reload it, use:\n",
      "  %reload_ext autoreload\n"
     ]
    },
    {
     "data": {
      "text/html": [
       "<style>.container { width:90% !important; }</style>"
      ],
      "text/plain": [
       "<IPython.core.display.HTML object>"
      ]
     },
     "metadata": {},
     "output_type": "display_data"
    }
   ],
   "source": [
    "%load_ext autoreload\n",
    "%autoreload 2\n",
    "\n",
    "import sys\n",
    "sys.path.append('/home/user/github/phd/sentiment-backend/')\n",
    "\n",
    "from typing import NamedTuple, List\n",
    "\n",
    "import numpy as np\n",
    "import pandas as pd\n",
    "\n",
    "from tqdm import tqdm\n",
    "\n",
    "from aspects.embeddings.graph.conceptnet_hierarchies_check import AspectNeighborhood\n",
    "from aspects.data_io import serializer\n",
    "from aspects.utilities import settings\n",
    "from aspects.utilities.data_paths import ExperimentPaths\n",
    "\n",
    "import matplotlib\n",
    "%matplotlib inline\n",
    "\n",
    "from IPython.display import display, HTML\n",
    "display(HTML(\"<style>.container { width:90% !important; }</style>\"))"
   ]
  },
  {
   "cell_type": "markdown",
   "metadata": {},
   "source": [
    "# Load experiment data"
   ]
  },
  {
   "cell_type": "code",
   "execution_count": 160,
   "metadata": {
    "ExecuteTime": {
     "end_time": "2020-04-19T11:17:27.080166Z",
     "start_time": "2020-04-19T11:17:25.019862Z"
    }
   },
   "outputs": [],
   "source": [
    "experiment_paths = ExperimentPaths(\n",
    "    input_path='',\n",
    "#     output_path=settings.DEFAULT_OUTPUT_PATH / 'reviews_Cell_Phones_and_Accessories-50000-docs',\n",
    "    output_path=settings.DEFAULT_OUTPUT_PATH / 'reviews_Apps_for_Android',\n",
    "#         output_path=settings.DEFAULT_OUTPUT_PATH / 'reviews_Amazon_Instant_Video',\n",
    "    experiment_name='our'\n",
    ")"
   ]
  },
  {
   "cell_type": "code",
   "execution_count": 161,
   "metadata": {
    "ExecuteTime": {
     "end_time": "2020-04-19T11:17:27.139859Z",
     "start_time": "2020-04-19T11:17:27.082450Z"
    }
   },
   "outputs": [],
   "source": [
    "aspect_graph = serializer.load(experiment_paths.aspect_to_aspect_graph)"
   ]
  },
  {
   "cell_type": "code",
   "execution_count": 168,
   "metadata": {
    "ExecuteTime": {
     "end_time": "2020-04-19T11:17:57.564918Z",
     "start_time": "2020-04-19T11:17:57.530824Z"
    }
   },
   "outputs": [
    {
     "data": {
      "text/plain": [
       "5317"
      ]
     },
     "execution_count": 168,
     "metadata": {},
     "output_type": "execute_result"
    }
   ],
   "source": [
    "aspect_graph.number_of_nodes()"
   ]
  },
  {
   "cell_type": "markdown",
   "metadata": {},
   "source": [
    "## Degree distribution"
   ]
  },
  {
   "cell_type": "markdown",
   "metadata": {},
   "source": [
    "### Without directions "
   ]
  },
  {
   "cell_type": "code",
   "execution_count": 172,
   "metadata": {
    "ExecuteTime": {
     "end_time": "2020-04-19T11:20:14.810873Z",
     "start_time": "2020-04-19T11:20:14.132289Z"
    }
   },
   "outputs": [
    {
     "data": {
      "image/png": "[encoded data removed]",
      "text/plain": [
       "<Figure size 432x288 with 1 Axes>"
      ]
     },
     "metadata": {
      "needs_background": "light"
     },
     "output_type": "display_data"
    }
   ],
   "source": [
    "degrees = [aspect_graph.degree(n) for n in aspect_graph.nodes()]\n",
    "plt.hist(degrees, bins=100, log=True)\n",
    "plt.show()"
   ]
  },
  {
   "cell_type": "code",
   "execution_count": 173,
   "metadata": {
    "ExecuteTime": {
     "end_time": "2020-04-19T11:20:34.437528Z",
     "start_time": "2020-04-19T11:20:33.780440Z"
    }
   },
   "outputs": [
    {
     "data": {
      "image/png": "[encoded data removed]",
      "text/plain": [
       "<Figure size 432x288 with 1 Axes>"
      ]
     },
     "metadata": {
      "needs_background": "light"
     },
     "output_type": "display_data"
    }
   ],
   "source": [
    "degrees = [aspect_graph.degree(n) for n in aspect_graph.nodes()]\n",
    "plt.hist(degrees, bins=100, log=True, range=(0, 100))\n",
    "plt.show()"
   ]
  },
  {
   "cell_type": "code",
   "execution_count": 174,
   "metadata": {
    "ExecuteTime": {
     "end_time": "2020-04-19T11:20:53.608532Z",
     "start_time": "2020-04-19T11:20:52.940779Z"
    }
   },
   "outputs": [
    {
     "data": {
      "image/png": "[encoded data removed]",
      "text/plain": [
       "<Figure size 432x288 with 1 Axes>"
      ]
     },
     "metadata": {
      "needs_background": "light"
     },
     "output_type": "display_data"
    }
   ],
   "source": [
    "degrees = [aspect_graph.degree(n) for n in aspect_graph.nodes()]\n",
    "plt.hist(degrees, bins=100, log=True, range=(0, 40))\n",
    "plt.show()"
   ]
  },
  {
   "cell_type": "code",
   "execution_count": 180,
   "metadata": {
    "ExecuteTime": {
     "end_time": "2020-04-19T11:21:46.026415Z",
     "start_time": "2020-04-19T11:21:45.957482Z"
    }
   },
   "outputs": [
    {
     "data": {
      "text/plain": [
       "5.671619334211021"
      ]
     },
     "execution_count": 180,
     "metadata": {},
     "output_type": "execute_result"
    }
   ],
   "source": [
    "np.mean([aspect_graph.degree(n) for n in aspect_graph.nodes()])"
   ]
  },
  {
   "cell_type": "markdown",
   "metadata": {},
   "source": [
    "### Out degree"
   ]
  },
  {
   "cell_type": "code",
   "execution_count": 178,
   "metadata": {
    "ExecuteTime": {
     "end_time": "2020-04-19T11:21:34.462618Z",
     "start_time": "2020-04-19T11:21:33.783942Z"
    }
   },
   "outputs": [
    {
     "data": {
      "image/png": "[encoded data removed]",
      "text/plain": [
       "<Figure size 432x288 with 1 Axes>"
      ]
     },
     "metadata": {
      "needs_background": "light"
     },
     "output_type": "display_data"
    }
   ],
   "source": [
    "degrees = [aspect_graph.out_degree(n) for n in aspect_graph.nodes()]\n",
    "plt.hist(degrees, bins=100, log=True, range=(0, 40))\n",
    "plt.show()"
   ]
  },
  {
   "cell_type": "code",
   "execution_count": 179,
   "metadata": {
    "ExecuteTime": {
     "end_time": "2020-04-19T11:21:35.991431Z",
     "start_time": "2020-04-19T11:21:35.940786Z"
    }
   },
   "outputs": [
    {
     "data": {
      "text/plain": [
       "2.8358096671055106"
      ]
     },
     "execution_count": 179,
     "metadata": {},
     "output_type": "execute_result"
    }
   ],
   "source": [
    "np.mean([aspect_graph.out_degree(n) for n in aspect_graph.nodes()])"
   ]
  },
  {
   "cell_type": "markdown",
   "metadata": {},
   "source": [
    "# Get neighborhood dump info"
   ]
  },
  {
   "cell_type": "code",
   "execution_count": 181,
   "metadata": {
    "ExecuteTime": {
     "end_time": "2020-04-19T11:22:13.070913Z",
     "start_time": "2020-04-19T11:22:12.945429Z"
    }
   },
   "outputs": [],
   "source": [
    "conceptnet_hierarchy_neighborhood = serializer.load(experiment_paths.conceptnet_hierarchy_neighborhood)"
   ]
  },
  {
   "cell_type": "code",
   "execution_count": 182,
   "metadata": {
    "ExecuteTime": {
     "end_time": "2020-04-19T11:22:15.643544Z",
     "start_time": "2020-04-19T11:22:15.611905Z"
    }
   },
   "outputs": [],
   "source": [
    "neighborhood_df = pd.DataFrame([\n",
    "    neighborhood\n",
    "    for aspect, metadata in conceptnet_hierarchy_neighborhood.items()\n",
    "    for neighborhood in metadata\n",
    "])            "
   ]
  },
  {
   "cell_type": "code",
   "execution_count": 183,
   "metadata": {
    "ExecuteTime": {
     "end_time": "2020-04-19T11:22:17.868599Z",
     "start_time": "2020-04-19T11:22:17.794788Z"
    }
   },
   "outputs": [
    {
     "data": {
      "text/html": [
       "<div>\n",
       "<style scoped>\n",
       "    .dataframe tbody tr th:only-of-type {\n",
       "        vertical-align: middle;\n",
       "    }\n",
       "\n",
       "    .dataframe tbody tr th {\n",
       "        vertical-align: top;\n",
       "    }\n",
       "\n",
       "    .dataframe thead th {\n",
       "        text-align: right;\n",
       "    }\n",
       "</style>\n",
       "<table border=\"1\" class=\"dataframe\">\n",
       "  <thead>\n",
       "    <tr style=\"text-align: right;\">\n",
       "      <th></th>\n",
       "      <th>name</th>\n",
       "      <th>rank</th>\n",
       "      <th>neighbors_names</th>\n",
       "      <th>neighbors_path_lens</th>\n",
       "      <th>neighbors_cn_path_lens</th>\n",
       "      <th>aspects_not_in_conceptnet</th>\n",
       "      <th>cn_hierarchy_confirmed</th>\n",
       "    </tr>\n",
       "  </thead>\n",
       "  <tbody>\n",
       "    <tr>\n",
       "      <th>0</th>\n",
       "      <td>screen</td>\n",
       "      <td>1</td>\n",
       "      <td>[]</td>\n",
       "      <td>[]</td>\n",
       "      <td>[]</td>\n",
       "      <td>[]</td>\n",
       "      <td>[]</td>\n",
       "    </tr>\n",
       "    <tr>\n",
       "      <th>1</th>\n",
       "      <td>screen</td>\n",
       "      <td>2</td>\n",
       "      <td>[screen, screenshot]</td>\n",
       "      <td>[2, 2]</td>\n",
       "      <td>[0, 1]</td>\n",
       "      <td>[screen, screenshot]</td>\n",
       "      <td>[]</td>\n",
       "    </tr>\n",
       "    <tr>\n",
       "      <th>2</th>\n",
       "      <td>screen</td>\n",
       "      <td>3</td>\n",
       "      <td>[]</td>\n",
       "      <td>[]</td>\n",
       "      <td>[]</td>\n",
       "      <td>[]</td>\n",
       "      <td>[]</td>\n",
       "    </tr>\n",
       "    <tr>\n",
       "      <th>3</th>\n",
       "      <td>song</td>\n",
       "      <td>1</td>\n",
       "      <td>[screen, amazon]</td>\n",
       "      <td>[1, 1]</td>\n",
       "      <td>[3, 6]</td>\n",
       "      <td>[screen, amazon]</td>\n",
       "      <td>[]</td>\n",
       "    </tr>\n",
       "    <tr>\n",
       "      <th>4</th>\n",
       "      <td>song</td>\n",
       "      <td>2</td>\n",
       "      <td>[song, program, droid, kindle fire, interface,...</td>\n",
       "      <td>[2, 2, 2, 2, 2, 2, 2, 2, 2, 2, 2, 2, 2, 2, 2, ...</td>\n",
       "      <td>[0, 3, 7, 6, 5, 5, 6, 5, 3, 5, 4, 3, 6, 11, 4,...</td>\n",
       "      <td>[song, program, droid, kindle fire, interface,...</td>\n",
       "      <td>[]</td>\n",
       "    </tr>\n",
       "    <tr>\n",
       "      <th>...</th>\n",
       "      <td>...</td>\n",
       "      <td>...</td>\n",
       "      <td>...</td>\n",
       "      <td>...</td>\n",
       "      <td>...</td>\n",
       "      <td>...</td>\n",
       "      <td>...</td>\n",
       "    </tr>\n",
       "    <tr>\n",
       "      <th>4348</th>\n",
       "      <td>al qaeda</td>\n",
       "      <td>2</td>\n",
       "      <td>[al qaeda]</td>\n",
       "      <td>[2]</td>\n",
       "      <td>[0]</td>\n",
       "      <td>[al qaeda]</td>\n",
       "      <td>[]</td>\n",
       "    </tr>\n",
       "    <tr>\n",
       "      <th>4349</th>\n",
       "      <td>al qaeda</td>\n",
       "      <td>3</td>\n",
       "      <td>[]</td>\n",
       "      <td>[]</td>\n",
       "      <td>[]</td>\n",
       "      <td>[]</td>\n",
       "      <td>[]</td>\n",
       "    </tr>\n",
       "    <tr>\n",
       "      <th>4350</th>\n",
       "      <td>vine</td>\n",
       "      <td>1</td>\n",
       "      <td>[bible, word]</td>\n",
       "      <td>[1, 1]</td>\n",
       "      <td>[7, 8]</td>\n",
       "      <td>[bible, word]</td>\n",
       "      <td>[]</td>\n",
       "    </tr>\n",
       "    <tr>\n",
       "      <th>4351</th>\n",
       "      <td>vine</td>\n",
       "      <td>2</td>\n",
       "      <td>[video, droid, kindle fire, interface, microso...</td>\n",
       "      <td>[2, 2, 2, 2, 2, 2, 2, 2, 2, 2, 2, 2, 2, 2, 2, ...</td>\n",
       "      <td>[7, 10, 7, 5, 7, 7, 7, 8, 8, 5, 6, 7, 7, 7, 7,...</td>\n",
       "      <td>[video, droid, kindle fire, interface, microso...</td>\n",
       "      <td>[]</td>\n",
       "    </tr>\n",
       "    <tr>\n",
       "      <th>4352</th>\n",
       "      <td>vine</td>\n",
       "      <td>3</td>\n",
       "      <td>[screen, program, laptop, napster, youtube, am...</td>\n",
       "      <td>[3, 3, 3, 3, 3, 3, 3, 3, 3, 3, 3, 3, 3, 3, 3, ...</td>\n",
       "      <td>[7, 7, 8, 7, 7, 6, 6, 10, 15, 7, 7, 7, 8, 7, 8...</td>\n",
       "      <td>[screen, program, laptop, napster, youtube, am...</td>\n",
       "      <td>[]</td>\n",
       "    </tr>\n",
       "  </tbody>\n",
       "</table>\n",
       "<p>4353 rows × 7 columns</p>\n",
       "</div>"
      ],
      "text/plain": [
       "          name  rank                                    neighbors_names  \\\n",
       "0       screen     1                                                 []   \n",
       "1       screen     2                               [screen, screenshot]   \n",
       "2       screen     3                                                 []   \n",
       "3         song     1                                   [screen, amazon]   \n",
       "4         song     2  [song, program, droid, kindle fire, interface,...   \n",
       "...        ...   ...                                                ...   \n",
       "4348  al qaeda     2                                         [al qaeda]   \n",
       "4349  al qaeda     3                                                 []   \n",
       "4350      vine     1                                      [bible, word]   \n",
       "4351      vine     2  [video, droid, kindle fire, interface, microso...   \n",
       "4352      vine     3  [screen, program, laptop, napster, youtube, am...   \n",
       "\n",
       "                                    neighbors_path_lens  \\\n",
       "0                                                    []   \n",
       "1                                                [2, 2]   \n",
       "2                                                    []   \n",
       "3                                                [1, 1]   \n",
       "4     [2, 2, 2, 2, 2, 2, 2, 2, 2, 2, 2, 2, 2, 2, 2, ...   \n",
       "...                                                 ...   \n",
       "4348                                                [2]   \n",
       "4349                                                 []   \n",
       "4350                                             [1, 1]   \n",
       "4351  [2, 2, 2, 2, 2, 2, 2, 2, 2, 2, 2, 2, 2, 2, 2, ...   \n",
       "4352  [3, 3, 3, 3, 3, 3, 3, 3, 3, 3, 3, 3, 3, 3, 3, ...   \n",
       "\n",
       "                                 neighbors_cn_path_lens  \\\n",
       "0                                                    []   \n",
       "1                                                [0, 1]   \n",
       "2                                                    []   \n",
       "3                                                [3, 6]   \n",
       "4     [0, 3, 7, 6, 5, 5, 6, 5, 3, 5, 4, 3, 6, 11, 4,...   \n",
       "...                                                 ...   \n",
       "4348                                                [0]   \n",
       "4349                                                 []   \n",
       "4350                                             [7, 8]   \n",
       "4351  [7, 10, 7, 5, 7, 7, 7, 8, 8, 5, 6, 7, 7, 7, 7,...   \n",
       "4352  [7, 7, 8, 7, 7, 6, 6, 10, 15, 7, 7, 7, 8, 7, 8...   \n",
       "\n",
       "                              aspects_not_in_conceptnet cn_hierarchy_confirmed  \n",
       "0                                                    []                     []  \n",
       "1                                  [screen, screenshot]                     []  \n",
       "2                                                    []                     []  \n",
       "3                                      [screen, amazon]                     []  \n",
       "4     [song, program, droid, kindle fire, interface,...                     []  \n",
       "...                                                 ...                    ...  \n",
       "4348                                         [al qaeda]                     []  \n",
       "4349                                                 []                     []  \n",
       "4350                                      [bible, word]                     []  \n",
       "4351  [video, droid, kindle fire, interface, microso...                     []  \n",
       "4352  [screen, program, laptop, napster, youtube, am...                     []  \n",
       "\n",
       "[4353 rows x 7 columns]"
      ]
     },
     "execution_count": 183,
     "metadata": {},
     "output_type": "execute_result"
    }
   ],
   "source": [
    "neighborhood_df"
   ]
  },
  {
   "cell_type": "code",
   "execution_count": 184,
   "metadata": {
    "ExecuteTime": {
     "end_time": "2020-04-19T11:22:44.201327Z",
     "start_time": "2020-04-19T11:22:44.177575Z"
    }
   },
   "outputs": [],
   "source": [
    "# neighborhood_df['hierarchical_proportion'] = neighborhood_df.cn_hierarchy_confirmed.apply(lambda cn: sum(cn)/len(cn) if cn else 0)\n",
    "# neighborhood_df = neighborhood_df[neighborhood_df.hierarchical_proportion>0.1]\n",
    "# neighborhood_df.sort_values('hierarchical_proportion')"
   ]
  },
  {
   "cell_type": "markdown",
   "metadata": {},
   "source": [
    "## Skip zero proportions "
   ]
  },
  {
   "cell_type": "code",
   "execution_count": 185,
   "metadata": {
    "ExecuteTime": {
     "end_time": "2020-04-19T11:22:49.013548Z",
     "start_time": "2020-04-19T11:22:48.981336Z"
    }
   },
   "outputs": [],
   "source": [
    "# neighborhood_df = neighborhood_df[neighborhood_df.hierarchical_proportion > 0]"
   ]
  },
  {
   "cell_type": "markdown",
   "metadata": {},
   "source": [
    "## Skip 0 len paths "
   ]
  },
  {
   "cell_type": "code",
   "execution_count": 186,
   "metadata": {
    "ExecuteTime": {
     "end_time": "2020-04-19T11:22:53.958922Z",
     "start_time": "2020-04-19T11:22:53.913849Z"
    }
   },
   "outputs": [],
   "source": [
    "neighborhood_df.neighbors_cn_path_lens = neighborhood_df.neighbors_cn_path_lens.apply(lambda paths: [path for path in paths if path])"
   ]
  },
  {
   "cell_type": "code",
   "execution_count": 187,
   "metadata": {
    "ExecuteTime": {
     "end_time": "2020-04-19T11:22:54.898288Z",
     "start_time": "2020-04-19T11:22:54.823629Z"
    }
   },
   "outputs": [
    {
     "data": {
      "text/html": [
       "<div>\n",
       "<style scoped>\n",
       "    .dataframe tbody tr th:only-of-type {\n",
       "        vertical-align: middle;\n",
       "    }\n",
       "\n",
       "    .dataframe tbody tr th {\n",
       "        vertical-align: top;\n",
       "    }\n",
       "\n",
       "    .dataframe thead th {\n",
       "        text-align: right;\n",
       "    }\n",
       "</style>\n",
       "<table border=\"1\" class=\"dataframe\">\n",
       "  <thead>\n",
       "    <tr style=\"text-align: right;\">\n",
       "      <th></th>\n",
       "      <th>name</th>\n",
       "      <th>rank</th>\n",
       "      <th>neighbors_names</th>\n",
       "      <th>neighbors_path_lens</th>\n",
       "      <th>neighbors_cn_path_lens</th>\n",
       "      <th>aspects_not_in_conceptnet</th>\n",
       "      <th>cn_hierarchy_confirmed</th>\n",
       "    </tr>\n",
       "  </thead>\n",
       "  <tbody>\n",
       "    <tr>\n",
       "      <th>0</th>\n",
       "      <td>screen</td>\n",
       "      <td>1</td>\n",
       "      <td>[]</td>\n",
       "      <td>[]</td>\n",
       "      <td>[]</td>\n",
       "      <td>[]</td>\n",
       "      <td>[]</td>\n",
       "    </tr>\n",
       "    <tr>\n",
       "      <th>1</th>\n",
       "      <td>screen</td>\n",
       "      <td>2</td>\n",
       "      <td>[screen, screenshot]</td>\n",
       "      <td>[2, 2]</td>\n",
       "      <td>[1]</td>\n",
       "      <td>[screen, screenshot]</td>\n",
       "      <td>[]</td>\n",
       "    </tr>\n",
       "    <tr>\n",
       "      <th>2</th>\n",
       "      <td>screen</td>\n",
       "      <td>3</td>\n",
       "      <td>[]</td>\n",
       "      <td>[]</td>\n",
       "      <td>[]</td>\n",
       "      <td>[]</td>\n",
       "      <td>[]</td>\n",
       "    </tr>\n",
       "    <tr>\n",
       "      <th>3</th>\n",
       "      <td>song</td>\n",
       "      <td>1</td>\n",
       "      <td>[screen, amazon]</td>\n",
       "      <td>[1, 1]</td>\n",
       "      <td>[3, 6]</td>\n",
       "      <td>[screen, amazon]</td>\n",
       "      <td>[]</td>\n",
       "    </tr>\n",
       "    <tr>\n",
       "      <th>4</th>\n",
       "      <td>song</td>\n",
       "      <td>2</td>\n",
       "      <td>[song, program, droid, kindle fire, interface,...</td>\n",
       "      <td>[2, 2, 2, 2, 2, 2, 2, 2, 2, 2, 2, 2, 2, 2, 2, ...</td>\n",
       "      <td>[3, 7, 6, 5, 5, 6, 5, 3, 5, 4, 3, 6, 11, 4, 4,...</td>\n",
       "      <td>[song, program, droid, kindle fire, interface,...</td>\n",
       "      <td>[]</td>\n",
       "    </tr>\n",
       "    <tr>\n",
       "      <th>...</th>\n",
       "      <td>...</td>\n",
       "      <td>...</td>\n",
       "      <td>...</td>\n",
       "      <td>...</td>\n",
       "      <td>...</td>\n",
       "      <td>...</td>\n",
       "      <td>...</td>\n",
       "    </tr>\n",
       "    <tr>\n",
       "      <th>4348</th>\n",
       "      <td>al qaeda</td>\n",
       "      <td>2</td>\n",
       "      <td>[al qaeda]</td>\n",
       "      <td>[2]</td>\n",
       "      <td>[]</td>\n",
       "      <td>[al qaeda]</td>\n",
       "      <td>[]</td>\n",
       "    </tr>\n",
       "    <tr>\n",
       "      <th>4349</th>\n",
       "      <td>al qaeda</td>\n",
       "      <td>3</td>\n",
       "      <td>[]</td>\n",
       "      <td>[]</td>\n",
       "      <td>[]</td>\n",
       "      <td>[]</td>\n",
       "      <td>[]</td>\n",
       "    </tr>\n",
       "    <tr>\n",
       "      <th>4350</th>\n",
       "      <td>vine</td>\n",
       "      <td>1</td>\n",
       "      <td>[bible, word]</td>\n",
       "      <td>[1, 1]</td>\n",
       "      <td>[7, 8]</td>\n",
       "      <td>[bible, word]</td>\n",
       "      <td>[]</td>\n",
       "    </tr>\n",
       "    <tr>\n",
       "      <th>4351</th>\n",
       "      <td>vine</td>\n",
       "      <td>2</td>\n",
       "      <td>[video, droid, kindle fire, interface, microso...</td>\n",
       "      <td>[2, 2, 2, 2, 2, 2, 2, 2, 2, 2, 2, 2, 2, 2, 2, ...</td>\n",
       "      <td>[7, 10, 7, 5, 7, 7, 7, 8, 8, 5, 6, 7, 7, 7, 7,...</td>\n",
       "      <td>[video, droid, kindle fire, interface, microso...</td>\n",
       "      <td>[]</td>\n",
       "    </tr>\n",
       "    <tr>\n",
       "      <th>4352</th>\n",
       "      <td>vine</td>\n",
       "      <td>3</td>\n",
       "      <td>[screen, program, laptop, napster, youtube, am...</td>\n",
       "      <td>[3, 3, 3, 3, 3, 3, 3, 3, 3, 3, 3, 3, 3, 3, 3, ...</td>\n",
       "      <td>[7, 7, 8, 7, 7, 6, 6, 10, 15, 7, 7, 7, 8, 7, 8...</td>\n",
       "      <td>[screen, program, laptop, napster, youtube, am...</td>\n",
       "      <td>[]</td>\n",
       "    </tr>\n",
       "  </tbody>\n",
       "</table>\n",
       "<p>4353 rows × 7 columns</p>\n",
       "</div>"
      ],
      "text/plain": [
       "          name  rank                                    neighbors_names  \\\n",
       "0       screen     1                                                 []   \n",
       "1       screen     2                               [screen, screenshot]   \n",
       "2       screen     3                                                 []   \n",
       "3         song     1                                   [screen, amazon]   \n",
       "4         song     2  [song, program, droid, kindle fire, interface,...   \n",
       "...        ...   ...                                                ...   \n",
       "4348  al qaeda     2                                         [al qaeda]   \n",
       "4349  al qaeda     3                                                 []   \n",
       "4350      vine     1                                      [bible, word]   \n",
       "4351      vine     2  [video, droid, kindle fire, interface, microso...   \n",
       "4352      vine     3  [screen, program, laptop, napster, youtube, am...   \n",
       "\n",
       "                                    neighbors_path_lens  \\\n",
       "0                                                    []   \n",
       "1                                                [2, 2]   \n",
       "2                                                    []   \n",
       "3                                                [1, 1]   \n",
       "4     [2, 2, 2, 2, 2, 2, 2, 2, 2, 2, 2, 2, 2, 2, 2, ...   \n",
       "...                                                 ...   \n",
       "4348                                                [2]   \n",
       "4349                                                 []   \n",
       "4350                                             [1, 1]   \n",
       "4351  [2, 2, 2, 2, 2, 2, 2, 2, 2, 2, 2, 2, 2, 2, 2, ...   \n",
       "4352  [3, 3, 3, 3, 3, 3, 3, 3, 3, 3, 3, 3, 3, 3, 3, ...   \n",
       "\n",
       "                                 neighbors_cn_path_lens  \\\n",
       "0                                                    []   \n",
       "1                                                   [1]   \n",
       "2                                                    []   \n",
       "3                                                [3, 6]   \n",
       "4     [3, 7, 6, 5, 5, 6, 5, 3, 5, 4, 3, 6, 11, 4, 4,...   \n",
       "...                                                 ...   \n",
       "4348                                                 []   \n",
       "4349                                                 []   \n",
       "4350                                             [7, 8]   \n",
       "4351  [7, 10, 7, 5, 7, 7, 7, 8, 8, 5, 6, 7, 7, 7, 7,...   \n",
       "4352  [7, 7, 8, 7, 7, 6, 6, 10, 15, 7, 7, 7, 8, 7, 8...   \n",
       "\n",
       "                              aspects_not_in_conceptnet cn_hierarchy_confirmed  \n",
       "0                                                    []                     []  \n",
       "1                                  [screen, screenshot]                     []  \n",
       "2                                                    []                     []  \n",
       "3                                      [screen, amazon]                     []  \n",
       "4     [song, program, droid, kindle fire, interface,...                     []  \n",
       "...                                                 ...                    ...  \n",
       "4348                                         [al qaeda]                     []  \n",
       "4349                                                 []                     []  \n",
       "4350                                      [bible, word]                     []  \n",
       "4351  [video, droid, kindle fire, interface, microso...                     []  \n",
       "4352  [screen, program, laptop, napster, youtube, am...                     []  \n",
       "\n",
       "[4353 rows x 7 columns]"
      ]
     },
     "execution_count": 187,
     "metadata": {},
     "output_type": "execute_result"
    }
   ],
   "source": [
    "neighborhood_df"
   ]
  },
  {
   "cell_type": "markdown",
   "metadata": {},
   "source": [
    "## Remove aspects with no paths to any neighbor "
   ]
  },
  {
   "cell_type": "code",
   "execution_count": 190,
   "metadata": {
    "ExecuteTime": {
     "end_time": "2020-04-19T11:23:34.507254Z",
     "start_time": "2020-04-19T11:23:34.479559Z"
    }
   },
   "outputs": [
    {
     "data": {
      "text/plain": [
       "1065"
      ]
     },
     "execution_count": 190,
     "metadata": {},
     "output_type": "execute_result"
    }
   ],
   "source": [
    "len(neighborhood_df)"
   ]
  },
  {
   "cell_type": "code",
   "execution_count": 188,
   "metadata": {
    "ExecuteTime": {
     "end_time": "2020-04-19T11:23:24.261392Z",
     "start_time": "2020-04-19T11:23:22.678772Z"
    }
   },
   "outputs": [
    {
     "name": "stderr",
     "output_type": "stream",
     "text": [
      "100%|██████████| 1451/1451 [00:01<00:00, 1238.49it/s]\n"
     ]
    }
   ],
   "source": [
    "neighborhood_df = pd.concat([\n",
    "    g \n",
    "    for _, g in tqdm(neighborhood_df.groupby('name')) \n",
    "    for _, row in g.iterrows()\n",
    "    if len(row.neighbors_cn_path_lens) > 0\n",
    "]).drop_duplicates(subset=['name', 'rank'])"
   ]
  },
  {
   "cell_type": "code",
   "execution_count": 189,
   "metadata": {
    "ExecuteTime": {
     "end_time": "2020-04-19T11:23:24.291037Z",
     "start_time": "2020-04-19T11:23:24.263157Z"
    }
   },
   "outputs": [
    {
     "data": {
      "text/plain": [
       "1065"
      ]
     },
     "execution_count": 189,
     "metadata": {},
     "output_type": "execute_result"
    }
   ],
   "source": [
    "len(neighborhood_df)"
   ]
  },
  {
   "cell_type": "markdown",
   "metadata": {},
   "source": [
    "## Skip aspects without all ranks paths "
   ]
  },
  {
   "cell_type": "code",
   "execution_count": 191,
   "metadata": {
    "ExecuteTime": {
     "end_time": "2020-04-19T11:23:37.559108Z",
     "start_time": "2020-04-19T11:23:37.342878Z"
    }
   },
   "outputs": [],
   "source": [
    "neighborhood_df = pd.concat([g for _, g in neighborhood_df.groupby('name') if len(g) == 3])"
   ]
  },
  {
   "cell_type": "code",
   "execution_count": 192,
   "metadata": {
    "ExecuteTime": {
     "end_time": "2020-04-19T11:23:38.112127Z",
     "start_time": "2020-04-19T11:23:38.086423Z"
    }
   },
   "outputs": [
    {
     "data": {
      "text/plain": [
       "1065"
      ]
     },
     "execution_count": 192,
     "metadata": {},
     "output_type": "execute_result"
    }
   ],
   "source": [
    "len(neighborhood_df)"
   ]
  },
  {
   "cell_type": "markdown",
   "metadata": {},
   "source": [
    "# Calculate differences between aspect graph shortests paths of neioghbors and cn shortest paths "
   ]
  },
  {
   "cell_type": "code",
   "execution_count": 198,
   "metadata": {
    "ExecuteTime": {
     "end_time": "2020-04-19T11:26:41.664396Z",
     "start_time": "2020-04-19T11:26:41.341026Z"
    }
   },
   "outputs": [
    {
     "name": "stderr",
     "output_type": "stream",
     "text": [
      "1065it [00:00, 3691.82it/s]\n"
     ]
    }
   ],
   "source": [
    "shortest_paths_diferences = []\n",
    "    \n",
    "for _, row in tqdm(neighborhood_df.iterrows()):\n",
    "    rank = row['rank']\n",
    "    if len(row.neighbors_path_lens) == len(row.neighbors_cn_path_lens):\n",
    "        shortest_paths_diferences.append(\n",
    "            np.subtract(\n",
    "                np.array(row.neighbors_cn_path_lens), \n",
    "                np.array(row.neighbors_path_lens)\n",
    "            )\n",
    "        )"
   ]
  },
  {
   "cell_type": "code",
   "execution_count": 199,
   "metadata": {
    "ExecuteTime": {
     "end_time": "2020-04-19T11:26:42.696158Z",
     "start_time": "2020-04-19T11:26:42.669260Z"
    }
   },
   "outputs": [
    {
     "data": {
      "text/plain": [
       "1065"
      ]
     },
     "execution_count": 199,
     "metadata": {},
     "output_type": "execute_result"
    }
   ],
   "source": [
    "len(shortest_paths_diferences)"
   ]
  },
  {
   "cell_type": "code",
   "execution_count": 200,
   "metadata": {
    "ExecuteTime": {
     "end_time": "2020-04-19T11:26:44.247545Z",
     "start_time": "2020-04-19T11:26:44.222152Z"
    }
   },
   "outputs": [],
   "source": [
    "neighborhood_df['shortest_paths_diferences'] = shortest_paths_diferences"
   ]
  },
  {
   "cell_type": "code",
   "execution_count": 206,
   "metadata": {
    "ExecuteTime": {
     "end_time": "2020-04-19T11:28:19.323143Z",
     "start_time": "2020-04-19T11:28:19.294737Z"
    }
   },
   "outputs": [],
   "source": [
    "df = neighborhood_df[neighborhood_df.shortest_paths_diferences.isna()]"
   ]
  },
  {
   "cell_type": "code",
   "execution_count": 207,
   "metadata": {
    "ExecuteTime": {
     "end_time": "2020-04-19T11:28:19.723774Z",
     "start_time": "2020-04-19T11:28:19.607129Z"
    }
   },
   "outputs": [
    {
     "data": {
      "text/html": [
       "<div>\n",
       "<style scoped>\n",
       "    .dataframe tbody tr th:only-of-type {\n",
       "        vertical-align: middle;\n",
       "    }\n",
       "\n",
       "    .dataframe tbody tr th {\n",
       "        vertical-align: top;\n",
       "    }\n",
       "\n",
       "    .dataframe thead th {\n",
       "        text-align: right;\n",
       "    }\n",
       "</style>\n",
       "<table border=\"1\" class=\"dataframe\">\n",
       "  <thead>\n",
       "    <tr style=\"text-align: right;\">\n",
       "      <th></th>\n",
       "      <th>name</th>\n",
       "      <th>rank</th>\n",
       "      <th>neighbors_names</th>\n",
       "      <th>neighbors_path_lens</th>\n",
       "      <th>neighbors_cn_path_lens</th>\n",
       "      <th>aspects_not_in_conceptnet</th>\n",
       "      <th>cn_hierarchy_confirmed</th>\n",
       "      <th>shortest_paths_diferences</th>\n",
       "    </tr>\n",
       "  </thead>\n",
       "  <tbody>\n",
       "    <tr>\n",
       "      <th>997</th>\n",
       "      <td>action</td>\n",
       "      <td>2</td>\n",
       "      <td>[screen, kindle fire, jack, interface, blackja...</td>\n",
       "      <td>[2, 2, 2, 2, 2, 2, 2, 2, 2, 2, 2, 2, 2, 2, 2, ...</td>\n",
       "      <td>[4, 4, 5, 5, 4, 5, 4, 5, 5, 5, 5, 4, 5, 12, 6,...</td>\n",
       "      <td>[screen, kindle fire, jack, interface, blackja...</td>\n",
       "      <td>[]</td>\n",
       "      <td>None</td>\n",
       "    </tr>\n",
       "    <tr>\n",
       "      <th>2125</th>\n",
       "      <td>alaska</td>\n",
       "      <td>2</td>\n",
       "      <td>[screen, song, program, droid, kindle fire, in...</td>\n",
       "      <td>[2, 2, 2, 2, 2, 2, 2, 2, 2, 2, 2, 2, 2, 2, 2, ...</td>\n",
       "      <td>[6, 4, 6, 8, 6, 4, 6, 7, 6, 5, 5, 7, 7, 5, 14,...</td>\n",
       "      <td>[screen, song, program, droid, kindle fire, in...</td>\n",
       "      <td>[]</td>\n",
       "      <td>None</td>\n",
       "    </tr>\n",
       "    <tr>\n",
       "      <th>52</th>\n",
       "      <td>amazon</td>\n",
       "      <td>2</td>\n",
       "      <td>[laptop, napster, amazon, strength, radio stat...</td>\n",
       "      <td>[2, 2, 2, 2, 2, 2, 2, 2, 2, 2, 2, 2, 2, 2, 2, ...</td>\n",
       "      <td>[7, 8, 6, 8, 7, 7, 7, 7, 9, 7, 6, 7, 8, 7, 9, ...</td>\n",
       "      <td>[laptop, napster, amazon, strength, radio stat...</td>\n",
       "      <td>[]</td>\n",
       "      <td>None</td>\n",
       "    </tr>\n",
       "    <tr>\n",
       "      <th>2263</th>\n",
       "      <td>america</td>\n",
       "      <td>2</td>\n",
       "      <td>[screen, program, droid, kindle fire, jack, in...</td>\n",
       "      <td>[2, 2, 2, 2, 2, 2, 2, 2, 2, 2, 2, 2, 2, 2, 2, ...</td>\n",
       "      <td>[4, 4, 6, 4, 4, 3, 4, 4, 3, 3, 5, 3, 5, 8, 12,...</td>\n",
       "      <td>[screen, program, droid, kindle fire, jack, in...</td>\n",
       "      <td>[]</td>\n",
       "      <td>None</td>\n",
       "    </tr>\n",
       "    <tr>\n",
       "      <th>319</th>\n",
       "      <td>amsterdam</td>\n",
       "      <td>2</td>\n",
       "      <td>[amsterdam]</td>\n",
       "      <td>[2]</td>\n",
       "      <td>[]</td>\n",
       "      <td>[amsterdam]</td>\n",
       "      <td>[]</td>\n",
       "      <td>None</td>\n",
       "    </tr>\n",
       "    <tr>\n",
       "      <th>...</th>\n",
       "      <td>...</td>\n",
       "      <td>...</td>\n",
       "      <td>...</td>\n",
       "      <td>...</td>\n",
       "      <td>...</td>\n",
       "      <td>...</td>\n",
       "      <td>...</td>\n",
       "      <td>...</td>\n",
       "    </tr>\n",
       "    <tr>\n",
       "      <th>391</th>\n",
       "      <td>work</td>\n",
       "      <td>2</td>\n",
       "      <td>[screen, song, program, droid, kindle fire, in...</td>\n",
       "      <td>[2, 2, 2, 2, 2, 2, 2, 2, 2, 2, 2, 2, 2, 2, 2, ...</td>\n",
       "      <td>[4, 3, 3, 4, 3, 3, 5, 4, 4, 4, 4, 5, 4, 11, 3,...</td>\n",
       "      <td>[screen, song, program, droid, kindle fire, in...</td>\n",
       "      <td>[]</td>\n",
       "      <td>None</td>\n",
       "    </tr>\n",
       "    <tr>\n",
       "      <th>19</th>\n",
       "      <td>works</td>\n",
       "      <td>2</td>\n",
       "      <td>[song, program, droid, works, laptop, customer...</td>\n",
       "      <td>[2, 2, 2, 2, 2, 2, 2, 2, 2, 2, 2, 2, 2, 2, 2, ...</td>\n",
       "      <td>[5, 6, 9, 7, 7, 8, 7, 8, 6, 7, 7, 8, 7, 7, 7, ...</td>\n",
       "      <td>[song, program, droid, works, laptop, customer...</td>\n",
       "      <td>[]</td>\n",
       "      <td>None</td>\n",
       "    </tr>\n",
       "    <tr>\n",
       "      <th>94</th>\n",
       "      <td>world</td>\n",
       "      <td>2</td>\n",
       "      <td>[screen, program, song, droid, kindle fire, in...</td>\n",
       "      <td>[2, 2, 2, 2, 2, 2, 2, 2, 2, 2, 2, 2, 2, 2, 2, ...</td>\n",
       "      <td>[4, 4, 5, 6, 4, 3, 5, 3, 3, 3, 5, 6, 3, 4, 12,...</td>\n",
       "      <td>[screen, program, song, droid, kindle fire, in...</td>\n",
       "      <td>[]</td>\n",
       "      <td>None</td>\n",
       "    </tr>\n",
       "    <tr>\n",
       "      <th>3248</th>\n",
       "      <td>xp</td>\n",
       "      <td>3</td>\n",
       "      <td>[song, kindle fire, interface, laptop, custome...</td>\n",
       "      <td>[3, 3, 3, 3, 3, 3, 3, 3, 3, 3, 3, 3, 3, 3, 3, ...</td>\n",
       "      <td>[5, 7, 6, 6, 6, 5, 7, 7, 5, 7, 6, 10, 7, 7, 6,...</td>\n",
       "      <td>[song, kindle fire, interface, laptop, custome...</td>\n",
       "      <td>[]</td>\n",
       "      <td>None</td>\n",
       "    </tr>\n",
       "    <tr>\n",
       "      <th>46</th>\n",
       "      <td>youtube</td>\n",
       "      <td>2</td>\n",
       "      <td>[screen, droid, birthday, ebook, youtube, serv...</td>\n",
       "      <td>[2, 2, 2, 2, 2, 2, 2, 2, 2, 2, 2, 2, 2, 2, 2, ...</td>\n",
       "      <td>[4, 8, 5, 6, 5, 6, 5, 13, 6, 6, 6, 5, 9, 6, 9,...</td>\n",
       "      <td>[screen, droid, birthday, ebook, youtube, serv...</td>\n",
       "      <td>[]</td>\n",
       "      <td>None</td>\n",
       "    </tr>\n",
       "  </tbody>\n",
       "</table>\n",
       "<p>275 rows × 8 columns</p>\n",
       "</div>"
      ],
      "text/plain": [
       "           name  rank                                    neighbors_names  \\\n",
       "997      action     2  [screen, kindle fire, jack, interface, blackja...   \n",
       "2125     alaska     2  [screen, song, program, droid, kindle fire, in...   \n",
       "52       amazon     2  [laptop, napster, amazon, strength, radio stat...   \n",
       "2263    america     2  [screen, program, droid, kindle fire, jack, in...   \n",
       "319   amsterdam     2                                        [amsterdam]   \n",
       "...         ...   ...                                                ...   \n",
       "391        work     2  [screen, song, program, droid, kindle fire, in...   \n",
       "19        works     2  [song, program, droid, works, laptop, customer...   \n",
       "94        world     2  [screen, program, song, droid, kindle fire, in...   \n",
       "3248         xp     3  [song, kindle fire, interface, laptop, custome...   \n",
       "46      youtube     2  [screen, droid, birthday, ebook, youtube, serv...   \n",
       "\n",
       "                                    neighbors_path_lens  \\\n",
       "997   [2, 2, 2, 2, 2, 2, 2, 2, 2, 2, 2, 2, 2, 2, 2, ...   \n",
       "2125  [2, 2, 2, 2, 2, 2, 2, 2, 2, 2, 2, 2, 2, 2, 2, ...   \n",
       "52    [2, 2, 2, 2, 2, 2, 2, 2, 2, 2, 2, 2, 2, 2, 2, ...   \n",
       "2263  [2, 2, 2, 2, 2, 2, 2, 2, 2, 2, 2, 2, 2, 2, 2, ...   \n",
       "319                                                 [2]   \n",
       "...                                                 ...   \n",
       "391   [2, 2, 2, 2, 2, 2, 2, 2, 2, 2, 2, 2, 2, 2, 2, ...   \n",
       "19    [2, 2, 2, 2, 2, 2, 2, 2, 2, 2, 2, 2, 2, 2, 2, ...   \n",
       "94    [2, 2, 2, 2, 2, 2, 2, 2, 2, 2, 2, 2, 2, 2, 2, ...   \n",
       "3248  [3, 3, 3, 3, 3, 3, 3, 3, 3, 3, 3, 3, 3, 3, 3, ...   \n",
       "46    [2, 2, 2, 2, 2, 2, 2, 2, 2, 2, 2, 2, 2, 2, 2, ...   \n",
       "\n",
       "                                 neighbors_cn_path_lens  \\\n",
       "997   [4, 4, 5, 5, 4, 5, 4, 5, 5, 5, 5, 4, 5, 12, 6,...   \n",
       "2125  [6, 4, 6, 8, 6, 4, 6, 7, 6, 5, 5, 7, 7, 5, 14,...   \n",
       "52    [7, 8, 6, 8, 7, 7, 7, 7, 9, 7, 6, 7, 8, 7, 9, ...   \n",
       "2263  [4, 4, 6, 4, 4, 3, 4, 4, 3, 3, 5, 3, 5, 8, 12,...   \n",
       "319                                                  []   \n",
       "...                                                 ...   \n",
       "391   [4, 3, 3, 4, 3, 3, 5, 4, 4, 4, 4, 5, 4, 11, 3,...   \n",
       "19    [5, 6, 9, 7, 7, 8, 7, 8, 6, 7, 7, 8, 7, 7, 7, ...   \n",
       "94    [4, 4, 5, 6, 4, 3, 5, 3, 3, 3, 5, 6, 3, 4, 12,...   \n",
       "3248  [5, 7, 6, 6, 6, 5, 7, 7, 5, 7, 6, 10, 7, 7, 6,...   \n",
       "46    [4, 8, 5, 6, 5, 6, 5, 13, 6, 6, 6, 5, 9, 6, 9,...   \n",
       "\n",
       "                              aspects_not_in_conceptnet  \\\n",
       "997   [screen, kindle fire, jack, interface, blackja...   \n",
       "2125  [screen, song, program, droid, kindle fire, in...   \n",
       "52    [laptop, napster, amazon, strength, radio stat...   \n",
       "2263  [screen, program, droid, kindle fire, jack, in...   \n",
       "319                                         [amsterdam]   \n",
       "...                                                 ...   \n",
       "391   [screen, song, program, droid, kindle fire, in...   \n",
       "19    [song, program, droid, works, laptop, customer...   \n",
       "94    [screen, program, song, droid, kindle fire, in...   \n",
       "3248  [song, kindle fire, interface, laptop, custome...   \n",
       "46    [screen, droid, birthday, ebook, youtube, serv...   \n",
       "\n",
       "     cn_hierarchy_confirmed shortest_paths_diferences  \n",
       "997                      []                      None  \n",
       "2125                     []                      None  \n",
       "52                       []                      None  \n",
       "2263                     []                      None  \n",
       "319                      []                      None  \n",
       "...                     ...                       ...  \n",
       "391                      []                      None  \n",
       "19                       []                      None  \n",
       "94                       []                      None  \n",
       "3248                     []                      None  \n",
       "46                       []                      None  \n",
       "\n",
       "[275 rows x 8 columns]"
      ]
     },
     "execution_count": 207,
     "metadata": {},
     "output_type": "execute_result"
    }
   ],
   "source": [
    "df"
   ]
  },
  {
   "cell_type": "code",
   "execution_count": 146,
   "metadata": {
    "ExecuteTime": {
     "end_time": "2020-04-19T10:02:56.688578Z",
     "start_time": "2020-04-19T10:02:56.455144Z"
    }
   },
   "outputs": [
    {
     "name": "stderr",
     "output_type": "stream",
     "text": [
      "/usr/lib/python3.8/site-packages/numpy/core/fromnumeric.py:3334: RuntimeWarning: Mean of empty slice.\n",
      "  return _methods._mean(a, axis=axis, dtype=dtype,\n"
     ]
    }
   ],
   "source": [
    "neighborhood_df['shortest_paths_diferences_mean'] = neighborhood_df.shortest_paths_diferences.apply(np.mean)"
   ]
  },
  {
   "cell_type": "code",
   "execution_count": 147,
   "metadata": {
    "ExecuteTime": {
     "end_time": "2020-04-19T10:03:03.264187Z",
     "start_time": "2020-04-19T10:03:03.155094Z"
    }
   },
   "outputs": [
    {
     "data": {
      "text/html": [
       "<div>\n",
       "<style scoped>\n",
       "    .dataframe tbody tr th:only-of-type {\n",
       "        vertical-align: middle;\n",
       "    }\n",
       "\n",
       "    .dataframe tbody tr th {\n",
       "        vertical-align: top;\n",
       "    }\n",
       "\n",
       "    .dataframe thead th {\n",
       "        text-align: right;\n",
       "    }\n",
       "</style>\n",
       "<table border=\"1\" class=\"dataframe\">\n",
       "  <thead>\n",
       "    <tr style=\"text-align: right;\">\n",
       "      <th></th>\n",
       "      <th>name</th>\n",
       "      <th>rank</th>\n",
       "      <th>neighbors_names</th>\n",
       "      <th>neighbors_path_lens</th>\n",
       "      <th>neighbors_cn_path_lens</th>\n",
       "      <th>aspects_not_in_conceptnet</th>\n",
       "      <th>cn_hierarchy_confirmed</th>\n",
       "      <th>shortest_paths_diferences</th>\n",
       "      <th>shortest_paths_diferences_mean</th>\n",
       "    </tr>\n",
       "  </thead>\n",
       "  <tbody>\n",
       "    <tr>\n",
       "      <th>936</th>\n",
       "      <td>aaa</td>\n",
       "      <td>1</td>\n",
       "      <td>[price, use, battery, ac, blackberry, recharge...</td>\n",
       "      <td>[1, 1, 1, 1, 1, 1, 1, 1, 1, 1]</td>\n",
       "      <td>[11, 6, 4, 5, 5, 8, 4, 5, 4, 3]</td>\n",
       "      <td>[price, use, battery, ac, blackberry, recharge...</td>\n",
       "      <td>[]</td>\n",
       "      <td>[10, 5, 3, 4, 4, 7, 3, 4, 3, 2]</td>\n",
       "      <td>4.500000</td>\n",
       "    </tr>\n",
       "    <tr>\n",
       "      <th>937</th>\n",
       "      <td>aaa</td>\n",
       "      <td>2</td>\n",
       "      <td>[case, video camera, quality, shipping, russia...</td>\n",
       "      <td>[2, 2, 2, 2, 2, 2, 2, 2, 2, 2, 2, 2, 2, 2, 2, ...</td>\n",
       "      <td>[4, 6, 7, 5, 4, 4, 5, 5, 5, 5, 4, 5, 5, 4, 5, ...</td>\n",
       "      <td>[case, video camera, quality, shipping, russia...</td>\n",
       "      <td>[]</td>\n",
       "      <td>[2, 4, 5, 3, 2, 2, 3, 3, 3, 3, 2, 3, 3, 2, 3, ...</td>\n",
       "      <td>3.300000</td>\n",
       "    </tr>\n",
       "    <tr>\n",
       "      <th>938</th>\n",
       "      <td>aaa</td>\n",
       "      <td>3</td>\n",
       "      <td>[price, use, nook, battery, tablet, ac, update...</td>\n",
       "      <td>[3, 3, 3, 3, 3, 3, 3, 3, 3, 3, 3, 3, 3, 3, 3, ...</td>\n",
       "      <td>[11, 6, 5, 4, 6, 5, 6, 5, 6, 5, 5, 4, 10, 5, 6...</td>\n",
       "      <td>[price, use, nook, battery, tablet, ac, update...</td>\n",
       "      <td>[]</td>\n",
       "      <td>[8, 3, 2, 1, 3, 2, 3, 2, 3, 2, 2, 1, 7, 2, 3, ...</td>\n",
       "      <td>2.205882</td>\n",
       "    </tr>\n",
       "    <tr>\n",
       "      <th>3762</th>\n",
       "      <td>action</td>\n",
       "      <td>1</td>\n",
       "      <td>[]</td>\n",
       "      <td>[]</td>\n",
       "      <td>[7, 6, 4, 6, 10, 10, 5, 4, 6, 4, 5, 6, 7, 6, 5...</td>\n",
       "      <td>[]</td>\n",
       "      <td>[]</td>\n",
       "      <td>[6, 5, 3, 5, 9, 9, 4, 3, 5, 3, 4, 5, 6, 5, 4, ...</td>\n",
       "      <td>4.809907</td>\n",
       "    </tr>\n",
       "    <tr>\n",
       "      <th>3763</th>\n",
       "      <td>action</td>\n",
       "      <td>2</td>\n",
       "      <td>[]</td>\n",
       "      <td>[]</td>\n",
       "      <td>[7, 6, 4, 6, 10, 10, 5, 4, 6, 4, 5, 6, 7, 6, 5...</td>\n",
       "      <td>[]</td>\n",
       "      <td>[]</td>\n",
       "      <td>[5, 4, 2, 4, 8, 8, 3, 2, 4, 2, 3, 4, 5, 4, 3, ...</td>\n",
       "      <td>3.809907</td>\n",
       "    </tr>\n",
       "    <tr>\n",
       "      <th>...</th>\n",
       "      <td>...</td>\n",
       "      <td>...</td>\n",
       "      <td>...</td>\n",
       "      <td>...</td>\n",
       "      <td>...</td>\n",
       "      <td>...</td>\n",
       "      <td>...</td>\n",
       "      <td>...</td>\n",
       "      <td>...</td>\n",
       "    </tr>\n",
       "    <tr>\n",
       "      <th>2986</th>\n",
       "      <td>zodiac</td>\n",
       "      <td>2</td>\n",
       "      <td>[]</td>\n",
       "      <td>[]</td>\n",
       "      <td>[2, 2, 3, 2, 3, 2, 2, 3, 2, 2, 2, 2, 2, 2, 3, ...</td>\n",
       "      <td>[]</td>\n",
       "      <td>[]</td>\n",
       "      <td>[0, 0, 1, 0, 1, 0, 0, 1, 0, 0, 0, 0, 0, 0, 1, ...</td>\n",
       "      <td>0.321739</td>\n",
       "    </tr>\n",
       "    <tr>\n",
       "      <th>2987</th>\n",
       "      <td>zodiac</td>\n",
       "      <td>3</td>\n",
       "      <td>[]</td>\n",
       "      <td>[]</td>\n",
       "      <td>[2, 2, 3, 2, 3, 2, 2, 3, 2, 2, 2, 2, 2, 2, 3, ...</td>\n",
       "      <td>[]</td>\n",
       "      <td>[]</td>\n",
       "      <td>[-1, -1, 0, -1, 0, -1, -1, 0, -1, -1, -1, -1, ...</td>\n",
       "      <td>-0.678261</td>\n",
       "    </tr>\n",
       "    <tr>\n",
       "      <th>4632</th>\n",
       "      <td>zone</td>\n",
       "      <td>1</td>\n",
       "      <td>[]</td>\n",
       "      <td>[]</td>\n",
       "      <td>[1, 2, 1, 1, 1, 1, 1, 2, 1, 1, 2, 2, 1, 1, 1, ...</td>\n",
       "      <td>[]</td>\n",
       "      <td>[]</td>\n",
       "      <td>[0, 1, 0, 0, 0, 0, 0, 1, 0, 0, 1, 1, 0, 0, 0, ...</td>\n",
       "      <td>0.478261</td>\n",
       "    </tr>\n",
       "    <tr>\n",
       "      <th>4633</th>\n",
       "      <td>zone</td>\n",
       "      <td>2</td>\n",
       "      <td>[]</td>\n",
       "      <td>[]</td>\n",
       "      <td>[1, 2, 1, 1, 1, 1, 1, 2, 1, 1, 2, 2, 1, 1, 1, ...</td>\n",
       "      <td>[]</td>\n",
       "      <td>[]</td>\n",
       "      <td>[-1, 0, -1, -1, -1, -1, -1, 0, -1, -1, 0, 0, -...</td>\n",
       "      <td>-0.521739</td>\n",
       "    </tr>\n",
       "    <tr>\n",
       "      <th>4634</th>\n",
       "      <td>zone</td>\n",
       "      <td>3</td>\n",
       "      <td>[]</td>\n",
       "      <td>[]</td>\n",
       "      <td>[1, 2, 1, 1, 1, 1, 1, 2, 1, 1, 2, 2, 1, 1, 1, ...</td>\n",
       "      <td>[]</td>\n",
       "      <td>[]</td>\n",
       "      <td>[-2, -1, -2, -2, -2, -2, -2, -1, -2, -2, -1, -...</td>\n",
       "      <td>-1.521739</td>\n",
       "    </tr>\n",
       "  </tbody>\n",
       "</table>\n",
       "<p>2742 rows × 9 columns</p>\n",
       "</div>"
      ],
      "text/plain": [
       "        name  rank                                    neighbors_names  \\\n",
       "936      aaa     1  [price, use, battery, ac, blackberry, recharge...   \n",
       "937      aaa     2  [case, video camera, quality, shipping, russia...   \n",
       "938      aaa     3  [price, use, nook, battery, tablet, ac, update...   \n",
       "3762  action     1                                                 []   \n",
       "3763  action     2                                                 []   \n",
       "...      ...   ...                                                ...   \n",
       "2986  zodiac     2                                                 []   \n",
       "2987  zodiac     3                                                 []   \n",
       "4632    zone     1                                                 []   \n",
       "4633    zone     2                                                 []   \n",
       "4634    zone     3                                                 []   \n",
       "\n",
       "                                    neighbors_path_lens  \\\n",
       "936                      [1, 1, 1, 1, 1, 1, 1, 1, 1, 1]   \n",
       "937   [2, 2, 2, 2, 2, 2, 2, 2, 2, 2, 2, 2, 2, 2, 2, ...   \n",
       "938   [3, 3, 3, 3, 3, 3, 3, 3, 3, 3, 3, 3, 3, 3, 3, ...   \n",
       "3762                                                 []   \n",
       "3763                                                 []   \n",
       "...                                                 ...   \n",
       "2986                                                 []   \n",
       "2987                                                 []   \n",
       "4632                                                 []   \n",
       "4633                                                 []   \n",
       "4634                                                 []   \n",
       "\n",
       "                                 neighbors_cn_path_lens  \\\n",
       "936                     [11, 6, 4, 5, 5, 8, 4, 5, 4, 3]   \n",
       "937   [4, 6, 7, 5, 4, 4, 5, 5, 5, 5, 4, 5, 5, 4, 5, ...   \n",
       "938   [11, 6, 5, 4, 6, 5, 6, 5, 6, 5, 5, 4, 10, 5, 6...   \n",
       "3762  [7, 6, 4, 6, 10, 10, 5, 4, 6, 4, 5, 6, 7, 6, 5...   \n",
       "3763  [7, 6, 4, 6, 10, 10, 5, 4, 6, 4, 5, 6, 7, 6, 5...   \n",
       "...                                                 ...   \n",
       "2986  [2, 2, 3, 2, 3, 2, 2, 3, 2, 2, 2, 2, 2, 2, 3, ...   \n",
       "2987  [2, 2, 3, 2, 3, 2, 2, 3, 2, 2, 2, 2, 2, 2, 3, ...   \n",
       "4632  [1, 2, 1, 1, 1, 1, 1, 2, 1, 1, 2, 2, 1, 1, 1, ...   \n",
       "4633  [1, 2, 1, 1, 1, 1, 1, 2, 1, 1, 2, 2, 1, 1, 1, ...   \n",
       "4634  [1, 2, 1, 1, 1, 1, 1, 2, 1, 1, 2, 2, 1, 1, 1, ...   \n",
       "\n",
       "                              aspects_not_in_conceptnet  \\\n",
       "936   [price, use, battery, ac, blackberry, recharge...   \n",
       "937   [case, video camera, quality, shipping, russia...   \n",
       "938   [price, use, nook, battery, tablet, ac, update...   \n",
       "3762                                                 []   \n",
       "3763                                                 []   \n",
       "...                                                 ...   \n",
       "2986                                                 []   \n",
       "2987                                                 []   \n",
       "4632                                                 []   \n",
       "4633                                                 []   \n",
       "4634                                                 []   \n",
       "\n",
       "     cn_hierarchy_confirmed  \\\n",
       "936                      []   \n",
       "937                      []   \n",
       "938                      []   \n",
       "3762                     []   \n",
       "3763                     []   \n",
       "...                     ...   \n",
       "2986                     []   \n",
       "2987                     []   \n",
       "4632                     []   \n",
       "4633                     []   \n",
       "4634                     []   \n",
       "\n",
       "                              shortest_paths_diferences  \\\n",
       "936                     [10, 5, 3, 4, 4, 7, 3, 4, 3, 2]   \n",
       "937   [2, 4, 5, 3, 2, 2, 3, 3, 3, 3, 2, 3, 3, 2, 3, ...   \n",
       "938   [8, 3, 2, 1, 3, 2, 3, 2, 3, 2, 2, 1, 7, 2, 3, ...   \n",
       "3762  [6, 5, 3, 5, 9, 9, 4, 3, 5, 3, 4, 5, 6, 5, 4, ...   \n",
       "3763  [5, 4, 2, 4, 8, 8, 3, 2, 4, 2, 3, 4, 5, 4, 3, ...   \n",
       "...                                                 ...   \n",
       "2986  [0, 0, 1, 0, 1, 0, 0, 1, 0, 0, 0, 0, 0, 0, 1, ...   \n",
       "2987  [-1, -1, 0, -1, 0, -1, -1, 0, -1, -1, -1, -1, ...   \n",
       "4632  [0, 1, 0, 0, 0, 0, 0, 1, 0, 0, 1, 1, 0, 0, 0, ...   \n",
       "4633  [-1, 0, -1, -1, -1, -1, -1, 0, -1, -1, 0, 0, -...   \n",
       "4634  [-2, -1, -2, -2, -2, -2, -2, -1, -2, -2, -1, -...   \n",
       "\n",
       "      shortest_paths_diferences_mean  \n",
       "936                         4.500000  \n",
       "937                         3.300000  \n",
       "938                         2.205882  \n",
       "3762                        4.809907  \n",
       "3763                        3.809907  \n",
       "...                              ...  \n",
       "2986                        0.321739  \n",
       "2987                       -0.678261  \n",
       "4632                        0.478261  \n",
       "4633                       -0.521739  \n",
       "4634                       -1.521739  \n",
       "\n",
       "[2742 rows x 9 columns]"
      ]
     },
     "execution_count": 147,
     "metadata": {},
     "output_type": "execute_result"
    }
   ],
   "source": [
    "neighborhood_df"
   ]
  },
  {
   "cell_type": "markdown",
   "metadata": {},
   "source": [
    "# Paths differences analysis"
   ]
  },
  {
   "cell_type": "markdown",
   "metadata": {},
   "source": [
    "## Average shortest paths difference"
   ]
  },
  {
   "cell_type": "code",
   "execution_count": 159,
   "metadata": {
    "ExecuteTime": {
     "end_time": "2020-04-19T10:43:54.993860Z",
     "start_time": "2020-04-19T10:43:54.637070Z"
    }
   },
   "outputs": [
    {
     "name": "stdout",
     "output_type": "stream",
     "text": [
      "Average for rank 1: 3.672469578176359\n",
      "Average for rank 2: 2.9068762685740457\n",
      "Average for rank 3: 1.8597841738657395\n"
     ]
    },
    {
     "data": {
      "text/plain": [
       "<matplotlib.legend.Legend at 0x7f6f574ab190>"
      ]
     },
     "execution_count": 159,
     "metadata": {},
     "output_type": "execute_result"
    },
    {
     "data": {
      "image/png": "[encoded data removed]",
      "text/plain": [
       "<Figure size 432x288 with 1 Axes>"
      ]
     },
     "metadata": {
      "needs_background": "light"
     },
     "output_type": "display_data"
    }
   ],
   "source": [
    "ranks = []\n",
    "for r, group in neighborhood_df.groupby('rank'):\n",
    "    ranks += [f'Rank {r}']\n",
    "    print(f'Average for rank {r}: {group.shortest_paths_diferences_mean.mean()}')\n",
    "    group.shortest_paths_diferences_mean.hist(bins=20)\n",
    "plt.legend(ranks)"
   ]
  },
  {
   "cell_type": "code",
   "execution_count": null,
   "metadata": {},
   "outputs": [],
   "source": []
  }
 ],
 "metadata": {
  "kernelspec": {
   "display_name": "Python 3",
   "language": "python",
   "name": "python3"
  },
  "language_info": {
   "codemirror_mode": {
    "name": "ipython",
    "version": 3
   },
   "file_extension": ".py",
   "mimetype": "text/x-python",
   "name": "python",
   "nbconvert_exporter": "python",
   "pygments_lexer": "ipython3",
   "version": "3.8.2"
  },
  "toc": {
   "base_numbering": 1,
   "nav_menu": {},
   "number_sections": true,
   "sideBar": true,
   "skip_h1_title": false,
   "title_cell": "Table of Contents",
   "title_sidebar": "Contents",
   "toc_cell": false,
   "toc_position": {},
   "toc_section_display": true,
   "toc_window_display": false
  }
 },
 "nbformat": 4,
 "nbformat_minor": 2
}
