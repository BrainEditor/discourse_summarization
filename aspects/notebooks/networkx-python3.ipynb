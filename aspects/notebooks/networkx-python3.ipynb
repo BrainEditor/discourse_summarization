{
 "cells": [
  {
   "cell_type": "code",
   "execution_count": null,
   "metadata": {},
   "outputs": [],
   "source": [
    "# python 3, local -> source python3.6"
   ]
  },
  {
   "cell_type": "code",
   "execution_count": 6,
   "metadata": {},
   "outputs": [],
   "source": [
    "# !jupyter nbextension enable --py --sys-prefix widgetsnbextension\n",
    "# !jupyter nbextension enable --py widgetsnbextension"
   ]
  },
  {
   "cell_type": "code",
   "execution_count": 1,
   "metadata": {
    "ExecuteTime": {
     "end_time": "2019-03-27T06:45:05.453486Z",
     "start_time": "2019-03-27T06:45:04.603302Z"
    }
   },
   "outputs": [],
   "source": [
    "from pathlib import Path\n",
    "\n",
    "from collections import Counter, OrderedDict\n",
    "from operator import itemgetter\n",
    "from math import sqrt\n",
    "from datetime import datetime\n",
    "\n",
    "import pandas as pd\n",
    "import networkx as nx\n",
    "import json\n",
    "from networkx.readwrite import json_graph\n",
    "import matplotlib.pyplot as plt\n",
    "from typing import Dict\n",
    "\n",
    "from tqdm import tnrange, tqdm_notebook\n",
    "\n",
    "%matplotlib inline"
   ]
  },
  {
   "cell_type": "code",
   "execution_count": 2,
   "metadata": {
    "ExecuteTime": {
     "end_time": "2019-03-27T06:45:05.457222Z",
     "start_time": "2019-03-27T06:45:05.455260Z"
    }
   },
   "outputs": [],
   "source": [
    "apsect_results_path = Path('')"
   ]
  },
  {
   "cell_type": "code",
   "execution_count": 3,
   "metadata": {
    "ExecuteTime": {
     "end_time": "2019-03-27T06:45:05.672641Z",
     "start_time": "2019-03-27T06:45:05.665158Z"
    }
   },
   "outputs": [],
   "source": [
    "aspects_graphs = {\n",
    "    'reviews_Apps_for_Android': '../results/amazon-apps-for-android/aspects_graph.gexf',\n",
    "#     'ipod-all-edges': '../results/ipod/aspects_graph_based_on_rules_only.gexf',\n",
    "#     'ipod': '../results/ipod/aspects_graph.gpkl',\n",
    "#     'Diaper Champ': '../results/Diaper Champ/aspects_graph.gpkl',\n",
    "#     'norton': '../results/norton/aspects_graph.gpkl',\n",
    "#     'Linksys Router': '../results/Linksys Router/aspects_graph.gpkl',\n",
    "#     'MicroMP3': '../results/MicroMP3/aspects_graph.gpkl',\n",
    "#     'Canon_S100': '../results/Canon_S100/aspects_graph.gpkl',\n",
    "#     'Canon PowerShot SD500': '../results/Canon PowerShot SD500/aspects_graph.gpkl',\n",
    "#     'Nokia 6600': '../results/Nokia 6600/aspects_graph.gpkl',\n",
    "#     '': '../results/Nokia 6600/aspects_graph.gpkl',\n",
    "}"
   ]
  },
  {
   "cell_type": "code",
   "execution_count": 4,
   "metadata": {
    "ExecuteTime": {
     "end_time": "2019-03-27T06:45:06.336333Z",
     "start_time": "2019-03-27T06:45:06.321162Z"
    }
   },
   "outputs": [
    {
     "data": {
      "text/plain": [
       "dict_items([('reviews_Apps_for_Android', '../results/amazon-apps-for-android/aspects_graph.gexf')])"
      ]
     },
     "execution_count": 4,
     "metadata": {},
     "output_type": "execute_result"
    }
   ],
   "source": [
    "aspects_graphs.items()"
   ]
  },
  {
   "cell_type": "code",
   "execution_count": 5,
   "metadata": {
    "ExecuteTime": {
     "end_time": "2019-03-27T06:45:06.871779Z",
     "start_time": "2019-03-27T06:45:06.865965Z"
    }
   },
   "outputs": [],
   "source": [
    "# sorted(aspect_graph.in_degree(), key=itemgetter(1), reverse=True)"
   ]
  },
  {
   "cell_type": "code",
   "execution_count": 6,
   "metadata": {
    "ExecuteTime": {
     "end_time": "2019-03-27T06:45:07.659515Z",
     "start_time": "2019-03-27T06:45:07.654128Z"
    }
   },
   "outputs": [],
   "source": [
    "# nx.read_gexf('../results/ipod/aspects_graph_based_on_rules_only.gexf')\n",
    "# nx.read_gpickle('../results/ipod/aspects_graph.gpkl')"
   ]
  },
  {
   "cell_type": "code",
   "execution_count": 7,
   "metadata": {
    "ExecuteTime": {
     "end_time": "2019-03-27T06:45:07.893804Z",
     "start_time": "2019-03-27T06:45:07.889062Z"
    }
   },
   "outputs": [],
   "source": [
    "# aspect_graph = nx.read_gpickle(aspects_graphs['ipod'])\n",
    "# sorted([d for n, d in nx.pagerank_scipy(aspect_graph, weight='weight').items()], reverse=True)  # degree sequence\n",
    "# sorted(nx.pagerank_scipy(aspect_graph, weight='weight').items(), key=itemgetter(1), reverse=True)"
   ]
  },
  {
   "cell_type": "markdown",
   "metadata": {},
   "source": [
    "# Degree Distribution"
   ]
  },
  {
   "cell_type": "code",
   "execution_count": 8,
   "metadata": {
    "ExecuteTime": {
     "end_time": "2019-03-27T06:45:08.840780Z",
     "start_time": "2019-03-27T06:45:08.762188Z"
    }
   },
   "outputs": [],
   "source": [
    "def draw_degree_distribution(aspects_graphs: Dict, degree_threshold: int = 5):\n",
    "    n_subplots = len(aspects_graphs)\n",
    "    for dataset_name, aspects_graph_path in aspects_graphs.items():\n",
    "        \n",
    "        start_time = datetime.now()\n",
    "        print(f'Start analysis for {dataset_name} in {datetime.now().strftime(\"%Y-%m-%d %H:%M:%S\")}')\n",
    "        print(f'Graph to load {aspects_graph_path}')\n",
    "        if 'gpkl' in aspects_graph_path:\n",
    "            aspect_graph = nx.read_gpickle(aspects_graph_path)\n",
    "        elif 'gexf' in aspects_graph_path:\n",
    "            aspect_graph = nx.read_gexf(aspects_graph_path)\n",
    "        else:\n",
    "            raise Exception('Wrong graph type')\n",
    "        \n",
    "        degree_sequence = sorted([d for n, d in aspect_graph.degree()], reverse=True)  # degree sequence\n",
    "        degreeCount = {degree:count for degree, count in Counter(degree_sequence).items() if count > degree_threshold}\n",
    "        deg, cnt = zip(*degreeCount.items())\n",
    "        fig, ax = plt.subplots(figsize=(30, 10))\n",
    "        plt.bar(deg, cnt, width=0.845, color='b')\n",
    "        plt.title(f'Degree Histogram {dataset_name}')\n",
    "        plt.ylabel('Count')\n",
    "        plt.xlabel('Degree')\n",
    "        ax.set_xticks([d + 0.4 for d in deg])\n",
    "        ax.set_xticklabels(deg)\n",
    "        plt.show()\n",
    "        \n",
    "        # PageRank\n",
    "        page_ranks = sorted(nx.pagerank_scipy(aspect_graph, weight='weight').items(), key=itemgetter(1), reverse=True)\n",
    "        pd.Series([x[1] for x in page_ranks]).plot(kind='hist')\n",
    "        plt.title(f'PageRank Histogram {dataset_name}')\n",
    "        plt.ylabel('Count')\n",
    "        plt.xlabel('PageRank')\n",
    "        \n",
    "        # draw network with PageRank as node size\n",
    "        print(f'Start PR drawing {datetime.now().strftime(\"%Y-%m-%d %H:%M:%S\")}')\n",
    "        nodes = []\n",
    "        values = []\n",
    "        for node, val in  nx.pagerank_scipy(aspect_graph).items():\n",
    "            nodes.append(node)\n",
    "            values.append(val * 1000000)\n",
    "        plt.figure(figsize=(60, 30))\n",
    "        pos = nx.spring_layout(aspect_graph, k=5)\n",
    "        nx.draw(aspect_graph,\n",
    "                pos=pos,\n",
    "                with_labels=True,\n",
    "                font_size=24,\n",
    "                font_weight='bold', \n",
    "                nodelist=nodes,\n",
    "                node_size=values,\n",
    "                arrows=True\n",
    "               )\n",
    "        plt.savefig(f'vis/{dataset_name}.png', format=\"PNG\")\n",
    "        plt.show()\n",
    "    \n",
    "        d = json_graph.node_link_data(aspect_graph)\n",
    "        with open(f'vis/{dataset_name}.json', 'w') as json_to_dump:\n",
    "            json.dump(d, json_to_dump)\n",
    "            \n",
    "        print(f'{dataset_name} took {datetime.now() - start_time}s')"
   ]
  },
  {
   "cell_type": "code",
   "execution_count": 9,
   "metadata": {
    "ExecuteTime": {
     "end_time": "2019-03-27T06:45:09.404615Z",
     "start_time": "2019-03-27T06:45:09.108993Z"
    }
   },
   "outputs": [
    {
     "name": "stdout",
     "output_type": "stream",
     "text": [
      "Start analysis for reviews_Apps_for_Android in 2019-03-27 07:45:09\n",
      "Graph to load ../results/amazon-apps-for-android/aspects_graph.gexf\n"
     ]
    },
    {
     "ename": "ParseError",
     "evalue": "not well-formed (invalid token): line 54108, column 18 (<string>)",
     "output_type": "error",
     "traceback": [
      "Traceback \u001b[0;36m(most recent call last)\u001b[0m:\n",
      "  File \u001b[1;32m\"/home/laugustyniak/anaconda3/lib/python3.6/site-packages/IPython/core/interactiveshell.py\"\u001b[0m, line \u001b[1;32m2963\u001b[0m, in \u001b[1;35mrun_code\u001b[0m\n    exec(code_obj, self.user_global_ns, self.user_ns)\n",
      "  File \u001b[1;32m\"<ipython-input-9-24022b8c08cf>\"\u001b[0m, line \u001b[1;32m1\u001b[0m, in \u001b[1;35m<module>\u001b[0m\n    draw_degree_distribution(aspects_graphs)\n",
      "  File \u001b[1;32m\"<ipython-input-8-2554afef9264>\"\u001b[0m, line \u001b[1;32m11\u001b[0m, in \u001b[1;35mdraw_degree_distribution\u001b[0m\n    aspect_graph = nx.read_gexf(aspects_graph_path)\n",
      "  File \u001b[1;32m\"<decorator-gen-570>\"\u001b[0m, line \u001b[1;32m2\u001b[0m, in \u001b[1;35mread_gexf\u001b[0m\n",
      "  File \u001b[1;32m\"/home/laugustyniak/anaconda3/lib/python3.6/site-packages/networkx/utils/decorators.py\"\u001b[0m, line \u001b[1;32m227\u001b[0m, in \u001b[1;35m_open_file\u001b[0m\n    result = func_to_be_decorated(*new_args, **kwargs)\n",
      "  File \u001b[1;32m\"/home/laugustyniak/anaconda3/lib/python3.6/site-packages/networkx/readwrite/gexf.py\"\u001b[0m, line \u001b[1;32m179\u001b[0m, in \u001b[1;35mread_gexf\u001b[0m\n    G = reader(path)\n",
      "  File \u001b[1;32m\"/home/laugustyniak/anaconda3/lib/python3.6/site-packages/networkx/readwrite/gexf.py\"\u001b[0m, line \u001b[1;32m618\u001b[0m, in \u001b[1;35m__call__\u001b[0m\n    self.xml = ElementTree(file=stream)\n",
      "  File \u001b[1;32m\"/home/laugustyniak/anaconda3/lib/python3.6/xml/etree/ElementTree.py\"\u001b[0m, line \u001b[1;32m557\u001b[0m, in \u001b[1;35m__init__\u001b[0m\n    self.parse(file)\n",
      "\u001b[0;36m  File \u001b[0;32m\"/home/laugustyniak/anaconda3/lib/python3.6/xml/etree/ElementTree.py\"\u001b[0;36m, line \u001b[0;32m597\u001b[0;36m, in \u001b[0;35mparse\u001b[0;36m\u001b[0m\n\u001b[0;31m    self._root = parser._parse_whole(source)\u001b[0m\n",
      "\u001b[0;36m  File \u001b[0;32m\"<string>\"\u001b[0;36m, line \u001b[0;32munknown\u001b[0m\n\u001b[0;31mParseError\u001b[0m\u001b[0;31m:\u001b[0m not well-formed (invalid token): line 54108, column 18\n"
     ]
    }
   ],
   "source": [
    "draw_degree_distribution(aspects_graphs)"
   ]
  },
  {
   "cell_type": "code",
   "execution_count": null,
   "metadata": {},
   "outputs": [],
   "source": [
    "# sorted(nx.pagerank_scipy(aspect_graph, weight='weight').items(), key=itemgetter(1), reverse=True)"
   ]
  },
  {
   "cell_type": "code",
   "execution_count": null,
   "metadata": {},
   "outputs": [],
   "source": [
    "components = [g for g in nx.strongly_connected_components(aspect_graph)]"
   ]
  },
  {
   "cell_type": "code",
   "execution_count": null,
   "metadata": {},
   "outputs": [],
   "source": [
    "len(components)"
   ]
  },
  {
   "cell_type": "code",
   "execution_count": null,
   "metadata": {},
   "outputs": [],
   "source": [
    "n = 10\n",
    "largest_components = sorted(nx.strongly_connected_component_subgraphs(aspect_graph), key=len, reverse=True)[1:n]"
   ]
  },
  {
   "cell_type": "code",
   "execution_count": null,
   "metadata": {},
   "outputs": [],
   "source": [
    "# [len(component) for component in sorted(nx.strongly_connected_component_subgraphs(aspect_graph), key=len, reverse=True)]"
   ]
  },
  {
   "cell_type": "code",
   "execution_count": 141,
   "metadata": {},
   "outputs": [],
   "source": [
    "# for index, component in tqdm_notebook(enumerate(largest_components)):\n",
    "#     print(f'Draw component id={index}')\n",
    "#     plt.figure()\n",
    "#     nx.draw(component, with_labels=True, font_weight='bold')\n",
    "# #     nx.savefig(f'component-{index}.pdf'.format(index))\n",
    "#     plt.show()"
   ]
  },
  {
   "cell_type": "code",
   "execution_count": 86,
   "metadata": {},
   "outputs": [
    {
     "ename": "NameError",
     "evalue": "name 'aspects_graph_path' is not defined",
     "output_type": "error",
     "traceback": [
      "\u001b[0;31m---------------------------------------\u001b[0m",
      "\u001b[0;31mNameError\u001b[0mTraceback (most recent call last)",
      "\u001b[0;32m<ipython-input-86-e9a633ddfb50>\u001b[0m in \u001b[0;36m<module>\u001b[0;34m()\u001b[0m\n\u001b[0;32m----> 1\u001b[0;31m \u001b[0maspects_graph_path\u001b[0m\u001b[0;34m\u001b[0m\u001b[0m\n\u001b[0m",
      "\u001b[0;31mNameError\u001b[0m: name 'aspects_graph_path' is not defined"
     ]
    }
   ],
   "source": []
  },
  {
   "cell_type": "code",
   "execution_count": 89,
   "metadata": {},
   "outputs": [],
   "source": []
  },
  {
   "cell_type": "code",
   "execution_count": 90,
   "metadata": {},
   "outputs": [
    {
     "data": {
      "text/plain": [
       "<networkx.classes.multidigraph.MultiDiGraph at 0x7fdc18a4add8>"
      ]
     },
     "execution_count": 90,
     "metadata": {},
     "output_type": "execute_result"
    }
   ],
   "source": [
    "aspect_graph"
   ]
  }
 ],
 "metadata": {
  "kernelspec": {
   "display_name": "Python 3",
   "language": "python",
   "name": "python3"
  },
  "language_info": {
   "codemirror_mode": {
    "name": "ipython",
    "version": 3
   },
   "file_extension": ".py",
   "mimetype": "text/x-python",
   "name": "python",
   "nbconvert_exporter": "python",
   "pygments_lexer": "ipython3",
   "version": "3.7.2"
  },
  "toc": {
   "base_numbering": 1,
   "nav_menu": {},
   "number_sections": true,
   "sideBar": true,
   "skip_h1_title": false,
   "title_cell": "Table of Contents",
   "title_sidebar": "Contents",
   "toc_cell": false,
   "toc_position": {},
   "toc_section_display": true,
   "toc_window_display": false
  }
 },
 "nbformat": 4,
 "nbformat_minor": 2
}
